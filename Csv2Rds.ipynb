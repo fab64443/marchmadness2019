{
 "cells": [
  {
   "cell_type": "code",
   "execution_count": 1,
   "metadata": {},
   "outputs": [],
   "source": [
    "library(dplyr,warn.conflicts=F)"
   ]
  },
  {
   "cell_type": "code",
   "execution_count": 7,
   "metadata": {},
   "outputs": [],
   "source": [
    "data <- read.csv('datafiles_csv/Teams.csv',stringsAsFactors=F)\n",
    "saveRDS(data,'datafiles_rds/Teams.rds')"
   ]
  },
  {
   "cell_type": "code",
   "execution_count": 8,
   "metadata": {},
   "outputs": [],
   "source": [
    "data <- read.csv('datafiles_csv/TeamConferences.csv',stringsAsFactors=F)\n",
    "saveRDS(data,'datafiles_rds/TeamConferences.rds')"
   ]
  },
  {
   "cell_type": "code",
   "execution_count": 9,
   "metadata": {},
   "outputs": [],
   "source": [
    "data <- read.csv('datafiles_csv/RegularSeasonDetailedResults.csv',stringsAsFactors=F)\n",
    "saveRDS(data,'datafiles_rds/RegularSeasonDetailedResults.rds')"
   ]
  },
  {
   "cell_type": "code",
   "execution_count": 10,
   "metadata": {},
   "outputs": [],
   "source": [
    "data <- read.csv('datafiles_csv/NCAATourneyDetailedResults.csv',stringsAsFactors=F)\n",
    "saveRDS(data,'datafiles_rds/NCAATourneyDetailedResults.rds')"
   ]
  },
  {
   "cell_type": "code",
   "execution_count": 2,
   "metadata": {},
   "outputs": [],
   "source": [
    "data <- read.csv('datafiles_csv/NCAATourneyCompactResults.csv',stringsAsFactors=F)\n",
    "saveRDS(data,'datafiles_rds/NCAATourneyCompactResults.rds')"
   ]
  },
  {
   "cell_type": "code",
   "execution_count": 11,
   "metadata": {},
   "outputs": [],
   "source": [
    "data <- read.csv('datafiles_csv/NCAATourneySeeds.csv',stringsAsFactors=F)\n",
    "saveRDS(data,'datafiles_rds/NCAATourneySeeds.rds')"
   ]
  },
  {
   "cell_type": "code",
   "execution_count": 12,
   "metadata": {},
   "outputs": [],
   "source": [
    "data <- read.csv('datafiles_csv/NCAATourneySlots.csv',stringsAsFactors=F)\n",
    "saveRDS(data,'datafiles_rds/NCAATourneySlots.rds')"
   ]
  },
  {
   "cell_type": "code",
   "execution_count": 13,
   "metadata": {},
   "outputs": [],
   "source": [
    "data <- read.csv('datafiles_csv/MasseyOrdinals.csv',stringsAsFactors=F)\n",
    "saveRDS(data,'datafiles_rds/MasseyOrdinals.rds')"
   ]
  },
  {
   "cell_type": "code",
   "execution_count": 14,
   "metadata": {},
   "outputs": [],
   "source": [
    "data <- read.csv('datafiles_csv/Conferences.csv',stringsAsFactors=F)\n",
    "saveRDS(data,'datafiles_rds/Conferences.rds')"
   ]
  },
  {
   "cell_type": "code",
   "execution_count": 15,
   "metadata": {},
   "outputs": [],
   "source": [
    "data <- read.csv('datafiles_csv/Cities.csv',stringsAsFactors=F)\n",
    "saveRDS(data,'datafiles_rds/Cities.rds')"
   ]
  },
  {
   "cell_type": "code",
   "execution_count": 16,
   "metadata": {},
   "outputs": [],
   "source": [
    "data <- read.csv('datafiles_csv/GameCities.csv',stringsAsFactors=F)\n",
    "saveRDS(data,'datafiles_rds/GameCities.rds')"
   ]
  },
  {
   "cell_type": "code",
   "execution_count": 1,
   "metadata": {},
   "outputs": [],
   "source": [
    "data <- read.csv('datafiles_csv/TeamSpellings.csv',stringsAsFactors=F)\n",
    "saveRDS(data,'datafiles_rds/TeamSpellings.rds')"
   ]
  },
  {
   "cell_type": "code",
   "execution_count": 2,
   "metadata": {},
   "outputs": [],
   "source": [
    "data <- read.csv('datafiles_csv/ConferenceTourneyGames.csv',stringsAsFactors=F)\n",
    "saveRDS(data,'datafiles_rds/ConferenceTourneyGames.rds')"
   ]
  },
  {
   "cell_type": "code",
   "execution_count": 2,
   "metadata": {},
   "outputs": [],
   "source": [
    "data <- read.csv('datafiles_csv/TeamConferences.csv',stringsAsFactors=F)\n",
    "saveRDS(data,'datafiles_rds/TeamConferences.rds')"
   ]
  },
  {
   "cell_type": "code",
   "execution_count": 2,
   "metadata": {},
   "outputs": [],
   "source": [
    "data <- read.csv('datafiles_csv/NCAATourneySeedRoundSlots.csv',stringsAsFactors=F)\n",
    "saveRDS(data,'datafiles_rds/NCAATourneySeedRoundSlots.rds')"
   ]
  },
  {
   "cell_type": "code",
   "execution_count": null,
   "metadata": {},
   "outputs": [],
   "source": []
  }
 ],
 "metadata": {
  "kernelspec": {
   "display_name": "R 3.5.0",
   "language": "R",
   "name": "ir35"
  },
  "language_info": {
   "codemirror_mode": "r",
   "file_extension": ".r",
   "mimetype": "text/x-r-source",
   "name": "R",
   "pygments_lexer": "r",
   "version": "3.5.1"
  }
 },
 "nbformat": 4,
 "nbformat_minor": 2
}
