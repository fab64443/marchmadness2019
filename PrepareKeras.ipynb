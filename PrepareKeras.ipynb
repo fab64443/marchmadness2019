{
 "cells": [
  {
   "cell_type": "code",
   "execution_count": 1,
   "metadata": {},
   "outputs": [],
   "source": [
    "# Load required packages\n",
    "library(dplyr,warn.conflicts=F)\n",
    "library(stringr,warn.conflicts=F)\n",
    "library(psych,warn.conflicts=F)\n",
    "library(lplyr,warn.conflicts=F)\n",
    "library(tidyr,warn.conflicts=F)"
   ]
  },
  {
   "cell_type": "code",
   "execution_count": 2,
   "metadata": {},
   "outputs": [],
   "source": [
    "library(tictoc,warn.conflicts=F)"
   ]
  },
  {
   "cell_type": "markdown",
   "metadata": {},
   "source": [
    "#### From Matchups stats to Teams stats"
   ]
  },
  {
   "cell_type": "code",
   "execution_count": 3,
   "metadata": {},
   "outputs": [],
   "source": [
    "# load the stats and keep 2014+\n",
    "data.regulars <- readRDS('datafiles_rds/RegularSeasonDetailedResults.rds')\n",
    "data.regulars %>% filter(Season>2013) -> data.regulars"
   ]
  },
  {
   "cell_type": "code",
   "execution_count": 4,
   "metadata": {},
   "outputs": [
    {
     "data": {
      "text/html": [
       "<table>\n",
       "<thead><tr><th scope=col>Season</th><th scope=col>n</th></tr></thead>\n",
       "<tbody>\n",
       "\t<tr><td>2014</td><td>5362</td></tr>\n",
       "\t<tr><td>2015</td><td>5354</td></tr>\n",
       "\t<tr><td>2016</td><td>5369</td></tr>\n",
       "\t<tr><td>2017</td><td>5395</td></tr>\n",
       "\t<tr><td>2018</td><td>5405</td></tr>\n",
       "</tbody>\n",
       "</table>\n"
      ],
      "text/latex": [
       "\\begin{tabular}{r|ll}\n",
       " Season & n\\\\\n",
       "\\hline\n",
       "\t 2014 & 5362\\\\\n",
       "\t 2015 & 5354\\\\\n",
       "\t 2016 & 5369\\\\\n",
       "\t 2017 & 5395\\\\\n",
       "\t 2018 & 5405\\\\\n",
       "\\end{tabular}\n"
      ],
      "text/markdown": [
       "\n",
       "| Season | n |\n",
       "|---|---|\n",
       "| 2014 | 5362 |\n",
       "| 2015 | 5354 |\n",
       "| 2016 | 5369 |\n",
       "| 2017 | 5395 |\n",
       "| 2018 | 5405 |\n",
       "\n"
      ],
      "text/plain": [
       "  Season n   \n",
       "1 2014   5362\n",
       "2 2015   5354\n",
       "3 2016   5369\n",
       "4 2017   5395\n",
       "5 2018   5405"
      ]
     },
     "metadata": {},
     "output_type": "display_data"
    }
   ],
   "source": [
    "data.regulars %>% group_by(Season) %>% summarise(n=n())"
   ]
  },
  {
   "cell_type": "code",
   "execution_count": 5,
   "metadata": {},
   "outputs": [],
   "source": [
    "# Winning teams stats\n",
    "data.regulars %>% \n",
    "    mutate(WW=1,WL=0) %>%\n",
    "    select_at(vars(Season,DayNum,starts_with('W'),WOppScore=LScore)) %>%\n",
    "    rename_at(vars(starts_with('W')),list(~str_remove(.,'^W'))) -> df.wteams\n",
    "\n",
    "# Losing teams stats\n",
    "data.regulars %>% \n",
    "    mutate(LW=0,LL=1) %>%\n",
    "    select_at(vars(Season,DayNum,starts_with('L'),LOppScore=WScore)) %>%\n",
    "    rename_at(vars(starts_with('L')),list(~str_remove(.,'^L'))) -> df.lteams\n",
    "\n",
    "# Merge stats\n",
    "df.wteams %>% \n",
    "    bind_rows(df.lteams) %>%\n",
    "    arrange(DayNum,TeamID) -> teams.stats\n",
    "\n",
    "teams.stats %>% \n",
    "    mutate_which(is.na(Loc),Loc='N') %>%\n",
    "    select(-Loc) -> teams.stats"
   ]
  },
  {
   "cell_type": "code",
   "execution_count": 6,
   "metadata": {},
   "outputs": [
    {
     "data": {
      "text/html": [
       "<table>\n",
       "<thead><tr><th scope=col>Season</th><th scope=col>n</th></tr></thead>\n",
       "<tbody>\n",
       "\t<tr><td>2014 </td><td>10724</td></tr>\n",
       "\t<tr><td>2015 </td><td>10708</td></tr>\n",
       "\t<tr><td>2016 </td><td>10738</td></tr>\n",
       "\t<tr><td>2017 </td><td>10790</td></tr>\n",
       "\t<tr><td>2018 </td><td>10810</td></tr>\n",
       "</tbody>\n",
       "</table>\n"
      ],
      "text/latex": [
       "\\begin{tabular}{r|ll}\n",
       " Season & n\\\\\n",
       "\\hline\n",
       "\t 2014  & 10724\\\\\n",
       "\t 2015  & 10708\\\\\n",
       "\t 2016  & 10738\\\\\n",
       "\t 2017  & 10790\\\\\n",
       "\t 2018  & 10810\\\\\n",
       "\\end{tabular}\n"
      ],
      "text/markdown": [
       "\n",
       "| Season | n |\n",
       "|---|---|\n",
       "| 2014  | 10724 |\n",
       "| 2015  | 10708 |\n",
       "| 2016  | 10738 |\n",
       "| 2017  | 10790 |\n",
       "| 2018  | 10810 |\n",
       "\n"
      ],
      "text/plain": [
       "  Season n    \n",
       "1 2014   10724\n",
       "2 2015   10708\n",
       "3 2016   10738\n",
       "4 2017   10790\n",
       "5 2018   10810"
      ]
     },
     "metadata": {},
     "output_type": "display_data"
    }
   ],
   "source": [
    "teams.stats %>% group_by(Season) %>% summarise(n=n())"
   ]
  },
  {
   "cell_type": "markdown",
   "metadata": {},
   "source": [
    "#### Compute regular new features"
   ]
  },
  {
   "cell_type": "code",
   "execution_count": 7,
   "metadata": {},
   "outputs": [],
   "source": [
    "# compute cumulative and average stats\n",
    "teams.stats %>%\n",
    "    group_by(Season,TeamID) %>%\n",
    "    mutate_at(vars(Score,OppScore,FGM,FGA,FGM3,FGA3,FTM,FTA,OR,DR,Ast,TO,Stl,Blk,PF,W,L),list(~cumsum,~cummean)) %>% \n",
    "    select(-c(Score,OppScore,FGM,FGA,FGM3,FGA3,FTM,FTA,OR,DR,Ast,TO,Stl,Blk,PF,W,L)) %>%\n",
    "    rename_all(list(~str_replace(.,'_cumsum','Sum'))) %>%\n",
    "    rename_all(list(~str_replace(.,'_cummean','Avg'))) %>%\n",
    "    ungroup() -> teams.stats.cumul"
   ]
  },
  {
   "cell_type": "code",
   "execution_count": 8,
   "metadata": {},
   "outputs": [
    {
     "data": {
      "text/html": [
       "<table>\n",
       "<thead><tr><th scope=col>Season</th><th scope=col>DayNum</th><th scope=col>TeamID</th><th scope=col>ScoreSum</th><th scope=col>OppScoreSum</th><th scope=col>FGMSum</th><th scope=col>FGASum</th><th scope=col>FGM3Sum</th><th scope=col>FGA3Sum</th><th scope=col>FTMSum</th><th scope=col>⋯</th><th scope=col>FTAAvg</th><th scope=col>ORAvg</th><th scope=col>DRAvg</th><th scope=col>AstAvg</th><th scope=col>TOAvg</th><th scope=col>StlAvg</th><th scope=col>BlkAvg</th><th scope=col>PFAvg</th><th scope=col>WAvg</th><th scope=col>LAvg</th></tr></thead>\n",
       "<tbody>\n",
       "\t<tr><td>2014     </td><td> 4       </td><td>1102     </td><td> 79      </td><td> 68      </td><td> 26      </td><td> 49      </td><td>10       </td><td> 15      </td><td>17       </td><td>⋯        </td><td>26.00000 </td><td>10.000000</td><td>30.00    </td><td>11.00000 </td><td>18.00000 </td><td>8.000000 </td><td>4.000000 </td><td>18.00000 </td><td>1.0000000</td><td>0.0000000</td></tr>\n",
       "\t<tr><td>2014     </td><td> 5       </td><td>1102     </td><td>142      </td><td>139      </td><td> 49      </td><td>102      </td><td>15       </td><td> 37      </td><td>29       </td><td>⋯        </td><td>22.50000 </td><td> 8.500000</td><td>28.00    </td><td>10.00000 </td><td>17.50000 </td><td>8.000000 </td><td>2.000000 </td><td>19.00000 </td><td>0.5000000</td><td>0.5000000</td></tr>\n",
       "\t<tr><td>2014     </td><td>10       </td><td>1102     </td><td>224      </td><td>223      </td><td> 76      </td><td>159      </td><td>27       </td><td> 63      </td><td>45       </td><td>⋯        </td><td>23.66667 </td><td> 9.000000</td><td>25.00    </td><td>11.66667 </td><td>15.66667 </td><td>6.666667 </td><td>1.666667 </td><td>21.00000 </td><td>0.3333333</td><td>0.6666667</td></tr>\n",
       "\t<tr><td>2014     </td><td>13       </td><td>1102     </td><td>291      </td><td>287      </td><td> 95      </td><td>204      </td><td>36       </td><td> 84      </td><td>65       </td><td>⋯        </td><td>24.25000 </td><td> 9.500000</td><td>23.75    </td><td>12.75000 </td><td>15.50000 </td><td>6.250000 </td><td>2.750000 </td><td>19.50000 </td><td>0.5000000</td><td>0.5000000</td></tr>\n",
       "\t<tr><td>2014     </td><td>23       </td><td>1102     </td><td>351      </td><td>370      </td><td>115      </td><td>247      </td><td>40       </td><td> 97      </td><td>81       </td><td>⋯        </td><td>24.60000 </td><td> 8.600000</td><td>22.80    </td><td>12.00000 </td><td>15.40000 </td><td>5.600000 </td><td>3.000000 </td><td>19.40000 </td><td>0.4000000</td><td>0.6000000</td></tr>\n",
       "\t<tr><td>2014     </td><td>26       </td><td>1102     </td><td>408      </td><td>451      </td><td>134      </td><td>293      </td><td>46       </td><td>119      </td><td>94       </td><td>⋯        </td><td>23.66667 </td><td> 7.833333</td><td>22.50    </td><td>12.00000 </td><td>15.83333 </td><td>5.333333 </td><td>3.166667 </td><td>19.16667 </td><td>0.3333333</td><td>0.6666667</td></tr>\n",
       "</tbody>\n",
       "</table>\n"
      ],
      "text/latex": [
       "\\begin{tabular}{r|lllllllllllllllllllllllllllllllllllll}\n",
       " Season & DayNum & TeamID & ScoreSum & OppScoreSum & FGMSum & FGASum & FGM3Sum & FGA3Sum & FTMSum & ⋯ & FTAAvg & ORAvg & DRAvg & AstAvg & TOAvg & StlAvg & BlkAvg & PFAvg & WAvg & LAvg\\\\\n",
       "\\hline\n",
       "\t 2014      &  4        & 1102      &  79       &  68       &  26       &  49       & 10        &  15       & 17        & ⋯         & 26.00000  & 10.000000 & 30.00     & 11.00000  & 18.00000  & 8.000000  & 4.000000  & 18.00000  & 1.0000000 & 0.0000000\\\\\n",
       "\t 2014      &  5        & 1102      & 142       & 139       &  49       & 102       & 15        &  37       & 29        & ⋯         & 22.50000  &  8.500000 & 28.00     & 10.00000  & 17.50000  & 8.000000  & 2.000000  & 19.00000  & 0.5000000 & 0.5000000\\\\\n",
       "\t 2014      & 10        & 1102      & 224       & 223       &  76       & 159       & 27        &  63       & 45        & ⋯         & 23.66667  &  9.000000 & 25.00     & 11.66667  & 15.66667  & 6.666667  & 1.666667  & 21.00000  & 0.3333333 & 0.6666667\\\\\n",
       "\t 2014      & 13        & 1102      & 291       & 287       &  95       & 204       & 36        &  84       & 65        & ⋯         & 24.25000  &  9.500000 & 23.75     & 12.75000  & 15.50000  & 6.250000  & 2.750000  & 19.50000  & 0.5000000 & 0.5000000\\\\\n",
       "\t 2014      & 23        & 1102      & 351       & 370       & 115       & 247       & 40        &  97       & 81        & ⋯         & 24.60000  &  8.600000 & 22.80     & 12.00000  & 15.40000  & 5.600000  & 3.000000  & 19.40000  & 0.4000000 & 0.6000000\\\\\n",
       "\t 2014      & 26        & 1102      & 408       & 451       & 134       & 293       & 46        & 119       & 94        & ⋯         & 23.66667  &  7.833333 & 22.50     & 12.00000  & 15.83333  & 5.333333  & 3.166667  & 19.16667  & 0.3333333 & 0.6666667\\\\\n",
       "\\end{tabular}\n"
      ],
      "text/markdown": [
       "\n",
       "| Season | DayNum | TeamID | ScoreSum | OppScoreSum | FGMSum | FGASum | FGM3Sum | FGA3Sum | FTMSum | ⋯ | FTAAvg | ORAvg | DRAvg | AstAvg | TOAvg | StlAvg | BlkAvg | PFAvg | WAvg | LAvg |\n",
       "|---|---|---|---|---|---|---|---|---|---|---|---|---|---|---|---|---|---|---|---|---|\n",
       "| 2014      |  4        | 1102      |  79       |  68       |  26       |  49       | 10        |  15       | 17        | ⋯         | 26.00000  | 10.000000 | 30.00     | 11.00000  | 18.00000  | 8.000000  | 4.000000  | 18.00000  | 1.0000000 | 0.0000000 |\n",
       "| 2014      |  5        | 1102      | 142       | 139       |  49       | 102       | 15        |  37       | 29        | ⋯         | 22.50000  |  8.500000 | 28.00     | 10.00000  | 17.50000  | 8.000000  | 2.000000  | 19.00000  | 0.5000000 | 0.5000000 |\n",
       "| 2014      | 10        | 1102      | 224       | 223       |  76       | 159       | 27        |  63       | 45        | ⋯         | 23.66667  |  9.000000 | 25.00     | 11.66667  | 15.66667  | 6.666667  | 1.666667  | 21.00000  | 0.3333333 | 0.6666667 |\n",
       "| 2014      | 13        | 1102      | 291       | 287       |  95       | 204       | 36        |  84       | 65        | ⋯         | 24.25000  |  9.500000 | 23.75     | 12.75000  | 15.50000  | 6.250000  | 2.750000  | 19.50000  | 0.5000000 | 0.5000000 |\n",
       "| 2014      | 23        | 1102      | 351       | 370       | 115       | 247       | 40        |  97       | 81        | ⋯         | 24.60000  |  8.600000 | 22.80     | 12.00000  | 15.40000  | 5.600000  | 3.000000  | 19.40000  | 0.4000000 | 0.6000000 |\n",
       "| 2014      | 26        | 1102      | 408       | 451       | 134       | 293       | 46        | 119       | 94        | ⋯         | 23.66667  |  7.833333 | 22.50     | 12.00000  | 15.83333  | 5.333333  | 3.166667  | 19.16667  | 0.3333333 | 0.6666667 |\n",
       "\n"
      ],
      "text/plain": [
       "  Season DayNum TeamID ScoreSum OppScoreSum FGMSum FGASum FGM3Sum FGA3Sum\n",
       "1 2014    4     1102    79       68          26     49    10       15    \n",
       "2 2014    5     1102   142      139          49    102    15       37    \n",
       "3 2014   10     1102   224      223          76    159    27       63    \n",
       "4 2014   13     1102   291      287          95    204    36       84    \n",
       "5 2014   23     1102   351      370         115    247    40       97    \n",
       "6 2014   26     1102   408      451         134    293    46      119    \n",
       "  FTMSum ⋯ FTAAvg   ORAvg     DRAvg AstAvg   TOAvg    StlAvg   BlkAvg  \n",
       "1 17     ⋯ 26.00000 10.000000 30.00 11.00000 18.00000 8.000000 4.000000\n",
       "2 29     ⋯ 22.50000  8.500000 28.00 10.00000 17.50000 8.000000 2.000000\n",
       "3 45     ⋯ 23.66667  9.000000 25.00 11.66667 15.66667 6.666667 1.666667\n",
       "4 65     ⋯ 24.25000  9.500000 23.75 12.75000 15.50000 6.250000 2.750000\n",
       "5 81     ⋯ 24.60000  8.600000 22.80 12.00000 15.40000 5.600000 3.000000\n",
       "6 94     ⋯ 23.66667  7.833333 22.50 12.00000 15.83333 5.333333 3.166667\n",
       "  PFAvg    WAvg      LAvg     \n",
       "1 18.00000 1.0000000 0.0000000\n",
       "2 19.00000 0.5000000 0.5000000\n",
       "3 21.00000 0.3333333 0.6666667\n",
       "4 19.50000 0.5000000 0.5000000\n",
       "5 19.40000 0.4000000 0.6000000\n",
       "6 19.16667 0.3333333 0.6666667"
      ]
     },
     "metadata": {},
     "output_type": "display_data"
    },
    {
     "data": {
      "text/html": [
       "<table>\n",
       "<thead><tr><th scope=col>Season</th><th scope=col>DayNum</th><th scope=col>TeamID</th><th scope=col>ScoreSum</th><th scope=col>OppScoreSum</th><th scope=col>FGMSum</th><th scope=col>FGASum</th><th scope=col>FGM3Sum</th><th scope=col>FGA3Sum</th><th scope=col>FTMSum</th><th scope=col>⋯</th><th scope=col>FTAAvg</th><th scope=col>ORAvg</th><th scope=col>DRAvg</th><th scope=col>AstAvg</th><th scope=col>TOAvg</th><th scope=col>StlAvg</th><th scope=col>BlkAvg</th><th scope=col>PFAvg</th><th scope=col>WAvg</th><th scope=col>LAvg</th></tr></thead>\n",
       "<tbody>\n",
       "\t<tr><td>2015     </td><td>11       </td><td>1102     </td><td> 78      </td><td> 84      </td><td> 31      </td><td> 62      </td><td> 6       </td><td> 19      </td><td>10       </td><td>⋯        </td><td>15.00000 </td><td>15.00000 </td><td>17.00000 </td><td>14.00000 </td><td>18.00000 </td><td>8.000000 </td><td>6.000000 </td><td>21.0     </td><td>0.0000000</td><td>1.0000000</td></tr>\n",
       "\t<tr><td>2015     </td><td>12       </td><td>1102     </td><td>146      </td><td>139      </td><td> 55      </td><td>105      </td><td>15       </td><td> 39      </td><td>21       </td><td>⋯        </td><td>14.50000 </td><td>13.50000 </td><td>19.50000 </td><td>15.50000 </td><td>18.00000 </td><td>5.500000 </td><td>4.000000 </td><td>21.5     </td><td>0.5000000</td><td>0.5000000</td></tr>\n",
       "\t<tr><td>2015     </td><td>22       </td><td>1102     </td><td>199      </td><td>207      </td><td> 73      </td><td>160      </td><td>19       </td><td> 59      </td><td>34       </td><td>⋯        </td><td>16.33333 </td><td>12.33333 </td><td>18.66667 </td><td>14.00000 </td><td>15.33333 </td><td>7.000000 </td><td>4.000000 </td><td>21.0     </td><td>0.3333333</td><td>0.6666667</td></tr>\n",
       "\t<tr><td>2015     </td><td>27       </td><td>1102     </td><td>261      </td><td>270      </td><td> 96      </td><td>207      </td><td>27       </td><td> 77      </td><td>42       </td><td>⋯        </td><td>14.50000 </td><td>11.25000 </td><td>18.50000 </td><td>12.75000 </td><td>16.00000 </td><td>8.250000 </td><td>4.000000 </td><td>20.5     </td><td>0.2500000</td><td>0.7500000</td></tr>\n",
       "\t<tr><td>2015     </td><td>30       </td><td>1102     </td><td>320      </td><td>304      </td><td>116      </td><td>260      </td><td>32       </td><td>101      </td><td>56       </td><td>⋯        </td><td>16.60000 </td><td>13.60000 </td><td>19.60000 </td><td>12.80000 </td><td>14.60000 </td><td>8.000000 </td><td>3.800000 </td><td>19.6     </td><td>0.4000000</td><td>0.6000000</td></tr>\n",
       "\t<tr><td>2015     </td><td>35       </td><td>1102     </td><td>397      </td><td>365      </td><td>143      </td><td>310      </td><td>41       </td><td>126      </td><td>70       </td><td>⋯        </td><td>16.66667 </td><td>12.83333 </td><td>20.00000 </td><td>14.16667 </td><td>14.33333 </td><td>7.666667 </td><td>3.833333 </td><td>19.0     </td><td>0.5000000</td><td>0.5000000</td></tr>\n",
       "</tbody>\n",
       "</table>\n"
      ],
      "text/latex": [
       "\\begin{tabular}{r|lllllllllllllllllllllllllllllllllllll}\n",
       " Season & DayNum & TeamID & ScoreSum & OppScoreSum & FGMSum & FGASum & FGM3Sum & FGA3Sum & FTMSum & ⋯ & FTAAvg & ORAvg & DRAvg & AstAvg & TOAvg & StlAvg & BlkAvg & PFAvg & WAvg & LAvg\\\\\n",
       "\\hline\n",
       "\t 2015      & 11        & 1102      &  78       &  84       &  31       &  62       &  6        &  19       & 10        & ⋯         & 15.00000  & 15.00000  & 17.00000  & 14.00000  & 18.00000  & 8.000000  & 6.000000  & 21.0      & 0.0000000 & 1.0000000\\\\\n",
       "\t 2015      & 12        & 1102      & 146       & 139       &  55       & 105       & 15        &  39       & 21        & ⋯         & 14.50000  & 13.50000  & 19.50000  & 15.50000  & 18.00000  & 5.500000  & 4.000000  & 21.5      & 0.5000000 & 0.5000000\\\\\n",
       "\t 2015      & 22        & 1102      & 199       & 207       &  73       & 160       & 19        &  59       & 34        & ⋯         & 16.33333  & 12.33333  & 18.66667  & 14.00000  & 15.33333  & 7.000000  & 4.000000  & 21.0      & 0.3333333 & 0.6666667\\\\\n",
       "\t 2015      & 27        & 1102      & 261       & 270       &  96       & 207       & 27        &  77       & 42        & ⋯         & 14.50000  & 11.25000  & 18.50000  & 12.75000  & 16.00000  & 8.250000  & 4.000000  & 20.5      & 0.2500000 & 0.7500000\\\\\n",
       "\t 2015      & 30        & 1102      & 320       & 304       & 116       & 260       & 32        & 101       & 56        & ⋯         & 16.60000  & 13.60000  & 19.60000  & 12.80000  & 14.60000  & 8.000000  & 3.800000  & 19.6      & 0.4000000 & 0.6000000\\\\\n",
       "\t 2015      & 35        & 1102      & 397       & 365       & 143       & 310       & 41        & 126       & 70        & ⋯         & 16.66667  & 12.83333  & 20.00000  & 14.16667  & 14.33333  & 7.666667  & 3.833333  & 19.0      & 0.5000000 & 0.5000000\\\\\n",
       "\\end{tabular}\n"
      ],
      "text/markdown": [
       "\n",
       "| Season | DayNum | TeamID | ScoreSum | OppScoreSum | FGMSum | FGASum | FGM3Sum | FGA3Sum | FTMSum | ⋯ | FTAAvg | ORAvg | DRAvg | AstAvg | TOAvg | StlAvg | BlkAvg | PFAvg | WAvg | LAvg |\n",
       "|---|---|---|---|---|---|---|---|---|---|---|---|---|---|---|---|---|---|---|---|---|\n",
       "| 2015      | 11        | 1102      |  78       |  84       |  31       |  62       |  6        |  19       | 10        | ⋯         | 15.00000  | 15.00000  | 17.00000  | 14.00000  | 18.00000  | 8.000000  | 6.000000  | 21.0      | 0.0000000 | 1.0000000 |\n",
       "| 2015      | 12        | 1102      | 146       | 139       |  55       | 105       | 15        |  39       | 21        | ⋯         | 14.50000  | 13.50000  | 19.50000  | 15.50000  | 18.00000  | 5.500000  | 4.000000  | 21.5      | 0.5000000 | 0.5000000 |\n",
       "| 2015      | 22        | 1102      | 199       | 207       |  73       | 160       | 19        |  59       | 34        | ⋯         | 16.33333  | 12.33333  | 18.66667  | 14.00000  | 15.33333  | 7.000000  | 4.000000  | 21.0      | 0.3333333 | 0.6666667 |\n",
       "| 2015      | 27        | 1102      | 261       | 270       |  96       | 207       | 27        |  77       | 42        | ⋯         | 14.50000  | 11.25000  | 18.50000  | 12.75000  | 16.00000  | 8.250000  | 4.000000  | 20.5      | 0.2500000 | 0.7500000 |\n",
       "| 2015      | 30        | 1102      | 320       | 304       | 116       | 260       | 32        | 101       | 56        | ⋯         | 16.60000  | 13.60000  | 19.60000  | 12.80000  | 14.60000  | 8.000000  | 3.800000  | 19.6      | 0.4000000 | 0.6000000 |\n",
       "| 2015      | 35        | 1102      | 397       | 365       | 143       | 310       | 41        | 126       | 70        | ⋯         | 16.66667  | 12.83333  | 20.00000  | 14.16667  | 14.33333  | 7.666667  | 3.833333  | 19.0      | 0.5000000 | 0.5000000 |\n",
       "\n"
      ],
      "text/plain": [
       "  Season DayNum TeamID ScoreSum OppScoreSum FGMSum FGASum FGM3Sum FGA3Sum\n",
       "1 2015   11     1102    78       84          31     62     6       19    \n",
       "2 2015   12     1102   146      139          55    105    15       39    \n",
       "3 2015   22     1102   199      207          73    160    19       59    \n",
       "4 2015   27     1102   261      270          96    207    27       77    \n",
       "5 2015   30     1102   320      304         116    260    32      101    \n",
       "6 2015   35     1102   397      365         143    310    41      126    \n",
       "  FTMSum ⋯ FTAAvg   ORAvg    DRAvg    AstAvg   TOAvg    StlAvg   BlkAvg   PFAvg\n",
       "1 10     ⋯ 15.00000 15.00000 17.00000 14.00000 18.00000 8.000000 6.000000 21.0 \n",
       "2 21     ⋯ 14.50000 13.50000 19.50000 15.50000 18.00000 5.500000 4.000000 21.5 \n",
       "3 34     ⋯ 16.33333 12.33333 18.66667 14.00000 15.33333 7.000000 4.000000 21.0 \n",
       "4 42     ⋯ 14.50000 11.25000 18.50000 12.75000 16.00000 8.250000 4.000000 20.5 \n",
       "5 56     ⋯ 16.60000 13.60000 19.60000 12.80000 14.60000 8.000000 3.800000 19.6 \n",
       "6 70     ⋯ 16.66667 12.83333 20.00000 14.16667 14.33333 7.666667 3.833333 19.0 \n",
       "  WAvg      LAvg     \n",
       "1 0.0000000 1.0000000\n",
       "2 0.5000000 0.5000000\n",
       "3 0.3333333 0.6666667\n",
       "4 0.2500000 0.7500000\n",
       "5 0.4000000 0.6000000\n",
       "6 0.5000000 0.5000000"
      ]
     },
     "metadata": {},
     "output_type": "display_data"
    }
   ],
   "source": [
    "teams.stats.cumul %>% filter(Season==2014,TeamID==1102) %>% head\n",
    "teams.stats.cumul %>% filter(Season==2015,TeamID==1102) %>% head"
   ]
  },
  {
   "cell_type": "code",
   "execution_count": 9,
   "metadata": {},
   "outputs": [],
   "source": [
    "# create missing row\n",
    "teams.stats.cumul %>% complete(Season=2014:2018,DayNum=1:140,TeamID) %>% \n",
    "    group_by(Season,TeamID) %>%\n",
    "    fill(everything()) %>%\n",
    "    ungroup() -> teams.stats.cumul"
   ]
  },
  {
   "cell_type": "code",
   "execution_count": 10,
   "metadata": {},
   "outputs": [
    {
     "data": {
      "text/html": [
       "<table>\n",
       "<thead><tr><th scope=col>Season</th><th scope=col>DayNum</th><th scope=col>TeamID</th><th scope=col>ScoreSum</th><th scope=col>OppScoreSum</th><th scope=col>FGMSum</th><th scope=col>FGASum</th><th scope=col>FGM3Sum</th><th scope=col>FGA3Sum</th><th scope=col>FTMSum</th><th scope=col>⋯</th><th scope=col>FTAAvg</th><th scope=col>ORAvg</th><th scope=col>DRAvg</th><th scope=col>AstAvg</th><th scope=col>TOAvg</th><th scope=col>StlAvg</th><th scope=col>BlkAvg</th><th scope=col>PFAvg</th><th scope=col>WAvg</th><th scope=col>LAvg</th></tr></thead>\n",
       "<tbody>\n",
       "\t<tr><td>2014     </td><td> 1       </td><td>1102     </td><td> NA      </td><td> NA      </td><td>NA       </td><td> NA      </td><td>NA       </td><td>NA       </td><td>NA       </td><td>⋯        </td><td>      NA </td><td>  NA     </td><td>NA       </td><td>      NA </td><td>      NA </td><td>      NA </td><td>      NA </td><td>NA       </td><td>       NA</td><td>       NA</td></tr>\n",
       "\t<tr><td>2014     </td><td> 2       </td><td>1102     </td><td> NA      </td><td> NA      </td><td>NA       </td><td> NA      </td><td>NA       </td><td>NA       </td><td>NA       </td><td>⋯        </td><td>      NA </td><td>  NA     </td><td>NA       </td><td>      NA </td><td>      NA </td><td>      NA </td><td>      NA </td><td>NA       </td><td>       NA</td><td>       NA</td></tr>\n",
       "\t<tr><td>2014     </td><td> 3       </td><td>1102     </td><td> NA      </td><td> NA      </td><td>NA       </td><td> NA      </td><td>NA       </td><td>NA       </td><td>NA       </td><td>⋯        </td><td>      NA </td><td>  NA     </td><td>NA       </td><td>      NA </td><td>      NA </td><td>      NA </td><td>      NA </td><td>NA       </td><td>       NA</td><td>       NA</td></tr>\n",
       "\t<tr><td>2014     </td><td> 4       </td><td>1102     </td><td> 79      </td><td> 68      </td><td>26       </td><td> 49      </td><td>10       </td><td>15       </td><td>17       </td><td>⋯        </td><td>26.00000 </td><td>10.0     </td><td>30       </td><td>11.00000 </td><td>18.00000 </td><td>8.000000 </td><td>4.000000 </td><td>18       </td><td>1.0000000</td><td>0.0000000</td></tr>\n",
       "\t<tr><td>2014     </td><td> 5       </td><td>1102     </td><td>142      </td><td>139      </td><td>49       </td><td>102      </td><td>15       </td><td>37       </td><td>29       </td><td>⋯        </td><td>22.50000 </td><td> 8.5     </td><td>28       </td><td>10.00000 </td><td>17.50000 </td><td>8.000000 </td><td>2.000000 </td><td>19       </td><td>0.5000000</td><td>0.5000000</td></tr>\n",
       "\t<tr><td>2014     </td><td> 6       </td><td>1102     </td><td>142      </td><td>139      </td><td>49       </td><td>102      </td><td>15       </td><td>37       </td><td>29       </td><td>⋯        </td><td>22.50000 </td><td> 8.5     </td><td>28       </td><td>10.00000 </td><td>17.50000 </td><td>8.000000 </td><td>2.000000 </td><td>19       </td><td>0.5000000</td><td>0.5000000</td></tr>\n",
       "\t<tr><td>2014     </td><td> 7       </td><td>1102     </td><td>142      </td><td>139      </td><td>49       </td><td>102      </td><td>15       </td><td>37       </td><td>29       </td><td>⋯        </td><td>22.50000 </td><td> 8.5     </td><td>28       </td><td>10.00000 </td><td>17.50000 </td><td>8.000000 </td><td>2.000000 </td><td>19       </td><td>0.5000000</td><td>0.5000000</td></tr>\n",
       "\t<tr><td>2014     </td><td> 8       </td><td>1102     </td><td>142      </td><td>139      </td><td>49       </td><td>102      </td><td>15       </td><td>37       </td><td>29       </td><td>⋯        </td><td>22.50000 </td><td> 8.5     </td><td>28       </td><td>10.00000 </td><td>17.50000 </td><td>8.000000 </td><td>2.000000 </td><td>19       </td><td>0.5000000</td><td>0.5000000</td></tr>\n",
       "\t<tr><td>2014     </td><td> 9       </td><td>1102     </td><td>142      </td><td>139      </td><td>49       </td><td>102      </td><td>15       </td><td>37       </td><td>29       </td><td>⋯        </td><td>22.50000 </td><td> 8.5     </td><td>28       </td><td>10.00000 </td><td>17.50000 </td><td>8.000000 </td><td>2.000000 </td><td>19       </td><td>0.5000000</td><td>0.5000000</td></tr>\n",
       "\t<tr><td>2014     </td><td>10       </td><td>1102     </td><td>224      </td><td>223      </td><td>76       </td><td>159      </td><td>27       </td><td>63       </td><td>45       </td><td>⋯        </td><td>23.66667 </td><td> 9.0     </td><td>25       </td><td>11.66667 </td><td>15.66667 </td><td>6.666667 </td><td>1.666667 </td><td>21       </td><td>0.3333333</td><td>0.6666667</td></tr>\n",
       "</tbody>\n",
       "</table>\n"
      ],
      "text/latex": [
       "\\begin{tabular}{r|lllllllllllllllllllllllllllllllllllll}\n",
       " Season & DayNum & TeamID & ScoreSum & OppScoreSum & FGMSum & FGASum & FGM3Sum & FGA3Sum & FTMSum & ⋯ & FTAAvg & ORAvg & DRAvg & AstAvg & TOAvg & StlAvg & BlkAvg & PFAvg & WAvg & LAvg\\\\\n",
       "\\hline\n",
       "\t 2014      &  1        & 1102      &  NA       &  NA       & NA        &  NA       & NA        & NA        & NA        & ⋯         &       NA  &   NA      & NA        &       NA  &       NA  &       NA  &       NA  & NA        &        NA &        NA\\\\\n",
       "\t 2014      &  2        & 1102      &  NA       &  NA       & NA        &  NA       & NA        & NA        & NA        & ⋯         &       NA  &   NA      & NA        &       NA  &       NA  &       NA  &       NA  & NA        &        NA &        NA\\\\\n",
       "\t 2014      &  3        & 1102      &  NA       &  NA       & NA        &  NA       & NA        & NA        & NA        & ⋯         &       NA  &   NA      & NA        &       NA  &       NA  &       NA  &       NA  & NA        &        NA &        NA\\\\\n",
       "\t 2014      &  4        & 1102      &  79       &  68       & 26        &  49       & 10        & 15        & 17        & ⋯         & 26.00000  & 10.0      & 30        & 11.00000  & 18.00000  & 8.000000  & 4.000000  & 18        & 1.0000000 & 0.0000000\\\\\n",
       "\t 2014      &  5        & 1102      & 142       & 139       & 49        & 102       & 15        & 37        & 29        & ⋯         & 22.50000  &  8.5      & 28        & 10.00000  & 17.50000  & 8.000000  & 2.000000  & 19        & 0.5000000 & 0.5000000\\\\\n",
       "\t 2014      &  6        & 1102      & 142       & 139       & 49        & 102       & 15        & 37        & 29        & ⋯         & 22.50000  &  8.5      & 28        & 10.00000  & 17.50000  & 8.000000  & 2.000000  & 19        & 0.5000000 & 0.5000000\\\\\n",
       "\t 2014      &  7        & 1102      & 142       & 139       & 49        & 102       & 15        & 37        & 29        & ⋯         & 22.50000  &  8.5      & 28        & 10.00000  & 17.50000  & 8.000000  & 2.000000  & 19        & 0.5000000 & 0.5000000\\\\\n",
       "\t 2014      &  8        & 1102      & 142       & 139       & 49        & 102       & 15        & 37        & 29        & ⋯         & 22.50000  &  8.5      & 28        & 10.00000  & 17.50000  & 8.000000  & 2.000000  & 19        & 0.5000000 & 0.5000000\\\\\n",
       "\t 2014      &  9        & 1102      & 142       & 139       & 49        & 102       & 15        & 37        & 29        & ⋯         & 22.50000  &  8.5      & 28        & 10.00000  & 17.50000  & 8.000000  & 2.000000  & 19        & 0.5000000 & 0.5000000\\\\\n",
       "\t 2014      & 10        & 1102      & 224       & 223       & 76        & 159       & 27        & 63        & 45        & ⋯         & 23.66667  &  9.0      & 25        & 11.66667  & 15.66667  & 6.666667  & 1.666667  & 21        & 0.3333333 & 0.6666667\\\\\n",
       "\\end{tabular}\n"
      ],
      "text/markdown": [
       "\n",
       "| Season | DayNum | TeamID | ScoreSum | OppScoreSum | FGMSum | FGASum | FGM3Sum | FGA3Sum | FTMSum | ⋯ | FTAAvg | ORAvg | DRAvg | AstAvg | TOAvg | StlAvg | BlkAvg | PFAvg | WAvg | LAvg |\n",
       "|---|---|---|---|---|---|---|---|---|---|---|---|---|---|---|---|---|---|---|---|---|\n",
       "| 2014      |  1        | 1102      |  NA       |  NA       | NA        |  NA       | NA        | NA        | NA        | ⋯         |       NA  |   NA      | NA        |       NA  |       NA  |       NA  |       NA  | NA        |        NA |        NA |\n",
       "| 2014      |  2        | 1102      |  NA       |  NA       | NA        |  NA       | NA        | NA        | NA        | ⋯         |       NA  |   NA      | NA        |       NA  |       NA  |       NA  |       NA  | NA        |        NA |        NA |\n",
       "| 2014      |  3        | 1102      |  NA       |  NA       | NA        |  NA       | NA        | NA        | NA        | ⋯         |       NA  |   NA      | NA        |       NA  |       NA  |       NA  |       NA  | NA        |        NA |        NA |\n",
       "| 2014      |  4        | 1102      |  79       |  68       | 26        |  49       | 10        | 15        | 17        | ⋯         | 26.00000  | 10.0      | 30        | 11.00000  | 18.00000  | 8.000000  | 4.000000  | 18        | 1.0000000 | 0.0000000 |\n",
       "| 2014      |  5        | 1102      | 142       | 139       | 49        | 102       | 15        | 37        | 29        | ⋯         | 22.50000  |  8.5      | 28        | 10.00000  | 17.50000  | 8.000000  | 2.000000  | 19        | 0.5000000 | 0.5000000 |\n",
       "| 2014      |  6        | 1102      | 142       | 139       | 49        | 102       | 15        | 37        | 29        | ⋯         | 22.50000  |  8.5      | 28        | 10.00000  | 17.50000  | 8.000000  | 2.000000  | 19        | 0.5000000 | 0.5000000 |\n",
       "| 2014      |  7        | 1102      | 142       | 139       | 49        | 102       | 15        | 37        | 29        | ⋯         | 22.50000  |  8.5      | 28        | 10.00000  | 17.50000  | 8.000000  | 2.000000  | 19        | 0.5000000 | 0.5000000 |\n",
       "| 2014      |  8        | 1102      | 142       | 139       | 49        | 102       | 15        | 37        | 29        | ⋯         | 22.50000  |  8.5      | 28        | 10.00000  | 17.50000  | 8.000000  | 2.000000  | 19        | 0.5000000 | 0.5000000 |\n",
       "| 2014      |  9        | 1102      | 142       | 139       | 49        | 102       | 15        | 37        | 29        | ⋯         | 22.50000  |  8.5      | 28        | 10.00000  | 17.50000  | 8.000000  | 2.000000  | 19        | 0.5000000 | 0.5000000 |\n",
       "| 2014      | 10        | 1102      | 224       | 223       | 76        | 159       | 27        | 63        | 45        | ⋯         | 23.66667  |  9.0      | 25        | 11.66667  | 15.66667  | 6.666667  | 1.666667  | 21        | 0.3333333 | 0.6666667 |\n",
       "\n"
      ],
      "text/plain": [
       "   Season DayNum TeamID ScoreSum OppScoreSum FGMSum FGASum FGM3Sum FGA3Sum\n",
       "1  2014    1     1102    NA       NA         NA      NA    NA      NA     \n",
       "2  2014    2     1102    NA       NA         NA      NA    NA      NA     \n",
       "3  2014    3     1102    NA       NA         NA      NA    NA      NA     \n",
       "4  2014    4     1102    79       68         26      49    10      15     \n",
       "5  2014    5     1102   142      139         49     102    15      37     \n",
       "6  2014    6     1102   142      139         49     102    15      37     \n",
       "7  2014    7     1102   142      139         49     102    15      37     \n",
       "8  2014    8     1102   142      139         49     102    15      37     \n",
       "9  2014    9     1102   142      139         49     102    15      37     \n",
       "10 2014   10     1102   224      223         76     159    27      63     \n",
       "   FTMSum ⋯ FTAAvg   ORAvg DRAvg AstAvg   TOAvg    StlAvg   BlkAvg   PFAvg\n",
       "1  NA     ⋯       NA   NA  NA          NA       NA       NA       NA NA   \n",
       "2  NA     ⋯       NA   NA  NA          NA       NA       NA       NA NA   \n",
       "3  NA     ⋯       NA   NA  NA          NA       NA       NA       NA NA   \n",
       "4  17     ⋯ 26.00000 10.0  30    11.00000 18.00000 8.000000 4.000000 18   \n",
       "5  29     ⋯ 22.50000  8.5  28    10.00000 17.50000 8.000000 2.000000 19   \n",
       "6  29     ⋯ 22.50000  8.5  28    10.00000 17.50000 8.000000 2.000000 19   \n",
       "7  29     ⋯ 22.50000  8.5  28    10.00000 17.50000 8.000000 2.000000 19   \n",
       "8  29     ⋯ 22.50000  8.5  28    10.00000 17.50000 8.000000 2.000000 19   \n",
       "9  29     ⋯ 22.50000  8.5  28    10.00000 17.50000 8.000000 2.000000 19   \n",
       "10 45     ⋯ 23.66667  9.0  25    11.66667 15.66667 6.666667 1.666667 21   \n",
       "   WAvg      LAvg     \n",
       "1         NA        NA\n",
       "2         NA        NA\n",
       "3         NA        NA\n",
       "4  1.0000000 0.0000000\n",
       "5  0.5000000 0.5000000\n",
       "6  0.5000000 0.5000000\n",
       "7  0.5000000 0.5000000\n",
       "8  0.5000000 0.5000000\n",
       "9  0.5000000 0.5000000\n",
       "10 0.3333333 0.6666667"
      ]
     },
     "metadata": {},
     "output_type": "display_data"
    },
    {
     "data": {
      "text/html": [
       "<table>\n",
       "<thead><tr><th scope=col>Season</th><th scope=col>DayNum</th><th scope=col>TeamID</th><th scope=col>ScoreSum</th><th scope=col>OppScoreSum</th><th scope=col>FGMSum</th><th scope=col>FGASum</th><th scope=col>FGM3Sum</th><th scope=col>FGA3Sum</th><th scope=col>FTMSum</th><th scope=col>⋯</th><th scope=col>FTAAvg</th><th scope=col>ORAvg</th><th scope=col>DRAvg</th><th scope=col>AstAvg</th><th scope=col>TOAvg</th><th scope=col>StlAvg</th><th scope=col>BlkAvg</th><th scope=col>PFAvg</th><th scope=col>WAvg</th><th scope=col>LAvg</th></tr></thead>\n",
       "<tbody>\n",
       "\t<tr><td>2015</td><td>10  </td><td>1102</td><td> NA </td><td> NA </td><td>NA  </td><td> NA </td><td>NA  </td><td>NA  </td><td>NA  </td><td>⋯   </td><td>  NA</td><td>  NA</td><td>  NA</td><td>  NA</td><td>NA  </td><td> NA </td><td>NA  </td><td>  NA</td><td> NA </td><td> NA </td></tr>\n",
       "\t<tr><td>2015</td><td>11  </td><td>1102</td><td> 78 </td><td> 84 </td><td>31  </td><td> 62 </td><td> 6  </td><td>19  </td><td>10  </td><td>⋯   </td><td>15.0</td><td>15.0</td><td>17.0</td><td>14.0</td><td>18  </td><td>8.0 </td><td> 6  </td><td>21.0</td><td>0.0 </td><td>1.0 </td></tr>\n",
       "\t<tr><td>2015</td><td>12  </td><td>1102</td><td>146 </td><td>139 </td><td>55  </td><td>105 </td><td>15  </td><td>39  </td><td>21  </td><td>⋯   </td><td>14.5</td><td>13.5</td><td>19.5</td><td>15.5</td><td>18  </td><td>5.5 </td><td> 4  </td><td>21.5</td><td>0.5 </td><td>0.5 </td></tr>\n",
       "\t<tr><td>2015</td><td>13  </td><td>1102</td><td>146 </td><td>139 </td><td>55  </td><td>105 </td><td>15  </td><td>39  </td><td>21  </td><td>⋯   </td><td>14.5</td><td>13.5</td><td>19.5</td><td>15.5</td><td>18  </td><td>5.5 </td><td> 4  </td><td>21.5</td><td>0.5 </td><td>0.5 </td></tr>\n",
       "\t<tr><td>2015</td><td>14  </td><td>1102</td><td>146 </td><td>139 </td><td>55  </td><td>105 </td><td>15  </td><td>39  </td><td>21  </td><td>⋯   </td><td>14.5</td><td>13.5</td><td>19.5</td><td>15.5</td><td>18  </td><td>5.5 </td><td> 4  </td><td>21.5</td><td>0.5 </td><td>0.5 </td></tr>\n",
       "\t<tr><td>2015</td><td>15  </td><td>1102</td><td>146 </td><td>139 </td><td>55  </td><td>105 </td><td>15  </td><td>39  </td><td>21  </td><td>⋯   </td><td>14.5</td><td>13.5</td><td>19.5</td><td>15.5</td><td>18  </td><td>5.5 </td><td> 4  </td><td>21.5</td><td>0.5 </td><td>0.5 </td></tr>\n",
       "\t<tr><td>2015</td><td>16  </td><td>1102</td><td>146 </td><td>139 </td><td>55  </td><td>105 </td><td>15  </td><td>39  </td><td>21  </td><td>⋯   </td><td>14.5</td><td>13.5</td><td>19.5</td><td>15.5</td><td>18  </td><td>5.5 </td><td> 4  </td><td>21.5</td><td>0.5 </td><td>0.5 </td></tr>\n",
       "\t<tr><td>2015</td><td>17  </td><td>1102</td><td>146 </td><td>139 </td><td>55  </td><td>105 </td><td>15  </td><td>39  </td><td>21  </td><td>⋯   </td><td>14.5</td><td>13.5</td><td>19.5</td><td>15.5</td><td>18  </td><td>5.5 </td><td> 4  </td><td>21.5</td><td>0.5 </td><td>0.5 </td></tr>\n",
       "\t<tr><td>2015</td><td>18  </td><td>1102</td><td>146 </td><td>139 </td><td>55  </td><td>105 </td><td>15  </td><td>39  </td><td>21  </td><td>⋯   </td><td>14.5</td><td>13.5</td><td>19.5</td><td>15.5</td><td>18  </td><td>5.5 </td><td> 4  </td><td>21.5</td><td>0.5 </td><td>0.5 </td></tr>\n",
       "\t<tr><td>2015</td><td>19  </td><td>1102</td><td>146 </td><td>139 </td><td>55  </td><td>105 </td><td>15  </td><td>39  </td><td>21  </td><td>⋯   </td><td>14.5</td><td>13.5</td><td>19.5</td><td>15.5</td><td>18  </td><td>5.5 </td><td> 4  </td><td>21.5</td><td>0.5 </td><td>0.5 </td></tr>\n",
       "</tbody>\n",
       "</table>\n"
      ],
      "text/latex": [
       "\\begin{tabular}{r|lllllllllllllllllllllllllllllllllllll}\n",
       " Season & DayNum & TeamID & ScoreSum & OppScoreSum & FGMSum & FGASum & FGM3Sum & FGA3Sum & FTMSum & ⋯ & FTAAvg & ORAvg & DRAvg & AstAvg & TOAvg & StlAvg & BlkAvg & PFAvg & WAvg & LAvg\\\\\n",
       "\\hline\n",
       "\t 2015 & 10   & 1102 &  NA  &  NA  & NA   &  NA  & NA   & NA   & NA   & ⋯    &   NA &   NA &   NA &   NA & NA   &  NA  & NA   &   NA &  NA  &  NA \\\\\n",
       "\t 2015 & 11   & 1102 &  78  &  84  & 31   &  62  &  6   & 19   & 10   & ⋯    & 15.0 & 15.0 & 17.0 & 14.0 & 18   & 8.0  &  6   & 21.0 & 0.0  & 1.0 \\\\\n",
       "\t 2015 & 12   & 1102 & 146  & 139  & 55   & 105  & 15   & 39   & 21   & ⋯    & 14.5 & 13.5 & 19.5 & 15.5 & 18   & 5.5  &  4   & 21.5 & 0.5  & 0.5 \\\\\n",
       "\t 2015 & 13   & 1102 & 146  & 139  & 55   & 105  & 15   & 39   & 21   & ⋯    & 14.5 & 13.5 & 19.5 & 15.5 & 18   & 5.5  &  4   & 21.5 & 0.5  & 0.5 \\\\\n",
       "\t 2015 & 14   & 1102 & 146  & 139  & 55   & 105  & 15   & 39   & 21   & ⋯    & 14.5 & 13.5 & 19.5 & 15.5 & 18   & 5.5  &  4   & 21.5 & 0.5  & 0.5 \\\\\n",
       "\t 2015 & 15   & 1102 & 146  & 139  & 55   & 105  & 15   & 39   & 21   & ⋯    & 14.5 & 13.5 & 19.5 & 15.5 & 18   & 5.5  &  4   & 21.5 & 0.5  & 0.5 \\\\\n",
       "\t 2015 & 16   & 1102 & 146  & 139  & 55   & 105  & 15   & 39   & 21   & ⋯    & 14.5 & 13.5 & 19.5 & 15.5 & 18   & 5.5  &  4   & 21.5 & 0.5  & 0.5 \\\\\n",
       "\t 2015 & 17   & 1102 & 146  & 139  & 55   & 105  & 15   & 39   & 21   & ⋯    & 14.5 & 13.5 & 19.5 & 15.5 & 18   & 5.5  &  4   & 21.5 & 0.5  & 0.5 \\\\\n",
       "\t 2015 & 18   & 1102 & 146  & 139  & 55   & 105  & 15   & 39   & 21   & ⋯    & 14.5 & 13.5 & 19.5 & 15.5 & 18   & 5.5  &  4   & 21.5 & 0.5  & 0.5 \\\\\n",
       "\t 2015 & 19   & 1102 & 146  & 139  & 55   & 105  & 15   & 39   & 21   & ⋯    & 14.5 & 13.5 & 19.5 & 15.5 & 18   & 5.5  &  4   & 21.5 & 0.5  & 0.5 \\\\\n",
       "\\end{tabular}\n"
      ],
      "text/markdown": [
       "\n",
       "| Season | DayNum | TeamID | ScoreSum | OppScoreSum | FGMSum | FGASum | FGM3Sum | FGA3Sum | FTMSum | ⋯ | FTAAvg | ORAvg | DRAvg | AstAvg | TOAvg | StlAvg | BlkAvg | PFAvg | WAvg | LAvg |\n",
       "|---|---|---|---|---|---|---|---|---|---|---|---|---|---|---|---|---|---|---|---|---|\n",
       "| 2015 | 10   | 1102 |  NA  |  NA  | NA   |  NA  | NA   | NA   | NA   | ⋯    |   NA |   NA |   NA |   NA | NA   |  NA  | NA   |   NA |  NA  |  NA  |\n",
       "| 2015 | 11   | 1102 |  78  |  84  | 31   |  62  |  6   | 19   | 10   | ⋯    | 15.0 | 15.0 | 17.0 | 14.0 | 18   | 8.0  |  6   | 21.0 | 0.0  | 1.0  |\n",
       "| 2015 | 12   | 1102 | 146  | 139  | 55   | 105  | 15   | 39   | 21   | ⋯    | 14.5 | 13.5 | 19.5 | 15.5 | 18   | 5.5  |  4   | 21.5 | 0.5  | 0.5  |\n",
       "| 2015 | 13   | 1102 | 146  | 139  | 55   | 105  | 15   | 39   | 21   | ⋯    | 14.5 | 13.5 | 19.5 | 15.5 | 18   | 5.5  |  4   | 21.5 | 0.5  | 0.5  |\n",
       "| 2015 | 14   | 1102 | 146  | 139  | 55   | 105  | 15   | 39   | 21   | ⋯    | 14.5 | 13.5 | 19.5 | 15.5 | 18   | 5.5  |  4   | 21.5 | 0.5  | 0.5  |\n",
       "| 2015 | 15   | 1102 | 146  | 139  | 55   | 105  | 15   | 39   | 21   | ⋯    | 14.5 | 13.5 | 19.5 | 15.5 | 18   | 5.5  |  4   | 21.5 | 0.5  | 0.5  |\n",
       "| 2015 | 16   | 1102 | 146  | 139  | 55   | 105  | 15   | 39   | 21   | ⋯    | 14.5 | 13.5 | 19.5 | 15.5 | 18   | 5.5  |  4   | 21.5 | 0.5  | 0.5  |\n",
       "| 2015 | 17   | 1102 | 146  | 139  | 55   | 105  | 15   | 39   | 21   | ⋯    | 14.5 | 13.5 | 19.5 | 15.5 | 18   | 5.5  |  4   | 21.5 | 0.5  | 0.5  |\n",
       "| 2015 | 18   | 1102 | 146  | 139  | 55   | 105  | 15   | 39   | 21   | ⋯    | 14.5 | 13.5 | 19.5 | 15.5 | 18   | 5.5  |  4   | 21.5 | 0.5  | 0.5  |\n",
       "| 2015 | 19   | 1102 | 146  | 139  | 55   | 105  | 15   | 39   | 21   | ⋯    | 14.5 | 13.5 | 19.5 | 15.5 | 18   | 5.5  |  4   | 21.5 | 0.5  | 0.5  |\n",
       "\n"
      ],
      "text/plain": [
       "   Season DayNum TeamID ScoreSum OppScoreSum FGMSum FGASum FGM3Sum FGA3Sum\n",
       "1  2015   10     1102    NA       NA         NA      NA    NA      NA     \n",
       "2  2015   11     1102    78       84         31      62     6      19     \n",
       "3  2015   12     1102   146      139         55     105    15      39     \n",
       "4  2015   13     1102   146      139         55     105    15      39     \n",
       "5  2015   14     1102   146      139         55     105    15      39     \n",
       "6  2015   15     1102   146      139         55     105    15      39     \n",
       "7  2015   16     1102   146      139         55     105    15      39     \n",
       "8  2015   17     1102   146      139         55     105    15      39     \n",
       "9  2015   18     1102   146      139         55     105    15      39     \n",
       "10 2015   19     1102   146      139         55     105    15      39     \n",
       "   FTMSum ⋯ FTAAvg ORAvg DRAvg AstAvg TOAvg StlAvg BlkAvg PFAvg WAvg LAvg\n",
       "1  NA     ⋯   NA     NA    NA    NA   NA     NA    NA       NA   NA   NA \n",
       "2  10     ⋯ 15.0   15.0  17.0  14.0   18    8.0     6     21.0  0.0  1.0 \n",
       "3  21     ⋯ 14.5   13.5  19.5  15.5   18    5.5     4     21.5  0.5  0.5 \n",
       "4  21     ⋯ 14.5   13.5  19.5  15.5   18    5.5     4     21.5  0.5  0.5 \n",
       "5  21     ⋯ 14.5   13.5  19.5  15.5   18    5.5     4     21.5  0.5  0.5 \n",
       "6  21     ⋯ 14.5   13.5  19.5  15.5   18    5.5     4     21.5  0.5  0.5 \n",
       "7  21     ⋯ 14.5   13.5  19.5  15.5   18    5.5     4     21.5  0.5  0.5 \n",
       "8  21     ⋯ 14.5   13.5  19.5  15.5   18    5.5     4     21.5  0.5  0.5 \n",
       "9  21     ⋯ 14.5   13.5  19.5  15.5   18    5.5     4     21.5  0.5  0.5 \n",
       "10 21     ⋯ 14.5   13.5  19.5  15.5   18    5.5     4     21.5  0.5  0.5 "
      ]
     },
     "metadata": {},
     "output_type": "display_data"
    }
   ],
   "source": [
    "teams.stats.cumul %>% filter(Season==2014,TeamID==1102) %>% head(10)\n",
    "teams.stats.cumul %>% filter(Season==2015,TeamID==1102) %>% head(19) %>% tail(10)"
   ]
  },
  {
   "cell_type": "markdown",
   "metadata": {},
   "source": [
    "#### Regular matchups"
   ]
  },
  {
   "cell_type": "code",
   "execution_count": 11,
   "metadata": {},
   "outputs": [
    {
     "data": {
      "text/html": [
       "<table>\n",
       "<thead><tr><th scope=col>Season</th><th scope=col>DayNum</th><th scope=col>Target</th><th scope=col>TeamID.x</th><th scope=col>TeamID.y</th></tr></thead>\n",
       "<tbody>\n",
       "\t<tr><td>2014</td><td> 24 </td><td>0   </td><td>1168</td><td>1274</td></tr>\n",
       "\t<tr><td>2016</td><td>109 </td><td>0   </td><td>1304</td><td>1326</td></tr>\n",
       "\t<tr><td>2018</td><td> 19 </td><td>1   </td><td>1229</td><td>1409</td></tr>\n",
       "\t<tr><td>2018</td><td> 47 </td><td>1   </td><td>1174</td><td>1175</td></tr>\n",
       "\t<tr><td>2018</td><td> 66 </td><td>1   </td><td>1310</td><td>1373</td></tr>\n",
       "</tbody>\n",
       "</table>\n"
      ],
      "text/latex": [
       "\\begin{tabular}{r|lllll}\n",
       " Season & DayNum & Target & TeamID.x & TeamID.y\\\\\n",
       "\\hline\n",
       "\t 2014 &  24  & 0    & 1168 & 1274\\\\\n",
       "\t 2016 & 109  & 0    & 1304 & 1326\\\\\n",
       "\t 2018 &  19  & 1    & 1229 & 1409\\\\\n",
       "\t 2018 &  47  & 1    & 1174 & 1175\\\\\n",
       "\t 2018 &  66  & 1    & 1310 & 1373\\\\\n",
       "\\end{tabular}\n"
      ],
      "text/markdown": [
       "\n",
       "| Season | DayNum | Target | TeamID.x | TeamID.y |\n",
       "|---|---|---|---|---|\n",
       "| 2014 |  24  | 0    | 1168 | 1274 |\n",
       "| 2016 | 109  | 0    | 1304 | 1326 |\n",
       "| 2018 |  19  | 1    | 1229 | 1409 |\n",
       "| 2018 |  47  | 1    | 1174 | 1175 |\n",
       "| 2018 |  66  | 1    | 1310 | 1373 |\n",
       "\n"
      ],
      "text/plain": [
       "  Season DayNum Target TeamID.x TeamID.y\n",
       "1 2014    24    0      1168     1274    \n",
       "2 2016   109    0      1304     1326    \n",
       "3 2018    19    1      1229     1409    \n",
       "4 2018    47    1      1174     1175    \n",
       "5 2018    66    1      1310     1373    "
      ]
     },
     "metadata": {},
     "output_type": "display_data"
    }
   ],
   "source": [
    "# regular season matchups\n",
    "data.regulars %>% \n",
    "    mutate(TeamID.x=ifelse(WTeamID<LTeamID,WTeamID,LTeamID),\n",
    "           TeamID.y=ifelse(WTeamID>LTeamID,WTeamID,LTeamID)) %>%\n",
    "    mutate(Target=ifelse(WTeamID<LTeamID,1,0)) %>%\n",
    "    mutate(DayNum=DayNum-1) %>%\n",
    "    select(Season,DayNum,Target,TeamID.x,TeamID.y) -> train.matchups\n",
    "train.matchups %>% sample_n(5)"
   ]
  },
  {
   "cell_type": "code",
   "execution_count": 12,
   "metadata": {},
   "outputs": [
    {
     "data": {
      "text/html": [
       "<table>\n",
       "<thead><tr><th scope=col>Season</th><th scope=col>n</th></tr></thead>\n",
       "<tbody>\n",
       "\t<tr><td>2014</td><td>5362</td></tr>\n",
       "\t<tr><td>2015</td><td>5354</td></tr>\n",
       "\t<tr><td>2016</td><td>5369</td></tr>\n",
       "\t<tr><td>2017</td><td>5395</td></tr>\n",
       "\t<tr><td>2018</td><td>5405</td></tr>\n",
       "</tbody>\n",
       "</table>\n"
      ],
      "text/latex": [
       "\\begin{tabular}{r|ll}\n",
       " Season & n\\\\\n",
       "\\hline\n",
       "\t 2014 & 5362\\\\\n",
       "\t 2015 & 5354\\\\\n",
       "\t 2016 & 5369\\\\\n",
       "\t 2017 & 5395\\\\\n",
       "\t 2018 & 5405\\\\\n",
       "\\end{tabular}\n"
      ],
      "text/markdown": [
       "\n",
       "| Season | n |\n",
       "|---|---|\n",
       "| 2014 | 5362 |\n",
       "| 2015 | 5354 |\n",
       "| 2016 | 5369 |\n",
       "| 2017 | 5395 |\n",
       "| 2018 | 5405 |\n",
       "\n"
      ],
      "text/plain": [
       "  Season n   \n",
       "1 2014   5362\n",
       "2 2015   5354\n",
       "3 2016   5369\n",
       "4 2017   5395\n",
       "5 2018   5405"
      ]
     },
     "metadata": {},
     "output_type": "display_data"
    }
   ],
   "source": [
    "train.matchups %>% group_by(Season) %>% summarise(n=n())"
   ]
  },
  {
   "cell_type": "code",
   "execution_count": 13,
   "metadata": {},
   "outputs": [
    {
     "data": {
      "text/html": [
       "<table>\n",
       "<thead><tr><th scope=col>Season</th><th scope=col>DayNum</th><th scope=col>Target</th><th scope=col>TeamID.x</th><th scope=col>TeamID.y</th><th scope=col>ScoreSum.x</th><th scope=col>OppScoreSum.x</th><th scope=col>FGMSum.x</th><th scope=col>FGASum.x</th><th scope=col>FGM3Sum.x</th><th scope=col>⋯</th><th scope=col>FTAAvg.y</th><th scope=col>ORAvg.y</th><th scope=col>DRAvg.y</th><th scope=col>AstAvg.y</th><th scope=col>TOAvg.y</th><th scope=col>StlAvg.y</th><th scope=col>BlkAvg.y</th><th scope=col>PFAvg.y</th><th scope=col>WAvg.y</th><th scope=col>LAvg.y</th></tr></thead>\n",
       "<tbody>\n",
       "\t<tr><td>2017      </td><td> 19       </td><td>0         </td><td>1239      </td><td>1375      </td><td> 317      </td><td> 299      </td><td>108       </td><td> 211      </td><td> 32       </td><td>⋯         </td><td>21.33333  </td><td>13.000000 </td><td>28.00000  </td><td>15.666667 </td><td>11.33333  </td><td>6.333333  </td><td>4.666667  </td><td>22.00000  </td><td>1.00000000</td><td>0.0000000 </td></tr>\n",
       "\t<tr><td>2017      </td><td> 64       </td><td>1         </td><td>1197      </td><td>1224      </td><td> 745      </td><td> 949      </td><td>270       </td><td> 681      </td><td> 63       </td><td>⋯         </td><td>24.58333  </td><td>10.500000 </td><td>20.66667  </td><td> 7.416667 </td><td>14.66667  </td><td>5.750000  </td><td>2.916667  </td><td>17.91667  </td><td>0.08333333</td><td>0.9166667 </td></tr>\n",
       "\t<tr><td>2016      </td><td>118       </td><td>1         </td><td>1126      </td><td>1299      </td><td>1888      </td><td>2033      </td><td>667       </td><td>1624      </td><td>213       </td><td>⋯         </td><td>20.92857  </td><td>10.678571 </td><td>24.39286  </td><td>10.107143 </td><td>13.82143  </td><td>5.071429  </td><td>2.392857  </td><td>22.46429  </td><td>0.32142857</td><td>0.6785714 </td></tr>\n",
       "\t<tr><td>2017      </td><td> 65       </td><td>0         </td><td>1163      </td><td>1272      </td><td> 758      </td><td> 785      </td><td>269       </td><td> 668      </td><td> 75       </td><td>⋯         </td><td>25.50000  </td><td>12.714286 </td><td>26.50000  </td><td>18.142857 </td><td>11.35714  </td><td>6.785714  </td><td>5.714286  </td><td>17.00000  </td><td>0.71428571</td><td>0.2857143 </td></tr>\n",
       "\t<tr><td>2017      </td><td>122       </td><td>0         </td><td>1180      </td><td>1241      </td><td>2243      </td><td>2384      </td><td>808       </td><td>1854      </td><td>237       </td><td>⋯         </td><td>18.70000  </td><td> 9.366667 </td><td>24.83333  </td><td>11.533333 </td><td>14.36667  </td><td>5.700000  </td><td>2.766667  </td><td>20.36667  </td><td>0.26666667</td><td>0.7333333 </td></tr>\n",
       "</tbody>\n",
       "</table>\n"
      ],
      "text/latex": [
       "\\begin{tabular}{r|lllllllllllllllllllllllllllllllllllllllllllllllllllllllllllllllllllllllll}\n",
       " Season & DayNum & Target & TeamID.x & TeamID.y & ScoreSum.x & OppScoreSum.x & FGMSum.x & FGASum.x & FGM3Sum.x & ⋯ & FTAAvg.y & ORAvg.y & DRAvg.y & AstAvg.y & TOAvg.y & StlAvg.y & BlkAvg.y & PFAvg.y & WAvg.y & LAvg.y\\\\\n",
       "\\hline\n",
       "\t 2017       &  19        & 0          & 1239       & 1375       &  317       &  299       & 108        &  211       &  32        & ⋯          & 21.33333   & 13.000000  & 28.00000   & 15.666667  & 11.33333   & 6.333333   & 4.666667   & 22.00000   & 1.00000000 & 0.0000000 \\\\\n",
       "\t 2017       &  64        & 1          & 1197       & 1224       &  745       &  949       & 270        &  681       &  63        & ⋯          & 24.58333   & 10.500000  & 20.66667   &  7.416667  & 14.66667   & 5.750000   & 2.916667   & 17.91667   & 0.08333333 & 0.9166667 \\\\\n",
       "\t 2016       & 118        & 1          & 1126       & 1299       & 1888       & 2033       & 667        & 1624       & 213        & ⋯          & 20.92857   & 10.678571  & 24.39286   & 10.107143  & 13.82143   & 5.071429   & 2.392857   & 22.46429   & 0.32142857 & 0.6785714 \\\\\n",
       "\t 2017       &  65        & 0          & 1163       & 1272       &  758       &  785       & 269        &  668       &  75        & ⋯          & 25.50000   & 12.714286  & 26.50000   & 18.142857  & 11.35714   & 6.785714   & 5.714286   & 17.00000   & 0.71428571 & 0.2857143 \\\\\n",
       "\t 2017       & 122        & 0          & 1180       & 1241       & 2243       & 2384       & 808        & 1854       & 237        & ⋯          & 18.70000   &  9.366667  & 24.83333   & 11.533333  & 14.36667   & 5.700000   & 2.766667   & 20.36667   & 0.26666667 & 0.7333333 \\\\\n",
       "\\end{tabular}\n"
      ],
      "text/markdown": [
       "\n",
       "| Season | DayNum | Target | TeamID.x | TeamID.y | ScoreSum.x | OppScoreSum.x | FGMSum.x | FGASum.x | FGM3Sum.x | ⋯ | FTAAvg.y | ORAvg.y | DRAvg.y | AstAvg.y | TOAvg.y | StlAvg.y | BlkAvg.y | PFAvg.y | WAvg.y | LAvg.y |\n",
       "|---|---|---|---|---|---|---|---|---|---|---|---|---|---|---|---|---|---|---|---|---|\n",
       "| 2017       |  19        | 0          | 1239       | 1375       |  317       |  299       | 108        |  211       |  32        | ⋯          | 21.33333   | 13.000000  | 28.00000   | 15.666667  | 11.33333   | 6.333333   | 4.666667   | 22.00000   | 1.00000000 | 0.0000000  |\n",
       "| 2017       |  64        | 1          | 1197       | 1224       |  745       |  949       | 270        |  681       |  63        | ⋯          | 24.58333   | 10.500000  | 20.66667   |  7.416667  | 14.66667   | 5.750000   | 2.916667   | 17.91667   | 0.08333333 | 0.9166667  |\n",
       "| 2016       | 118        | 1          | 1126       | 1299       | 1888       | 2033       | 667        | 1624       | 213        | ⋯          | 20.92857   | 10.678571  | 24.39286   | 10.107143  | 13.82143   | 5.071429   | 2.392857   | 22.46429   | 0.32142857 | 0.6785714  |\n",
       "| 2017       |  65        | 0          | 1163       | 1272       |  758       |  785       | 269        |  668       |  75        | ⋯          | 25.50000   | 12.714286  | 26.50000   | 18.142857  | 11.35714   | 6.785714   | 5.714286   | 17.00000   | 0.71428571 | 0.2857143  |\n",
       "| 2017       | 122        | 0          | 1180       | 1241       | 2243       | 2384       | 808        | 1854       | 237        | ⋯          | 18.70000   |  9.366667  | 24.83333   | 11.533333  | 14.36667   | 5.700000   | 2.766667   | 20.36667   | 0.26666667 | 0.7333333  |\n",
       "\n"
      ],
      "text/plain": [
       "  Season DayNum Target TeamID.x TeamID.y ScoreSum.x OppScoreSum.x FGMSum.x\n",
       "1 2017    19    0      1239     1375      317        299          108     \n",
       "2 2017    64    1      1197     1224      745        949          270     \n",
       "3 2016   118    1      1126     1299     1888       2033          667     \n",
       "4 2017    65    0      1163     1272      758        785          269     \n",
       "5 2017   122    0      1180     1241     2243       2384          808     \n",
       "  FGASum.x FGM3Sum.x ⋯ FTAAvg.y ORAvg.y   DRAvg.y  AstAvg.y  TOAvg.y  StlAvg.y\n",
       "1  211      32       ⋯ 21.33333 13.000000 28.00000 15.666667 11.33333 6.333333\n",
       "2  681      63       ⋯ 24.58333 10.500000 20.66667  7.416667 14.66667 5.750000\n",
       "3 1624     213       ⋯ 20.92857 10.678571 24.39286 10.107143 13.82143 5.071429\n",
       "4  668      75       ⋯ 25.50000 12.714286 26.50000 18.142857 11.35714 6.785714\n",
       "5 1854     237       ⋯ 18.70000  9.366667 24.83333 11.533333 14.36667 5.700000\n",
       "  BlkAvg.y PFAvg.y  WAvg.y     LAvg.y   \n",
       "1 4.666667 22.00000 1.00000000 0.0000000\n",
       "2 2.916667 17.91667 0.08333333 0.9166667\n",
       "3 2.392857 22.46429 0.32142857 0.6785714\n",
       "4 5.714286 17.00000 0.71428571 0.2857143\n",
       "5 2.766667 20.36667 0.26666667 0.7333333"
      ]
     },
     "metadata": {},
     "output_type": "display_data"
    }
   ],
   "source": [
    "# regular matchups features\n",
    "train.matchups %>%\n",
    "    left_join(teams.stats.cumul,by=c('Season','DayNum','TeamID.x'='TeamID')) %>% \n",
    "    rename_all(list(~str_replace(.,'Sum$','Sum.x'))) %>%\n",
    "    rename_all(list(~str_replace(.,'Avg$','Avg.x'))) %>%\n",
    "    left_join(teams.stats.cumul,by=c('Season','DayNum','TeamID.y'='TeamID')) %>% \n",
    "    rename_all(list(~str_replace(.,'Sum$','Sum.y'))) %>%\n",
    "    rename_all(list(~str_replace(.,'Avg$','Avg.y'))) %>%\n",
    "    na.omit() -> train.matchups.features\n",
    "train.matchups.features %>% sample_n(5)"
   ]
  },
  {
   "cell_type": "code",
   "execution_count": 14,
   "metadata": {},
   "outputs": [
    {
     "data": {
      "text/html": [
       "<table>\n",
       "<thead><tr><th scope=col>Season</th><th scope=col>n</th></tr></thead>\n",
       "<tbody>\n",
       "\t<tr><td>2014</td><td>5362</td></tr>\n",
       "\t<tr><td>2015</td><td>5354</td></tr>\n",
       "\t<tr><td>2016</td><td>5369</td></tr>\n",
       "\t<tr><td>2017</td><td>5395</td></tr>\n",
       "\t<tr><td>2018</td><td>5405</td></tr>\n",
       "</tbody>\n",
       "</table>\n"
      ],
      "text/latex": [
       "\\begin{tabular}{r|ll}\n",
       " Season & n\\\\\n",
       "\\hline\n",
       "\t 2014 & 5362\\\\\n",
       "\t 2015 & 5354\\\\\n",
       "\t 2016 & 5369\\\\\n",
       "\t 2017 & 5395\\\\\n",
       "\t 2018 & 5405\\\\\n",
       "\\end{tabular}\n"
      ],
      "text/markdown": [
       "\n",
       "| Season | n |\n",
       "|---|---|\n",
       "| 2014 | 5362 |\n",
       "| 2015 | 5354 |\n",
       "| 2016 | 5369 |\n",
       "| 2017 | 5395 |\n",
       "| 2018 | 5405 |\n",
       "\n"
      ],
      "text/plain": [
       "  Season n   \n",
       "1 2014   5362\n",
       "2 2015   5354\n",
       "3 2016   5369\n",
       "4 2017   5395\n",
       "5 2018   5405"
      ]
     },
     "metadata": {},
     "output_type": "display_data"
    }
   ],
   "source": [
    "train.matchups %>% group_by(Season) %>% summarise(n=n())"
   ]
  },
  {
   "cell_type": "code",
   "execution_count": 15,
   "metadata": {
    "scrolled": true
   },
   "outputs": [
    {
     "name": "stdout",
     "output_type": "stream",
     "text": [
      "25844 73 \n",
      "Season DayNum Target TeamID.x TeamID.y ScoreSum.x OppScoreSum.x FGMSum.x FGASum.x FGM3Sum.x FGA3Sum.x FTMSum.x FTASum.x ORSum.x DRSum.x AstSum.x TOSum.x StlSum.x BlkSum.x PFSum.x WSum.x LSum.x ScoreAvg.x OppScoreAvg.x FGMAvg.x FGAAvg.x FGM3Avg.x FGA3Avg.x FTMAvg.x FTAAvg.x ORAvg.x DRAvg.x AstAvg.x TOAvg.x StlAvg.x BlkAvg.x PFAvg.x WAvg.x LAvg.x ScoreSum.y OppScoreSum.y FGMSum.y FGASum.y FGM3Sum.y FGA3Sum.y FTMSum.y FTASum.y ORSum.y DRSum.y AstSum.y TOSum.y StlSum.y BlkSum.y PFSum.y WSum.y LSum.y ScoreAvg.y OppScoreAvg.y FGMAvg.y FGAAvg.y FGM3Avg.y FGA3Avg.y FTMAvg.y FTAAvg.y ORAvg.y DRAvg.y AstAvg.y TOAvg.y StlAvg.y BlkAvg.y PFAvg.y WAvg.y LAvg.y \n"
     ]
    }
   ],
   "source": [
    "dim(train.matchups.features) %>% cat('\\n')\n",
    "train.matchups.features %>% colnames %>% cat('\\n')"
   ]
  },
  {
   "cell_type": "markdown",
   "metadata": {},
   "source": [
    "#### Tourney matchups"
   ]
  },
  {
   "cell_type": "code",
   "execution_count": 16,
   "metadata": {},
   "outputs": [],
   "source": [
    "# load the stats and keep 2014+\n",
    "data.tourney <- readRDS('datafiles_rds/NCAATourneyDetailedResults.rds')\n",
    "data.tourney %>% filter(Season>2013) -> data.tourney"
   ]
  },
  {
   "cell_type": "code",
   "execution_count": 17,
   "metadata": {},
   "outputs": [
    {
     "data": {
      "text/html": [
       "<table>\n",
       "<thead><tr><th scope=col>Season</th><th scope=col>n</th></tr></thead>\n",
       "<tbody>\n",
       "\t<tr><td>2014</td><td>67  </td></tr>\n",
       "\t<tr><td>2015</td><td>67  </td></tr>\n",
       "\t<tr><td>2016</td><td>67  </td></tr>\n",
       "\t<tr><td>2017</td><td>67  </td></tr>\n",
       "\t<tr><td>2018</td><td>67  </td></tr>\n",
       "</tbody>\n",
       "</table>\n"
      ],
      "text/latex": [
       "\\begin{tabular}{r|ll}\n",
       " Season & n\\\\\n",
       "\\hline\n",
       "\t 2014 & 67  \\\\\n",
       "\t 2015 & 67  \\\\\n",
       "\t 2016 & 67  \\\\\n",
       "\t 2017 & 67  \\\\\n",
       "\t 2018 & 67  \\\\\n",
       "\\end{tabular}\n"
      ],
      "text/markdown": [
       "\n",
       "| Season | n |\n",
       "|---|---|\n",
       "| 2014 | 67   |\n",
       "| 2015 | 67   |\n",
       "| 2016 | 67   |\n",
       "| 2017 | 67   |\n",
       "| 2018 | 67   |\n",
       "\n"
      ],
      "text/plain": [
       "  Season n \n",
       "1 2014   67\n",
       "2 2015   67\n",
       "3 2016   67\n",
       "4 2017   67\n",
       "5 2018   67"
      ]
     },
     "metadata": {},
     "output_type": "display_data"
    }
   ],
   "source": [
    "data.tourney %>% group_by(Season) %>% summarise(n=n())"
   ]
  },
  {
   "cell_type": "code",
   "execution_count": 18,
   "metadata": {},
   "outputs": [],
   "source": [
    "data.test.matchups <- readRDS('datafiles_rds/TourneyMatchups.rds')"
   ]
  },
  {
   "cell_type": "code",
   "execution_count": 19,
   "metadata": {},
   "outputs": [
    {
     "data": {
      "text/html": [
       "<table>\n",
       "<thead><tr><th scope=col>ID</th><th scope=col>Season</th><th scope=col>DayNum</th><th scope=col>TeamID.x</th><th scope=col>TeamID.y</th></tr></thead>\n",
       "<tbody>\n",
       "\t<tr><td>2016_1221_1462</td><td>2016          </td><td>140           </td><td>1221          </td><td>1462          </td></tr>\n",
       "\t<tr><td>2014_1160_1181</td><td>2014          </td><td>140           </td><td>1160          </td><td>1181          </td></tr>\n",
       "\t<tr><td>2018_1166_1172</td><td>2018          </td><td>140           </td><td>1166          </td><td>1172          </td></tr>\n",
       "\t<tr><td>2015_1257_1352</td><td>2015          </td><td>140           </td><td>1257          </td><td>1352          </td></tr>\n",
       "\t<tr><td>2017_1278_1345</td><td>2017          </td><td>140           </td><td>1278          </td><td>1345          </td></tr>\n",
       "</tbody>\n",
       "</table>\n"
      ],
      "text/latex": [
       "\\begin{tabular}{r|lllll}\n",
       " ID & Season & DayNum & TeamID.x & TeamID.y\\\\\n",
       "\\hline\n",
       "\t 2016\\_1221\\_1462 & 2016               & 140                & 1221               & 1462              \\\\\n",
       "\t 2014\\_1160\\_1181 & 2014               & 140                & 1160               & 1181              \\\\\n",
       "\t 2018\\_1166\\_1172 & 2018               & 140                & 1166               & 1172              \\\\\n",
       "\t 2015\\_1257\\_1352 & 2015               & 140                & 1257               & 1352              \\\\\n",
       "\t 2017\\_1278\\_1345 & 2017               & 140                & 1278               & 1345              \\\\\n",
       "\\end{tabular}\n"
      ],
      "text/markdown": [
       "\n",
       "| ID | Season | DayNum | TeamID.x | TeamID.y |\n",
       "|---|---|---|---|---|\n",
       "| 2016_1221_1462 | 2016           | 140            | 1221           | 1462           |\n",
       "| 2014_1160_1181 | 2014           | 140            | 1160           | 1181           |\n",
       "| 2018_1166_1172 | 2018           | 140            | 1166           | 1172           |\n",
       "| 2015_1257_1352 | 2015           | 140            | 1257           | 1352           |\n",
       "| 2017_1278_1345 | 2017           | 140            | 1278           | 1345           |\n",
       "\n"
      ],
      "text/plain": [
       "  ID             Season DayNum TeamID.x TeamID.y\n",
       "1 2016_1221_1462 2016   140    1221     1462    \n",
       "2 2014_1160_1181 2014   140    1160     1181    \n",
       "3 2018_1166_1172 2018   140    1166     1172    \n",
       "4 2015_1257_1352 2015   140    1257     1352    \n",
       "5 2017_1278_1345 2017   140    1278     1345    "
      ]
     },
     "metadata": {},
     "output_type": "display_data"
    }
   ],
   "source": [
    "# tourney season matchups\n",
    "data.test.matchups %>% \n",
    "    mutate(ID=str_c(Season,'_',TeamID.x,'_',TeamID.y)) %>%\n",
    "    mutate(DayNum=140) %>%\n",
    "    select(ID,Season,DayNum,TeamID.x,TeamID.y) -> test.matchups\n",
    "test.matchups %>% sample_n(5)"
   ]
  },
  {
   "cell_type": "code",
   "execution_count": 20,
   "metadata": {},
   "outputs": [
    {
     "data": {
      "text/html": [
       "<table>\n",
       "<thead><tr><th scope=col>ID</th><th scope=col>Tourney</th><th scope=col>Target</th></tr></thead>\n",
       "<tbody>\n",
       "\t<tr><td>2018_1305_1400</td><td>1             </td><td>1             </td></tr>\n",
       "\t<tr><td>2018_1199_1211</td><td>1             </td><td>1             </td></tr>\n",
       "\t<tr><td>2014_1393_1444</td><td>1             </td><td>1             </td></tr>\n",
       "\t<tr><td>2017_1242_1332</td><td>1             </td><td>0             </td></tr>\n",
       "\t<tr><td>2018_1181_1393</td><td>1             </td><td>1             </td></tr>\n",
       "</tbody>\n",
       "</table>\n"
      ],
      "text/latex": [
       "\\begin{tabular}{r|lll}\n",
       " ID & Tourney & Target\\\\\n",
       "\\hline\n",
       "\t 2018\\_1305\\_1400 & 1                  & 1                 \\\\\n",
       "\t 2018\\_1199\\_1211 & 1                  & 1                 \\\\\n",
       "\t 2014\\_1393\\_1444 & 1                  & 1                 \\\\\n",
       "\t 2017\\_1242\\_1332 & 1                  & 0                 \\\\\n",
       "\t 2018\\_1181\\_1393 & 1                  & 1                 \\\\\n",
       "\\end{tabular}\n"
      ],
      "text/markdown": [
       "\n",
       "| ID | Tourney | Target |\n",
       "|---|---|---|\n",
       "| 2018_1305_1400 | 1              | 1              |\n",
       "| 2018_1199_1211 | 1              | 1              |\n",
       "| 2014_1393_1444 | 1              | 1              |\n",
       "| 2017_1242_1332 | 1              | 0              |\n",
       "| 2018_1181_1393 | 1              | 1              |\n",
       "\n"
      ],
      "text/plain": [
       "  ID             Tourney Target\n",
       "1 2018_1305_1400 1       1     \n",
       "2 2018_1199_1211 1       1     \n",
       "3 2014_1393_1444 1       1     \n",
       "4 2017_1242_1332 1       0     \n",
       "5 2018_1181_1393 1       1     "
      ]
     },
     "metadata": {},
     "output_type": "display_data"
    }
   ],
   "source": [
    "# tourney season truth\n",
    "data.tourney %>% \n",
    "    mutate(TeamID.x=ifelse(WTeamID<LTeamID,WTeamID,LTeamID),\n",
    "           TeamID.y=ifelse(WTeamID>LTeamID,WTeamID,LTeamID)) %>%\n",
    "    mutate(Target=ifelse(WTeamID<LTeamID,1,0)) %>%\n",
    "    mutate(ID=str_c(Season,'_',TeamID.x,'_',TeamID.y)) %>%\n",
    "    mutate(Tourney=1) %>%\n",
    "    select(ID,Tourney,Target) -> test.truth\n",
    "test.truth %>% sample_n(5)"
   ]
  },
  {
   "cell_type": "code",
   "execution_count": 21,
   "metadata": {},
   "outputs": [],
   "source": [
    "test.matchups %>%\n",
    "    left_join(test.truth,by='ID') %>% \n",
    "    mutate_which(is.na(Target),Target=0,Tourney=0) -> test.matchups"
   ]
  },
  {
   "cell_type": "code",
   "execution_count": 22,
   "metadata": {},
   "outputs": [
    {
     "data": {
      "text/html": [
       "<table>\n",
       "<thead><tr><th scope=col>Season</th><th scope=col>n</th></tr></thead>\n",
       "<tbody>\n",
       "\t<tr><td>2014</td><td>2278</td></tr>\n",
       "\t<tr><td>2015</td><td>2278</td></tr>\n",
       "\t<tr><td>2016</td><td>2278</td></tr>\n",
       "\t<tr><td>2017</td><td>2278</td></tr>\n",
       "\t<tr><td>2018</td><td>2278</td></tr>\n",
       "</tbody>\n",
       "</table>\n"
      ],
      "text/latex": [
       "\\begin{tabular}{r|ll}\n",
       " Season & n\\\\\n",
       "\\hline\n",
       "\t 2014 & 2278\\\\\n",
       "\t 2015 & 2278\\\\\n",
       "\t 2016 & 2278\\\\\n",
       "\t 2017 & 2278\\\\\n",
       "\t 2018 & 2278\\\\\n",
       "\\end{tabular}\n"
      ],
      "text/markdown": [
       "\n",
       "| Season | n |\n",
       "|---|---|\n",
       "| 2014 | 2278 |\n",
       "| 2015 | 2278 |\n",
       "| 2016 | 2278 |\n",
       "| 2017 | 2278 |\n",
       "| 2018 | 2278 |\n",
       "\n"
      ],
      "text/plain": [
       "  Season n   \n",
       "1 2014   2278\n",
       "2 2015   2278\n",
       "3 2016   2278\n",
       "4 2017   2278\n",
       "5 2018   2278"
      ]
     },
     "metadata": {},
     "output_type": "display_data"
    }
   ],
   "source": [
    "test.matchups %>% group_by(Season) %>% summarise(n=n())"
   ]
  },
  {
   "cell_type": "code",
   "execution_count": 23,
   "metadata": {},
   "outputs": [
    {
     "data": {
      "text/html": [
       "<table>\n",
       "<thead><tr><th scope=col>ID</th><th scope=col>Season</th><th scope=col>DayNum</th><th scope=col>TeamID.x</th><th scope=col>TeamID.y</th><th scope=col>Tourney</th><th scope=col>Target</th><th scope=col>ScoreSum.x</th><th scope=col>OppScoreSum.x</th><th scope=col>FGMSum.x</th><th scope=col>⋯</th><th scope=col>FTAAvg.y</th><th scope=col>ORAvg.y</th><th scope=col>DRAvg.y</th><th scope=col>AstAvg.y</th><th scope=col>TOAvg.y</th><th scope=col>StlAvg.y</th><th scope=col>BlkAvg.y</th><th scope=col>PFAvg.y</th><th scope=col>WAvg.y</th><th scope=col>LAvg.y</th></tr></thead>\n",
       "<tbody>\n",
       "\t<tr><td>2014_1304_1386</td><td>2014          </td><td>140           </td><td>1304          </td><td>1386          </td><td>0             </td><td>0             </td><td>2077          </td><td>2011          </td><td>696           </td><td>⋯             </td><td>22.81818      </td><td> 9.606061     </td><td>26.30303      </td><td>14.06061      </td><td>12.33333      </td><td> 4.484848     </td><td>4.606061      </td><td>15.81818      </td><td>0.7272727     </td><td>0.2727273     </td></tr>\n",
       "\t<tr><td>2014_1112_1459</td><td>2014          </td><td>140           </td><td>1112          </td><td>1459          </td><td>0             </td><td>0             </td><td>2484          </td><td>1977          </td><td>892           </td><td>⋯             </td><td>18.31034      </td><td>10.551724     </td><td>21.96552      </td><td>12.13793      </td><td>10.27586      </td><td> 6.068966     </td><td>1.551724      </td><td>17.62069      </td><td>0.5862069     </td><td>0.4137931     </td></tr>\n",
       "\t<tr><td>2015_1217_1279</td><td>2015          </td><td>140           </td><td>1217          </td><td>1279          </td><td>0             </td><td>0             </td><td>1704          </td><td>1570          </td><td>595           </td><td>⋯             </td><td>21.71875      </td><td>12.406250     </td><td>25.15625      </td><td>12.81250      </td><td>11.34375      </td><td> 6.593750     </td><td>3.687500      </td><td>19.56250      </td><td>0.6250000     </td><td>0.3750000     </td></tr>\n",
       "\t<tr><td>2015_1295_1452</td><td>2015          </td><td>140           </td><td>1295          </td><td>1452          </td><td>0             </td><td>0             </td><td>1918          </td><td>1849          </td><td>660           </td><td>⋯             </td><td>24.93750      </td><td>16.843750     </td><td>19.93750      </td><td>14.53125      </td><td>13.06250      </td><td>10.937500     </td><td>2.843750      </td><td>23.34375      </td><td>0.7187500     </td><td>0.2812500     </td></tr>\n",
       "\t<tr><td>2014_1272_1417</td><td>2014          </td><td>140           </td><td>1272          </td><td>1417          </td><td>0             </td><td>0             </td><td>2382          </td><td>2175          </td><td>869           </td><td>⋯             </td><td>23.11765      </td><td>10.088235     </td><td>25.55882      </td><td>17.20588      </td><td>10.52941      </td><td> 9.382353     </td><td>2.882353      </td><td>17.73529      </td><td>0.7647059     </td><td>0.2352941     </td></tr>\n",
       "</tbody>\n",
       "</table>\n"
      ],
      "text/latex": [
       "\\begin{tabular}{r|lllllllllllllllllllllllllllllllllllllllllllllllllllllllllllllllllllllllllll}\n",
       " ID & Season & DayNum & TeamID.x & TeamID.y & Tourney & Target & ScoreSum.x & OppScoreSum.x & FGMSum.x & ⋯ & FTAAvg.y & ORAvg.y & DRAvg.y & AstAvg.y & TOAvg.y & StlAvg.y & BlkAvg.y & PFAvg.y & WAvg.y & LAvg.y\\\\\n",
       "\\hline\n",
       "\t 2014\\_1304\\_1386 & 2014               & 140                & 1304               & 1386               & 0                  & 0                  & 2077               & 2011               & 696                & ⋯                  & 22.81818           &  9.606061          & 26.30303           & 14.06061           & 12.33333           &  4.484848          & 4.606061           & 15.81818           & 0.7272727          & 0.2727273         \\\\\n",
       "\t 2014\\_1112\\_1459 & 2014               & 140                & 1112               & 1459               & 0                  & 0                  & 2484               & 1977               & 892                & ⋯                  & 18.31034           & 10.551724          & 21.96552           & 12.13793           & 10.27586           &  6.068966          & 1.551724           & 17.62069           & 0.5862069          & 0.4137931         \\\\\n",
       "\t 2015\\_1217\\_1279 & 2015               & 140                & 1217               & 1279               & 0                  & 0                  & 1704               & 1570               & 595                & ⋯                  & 21.71875           & 12.406250          & 25.15625           & 12.81250           & 11.34375           &  6.593750          & 3.687500           & 19.56250           & 0.6250000          & 0.3750000         \\\\\n",
       "\t 2015\\_1295\\_1452 & 2015               & 140                & 1295               & 1452               & 0                  & 0                  & 1918               & 1849               & 660                & ⋯                  & 24.93750           & 16.843750          & 19.93750           & 14.53125           & 13.06250           & 10.937500          & 2.843750           & 23.34375           & 0.7187500          & 0.2812500         \\\\\n",
       "\t 2014\\_1272\\_1417 & 2014               & 140                & 1272               & 1417               & 0                  & 0                  & 2382               & 2175               & 869                & ⋯                  & 23.11765           & 10.088235          & 25.55882           & 17.20588           & 10.52941           &  9.382353          & 2.882353           & 17.73529           & 0.7647059          & 0.2352941         \\\\\n",
       "\\end{tabular}\n"
      ],
      "text/markdown": [
       "\n",
       "| ID | Season | DayNum | TeamID.x | TeamID.y | Tourney | Target | ScoreSum.x | OppScoreSum.x | FGMSum.x | ⋯ | FTAAvg.y | ORAvg.y | DRAvg.y | AstAvg.y | TOAvg.y | StlAvg.y | BlkAvg.y | PFAvg.y | WAvg.y | LAvg.y |\n",
       "|---|---|---|---|---|---|---|---|---|---|---|---|---|---|---|---|---|---|---|---|---|\n",
       "| 2014_1304_1386 | 2014           | 140            | 1304           | 1386           | 0              | 0              | 2077           | 2011           | 696            | ⋯              | 22.81818       |  9.606061      | 26.30303       | 14.06061       | 12.33333       |  4.484848      | 4.606061       | 15.81818       | 0.7272727      | 0.2727273      |\n",
       "| 2014_1112_1459 | 2014           | 140            | 1112           | 1459           | 0              | 0              | 2484           | 1977           | 892            | ⋯              | 18.31034       | 10.551724      | 21.96552       | 12.13793       | 10.27586       |  6.068966      | 1.551724       | 17.62069       | 0.5862069      | 0.4137931      |\n",
       "| 2015_1217_1279 | 2015           | 140            | 1217           | 1279           | 0              | 0              | 1704           | 1570           | 595            | ⋯              | 21.71875       | 12.406250      | 25.15625       | 12.81250       | 11.34375       |  6.593750      | 3.687500       | 19.56250       | 0.6250000      | 0.3750000      |\n",
       "| 2015_1295_1452 | 2015           | 140            | 1295           | 1452           | 0              | 0              | 1918           | 1849           | 660            | ⋯              | 24.93750       | 16.843750      | 19.93750       | 14.53125       | 13.06250       | 10.937500      | 2.843750       | 23.34375       | 0.7187500      | 0.2812500      |\n",
       "| 2014_1272_1417 | 2014           | 140            | 1272           | 1417           | 0              | 0              | 2382           | 2175           | 869            | ⋯              | 23.11765       | 10.088235      | 25.55882       | 17.20588       | 10.52941       |  9.382353      | 2.882353       | 17.73529       | 0.7647059      | 0.2352941      |\n",
       "\n"
      ],
      "text/plain": [
       "  ID             Season DayNum TeamID.x TeamID.y Tourney Target ScoreSum.x\n",
       "1 2014_1304_1386 2014   140    1304     1386     0       0      2077      \n",
       "2 2014_1112_1459 2014   140    1112     1459     0       0      2484      \n",
       "3 2015_1217_1279 2015   140    1217     1279     0       0      1704      \n",
       "4 2015_1295_1452 2015   140    1295     1452     0       0      1918      \n",
       "5 2014_1272_1417 2014   140    1272     1417     0       0      2382      \n",
       "  OppScoreSum.x FGMSum.x ⋯ FTAAvg.y ORAvg.y   DRAvg.y  AstAvg.y TOAvg.y \n",
       "1 2011          696      ⋯ 22.81818  9.606061 26.30303 14.06061 12.33333\n",
       "2 1977          892      ⋯ 18.31034 10.551724 21.96552 12.13793 10.27586\n",
       "3 1570          595      ⋯ 21.71875 12.406250 25.15625 12.81250 11.34375\n",
       "4 1849          660      ⋯ 24.93750 16.843750 19.93750 14.53125 13.06250\n",
       "5 2175          869      ⋯ 23.11765 10.088235 25.55882 17.20588 10.52941\n",
       "  StlAvg.y  BlkAvg.y PFAvg.y  WAvg.y    LAvg.y   \n",
       "1  4.484848 4.606061 15.81818 0.7272727 0.2727273\n",
       "2  6.068966 1.551724 17.62069 0.5862069 0.4137931\n",
       "3  6.593750 3.687500 19.56250 0.6250000 0.3750000\n",
       "4 10.937500 2.843750 23.34375 0.7187500 0.2812500\n",
       "5  9.382353 2.882353 17.73529 0.7647059 0.2352941"
      ]
     },
     "metadata": {},
     "output_type": "display_data"
    }
   ],
   "source": [
    "# tourney matchups features\n",
    "test.matchups %>%\n",
    "    left_join(teams.stats.cumul,by=c('Season','DayNum','TeamID.x'='TeamID')) %>% \n",
    "    rename_all(list(~str_replace(.,'Sum$','Sum.x'))) %>%\n",
    "    rename_all(list(~str_replace(.,'Avg$','Avg.x'))) %>%\n",
    "    left_join(teams.stats.cumul,by=c('Season','DayNum','TeamID.y'='TeamID')) %>% \n",
    "    rename_all(list(~str_replace(.,'Sum$','Sum.y'))) %>%\n",
    "    rename_all(list(~str_replace(.,'Avg$','Avg.y'))) %>%\n",
    "    na.omit() -> test.matchups.features\n",
    "test.matchups.features %>% sample_n(5)"
   ]
  },
  {
   "cell_type": "code",
   "execution_count": 24,
   "metadata": {},
   "outputs": [
    {
     "data": {
      "text/html": [
       "<table>\n",
       "<thead><tr><th scope=col>Season</th><th scope=col>n</th></tr></thead>\n",
       "<tbody>\n",
       "\t<tr><td>2014</td><td>2278</td></tr>\n",
       "\t<tr><td>2015</td><td>2278</td></tr>\n",
       "\t<tr><td>2016</td><td>2278</td></tr>\n",
       "\t<tr><td>2017</td><td>2278</td></tr>\n",
       "\t<tr><td>2018</td><td>2278</td></tr>\n",
       "</tbody>\n",
       "</table>\n"
      ],
      "text/latex": [
       "\\begin{tabular}{r|ll}\n",
       " Season & n\\\\\n",
       "\\hline\n",
       "\t 2014 & 2278\\\\\n",
       "\t 2015 & 2278\\\\\n",
       "\t 2016 & 2278\\\\\n",
       "\t 2017 & 2278\\\\\n",
       "\t 2018 & 2278\\\\\n",
       "\\end{tabular}\n"
      ],
      "text/markdown": [
       "\n",
       "| Season | n |\n",
       "|---|---|\n",
       "| 2014 | 2278 |\n",
       "| 2015 | 2278 |\n",
       "| 2016 | 2278 |\n",
       "| 2017 | 2278 |\n",
       "| 2018 | 2278 |\n",
       "\n"
      ],
      "text/plain": [
       "  Season n   \n",
       "1 2014   2278\n",
       "2 2015   2278\n",
       "3 2016   2278\n",
       "4 2017   2278\n",
       "5 2018   2278"
      ]
     },
     "metadata": {},
     "output_type": "display_data"
    }
   ],
   "source": [
    "test.matchups %>% group_by(Season) %>% summarise(n=n())"
   ]
  },
  {
   "cell_type": "code",
   "execution_count": 25,
   "metadata": {},
   "outputs": [
    {
     "name": "stdout",
     "output_type": "stream",
     "text": [
      "11390 75 \n",
      "ID Season DayNum TeamID.x TeamID.y Tourney Target ScoreSum.x OppScoreSum.x FGMSum.x FGASum.x FGM3Sum.x FGA3Sum.x FTMSum.x FTASum.x ORSum.x DRSum.x AstSum.x TOSum.x StlSum.x BlkSum.x PFSum.x WSum.x LSum.x ScoreAvg.x OppScoreAvg.x FGMAvg.x FGAAvg.x FGM3Avg.x FGA3Avg.x FTMAvg.x FTAAvg.x ORAvg.x DRAvg.x AstAvg.x TOAvg.x StlAvg.x BlkAvg.x PFAvg.x WAvg.x LAvg.x ScoreSum.y OppScoreSum.y FGMSum.y FGASum.y FGM3Sum.y FGA3Sum.y FTMSum.y FTASum.y ORSum.y DRSum.y AstSum.y TOSum.y StlSum.y BlkSum.y PFSum.y WSum.y LSum.y ScoreAvg.y OppScoreAvg.y FGMAvg.y FGAAvg.y FGM3Avg.y FGA3Avg.y FTMAvg.y FTAAvg.y ORAvg.y DRAvg.y AstAvg.y TOAvg.y StlAvg.y BlkAvg.y PFAvg.y WAvg.y LAvg.y \n"
     ]
    }
   ],
   "source": [
    "dim(test.matchups.features) %>% cat('\\n')\n",
    "test.matchups.features %>% colnames %>% cat('\\n')"
   ]
  },
  {
   "cell_type": "markdown",
   "metadata": {},
   "source": [
    "#### Save datasets for Keras "
   ]
  },
  {
   "cell_type": "code",
   "execution_count": 26,
   "metadata": {},
   "outputs": [],
   "source": [
    "train.matchups.features %>%\n",
    "    select(-Season,-DayNum,-TeamID.x,-TeamID.y) %>%\n",
    "    write.csv('kerasfiles/train.matchups.stats.csv',row.names=F)"
   ]
  },
  {
   "cell_type": "code",
   "execution_count": 27,
   "metadata": {},
   "outputs": [],
   "source": [
    "test.matchups.features %>%\n",
    "    select(-Season,-DayNum,-TeamID.x,-TeamID.y) %>%\n",
    "    write.csv('kerasfiles/test.matchups.stats.csv',row.names=F)"
   ]
  },
  {
   "cell_type": "code",
   "execution_count": null,
   "metadata": {},
   "outputs": [],
   "source": []
  }
 ],
 "metadata": {
  "kernelspec": {
   "display_name": "R 3.5.0",
   "language": "R",
   "name": "ir35"
  },
  "language_info": {
   "codemirror_mode": "r",
   "file_extension": ".r",
   "mimetype": "text/x-r-source",
   "name": "R",
   "pygments_lexer": "r",
   "version": "3.5.1"
  }
 },
 "nbformat": 4,
 "nbformat_minor": 2
}
