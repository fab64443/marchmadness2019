{
 "cells": [
  {
   "cell_type": "code",
   "execution_count": 3,
   "metadata": {},
   "outputs": [],
   "source": [
    "# Load required packages\n",
    "library(dplyr,warn.conflicts=F)\n",
    "library(stringr,warn.conflicts=F)\n",
    "library(psych,warn.conflicts=F)\n",
    "library(lplyr,warn.conflicts=F)\n",
    "library(tidyr,warn.conflicts=F)"
   ]
  },
  {
   "cell_type": "code",
   "execution_count": 4,
   "metadata": {},
   "outputs": [],
   "source": [
    "library(tictoc,warn.conflicts=F)"
   ]
  },
  {
   "cell_type": "markdown",
   "metadata": {},
   "source": [
    "#### From Matchups stats to Teams stats"
   ]
  },
  {
   "cell_type": "code",
   "execution_count": 5,
   "metadata": {},
   "outputs": [],
   "source": [
    "# load the stats and keep 2014+\n",
    "data.regulars <- readRDS('datafiles_rds/RegularSeasonDetailedResults.rds')\n",
    "data.regulars %>% filter(Season>2013) -> data.regulars"
   ]
  },
  {
   "cell_type": "code",
   "execution_count": 6,
   "metadata": {},
   "outputs": [
    {
     "data": {
      "text/html": [
       "<table>\n",
       "<thead><tr><th scope=col>Season</th><th scope=col>n</th></tr></thead>\n",
       "<tbody>\n",
       "\t<tr><td>2014</td><td>5362</td></tr>\n",
       "\t<tr><td>2015</td><td>5354</td></tr>\n",
       "\t<tr><td>2016</td><td>5369</td></tr>\n",
       "\t<tr><td>2017</td><td>5395</td></tr>\n",
       "\t<tr><td>2018</td><td>5405</td></tr>\n",
       "</tbody>\n",
       "</table>\n"
      ],
      "text/latex": [
       "\\begin{tabular}{r|ll}\n",
       " Season & n\\\\\n",
       "\\hline\n",
       "\t 2014 & 5362\\\\\n",
       "\t 2015 & 5354\\\\\n",
       "\t 2016 & 5369\\\\\n",
       "\t 2017 & 5395\\\\\n",
       "\t 2018 & 5405\\\\\n",
       "\\end{tabular}\n"
      ],
      "text/markdown": [
       "\n",
       "| Season | n |\n",
       "|---|---|\n",
       "| 2014 | 5362 |\n",
       "| 2015 | 5354 |\n",
       "| 2016 | 5369 |\n",
       "| 2017 | 5395 |\n",
       "| 2018 | 5405 |\n",
       "\n"
      ],
      "text/plain": [
       "  Season n   \n",
       "1 2014   5362\n",
       "2 2015   5354\n",
       "3 2016   5369\n",
       "4 2017   5395\n",
       "5 2018   5405"
      ]
     },
     "metadata": {},
     "output_type": "display_data"
    }
   ],
   "source": [
    "data.regulars %>% group_by(Season) %>% summarise(n=n())"
   ]
  },
  {
   "cell_type": "code",
   "execution_count": 7,
   "metadata": {},
   "outputs": [],
   "source": [
    "# Winning teams stats\n",
    "data.regulars %>% \n",
    "    mutate(WW=1,WL=0) %>%\n",
    "    select_at(vars(Season,DayNum,starts_with('W'),WOppScore=LScore)) %>%\n",
    "    rename_at(vars(starts_with('W')),list(~str_remove(.,'^W'))) -> df.wteams\n",
    "\n",
    "# Losing teams stats\n",
    "data.regulars %>% \n",
    "    mutate(LW=0,LL=1) %>%\n",
    "    select_at(vars(Season,DayNum,starts_with('L'),LOppScore=WScore)) %>%\n",
    "    rename_at(vars(starts_with('L')),list(~str_remove(.,'^L'))) -> df.lteams\n",
    "\n",
    "# Merge stats\n",
    "df.wteams %>% \n",
    "    bind_rows(df.lteams) %>%\n",
    "    arrange(DayNum,TeamID) -> teams.stats\n",
    "\n",
    "teams.stats %>% \n",
    "    mutate_which(is.na(Loc),Loc='N') %>%\n",
    "    select(-Loc) -> teams.stats"
   ]
  },
  {
   "cell_type": "code",
   "execution_count": 8,
   "metadata": {},
   "outputs": [
    {
     "data": {
      "text/html": [
       "<table>\n",
       "<thead><tr><th scope=col>Season</th><th scope=col>n</th></tr></thead>\n",
       "<tbody>\n",
       "\t<tr><td>2014 </td><td>10724</td></tr>\n",
       "\t<tr><td>2015 </td><td>10708</td></tr>\n",
       "\t<tr><td>2016 </td><td>10738</td></tr>\n",
       "\t<tr><td>2017 </td><td>10790</td></tr>\n",
       "\t<tr><td>2018 </td><td>10810</td></tr>\n",
       "</tbody>\n",
       "</table>\n"
      ],
      "text/latex": [
       "\\begin{tabular}{r|ll}\n",
       " Season & n\\\\\n",
       "\\hline\n",
       "\t 2014  & 10724\\\\\n",
       "\t 2015  & 10708\\\\\n",
       "\t 2016  & 10738\\\\\n",
       "\t 2017  & 10790\\\\\n",
       "\t 2018  & 10810\\\\\n",
       "\\end{tabular}\n"
      ],
      "text/markdown": [
       "\n",
       "| Season | n |\n",
       "|---|---|\n",
       "| 2014  | 10724 |\n",
       "| 2015  | 10708 |\n",
       "| 2016  | 10738 |\n",
       "| 2017  | 10790 |\n",
       "| 2018  | 10810 |\n",
       "\n"
      ],
      "text/plain": [
       "  Season n    \n",
       "1 2014   10724\n",
       "2 2015   10708\n",
       "3 2016   10738\n",
       "4 2017   10790\n",
       "5 2018   10810"
      ]
     },
     "metadata": {},
     "output_type": "display_data"
    }
   ],
   "source": [
    "teams.stats %>% group_by(Season) %>% summarise(n=n())"
   ]
  },
  {
   "cell_type": "markdown",
   "metadata": {},
   "source": [
    "#### Compute regular new features"
   ]
  },
  {
   "cell_type": "code",
   "execution_count": 9,
   "metadata": {},
   "outputs": [],
   "source": [
    "# compute cumulative and average stats\n",
    "teams.stats %>%\n",
    "    group_by(Season,TeamID) %>%\n",
    "    mutate_at(vars(Score,OppScore,FGM,FGA,FGM3,FGA3,FTM,FTA,OR,DR,Ast,TO,Stl,Blk,PF,W,L),list(~cumsum,~cummean)) %>% \n",
    "    select(-c(Score,OppScore,FGM,FGA,FGM3,FGA3,FTM,FTA,OR,DR,Ast,TO,Stl,Blk,PF,W,L)) %>%\n",
    "    rename_all(list(~str_replace(.,'_cumsum','Sum'))) %>%\n",
    "    rename_all(list(~str_replace(.,'_cummean','Avg'))) %>%\n",
    "    ungroup() -> teams.stats.cumul"
   ]
  },
  {
   "cell_type": "code",
   "execution_count": 10,
   "metadata": {},
   "outputs": [
    {
     "data": {
      "text/html": [
       "<table>\n",
       "<thead><tr><th scope=col>Season</th><th scope=col>DayNum</th><th scope=col>TeamID</th><th scope=col>ScoreSum</th><th scope=col>OppScoreSum</th><th scope=col>FGMSum</th><th scope=col>FGASum</th><th scope=col>FGM3Sum</th><th scope=col>FGA3Sum</th><th scope=col>FTMSum</th><th scope=col>⋯</th><th scope=col>FTAAvg</th><th scope=col>ORAvg</th><th scope=col>DRAvg</th><th scope=col>AstAvg</th><th scope=col>TOAvg</th><th scope=col>StlAvg</th><th scope=col>BlkAvg</th><th scope=col>PFAvg</th><th scope=col>WAvg</th><th scope=col>LAvg</th></tr></thead>\n",
       "<tbody>\n",
       "\t<tr><td>2014     </td><td> 4       </td><td>1102     </td><td> 79      </td><td> 68      </td><td> 26      </td><td> 49      </td><td>10       </td><td> 15      </td><td>17       </td><td>⋯        </td><td>26.00000 </td><td>10.000000</td><td>30.00    </td><td>11.00000 </td><td>18.00000 </td><td>8.000000 </td><td>4.000000 </td><td>18.00000 </td><td>1.0000000</td><td>0.0000000</td></tr>\n",
       "\t<tr><td>2014     </td><td> 5       </td><td>1102     </td><td>142      </td><td>139      </td><td> 49      </td><td>102      </td><td>15       </td><td> 37      </td><td>29       </td><td>⋯        </td><td>22.50000 </td><td> 8.500000</td><td>28.00    </td><td>10.00000 </td><td>17.50000 </td><td>8.000000 </td><td>2.000000 </td><td>19.00000 </td><td>0.5000000</td><td>0.5000000</td></tr>\n",
       "\t<tr><td>2014     </td><td>10       </td><td>1102     </td><td>224      </td><td>223      </td><td> 76      </td><td>159      </td><td>27       </td><td> 63      </td><td>45       </td><td>⋯        </td><td>23.66667 </td><td> 9.000000</td><td>25.00    </td><td>11.66667 </td><td>15.66667 </td><td>6.666667 </td><td>1.666667 </td><td>21.00000 </td><td>0.3333333</td><td>0.6666667</td></tr>\n",
       "\t<tr><td>2014     </td><td>13       </td><td>1102     </td><td>291      </td><td>287      </td><td> 95      </td><td>204      </td><td>36       </td><td> 84      </td><td>65       </td><td>⋯        </td><td>24.25000 </td><td> 9.500000</td><td>23.75    </td><td>12.75000 </td><td>15.50000 </td><td>6.250000 </td><td>2.750000 </td><td>19.50000 </td><td>0.5000000</td><td>0.5000000</td></tr>\n",
       "\t<tr><td>2014     </td><td>23       </td><td>1102     </td><td>351      </td><td>370      </td><td>115      </td><td>247      </td><td>40       </td><td> 97      </td><td>81       </td><td>⋯        </td><td>24.60000 </td><td> 8.600000</td><td>22.80    </td><td>12.00000 </td><td>15.40000 </td><td>5.600000 </td><td>3.000000 </td><td>19.40000 </td><td>0.4000000</td><td>0.6000000</td></tr>\n",
       "\t<tr><td>2014     </td><td>26       </td><td>1102     </td><td>408      </td><td>451      </td><td>134      </td><td>293      </td><td>46       </td><td>119      </td><td>94       </td><td>⋯        </td><td>23.66667 </td><td> 7.833333</td><td>22.50    </td><td>12.00000 </td><td>15.83333 </td><td>5.333333 </td><td>3.166667 </td><td>19.16667 </td><td>0.3333333</td><td>0.6666667</td></tr>\n",
       "</tbody>\n",
       "</table>\n"
      ],
      "text/latex": [
       "\\begin{tabular}{r|lllllllllllllllllllllllllllllllllllll}\n",
       " Season & DayNum & TeamID & ScoreSum & OppScoreSum & FGMSum & FGASum & FGM3Sum & FGA3Sum & FTMSum & ⋯ & FTAAvg & ORAvg & DRAvg & AstAvg & TOAvg & StlAvg & BlkAvg & PFAvg & WAvg & LAvg\\\\\n",
       "\\hline\n",
       "\t 2014      &  4        & 1102      &  79       &  68       &  26       &  49       & 10        &  15       & 17        & ⋯         & 26.00000  & 10.000000 & 30.00     & 11.00000  & 18.00000  & 8.000000  & 4.000000  & 18.00000  & 1.0000000 & 0.0000000\\\\\n",
       "\t 2014      &  5        & 1102      & 142       & 139       &  49       & 102       & 15        &  37       & 29        & ⋯         & 22.50000  &  8.500000 & 28.00     & 10.00000  & 17.50000  & 8.000000  & 2.000000  & 19.00000  & 0.5000000 & 0.5000000\\\\\n",
       "\t 2014      & 10        & 1102      & 224       & 223       &  76       & 159       & 27        &  63       & 45        & ⋯         & 23.66667  &  9.000000 & 25.00     & 11.66667  & 15.66667  & 6.666667  & 1.666667  & 21.00000  & 0.3333333 & 0.6666667\\\\\n",
       "\t 2014      & 13        & 1102      & 291       & 287       &  95       & 204       & 36        &  84       & 65        & ⋯         & 24.25000  &  9.500000 & 23.75     & 12.75000  & 15.50000  & 6.250000  & 2.750000  & 19.50000  & 0.5000000 & 0.5000000\\\\\n",
       "\t 2014      & 23        & 1102      & 351       & 370       & 115       & 247       & 40        &  97       & 81        & ⋯         & 24.60000  &  8.600000 & 22.80     & 12.00000  & 15.40000  & 5.600000  & 3.000000  & 19.40000  & 0.4000000 & 0.6000000\\\\\n",
       "\t 2014      & 26        & 1102      & 408       & 451       & 134       & 293       & 46        & 119       & 94        & ⋯         & 23.66667  &  7.833333 & 22.50     & 12.00000  & 15.83333  & 5.333333  & 3.166667  & 19.16667  & 0.3333333 & 0.6666667\\\\\n",
       "\\end{tabular}\n"
      ],
      "text/markdown": [
       "\n",
       "| Season | DayNum | TeamID | ScoreSum | OppScoreSum | FGMSum | FGASum | FGM3Sum | FGA3Sum | FTMSum | ⋯ | FTAAvg | ORAvg | DRAvg | AstAvg | TOAvg | StlAvg | BlkAvg | PFAvg | WAvg | LAvg |\n",
       "|---|---|---|---|---|---|---|---|---|---|---|---|---|---|---|---|---|---|---|---|---|\n",
       "| 2014      |  4        | 1102      |  79       |  68       |  26       |  49       | 10        |  15       | 17        | ⋯         | 26.00000  | 10.000000 | 30.00     | 11.00000  | 18.00000  | 8.000000  | 4.000000  | 18.00000  | 1.0000000 | 0.0000000 |\n",
       "| 2014      |  5        | 1102      | 142       | 139       |  49       | 102       | 15        |  37       | 29        | ⋯         | 22.50000  |  8.500000 | 28.00     | 10.00000  | 17.50000  | 8.000000  | 2.000000  | 19.00000  | 0.5000000 | 0.5000000 |\n",
       "| 2014      | 10        | 1102      | 224       | 223       |  76       | 159       | 27        |  63       | 45        | ⋯         | 23.66667  |  9.000000 | 25.00     | 11.66667  | 15.66667  | 6.666667  | 1.666667  | 21.00000  | 0.3333333 | 0.6666667 |\n",
       "| 2014      | 13        | 1102      | 291       | 287       |  95       | 204       | 36        |  84       | 65        | ⋯         | 24.25000  |  9.500000 | 23.75     | 12.75000  | 15.50000  | 6.250000  | 2.750000  | 19.50000  | 0.5000000 | 0.5000000 |\n",
       "| 2014      | 23        | 1102      | 351       | 370       | 115       | 247       | 40        |  97       | 81        | ⋯         | 24.60000  |  8.600000 | 22.80     | 12.00000  | 15.40000  | 5.600000  | 3.000000  | 19.40000  | 0.4000000 | 0.6000000 |\n",
       "| 2014      | 26        | 1102      | 408       | 451       | 134       | 293       | 46        | 119       | 94        | ⋯         | 23.66667  |  7.833333 | 22.50     | 12.00000  | 15.83333  | 5.333333  | 3.166667  | 19.16667  | 0.3333333 | 0.6666667 |\n",
       "\n"
      ],
      "text/plain": [
       "  Season DayNum TeamID ScoreSum OppScoreSum FGMSum FGASum FGM3Sum FGA3Sum\n",
       "1 2014    4     1102    79       68          26     49    10       15    \n",
       "2 2014    5     1102   142      139          49    102    15       37    \n",
       "3 2014   10     1102   224      223          76    159    27       63    \n",
       "4 2014   13     1102   291      287          95    204    36       84    \n",
       "5 2014   23     1102   351      370         115    247    40       97    \n",
       "6 2014   26     1102   408      451         134    293    46      119    \n",
       "  FTMSum ⋯ FTAAvg   ORAvg     DRAvg AstAvg   TOAvg    StlAvg   BlkAvg  \n",
       "1 17     ⋯ 26.00000 10.000000 30.00 11.00000 18.00000 8.000000 4.000000\n",
       "2 29     ⋯ 22.50000  8.500000 28.00 10.00000 17.50000 8.000000 2.000000\n",
       "3 45     ⋯ 23.66667  9.000000 25.00 11.66667 15.66667 6.666667 1.666667\n",
       "4 65     ⋯ 24.25000  9.500000 23.75 12.75000 15.50000 6.250000 2.750000\n",
       "5 81     ⋯ 24.60000  8.600000 22.80 12.00000 15.40000 5.600000 3.000000\n",
       "6 94     ⋯ 23.66667  7.833333 22.50 12.00000 15.83333 5.333333 3.166667\n",
       "  PFAvg    WAvg      LAvg     \n",
       "1 18.00000 1.0000000 0.0000000\n",
       "2 19.00000 0.5000000 0.5000000\n",
       "3 21.00000 0.3333333 0.6666667\n",
       "4 19.50000 0.5000000 0.5000000\n",
       "5 19.40000 0.4000000 0.6000000\n",
       "6 19.16667 0.3333333 0.6666667"
      ]
     },
     "metadata": {},
     "output_type": "display_data"
    },
    {
     "data": {
      "text/html": [
       "<table>\n",
       "<thead><tr><th scope=col>Season</th><th scope=col>DayNum</th><th scope=col>TeamID</th><th scope=col>ScoreSum</th><th scope=col>OppScoreSum</th><th scope=col>FGMSum</th><th scope=col>FGASum</th><th scope=col>FGM3Sum</th><th scope=col>FGA3Sum</th><th scope=col>FTMSum</th><th scope=col>⋯</th><th scope=col>FTAAvg</th><th scope=col>ORAvg</th><th scope=col>DRAvg</th><th scope=col>AstAvg</th><th scope=col>TOAvg</th><th scope=col>StlAvg</th><th scope=col>BlkAvg</th><th scope=col>PFAvg</th><th scope=col>WAvg</th><th scope=col>LAvg</th></tr></thead>\n",
       "<tbody>\n",
       "\t<tr><td>2015     </td><td>11       </td><td>1102     </td><td> 78      </td><td> 84      </td><td> 31      </td><td> 62      </td><td> 6       </td><td> 19      </td><td>10       </td><td>⋯        </td><td>15.00000 </td><td>15.00000 </td><td>17.00000 </td><td>14.00000 </td><td>18.00000 </td><td>8.000000 </td><td>6.000000 </td><td>21.0     </td><td>0.0000000</td><td>1.0000000</td></tr>\n",
       "\t<tr><td>2015     </td><td>12       </td><td>1102     </td><td>146      </td><td>139      </td><td> 55      </td><td>105      </td><td>15       </td><td> 39      </td><td>21       </td><td>⋯        </td><td>14.50000 </td><td>13.50000 </td><td>19.50000 </td><td>15.50000 </td><td>18.00000 </td><td>5.500000 </td><td>4.000000 </td><td>21.5     </td><td>0.5000000</td><td>0.5000000</td></tr>\n",
       "\t<tr><td>2015     </td><td>22       </td><td>1102     </td><td>199      </td><td>207      </td><td> 73      </td><td>160      </td><td>19       </td><td> 59      </td><td>34       </td><td>⋯        </td><td>16.33333 </td><td>12.33333 </td><td>18.66667 </td><td>14.00000 </td><td>15.33333 </td><td>7.000000 </td><td>4.000000 </td><td>21.0     </td><td>0.3333333</td><td>0.6666667</td></tr>\n",
       "\t<tr><td>2015     </td><td>27       </td><td>1102     </td><td>261      </td><td>270      </td><td> 96      </td><td>207      </td><td>27       </td><td> 77      </td><td>42       </td><td>⋯        </td><td>14.50000 </td><td>11.25000 </td><td>18.50000 </td><td>12.75000 </td><td>16.00000 </td><td>8.250000 </td><td>4.000000 </td><td>20.5     </td><td>0.2500000</td><td>0.7500000</td></tr>\n",
       "\t<tr><td>2015     </td><td>30       </td><td>1102     </td><td>320      </td><td>304      </td><td>116      </td><td>260      </td><td>32       </td><td>101      </td><td>56       </td><td>⋯        </td><td>16.60000 </td><td>13.60000 </td><td>19.60000 </td><td>12.80000 </td><td>14.60000 </td><td>8.000000 </td><td>3.800000 </td><td>19.6     </td><td>0.4000000</td><td>0.6000000</td></tr>\n",
       "\t<tr><td>2015     </td><td>35       </td><td>1102     </td><td>397      </td><td>365      </td><td>143      </td><td>310      </td><td>41       </td><td>126      </td><td>70       </td><td>⋯        </td><td>16.66667 </td><td>12.83333 </td><td>20.00000 </td><td>14.16667 </td><td>14.33333 </td><td>7.666667 </td><td>3.833333 </td><td>19.0     </td><td>0.5000000</td><td>0.5000000</td></tr>\n",
       "</tbody>\n",
       "</table>\n"
      ],
      "text/latex": [
       "\\begin{tabular}{r|lllllllllllllllllllllllllllllllllllll}\n",
       " Season & DayNum & TeamID & ScoreSum & OppScoreSum & FGMSum & FGASum & FGM3Sum & FGA3Sum & FTMSum & ⋯ & FTAAvg & ORAvg & DRAvg & AstAvg & TOAvg & StlAvg & BlkAvg & PFAvg & WAvg & LAvg\\\\\n",
       "\\hline\n",
       "\t 2015      & 11        & 1102      &  78       &  84       &  31       &  62       &  6        &  19       & 10        & ⋯         & 15.00000  & 15.00000  & 17.00000  & 14.00000  & 18.00000  & 8.000000  & 6.000000  & 21.0      & 0.0000000 & 1.0000000\\\\\n",
       "\t 2015      & 12        & 1102      & 146       & 139       &  55       & 105       & 15        &  39       & 21        & ⋯         & 14.50000  & 13.50000  & 19.50000  & 15.50000  & 18.00000  & 5.500000  & 4.000000  & 21.5      & 0.5000000 & 0.5000000\\\\\n",
       "\t 2015      & 22        & 1102      & 199       & 207       &  73       & 160       & 19        &  59       & 34        & ⋯         & 16.33333  & 12.33333  & 18.66667  & 14.00000  & 15.33333  & 7.000000  & 4.000000  & 21.0      & 0.3333333 & 0.6666667\\\\\n",
       "\t 2015      & 27        & 1102      & 261       & 270       &  96       & 207       & 27        &  77       & 42        & ⋯         & 14.50000  & 11.25000  & 18.50000  & 12.75000  & 16.00000  & 8.250000  & 4.000000  & 20.5      & 0.2500000 & 0.7500000\\\\\n",
       "\t 2015      & 30        & 1102      & 320       & 304       & 116       & 260       & 32        & 101       & 56        & ⋯         & 16.60000  & 13.60000  & 19.60000  & 12.80000  & 14.60000  & 8.000000  & 3.800000  & 19.6      & 0.4000000 & 0.6000000\\\\\n",
       "\t 2015      & 35        & 1102      & 397       & 365       & 143       & 310       & 41        & 126       & 70        & ⋯         & 16.66667  & 12.83333  & 20.00000  & 14.16667  & 14.33333  & 7.666667  & 3.833333  & 19.0      & 0.5000000 & 0.5000000\\\\\n",
       "\\end{tabular}\n"
      ],
      "text/markdown": [
       "\n",
       "| Season | DayNum | TeamID | ScoreSum | OppScoreSum | FGMSum | FGASum | FGM3Sum | FGA3Sum | FTMSum | ⋯ | FTAAvg | ORAvg | DRAvg | AstAvg | TOAvg | StlAvg | BlkAvg | PFAvg | WAvg | LAvg |\n",
       "|---|---|---|---|---|---|---|---|---|---|---|---|---|---|---|---|---|---|---|---|---|\n",
       "| 2015      | 11        | 1102      |  78       |  84       |  31       |  62       |  6        |  19       | 10        | ⋯         | 15.00000  | 15.00000  | 17.00000  | 14.00000  | 18.00000  | 8.000000  | 6.000000  | 21.0      | 0.0000000 | 1.0000000 |\n",
       "| 2015      | 12        | 1102      | 146       | 139       |  55       | 105       | 15        |  39       | 21        | ⋯         | 14.50000  | 13.50000  | 19.50000  | 15.50000  | 18.00000  | 5.500000  | 4.000000  | 21.5      | 0.5000000 | 0.5000000 |\n",
       "| 2015      | 22        | 1102      | 199       | 207       |  73       | 160       | 19        |  59       | 34        | ⋯         | 16.33333  | 12.33333  | 18.66667  | 14.00000  | 15.33333  | 7.000000  | 4.000000  | 21.0      | 0.3333333 | 0.6666667 |\n",
       "| 2015      | 27        | 1102      | 261       | 270       |  96       | 207       | 27        |  77       | 42        | ⋯         | 14.50000  | 11.25000  | 18.50000  | 12.75000  | 16.00000  | 8.250000  | 4.000000  | 20.5      | 0.2500000 | 0.7500000 |\n",
       "| 2015      | 30        | 1102      | 320       | 304       | 116       | 260       | 32        | 101       | 56        | ⋯         | 16.60000  | 13.60000  | 19.60000  | 12.80000  | 14.60000  | 8.000000  | 3.800000  | 19.6      | 0.4000000 | 0.6000000 |\n",
       "| 2015      | 35        | 1102      | 397       | 365       | 143       | 310       | 41        | 126       | 70        | ⋯         | 16.66667  | 12.83333  | 20.00000  | 14.16667  | 14.33333  | 7.666667  | 3.833333  | 19.0      | 0.5000000 | 0.5000000 |\n",
       "\n"
      ],
      "text/plain": [
       "  Season DayNum TeamID ScoreSum OppScoreSum FGMSum FGASum FGM3Sum FGA3Sum\n",
       "1 2015   11     1102    78       84          31     62     6       19    \n",
       "2 2015   12     1102   146      139          55    105    15       39    \n",
       "3 2015   22     1102   199      207          73    160    19       59    \n",
       "4 2015   27     1102   261      270          96    207    27       77    \n",
       "5 2015   30     1102   320      304         116    260    32      101    \n",
       "6 2015   35     1102   397      365         143    310    41      126    \n",
       "  FTMSum ⋯ FTAAvg   ORAvg    DRAvg    AstAvg   TOAvg    StlAvg   BlkAvg   PFAvg\n",
       "1 10     ⋯ 15.00000 15.00000 17.00000 14.00000 18.00000 8.000000 6.000000 21.0 \n",
       "2 21     ⋯ 14.50000 13.50000 19.50000 15.50000 18.00000 5.500000 4.000000 21.5 \n",
       "3 34     ⋯ 16.33333 12.33333 18.66667 14.00000 15.33333 7.000000 4.000000 21.0 \n",
       "4 42     ⋯ 14.50000 11.25000 18.50000 12.75000 16.00000 8.250000 4.000000 20.5 \n",
       "5 56     ⋯ 16.60000 13.60000 19.60000 12.80000 14.60000 8.000000 3.800000 19.6 \n",
       "6 70     ⋯ 16.66667 12.83333 20.00000 14.16667 14.33333 7.666667 3.833333 19.0 \n",
       "  WAvg      LAvg     \n",
       "1 0.0000000 1.0000000\n",
       "2 0.5000000 0.5000000\n",
       "3 0.3333333 0.6666667\n",
       "4 0.2500000 0.7500000\n",
       "5 0.4000000 0.6000000\n",
       "6 0.5000000 0.5000000"
      ]
     },
     "metadata": {},
     "output_type": "display_data"
    }
   ],
   "source": [
    "teams.stats.cumul %>% filter(Season==2014,TeamID==1102) %>% head\n",
    "teams.stats.cumul %>% filter(Season==2015,TeamID==1102) %>% head"
   ]
  },
  {
   "cell_type": "code",
   "execution_count": 11,
   "metadata": {},
   "outputs": [],
   "source": [
    "# create missing row\n",
    "teams.stats.cumul %>% complete(Season=2014:2018,DayNum=1:140,TeamID) %>% \n",
    "    group_by(Season,TeamID) %>%\n",
    "    fill(everything()) %>%\n",
    "    ungroup() -> teams.stats.cumul"
   ]
  },
  {
   "cell_type": "code",
   "execution_count": 12,
   "metadata": {},
   "outputs": [
    {
     "data": {
      "text/html": [
       "<table>\n",
       "<thead><tr><th scope=col>Season</th><th scope=col>DayNum</th><th scope=col>TeamID</th><th scope=col>ScoreSum</th><th scope=col>OppScoreSum</th><th scope=col>FGMSum</th><th scope=col>FGASum</th><th scope=col>FGM3Sum</th><th scope=col>FGA3Sum</th><th scope=col>FTMSum</th><th scope=col>⋯</th><th scope=col>FTAAvg</th><th scope=col>ORAvg</th><th scope=col>DRAvg</th><th scope=col>AstAvg</th><th scope=col>TOAvg</th><th scope=col>StlAvg</th><th scope=col>BlkAvg</th><th scope=col>PFAvg</th><th scope=col>WAvg</th><th scope=col>LAvg</th></tr></thead>\n",
       "<tbody>\n",
       "\t<tr><td>2014     </td><td> 1       </td><td>1102     </td><td> NA      </td><td> NA      </td><td>NA       </td><td> NA      </td><td>NA       </td><td>NA       </td><td>NA       </td><td>⋯        </td><td>      NA </td><td>  NA     </td><td>NA       </td><td>      NA </td><td>      NA </td><td>      NA </td><td>      NA </td><td>NA       </td><td>       NA</td><td>       NA</td></tr>\n",
       "\t<tr><td>2014     </td><td> 2       </td><td>1102     </td><td> NA      </td><td> NA      </td><td>NA       </td><td> NA      </td><td>NA       </td><td>NA       </td><td>NA       </td><td>⋯        </td><td>      NA </td><td>  NA     </td><td>NA       </td><td>      NA </td><td>      NA </td><td>      NA </td><td>      NA </td><td>NA       </td><td>       NA</td><td>       NA</td></tr>\n",
       "\t<tr><td>2014     </td><td> 3       </td><td>1102     </td><td> NA      </td><td> NA      </td><td>NA       </td><td> NA      </td><td>NA       </td><td>NA       </td><td>NA       </td><td>⋯        </td><td>      NA </td><td>  NA     </td><td>NA       </td><td>      NA </td><td>      NA </td><td>      NA </td><td>      NA </td><td>NA       </td><td>       NA</td><td>       NA</td></tr>\n",
       "\t<tr><td>2014     </td><td> 4       </td><td>1102     </td><td> 79      </td><td> 68      </td><td>26       </td><td> 49      </td><td>10       </td><td>15       </td><td>17       </td><td>⋯        </td><td>26.00000 </td><td>10.0     </td><td>30       </td><td>11.00000 </td><td>18.00000 </td><td>8.000000 </td><td>4.000000 </td><td>18       </td><td>1.0000000</td><td>0.0000000</td></tr>\n",
       "\t<tr><td>2014     </td><td> 5       </td><td>1102     </td><td>142      </td><td>139      </td><td>49       </td><td>102      </td><td>15       </td><td>37       </td><td>29       </td><td>⋯        </td><td>22.50000 </td><td> 8.5     </td><td>28       </td><td>10.00000 </td><td>17.50000 </td><td>8.000000 </td><td>2.000000 </td><td>19       </td><td>0.5000000</td><td>0.5000000</td></tr>\n",
       "\t<tr><td>2014     </td><td> 6       </td><td>1102     </td><td>142      </td><td>139      </td><td>49       </td><td>102      </td><td>15       </td><td>37       </td><td>29       </td><td>⋯        </td><td>22.50000 </td><td> 8.5     </td><td>28       </td><td>10.00000 </td><td>17.50000 </td><td>8.000000 </td><td>2.000000 </td><td>19       </td><td>0.5000000</td><td>0.5000000</td></tr>\n",
       "\t<tr><td>2014     </td><td> 7       </td><td>1102     </td><td>142      </td><td>139      </td><td>49       </td><td>102      </td><td>15       </td><td>37       </td><td>29       </td><td>⋯        </td><td>22.50000 </td><td> 8.5     </td><td>28       </td><td>10.00000 </td><td>17.50000 </td><td>8.000000 </td><td>2.000000 </td><td>19       </td><td>0.5000000</td><td>0.5000000</td></tr>\n",
       "\t<tr><td>2014     </td><td> 8       </td><td>1102     </td><td>142      </td><td>139      </td><td>49       </td><td>102      </td><td>15       </td><td>37       </td><td>29       </td><td>⋯        </td><td>22.50000 </td><td> 8.5     </td><td>28       </td><td>10.00000 </td><td>17.50000 </td><td>8.000000 </td><td>2.000000 </td><td>19       </td><td>0.5000000</td><td>0.5000000</td></tr>\n",
       "\t<tr><td>2014     </td><td> 9       </td><td>1102     </td><td>142      </td><td>139      </td><td>49       </td><td>102      </td><td>15       </td><td>37       </td><td>29       </td><td>⋯        </td><td>22.50000 </td><td> 8.5     </td><td>28       </td><td>10.00000 </td><td>17.50000 </td><td>8.000000 </td><td>2.000000 </td><td>19       </td><td>0.5000000</td><td>0.5000000</td></tr>\n",
       "\t<tr><td>2014     </td><td>10       </td><td>1102     </td><td>224      </td><td>223      </td><td>76       </td><td>159      </td><td>27       </td><td>63       </td><td>45       </td><td>⋯        </td><td>23.66667 </td><td> 9.0     </td><td>25       </td><td>11.66667 </td><td>15.66667 </td><td>6.666667 </td><td>1.666667 </td><td>21       </td><td>0.3333333</td><td>0.6666667</td></tr>\n",
       "</tbody>\n",
       "</table>\n"
      ],
      "text/latex": [
       "\\begin{tabular}{r|lllllllllllllllllllllllllllllllllllll}\n",
       " Season & DayNum & TeamID & ScoreSum & OppScoreSum & FGMSum & FGASum & FGM3Sum & FGA3Sum & FTMSum & ⋯ & FTAAvg & ORAvg & DRAvg & AstAvg & TOAvg & StlAvg & BlkAvg & PFAvg & WAvg & LAvg\\\\\n",
       "\\hline\n",
       "\t 2014      &  1        & 1102      &  NA       &  NA       & NA        &  NA       & NA        & NA        & NA        & ⋯         &       NA  &   NA      & NA        &       NA  &       NA  &       NA  &       NA  & NA        &        NA &        NA\\\\\n",
       "\t 2014      &  2        & 1102      &  NA       &  NA       & NA        &  NA       & NA        & NA        & NA        & ⋯         &       NA  &   NA      & NA        &       NA  &       NA  &       NA  &       NA  & NA        &        NA &        NA\\\\\n",
       "\t 2014      &  3        & 1102      &  NA       &  NA       & NA        &  NA       & NA        & NA        & NA        & ⋯         &       NA  &   NA      & NA        &       NA  &       NA  &       NA  &       NA  & NA        &        NA &        NA\\\\\n",
       "\t 2014      &  4        & 1102      &  79       &  68       & 26        &  49       & 10        & 15        & 17        & ⋯         & 26.00000  & 10.0      & 30        & 11.00000  & 18.00000  & 8.000000  & 4.000000  & 18        & 1.0000000 & 0.0000000\\\\\n",
       "\t 2014      &  5        & 1102      & 142       & 139       & 49        & 102       & 15        & 37        & 29        & ⋯         & 22.50000  &  8.5      & 28        & 10.00000  & 17.50000  & 8.000000  & 2.000000  & 19        & 0.5000000 & 0.5000000\\\\\n",
       "\t 2014      &  6        & 1102      & 142       & 139       & 49        & 102       & 15        & 37        & 29        & ⋯         & 22.50000  &  8.5      & 28        & 10.00000  & 17.50000  & 8.000000  & 2.000000  & 19        & 0.5000000 & 0.5000000\\\\\n",
       "\t 2014      &  7        & 1102      & 142       & 139       & 49        & 102       & 15        & 37        & 29        & ⋯         & 22.50000  &  8.5      & 28        & 10.00000  & 17.50000  & 8.000000  & 2.000000  & 19        & 0.5000000 & 0.5000000\\\\\n",
       "\t 2014      &  8        & 1102      & 142       & 139       & 49        & 102       & 15        & 37        & 29        & ⋯         & 22.50000  &  8.5      & 28        & 10.00000  & 17.50000  & 8.000000  & 2.000000  & 19        & 0.5000000 & 0.5000000\\\\\n",
       "\t 2014      &  9        & 1102      & 142       & 139       & 49        & 102       & 15        & 37        & 29        & ⋯         & 22.50000  &  8.5      & 28        & 10.00000  & 17.50000  & 8.000000  & 2.000000  & 19        & 0.5000000 & 0.5000000\\\\\n",
       "\t 2014      & 10        & 1102      & 224       & 223       & 76        & 159       & 27        & 63        & 45        & ⋯         & 23.66667  &  9.0      & 25        & 11.66667  & 15.66667  & 6.666667  & 1.666667  & 21        & 0.3333333 & 0.6666667\\\\\n",
       "\\end{tabular}\n"
      ],
      "text/markdown": [
       "\n",
       "| Season | DayNum | TeamID | ScoreSum | OppScoreSum | FGMSum | FGASum | FGM3Sum | FGA3Sum | FTMSum | ⋯ | FTAAvg | ORAvg | DRAvg | AstAvg | TOAvg | StlAvg | BlkAvg | PFAvg | WAvg | LAvg |\n",
       "|---|---|---|---|---|---|---|---|---|---|---|---|---|---|---|---|---|---|---|---|---|\n",
       "| 2014      |  1        | 1102      |  NA       |  NA       | NA        |  NA       | NA        | NA        | NA        | ⋯         |       NA  |   NA      | NA        |       NA  |       NA  |       NA  |       NA  | NA        |        NA |        NA |\n",
       "| 2014      |  2        | 1102      |  NA       |  NA       | NA        |  NA       | NA        | NA        | NA        | ⋯         |       NA  |   NA      | NA        |       NA  |       NA  |       NA  |       NA  | NA        |        NA |        NA |\n",
       "| 2014      |  3        | 1102      |  NA       |  NA       | NA        |  NA       | NA        | NA        | NA        | ⋯         |       NA  |   NA      | NA        |       NA  |       NA  |       NA  |       NA  | NA        |        NA |        NA |\n",
       "| 2014      |  4        | 1102      |  79       |  68       | 26        |  49       | 10        | 15        | 17        | ⋯         | 26.00000  | 10.0      | 30        | 11.00000  | 18.00000  | 8.000000  | 4.000000  | 18        | 1.0000000 | 0.0000000 |\n",
       "| 2014      |  5        | 1102      | 142       | 139       | 49        | 102       | 15        | 37        | 29        | ⋯         | 22.50000  |  8.5      | 28        | 10.00000  | 17.50000  | 8.000000  | 2.000000  | 19        | 0.5000000 | 0.5000000 |\n",
       "| 2014      |  6        | 1102      | 142       | 139       | 49        | 102       | 15        | 37        | 29        | ⋯         | 22.50000  |  8.5      | 28        | 10.00000  | 17.50000  | 8.000000  | 2.000000  | 19        | 0.5000000 | 0.5000000 |\n",
       "| 2014      |  7        | 1102      | 142       | 139       | 49        | 102       | 15        | 37        | 29        | ⋯         | 22.50000  |  8.5      | 28        | 10.00000  | 17.50000  | 8.000000  | 2.000000  | 19        | 0.5000000 | 0.5000000 |\n",
       "| 2014      |  8        | 1102      | 142       | 139       | 49        | 102       | 15        | 37        | 29        | ⋯         | 22.50000  |  8.5      | 28        | 10.00000  | 17.50000  | 8.000000  | 2.000000  | 19        | 0.5000000 | 0.5000000 |\n",
       "| 2014      |  9        | 1102      | 142       | 139       | 49        | 102       | 15        | 37        | 29        | ⋯         | 22.50000  |  8.5      | 28        | 10.00000  | 17.50000  | 8.000000  | 2.000000  | 19        | 0.5000000 | 0.5000000 |\n",
       "| 2014      | 10        | 1102      | 224       | 223       | 76        | 159       | 27        | 63        | 45        | ⋯         | 23.66667  |  9.0      | 25        | 11.66667  | 15.66667  | 6.666667  | 1.666667  | 21        | 0.3333333 | 0.6666667 |\n",
       "\n"
      ],
      "text/plain": [
       "   Season DayNum TeamID ScoreSum OppScoreSum FGMSum FGASum FGM3Sum FGA3Sum\n",
       "1  2014    1     1102    NA       NA         NA      NA    NA      NA     \n",
       "2  2014    2     1102    NA       NA         NA      NA    NA      NA     \n",
       "3  2014    3     1102    NA       NA         NA      NA    NA      NA     \n",
       "4  2014    4     1102    79       68         26      49    10      15     \n",
       "5  2014    5     1102   142      139         49     102    15      37     \n",
       "6  2014    6     1102   142      139         49     102    15      37     \n",
       "7  2014    7     1102   142      139         49     102    15      37     \n",
       "8  2014    8     1102   142      139         49     102    15      37     \n",
       "9  2014    9     1102   142      139         49     102    15      37     \n",
       "10 2014   10     1102   224      223         76     159    27      63     \n",
       "   FTMSum ⋯ FTAAvg   ORAvg DRAvg AstAvg   TOAvg    StlAvg   BlkAvg   PFAvg\n",
       "1  NA     ⋯       NA   NA  NA          NA       NA       NA       NA NA   \n",
       "2  NA     ⋯       NA   NA  NA          NA       NA       NA       NA NA   \n",
       "3  NA     ⋯       NA   NA  NA          NA       NA       NA       NA NA   \n",
       "4  17     ⋯ 26.00000 10.0  30    11.00000 18.00000 8.000000 4.000000 18   \n",
       "5  29     ⋯ 22.50000  8.5  28    10.00000 17.50000 8.000000 2.000000 19   \n",
       "6  29     ⋯ 22.50000  8.5  28    10.00000 17.50000 8.000000 2.000000 19   \n",
       "7  29     ⋯ 22.50000  8.5  28    10.00000 17.50000 8.000000 2.000000 19   \n",
       "8  29     ⋯ 22.50000  8.5  28    10.00000 17.50000 8.000000 2.000000 19   \n",
       "9  29     ⋯ 22.50000  8.5  28    10.00000 17.50000 8.000000 2.000000 19   \n",
       "10 45     ⋯ 23.66667  9.0  25    11.66667 15.66667 6.666667 1.666667 21   \n",
       "   WAvg      LAvg     \n",
       "1         NA        NA\n",
       "2         NA        NA\n",
       "3         NA        NA\n",
       "4  1.0000000 0.0000000\n",
       "5  0.5000000 0.5000000\n",
       "6  0.5000000 0.5000000\n",
       "7  0.5000000 0.5000000\n",
       "8  0.5000000 0.5000000\n",
       "9  0.5000000 0.5000000\n",
       "10 0.3333333 0.6666667"
      ]
     },
     "metadata": {},
     "output_type": "display_data"
    },
    {
     "data": {
      "text/html": [
       "<table>\n",
       "<thead><tr><th scope=col>Season</th><th scope=col>DayNum</th><th scope=col>TeamID</th><th scope=col>ScoreSum</th><th scope=col>OppScoreSum</th><th scope=col>FGMSum</th><th scope=col>FGASum</th><th scope=col>FGM3Sum</th><th scope=col>FGA3Sum</th><th scope=col>FTMSum</th><th scope=col>⋯</th><th scope=col>FTAAvg</th><th scope=col>ORAvg</th><th scope=col>DRAvg</th><th scope=col>AstAvg</th><th scope=col>TOAvg</th><th scope=col>StlAvg</th><th scope=col>BlkAvg</th><th scope=col>PFAvg</th><th scope=col>WAvg</th><th scope=col>LAvg</th></tr></thead>\n",
       "<tbody>\n",
       "\t<tr><td>2015</td><td>10  </td><td>1102</td><td> NA </td><td> NA </td><td>NA  </td><td> NA </td><td>NA  </td><td>NA  </td><td>NA  </td><td>⋯   </td><td>  NA</td><td>  NA</td><td>  NA</td><td>  NA</td><td>NA  </td><td> NA </td><td>NA  </td><td>  NA</td><td> NA </td><td> NA </td></tr>\n",
       "\t<tr><td>2015</td><td>11  </td><td>1102</td><td> 78 </td><td> 84 </td><td>31  </td><td> 62 </td><td> 6  </td><td>19  </td><td>10  </td><td>⋯   </td><td>15.0</td><td>15.0</td><td>17.0</td><td>14.0</td><td>18  </td><td>8.0 </td><td> 6  </td><td>21.0</td><td>0.0 </td><td>1.0 </td></tr>\n",
       "\t<tr><td>2015</td><td>12  </td><td>1102</td><td>146 </td><td>139 </td><td>55  </td><td>105 </td><td>15  </td><td>39  </td><td>21  </td><td>⋯   </td><td>14.5</td><td>13.5</td><td>19.5</td><td>15.5</td><td>18  </td><td>5.5 </td><td> 4  </td><td>21.5</td><td>0.5 </td><td>0.5 </td></tr>\n",
       "\t<tr><td>2015</td><td>13  </td><td>1102</td><td>146 </td><td>139 </td><td>55  </td><td>105 </td><td>15  </td><td>39  </td><td>21  </td><td>⋯   </td><td>14.5</td><td>13.5</td><td>19.5</td><td>15.5</td><td>18  </td><td>5.5 </td><td> 4  </td><td>21.5</td><td>0.5 </td><td>0.5 </td></tr>\n",
       "\t<tr><td>2015</td><td>14  </td><td>1102</td><td>146 </td><td>139 </td><td>55  </td><td>105 </td><td>15  </td><td>39  </td><td>21  </td><td>⋯   </td><td>14.5</td><td>13.5</td><td>19.5</td><td>15.5</td><td>18  </td><td>5.5 </td><td> 4  </td><td>21.5</td><td>0.5 </td><td>0.5 </td></tr>\n",
       "\t<tr><td>2015</td><td>15  </td><td>1102</td><td>146 </td><td>139 </td><td>55  </td><td>105 </td><td>15  </td><td>39  </td><td>21  </td><td>⋯   </td><td>14.5</td><td>13.5</td><td>19.5</td><td>15.5</td><td>18  </td><td>5.5 </td><td> 4  </td><td>21.5</td><td>0.5 </td><td>0.5 </td></tr>\n",
       "\t<tr><td>2015</td><td>16  </td><td>1102</td><td>146 </td><td>139 </td><td>55  </td><td>105 </td><td>15  </td><td>39  </td><td>21  </td><td>⋯   </td><td>14.5</td><td>13.5</td><td>19.5</td><td>15.5</td><td>18  </td><td>5.5 </td><td> 4  </td><td>21.5</td><td>0.5 </td><td>0.5 </td></tr>\n",
       "\t<tr><td>2015</td><td>17  </td><td>1102</td><td>146 </td><td>139 </td><td>55  </td><td>105 </td><td>15  </td><td>39  </td><td>21  </td><td>⋯   </td><td>14.5</td><td>13.5</td><td>19.5</td><td>15.5</td><td>18  </td><td>5.5 </td><td> 4  </td><td>21.5</td><td>0.5 </td><td>0.5 </td></tr>\n",
       "\t<tr><td>2015</td><td>18  </td><td>1102</td><td>146 </td><td>139 </td><td>55  </td><td>105 </td><td>15  </td><td>39  </td><td>21  </td><td>⋯   </td><td>14.5</td><td>13.5</td><td>19.5</td><td>15.5</td><td>18  </td><td>5.5 </td><td> 4  </td><td>21.5</td><td>0.5 </td><td>0.5 </td></tr>\n",
       "\t<tr><td>2015</td><td>19  </td><td>1102</td><td>146 </td><td>139 </td><td>55  </td><td>105 </td><td>15  </td><td>39  </td><td>21  </td><td>⋯   </td><td>14.5</td><td>13.5</td><td>19.5</td><td>15.5</td><td>18  </td><td>5.5 </td><td> 4  </td><td>21.5</td><td>0.5 </td><td>0.5 </td></tr>\n",
       "</tbody>\n",
       "</table>\n"
      ],
      "text/latex": [
       "\\begin{tabular}{r|lllllllllllllllllllllllllllllllllllll}\n",
       " Season & DayNum & TeamID & ScoreSum & OppScoreSum & FGMSum & FGASum & FGM3Sum & FGA3Sum & FTMSum & ⋯ & FTAAvg & ORAvg & DRAvg & AstAvg & TOAvg & StlAvg & BlkAvg & PFAvg & WAvg & LAvg\\\\\n",
       "\\hline\n",
       "\t 2015 & 10   & 1102 &  NA  &  NA  & NA   &  NA  & NA   & NA   & NA   & ⋯    &   NA &   NA &   NA &   NA & NA   &  NA  & NA   &   NA &  NA  &  NA \\\\\n",
       "\t 2015 & 11   & 1102 &  78  &  84  & 31   &  62  &  6   & 19   & 10   & ⋯    & 15.0 & 15.0 & 17.0 & 14.0 & 18   & 8.0  &  6   & 21.0 & 0.0  & 1.0 \\\\\n",
       "\t 2015 & 12   & 1102 & 146  & 139  & 55   & 105  & 15   & 39   & 21   & ⋯    & 14.5 & 13.5 & 19.5 & 15.5 & 18   & 5.5  &  4   & 21.5 & 0.5  & 0.5 \\\\\n",
       "\t 2015 & 13   & 1102 & 146  & 139  & 55   & 105  & 15   & 39   & 21   & ⋯    & 14.5 & 13.5 & 19.5 & 15.5 & 18   & 5.5  &  4   & 21.5 & 0.5  & 0.5 \\\\\n",
       "\t 2015 & 14   & 1102 & 146  & 139  & 55   & 105  & 15   & 39   & 21   & ⋯    & 14.5 & 13.5 & 19.5 & 15.5 & 18   & 5.5  &  4   & 21.5 & 0.5  & 0.5 \\\\\n",
       "\t 2015 & 15   & 1102 & 146  & 139  & 55   & 105  & 15   & 39   & 21   & ⋯    & 14.5 & 13.5 & 19.5 & 15.5 & 18   & 5.5  &  4   & 21.5 & 0.5  & 0.5 \\\\\n",
       "\t 2015 & 16   & 1102 & 146  & 139  & 55   & 105  & 15   & 39   & 21   & ⋯    & 14.5 & 13.5 & 19.5 & 15.5 & 18   & 5.5  &  4   & 21.5 & 0.5  & 0.5 \\\\\n",
       "\t 2015 & 17   & 1102 & 146  & 139  & 55   & 105  & 15   & 39   & 21   & ⋯    & 14.5 & 13.5 & 19.5 & 15.5 & 18   & 5.5  &  4   & 21.5 & 0.5  & 0.5 \\\\\n",
       "\t 2015 & 18   & 1102 & 146  & 139  & 55   & 105  & 15   & 39   & 21   & ⋯    & 14.5 & 13.5 & 19.5 & 15.5 & 18   & 5.5  &  4   & 21.5 & 0.5  & 0.5 \\\\\n",
       "\t 2015 & 19   & 1102 & 146  & 139  & 55   & 105  & 15   & 39   & 21   & ⋯    & 14.5 & 13.5 & 19.5 & 15.5 & 18   & 5.5  &  4   & 21.5 & 0.5  & 0.5 \\\\\n",
       "\\end{tabular}\n"
      ],
      "text/markdown": [
       "\n",
       "| Season | DayNum | TeamID | ScoreSum | OppScoreSum | FGMSum | FGASum | FGM3Sum | FGA3Sum | FTMSum | ⋯ | FTAAvg | ORAvg | DRAvg | AstAvg | TOAvg | StlAvg | BlkAvg | PFAvg | WAvg | LAvg |\n",
       "|---|---|---|---|---|---|---|---|---|---|---|---|---|---|---|---|---|---|---|---|---|\n",
       "| 2015 | 10   | 1102 |  NA  |  NA  | NA   |  NA  | NA   | NA   | NA   | ⋯    |   NA |   NA |   NA |   NA | NA   |  NA  | NA   |   NA |  NA  |  NA  |\n",
       "| 2015 | 11   | 1102 |  78  |  84  | 31   |  62  |  6   | 19   | 10   | ⋯    | 15.0 | 15.0 | 17.0 | 14.0 | 18   | 8.0  |  6   | 21.0 | 0.0  | 1.0  |\n",
       "| 2015 | 12   | 1102 | 146  | 139  | 55   | 105  | 15   | 39   | 21   | ⋯    | 14.5 | 13.5 | 19.5 | 15.5 | 18   | 5.5  |  4   | 21.5 | 0.5  | 0.5  |\n",
       "| 2015 | 13   | 1102 | 146  | 139  | 55   | 105  | 15   | 39   | 21   | ⋯    | 14.5 | 13.5 | 19.5 | 15.5 | 18   | 5.5  |  4   | 21.5 | 0.5  | 0.5  |\n",
       "| 2015 | 14   | 1102 | 146  | 139  | 55   | 105  | 15   | 39   | 21   | ⋯    | 14.5 | 13.5 | 19.5 | 15.5 | 18   | 5.5  |  4   | 21.5 | 0.5  | 0.5  |\n",
       "| 2015 | 15   | 1102 | 146  | 139  | 55   | 105  | 15   | 39   | 21   | ⋯    | 14.5 | 13.5 | 19.5 | 15.5 | 18   | 5.5  |  4   | 21.5 | 0.5  | 0.5  |\n",
       "| 2015 | 16   | 1102 | 146  | 139  | 55   | 105  | 15   | 39   | 21   | ⋯    | 14.5 | 13.5 | 19.5 | 15.5 | 18   | 5.5  |  4   | 21.5 | 0.5  | 0.5  |\n",
       "| 2015 | 17   | 1102 | 146  | 139  | 55   | 105  | 15   | 39   | 21   | ⋯    | 14.5 | 13.5 | 19.5 | 15.5 | 18   | 5.5  |  4   | 21.5 | 0.5  | 0.5  |\n",
       "| 2015 | 18   | 1102 | 146  | 139  | 55   | 105  | 15   | 39   | 21   | ⋯    | 14.5 | 13.5 | 19.5 | 15.5 | 18   | 5.5  |  4   | 21.5 | 0.5  | 0.5  |\n",
       "| 2015 | 19   | 1102 | 146  | 139  | 55   | 105  | 15   | 39   | 21   | ⋯    | 14.5 | 13.5 | 19.5 | 15.5 | 18   | 5.5  |  4   | 21.5 | 0.5  | 0.5  |\n",
       "\n"
      ],
      "text/plain": [
       "   Season DayNum TeamID ScoreSum OppScoreSum FGMSum FGASum FGM3Sum FGA3Sum\n",
       "1  2015   10     1102    NA       NA         NA      NA    NA      NA     \n",
       "2  2015   11     1102    78       84         31      62     6      19     \n",
       "3  2015   12     1102   146      139         55     105    15      39     \n",
       "4  2015   13     1102   146      139         55     105    15      39     \n",
       "5  2015   14     1102   146      139         55     105    15      39     \n",
       "6  2015   15     1102   146      139         55     105    15      39     \n",
       "7  2015   16     1102   146      139         55     105    15      39     \n",
       "8  2015   17     1102   146      139         55     105    15      39     \n",
       "9  2015   18     1102   146      139         55     105    15      39     \n",
       "10 2015   19     1102   146      139         55     105    15      39     \n",
       "   FTMSum ⋯ FTAAvg ORAvg DRAvg AstAvg TOAvg StlAvg BlkAvg PFAvg WAvg LAvg\n",
       "1  NA     ⋯   NA     NA    NA    NA   NA     NA    NA       NA   NA   NA \n",
       "2  10     ⋯ 15.0   15.0  17.0  14.0   18    8.0     6     21.0  0.0  1.0 \n",
       "3  21     ⋯ 14.5   13.5  19.5  15.5   18    5.5     4     21.5  0.5  0.5 \n",
       "4  21     ⋯ 14.5   13.5  19.5  15.5   18    5.5     4     21.5  0.5  0.5 \n",
       "5  21     ⋯ 14.5   13.5  19.5  15.5   18    5.5     4     21.5  0.5  0.5 \n",
       "6  21     ⋯ 14.5   13.5  19.5  15.5   18    5.5     4     21.5  0.5  0.5 \n",
       "7  21     ⋯ 14.5   13.5  19.5  15.5   18    5.5     4     21.5  0.5  0.5 \n",
       "8  21     ⋯ 14.5   13.5  19.5  15.5   18    5.5     4     21.5  0.5  0.5 \n",
       "9  21     ⋯ 14.5   13.5  19.5  15.5   18    5.5     4     21.5  0.5  0.5 \n",
       "10 21     ⋯ 14.5   13.5  19.5  15.5   18    5.5     4     21.5  0.5  0.5 "
      ]
     },
     "metadata": {},
     "output_type": "display_data"
    }
   ],
   "source": [
    "teams.stats.cumul %>% filter(Season==2014,TeamID==1102) %>% head(10)\n",
    "teams.stats.cumul %>% filter(Season==2015,TeamID==1102) %>% head(19) %>% tail(10)"
   ]
  },
  {
   "cell_type": "markdown",
   "metadata": {},
   "source": [
    "#### Regular matchups"
   ]
  },
  {
   "cell_type": "code",
   "execution_count": 13,
   "metadata": {},
   "outputs": [
    {
     "data": {
      "text/html": [
       "<table>\n",
       "<thead><tr><th scope=col>Season</th><th scope=col>DayNum</th><th scope=col>Target</th><th scope=col>TeamID.x</th><th scope=col>TeamID.y</th></tr></thead>\n",
       "<tbody>\n",
       "\t<tr><td>2018</td><td>123 </td><td>1   </td><td>1225</td><td>1381</td></tr>\n",
       "\t<tr><td>2015</td><td> 74 </td><td>1   </td><td>1361</td><td>1424</td></tr>\n",
       "\t<tr><td>2017</td><td> 95 </td><td>0   </td><td>1402</td><td>1426</td></tr>\n",
       "\t<tr><td>2017</td><td> 78 </td><td>1   </td><td>1179</td><td>1356</td></tr>\n",
       "\t<tr><td>2017</td><td> 65 </td><td>0   </td><td>1119</td><td>1248</td></tr>\n",
       "</tbody>\n",
       "</table>\n"
      ],
      "text/latex": [
       "\\begin{tabular}{r|lllll}\n",
       " Season & DayNum & Target & TeamID.x & TeamID.y\\\\\n",
       "\\hline\n",
       "\t 2018 & 123  & 1    & 1225 & 1381\\\\\n",
       "\t 2015 &  74  & 1    & 1361 & 1424\\\\\n",
       "\t 2017 &  95  & 0    & 1402 & 1426\\\\\n",
       "\t 2017 &  78  & 1    & 1179 & 1356\\\\\n",
       "\t 2017 &  65  & 0    & 1119 & 1248\\\\\n",
       "\\end{tabular}\n"
      ],
      "text/markdown": [
       "\n",
       "| Season | DayNum | Target | TeamID.x | TeamID.y |\n",
       "|---|---|---|---|---|\n",
       "| 2018 | 123  | 1    | 1225 | 1381 |\n",
       "| 2015 |  74  | 1    | 1361 | 1424 |\n",
       "| 2017 |  95  | 0    | 1402 | 1426 |\n",
       "| 2017 |  78  | 1    | 1179 | 1356 |\n",
       "| 2017 |  65  | 0    | 1119 | 1248 |\n",
       "\n"
      ],
      "text/plain": [
       "  Season DayNum Target TeamID.x TeamID.y\n",
       "1 2018   123    1      1225     1381    \n",
       "2 2015    74    1      1361     1424    \n",
       "3 2017    95    0      1402     1426    \n",
       "4 2017    78    1      1179     1356    \n",
       "5 2017    65    0      1119     1248    "
      ]
     },
     "metadata": {},
     "output_type": "display_data"
    }
   ],
   "source": [
    "# regular season matchups\n",
    "data.regulars %>% \n",
    "    mutate(TeamID.x=ifelse(WTeamID<LTeamID,WTeamID,LTeamID),\n",
    "           TeamID.y=ifelse(WTeamID>LTeamID,WTeamID,LTeamID)) %>%\n",
    "    mutate(Target=ifelse(WTeamID<LTeamID,1,0)) %>%\n",
    "    mutate(DayNum=DayNum-1) %>%\n",
    "    select(Season,DayNum,Target,TeamID.x,TeamID.y) -> train.matchups\n",
    "train.matchups %>% sample_n(5)"
   ]
  },
  {
   "cell_type": "code",
   "execution_count": 14,
   "metadata": {},
   "outputs": [
    {
     "data": {
      "text/html": [
       "<table>\n",
       "<thead><tr><th scope=col>Season</th><th scope=col>n</th></tr></thead>\n",
       "<tbody>\n",
       "\t<tr><td>2014</td><td>5362</td></tr>\n",
       "\t<tr><td>2015</td><td>5354</td></tr>\n",
       "\t<tr><td>2016</td><td>5369</td></tr>\n",
       "\t<tr><td>2017</td><td>5395</td></tr>\n",
       "\t<tr><td>2018</td><td>5405</td></tr>\n",
       "</tbody>\n",
       "</table>\n"
      ],
      "text/latex": [
       "\\begin{tabular}{r|ll}\n",
       " Season & n\\\\\n",
       "\\hline\n",
       "\t 2014 & 5362\\\\\n",
       "\t 2015 & 5354\\\\\n",
       "\t 2016 & 5369\\\\\n",
       "\t 2017 & 5395\\\\\n",
       "\t 2018 & 5405\\\\\n",
       "\\end{tabular}\n"
      ],
      "text/markdown": [
       "\n",
       "| Season | n |\n",
       "|---|---|\n",
       "| 2014 | 5362 |\n",
       "| 2015 | 5354 |\n",
       "| 2016 | 5369 |\n",
       "| 2017 | 5395 |\n",
       "| 2018 | 5405 |\n",
       "\n"
      ],
      "text/plain": [
       "  Season n   \n",
       "1 2014   5362\n",
       "2 2015   5354\n",
       "3 2016   5369\n",
       "4 2017   5395\n",
       "5 2018   5405"
      ]
     },
     "metadata": {},
     "output_type": "display_data"
    }
   ],
   "source": [
    "train.matchups %>% group_by(Season) %>% summarise(n=n())"
   ]
  },
  {
   "cell_type": "code",
   "execution_count": 15,
   "metadata": {},
   "outputs": [
    {
     "data": {
      "text/html": [
       "<table>\n",
       "<thead><tr><th scope=col>Season</th><th scope=col>DayNum</th><th scope=col>Target</th><th scope=col>TeamID.x</th><th scope=col>TeamID.y</th><th scope=col>ScoreSum.x</th><th scope=col>OppScoreSum.x</th><th scope=col>FGMSum.x</th><th scope=col>FGASum.x</th><th scope=col>FGM3Sum.x</th><th scope=col>⋯</th><th scope=col>FTAAvg.y</th><th scope=col>ORAvg.y</th><th scope=col>DRAvg.y</th><th scope=col>AstAvg.y</th><th scope=col>TOAvg.y</th><th scope=col>StlAvg.y</th><th scope=col>BlkAvg.y</th><th scope=col>PFAvg.y</th><th scope=col>WAvg.y</th><th scope=col>LAvg.y</th></tr></thead>\n",
       "<tbody>\n",
       "\t<tr><td>2017     </td><td> 93      </td><td>1        </td><td>1324     </td><td>1464     </td><td>1616     </td><td>1486     </td><td>556      </td><td>1264     </td><td>139      </td><td>⋯        </td><td>17.95238 </td><td>10.190476</td><td>26.09524 </td><td>14.523810</td><td>12.61905 </td><td>5.571429 </td><td>3.190476 </td><td>17.47619 </td><td>0.3809524</td><td>0.6190476</td></tr>\n",
       "\t<tr><td>2017     </td><td> 52      </td><td>1        </td><td>1221     </td><td>1265     </td><td> 730     </td><td> 777     </td><td>252      </td><td> 586     </td><td> 95      </td><td>⋯        </td><td>18.75000 </td><td> 8.250000</td><td>23.08333 </td><td>12.083333</td><td>13.00000 </td><td>5.250000 </td><td>2.583333 </td><td>20.00000 </td><td>0.3333333</td><td>0.6666667</td></tr>\n",
       "\t<tr><td>2018     </td><td> 39      </td><td>1        </td><td>1127     </td><td>1259     </td><td> 644     </td><td> 622     </td><td>231      </td><td> 482     </td><td> 77      </td><td>⋯        </td><td>20.71429 </td><td>10.571429</td><td>25.57143 </td><td> 9.285714</td><td>15.00000 </td><td>6.428571 </td><td>2.285714 </td><td>22.28571 </td><td>0.0000000</td><td>1.0000000</td></tr>\n",
       "\t<tr><td>2015     </td><td>129      </td><td>0        </td><td>1364     </td><td>1414     </td><td>1948     </td><td>1858     </td><td>689      </td><td>1576     </td><td>197      </td><td>⋯        </td><td>16.27586 </td><td> 9.793103</td><td>25.31034 </td><td>13.758621</td><td>11.82759 </td><td>5.689655 </td><td>4.655172 </td><td>17.41379 </td><td>0.5862069</td><td>0.4137931</td></tr>\n",
       "\t<tr><td>2017     </td><td> 19      </td><td>0        </td><td>1126     </td><td>1308     </td><td> 128     </td><td> 172     </td><td> 43      </td><td> 118     </td><td> 12      </td><td>⋯        </td><td>17.00000 </td><td>12.666667</td><td>23.33333 </td><td>11.333333</td><td>15.00000 </td><td>6.333333 </td><td>5.000000 </td><td>23.66667 </td><td>0.3333333</td><td>0.6666667</td></tr>\n",
       "</tbody>\n",
       "</table>\n"
      ],
      "text/latex": [
       "\\begin{tabular}{r|lllllllllllllllllllllllllllllllllllllllllllllllllllllllllllllllllllllllll}\n",
       " Season & DayNum & Target & TeamID.x & TeamID.y & ScoreSum.x & OppScoreSum.x & FGMSum.x & FGASum.x & FGM3Sum.x & ⋯ & FTAAvg.y & ORAvg.y & DRAvg.y & AstAvg.y & TOAvg.y & StlAvg.y & BlkAvg.y & PFAvg.y & WAvg.y & LAvg.y\\\\\n",
       "\\hline\n",
       "\t 2017      &  93       & 1         & 1324      & 1464      & 1616      & 1486      & 556       & 1264      & 139       & ⋯         & 17.95238  & 10.190476 & 26.09524  & 14.523810 & 12.61905  & 5.571429  & 3.190476  & 17.47619  & 0.3809524 & 0.6190476\\\\\n",
       "\t 2017      &  52       & 1         & 1221      & 1265      &  730      &  777      & 252       &  586      &  95       & ⋯         & 18.75000  &  8.250000 & 23.08333  & 12.083333 & 13.00000  & 5.250000  & 2.583333  & 20.00000  & 0.3333333 & 0.6666667\\\\\n",
       "\t 2018      &  39       & 1         & 1127      & 1259      &  644      &  622      & 231       &  482      &  77       & ⋯         & 20.71429  & 10.571429 & 25.57143  &  9.285714 & 15.00000  & 6.428571  & 2.285714  & 22.28571  & 0.0000000 & 1.0000000\\\\\n",
       "\t 2015      & 129       & 0         & 1364      & 1414      & 1948      & 1858      & 689       & 1576      & 197       & ⋯         & 16.27586  &  9.793103 & 25.31034  & 13.758621 & 11.82759  & 5.689655  & 4.655172  & 17.41379  & 0.5862069 & 0.4137931\\\\\n",
       "\t 2017      &  19       & 0         & 1126      & 1308      &  128      &  172      &  43       &  118      &  12       & ⋯         & 17.00000  & 12.666667 & 23.33333  & 11.333333 & 15.00000  & 6.333333  & 5.000000  & 23.66667  & 0.3333333 & 0.6666667\\\\\n",
       "\\end{tabular}\n"
      ],
      "text/markdown": [
       "\n",
       "| Season | DayNum | Target | TeamID.x | TeamID.y | ScoreSum.x | OppScoreSum.x | FGMSum.x | FGASum.x | FGM3Sum.x | ⋯ | FTAAvg.y | ORAvg.y | DRAvg.y | AstAvg.y | TOAvg.y | StlAvg.y | BlkAvg.y | PFAvg.y | WAvg.y | LAvg.y |\n",
       "|---|---|---|---|---|---|---|---|---|---|---|---|---|---|---|---|---|---|---|---|---|\n",
       "| 2017      |  93       | 1         | 1324      | 1464      | 1616      | 1486      | 556       | 1264      | 139       | ⋯         | 17.95238  | 10.190476 | 26.09524  | 14.523810 | 12.61905  | 5.571429  | 3.190476  | 17.47619  | 0.3809524 | 0.6190476 |\n",
       "| 2017      |  52       | 1         | 1221      | 1265      |  730      |  777      | 252       |  586      |  95       | ⋯         | 18.75000  |  8.250000 | 23.08333  | 12.083333 | 13.00000  | 5.250000  | 2.583333  | 20.00000  | 0.3333333 | 0.6666667 |\n",
       "| 2018      |  39       | 1         | 1127      | 1259      |  644      |  622      | 231       |  482      |  77       | ⋯         | 20.71429  | 10.571429 | 25.57143  |  9.285714 | 15.00000  | 6.428571  | 2.285714  | 22.28571  | 0.0000000 | 1.0000000 |\n",
       "| 2015      | 129       | 0         | 1364      | 1414      | 1948      | 1858      | 689       | 1576      | 197       | ⋯         | 16.27586  |  9.793103 | 25.31034  | 13.758621 | 11.82759  | 5.689655  | 4.655172  | 17.41379  | 0.5862069 | 0.4137931 |\n",
       "| 2017      |  19       | 0         | 1126      | 1308      |  128      |  172      |  43       |  118      |  12       | ⋯         | 17.00000  | 12.666667 | 23.33333  | 11.333333 | 15.00000  | 6.333333  | 5.000000  | 23.66667  | 0.3333333 | 0.6666667 |\n",
       "\n"
      ],
      "text/plain": [
       "  Season DayNum Target TeamID.x TeamID.y ScoreSum.x OppScoreSum.x FGMSum.x\n",
       "1 2017    93    1      1324     1464     1616       1486          556     \n",
       "2 2017    52    1      1221     1265      730        777          252     \n",
       "3 2018    39    1      1127     1259      644        622          231     \n",
       "4 2015   129    0      1364     1414     1948       1858          689     \n",
       "5 2017    19    0      1126     1308      128        172           43     \n",
       "  FGASum.x FGM3Sum.x ⋯ FTAAvg.y ORAvg.y   DRAvg.y  AstAvg.y  TOAvg.y  StlAvg.y\n",
       "1 1264     139       ⋯ 17.95238 10.190476 26.09524 14.523810 12.61905 5.571429\n",
       "2  586      95       ⋯ 18.75000  8.250000 23.08333 12.083333 13.00000 5.250000\n",
       "3  482      77       ⋯ 20.71429 10.571429 25.57143  9.285714 15.00000 6.428571\n",
       "4 1576     197       ⋯ 16.27586  9.793103 25.31034 13.758621 11.82759 5.689655\n",
       "5  118      12       ⋯ 17.00000 12.666667 23.33333 11.333333 15.00000 6.333333\n",
       "  BlkAvg.y PFAvg.y  WAvg.y    LAvg.y   \n",
       "1 3.190476 17.47619 0.3809524 0.6190476\n",
       "2 2.583333 20.00000 0.3333333 0.6666667\n",
       "3 2.285714 22.28571 0.0000000 1.0000000\n",
       "4 4.655172 17.41379 0.5862069 0.4137931\n",
       "5 5.000000 23.66667 0.3333333 0.6666667"
      ]
     },
     "metadata": {},
     "output_type": "display_data"
    }
   ],
   "source": [
    "# regular matchups features\n",
    "train.matchups %>%\n",
    "    left_join(teams.stats.cumul,by=c('Season','DayNum','TeamID.x'='TeamID')) %>% \n",
    "    rename_all(list(~str_replace(.,'Sum$','Sum.x'))) %>%\n",
    "    rename_all(list(~str_replace(.,'Avg$','Avg.x'))) %>%\n",
    "    left_join(teams.stats.cumul,by=c('Season','DayNum','TeamID.y'='TeamID')) %>% \n",
    "    rename_all(list(~str_replace(.,'Sum$','Sum.y'))) %>%\n",
    "    rename_all(list(~str_replace(.,'Avg$','Avg.y'))) %>%\n",
    "    na.omit() -> train.matchups.features\n",
    "train.matchups.features %>% sample_n(5)"
   ]
  },
  {
   "cell_type": "code",
   "execution_count": 16,
   "metadata": {},
   "outputs": [
    {
     "data": {
      "text/html": [
       "<table>\n",
       "<thead><tr><th scope=col>Season</th><th scope=col>n</th></tr></thead>\n",
       "<tbody>\n",
       "\t<tr><td>2014</td><td>5362</td></tr>\n",
       "\t<tr><td>2015</td><td>5354</td></tr>\n",
       "\t<tr><td>2016</td><td>5369</td></tr>\n",
       "\t<tr><td>2017</td><td>5395</td></tr>\n",
       "\t<tr><td>2018</td><td>5405</td></tr>\n",
       "</tbody>\n",
       "</table>\n"
      ],
      "text/latex": [
       "\\begin{tabular}{r|ll}\n",
       " Season & n\\\\\n",
       "\\hline\n",
       "\t 2014 & 5362\\\\\n",
       "\t 2015 & 5354\\\\\n",
       "\t 2016 & 5369\\\\\n",
       "\t 2017 & 5395\\\\\n",
       "\t 2018 & 5405\\\\\n",
       "\\end{tabular}\n"
      ],
      "text/markdown": [
       "\n",
       "| Season | n |\n",
       "|---|---|\n",
       "| 2014 | 5362 |\n",
       "| 2015 | 5354 |\n",
       "| 2016 | 5369 |\n",
       "| 2017 | 5395 |\n",
       "| 2018 | 5405 |\n",
       "\n"
      ],
      "text/plain": [
       "  Season n   \n",
       "1 2014   5362\n",
       "2 2015   5354\n",
       "3 2016   5369\n",
       "4 2017   5395\n",
       "5 2018   5405"
      ]
     },
     "metadata": {},
     "output_type": "display_data"
    }
   ],
   "source": [
    "train.matchups %>% group_by(Season) %>% summarise(n=n())"
   ]
  },
  {
   "cell_type": "code",
   "execution_count": 17,
   "metadata": {},
   "outputs": [
    {
     "data": {
      "text/html": [
       "<ol class=list-inline>\n",
       "\t<li>25844</li>\n",
       "\t<li>73</li>\n",
       "</ol>\n"
      ],
      "text/latex": [
       "\\begin{enumerate*}\n",
       "\\item 25844\n",
       "\\item 73\n",
       "\\end{enumerate*}\n"
      ],
      "text/markdown": [
       "1. 25844\n",
       "2. 73\n",
       "\n",
       "\n"
      ],
      "text/plain": [
       "[1] 25844    73"
      ]
     },
     "metadata": {},
     "output_type": "display_data"
    },
    {
     "data": {
      "text/html": [
       "<ol class=list-inline>\n",
       "\t<li>'Season'</li>\n",
       "\t<li>'DayNum'</li>\n",
       "\t<li>'Target'</li>\n",
       "\t<li>'TeamID.x'</li>\n",
       "\t<li>'TeamID.y'</li>\n",
       "\t<li>'ScoreSum.x'</li>\n",
       "\t<li>'OppScoreSum.x'</li>\n",
       "\t<li>'FGMSum.x'</li>\n",
       "\t<li>'FGASum.x'</li>\n",
       "\t<li>'FGM3Sum.x'</li>\n",
       "\t<li>'FGA3Sum.x'</li>\n",
       "\t<li>'FTMSum.x'</li>\n",
       "\t<li>'FTASum.x'</li>\n",
       "\t<li>'ORSum.x'</li>\n",
       "\t<li>'DRSum.x'</li>\n",
       "\t<li>'AstSum.x'</li>\n",
       "\t<li>'TOSum.x'</li>\n",
       "\t<li>'StlSum.x'</li>\n",
       "\t<li>'BlkSum.x'</li>\n",
       "\t<li>'PFSum.x'</li>\n",
       "\t<li>'WSum.x'</li>\n",
       "\t<li>'LSum.x'</li>\n",
       "\t<li>'ScoreAvg.x'</li>\n",
       "\t<li>'OppScoreAvg.x'</li>\n",
       "\t<li>'FGMAvg.x'</li>\n",
       "\t<li>'FGAAvg.x'</li>\n",
       "\t<li>'FGM3Avg.x'</li>\n",
       "\t<li>'FGA3Avg.x'</li>\n",
       "\t<li>'FTMAvg.x'</li>\n",
       "\t<li>'FTAAvg.x'</li>\n",
       "\t<li>'ORAvg.x'</li>\n",
       "\t<li>'DRAvg.x'</li>\n",
       "\t<li>'AstAvg.x'</li>\n",
       "\t<li>'TOAvg.x'</li>\n",
       "\t<li>'StlAvg.x'</li>\n",
       "\t<li>'BlkAvg.x'</li>\n",
       "\t<li>'PFAvg.x'</li>\n",
       "\t<li>'WAvg.x'</li>\n",
       "\t<li>'LAvg.x'</li>\n",
       "\t<li>'ScoreSum.y'</li>\n",
       "\t<li>'OppScoreSum.y'</li>\n",
       "\t<li>'FGMSum.y'</li>\n",
       "\t<li>'FGASum.y'</li>\n",
       "\t<li>'FGM3Sum.y'</li>\n",
       "\t<li>'FGA3Sum.y'</li>\n",
       "\t<li>'FTMSum.y'</li>\n",
       "\t<li>'FTASum.y'</li>\n",
       "\t<li>'ORSum.y'</li>\n",
       "\t<li>'DRSum.y'</li>\n",
       "\t<li>'AstSum.y'</li>\n",
       "\t<li>'TOSum.y'</li>\n",
       "\t<li>'StlSum.y'</li>\n",
       "\t<li>'BlkSum.y'</li>\n",
       "\t<li>'PFSum.y'</li>\n",
       "\t<li>'WSum.y'</li>\n",
       "\t<li>'LSum.y'</li>\n",
       "\t<li>'ScoreAvg.y'</li>\n",
       "\t<li>'OppScoreAvg.y'</li>\n",
       "\t<li>'FGMAvg.y'</li>\n",
       "\t<li>'FGAAvg.y'</li>\n",
       "\t<li>'FGM3Avg.y'</li>\n",
       "\t<li>'FGA3Avg.y'</li>\n",
       "\t<li>'FTMAvg.y'</li>\n",
       "\t<li>'FTAAvg.y'</li>\n",
       "\t<li>'ORAvg.y'</li>\n",
       "\t<li>'DRAvg.y'</li>\n",
       "\t<li>'AstAvg.y'</li>\n",
       "\t<li>'TOAvg.y'</li>\n",
       "\t<li>'StlAvg.y'</li>\n",
       "\t<li>'BlkAvg.y'</li>\n",
       "\t<li>'PFAvg.y'</li>\n",
       "\t<li>'WAvg.y'</li>\n",
       "\t<li>'LAvg.y'</li>\n",
       "</ol>\n"
      ],
      "text/latex": [
       "\\begin{enumerate*}\n",
       "\\item 'Season'\n",
       "\\item 'DayNum'\n",
       "\\item 'Target'\n",
       "\\item 'TeamID.x'\n",
       "\\item 'TeamID.y'\n",
       "\\item 'ScoreSum.x'\n",
       "\\item 'OppScoreSum.x'\n",
       "\\item 'FGMSum.x'\n",
       "\\item 'FGASum.x'\n",
       "\\item 'FGM3Sum.x'\n",
       "\\item 'FGA3Sum.x'\n",
       "\\item 'FTMSum.x'\n",
       "\\item 'FTASum.x'\n",
       "\\item 'ORSum.x'\n",
       "\\item 'DRSum.x'\n",
       "\\item 'AstSum.x'\n",
       "\\item 'TOSum.x'\n",
       "\\item 'StlSum.x'\n",
       "\\item 'BlkSum.x'\n",
       "\\item 'PFSum.x'\n",
       "\\item 'WSum.x'\n",
       "\\item 'LSum.x'\n",
       "\\item 'ScoreAvg.x'\n",
       "\\item 'OppScoreAvg.x'\n",
       "\\item 'FGMAvg.x'\n",
       "\\item 'FGAAvg.x'\n",
       "\\item 'FGM3Avg.x'\n",
       "\\item 'FGA3Avg.x'\n",
       "\\item 'FTMAvg.x'\n",
       "\\item 'FTAAvg.x'\n",
       "\\item 'ORAvg.x'\n",
       "\\item 'DRAvg.x'\n",
       "\\item 'AstAvg.x'\n",
       "\\item 'TOAvg.x'\n",
       "\\item 'StlAvg.x'\n",
       "\\item 'BlkAvg.x'\n",
       "\\item 'PFAvg.x'\n",
       "\\item 'WAvg.x'\n",
       "\\item 'LAvg.x'\n",
       "\\item 'ScoreSum.y'\n",
       "\\item 'OppScoreSum.y'\n",
       "\\item 'FGMSum.y'\n",
       "\\item 'FGASum.y'\n",
       "\\item 'FGM3Sum.y'\n",
       "\\item 'FGA3Sum.y'\n",
       "\\item 'FTMSum.y'\n",
       "\\item 'FTASum.y'\n",
       "\\item 'ORSum.y'\n",
       "\\item 'DRSum.y'\n",
       "\\item 'AstSum.y'\n",
       "\\item 'TOSum.y'\n",
       "\\item 'StlSum.y'\n",
       "\\item 'BlkSum.y'\n",
       "\\item 'PFSum.y'\n",
       "\\item 'WSum.y'\n",
       "\\item 'LSum.y'\n",
       "\\item 'ScoreAvg.y'\n",
       "\\item 'OppScoreAvg.y'\n",
       "\\item 'FGMAvg.y'\n",
       "\\item 'FGAAvg.y'\n",
       "\\item 'FGM3Avg.y'\n",
       "\\item 'FGA3Avg.y'\n",
       "\\item 'FTMAvg.y'\n",
       "\\item 'FTAAvg.y'\n",
       "\\item 'ORAvg.y'\n",
       "\\item 'DRAvg.y'\n",
       "\\item 'AstAvg.y'\n",
       "\\item 'TOAvg.y'\n",
       "\\item 'StlAvg.y'\n",
       "\\item 'BlkAvg.y'\n",
       "\\item 'PFAvg.y'\n",
       "\\item 'WAvg.y'\n",
       "\\item 'LAvg.y'\n",
       "\\end{enumerate*}\n"
      ],
      "text/markdown": [
       "1. 'Season'\n",
       "2. 'DayNum'\n",
       "3. 'Target'\n",
       "4. 'TeamID.x'\n",
       "5. 'TeamID.y'\n",
       "6. 'ScoreSum.x'\n",
       "7. 'OppScoreSum.x'\n",
       "8. 'FGMSum.x'\n",
       "9. 'FGASum.x'\n",
       "10. 'FGM3Sum.x'\n",
       "11. 'FGA3Sum.x'\n",
       "12. 'FTMSum.x'\n",
       "13. 'FTASum.x'\n",
       "14. 'ORSum.x'\n",
       "15. 'DRSum.x'\n",
       "16. 'AstSum.x'\n",
       "17. 'TOSum.x'\n",
       "18. 'StlSum.x'\n",
       "19. 'BlkSum.x'\n",
       "20. 'PFSum.x'\n",
       "21. 'WSum.x'\n",
       "22. 'LSum.x'\n",
       "23. 'ScoreAvg.x'\n",
       "24. 'OppScoreAvg.x'\n",
       "25. 'FGMAvg.x'\n",
       "26. 'FGAAvg.x'\n",
       "27. 'FGM3Avg.x'\n",
       "28. 'FGA3Avg.x'\n",
       "29. 'FTMAvg.x'\n",
       "30. 'FTAAvg.x'\n",
       "31. 'ORAvg.x'\n",
       "32. 'DRAvg.x'\n",
       "33. 'AstAvg.x'\n",
       "34. 'TOAvg.x'\n",
       "35. 'StlAvg.x'\n",
       "36. 'BlkAvg.x'\n",
       "37. 'PFAvg.x'\n",
       "38. 'WAvg.x'\n",
       "39. 'LAvg.x'\n",
       "40. 'ScoreSum.y'\n",
       "41. 'OppScoreSum.y'\n",
       "42. 'FGMSum.y'\n",
       "43. 'FGASum.y'\n",
       "44. 'FGM3Sum.y'\n",
       "45. 'FGA3Sum.y'\n",
       "46. 'FTMSum.y'\n",
       "47. 'FTASum.y'\n",
       "48. 'ORSum.y'\n",
       "49. 'DRSum.y'\n",
       "50. 'AstSum.y'\n",
       "51. 'TOSum.y'\n",
       "52. 'StlSum.y'\n",
       "53. 'BlkSum.y'\n",
       "54. 'PFSum.y'\n",
       "55. 'WSum.y'\n",
       "56. 'LSum.y'\n",
       "57. 'ScoreAvg.y'\n",
       "58. 'OppScoreAvg.y'\n",
       "59. 'FGMAvg.y'\n",
       "60. 'FGAAvg.y'\n",
       "61. 'FGM3Avg.y'\n",
       "62. 'FGA3Avg.y'\n",
       "63. 'FTMAvg.y'\n",
       "64. 'FTAAvg.y'\n",
       "65. 'ORAvg.y'\n",
       "66. 'DRAvg.y'\n",
       "67. 'AstAvg.y'\n",
       "68. 'TOAvg.y'\n",
       "69. 'StlAvg.y'\n",
       "70. 'BlkAvg.y'\n",
       "71. 'PFAvg.y'\n",
       "72. 'WAvg.y'\n",
       "73. 'LAvg.y'\n",
       "\n",
       "\n"
      ],
      "text/plain": [
       " [1] \"Season\"        \"DayNum\"        \"Target\"        \"TeamID.x\"     \n",
       " [5] \"TeamID.y\"      \"ScoreSum.x\"    \"OppScoreSum.x\" \"FGMSum.x\"     \n",
       " [9] \"FGASum.x\"      \"FGM3Sum.x\"     \"FGA3Sum.x\"     \"FTMSum.x\"     \n",
       "[13] \"FTASum.x\"      \"ORSum.x\"       \"DRSum.x\"       \"AstSum.x\"     \n",
       "[17] \"TOSum.x\"       \"StlSum.x\"      \"BlkSum.x\"      \"PFSum.x\"      \n",
       "[21] \"WSum.x\"        \"LSum.x\"        \"ScoreAvg.x\"    \"OppScoreAvg.x\"\n",
       "[25] \"FGMAvg.x\"      \"FGAAvg.x\"      \"FGM3Avg.x\"     \"FGA3Avg.x\"    \n",
       "[29] \"FTMAvg.x\"      \"FTAAvg.x\"      \"ORAvg.x\"       \"DRAvg.x\"      \n",
       "[33] \"AstAvg.x\"      \"TOAvg.x\"       \"StlAvg.x\"      \"BlkAvg.x\"     \n",
       "[37] \"PFAvg.x\"       \"WAvg.x\"        \"LAvg.x\"        \"ScoreSum.y\"   \n",
       "[41] \"OppScoreSum.y\" \"FGMSum.y\"      \"FGASum.y\"      \"FGM3Sum.y\"    \n",
       "[45] \"FGA3Sum.y\"     \"FTMSum.y\"      \"FTASum.y\"      \"ORSum.y\"      \n",
       "[49] \"DRSum.y\"       \"AstSum.y\"      \"TOSum.y\"       \"StlSum.y\"     \n",
       "[53] \"BlkSum.y\"      \"PFSum.y\"       \"WSum.y\"        \"LSum.y\"       \n",
       "[57] \"ScoreAvg.y\"    \"OppScoreAvg.y\" \"FGMAvg.y\"      \"FGAAvg.y\"     \n",
       "[61] \"FGM3Avg.y\"     \"FGA3Avg.y\"     \"FTMAvg.y\"      \"FTAAvg.y\"     \n",
       "[65] \"ORAvg.y\"       \"DRAvg.y\"       \"AstAvg.y\"      \"TOAvg.y\"      \n",
       "[69] \"StlAvg.y\"      \"BlkAvg.y\"      \"PFAvg.y\"       \"WAvg.y\"       \n",
       "[73] \"LAvg.y\"       "
      ]
     },
     "metadata": {},
     "output_type": "display_data"
    }
   ],
   "source": [
    "dim(train.matchups.features)\n",
    "train.matchups.features %>% colnames"
   ]
  },
  {
   "cell_type": "markdown",
   "metadata": {},
   "source": [
    "#### Tourney matchups"
   ]
  },
  {
   "cell_type": "code",
   "execution_count": 55,
   "metadata": {},
   "outputs": [],
   "source": [
    "# load the stats and keep 2014+\n",
    "data.tourney <- readRDS('datafiles_rds/NCAATourneyDetailedResults.rds')\n",
    "data.tourney %>% filter(Season>2013) -> data.tourney"
   ]
  },
  {
   "cell_type": "code",
   "execution_count": 56,
   "metadata": {},
   "outputs": [
    {
     "data": {
      "text/html": [
       "<table>\n",
       "<thead><tr><th scope=col>Season</th><th scope=col>n</th></tr></thead>\n",
       "<tbody>\n",
       "\t<tr><td>2014</td><td>67  </td></tr>\n",
       "\t<tr><td>2015</td><td>67  </td></tr>\n",
       "\t<tr><td>2016</td><td>67  </td></tr>\n",
       "\t<tr><td>2017</td><td>67  </td></tr>\n",
       "\t<tr><td>2018</td><td>67  </td></tr>\n",
       "</tbody>\n",
       "</table>\n"
      ],
      "text/latex": [
       "\\begin{tabular}{r|ll}\n",
       " Season & n\\\\\n",
       "\\hline\n",
       "\t 2014 & 67  \\\\\n",
       "\t 2015 & 67  \\\\\n",
       "\t 2016 & 67  \\\\\n",
       "\t 2017 & 67  \\\\\n",
       "\t 2018 & 67  \\\\\n",
       "\\end{tabular}\n"
      ],
      "text/markdown": [
       "\n",
       "| Season | n |\n",
       "|---|---|\n",
       "| 2014 | 67   |\n",
       "| 2015 | 67   |\n",
       "| 2016 | 67   |\n",
       "| 2017 | 67   |\n",
       "| 2018 | 67   |\n",
       "\n"
      ],
      "text/plain": [
       "  Season n \n",
       "1 2014   67\n",
       "2 2015   67\n",
       "3 2016   67\n",
       "4 2017   67\n",
       "5 2018   67"
      ]
     },
     "metadata": {},
     "output_type": "display_data"
    }
   ],
   "source": [
    "data.tourney %>% group_by(Season) %>% summarise(n=n())"
   ]
  },
  {
   "cell_type": "code",
   "execution_count": 57,
   "metadata": {},
   "outputs": [],
   "source": [
    "data.test.matchups <- readRDS('datafiles_rds/TourneyMatchups.rds')"
   ]
  },
  {
   "cell_type": "code",
   "execution_count": 58,
   "metadata": {},
   "outputs": [
    {
     "data": {
      "text/html": [
       "<table>\n",
       "<thead><tr><th scope=col>ID</th><th scope=col>Season</th><th scope=col>DayNum</th><th scope=col>TeamID.x</th><th scope=col>TeamID.y</th></tr></thead>\n",
       "<tbody>\n",
       "\t<tr><td>2018_1120_1305</td><td>2018          </td><td>140           </td><td>1120          </td><td>1305          </td></tr>\n",
       "\t<tr><td>2017_1243_1266</td><td>2017          </td><td>140           </td><td>1243          </td><td>1266          </td></tr>\n",
       "\t<tr><td>2018_1246_1300</td><td>2018          </td><td>140           </td><td>1246          </td><td>1300          </td></tr>\n",
       "\t<tr><td>2014_1246_1459</td><td>2014          </td><td>140           </td><td>1246          </td><td>1459          </td></tr>\n",
       "\t<tr><td>2016_1345_1421</td><td>2016          </td><td>140           </td><td>1345          </td><td>1421          </td></tr>\n",
       "</tbody>\n",
       "</table>\n"
      ],
      "text/latex": [
       "\\begin{tabular}{r|lllll}\n",
       " ID & Season & DayNum & TeamID.x & TeamID.y\\\\\n",
       "\\hline\n",
       "\t 2018\\_1120\\_1305 & 2018               & 140                & 1120               & 1305              \\\\\n",
       "\t 2017\\_1243\\_1266 & 2017               & 140                & 1243               & 1266              \\\\\n",
       "\t 2018\\_1246\\_1300 & 2018               & 140                & 1246               & 1300              \\\\\n",
       "\t 2014\\_1246\\_1459 & 2014               & 140                & 1246               & 1459              \\\\\n",
       "\t 2016\\_1345\\_1421 & 2016               & 140                & 1345               & 1421              \\\\\n",
       "\\end{tabular}\n"
      ],
      "text/markdown": [
       "\n",
       "| ID | Season | DayNum | TeamID.x | TeamID.y |\n",
       "|---|---|---|---|---|\n",
       "| 2018_1120_1305 | 2018           | 140            | 1120           | 1305           |\n",
       "| 2017_1243_1266 | 2017           | 140            | 1243           | 1266           |\n",
       "| 2018_1246_1300 | 2018           | 140            | 1246           | 1300           |\n",
       "| 2014_1246_1459 | 2014           | 140            | 1246           | 1459           |\n",
       "| 2016_1345_1421 | 2016           | 140            | 1345           | 1421           |\n",
       "\n"
      ],
      "text/plain": [
       "  ID             Season DayNum TeamID.x TeamID.y\n",
       "1 2018_1120_1305 2018   140    1120     1305    \n",
       "2 2017_1243_1266 2017   140    1243     1266    \n",
       "3 2018_1246_1300 2018   140    1246     1300    \n",
       "4 2014_1246_1459 2014   140    1246     1459    \n",
       "5 2016_1345_1421 2016   140    1345     1421    "
      ]
     },
     "metadata": {},
     "output_type": "display_data"
    }
   ],
   "source": [
    "# tourney season matchups\n",
    "data.test.matchups %>% \n",
    "    mutate(ID=str_c(Season,'_',TeamID.x,'_',TeamID.y)) %>%\n",
    "    mutate(DayNum=140) %>%\n",
    "    select(ID,Season,DayNum,TeamID.x,TeamID.y) -> test.matchups\n",
    "test.matchups %>% sample_n(5)"
   ]
  },
  {
   "cell_type": "code",
   "execution_count": 59,
   "metadata": {},
   "outputs": [
    {
     "data": {
      "text/html": [
       "<table>\n",
       "<thead><tr><th scope=col>ID</th><th scope=col>Tourney</th><th scope=col>Target</th></tr></thead>\n",
       "<tbody>\n",
       "\t<tr><td>2017_1321_1435</td><td>1             </td><td>1             </td></tr>\n",
       "\t<tr><td>2016_1242_1437</td><td>1             </td><td>0             </td></tr>\n",
       "\t<tr><td>2014_1173_1390</td><td>1             </td><td>1             </td></tr>\n",
       "\t<tr><td>2017_1246_1417</td><td>1             </td><td>1             </td></tr>\n",
       "\t<tr><td>2018_1242_1335</td><td>1             </td><td>1             </td></tr>\n",
       "</tbody>\n",
       "</table>\n"
      ],
      "text/latex": [
       "\\begin{tabular}{r|lll}\n",
       " ID & Tourney & Target\\\\\n",
       "\\hline\n",
       "\t 2017\\_1321\\_1435 & 1                  & 1                 \\\\\n",
       "\t 2016\\_1242\\_1437 & 1                  & 0                 \\\\\n",
       "\t 2014\\_1173\\_1390 & 1                  & 1                 \\\\\n",
       "\t 2017\\_1246\\_1417 & 1                  & 1                 \\\\\n",
       "\t 2018\\_1242\\_1335 & 1                  & 1                 \\\\\n",
       "\\end{tabular}\n"
      ],
      "text/markdown": [
       "\n",
       "| ID | Tourney | Target |\n",
       "|---|---|---|\n",
       "| 2017_1321_1435 | 1              | 1              |\n",
       "| 2016_1242_1437 | 1              | 0              |\n",
       "| 2014_1173_1390 | 1              | 1              |\n",
       "| 2017_1246_1417 | 1              | 1              |\n",
       "| 2018_1242_1335 | 1              | 1              |\n",
       "\n"
      ],
      "text/plain": [
       "  ID             Tourney Target\n",
       "1 2017_1321_1435 1       1     \n",
       "2 2016_1242_1437 1       0     \n",
       "3 2014_1173_1390 1       1     \n",
       "4 2017_1246_1417 1       1     \n",
       "5 2018_1242_1335 1       1     "
      ]
     },
     "metadata": {},
     "output_type": "display_data"
    }
   ],
   "source": [
    "# tourney season truth\n",
    "data.tourney %>% \n",
    "    mutate(TeamID.x=ifelse(WTeamID<LTeamID,WTeamID,LTeamID),\n",
    "           TeamID.y=ifelse(WTeamID>LTeamID,WTeamID,LTeamID)) %>%\n",
    "    mutate(Target=ifelse(WTeamID<LTeamID,1,0)) %>%\n",
    "    mutate(ID=str_c(Season,'_',TeamID.x,'_',TeamID.y)) %>%\n",
    "    mutate(Tourney=1) %>%\n",
    "    select(ID,Tourney,Target) -> test.truth\n",
    "test.truth %>% sample_n(5)"
   ]
  },
  {
   "cell_type": "code",
   "execution_count": 60,
   "metadata": {},
   "outputs": [],
   "source": [
    "test.matchups %>%\n",
    "    left_join(test.truth,by='ID') %>% \n",
    "    mutate_which(is.na(Target),Target=0,Tourney=0) -> test.matchups"
   ]
  },
  {
   "cell_type": "code",
   "execution_count": 61,
   "metadata": {},
   "outputs": [
    {
     "data": {
      "text/html": [
       "<table>\n",
       "<thead><tr><th scope=col>Season</th><th scope=col>n</th></tr></thead>\n",
       "<tbody>\n",
       "\t<tr><td>2014</td><td>2278</td></tr>\n",
       "\t<tr><td>2015</td><td>2278</td></tr>\n",
       "\t<tr><td>2016</td><td>2278</td></tr>\n",
       "\t<tr><td>2017</td><td>2278</td></tr>\n",
       "\t<tr><td>2018</td><td>2278</td></tr>\n",
       "</tbody>\n",
       "</table>\n"
      ],
      "text/latex": [
       "\\begin{tabular}{r|ll}\n",
       " Season & n\\\\\n",
       "\\hline\n",
       "\t 2014 & 2278\\\\\n",
       "\t 2015 & 2278\\\\\n",
       "\t 2016 & 2278\\\\\n",
       "\t 2017 & 2278\\\\\n",
       "\t 2018 & 2278\\\\\n",
       "\\end{tabular}\n"
      ],
      "text/markdown": [
       "\n",
       "| Season | n |\n",
       "|---|---|\n",
       "| 2014 | 2278 |\n",
       "| 2015 | 2278 |\n",
       "| 2016 | 2278 |\n",
       "| 2017 | 2278 |\n",
       "| 2018 | 2278 |\n",
       "\n"
      ],
      "text/plain": [
       "  Season n   \n",
       "1 2014   2278\n",
       "2 2015   2278\n",
       "3 2016   2278\n",
       "4 2017   2278\n",
       "5 2018   2278"
      ]
     },
     "metadata": {},
     "output_type": "display_data"
    }
   ],
   "source": [
    "test.matchups %>% group_by(Season) %>% summarise(n=n())"
   ]
  },
  {
   "cell_type": "code",
   "execution_count": 62,
   "metadata": {},
   "outputs": [
    {
     "data": {
      "text/html": [
       "<table>\n",
       "<thead><tr><th scope=col>ID</th><th scope=col>Season</th><th scope=col>DayNum</th><th scope=col>TeamID.x</th><th scope=col>TeamID.y</th><th scope=col>Tourney</th><th scope=col>Target</th><th scope=col>ScoreSum.x</th><th scope=col>OppScoreSum.x</th><th scope=col>FGMSum.x</th><th scope=col>⋯</th><th scope=col>FTAAvg.y</th><th scope=col>ORAvg.y</th><th scope=col>DRAvg.y</th><th scope=col>AstAvg.y</th><th scope=col>TOAvg.y</th><th scope=col>StlAvg.y</th><th scope=col>BlkAvg.y</th><th scope=col>PFAvg.y</th><th scope=col>WAvg.y</th><th scope=col>LAvg.y</th></tr></thead>\n",
       "<tbody>\n",
       "\t<tr><td>2017_1425_1462</td><td>2017          </td><td>140           </td><td>1425          </td><td>1462          </td><td>0             </td><td>0             </td><td>2597          </td><td>2415          </td><td>897           </td><td>⋯             </td><td>23.35294      </td><td>12.205882     </td><td>25.38235      </td><td>14.85294      </td><td>12.79412      </td><td>6.147059      </td><td>2.676471      </td><td>18.76471      </td><td>0.6176471     </td><td>0.3823529     </td></tr>\n",
       "\t<tr><td>2014_1140_1277</td><td>2014          </td><td>140           </td><td>1140          </td><td>1277          </td><td>0             </td><td>0             </td><td>2779          </td><td>2559          </td><td>966           </td><td>⋯             </td><td>19.26471      </td><td>11.058824     </td><td>26.00000      </td><td>17.00000      </td><td>11.44118      </td><td>6.941176      </td><td>4.823529      </td><td>18.88235      </td><td>0.7647059     </td><td>0.2352941     </td></tr>\n",
       "\t<tr><td>2014_1295_1437</td><td>2014          </td><td>140           </td><td>1295          </td><td>1437          </td><td>0             </td><td>0             </td><td>2093          </td><td>1889          </td><td>744           </td><td>⋯             </td><td>25.25000      </td><td>11.281250     </td><td>25.81250      </td><td>15.62500      </td><td>11.84375      </td><td>6.937500      </td><td>4.031250      </td><td>19.71875      </td><td>0.8750000     </td><td>0.1250000     </td></tr>\n",
       "\t<tr><td>2017_1181_1439</td><td>2017          </td><td>140           </td><td>1181          </td><td>1439          </td><td>0             </td><td>0             </td><td>2823          </td><td>2444          </td><td>968           </td><td>⋯             </td><td>22.34375      </td><td> 7.312500     </td><td>25.21875      </td><td>15.09375      </td><td>12.12500      </td><td>4.000000      </td><td>2.781250      </td><td>16.40625      </td><td>0.6875000     </td><td>0.3125000     </td></tr>\n",
       "\t<tr><td>2018_1113_1242</td><td>2018          </td><td>140           </td><td>1113          </td><td>1242          </td><td>0             </td><td>0             </td><td>2589          </td><td>2335          </td><td>867           </td><td>⋯             </td><td>15.88235      </td><td> 9.558824     </td><td>25.64706      </td><td>17.00000      </td><td>11.67647      </td><td>6.617647      </td><td>4.176471      </td><td>15.29412      </td><td>0.7941176     </td><td>0.2058824     </td></tr>\n",
       "</tbody>\n",
       "</table>\n"
      ],
      "text/latex": [
       "\\begin{tabular}{r|lllllllllllllllllllllllllllllllllllllllllllllllllllllllllllllllllllllllllll}\n",
       " ID & Season & DayNum & TeamID.x & TeamID.y & Tourney & Target & ScoreSum.x & OppScoreSum.x & FGMSum.x & ⋯ & FTAAvg.y & ORAvg.y & DRAvg.y & AstAvg.y & TOAvg.y & StlAvg.y & BlkAvg.y & PFAvg.y & WAvg.y & LAvg.y\\\\\n",
       "\\hline\n",
       "\t 2017\\_1425\\_1462 & 2017               & 140                & 1425               & 1462               & 0                  & 0                  & 2597               & 2415               & 897                & ⋯                  & 23.35294           & 12.205882          & 25.38235           & 14.85294           & 12.79412           & 6.147059           & 2.676471           & 18.76471           & 0.6176471          & 0.3823529         \\\\\n",
       "\t 2014\\_1140\\_1277 & 2014               & 140                & 1140               & 1277               & 0                  & 0                  & 2779               & 2559               & 966                & ⋯                  & 19.26471           & 11.058824          & 26.00000           & 17.00000           & 11.44118           & 6.941176           & 4.823529           & 18.88235           & 0.7647059          & 0.2352941         \\\\\n",
       "\t 2014\\_1295\\_1437 & 2014               & 140                & 1295               & 1437               & 0                  & 0                  & 2093               & 1889               & 744                & ⋯                  & 25.25000           & 11.281250          & 25.81250           & 15.62500           & 11.84375           & 6.937500           & 4.031250           & 19.71875           & 0.8750000          & 0.1250000         \\\\\n",
       "\t 2017\\_1181\\_1439 & 2017               & 140                & 1181               & 1439               & 0                  & 0                  & 2823               & 2444               & 968                & ⋯                  & 22.34375           &  7.312500          & 25.21875           & 15.09375           & 12.12500           & 4.000000           & 2.781250           & 16.40625           & 0.6875000          & 0.3125000         \\\\\n",
       "\t 2018\\_1113\\_1242 & 2018               & 140                & 1113               & 1242               & 0                  & 0                  & 2589               & 2335               & 867                & ⋯                  & 15.88235           &  9.558824          & 25.64706           & 17.00000           & 11.67647           & 6.617647           & 4.176471           & 15.29412           & 0.7941176          & 0.2058824         \\\\\n",
       "\\end{tabular}\n"
      ],
      "text/markdown": [
       "\n",
       "| ID | Season | DayNum | TeamID.x | TeamID.y | Tourney | Target | ScoreSum.x | OppScoreSum.x | FGMSum.x | ⋯ | FTAAvg.y | ORAvg.y | DRAvg.y | AstAvg.y | TOAvg.y | StlAvg.y | BlkAvg.y | PFAvg.y | WAvg.y | LAvg.y |\n",
       "|---|---|---|---|---|---|---|---|---|---|---|---|---|---|---|---|---|---|---|---|---|\n",
       "| 2017_1425_1462 | 2017           | 140            | 1425           | 1462           | 0              | 0              | 2597           | 2415           | 897            | ⋯              | 23.35294       | 12.205882      | 25.38235       | 14.85294       | 12.79412       | 6.147059       | 2.676471       | 18.76471       | 0.6176471      | 0.3823529      |\n",
       "| 2014_1140_1277 | 2014           | 140            | 1140           | 1277           | 0              | 0              | 2779           | 2559           | 966            | ⋯              | 19.26471       | 11.058824      | 26.00000       | 17.00000       | 11.44118       | 6.941176       | 4.823529       | 18.88235       | 0.7647059      | 0.2352941      |\n",
       "| 2014_1295_1437 | 2014           | 140            | 1295           | 1437           | 0              | 0              | 2093           | 1889           | 744            | ⋯              | 25.25000       | 11.281250      | 25.81250       | 15.62500       | 11.84375       | 6.937500       | 4.031250       | 19.71875       | 0.8750000      | 0.1250000      |\n",
       "| 2017_1181_1439 | 2017           | 140            | 1181           | 1439           | 0              | 0              | 2823           | 2444           | 968            | ⋯              | 22.34375       |  7.312500      | 25.21875       | 15.09375       | 12.12500       | 4.000000       | 2.781250       | 16.40625       | 0.6875000      | 0.3125000      |\n",
       "| 2018_1113_1242 | 2018           | 140            | 1113           | 1242           | 0              | 0              | 2589           | 2335           | 867            | ⋯              | 15.88235       |  9.558824      | 25.64706       | 17.00000       | 11.67647       | 6.617647       | 4.176471       | 15.29412       | 0.7941176      | 0.2058824      |\n",
       "\n"
      ],
      "text/plain": [
       "  ID             Season DayNum TeamID.x TeamID.y Tourney Target ScoreSum.x\n",
       "1 2017_1425_1462 2017   140    1425     1462     0       0      2597      \n",
       "2 2014_1140_1277 2014   140    1140     1277     0       0      2779      \n",
       "3 2014_1295_1437 2014   140    1295     1437     0       0      2093      \n",
       "4 2017_1181_1439 2017   140    1181     1439     0       0      2823      \n",
       "5 2018_1113_1242 2018   140    1113     1242     0       0      2589      \n",
       "  OppScoreSum.x FGMSum.x ⋯ FTAAvg.y ORAvg.y   DRAvg.y  AstAvg.y TOAvg.y \n",
       "1 2415          897      ⋯ 23.35294 12.205882 25.38235 14.85294 12.79412\n",
       "2 2559          966      ⋯ 19.26471 11.058824 26.00000 17.00000 11.44118\n",
       "3 1889          744      ⋯ 25.25000 11.281250 25.81250 15.62500 11.84375\n",
       "4 2444          968      ⋯ 22.34375  7.312500 25.21875 15.09375 12.12500\n",
       "5 2335          867      ⋯ 15.88235  9.558824 25.64706 17.00000 11.67647\n",
       "  StlAvg.y BlkAvg.y PFAvg.y  WAvg.y    LAvg.y   \n",
       "1 6.147059 2.676471 18.76471 0.6176471 0.3823529\n",
       "2 6.941176 4.823529 18.88235 0.7647059 0.2352941\n",
       "3 6.937500 4.031250 19.71875 0.8750000 0.1250000\n",
       "4 4.000000 2.781250 16.40625 0.6875000 0.3125000\n",
       "5 6.617647 4.176471 15.29412 0.7941176 0.2058824"
      ]
     },
     "metadata": {},
     "output_type": "display_data"
    }
   ],
   "source": [
    "# tourney matchups features\n",
    "test.matchups %>%\n",
    "    left_join(teams.stats.cumul,by=c('Season','DayNum','TeamID.x'='TeamID')) %>% \n",
    "    rename_all(list(~str_replace(.,'Sum$','Sum.x'))) %>%\n",
    "    rename_all(list(~str_replace(.,'Avg$','Avg.x'))) %>%\n",
    "    left_join(teams.stats.cumul,by=c('Season','DayNum','TeamID.y'='TeamID')) %>% \n",
    "    rename_all(list(~str_replace(.,'Sum$','Sum.y'))) %>%\n",
    "    rename_all(list(~str_replace(.,'Avg$','Avg.y'))) %>%\n",
    "    na.omit() -> test.matchups.features\n",
    "test.matchups.features %>% sample_n(5)"
   ]
  },
  {
   "cell_type": "code",
   "execution_count": 63,
   "metadata": {},
   "outputs": [
    {
     "data": {
      "text/html": [
       "<table>\n",
       "<thead><tr><th scope=col>Season</th><th scope=col>n</th></tr></thead>\n",
       "<tbody>\n",
       "\t<tr><td>2014</td><td>2278</td></tr>\n",
       "\t<tr><td>2015</td><td>2278</td></tr>\n",
       "\t<tr><td>2016</td><td>2278</td></tr>\n",
       "\t<tr><td>2017</td><td>2278</td></tr>\n",
       "\t<tr><td>2018</td><td>2278</td></tr>\n",
       "</tbody>\n",
       "</table>\n"
      ],
      "text/latex": [
       "\\begin{tabular}{r|ll}\n",
       " Season & n\\\\\n",
       "\\hline\n",
       "\t 2014 & 2278\\\\\n",
       "\t 2015 & 2278\\\\\n",
       "\t 2016 & 2278\\\\\n",
       "\t 2017 & 2278\\\\\n",
       "\t 2018 & 2278\\\\\n",
       "\\end{tabular}\n"
      ],
      "text/markdown": [
       "\n",
       "| Season | n |\n",
       "|---|---|\n",
       "| 2014 | 2278 |\n",
       "| 2015 | 2278 |\n",
       "| 2016 | 2278 |\n",
       "| 2017 | 2278 |\n",
       "| 2018 | 2278 |\n",
       "\n"
      ],
      "text/plain": [
       "  Season n   \n",
       "1 2014   2278\n",
       "2 2015   2278\n",
       "3 2016   2278\n",
       "4 2017   2278\n",
       "5 2018   2278"
      ]
     },
     "metadata": {},
     "output_type": "display_data"
    }
   ],
   "source": [
    "test.matchups %>% group_by(Season) %>% summarise(n=n())"
   ]
  },
  {
   "cell_type": "code",
   "execution_count": 64,
   "metadata": {},
   "outputs": [
    {
     "data": {
      "text/html": [
       "<ol class=list-inline>\n",
       "\t<li>11390</li>\n",
       "\t<li>75</li>\n",
       "</ol>\n"
      ],
      "text/latex": [
       "\\begin{enumerate*}\n",
       "\\item 11390\n",
       "\\item 75\n",
       "\\end{enumerate*}\n"
      ],
      "text/markdown": [
       "1. 11390\n",
       "2. 75\n",
       "\n",
       "\n"
      ],
      "text/plain": [
       "[1] 11390    75"
      ]
     },
     "metadata": {},
     "output_type": "display_data"
    },
    {
     "data": {
      "text/html": [
       "<ol class=list-inline>\n",
       "\t<li>'ID'</li>\n",
       "\t<li>'Season'</li>\n",
       "\t<li>'DayNum'</li>\n",
       "\t<li>'TeamID.x'</li>\n",
       "\t<li>'TeamID.y'</li>\n",
       "\t<li>'Tourney'</li>\n",
       "\t<li>'Target'</li>\n",
       "\t<li>'ScoreSum.x'</li>\n",
       "\t<li>'OppScoreSum.x'</li>\n",
       "\t<li>'FGMSum.x'</li>\n",
       "\t<li>'FGASum.x'</li>\n",
       "\t<li>'FGM3Sum.x'</li>\n",
       "\t<li>'FGA3Sum.x'</li>\n",
       "\t<li>'FTMSum.x'</li>\n",
       "\t<li>'FTASum.x'</li>\n",
       "\t<li>'ORSum.x'</li>\n",
       "\t<li>'DRSum.x'</li>\n",
       "\t<li>'AstSum.x'</li>\n",
       "\t<li>'TOSum.x'</li>\n",
       "\t<li>'StlSum.x'</li>\n",
       "\t<li>'BlkSum.x'</li>\n",
       "\t<li>'PFSum.x'</li>\n",
       "\t<li>'WSum.x'</li>\n",
       "\t<li>'LSum.x'</li>\n",
       "\t<li>'ScoreAvg.x'</li>\n",
       "\t<li>'OppScoreAvg.x'</li>\n",
       "\t<li>'FGMAvg.x'</li>\n",
       "\t<li>'FGAAvg.x'</li>\n",
       "\t<li>'FGM3Avg.x'</li>\n",
       "\t<li>'FGA3Avg.x'</li>\n",
       "\t<li>'FTMAvg.x'</li>\n",
       "\t<li>'FTAAvg.x'</li>\n",
       "\t<li>'ORAvg.x'</li>\n",
       "\t<li>'DRAvg.x'</li>\n",
       "\t<li>'AstAvg.x'</li>\n",
       "\t<li>'TOAvg.x'</li>\n",
       "\t<li>'StlAvg.x'</li>\n",
       "\t<li>'BlkAvg.x'</li>\n",
       "\t<li>'PFAvg.x'</li>\n",
       "\t<li>'WAvg.x'</li>\n",
       "\t<li>'LAvg.x'</li>\n",
       "\t<li>'ScoreSum.y'</li>\n",
       "\t<li>'OppScoreSum.y'</li>\n",
       "\t<li>'FGMSum.y'</li>\n",
       "\t<li>'FGASum.y'</li>\n",
       "\t<li>'FGM3Sum.y'</li>\n",
       "\t<li>'FGA3Sum.y'</li>\n",
       "\t<li>'FTMSum.y'</li>\n",
       "\t<li>'FTASum.y'</li>\n",
       "\t<li>'ORSum.y'</li>\n",
       "\t<li>'DRSum.y'</li>\n",
       "\t<li>'AstSum.y'</li>\n",
       "\t<li>'TOSum.y'</li>\n",
       "\t<li>'StlSum.y'</li>\n",
       "\t<li>'BlkSum.y'</li>\n",
       "\t<li>'PFSum.y'</li>\n",
       "\t<li>'WSum.y'</li>\n",
       "\t<li>'LSum.y'</li>\n",
       "\t<li>'ScoreAvg.y'</li>\n",
       "\t<li>'OppScoreAvg.y'</li>\n",
       "\t<li>'FGMAvg.y'</li>\n",
       "\t<li>'FGAAvg.y'</li>\n",
       "\t<li>'FGM3Avg.y'</li>\n",
       "\t<li>'FGA3Avg.y'</li>\n",
       "\t<li>'FTMAvg.y'</li>\n",
       "\t<li>'FTAAvg.y'</li>\n",
       "\t<li>'ORAvg.y'</li>\n",
       "\t<li>'DRAvg.y'</li>\n",
       "\t<li>'AstAvg.y'</li>\n",
       "\t<li>'TOAvg.y'</li>\n",
       "\t<li>'StlAvg.y'</li>\n",
       "\t<li>'BlkAvg.y'</li>\n",
       "\t<li>'PFAvg.y'</li>\n",
       "\t<li>'WAvg.y'</li>\n",
       "\t<li>'LAvg.y'</li>\n",
       "</ol>\n"
      ],
      "text/latex": [
       "\\begin{enumerate*}\n",
       "\\item 'ID'\n",
       "\\item 'Season'\n",
       "\\item 'DayNum'\n",
       "\\item 'TeamID.x'\n",
       "\\item 'TeamID.y'\n",
       "\\item 'Tourney'\n",
       "\\item 'Target'\n",
       "\\item 'ScoreSum.x'\n",
       "\\item 'OppScoreSum.x'\n",
       "\\item 'FGMSum.x'\n",
       "\\item 'FGASum.x'\n",
       "\\item 'FGM3Sum.x'\n",
       "\\item 'FGA3Sum.x'\n",
       "\\item 'FTMSum.x'\n",
       "\\item 'FTASum.x'\n",
       "\\item 'ORSum.x'\n",
       "\\item 'DRSum.x'\n",
       "\\item 'AstSum.x'\n",
       "\\item 'TOSum.x'\n",
       "\\item 'StlSum.x'\n",
       "\\item 'BlkSum.x'\n",
       "\\item 'PFSum.x'\n",
       "\\item 'WSum.x'\n",
       "\\item 'LSum.x'\n",
       "\\item 'ScoreAvg.x'\n",
       "\\item 'OppScoreAvg.x'\n",
       "\\item 'FGMAvg.x'\n",
       "\\item 'FGAAvg.x'\n",
       "\\item 'FGM3Avg.x'\n",
       "\\item 'FGA3Avg.x'\n",
       "\\item 'FTMAvg.x'\n",
       "\\item 'FTAAvg.x'\n",
       "\\item 'ORAvg.x'\n",
       "\\item 'DRAvg.x'\n",
       "\\item 'AstAvg.x'\n",
       "\\item 'TOAvg.x'\n",
       "\\item 'StlAvg.x'\n",
       "\\item 'BlkAvg.x'\n",
       "\\item 'PFAvg.x'\n",
       "\\item 'WAvg.x'\n",
       "\\item 'LAvg.x'\n",
       "\\item 'ScoreSum.y'\n",
       "\\item 'OppScoreSum.y'\n",
       "\\item 'FGMSum.y'\n",
       "\\item 'FGASum.y'\n",
       "\\item 'FGM3Sum.y'\n",
       "\\item 'FGA3Sum.y'\n",
       "\\item 'FTMSum.y'\n",
       "\\item 'FTASum.y'\n",
       "\\item 'ORSum.y'\n",
       "\\item 'DRSum.y'\n",
       "\\item 'AstSum.y'\n",
       "\\item 'TOSum.y'\n",
       "\\item 'StlSum.y'\n",
       "\\item 'BlkSum.y'\n",
       "\\item 'PFSum.y'\n",
       "\\item 'WSum.y'\n",
       "\\item 'LSum.y'\n",
       "\\item 'ScoreAvg.y'\n",
       "\\item 'OppScoreAvg.y'\n",
       "\\item 'FGMAvg.y'\n",
       "\\item 'FGAAvg.y'\n",
       "\\item 'FGM3Avg.y'\n",
       "\\item 'FGA3Avg.y'\n",
       "\\item 'FTMAvg.y'\n",
       "\\item 'FTAAvg.y'\n",
       "\\item 'ORAvg.y'\n",
       "\\item 'DRAvg.y'\n",
       "\\item 'AstAvg.y'\n",
       "\\item 'TOAvg.y'\n",
       "\\item 'StlAvg.y'\n",
       "\\item 'BlkAvg.y'\n",
       "\\item 'PFAvg.y'\n",
       "\\item 'WAvg.y'\n",
       "\\item 'LAvg.y'\n",
       "\\end{enumerate*}\n"
      ],
      "text/markdown": [
       "1. 'ID'\n",
       "2. 'Season'\n",
       "3. 'DayNum'\n",
       "4. 'TeamID.x'\n",
       "5. 'TeamID.y'\n",
       "6. 'Tourney'\n",
       "7. 'Target'\n",
       "8. 'ScoreSum.x'\n",
       "9. 'OppScoreSum.x'\n",
       "10. 'FGMSum.x'\n",
       "11. 'FGASum.x'\n",
       "12. 'FGM3Sum.x'\n",
       "13. 'FGA3Sum.x'\n",
       "14. 'FTMSum.x'\n",
       "15. 'FTASum.x'\n",
       "16. 'ORSum.x'\n",
       "17. 'DRSum.x'\n",
       "18. 'AstSum.x'\n",
       "19. 'TOSum.x'\n",
       "20. 'StlSum.x'\n",
       "21. 'BlkSum.x'\n",
       "22. 'PFSum.x'\n",
       "23. 'WSum.x'\n",
       "24. 'LSum.x'\n",
       "25. 'ScoreAvg.x'\n",
       "26. 'OppScoreAvg.x'\n",
       "27. 'FGMAvg.x'\n",
       "28. 'FGAAvg.x'\n",
       "29. 'FGM3Avg.x'\n",
       "30. 'FGA3Avg.x'\n",
       "31. 'FTMAvg.x'\n",
       "32. 'FTAAvg.x'\n",
       "33. 'ORAvg.x'\n",
       "34. 'DRAvg.x'\n",
       "35. 'AstAvg.x'\n",
       "36. 'TOAvg.x'\n",
       "37. 'StlAvg.x'\n",
       "38. 'BlkAvg.x'\n",
       "39. 'PFAvg.x'\n",
       "40. 'WAvg.x'\n",
       "41. 'LAvg.x'\n",
       "42. 'ScoreSum.y'\n",
       "43. 'OppScoreSum.y'\n",
       "44. 'FGMSum.y'\n",
       "45. 'FGASum.y'\n",
       "46. 'FGM3Sum.y'\n",
       "47. 'FGA3Sum.y'\n",
       "48. 'FTMSum.y'\n",
       "49. 'FTASum.y'\n",
       "50. 'ORSum.y'\n",
       "51. 'DRSum.y'\n",
       "52. 'AstSum.y'\n",
       "53. 'TOSum.y'\n",
       "54. 'StlSum.y'\n",
       "55. 'BlkSum.y'\n",
       "56. 'PFSum.y'\n",
       "57. 'WSum.y'\n",
       "58. 'LSum.y'\n",
       "59. 'ScoreAvg.y'\n",
       "60. 'OppScoreAvg.y'\n",
       "61. 'FGMAvg.y'\n",
       "62. 'FGAAvg.y'\n",
       "63. 'FGM3Avg.y'\n",
       "64. 'FGA3Avg.y'\n",
       "65. 'FTMAvg.y'\n",
       "66. 'FTAAvg.y'\n",
       "67. 'ORAvg.y'\n",
       "68. 'DRAvg.y'\n",
       "69. 'AstAvg.y'\n",
       "70. 'TOAvg.y'\n",
       "71. 'StlAvg.y'\n",
       "72. 'BlkAvg.y'\n",
       "73. 'PFAvg.y'\n",
       "74. 'WAvg.y'\n",
       "75. 'LAvg.y'\n",
       "\n",
       "\n"
      ],
      "text/plain": [
       " [1] \"ID\"            \"Season\"        \"DayNum\"        \"TeamID.x\"     \n",
       " [5] \"TeamID.y\"      \"Tourney\"       \"Target\"        \"ScoreSum.x\"   \n",
       " [9] \"OppScoreSum.x\" \"FGMSum.x\"      \"FGASum.x\"      \"FGM3Sum.x\"    \n",
       "[13] \"FGA3Sum.x\"     \"FTMSum.x\"      \"FTASum.x\"      \"ORSum.x\"      \n",
       "[17] \"DRSum.x\"       \"AstSum.x\"      \"TOSum.x\"       \"StlSum.x\"     \n",
       "[21] \"BlkSum.x\"      \"PFSum.x\"       \"WSum.x\"        \"LSum.x\"       \n",
       "[25] \"ScoreAvg.x\"    \"OppScoreAvg.x\" \"FGMAvg.x\"      \"FGAAvg.x\"     \n",
       "[29] \"FGM3Avg.x\"     \"FGA3Avg.x\"     \"FTMAvg.x\"      \"FTAAvg.x\"     \n",
       "[33] \"ORAvg.x\"       \"DRAvg.x\"       \"AstAvg.x\"      \"TOAvg.x\"      \n",
       "[37] \"StlAvg.x\"      \"BlkAvg.x\"      \"PFAvg.x\"       \"WAvg.x\"       \n",
       "[41] \"LAvg.x\"        \"ScoreSum.y\"    \"OppScoreSum.y\" \"FGMSum.y\"     \n",
       "[45] \"FGASum.y\"      \"FGM3Sum.y\"     \"FGA3Sum.y\"     \"FTMSum.y\"     \n",
       "[49] \"FTASum.y\"      \"ORSum.y\"       \"DRSum.y\"       \"AstSum.y\"     \n",
       "[53] \"TOSum.y\"       \"StlSum.y\"      \"BlkSum.y\"      \"PFSum.y\"      \n",
       "[57] \"WSum.y\"        \"LSum.y\"        \"ScoreAvg.y\"    \"OppScoreAvg.y\"\n",
       "[61] \"FGMAvg.y\"      \"FGAAvg.y\"      \"FGM3Avg.y\"     \"FGA3Avg.y\"    \n",
       "[65] \"FTMAvg.y\"      \"FTAAvg.y\"      \"ORAvg.y\"       \"DRAvg.y\"      \n",
       "[69] \"AstAvg.y\"      \"TOAvg.y\"       \"StlAvg.y\"      \"BlkAvg.y\"     \n",
       "[73] \"PFAvg.y\"       \"WAvg.y\"        \"LAvg.y\"       "
      ]
     },
     "metadata": {},
     "output_type": "display_data"
    }
   ],
   "source": [
    "dim(test.matchups.features)\n",
    "test.matchups.features %>% colnames"
   ]
  },
  {
   "cell_type": "markdown",
   "metadata": {},
   "source": [
    "#### Save datasets for Keras "
   ]
  },
  {
   "cell_type": "code",
   "execution_count": 65,
   "metadata": {},
   "outputs": [],
   "source": [
    "train.matchups.features %>%\n",
    "    select(-Season,-DayNum,-TeamID.x,-TeamID.y) %>%\n",
    "    write.csv('kerasfiles/train.matchups.csv',row.names=F)"
   ]
  },
  {
   "cell_type": "code",
   "execution_count": 66,
   "metadata": {},
   "outputs": [],
   "source": [
    "test.matchups.features %>%\n",
    "    select(-Season,-DayNum,-TeamID.x,-TeamID.y) %>%\n",
    "    write.csv('kerasfiles/test.matchups.csv',row.names=F)"
   ]
  },
  {
   "cell_type": "code",
   "execution_count": null,
   "metadata": {},
   "outputs": [],
   "source": []
  }
 ],
 "metadata": {
  "kernelspec": {
   "display_name": "R 3.5.0",
   "language": "R",
   "name": "ir35"
  },
  "language_info": {
   "codemirror_mode": "r",
   "file_extension": ".r",
   "mimetype": "text/x-r-source",
   "name": "R",
   "pygments_lexer": "r",
   "version": "3.5.1"
  }
 },
 "nbformat": 4,
 "nbformat_minor": 2
}
