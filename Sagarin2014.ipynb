{
 "cells": [
  {
   "cell_type": "code",
   "execution_count": 115,
   "metadata": {},
   "outputs": [],
   "source": [
    "library(dplyr,warn.conflicts=F)\n",
    "library(stringr,warn.conflicts=F)\n",
    "library(psych,warn.conflicts=F)\n",
    "library(lplyr,warn.conflicts=F)"
   ]
  },
  {
   "cell_type": "code",
   "execution_count": 116,
   "metadata": {},
   "outputs": [],
   "source": [
    "# load the stats\n",
    "data.tourney <- readRDS('datafiles_rds/NCAATourneyDetailedResults.rds')\n",
    "# keep 2014\n",
    "data.tourney %>% filter(Season==2014) -> data.tou2014"
   ]
  },
  {
   "cell_type": "code",
   "execution_count": 117,
   "metadata": {},
   "outputs": [],
   "source": [
    "# store 68 tourney teams \n",
    "data.tou2014 %>% \n",
    "    select(TeamID=WTeamID) %>% \n",
    "    bind_rows(data.tou2014 %>% \n",
    "              select(TeamID=LTeamID)) %>% \n",
    "    distinct(TeamID) -> df.teams2014"
   ]
  },
  {
   "cell_type": "code",
   "execution_count": 118,
   "metadata": {},
   "outputs": [
    {
     "data": {
      "text/html": [
       "<table>\n",
       "<thead><tr><th scope=col>Rank</th><th scope=col>Name</th><th scope=col>Rate</th><th scope=col>W</th><th scope=col>L</th><th scope=col>Sched</th><th scope=col>RankSched</th><th scope=col>W25</th><th scope=col>L25</th><th scope=col>W50</th><th scope=col>L50</th><th scope=col>GoldenMean</th><th scope=col>RankGM</th><th scope=col>Predictor</th><th scope=col>RankPred</th><th scope=col>Pure</th><th scope=col>RankPure</th></tr></thead>\n",
       "<tbody>\n",
       "\t<tr><td>1             </td><td>Louisville    </td><td>93.92         </td><td>31            </td><td>6             </td><td>76.14         </td><td>95            </td><td>4             </td><td>3             </td><td> 7            </td><td>6             </td><td>95.09         </td><td> 1            </td><td>94.53         </td><td> 1            </td><td>91.49         </td><td>7             </td></tr>\n",
       "\t<tr><td>2             </td><td>Arizona       </td><td>93.65         </td><td>33            </td><td>5             </td><td>79.80         </td><td>21            </td><td>6             </td><td>2             </td><td>13            </td><td>4             </td><td>94.19         </td><td> 2            </td><td>93.84         </td><td> 2            </td><td>92.06         </td><td>5             </td></tr>\n",
       "\t<tr><td>3             </td><td>Florida       </td><td>93.27         </td><td>36            </td><td>3             </td><td>80.07         </td><td>16            </td><td>9             </td><td>3             </td><td>13            </td><td>3             </td><td>92.45         </td><td> 3            </td><td>92.57         </td><td> 3            </td><td>96.41         </td><td>2             </td></tr>\n",
       "\t<tr><td>4             </td><td>Wisconsin     </td><td>91.99         </td><td>30            </td><td>8             </td><td>81.91         </td><td> 2            </td><td>6             </td><td>4             </td><td>12            </td><td>5             </td><td>91.35         </td><td> 4            </td><td>91.99         </td><td> 4            </td><td>92.34         </td><td>4             </td></tr>\n",
       "\t<tr><td>5             </td><td>Michigan State</td><td>90.66         </td><td>29            </td><td>9             </td><td>81.09         </td><td> 5            </td><td>5             </td><td>5             </td><td>11            </td><td>6             </td><td>90.46         </td><td> 6            </td><td>89.84         </td><td> 6            </td><td>91.95         </td><td>6             </td></tr>\n",
       "\t<tr><td>6             </td><td>Connecticut   </td><td>90.61         </td><td>32            </td><td>8             </td><td>80.24         </td><td>15            </td><td>8             </td><td>4             </td><td>14            </td><td>7             </td><td>89.87         </td><td>10            </td><td>89.42         </td><td>10            </td><td>96.48         </td><td>1             </td></tr>\n",
       "</tbody>\n",
       "</table>\n"
      ],
      "text/latex": [
       "\\begin{tabular}{r|lllllllllllllllll}\n",
       " Rank & Name & Rate & W & L & Sched & RankSched & W25 & L25 & W50 & L50 & GoldenMean & RankGM & Predictor & RankPred & Pure & RankPure\\\\\n",
       "\\hline\n",
       "\t 1              & Louisville     & 93.92          & 31             & 6              & 76.14          & 95             & 4              & 3              &  7             & 6              & 95.09          &  1             & 94.53          &  1             & 91.49          & 7             \\\\\n",
       "\t 2              & Arizona        & 93.65          & 33             & 5              & 79.80          & 21             & 6              & 2              & 13             & 4              & 94.19          &  2             & 93.84          &  2             & 92.06          & 5             \\\\\n",
       "\t 3              & Florida        & 93.27          & 36             & 3              & 80.07          & 16             & 9              & 3              & 13             & 3              & 92.45          &  3             & 92.57          &  3             & 96.41          & 2             \\\\\n",
       "\t 4              & Wisconsin      & 91.99          & 30             & 8              & 81.91          &  2             & 6              & 4              & 12             & 5              & 91.35          &  4             & 91.99          &  4             & 92.34          & 4             \\\\\n",
       "\t 5              & Michigan State & 90.66          & 29             & 9              & 81.09          &  5             & 5              & 5              & 11             & 6              & 90.46          &  6             & 89.84          &  6             & 91.95          & 6             \\\\\n",
       "\t 6              & Connecticut    & 90.61          & 32             & 8              & 80.24          & 15             & 8              & 4              & 14             & 7              & 89.87          & 10             & 89.42          & 10             & 96.48          & 1             \\\\\n",
       "\\end{tabular}\n"
      ],
      "text/markdown": [
       "\n",
       "| Rank | Name | Rate | W | L | Sched | RankSched | W25 | L25 | W50 | L50 | GoldenMean | RankGM | Predictor | RankPred | Pure | RankPure |\n",
       "|---|---|---|---|---|---|---|---|---|---|---|---|---|---|---|---|---|\n",
       "| 1              | Louisville     | 93.92          | 31             | 6              | 76.14          | 95             | 4              | 3              |  7             | 6              | 95.09          |  1             | 94.53          |  1             | 91.49          | 7              |\n",
       "| 2              | Arizona        | 93.65          | 33             | 5              | 79.80          | 21             | 6              | 2              | 13             | 4              | 94.19          |  2             | 93.84          |  2             | 92.06          | 5              |\n",
       "| 3              | Florida        | 93.27          | 36             | 3              | 80.07          | 16             | 9              | 3              | 13             | 3              | 92.45          |  3             | 92.57          |  3             | 96.41          | 2              |\n",
       "| 4              | Wisconsin      | 91.99          | 30             | 8              | 81.91          |  2             | 6              | 4              | 12             | 5              | 91.35          |  4             | 91.99          |  4             | 92.34          | 4              |\n",
       "| 5              | Michigan State | 90.66          | 29             | 9              | 81.09          |  5             | 5              | 5              | 11             | 6              | 90.46          |  6             | 89.84          |  6             | 91.95          | 6              |\n",
       "| 6              | Connecticut    | 90.61          | 32             | 8              | 80.24          | 15             | 8              | 4              | 14             | 7              | 89.87          | 10             | 89.42          | 10             | 96.48          | 1              |\n",
       "\n"
      ],
      "text/plain": [
       "  Rank Name           Rate  W  L Sched RankSched W25 L25 W50 L50 GoldenMean\n",
       "1 1    Louisville     93.92 31 6 76.14 95        4   3    7  6   95.09     \n",
       "2 2    Arizona        93.65 33 5 79.80 21        6   2   13  4   94.19     \n",
       "3 3    Florida        93.27 36 3 80.07 16        9   3   13  3   92.45     \n",
       "4 4    Wisconsin      91.99 30 8 81.91  2        6   4   12  5   91.35     \n",
       "5 5    Michigan State 90.66 29 9 81.09  5        5   5   11  6   90.46     \n",
       "6 6    Connecticut    90.61 32 8 80.24 15        8   4   14  7   89.87     \n",
       "  RankGM Predictor RankPred Pure  RankPure\n",
       "1  1     94.53      1       91.49 7       \n",
       "2  2     93.84      2       92.06 5       \n",
       "3  3     92.57      3       96.41 2       \n",
       "4  4     91.99      4       92.34 4       \n",
       "5  6     89.84      6       91.95 6       \n",
       "6 10     89.42     10       96.48 1       "
      ]
     },
     "metadata": {},
     "output_type": "display_data"
    }
   ],
   "source": [
    "# Sagarin Rating 2013-2014\n",
    "# https://ux.kitsapsun.com/sports/ncaab/sagarin/2014/team/\n",
    "data.sagarin <- read.csv('datafiles_csv/Sagarin2014.csv',stringsAsFactors=F)\n",
    "data.sagarin %>% head"
   ]
  },
  {
   "cell_type": "code",
   "execution_count": 119,
   "metadata": {},
   "outputs": [
    {
     "data": {
      "text/html": [
       "16.22"
      ],
      "text/latex": [
       "16.22"
      ],
      "text/markdown": [
       "16.22"
      ],
      "text/plain": [
       "[1] 16.22"
      ]
     },
     "metadata": {},
     "output_type": "display_data"
    }
   ],
   "source": [
    "threshold <- max(data.sagarin$Predictor) - as.numeric(quantile(data.sagarin$Predictor,0.75))\n",
    "threshold"
   ]
  },
  {
   "cell_type": "code",
   "execution_count": 120,
   "metadata": {},
   "outputs": [],
   "source": [
    "data.teamspellings <- readRDS('datafiles_rds/TeamSpellings.rds')\n",
    "data.teams <- readRDS('datafiles_rds/Teams.rds')"
   ]
  },
  {
   "cell_type": "code",
   "execution_count": 121,
   "metadata": {},
   "outputs": [],
   "source": [
    "data.sagarin %>% \n",
    "    mutate(Name=str_to_lower(Name)) %>% \n",
    "    left_join(data.teamspellings,by=c('Name'='TeamNameSpelling')) -> df.sagarin"
   ]
  },
  {
   "cell_type": "code",
   "execution_count": 122,
   "metadata": {},
   "outputs": [
    {
     "data": {
      "text/html": [
       "<table>\n",
       "<thead><tr><th scope=col>TeamID</th><th scope=col>TeamName</th><th scope=col>FirstD1Season</th><th scope=col>LastD1Season</th></tr></thead>\n",
       "<tbody>\n",
       "\t<tr><td>1142           </td><td>Cal Poly SLO   </td><td>1995           </td><td>2019           </td></tr>\n",
       "\t<tr><td>1462           </td><td>Xavier         </td><td>1985           </td><td>2019           </td></tr>\n",
       "\t<tr><td>1386           </td><td>St Joseph's PA </td><td>1985           </td><td>2019           </td></tr>\n",
       "\t<tr><td>1433           </td><td>VA Commonwealth</td><td>1985           </td><td>2019           </td></tr>\n",
       "</tbody>\n",
       "</table>\n"
      ],
      "text/latex": [
       "\\begin{tabular}{r|llll}\n",
       " TeamID & TeamName & FirstD1Season & LastD1Season\\\\\n",
       "\\hline\n",
       "\t 1142            & Cal Poly SLO    & 1995            & 2019           \\\\\n",
       "\t 1462            & Xavier          & 1985            & 2019           \\\\\n",
       "\t 1386            & St Joseph's PA  & 1985            & 2019           \\\\\n",
       "\t 1433            & VA Commonwealth & 1985            & 2019           \\\\\n",
       "\\end{tabular}\n"
      ],
      "text/markdown": [
       "\n",
       "| TeamID | TeamName | FirstD1Season | LastD1Season |\n",
       "|---|---|---|---|\n",
       "| 1142            | Cal Poly SLO    | 1995            | 2019            |\n",
       "| 1462            | Xavier          | 1985            | 2019            |\n",
       "| 1386            | St Joseph's PA  | 1985            | 2019            |\n",
       "| 1433            | VA Commonwealth | 1985            | 2019            |\n",
       "\n"
      ],
      "text/plain": [
       "  TeamID TeamName        FirstD1Season LastD1Season\n",
       "1 1142   Cal Poly SLO    1995          2019        \n",
       "2 1462   Xavier          1985          2019        \n",
       "3 1386   St Joseph's PA  1985          2019        \n",
       "4 1433   VA Commonwealth 1985          2019        "
      ]
     },
     "metadata": {},
     "output_type": "display_data"
    }
   ],
   "source": [
    "df.sagarin %>% \n",
    "    right_join(df.teams2014,by='TeamID') %>%\n",
    "    filter(is.na(Rank)) %>%\n",
    "    select(TeamID) %>%\n",
    "    inner_join(data.teams,by='TeamID')"
   ]
  },
  {
   "cell_type": "code",
   "execution_count": 123,
   "metadata": {},
   "outputs": [
    {
     "data": {
      "text/html": [
       "<table>\n",
       "<thead><tr><th scope=col>Rank</th><th scope=col>Name</th><th scope=col>Rate</th><th scope=col>W</th><th scope=col>L</th><th scope=col>Sched</th><th scope=col>RankSched</th><th scope=col>W25</th><th scope=col>L25</th><th scope=col>W50</th><th scope=col>L50</th><th scope=col>GoldenMean</th><th scope=col>RankGM</th><th scope=col>Predictor</th><th scope=col>RankPred</th><th scope=col>Pure</th><th scope=col>RankPure</th><th scope=col>TeamID</th></tr></thead>\n",
       "<tbody>\n",
       "\t<tr><td> 28                    </td><td>vcu(va. commonwealth)  </td><td>85.81                  </td><td>26                     </td><td> 9                     </td><td>77.01                  </td><td> 81                    </td><td>1                      </td><td>0                      </td><td>5                      </td><td>6                      </td><td>86.15                  </td><td> 26                    </td><td>86.18                  </td><td> 27                    </td><td>84.08                  </td><td> 37                    </td><td>NA                     </td></tr>\n",
       "\t<tr><td> 47                    </td><td>saint joseph's-pa.     </td><td>82.39                  </td><td>24                     </td><td>10                     </td><td>77.83                  </td><td> 66                    </td><td>0                      </td><td>3                      </td><td>6                      </td><td>6                      </td><td>81.96                  </td><td> 51                    </td><td>81.51                  </td><td> 56                    </td><td>84.22                  </td><td> 36                    </td><td>NA                     </td></tr>\n",
       "\t<tr><td> 53                    </td><td>xavier-ohio            </td><td>81.74                  </td><td>21                     </td><td>13                     </td><td>78.88                  </td><td> 44                    </td><td>3                      </td><td>5                      </td><td>4                      </td><td>7                      </td><td>82.54                  </td><td> 48                    </td><td>81.34                  </td><td> 59                    </td><td>80.49                  </td><td> 64                    </td><td>NA                     </td></tr>\n",
       "\t<tr><td> 66                    </td><td>saint mary's-cal.      </td><td>80.51                  </td><td>22                     </td><td>12                     </td><td>75.89                  </td><td> 97                    </td><td>0                      </td><td>3                      </td><td>2                      </td><td>4                      </td><td>80.03                  </td><td> 71                    </td><td>80.38                  </td><td> 64                    </td><td>80.76                  </td><td> 60                    </td><td>NA                     </td></tr>\n",
       "\t<tr><td>159                    </td><td>stony brook-ny         </td><td>72.89                  </td><td>22                     </td><td>11                     </td><td>67.09                  </td><td>324                    </td><td>0                      </td><td>0                      </td><td>0                      </td><td>1                      </td><td>73.16                  </td><td>157                    </td><td>71.98                  </td><td>170                    </td><td>73.28                  </td><td>156                    </td><td>NA                     </td></tr>\n",
       "\t<tr><td>180                    </td><td>omaha(neb.-omaha)      </td><td>71.56                  </td><td>14                     </td><td>15                     </td><td>71.11                  </td><td>201                    </td><td>0                      </td><td>0                      </td><td>0                      </td><td>2                      </td><td>72.39                  </td><td>162                    </td><td>71.35                  </td><td>182                    </td><td>69.64                  </td><td>215                    </td><td>NA                     </td></tr>\n",
       "\t<tr><td>192                    </td><td>cal poly-slo           </td><td>70.93                  </td><td>12                     </td><td>20                     </td><td>74.06                  </td><td>119                    </td><td>0                      </td><td>3                      </td><td>0                      </td><td>5                      </td><td>70.55                  </td><td>197                    </td><td>71.05                  </td><td>183                    </td><td>70.52                  </td><td>198                    </td><td>NA                     </td></tr>\n",
       "\t<tr><td>198                    </td><td>oakland-mich.          </td><td>70.32                  </td><td>11                     </td><td>20                     </td><td>74.90                  </td><td>110                    </td><td>0                      </td><td>3                      </td><td>0                      </td><td>4                      </td><td>69.73                  </td><td>205                    </td><td>70.53                  </td><td>191                    </td><td>70.09                  </td><td>208                    </td><td>NA                     </td></tr>\n",
       "\t<tr><td>218                    </td><td>se missouri state(semo)</td><td>69.14                  </td><td>16                     </td><td>14                     </td><td>66.88                  </td><td>329                    </td><td>0                      </td><td>0                      </td><td>0                      </td><td>2                      </td><td>68.20                  </td><td>233                    </td><td>68.32                  </td><td>222                    </td><td>71.34                  </td><td>182                    </td><td>NA                     </td></tr>\n",
       "\t<tr><td>223                    </td><td>ark.-little rock       </td><td>68.80                  </td><td>13                     </td><td>17                     </td><td>72.11                  </td><td>168                    </td><td>0                      </td><td>1                      </td><td>0                      </td><td>3                      </td><td>68.38                  </td><td>228                    </td><td>68.23                  </td><td>224                    </td><td>69.71                  </td><td>214                    </td><td>NA                     </td></tr>\n",
       "\t<tr><td>227                        </td><td>texas a&amp;m-corpuschristi</td><td>68.53                      </td><td>17                         </td><td>15                         </td><td>66.40                      </td><td>338                        </td><td>0                          </td><td>1                          </td><td>0                          </td><td>3                          </td><td>66.93                      </td><td>253                        </td><td>67.44                      </td><td>243                        </td><td>72.12                      </td><td>168                        </td><td>NA                         </td></tr>\n",
       "\t<tr><td>233                    </td><td>fla. international     </td><td>68.33                  </td><td>13                     </td><td>15                     </td><td>70.59                  </td><td>213                    </td><td>0                      </td><td>1                      </td><td>0                      </td><td>2                      </td><td>68.13                  </td><td>235                    </td><td>67.61                  </td><td>241                    </td><td>69.14                  </td><td>226                    </td><td>NA                     </td></tr>\n",
       "\t<tr><td>260                    </td><td>north florida(unf)     </td><td>66.74                  </td><td>14                     </td><td>16                     </td><td>70.24                  </td><td>231                    </td><td>0                      </td><td>3                      </td><td>0                      </td><td>3                      </td><td>65.99                  </td><td>262                    </td><td>66.42                  </td><td>262                    </td><td>67.74                  </td><td>248                    </td><td>NA                     </td></tr>\n",
       "\t<tr><td>279                    </td><td>kansas city(umkc)      </td><td>64.84                  </td><td>10                     </td><td>19                     </td><td>70.43                  </td><td>219                    </td><td>0                      </td><td>3                      </td><td>0                      </td><td>3                      </td><td>63.99                  </td><td>284                    </td><td>64.41                  </td><td>281                    </td><td>66.14                  </td><td>262                    </td><td>NA                     </td></tr>\n",
       "\t<tr><td>307                    </td><td>njit(new jersey tech)  </td><td>62.55                  </td><td> 9                     </td><td>16                     </td><td>67.50                  </td><td>312                    </td><td>0                      </td><td>0                      </td><td>0                      </td><td>0                      </td><td>62.12                  </td><td>307                    </td><td>62.06                  </td><td>304                    </td><td>63.30                  </td><td>301                    </td><td>NA                     </td></tr>\n",
       "\t<tr><td>308                    </td><td>central connecticut st.</td><td>62.53                  </td><td>10                     </td><td>19                     </td><td>68.43                  </td><td>285                    </td><td>0                      </td><td>1                      </td><td>0                      </td><td>1                      </td><td>62.17                  </td><td>306                    </td><td>61.88                  </td><td>305                    </td><td>63.43                  </td><td>300                    </td><td>NA                     </td></tr>\n",
       "\t<tr><td>310                    </td><td>saint francis-pa.      </td><td>62.27                  </td><td>10                     </td><td>21                     </td><td>69.51                  </td><td>249                    </td><td>0                      </td><td>0                      </td><td>0                      </td><td>1                      </td><td>61.36                  </td><td>314                    </td><td>61.07                  </td><td>315                    </td><td>64.68                  </td><td>283                    </td><td>NA                     </td></tr>\n",
       "\t<tr><td>313                    </td><td>long island u.         </td><td>62.18                  </td><td> 9                     </td><td>20                     </td><td>68.87                  </td><td>277                    </td><td>0                      </td><td>0                      </td><td>0                      </td><td>0                      </td><td>61.17                  </td><td>317                    </td><td>60.83                  </td><td>319                    </td><td>64.88                  </td><td>278                    </td><td>NA                     </td></tr>\n",
       "\t<tr><td>314                    </td><td>texas-san antonio(utsa)</td><td>61.95                  </td><td> 6                     </td><td>21                     </td><td>71.20                  </td><td>196                    </td><td>0                      </td><td>0                      </td><td>0                      </td><td>2                      </td><td>61.30                  </td><td>315                    </td><td>62.14                  </td><td>303                    </td><td>61.80                  </td><td>317                    </td><td>NA                     </td></tr>\n",
       "\t<tr><td>335                    </td><td>binghamton-ny          </td><td>58.10                  </td><td> 7                     </td><td>23                     </td><td>67.89                  </td><td>302                    </td><td>0                      </td><td>1                      </td><td>0                      </td><td>2                      </td><td>58.00                  </td><td>337                    </td><td>58.20                  </td><td>333                    </td><td>57.16                  </td><td>337                    </td><td>NA                     </td></tr>\n",
       "\t<tr><td>340                    </td><td>md.-eastern shore(umes)</td><td>57.72                  </td><td> 5                     </td><td>23                     </td><td>67.13                  </td><td>322                    </td><td>0                      </td><td>0                      </td><td>0                      </td><td>1                      </td><td>57.95                  </td><td>338                    </td><td>57.71                  </td><td>339                    </td><td>56.27                  </td><td>344                    </td><td>NA                     </td></tr>\n",
       "\t<tr><td>347                    </td><td>mvsu(miss. valley st.) </td><td>55.71                  </td><td> 6                     </td><td>23                     </td><td>66.49                  </td><td>334                    </td><td>0                      </td><td>1                      </td><td>0                      </td><td>1                      </td><td>54.48                  </td><td>347                    </td><td>54.51                  </td><td>348                    </td><td>58.12                  </td><td>330                    </td><td>NA                     </td></tr>\n",
       "\t<tr><td>349                    </td><td>presbyterian college   </td><td>54.48                  </td><td> 4                     </td><td>26                     </td><td>67.38                  </td><td>315                    </td><td>0                      </td><td>0                      </td><td>0                      </td><td>0                      </td><td>54.41                  </td><td>348                    </td><td>54.23                  </td><td>349                    </td><td>54.22                  </td><td>348                    </td><td>NA                     </td></tr>\n",
       "</tbody>\n",
       "</table>\n"
      ],
      "text/latex": [
       "\\begin{tabular}{r|llllllllllllllllll}\n",
       " Rank & Name & Rate & W & L & Sched & RankSched & W25 & L25 & W50 & L50 & GoldenMean & RankGM & Predictor & RankPred & Pure & RankPure & TeamID\\\\\n",
       "\\hline\n",
       "\t  28                     & vcu(va. commonwealth)   & 85.81                   & 26                      &  9                      & 77.01                   &  81                     & 1                       & 0                       & 5                       & 6                       & 86.15                   &  26                     & 86.18                   &  27                     & 84.08                   &  37                     & NA                     \\\\\n",
       "\t  47                     & saint joseph's-pa.      & 82.39                   & 24                      & 10                      & 77.83                   &  66                     & 0                       & 3                       & 6                       & 6                       & 81.96                   &  51                     & 81.51                   &  56                     & 84.22                   &  36                     & NA                     \\\\\n",
       "\t  53                     & xavier-ohio             & 81.74                   & 21                      & 13                      & 78.88                   &  44                     & 3                       & 5                       & 4                       & 7                       & 82.54                   &  48                     & 81.34                   &  59                     & 80.49                   &  64                     & NA                     \\\\\n",
       "\t  66                     & saint mary's-cal.       & 80.51                   & 22                      & 12                      & 75.89                   &  97                     & 0                       & 3                       & 2                       & 4                       & 80.03                   &  71                     & 80.38                   &  64                     & 80.76                   &  60                     & NA                     \\\\\n",
       "\t 159                     & stony brook-ny          & 72.89                   & 22                      & 11                      & 67.09                   & 324                     & 0                       & 0                       & 0                       & 1                       & 73.16                   & 157                     & 71.98                   & 170                     & 73.28                   & 156                     & NA                     \\\\\n",
       "\t 180                     & omaha(neb.-omaha)       & 71.56                   & 14                      & 15                      & 71.11                   & 201                     & 0                       & 0                       & 0                       & 2                       & 72.39                   & 162                     & 71.35                   & 182                     & 69.64                   & 215                     & NA                     \\\\\n",
       "\t 192                     & cal poly-slo            & 70.93                   & 12                      & 20                      & 74.06                   & 119                     & 0                       & 3                       & 0                       & 5                       & 70.55                   & 197                     & 71.05                   & 183                     & 70.52                   & 198                     & NA                     \\\\\n",
       "\t 198                     & oakland-mich.           & 70.32                   & 11                      & 20                      & 74.90                   & 110                     & 0                       & 3                       & 0                       & 4                       & 69.73                   & 205                     & 70.53                   & 191                     & 70.09                   & 208                     & NA                     \\\\\n",
       "\t 218                     & se missouri state(semo) & 69.14                   & 16                      & 14                      & 66.88                   & 329                     & 0                       & 0                       & 0                       & 2                       & 68.20                   & 233                     & 68.32                   & 222                     & 71.34                   & 182                     & NA                     \\\\\n",
       "\t 223                     & ark.-little rock        & 68.80                   & 13                      & 17                      & 72.11                   & 168                     & 0                       & 1                       & 0                       & 3                       & 68.38                   & 228                     & 68.23                   & 224                     & 69.71                   & 214                     & NA                     \\\\\n",
       "\t 227                       & texas a\\&m-corpuschristi & 68.53                     & 17                        & 15                        & 66.40                     & 338                       & 0                         & 1                         & 0                         & 3                         & 66.93                     & 253                       & 67.44                     & 243                       & 72.12                     & 168                       & NA                       \\\\\n",
       "\t 233                     & fla. international      & 68.33                   & 13                      & 15                      & 70.59                   & 213                     & 0                       & 1                       & 0                       & 2                       & 68.13                   & 235                     & 67.61                   & 241                     & 69.14                   & 226                     & NA                     \\\\\n",
       "\t 260                     & north florida(unf)      & 66.74                   & 14                      & 16                      & 70.24                   & 231                     & 0                       & 3                       & 0                       & 3                       & 65.99                   & 262                     & 66.42                   & 262                     & 67.74                   & 248                     & NA                     \\\\\n",
       "\t 279                     & kansas city(umkc)       & 64.84                   & 10                      & 19                      & 70.43                   & 219                     & 0                       & 3                       & 0                       & 3                       & 63.99                   & 284                     & 64.41                   & 281                     & 66.14                   & 262                     & NA                     \\\\\n",
       "\t 307                     & njit(new jersey tech)   & 62.55                   &  9                      & 16                      & 67.50                   & 312                     & 0                       & 0                       & 0                       & 0                       & 62.12                   & 307                     & 62.06                   & 304                     & 63.30                   & 301                     & NA                     \\\\\n",
       "\t 308                     & central connecticut st. & 62.53                   & 10                      & 19                      & 68.43                   & 285                     & 0                       & 1                       & 0                       & 1                       & 62.17                   & 306                     & 61.88                   & 305                     & 63.43                   & 300                     & NA                     \\\\\n",
       "\t 310                     & saint francis-pa.       & 62.27                   & 10                      & 21                      & 69.51                   & 249                     & 0                       & 0                       & 0                       & 1                       & 61.36                   & 314                     & 61.07                   & 315                     & 64.68                   & 283                     & NA                     \\\\\n",
       "\t 313                     & long island u.          & 62.18                   &  9                      & 20                      & 68.87                   & 277                     & 0                       & 0                       & 0                       & 0                       & 61.17                   & 317                     & 60.83                   & 319                     & 64.88                   & 278                     & NA                     \\\\\n",
       "\t 314                     & texas-san antonio(utsa) & 61.95                   &  6                      & 21                      & 71.20                   & 196                     & 0                       & 0                       & 0                       & 2                       & 61.30                   & 315                     & 62.14                   & 303                     & 61.80                   & 317                     & NA                     \\\\\n",
       "\t 335                     & binghamton-ny           & 58.10                   &  7                      & 23                      & 67.89                   & 302                     & 0                       & 1                       & 0                       & 2                       & 58.00                   & 337                     & 58.20                   & 333                     & 57.16                   & 337                     & NA                     \\\\\n",
       "\t 340                     & md.-eastern shore(umes) & 57.72                   &  5                      & 23                      & 67.13                   & 322                     & 0                       & 0                       & 0                       & 1                       & 57.95                   & 338                     & 57.71                   & 339                     & 56.27                   & 344                     & NA                     \\\\\n",
       "\t 347                     & mvsu(miss. valley st.)  & 55.71                   &  6                      & 23                      & 66.49                   & 334                     & 0                       & 1                       & 0                       & 1                       & 54.48                   & 347                     & 54.51                   & 348                     & 58.12                   & 330                     & NA                     \\\\\n",
       "\t 349                     & presbyterian college    & 54.48                   &  4                      & 26                      & 67.38                   & 315                     & 0                       & 0                       & 0                       & 0                       & 54.41                   & 348                     & 54.23                   & 349                     & 54.22                   & 348                     & NA                     \\\\\n",
       "\\end{tabular}\n"
      ],
      "text/markdown": [
       "\n",
       "| Rank | Name | Rate | W | L | Sched | RankSched | W25 | L25 | W50 | L50 | GoldenMean | RankGM | Predictor | RankPred | Pure | RankPure | TeamID |\n",
       "|---|---|---|---|---|---|---|---|---|---|---|---|---|---|---|---|---|---|\n",
       "|  28                     | vcu(va. commonwealth)   | 85.81                   | 26                      |  9                      | 77.01                   |  81                     | 1                       | 0                       | 5                       | 6                       | 86.15                   |  26                     | 86.18                   |  27                     | 84.08                   |  37                     | NA                      |\n",
       "|  47                     | saint joseph's-pa.      | 82.39                   | 24                      | 10                      | 77.83                   |  66                     | 0                       | 3                       | 6                       | 6                       | 81.96                   |  51                     | 81.51                   |  56                     | 84.22                   |  36                     | NA                      |\n",
       "|  53                     | xavier-ohio             | 81.74                   | 21                      | 13                      | 78.88                   |  44                     | 3                       | 5                       | 4                       | 7                       | 82.54                   |  48                     | 81.34                   |  59                     | 80.49                   |  64                     | NA                      |\n",
       "|  66                     | saint mary's-cal.       | 80.51                   | 22                      | 12                      | 75.89                   |  97                     | 0                       | 3                       | 2                       | 4                       | 80.03                   |  71                     | 80.38                   |  64                     | 80.76                   |  60                     | NA                      |\n",
       "| 159                     | stony brook-ny          | 72.89                   | 22                      | 11                      | 67.09                   | 324                     | 0                       | 0                       | 0                       | 1                       | 73.16                   | 157                     | 71.98                   | 170                     | 73.28                   | 156                     | NA                      |\n",
       "| 180                     | omaha(neb.-omaha)       | 71.56                   | 14                      | 15                      | 71.11                   | 201                     | 0                       | 0                       | 0                       | 2                       | 72.39                   | 162                     | 71.35                   | 182                     | 69.64                   | 215                     | NA                      |\n",
       "| 192                     | cal poly-slo            | 70.93                   | 12                      | 20                      | 74.06                   | 119                     | 0                       | 3                       | 0                       | 5                       | 70.55                   | 197                     | 71.05                   | 183                     | 70.52                   | 198                     | NA                      |\n",
       "| 198                     | oakland-mich.           | 70.32                   | 11                      | 20                      | 74.90                   | 110                     | 0                       | 3                       | 0                       | 4                       | 69.73                   | 205                     | 70.53                   | 191                     | 70.09                   | 208                     | NA                      |\n",
       "| 218                     | se missouri state(semo) | 69.14                   | 16                      | 14                      | 66.88                   | 329                     | 0                       | 0                       | 0                       | 2                       | 68.20                   | 233                     | 68.32                   | 222                     | 71.34                   | 182                     | NA                      |\n",
       "| 223                     | ark.-little rock        | 68.80                   | 13                      | 17                      | 72.11                   | 168                     | 0                       | 1                       | 0                       | 3                       | 68.38                   | 228                     | 68.23                   | 224                     | 69.71                   | 214                     | NA                      |\n",
       "| 227                     | texas a&m-corpuschristi | 68.53                   | 17                      | 15                      | 66.40                   | 338                     | 0                       | 1                       | 0                       | 3                       | 66.93                   | 253                     | 67.44                   | 243                     | 72.12                   | 168                     | NA                      |\n",
       "| 233                     | fla. international      | 68.33                   | 13                      | 15                      | 70.59                   | 213                     | 0                       | 1                       | 0                       | 2                       | 68.13                   | 235                     | 67.61                   | 241                     | 69.14                   | 226                     | NA                      |\n",
       "| 260                     | north florida(unf)      | 66.74                   | 14                      | 16                      | 70.24                   | 231                     | 0                       | 3                       | 0                       | 3                       | 65.99                   | 262                     | 66.42                   | 262                     | 67.74                   | 248                     | NA                      |\n",
       "| 279                     | kansas city(umkc)       | 64.84                   | 10                      | 19                      | 70.43                   | 219                     | 0                       | 3                       | 0                       | 3                       | 63.99                   | 284                     | 64.41                   | 281                     | 66.14                   | 262                     | NA                      |\n",
       "| 307                     | njit(new jersey tech)   | 62.55                   |  9                      | 16                      | 67.50                   | 312                     | 0                       | 0                       | 0                       | 0                       | 62.12                   | 307                     | 62.06                   | 304                     | 63.30                   | 301                     | NA                      |\n",
       "| 308                     | central connecticut st. | 62.53                   | 10                      | 19                      | 68.43                   | 285                     | 0                       | 1                       | 0                       | 1                       | 62.17                   | 306                     | 61.88                   | 305                     | 63.43                   | 300                     | NA                      |\n",
       "| 310                     | saint francis-pa.       | 62.27                   | 10                      | 21                      | 69.51                   | 249                     | 0                       | 0                       | 0                       | 1                       | 61.36                   | 314                     | 61.07                   | 315                     | 64.68                   | 283                     | NA                      |\n",
       "| 313                     | long island u.          | 62.18                   |  9                      | 20                      | 68.87                   | 277                     | 0                       | 0                       | 0                       | 0                       | 61.17                   | 317                     | 60.83                   | 319                     | 64.88                   | 278                     | NA                      |\n",
       "| 314                     | texas-san antonio(utsa) | 61.95                   |  6                      | 21                      | 71.20                   | 196                     | 0                       | 0                       | 0                       | 2                       | 61.30                   | 315                     | 62.14                   | 303                     | 61.80                   | 317                     | NA                      |\n",
       "| 335                     | binghamton-ny           | 58.10                   |  7                      | 23                      | 67.89                   | 302                     | 0                       | 1                       | 0                       | 2                       | 58.00                   | 337                     | 58.20                   | 333                     | 57.16                   | 337                     | NA                      |\n",
       "| 340                     | md.-eastern shore(umes) | 57.72                   |  5                      | 23                      | 67.13                   | 322                     | 0                       | 0                       | 0                       | 1                       | 57.95                   | 338                     | 57.71                   | 339                     | 56.27                   | 344                     | NA                      |\n",
       "| 347                     | mvsu(miss. valley st.)  | 55.71                   |  6                      | 23                      | 66.49                   | 334                     | 0                       | 1                       | 0                       | 1                       | 54.48                   | 347                     | 54.51                   | 348                     | 58.12                   | 330                     | NA                      |\n",
       "| 349                     | presbyterian college    | 54.48                   |  4                      | 26                      | 67.38                   | 315                     | 0                       | 0                       | 0                       | 0                       | 54.41                   | 348                     | 54.23                   | 349                     | 54.22                   | 348                     | NA                      |\n",
       "\n"
      ],
      "text/plain": [
       "   Rank Name                    Rate  W  L  Sched RankSched W25 L25 W50 L50\n",
       "1   28  vcu(va. commonwealth)   85.81 26  9 77.01  81       1   0   5   6  \n",
       "2   47  saint joseph's-pa.      82.39 24 10 77.83  66       0   3   6   6  \n",
       "3   53  xavier-ohio             81.74 21 13 78.88  44       3   5   4   7  \n",
       "4   66  saint mary's-cal.       80.51 22 12 75.89  97       0   3   2   4  \n",
       "5  159  stony brook-ny          72.89 22 11 67.09 324       0   0   0   1  \n",
       "6  180  omaha(neb.-omaha)       71.56 14 15 71.11 201       0   0   0   2  \n",
       "7  192  cal poly-slo            70.93 12 20 74.06 119       0   3   0   5  \n",
       "8  198  oakland-mich.           70.32 11 20 74.90 110       0   3   0   4  \n",
       "9  218  se missouri state(semo) 69.14 16 14 66.88 329       0   0   0   2  \n",
       "10 223  ark.-little rock        68.80 13 17 72.11 168       0   1   0   3  \n",
       "11 227  texas a&m-corpuschristi 68.53 17 15 66.40 338       0   1   0   3  \n",
       "12 233  fla. international      68.33 13 15 70.59 213       0   1   0   2  \n",
       "13 260  north florida(unf)      66.74 14 16 70.24 231       0   3   0   3  \n",
       "14 279  kansas city(umkc)       64.84 10 19 70.43 219       0   3   0   3  \n",
       "15 307  njit(new jersey tech)   62.55  9 16 67.50 312       0   0   0   0  \n",
       "16 308  central connecticut st. 62.53 10 19 68.43 285       0   1   0   1  \n",
       "17 310  saint francis-pa.       62.27 10 21 69.51 249       0   0   0   1  \n",
       "18 313  long island u.          62.18  9 20 68.87 277       0   0   0   0  \n",
       "19 314  texas-san antonio(utsa) 61.95  6 21 71.20 196       0   0   0   2  \n",
       "20 335  binghamton-ny           58.10  7 23 67.89 302       0   1   0   2  \n",
       "21 340  md.-eastern shore(umes) 57.72  5 23 67.13 322       0   0   0   1  \n",
       "22 347  mvsu(miss. valley st.)  55.71  6 23 66.49 334       0   1   0   1  \n",
       "23 349  presbyterian college    54.48  4 26 67.38 315       0   0   0   0  \n",
       "   GoldenMean RankGM Predictor RankPred Pure  RankPure TeamID\n",
       "1  86.15       26    86.18      27      84.08  37      NA    \n",
       "2  81.96       51    81.51      56      84.22  36      NA    \n",
       "3  82.54       48    81.34      59      80.49  64      NA    \n",
       "4  80.03       71    80.38      64      80.76  60      NA    \n",
       "5  73.16      157    71.98     170      73.28 156      NA    \n",
       "6  72.39      162    71.35     182      69.64 215      NA    \n",
       "7  70.55      197    71.05     183      70.52 198      NA    \n",
       "8  69.73      205    70.53     191      70.09 208      NA    \n",
       "9  68.20      233    68.32     222      71.34 182      NA    \n",
       "10 68.38      228    68.23     224      69.71 214      NA    \n",
       "11 66.93      253    67.44     243      72.12 168      NA    \n",
       "12 68.13      235    67.61     241      69.14 226      NA    \n",
       "13 65.99      262    66.42     262      67.74 248      NA    \n",
       "14 63.99      284    64.41     281      66.14 262      NA    \n",
       "15 62.12      307    62.06     304      63.30 301      NA    \n",
       "16 62.17      306    61.88     305      63.43 300      NA    \n",
       "17 61.36      314    61.07     315      64.68 283      NA    \n",
       "18 61.17      317    60.83     319      64.88 278      NA    \n",
       "19 61.30      315    62.14     303      61.80 317      NA    \n",
       "20 58.00      337    58.20     333      57.16 337      NA    \n",
       "21 57.95      338    57.71     339      56.27 344      NA    \n",
       "22 54.48      347    54.51     348      58.12 330      NA    \n",
       "23 54.41      348    54.23     349      54.22 348      NA    "
      ]
     },
     "metadata": {},
     "output_type": "display_data"
    }
   ],
   "source": [
    "df.sagarin %>% \n",
    "    filter(is.na(TeamID))"
   ]
  },
  {
   "cell_type": "code",
   "execution_count": 124,
   "metadata": {},
   "outputs": [],
   "source": [
    "df.sagarin %>%\n",
    "    mutate_which(Rank==28,TeamID=1433) %>%\n",
    "    mutate_which(Rank==47,TeamID=1386) %>%\n",
    "    mutate_which(Rank==53,TeamID=1462) %>%\n",
    "    mutate_which(Rank==192,TeamID=1142) -> df.sagarin"
   ]
  },
  {
   "cell_type": "code",
   "execution_count": 125,
   "metadata": {},
   "outputs": [],
   "source": [
    "df.sagarin %>% \n",
    "    inner_join(df.teams2014,by='TeamID') %>%\n",
    "    select(TeamID,Predictor) -> df.sagarin"
   ]
  },
  {
   "cell_type": "code",
   "execution_count": 126,
   "metadata": {},
   "outputs": [
    {
     "data": {
      "text/html": [
       "<table>\n",
       "<thead><tr><th scope=col>ID</th><th scope=col>Target</th></tr></thead>\n",
       "<tbody>\n",
       "\t<tr><td>2014_1174_1277</td><td>0             </td></tr>\n",
       "\t<tr><td>2014_1372_1433</td><td>1             </td></tr>\n",
       "\t<tr><td>2014_1163_1277</td><td>1             </td></tr>\n",
       "\t<tr><td>2014_1332_1458</td><td>0             </td></tr>\n",
       "\t<tr><td>2014_1173_1196</td><td>0             </td></tr>\n",
       "</tbody>\n",
       "</table>\n"
      ],
      "text/latex": [
       "\\begin{tabular}{r|ll}\n",
       " ID & Target\\\\\n",
       "\\hline\n",
       "\t 2014\\_1174\\_1277 & 0                 \\\\\n",
       "\t 2014\\_1372\\_1433 & 1                 \\\\\n",
       "\t 2014\\_1163\\_1277 & 1                 \\\\\n",
       "\t 2014\\_1332\\_1458 & 0                 \\\\\n",
       "\t 2014\\_1173\\_1196 & 0                 \\\\\n",
       "\\end{tabular}\n"
      ],
      "text/markdown": [
       "\n",
       "| ID | Target |\n",
       "|---|---|\n",
       "| 2014_1174_1277 | 0              |\n",
       "| 2014_1372_1433 | 1              |\n",
       "| 2014_1163_1277 | 1              |\n",
       "| 2014_1332_1458 | 0              |\n",
       "| 2014_1173_1196 | 0              |\n",
       "\n"
      ],
      "text/plain": [
       "  ID             Target\n",
       "1 2014_1174_1277 0     \n",
       "2 2014_1372_1433 1     \n",
       "3 2014_1163_1277 1     \n",
       "4 2014_1332_1458 0     \n",
       "5 2014_1173_1196 0     "
      ]
     },
     "metadata": {},
     "output_type": "display_data"
    }
   ],
   "source": [
    "# compute the Truth \n",
    "data.tou2014 %>% \n",
    "    select(Season,WTeamID,LTeamID) %>% \n",
    "    mutate(TeamID.1=ifelse(WTeamID<LTeamID,WTeamID,LTeamID),\n",
    "           TeamID.2=ifelse(WTeamID>LTeamID,WTeamID,LTeamID)) %>%\n",
    "    mutate(ID=str_c(Season,'_',TeamID.1,'_',TeamID.2)) %>% \n",
    "    mutate(Target=ifelse(WTeamID==TeamID.1,1,0)) %>% \n",
    "    select(ID,Target) -> df.truth\n",
    "df.truth %>% sample_n(5)"
   ]
  },
  {
   "cell_type": "code",
   "execution_count": 127,
   "metadata": {},
   "outputs": [
    {
     "data": {
      "text/html": [
       "0.184956843403206"
      ],
      "text/latex": [
       "0.184956843403206"
      ],
      "text/markdown": [
       "0.184956843403206"
      ],
      "text/plain": [
       "[1] 0.1849568"
      ]
     },
     "metadata": {},
     "output_type": "display_data"
    }
   ],
   "source": [
    "# compute slope of sigmoid\n",
    "slope = 3 / threshold\n",
    "slope"
   ]
  },
  {
   "cell_type": "code",
   "execution_count": 128,
   "metadata": {},
   "outputs": [
    {
     "data": {
      "text/html": [
       "<table>\n",
       "<thead><tr><th scope=col>TeamID.x</th><th scope=col>Predictor.x</th><th scope=col>Season</th><th scope=col>TeamID.y</th><th scope=col>Predictor.y</th></tr></thead>\n",
       "<tbody>\n",
       "\t<tr><td>1264 </td><td>79.96</td><td>2014 </td><td>1328 </td><td>85.00</td></tr>\n",
       "\t<tr><td>1314 </td><td>85.85</td><td>2014 </td><td>1437 </td><td>89.02</td></tr>\n",
       "\t<tr><td>1332 </td><td>86.21</td><td>2014 </td><td>1344 </td><td>82.20</td></tr>\n",
       "\t<tr><td>1243 </td><td>83.06</td><td>2014 </td><td>1276 </td><td>89.76</td></tr>\n",
       "\t<tr><td>1142 </td><td>71.05</td><td>2014 </td><td>1269 </td><td>81.70</td></tr>\n",
       "</tbody>\n",
       "</table>\n"
      ],
      "text/latex": [
       "\\begin{tabular}{r|lllll}\n",
       " TeamID.x & Predictor.x & Season & TeamID.y & Predictor.y\\\\\n",
       "\\hline\n",
       "\t 1264  & 79.96 & 2014  & 1328  & 85.00\\\\\n",
       "\t 1314  & 85.85 & 2014  & 1437  & 89.02\\\\\n",
       "\t 1332  & 86.21 & 2014  & 1344  & 82.20\\\\\n",
       "\t 1243  & 83.06 & 2014  & 1276  & 89.76\\\\\n",
       "\t 1142  & 71.05 & 2014  & 1269  & 81.70\\\\\n",
       "\\end{tabular}\n"
      ],
      "text/markdown": [
       "\n",
       "| TeamID.x | Predictor.x | Season | TeamID.y | Predictor.y |\n",
       "|---|---|---|---|---|\n",
       "| 1264  | 79.96 | 2014  | 1328  | 85.00 |\n",
       "| 1314  | 85.85 | 2014  | 1437  | 89.02 |\n",
       "| 1332  | 86.21 | 2014  | 1344  | 82.20 |\n",
       "| 1243  | 83.06 | 2014  | 1276  | 89.76 |\n",
       "| 1142  | 71.05 | 2014  | 1269  | 81.70 |\n",
       "\n"
      ],
      "text/plain": [
       "  TeamID.x Predictor.x Season TeamID.y Predictor.y\n",
       "1 1264     79.96       2014   1328     85.00      \n",
       "2 1314     85.85       2014   1437     89.02      \n",
       "3 1332     86.21       2014   1344     82.20      \n",
       "4 1243     83.06       2014   1276     89.76      \n",
       "5 1142     71.05       2014   1269     81.70      "
      ]
     },
     "metadata": {},
     "output_type": "display_data"
    }
   ],
   "source": [
    "# matchups dataframe\n",
    "df.sagarin %>% \n",
    "    semi_join(df.teams2014,by='TeamID') %>% \n",
    "    mutate(Season=2014) -> tmp01\n",
    "tmp01 %>% \n",
    "    inner_join(tmp01,by='Season') %>% \n",
    "    filter(TeamID.x < TeamID.y) -> df.matchup\n",
    "df.matchup %>% sample_n(5)"
   ]
  },
  {
   "cell_type": "code",
   "execution_count": 129,
   "metadata": {},
   "outputs": [
    {
     "data": {
      "text/html": [
       "<table>\n",
       "<thead><tr><th scope=col>ID</th><th scope=col>Pred</th><th scope=col>Prob</th></tr></thead>\n",
       "<tbody>\n",
       "\t<tr><td>2014_1160_1372</td><td>1             </td><td>0.54794105    </td></tr>\n",
       "\t<tr><td>2014_1160_1257</td><td>0             </td><td>0.06144126    </td></tr>\n",
       "\t<tr><td>2014_1174_1438</td><td>0             </td><td>0.06573487    </td></tr>\n",
       "\t<tr><td>2014_1153_1397</td><td>0             </td><td>0.33036490    </td></tr>\n",
       "\t<tr><td>2014_1140_1217</td><td>0             </td><td>0.39832390    </td></tr>\n",
       "</tbody>\n",
       "</table>\n"
      ],
      "text/latex": [
       "\\begin{tabular}{r|lll}\n",
       " ID & Pred & Prob\\\\\n",
       "\\hline\n",
       "\t 2014\\_1160\\_1372 & 1                  & 0.54794105        \\\\\n",
       "\t 2014\\_1160\\_1257 & 0                  & 0.06144126        \\\\\n",
       "\t 2014\\_1174\\_1438 & 0                  & 0.06573487        \\\\\n",
       "\t 2014\\_1153\\_1397 & 0                  & 0.33036490        \\\\\n",
       "\t 2014\\_1140\\_1217 & 0                  & 0.39832390        \\\\\n",
       "\\end{tabular}\n"
      ],
      "text/markdown": [
       "\n",
       "| ID | Pred | Prob |\n",
       "|---|---|---|\n",
       "| 2014_1160_1372 | 1              | 0.54794105     |\n",
       "| 2014_1160_1257 | 0              | 0.06144126     |\n",
       "| 2014_1174_1438 | 0              | 0.06573487     |\n",
       "| 2014_1153_1397 | 0              | 0.33036490     |\n",
       "| 2014_1140_1217 | 0              | 0.39832390     |\n",
       "\n"
      ],
      "text/plain": [
       "  ID             Pred Prob      \n",
       "1 2014_1160_1372 1    0.54794105\n",
       "2 2014_1160_1257 0    0.06144126\n",
       "3 2014_1174_1438 0    0.06573487\n",
       "4 2014_1153_1397 0    0.33036490\n",
       "5 2014_1140_1217 0    0.39832390"
      ]
     },
     "metadata": {},
     "output_type": "display_data"
    }
   ],
   "source": [
    "# machups predictions\n",
    "df.matchup %>% \n",
    "    mutate(ID=str_c(Season,'_',TeamID.x,'_',TeamID.y)) %>% \n",
    "    mutate(Prob=logistic(Predictor.x-Predictor.y,a=slope)) %>% \n",
    "    mutate(Pred=ifelse(Prob>0.5,1,0)) %>% \n",
    "    select(ID,Pred,Prob) -> df.submit\n",
    "df.submit %>% sample_n(5)"
   ]
  },
  {
   "cell_type": "code",
   "execution_count": 130,
   "metadata": {},
   "outputs": [],
   "source": [
    "# merge prediction and truth\n",
    "df.truth %>% inner_join(df.submit,by='ID') -> df.results"
   ]
  },
  {
   "cell_type": "code",
   "execution_count": 136,
   "metadata": {},
   "outputs": [
    {
     "name": "stdout",
     "output_type": "stream",
     "text": [
      "Confusion Matrix"
     ]
    },
    {
     "data": {
      "text/plain": [
       "   \n",
       "     0  1\n",
       "  0 24  5\n",
       "  1 13 25"
      ]
     },
     "metadata": {},
     "output_type": "display_data"
    },
    {
     "name": "stdout",
     "output_type": "stream",
     "text": [
      "Accuracy:  0.73134328358209"
     ]
    }
   ],
   "source": [
    "# confusion matrix\n",
    "cm <- table(df.results$Target,df.results$Pred)\n",
    "cat('Confusion Matrix')\n",
    "cm\n",
    "perf <- (cm[1,1]+cm[2,2]) / nrow(df.results)\n",
    "cat(paste('Accuracy: ',perf))"
   ]
  },
  {
   "cell_type": "code",
   "execution_count": 140,
   "metadata": {},
   "outputs": [
    {
     "name": "stdout",
     "output_type": "stream",
     "text": [
      "Baseline logloss: 0.693147180559945"
     ]
    },
    {
     "data": {
      "text/html": [
       "<table>\n",
       "<thead><tr><th scope=col>ModelLogLoss</th></tr></thead>\n",
       "<tbody>\n",
       "\t<tr><td>0.4949369</td></tr>\n",
       "</tbody>\n",
       "</table>\n"
      ],
      "text/latex": [
       "\\begin{tabular}{r|l}\n",
       " ModelLogLoss\\\\\n",
       "\\hline\n",
       "\t 0.4949369\\\\\n",
       "\\end{tabular}\n"
      ],
      "text/markdown": [
       "\n",
       "| ModelLogLoss |\n",
       "|---|\n",
       "| 0.4949369 |\n",
       "\n"
      ],
      "text/plain": [
       "  ModelLogLoss\n",
       "1 0.4949369   "
      ]
     },
     "metadata": {},
     "output_type": "display_data"
    }
   ],
   "source": [
    "cat(paste('Baseline logloss:',-log(0.5)))\n",
    "# logloss (kaggle metric)\n",
    "df.results %>% \n",
    "    mutate(LogLoss=Target*log(Prob) + (1-Target)*log(1-Prob)) %>% \n",
    "    summarise(ModelLogLoss = -mean(LogLoss))"
   ]
  },
  {
   "cell_type": "code",
   "execution_count": null,
   "metadata": {},
   "outputs": [],
   "source": []
  }
 ],
 "metadata": {
  "kernelspec": {
   "display_name": "R 3.5.0",
   "language": "R",
   "name": "ir35"
  },
  "language_info": {
   "codemirror_mode": "r",
   "file_extension": ".r",
   "mimetype": "text/x-r-source",
   "name": "R",
   "pygments_lexer": "r",
   "version": "3.5.1"
  }
 },
 "nbformat": 4,
 "nbformat_minor": 2
}
