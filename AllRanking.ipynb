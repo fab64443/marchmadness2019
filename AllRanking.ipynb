{
 "cells": [
  {
   "cell_type": "code",
   "execution_count": 21,
   "metadata": {},
   "outputs": [],
   "source": [
    "library(dplyr,warn.conflicts=F)\n",
    "library(stringr,warn.conflicts=F)\n",
    "library(psych,warn.conflicts=F)"
   ]
  },
  {
   "cell_type": "code",
   "execution_count": 2,
   "metadata": {},
   "outputs": [],
   "source": [
    "# load the stats\n",
    "data.tourney <- readRDS('datafiles_rds/NCAATourneyDetailedResults.rds')\n",
    "# keep 2014\n",
    "data.tourney %>% filter(Season==2014) -> data.tou2014"
   ]
  },
  {
   "cell_type": "code",
   "execution_count": 3,
   "metadata": {},
   "outputs": [],
   "source": [
    "# store 68 tourney teams \n",
    "data.tou2014 %>% \n",
    "    select(TeamID=WTeamID) %>% \n",
    "    bind_rows(data.tou2014 %>% \n",
    "              select(TeamID=LTeamID)) %>% \n",
    "    distinct(TeamID) -> df.teams2014"
   ]
  },
  {
   "cell_type": "code",
   "execution_count": 4,
   "metadata": {},
   "outputs": [],
   "source": [
    "# load ranking db\n",
    "data.ranking <- readRDS('datafiles_rds/MasseyOrdinals.rds')\n",
    "# keep 2014, last day\n",
    "data.ranking %>% \n",
    "    filter(Season==2014) %>% \n",
    "    filter(RankingDayNum==max(RankingDayNum)) -> data.lastranking"
   ]
  },
  {
   "cell_type": "code",
   "execution_count": 5,
   "metadata": {},
   "outputs": [
    {
     "data": {
      "text/html": [
       "<table>\n",
       "<thead><tr><th scope=col>ID</th><th scope=col>Target</th></tr></thead>\n",
       "<tbody>\n",
       "\t<tr><td>2014_1235_1314</td><td>1             </td></tr>\n",
       "\t<tr><td>2014_1112_1211</td><td>1             </td></tr>\n",
       "\t<tr><td>2014_1277_1438</td><td>1             </td></tr>\n",
       "\t<tr><td>2014_1112_1451</td><td>1             </td></tr>\n",
       "\t<tr><td>2014_1163_1246</td><td>1             </td></tr>\n",
       "</tbody>\n",
       "</table>\n"
      ],
      "text/latex": [
       "\\begin{tabular}{r|ll}\n",
       " ID & Target\\\\\n",
       "\\hline\n",
       "\t 2014\\_1235\\_1314 & 1                 \\\\\n",
       "\t 2014\\_1112\\_1211 & 1                 \\\\\n",
       "\t 2014\\_1277\\_1438 & 1                 \\\\\n",
       "\t 2014\\_1112\\_1451 & 1                 \\\\\n",
       "\t 2014\\_1163\\_1246 & 1                 \\\\\n",
       "\\end{tabular}\n"
      ],
      "text/markdown": [
       "\n",
       "| ID | Target |\n",
       "|---|---|\n",
       "| 2014_1235_1314 | 1              |\n",
       "| 2014_1112_1211 | 1              |\n",
       "| 2014_1277_1438 | 1              |\n",
       "| 2014_1112_1451 | 1              |\n",
       "| 2014_1163_1246 | 1              |\n",
       "\n"
      ],
      "text/plain": [
       "  ID             Target\n",
       "1 2014_1235_1314 1     \n",
       "2 2014_1112_1211 1     \n",
       "3 2014_1277_1438 1     \n",
       "4 2014_1112_1451 1     \n",
       "5 2014_1163_1246 1     "
      ]
     },
     "metadata": {},
     "output_type": "display_data"
    }
   ],
   "source": [
    "# compute the Truth \n",
    "data.tou2014 %>% \n",
    "    select(Season,WTeamID,LTeamID) %>% \n",
    "    mutate(TeamID.1=ifelse(WTeamID<LTeamID,WTeamID,LTeamID),\n",
    "           TeamID.2=ifelse(WTeamID>LTeamID,WTeamID,LTeamID)) %>%\n",
    "    mutate(ID=str_c(Season,'_',TeamID.1,'_',TeamID.2)) %>% \n",
    "    mutate(Target=ifelse(WTeamID==TeamID.1,1,0)) %>% \n",
    "    select(ID,Target) -> df.truth\n",
    "df.truth %>% sample_n(5)"
   ]
  },
  {
   "cell_type": "code",
   "execution_count": 6,
   "metadata": {},
   "outputs": [],
   "source": [
    "data.lastranking %>% distinct(SystemName) -> df.systems"
   ]
  },
  {
   "cell_type": "code",
   "execution_count": 7,
   "metadata": {},
   "outputs": [
    {
     "data": {
      "text/html": [
       "0.0166666666666667"
      ],
      "text/latex": [
       "0.0166666666666667"
      ],
      "text/markdown": [
       "0.0166666666666667"
      ],
      "text/plain": [
       "[1] 0.01666667"
      ]
     },
     "metadata": {},
     "output_type": "display_data"
    }
   ],
   "source": [
    "# compute slope of sigmoid\n",
    "slope = 3 / 180    # ~.50 percentile\n",
    "slope"
   ]
  },
  {
   "cell_type": "code",
   "execution_count": 9,
   "metadata": {},
   "outputs": [
    {
     "data": {
      "text/html": [
       "<table>\n",
       "<thead><tr><th scope=col>Season</th><th scope=col>SystemName</th><th scope=col>TeamID.x</th><th scope=col>OrdinalRank.x</th><th scope=col>TeamID.y</th><th scope=col>OrdinalRank.y</th></tr></thead>\n",
       "<tbody>\n",
       "\t<tr><td>2014</td><td>TW  </td><td>1387</td><td> 23 </td><td>1462</td><td> 38 </td></tr>\n",
       "\t<tr><td>2014</td><td>TW  </td><td>1273</td><td>185 </td><td>1314</td><td> 19 </td></tr>\n",
       "\t<tr><td>2014</td><td>WIL </td><td>1184</td><td>130 </td><td>1300</td><td>125 </td></tr>\n",
       "\t<tr><td>2014</td><td>LMC </td><td>1301</td><td> 68 </td><td>1314</td><td> 27 </td></tr>\n",
       "\t<tr><td>2014</td><td>PGH </td><td>1372</td><td> 58 </td><td>1400</td><td> 24 </td></tr>\n",
       "</tbody>\n",
       "</table>\n"
      ],
      "text/latex": [
       "\\begin{tabular}{r|llllll}\n",
       " Season & SystemName & TeamID.x & OrdinalRank.x & TeamID.y & OrdinalRank.y\\\\\n",
       "\\hline\n",
       "\t 2014 & TW   & 1387 &  23  & 1462 &  38 \\\\\n",
       "\t 2014 & TW   & 1273 & 185  & 1314 &  19 \\\\\n",
       "\t 2014 & WIL  & 1184 & 130  & 1300 & 125 \\\\\n",
       "\t 2014 & LMC  & 1301 &  68  & 1314 &  27 \\\\\n",
       "\t 2014 & PGH  & 1372 &  58  & 1400 &  24 \\\\\n",
       "\\end{tabular}\n"
      ],
      "text/markdown": [
       "\n",
       "| Season | SystemName | TeamID.x | OrdinalRank.x | TeamID.y | OrdinalRank.y |\n",
       "|---|---|---|---|---|---|\n",
       "| 2014 | TW   | 1387 |  23  | 1462 |  38  |\n",
       "| 2014 | TW   | 1273 | 185  | 1314 |  19  |\n",
       "| 2014 | WIL  | 1184 | 130  | 1300 | 125  |\n",
       "| 2014 | LMC  | 1301 |  68  | 1314 |  27  |\n",
       "| 2014 | PGH  | 1372 |  58  | 1400 |  24  |\n",
       "\n"
      ],
      "text/plain": [
       "  Season SystemName TeamID.x OrdinalRank.x TeamID.y OrdinalRank.y\n",
       "1 2014   TW         1387      23           1462      38          \n",
       "2 2014   TW         1273     185           1314      19          \n",
       "3 2014   WIL        1184     130           1300     125          \n",
       "4 2014   LMC        1301      68           1314      27          \n",
       "5 2014   PGH        1372      58           1400      24          "
      ]
     },
     "metadata": {},
     "output_type": "display_data"
    }
   ],
   "source": [
    "# matchups dataframe for each SystemName\n",
    "df.teams2014 %>%\n",
    "    inner_join(data.lastranking,by='TeamID') %>%\n",
    "    select(Season,SystemName,TeamID,OrdinalRank) -> tmp01\n",
    "tmp01 %>% \n",
    "    inner_join(tmp01,by=c('Season','SystemName')) %>% \n",
    "    filter(TeamID.x < TeamID.y) -> df.matchup\n",
    "df.matchup %>% sample_n(5)"
   ]
  },
  {
   "cell_type": "code",
   "execution_count": 18,
   "metadata": {},
   "outputs": [],
   "source": [
    "# remove ranking with too few teams\n",
    "df.matchup %>% \n",
    "    group_by(SystemName) %>% \n",
    "    mutate(N=n()) %>%\n",
    "    ungroup() %>%\n",
    "    filter(N==max(N)) %>%\n",
    "    select(-N) -> df.matchup"
   ]
  },
  {
   "cell_type": "code",
   "execution_count": 22,
   "metadata": {},
   "outputs": [
    {
     "data": {
      "text/html": [
       "<table>\n",
       "<thead><tr><th scope=col>ID</th><th scope=col>SystemName</th><th scope=col>Pred</th><th scope=col>Prob</th></tr></thead>\n",
       "<tbody>\n",
       "\t<tr><td>2014_1257_1328</td><td>DCI           </td><td>0             </td><td>0.42963676    </td></tr>\n",
       "\t<tr><td>2014_1328_1329</td><td>KPK           </td><td>1             </td><td>0.51666050    </td></tr>\n",
       "\t<tr><td>2014_1437_1462</td><td>STS           </td><td>0             </td><td>0.27888482    </td></tr>\n",
       "\t<tr><td>2014_1397_1409</td><td>WLK           </td><td>0             </td><td>0.27554540    </td></tr>\n",
       "\t<tr><td>2014_1307_1451</td><td>ADE           </td><td>0             </td><td>0.06199703    </td></tr>\n",
       "</tbody>\n",
       "</table>\n"
      ],
      "text/latex": [
       "\\begin{tabular}{r|llll}\n",
       " ID & SystemName & Pred & Prob\\\\\n",
       "\\hline\n",
       "\t 2014\\_1257\\_1328 & DCI                & 0                  & 0.42963676        \\\\\n",
       "\t 2014\\_1328\\_1329 & KPK                & 1                  & 0.51666050        \\\\\n",
       "\t 2014\\_1437\\_1462 & STS                & 0                  & 0.27888482        \\\\\n",
       "\t 2014\\_1397\\_1409 & WLK                & 0                  & 0.27554540        \\\\\n",
       "\t 2014\\_1307\\_1451 & ADE                & 0                  & 0.06199703        \\\\\n",
       "\\end{tabular}\n"
      ],
      "text/markdown": [
       "\n",
       "| ID | SystemName | Pred | Prob |\n",
       "|---|---|---|---|\n",
       "| 2014_1257_1328 | DCI            | 0              | 0.42963676     |\n",
       "| 2014_1328_1329 | KPK            | 1              | 0.51666050     |\n",
       "| 2014_1437_1462 | STS            | 0              | 0.27888482     |\n",
       "| 2014_1397_1409 | WLK            | 0              | 0.27554540     |\n",
       "| 2014_1307_1451 | ADE            | 0              | 0.06199703     |\n",
       "\n"
      ],
      "text/plain": [
       "  ID             SystemName Pred Prob      \n",
       "1 2014_1257_1328 DCI        0    0.42963676\n",
       "2 2014_1328_1329 KPK        1    0.51666050\n",
       "3 2014_1437_1462 STS        0    0.27888482\n",
       "4 2014_1397_1409 WLK        0    0.27554540\n",
       "5 2014_1307_1451 ADE        0    0.06199703"
      ]
     },
     "metadata": {},
     "output_type": "display_data"
    }
   ],
   "source": [
    "# machups predictions\n",
    "df.matchup %>% \n",
    "    mutate(ID=str_c(Season,'_',TeamID.x,'_',TeamID.y)) %>% \n",
    "    mutate(Prob=logistic(OrdinalRank.x-OrdinalRank.y,a=slope)) %>% \n",
    "    mutate(Pred=ifelse(Prob>0.5,1,0)) %>% \n",
    "    select(ID,SystemName,Pred,Prob) -> df.submit\n",
    "df.submit %>% sample_n(5)"
   ]
  },
  {
   "cell_type": "code",
   "execution_count": 25,
   "metadata": {},
   "outputs": [],
   "source": [
    "# merge prediction and truth\n",
    "df.truth %>% inner_join(df.submit,by='ID') -> df.results"
   ]
  },
  {
   "cell_type": "code",
   "execution_count": 31,
   "metadata": {},
   "outputs": [
    {
     "data": {
      "text/html": [
       "<table>\n",
       "<thead><tr><th scope=col>SystemName</th><th scope=col>TC</th><th scope=col>FC</th><th scope=col>N</th><th scope=col>Acc</th><th scope=col>LogLoss</th></tr></thead>\n",
       "<tbody>\n",
       "\t<tr><td>KBM      </td><td>27       </td><td>40       </td><td>67       </td><td>0.4029851</td><td>1.058206 </td></tr>\n",
       "\t<tr><td>CPR      </td><td>26       </td><td>41       </td><td>67       </td><td>0.3880597</td><td>1.115242 </td></tr>\n",
       "\t<tr><td>SEL      </td><td>26       </td><td>41       </td><td>67       </td><td>0.3880597</td><td>1.116321 </td></tr>\n",
       "\t<tr><td>ADE      </td><td>25       </td><td>42       </td><td>67       </td><td>0.3731343</td><td>1.084068 </td></tr>\n",
       "\t<tr><td>KPK      </td><td>25       </td><td>42       </td><td>67       </td><td>0.3731343</td><td>1.041390 </td></tr>\n",
       "</tbody>\n",
       "</table>\n"
      ],
      "text/latex": [
       "\\begin{tabular}{r|llllll}\n",
       " SystemName & TC & FC & N & Acc & LogLoss\\\\\n",
       "\\hline\n",
       "\t KBM       & 27        & 40        & 67        & 0.4029851 & 1.058206 \\\\\n",
       "\t CPR       & 26        & 41        & 67        & 0.3880597 & 1.115242 \\\\\n",
       "\t SEL       & 26        & 41        & 67        & 0.3880597 & 1.116321 \\\\\n",
       "\t ADE       & 25        & 42        & 67        & 0.3731343 & 1.084068 \\\\\n",
       "\t KPK       & 25        & 42        & 67        & 0.3731343 & 1.041390 \\\\\n",
       "\\end{tabular}\n"
      ],
      "text/markdown": [
       "\n",
       "| SystemName | TC | FC | N | Acc | LogLoss |\n",
       "|---|---|---|---|---|---|\n",
       "| KBM       | 27        | 40        | 67        | 0.4029851 | 1.058206  |\n",
       "| CPR       | 26        | 41        | 67        | 0.3880597 | 1.115242  |\n",
       "| SEL       | 26        | 41        | 67        | 0.3880597 | 1.116321  |\n",
       "| ADE       | 25        | 42        | 67        | 0.3731343 | 1.084068  |\n",
       "| KPK       | 25        | 42        | 67        | 0.3731343 | 1.041390  |\n",
       "\n"
      ],
      "text/plain": [
       "  SystemName TC FC N  Acc       LogLoss \n",
       "1 KBM        27 40 67 0.4029851 1.058206\n",
       "2 CPR        26 41 67 0.3880597 1.115242\n",
       "3 SEL        26 41 67 0.3880597 1.116321\n",
       "4 ADE        25 42 67 0.3731343 1.084068\n",
       "5 KPK        25 42 67 0.3731343 1.041390"
      ]
     },
     "metadata": {},
     "output_type": "display_data"
    }
   ],
   "source": [
    "# Accuracy & Logloss per SystemName\n",
    "df.results %>% \n",
    "    mutate(OK=ifelse(Pred==Target,1,0)) %>%\n",
    "    mutate(LogLoss=Target*log(Prob) + (1-Target)*log(1-Prob)) %>%\n",
    "    group_by(SystemName) %>%\n",
    "    summarise(TC=sum(OK),N=n(),FC=N-TC,Acc=TC/N,LogLoss=-mean(LogLoss)) %>%\n",
    "    select(SystemName,TC,FC,N,Acc,LogLoss) -> df.results.perf\n",
    "df.results.perf %>% arrange(desc(Acc)) %>% head(5)"
   ]
  },
  {
   "cell_type": "code",
   "execution_count": null,
   "metadata": {},
   "outputs": [],
   "source": []
  }
 ],
 "metadata": {
  "kernelspec": {
   "display_name": "R 3.5.0",
   "language": "R",
   "name": "ir35"
  },
  "language_info": {
   "codemirror_mode": "r",
   "file_extension": ".r",
   "mimetype": "text/x-r-source",
   "name": "R",
   "pygments_lexer": "r",
   "version": "3.5.1"
  }
 },
 "nbformat": 4,
 "nbformat_minor": 2
}
