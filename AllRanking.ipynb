{
 "cells": [
  {
   "cell_type": "code",
   "execution_count": 1,
   "metadata": {},
   "outputs": [],
   "source": [
    "library(dplyr,warn.conflicts=F)\n",
    "library(stringr,warn.conflicts=F)\n",
    "library(psych,warn.conflicts=F)"
   ]
  },
  {
   "cell_type": "code",
   "execution_count": 2,
   "metadata": {},
   "outputs": [],
   "source": [
    "# load the stats\n",
    "data.tourney <- readRDS('datafiles_rds/NCAATourneyDetailedResults.rds')\n",
    "# keep 2014\n",
    "data.tourney %>% filter(Season==2014) -> data.tou2014"
   ]
  },
  {
   "cell_type": "code",
   "execution_count": 3,
   "metadata": {},
   "outputs": [],
   "source": [
    "# store 68 tourney teams \n",
    "data.tou2014 %>% \n",
    "    select(TeamID=WTeamID) %>% \n",
    "    bind_rows(data.tou2014 %>% \n",
    "              select(TeamID=LTeamID)) %>% \n",
    "    distinct(TeamID) -> df.teams2014"
   ]
  },
  {
   "cell_type": "code",
   "execution_count": 4,
   "metadata": {},
   "outputs": [],
   "source": [
    "# load ranking db\n",
    "data.ranking <- readRDS('datafiles_rds/MasseyOrdinals.rds')\n",
    "# keep 2014, last day\n",
    "data.ranking %>% \n",
    "    filter(Season==2014) %>% \n",
    "    filter(RankingDayNum==max(RankingDayNum)) -> data.lastranking"
   ]
  },
  {
   "cell_type": "code",
   "execution_count": 5,
   "metadata": {},
   "outputs": [
    {
     "data": {
      "text/html": [
       "<table>\n",
       "<thead><tr><th scope=col>ID</th><th scope=col>Target</th></tr></thead>\n",
       "<tbody>\n",
       "\t<tr><td>2014_1242_1390</td><td>0             </td></tr>\n",
       "\t<tr><td>2014_1372_1433</td><td>1             </td></tr>\n",
       "\t<tr><td>2014_1276_1397</td><td>1             </td></tr>\n",
       "\t<tr><td>2014_1393_1444</td><td>1             </td></tr>\n",
       "\t<tr><td>2014_1107_1196</td><td>0             </td></tr>\n",
       "</tbody>\n",
       "</table>\n"
      ],
      "text/latex": [
       "\\begin{tabular}{r|ll}\n",
       " ID & Target\\\\\n",
       "\\hline\n",
       "\t 2014\\_1242\\_1390 & 0                 \\\\\n",
       "\t 2014\\_1372\\_1433 & 1                 \\\\\n",
       "\t 2014\\_1276\\_1397 & 1                 \\\\\n",
       "\t 2014\\_1393\\_1444 & 1                 \\\\\n",
       "\t 2014\\_1107\\_1196 & 0                 \\\\\n",
       "\\end{tabular}\n"
      ],
      "text/markdown": [
       "\n",
       "| ID | Target |\n",
       "|---|---|\n",
       "| 2014_1242_1390 | 0              |\n",
       "| 2014_1372_1433 | 1              |\n",
       "| 2014_1276_1397 | 1              |\n",
       "| 2014_1393_1444 | 1              |\n",
       "| 2014_1107_1196 | 0              |\n",
       "\n"
      ],
      "text/plain": [
       "  ID             Target\n",
       "1 2014_1242_1390 0     \n",
       "2 2014_1372_1433 1     \n",
       "3 2014_1276_1397 1     \n",
       "4 2014_1393_1444 1     \n",
       "5 2014_1107_1196 0     "
      ]
     },
     "metadata": {},
     "output_type": "display_data"
    }
   ],
   "source": [
    "# compute the Truth \n",
    "data.tou2014 %>% \n",
    "    select(Season,WTeamID,LTeamID) %>% \n",
    "    mutate(TeamID.1=ifelse(WTeamID<LTeamID,WTeamID,LTeamID),\n",
    "           TeamID.2=ifelse(WTeamID>LTeamID,WTeamID,LTeamID)) %>%\n",
    "    mutate(ID=str_c(Season,'_',TeamID.1,'_',TeamID.2)) %>% \n",
    "    mutate(Target=ifelse(WTeamID==TeamID.1,1,0)) %>% \n",
    "    select(ID,Target) -> df.truth\n",
    "df.truth %>% sample_n(5)"
   ]
  },
  {
   "cell_type": "code",
   "execution_count": 6,
   "metadata": {},
   "outputs": [],
   "source": [
    "data.lastranking %>% distinct(SystemName) -> df.systems"
   ]
  },
  {
   "cell_type": "code",
   "execution_count": 7,
   "metadata": {},
   "outputs": [
    {
     "data": {
      "text/html": [
       "0.0166666666666667"
      ],
      "text/latex": [
       "0.0166666666666667"
      ],
      "text/markdown": [
       "0.0166666666666667"
      ],
      "text/plain": [
       "[1] 0.01666667"
      ]
     },
     "metadata": {},
     "output_type": "display_data"
    }
   ],
   "source": [
    "# compute slope of sigmoid\n",
    "slope = 3 / 180    # ~.50 percentile\n",
    "slope"
   ]
  },
  {
   "cell_type": "code",
   "execution_count": 8,
   "metadata": {},
   "outputs": [
    {
     "data": {
      "text/html": [
       "<table>\n",
       "<thead><tr><th scope=col>Season</th><th scope=col>SystemName</th><th scope=col>TeamID.x</th><th scope=col>OrdinalRank.x</th><th scope=col>TeamID.y</th><th scope=col>OrdinalRank.y</th></tr></thead>\n",
       "<tbody>\n",
       "\t<tr><td>2014</td><td>DOL </td><td>1166</td><td> 16 </td><td>1314</td><td>27  </td></tr>\n",
       "\t<tr><td>2014</td><td>BUR </td><td>1107</td><td>182 </td><td>1326</td><td>18  </td></tr>\n",
       "\t<tr><td>2014</td><td>MAS </td><td>1166</td><td> 17 </td><td>1397</td><td>42  </td></tr>\n",
       "\t<tr><td>2014</td><td>KPK </td><td>1295</td><td> 48 </td><td>1409</td><td>79  </td></tr>\n",
       "\t<tr><td>2014</td><td>STF </td><td>1272</td><td> 38 </td><td>1386</td><td>51  </td></tr>\n",
       "</tbody>\n",
       "</table>\n"
      ],
      "text/latex": [
       "\\begin{tabular}{r|llllll}\n",
       " Season & SystemName & TeamID.x & OrdinalRank.x & TeamID.y & OrdinalRank.y\\\\\n",
       "\\hline\n",
       "\t 2014 & DOL  & 1166 &  16  & 1314 & 27  \\\\\n",
       "\t 2014 & BUR  & 1107 & 182  & 1326 & 18  \\\\\n",
       "\t 2014 & MAS  & 1166 &  17  & 1397 & 42  \\\\\n",
       "\t 2014 & KPK  & 1295 &  48  & 1409 & 79  \\\\\n",
       "\t 2014 & STF  & 1272 &  38  & 1386 & 51  \\\\\n",
       "\\end{tabular}\n"
      ],
      "text/markdown": [
       "\n",
       "| Season | SystemName | TeamID.x | OrdinalRank.x | TeamID.y | OrdinalRank.y |\n",
       "|---|---|---|---|---|---|\n",
       "| 2014 | DOL  | 1166 |  16  | 1314 | 27   |\n",
       "| 2014 | BUR  | 1107 | 182  | 1326 | 18   |\n",
       "| 2014 | MAS  | 1166 |  17  | 1397 | 42   |\n",
       "| 2014 | KPK  | 1295 |  48  | 1409 | 79   |\n",
       "| 2014 | STF  | 1272 |  38  | 1386 | 51   |\n",
       "\n"
      ],
      "text/plain": [
       "  Season SystemName TeamID.x OrdinalRank.x TeamID.y OrdinalRank.y\n",
       "1 2014   DOL        1166      16           1314     27           \n",
       "2 2014   BUR        1107     182           1326     18           \n",
       "3 2014   MAS        1166      17           1397     42           \n",
       "4 2014   KPK        1295      48           1409     79           \n",
       "5 2014   STF        1272      38           1386     51           "
      ]
     },
     "metadata": {},
     "output_type": "display_data"
    }
   ],
   "source": [
    "# matchups dataframe for each SystemName\n",
    "df.teams2014 %>%\n",
    "    inner_join(data.lastranking,by='TeamID') %>%\n",
    "    select(Season,SystemName,TeamID,OrdinalRank) -> tmp01\n",
    "tmp01 %>% \n",
    "    inner_join(tmp01,by=c('Season','SystemName')) %>% \n",
    "    filter(TeamID.x < TeamID.y) -> df.matchup\n",
    "df.matchup %>% sample_n(5)"
   ]
  },
  {
   "cell_type": "code",
   "execution_count": 9,
   "metadata": {},
   "outputs": [],
   "source": [
    "# remove ranking with too few teams\n",
    "df.matchup %>% \n",
    "    group_by(SystemName) %>% \n",
    "    mutate(N=n()) %>%\n",
    "    ungroup() %>%\n",
    "    filter(N==max(N)) %>%\n",
    "    select(-N) -> df.matchup"
   ]
  },
  {
   "cell_type": "code",
   "execution_count": 10,
   "metadata": {},
   "outputs": [
    {
     "data": {
      "text/html": [
       "<table>\n",
       "<thead><tr><th scope=col>ID</th><th scope=col>SystemName</th><th scope=col>Pred</th><th scope=col>Prob</th></tr></thead>\n",
       "<tbody>\n",
       "\t<tr><td>2014_1174_1390</td><td>MOR           </td><td>0             </td><td>0.2141650     </td></tr>\n",
       "\t<tr><td>2014_1211_1411</td><td>DOL           </td><td>1             </td><td>0.9795010     </td></tr>\n",
       "\t<tr><td>2014_1437_1444</td><td>BBT           </td><td>1             </td><td>0.8273079     </td></tr>\n",
       "\t<tr><td>2014_1314_1455</td><td>CJB           </td><td>0             </td><td>0.4501660     </td></tr>\n",
       "\t<tr><td>2014_1338_1458</td><td>7OT           </td><td>0             </td><td>0.4296368     </td></tr>\n",
       "</tbody>\n",
       "</table>\n"
      ],
      "text/latex": [
       "\\begin{tabular}{r|llll}\n",
       " ID & SystemName & Pred & Prob\\\\\n",
       "\\hline\n",
       "\t 2014\\_1174\\_1390 & MOR                & 0                  & 0.2141650         \\\\\n",
       "\t 2014\\_1211\\_1411 & DOL                & 1                  & 0.9795010         \\\\\n",
       "\t 2014\\_1437\\_1444 & BBT                & 1                  & 0.8273079         \\\\\n",
       "\t 2014\\_1314\\_1455 & CJB                & 0                  & 0.4501660         \\\\\n",
       "\t 2014\\_1338\\_1458 & 7OT                & 0                  & 0.4296368         \\\\\n",
       "\\end{tabular}\n"
      ],
      "text/markdown": [
       "\n",
       "| ID | SystemName | Pred | Prob |\n",
       "|---|---|---|---|\n",
       "| 2014_1174_1390 | MOR            | 0              | 0.2141650      |\n",
       "| 2014_1211_1411 | DOL            | 1              | 0.9795010      |\n",
       "| 2014_1437_1444 | BBT            | 1              | 0.8273079      |\n",
       "| 2014_1314_1455 | CJB            | 0              | 0.4501660      |\n",
       "| 2014_1338_1458 | 7OT            | 0              | 0.4296368      |\n",
       "\n"
      ],
      "text/plain": [
       "  ID             SystemName Pred Prob     \n",
       "1 2014_1174_1390 MOR        0    0.2141650\n",
       "2 2014_1211_1411 DOL        1    0.9795010\n",
       "3 2014_1437_1444 BBT        1    0.8273079\n",
       "4 2014_1314_1455 CJB        0    0.4501660\n",
       "5 2014_1338_1458 7OT        0    0.4296368"
      ]
     },
     "metadata": {},
     "output_type": "display_data"
    }
   ],
   "source": [
    "# machups predictions\n",
    "df.matchup %>% \n",
    "    mutate(ID=str_c(Season,'_',TeamID.x,'_',TeamID.y)) %>% \n",
    "    mutate(Prob=logistic(OrdinalRank.y-OrdinalRank.x,a=slope)) %>% \n",
    "    mutate(Pred=ifelse(Prob>0.5,1,0)) %>% \n",
    "    select(ID,SystemName,Pred,Prob) -> df.submit\n",
    "df.submit %>% sample_n(5)"
   ]
  },
  {
   "cell_type": "code",
   "execution_count": 11,
   "metadata": {},
   "outputs": [],
   "source": [
    "# merge prediction and truth\n",
    "df.truth %>% inner_join(df.submit,by='ID') -> df.results"
   ]
  },
  {
   "cell_type": "code",
   "execution_count": 12,
   "metadata": {},
   "outputs": [
    {
     "data": {
      "text/html": [
       "<table>\n",
       "<thead><tr><th scope=col>SystemName</th><th scope=col>TC</th><th scope=col>FC</th><th scope=col>N</th><th scope=col>Acc</th><th scope=col>LogLoss</th></tr></thead>\n",
       "<tbody>\n",
       "\t<tr><td>UPS      </td><td>48       </td><td>19       </td><td>67       </td><td>0.7164179</td><td>0.5685834</td></tr>\n",
       "\t<tr><td>DUN      </td><td>47       </td><td>20       </td><td>67       </td><td>0.7014925</td><td>0.5653627</td></tr>\n",
       "\t<tr><td>7OT      </td><td>46       </td><td>21       </td><td>67       </td><td>0.6865672</td><td>0.5635918</td></tr>\n",
       "\t<tr><td>RTP      </td><td>46       </td><td>21       </td><td>67       </td><td>0.6865672</td><td>0.5838192</td></tr>\n",
       "\t<tr><td>SE       </td><td>46       </td><td>21       </td><td>67       </td><td>0.6865672</td><td>0.5855446</td></tr>\n",
       "</tbody>\n",
       "</table>\n"
      ],
      "text/latex": [
       "\\begin{tabular}{r|llllll}\n",
       " SystemName & TC & FC & N & Acc & LogLoss\\\\\n",
       "\\hline\n",
       "\t UPS       & 48        & 19        & 67        & 0.7164179 & 0.5685834\\\\\n",
       "\t DUN       & 47        & 20        & 67        & 0.7014925 & 0.5653627\\\\\n",
       "\t 7OT       & 46        & 21        & 67        & 0.6865672 & 0.5635918\\\\\n",
       "\t RTP       & 46        & 21        & 67        & 0.6865672 & 0.5838192\\\\\n",
       "\t SE        & 46        & 21        & 67        & 0.6865672 & 0.5855446\\\\\n",
       "\\end{tabular}\n"
      ],
      "text/markdown": [
       "\n",
       "| SystemName | TC | FC | N | Acc | LogLoss |\n",
       "|---|---|---|---|---|---|\n",
       "| UPS       | 48        | 19        | 67        | 0.7164179 | 0.5685834 |\n",
       "| DUN       | 47        | 20        | 67        | 0.7014925 | 0.5653627 |\n",
       "| 7OT       | 46        | 21        | 67        | 0.6865672 | 0.5635918 |\n",
       "| RTP       | 46        | 21        | 67        | 0.6865672 | 0.5838192 |\n",
       "| SE        | 46        | 21        | 67        | 0.6865672 | 0.5855446 |\n",
       "\n"
      ],
      "text/plain": [
       "  SystemName TC FC N  Acc       LogLoss  \n",
       "1 UPS        48 19 67 0.7164179 0.5685834\n",
       "2 DUN        47 20 67 0.7014925 0.5653627\n",
       "3 7OT        46 21 67 0.6865672 0.5635918\n",
       "4 RTP        46 21 67 0.6865672 0.5838192\n",
       "5 SE         46 21 67 0.6865672 0.5855446"
      ]
     },
     "metadata": {},
     "output_type": "display_data"
    }
   ],
   "source": [
    "# Accuracy & Logloss per SystemName\n",
    "df.results %>% \n",
    "    mutate(OK=ifelse(Pred==Target,1,0)) %>%\n",
    "    mutate(LogLoss=Target*log(Prob) + (1-Target)*log(1-Prob)) %>%\n",
    "    group_by(SystemName) %>%\n",
    "    summarise(TC=sum(OK),N=n(),FC=N-TC,Acc=TC/N,LogLoss=-mean(LogLoss)) %>%\n",
    "    select(SystemName,TC,FC,N,Acc,LogLoss) -> df.results.perf\n",
    "df.results.perf %>% arrange(desc(Acc)) %>% head(5)"
   ]
  },
  {
   "cell_type": "code",
   "execution_count": null,
   "metadata": {},
   "outputs": [],
   "source": []
  }
 ],
 "metadata": {
  "kernelspec": {
   "display_name": "R 3.5.0",
   "language": "R",
   "name": "ir35"
  },
  "language_info": {
   "codemirror_mode": "r",
   "file_extension": ".r",
   "mimetype": "text/x-r-source",
   "name": "R",
   "pygments_lexer": "r",
   "version": "3.5.1"
  }
 },
 "nbformat": 4,
 "nbformat_minor": 2
}
