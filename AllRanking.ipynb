{
 "cells": [
  {
   "cell_type": "code",
   "execution_count": 1,
   "metadata": {},
   "outputs": [],
   "source": [
    "library(dplyr,warn.conflicts=F)\n",
    "library(stringr,warn.conflicts=F)\n",
    "library(psych,warn.conflicts=F)"
   ]
  },
  {
   "cell_type": "code",
   "execution_count": 2,
   "metadata": {},
   "outputs": [],
   "source": [
    "# load the stats\n",
    "data.tourney <- readRDS('datafiles_rds/NCAATourneyDetailedResults.rds')\n",
    "# keep 2014\n",
    "data.tourney %>% filter(Season==2014) -> data.tou2014"
   ]
  },
  {
   "cell_type": "code",
   "execution_count": 3,
   "metadata": {},
   "outputs": [],
   "source": [
    "# store 68 tourney teams \n",
    "data.tou2014 %>% \n",
    "    select(TeamID=WTeamID) %>% \n",
    "    bind_rows(data.tou2014 %>% \n",
    "              select(TeamID=LTeamID)) %>% \n",
    "    distinct(TeamID) -> df.teams2014"
   ]
  },
  {
   "cell_type": "code",
   "execution_count": 4,
   "metadata": {},
   "outputs": [],
   "source": [
    "# load ranking db\n",
    "data.ranking <- readRDS('datafiles_rds/MasseyOrdinals.rds')\n",
    "# keep 2014, last day\n",
    "data.ranking %>% \n",
    "    filter(Season==2014) %>% \n",
    "    filter(RankingDayNum==max(RankingDayNum)) -> data.lastranking"
   ]
  },
  {
   "cell_type": "code",
   "execution_count": 5,
   "metadata": {},
   "outputs": [
    {
     "data": {
      "text/html": [
       "<table>\n",
       "<thead><tr><th scope=col>ID</th><th scope=col>Target</th></tr></thead>\n",
       "<tbody>\n",
       "\t<tr><td>2014_1107_1196</td><td>0             </td></tr>\n",
       "\t<tr><td>2014_1308_1361</td><td>0             </td></tr>\n",
       "\t<tr><td>2014_1124_1166</td><td>1             </td></tr>\n",
       "\t<tr><td>2014_1163_1196</td><td>1             </td></tr>\n",
       "\t<tr><td>2014_1124_1458</td><td>0             </td></tr>\n",
       "</tbody>\n",
       "</table>\n"
      ],
      "text/latex": [
       "\\begin{tabular}{r|ll}\n",
       " ID & Target\\\\\n",
       "\\hline\n",
       "\t 2014\\_1107\\_1196 & 0                 \\\\\n",
       "\t 2014\\_1308\\_1361 & 0                 \\\\\n",
       "\t 2014\\_1124\\_1166 & 1                 \\\\\n",
       "\t 2014\\_1163\\_1196 & 1                 \\\\\n",
       "\t 2014\\_1124\\_1458 & 0                 \\\\\n",
       "\\end{tabular}\n"
      ],
      "text/markdown": [
       "\n",
       "| ID | Target |\n",
       "|---|---|\n",
       "| 2014_1107_1196 | 0              |\n",
       "| 2014_1308_1361 | 0              |\n",
       "| 2014_1124_1166 | 1              |\n",
       "| 2014_1163_1196 | 1              |\n",
       "| 2014_1124_1458 | 0              |\n",
       "\n"
      ],
      "text/plain": [
       "  ID             Target\n",
       "1 2014_1107_1196 0     \n",
       "2 2014_1308_1361 0     \n",
       "3 2014_1124_1166 1     \n",
       "4 2014_1163_1196 1     \n",
       "5 2014_1124_1458 0     "
      ]
     },
     "metadata": {},
     "output_type": "display_data"
    }
   ],
   "source": [
    "# compute the Truth \n",
    "data.tou2014 %>% \n",
    "    select(Season,WTeamID,LTeamID) %>% \n",
    "    mutate(TeamID.1=ifelse(WTeamID<LTeamID,WTeamID,LTeamID),\n",
    "           TeamID.2=ifelse(WTeamID>LTeamID,WTeamID,LTeamID)) %>%\n",
    "    mutate(ID=str_c(Season,'_',TeamID.1,'_',TeamID.2)) %>% \n",
    "    mutate(Target=ifelse(WTeamID==TeamID.1,1,0)) %>% \n",
    "    select(ID,Target) -> df.truth\n",
    "df.truth %>% sample_n(5)"
   ]
  },
  {
   "cell_type": "code",
   "execution_count": 6,
   "metadata": {},
   "outputs": [],
   "source": [
    "data.lastranking %>% distinct(SystemName) -> df.systems"
   ]
  },
  {
   "cell_type": "code",
   "execution_count": 7,
   "metadata": {},
   "outputs": [
    {
     "data": {
      "text/html": [
       "0.0166666666666667"
      ],
      "text/latex": [
       "0.0166666666666667"
      ],
      "text/markdown": [
       "0.0166666666666667"
      ],
      "text/plain": [
       "[1] 0.01666667"
      ]
     },
     "metadata": {},
     "output_type": "display_data"
    }
   ],
   "source": [
    "# compute slope of sigmoid\n",
    "slope = 3 / 180    # ~.50 percentile\n",
    "slope"
   ]
  },
  {
   "cell_type": "code",
   "execution_count": 8,
   "metadata": {},
   "outputs": [
    {
     "data": {
      "text/html": [
       "<table>\n",
       "<thead><tr><th scope=col>Season</th><th scope=col>SystemName</th><th scope=col>TeamID.x</th><th scope=col>OrdinalRank.x</th><th scope=col>TeamID.y</th><th scope=col>OrdinalRank.y</th></tr></thead>\n",
       "<tbody>\n",
       "\t<tr><td>2014</td><td>BUR </td><td>1211</td><td>28  </td><td>1264</td><td> 73 </td></tr>\n",
       "\t<tr><td>2014</td><td>TMR </td><td>1277</td><td>14  </td><td>1386</td><td> 42 </td></tr>\n",
       "\t<tr><td>2014</td><td>CJB </td><td>1332</td><td>31  </td><td>1455</td><td> 11 </td></tr>\n",
       "\t<tr><td>2014</td><td>GRS </td><td>1387</td><td>34  </td><td>1411</td><td>274 </td></tr>\n",
       "\t<tr><td>2014</td><td>SE  </td><td>1124</td><td>26  </td><td>1418</td><td>107 </td></tr>\n",
       "</tbody>\n",
       "</table>\n"
      ],
      "text/latex": [
       "\\begin{tabular}{r|llllll}\n",
       " Season & SystemName & TeamID.x & OrdinalRank.x & TeamID.y & OrdinalRank.y\\\\\n",
       "\\hline\n",
       "\t 2014 & BUR  & 1211 & 28   & 1264 &  73 \\\\\n",
       "\t 2014 & TMR  & 1277 & 14   & 1386 &  42 \\\\\n",
       "\t 2014 & CJB  & 1332 & 31   & 1455 &  11 \\\\\n",
       "\t 2014 & GRS  & 1387 & 34   & 1411 & 274 \\\\\n",
       "\t 2014 & SE   & 1124 & 26   & 1418 & 107 \\\\\n",
       "\\end{tabular}\n"
      ],
      "text/markdown": [
       "\n",
       "| Season | SystemName | TeamID.x | OrdinalRank.x | TeamID.y | OrdinalRank.y |\n",
       "|---|---|---|---|---|---|\n",
       "| 2014 | BUR  | 1211 | 28   | 1264 |  73  |\n",
       "| 2014 | TMR  | 1277 | 14   | 1386 |  42  |\n",
       "| 2014 | CJB  | 1332 | 31   | 1455 |  11  |\n",
       "| 2014 | GRS  | 1387 | 34   | 1411 | 274  |\n",
       "| 2014 | SE   | 1124 | 26   | 1418 | 107  |\n",
       "\n"
      ],
      "text/plain": [
       "  Season SystemName TeamID.x OrdinalRank.x TeamID.y OrdinalRank.y\n",
       "1 2014   BUR        1211     28            1264      73          \n",
       "2 2014   TMR        1277     14            1386      42          \n",
       "3 2014   CJB        1332     31            1455      11          \n",
       "4 2014   GRS        1387     34            1411     274          \n",
       "5 2014   SE         1124     26            1418     107          "
      ]
     },
     "metadata": {},
     "output_type": "display_data"
    }
   ],
   "source": [
    "# matchups dataframe for each SystemName\n",
    "df.teams2014 %>%\n",
    "    inner_join(data.lastranking,by='TeamID') %>%\n",
    "    select(Season,SystemName,TeamID,OrdinalRank) -> tmp01\n",
    "tmp01 %>% \n",
    "    inner_join(tmp01,by=c('Season','SystemName')) %>% \n",
    "    filter(TeamID.x < TeamID.y) -> df.matchup\n",
    "df.matchup %>% sample_n(5)"
   ]
  },
  {
   "cell_type": "code",
   "execution_count": 9,
   "metadata": {},
   "outputs": [],
   "source": [
    "# remove ranking with too few teams\n",
    "df.matchup %>% \n",
    "    group_by(SystemName) %>% \n",
    "    mutate(N=n()) %>%\n",
    "    ungroup() %>%\n",
    "    filter(N==max(N)) %>%\n",
    "    select(-N) -> df.matchup"
   ]
  },
  {
   "cell_type": "code",
   "execution_count": 10,
   "metadata": {},
   "outputs": [
    {
     "data": {
      "text/html": [
       "<table>\n",
       "<thead><tr><th scope=col>ID</th><th scope=col>SystemName</th><th scope=col>Pred</th><th scope=col>Prob</th></tr></thead>\n",
       "<tbody>\n",
       "\t<tr><td>2014_1301_1462</td><td>DUN           </td><td>0             </td><td>0.3933306     </td></tr>\n",
       "\t<tr><td>2014_1211_1397</td><td>COL           </td><td>1             </td><td>0.6145945     </td></tr>\n",
       "\t<tr><td>2014_1372_1390</td><td>BBT           </td><td>1             </td><td>0.5166605     </td></tr>\n",
       "\t<tr><td>2014_1272_1386</td><td>STH           </td><td>0             </td><td>0.4625702     </td></tr>\n",
       "\t<tr><td>2014_1291_1308</td><td>TMR           </td><td>0             </td><td>0.1245534     </td></tr>\n",
       "</tbody>\n",
       "</table>\n"
      ],
      "text/latex": [
       "\\begin{tabular}{r|llll}\n",
       " ID & SystemName & Pred & Prob\\\\\n",
       "\\hline\n",
       "\t 2014\\_1301\\_1462 & DUN                & 0                  & 0.3933306         \\\\\n",
       "\t 2014\\_1211\\_1397 & COL                & 1                  & 0.6145945         \\\\\n",
       "\t 2014\\_1372\\_1390 & BBT                & 1                  & 0.5166605         \\\\\n",
       "\t 2014\\_1272\\_1386 & STH                & 0                  & 0.4625702         \\\\\n",
       "\t 2014\\_1291\\_1308 & TMR                & 0                  & 0.1245534         \\\\\n",
       "\\end{tabular}\n"
      ],
      "text/markdown": [
       "\n",
       "| ID | SystemName | Pred | Prob |\n",
       "|---|---|---|---|\n",
       "| 2014_1301_1462 | DUN            | 0              | 0.3933306      |\n",
       "| 2014_1211_1397 | COL            | 1              | 0.6145945      |\n",
       "| 2014_1372_1390 | BBT            | 1              | 0.5166605      |\n",
       "| 2014_1272_1386 | STH            | 0              | 0.4625702      |\n",
       "| 2014_1291_1308 | TMR            | 0              | 0.1245534      |\n",
       "\n"
      ],
      "text/plain": [
       "  ID             SystemName Pred Prob     \n",
       "1 2014_1301_1462 DUN        0    0.3933306\n",
       "2 2014_1211_1397 COL        1    0.6145945\n",
       "3 2014_1372_1390 BBT        1    0.5166605\n",
       "4 2014_1272_1386 STH        0    0.4625702\n",
       "5 2014_1291_1308 TMR        0    0.1245534"
      ]
     },
     "metadata": {},
     "output_type": "display_data"
    }
   ],
   "source": [
    "# machups predictions\n",
    "df.matchup %>% \n",
    "    mutate(ID=str_c(Season,'_',TeamID.x,'_',TeamID.y)) %>% \n",
    "    mutate(Prob=logistic(OrdinalRank.y-OrdinalRank.x,a=slope)) %>% \n",
    "    mutate(Pred=ifelse(Prob>0.5,1,0)) %>% \n",
    "    select(ID,SystemName,Pred,Prob) -> df.submit\n",
    "df.submit %>% sample_n(5)"
   ]
  },
  {
   "cell_type": "code",
   "execution_count": 11,
   "metadata": {},
   "outputs": [],
   "source": [
    "# merge prediction and truth\n",
    "df.truth %>% inner_join(df.submit,by='ID') -> df.results"
   ]
  },
  {
   "cell_type": "code",
   "execution_count": null,
   "metadata": {},
   "outputs": [],
   "source": [
    "# Accuracy & Logloss per SystemName\n",
    "df.results %>% \n",
    "    mutate(OK=ifelse(Pred==Target,1,0)) %>%\n",
    "    mutate(LogLoss=Target*log(Prob) + (1-Target)*log(1-Prob)) %>%\n",
    "    group_by(SystemName) %>%\n",
    "    summarise(TC=sum(OK),N=n(),FC=N-TC,Acc=TC/N,LogLoss=-mean(LogLoss)) %>%\n",
    "    select(SystemName,TC,FC,N,Acc,LogLoss) -> df.results.perf\n",
    "df.results.perf %>% arrange(desc(Acc)) %>% head(10)"
   ]
  },
  {
   "cell_type": "code",
   "execution_count": null,
   "metadata": {},
   "outputs": [],
   "source": []
  },
  {
   "cell_type": "code",
   "execution_count": null,
   "metadata": {},
   "outputs": [],
   "source": []
  },
  {
   "cell_type": "code",
   "execution_count": null,
   "metadata": {},
   "outputs": [],
   "source": []
  },
  {
   "cell_type": "code",
   "execution_count": null,
   "metadata": {},
   "outputs": [],
   "source": []
  },
  {
   "cell_type": "code",
   "execution_count": null,
   "metadata": {},
   "outputs": [],
   "source": []
  },
  {
   "cell_type": "code",
   "execution_count": 14,
   "metadata": {},
   "outputs": [
    {
     "data": {
      "text/html": [
       "<table>\n",
       "<thead><tr><th scope=col>SystemName</th><th scope=col>TC</th><th scope=col>FC</th><th scope=col>N</th><th scope=col>Acc</th><th scope=col>LogLoss</th></tr></thead>\n",
       "<tbody>\n",
       "\t<tr><td>RTB     </td><td>43      </td><td>24      </td><td>67      </td><td>0.641791</td><td>0.579824</td></tr>\n",
       "</tbody>\n",
       "</table>\n"
      ],
      "text/latex": [
       "\\begin{tabular}{r|llllll}\n",
       " SystemName & TC & FC & N & Acc & LogLoss\\\\\n",
       "\\hline\n",
       "\t RTB      & 43       & 24       & 67       & 0.641791 & 0.579824\\\\\n",
       "\\end{tabular}\n"
      ],
      "text/markdown": [
       "\n",
       "| SystemName | TC | FC | N | Acc | LogLoss |\n",
       "|---|---|---|---|---|---|\n",
       "| RTB      | 43       | 24       | 67       | 0.641791 | 0.579824 |\n",
       "\n"
      ],
      "text/plain": [
       "  SystemName TC FC N  Acc      LogLoss \n",
       "1 RTB        43 24 67 0.641791 0.579824"
      ]
     },
     "metadata": {},
     "output_type": "display_data"
    }
   ],
   "source": [
    "df.results.perf %>% filter(SystemName=='RTB')"
   ]
  },
  {
   "cell_type": "code",
   "execution_count": null,
   "metadata": {},
   "outputs": [],
   "source": []
  }
 ],
 "metadata": {
  "kernelspec": {
   "display_name": "R 3.5.0",
   "language": "R",
   "name": "ir35"
  },
  "language_info": {
   "codemirror_mode": "r",
   "file_extension": ".r",
   "mimetype": "text/x-r-source",
   "name": "R",
   "pygments_lexer": "r",
   "version": "3.5.1"
  }
 },
 "nbformat": 4,
 "nbformat_minor": 2
}
