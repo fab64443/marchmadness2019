{
 "cells": [
  {
   "cell_type": "code",
   "execution_count": 109,
   "metadata": {},
   "outputs": [],
   "source": [
    "# Load required packages\n",
    "library(dplyr,warn.conflicts=F)\n",
    "library(stringr,warn.conflicts=F)\n",
    "library(psych,warn.conflicts=F)\n",
    "library(lplyr,warn.conflicts=F)"
   ]
  },
  {
   "cell_type": "code",
   "execution_count": 110,
   "metadata": {},
   "outputs": [],
   "source": [
    "# load the stats\n",
    "data.tourney <- readRDS('datafiles_rds/NCAATourneyDetailedResults.rds')\n",
    "# keep 2014+\n",
    "data.tourney %>% filter(Season>2013) -> data.tourney"
   ]
  },
  {
   "cell_type": "code",
   "execution_count": 111,
   "metadata": {},
   "outputs": [],
   "source": [
    "# store 68 tourney teams \n",
    "data.tourney %>% \n",
    "    select(Season,TeamID=WTeamID) %>% \n",
    "    bind_rows(data.tourney %>% \n",
    "              select(Season,TeamID=LTeamID)) %>% \n",
    "    distinct(Season,TeamID) -> df.tourneyteams"
   ]
  },
  {
   "cell_type": "code",
   "execution_count": 112,
   "metadata": {},
   "outputs": [],
   "source": [
    "# load ranking db\n",
    "data.ranking <- readRDS('datafiles_rds/MasseyOrdinals.rds')\n",
    "# keep 2014+, last day\n",
    "data.ranking %>% \n",
    "    filter(Season>2013) %>%\n",
    "    group_by(Season) %>%\n",
    "    filter(RankingDayNum==max(RankingDayNum)) %>%\n",
    "    select(-RankingDayNum) %>%\n",
    "    ungroup() -> data.lastranking"
   ]
  },
  {
   "cell_type": "code",
   "execution_count": 113,
   "metadata": {},
   "outputs": [
    {
     "data": {
      "text/html": [
       "<table>\n",
       "<thead><tr><th scope=col>n</th></tr></thead>\n",
       "<tbody>\n",
       "\t<tr><td>166</td></tr>\n",
       "</tbody>\n",
       "</table>\n"
      ],
      "text/latex": [
       "\\begin{tabular}{r|l}\n",
       " n\\\\\n",
       "\\hline\n",
       "\t 166\\\\\n",
       "\\end{tabular}\n"
      ],
      "text/markdown": [
       "\n",
       "| n |\n",
       "|---|\n",
       "| 166 |\n",
       "\n"
      ],
      "text/plain": [
       "  n  \n",
       "1 166"
      ]
     },
     "metadata": {},
     "output_type": "display_data"
    }
   ],
   "source": [
    "data.ranking %>% select(SystemName) %>% distinct() %>% arrange(SystemName) %>% count"
   ]
  },
  {
   "cell_type": "code",
   "execution_count": 114,
   "metadata": {},
   "outputs": [
    {
     "data": {
      "text/html": [
       "<table>\n",
       "<thead><tr><th scope=col>Season</th><th scope=col>n</th></tr></thead>\n",
       "<tbody>\n",
       "\t<tr><td>2014</td><td>351 </td></tr>\n",
       "\t<tr><td>2015</td><td>351 </td></tr>\n",
       "\t<tr><td>2016</td><td>351 </td></tr>\n",
       "\t<tr><td>2017</td><td>351 </td></tr>\n",
       "\t<tr><td>2018</td><td>351 </td></tr>\n",
       "</tbody>\n",
       "</table>\n"
      ],
      "text/latex": [
       "\\begin{tabular}{r|ll}\n",
       " Season & n\\\\\n",
       "\\hline\n",
       "\t 2014 & 351 \\\\\n",
       "\t 2015 & 351 \\\\\n",
       "\t 2016 & 351 \\\\\n",
       "\t 2017 & 351 \\\\\n",
       "\t 2018 & 351 \\\\\n",
       "\\end{tabular}\n"
      ],
      "text/markdown": [
       "\n",
       "| Season | n |\n",
       "|---|---|\n",
       "| 2014 | 351  |\n",
       "| 2015 | 351  |\n",
       "| 2016 | 351  |\n",
       "| 2017 | 351  |\n",
       "| 2018 | 351  |\n",
       "\n"
      ],
      "text/plain": [
       "  Season n  \n",
       "1 2014   351\n",
       "2 2015   351\n",
       "3 2016   351\n",
       "4 2017   351\n",
       "5 2018   351"
      ]
     },
     "metadata": {},
     "output_type": "display_data"
    }
   ],
   "source": [
    "# Count Teams each year\n",
    "data.lastranking %>% \n",
    "    select(Season,TeamID) %>%\n",
    "    distinct() %>%\n",
    "    group_by(Season) %>%\n",
    "    summarise(n=n())"
   ]
  },
  {
   "cell_type": "code",
   "execution_count": 115,
   "metadata": {},
   "outputs": [],
   "source": [
    "# keep systems present last 5 years for all TeamID\n",
    "data.lastranking %>%\n",
    "    select(Season,SystemName,TeamID) %>%\n",
    "    group_by(SystemName) %>%\n",
    "    summarise(n=n()) %>%\n",
    "    filter(n==1755) %>%    # 351 x5\n",
    "    select(-n) -> df.systems"
   ]
  },
  {
   "cell_type": "code",
   "execution_count": 116,
   "metadata": {},
   "outputs": [],
   "source": [
    "# keep stats from these systems only\n",
    "data.lastranking %>% \n",
    "    inner_join(df.systems,by='SystemName') -> data.lastranking"
   ]
  },
  {
   "cell_type": "code",
   "execution_count": 117,
   "metadata": {},
   "outputs": [],
   "source": [
    "# add ranking mean as new system \n",
    "data.lastranking %>%\n",
    "    group_by(Season,TeamID) %>%\n",
    "    summarise(OrdinalRank=mean(OrdinalRank)) %>%\n",
    "    mutate(SystemName='AVG') -> df.sysavg\n",
    "data.lastranking %>%\n",
    "    bind_rows(df.sysavg) %>% \n",
    "    rename(Rank=OrdinalRank) -> data.lastranking"
   ]
  },
  {
   "cell_type": "code",
   "execution_count": 118,
   "metadata": {},
   "outputs": [
    {
     "data": {
      "text/html": [
       "<table>\n",
       "<thead><tr><th scope=col>Season</th><th scope=col>SystemName</th><th scope=col>TeamID</th><th scope=col>Rank</th></tr></thead>\n",
       "<tbody>\n",
       "\t<tr><td>2014</td><td>7OT </td><td>1101</td><td>343 </td></tr>\n",
       "\t<tr><td>2014</td><td>7OT </td><td>1102</td><td>290 </td></tr>\n",
       "\t<tr><td>2014</td><td>7OT </td><td>1103</td><td>103 </td></tr>\n",
       "\t<tr><td>2014</td><td>7OT </td><td>1104</td><td> 82 </td></tr>\n",
       "\t<tr><td>2014</td><td>7OT </td><td>1105</td><td>288 </td></tr>\n",
       "\t<tr><td>2014</td><td>7OT </td><td>1106</td><td>317 </td></tr>\n",
       "</tbody>\n",
       "</table>\n"
      ],
      "text/latex": [
       "\\begin{tabular}{r|llll}\n",
       " Season & SystemName & TeamID & Rank\\\\\n",
       "\\hline\n",
       "\t 2014 & 7OT  & 1101 & 343 \\\\\n",
       "\t 2014 & 7OT  & 1102 & 290 \\\\\n",
       "\t 2014 & 7OT  & 1103 & 103 \\\\\n",
       "\t 2014 & 7OT  & 1104 &  82 \\\\\n",
       "\t 2014 & 7OT  & 1105 & 288 \\\\\n",
       "\t 2014 & 7OT  & 1106 & 317 \\\\\n",
       "\\end{tabular}\n"
      ],
      "text/markdown": [
       "\n",
       "| Season | SystemName | TeamID | Rank |\n",
       "|---|---|---|---|\n",
       "| 2014 | 7OT  | 1101 | 343  |\n",
       "| 2014 | 7OT  | 1102 | 290  |\n",
       "| 2014 | 7OT  | 1103 | 103  |\n",
       "| 2014 | 7OT  | 1104 |  82  |\n",
       "| 2014 | 7OT  | 1105 | 288  |\n",
       "| 2014 | 7OT  | 1106 | 317  |\n",
       "\n"
      ],
      "text/plain": [
       "  Season SystemName TeamID Rank\n",
       "1 2014   7OT        1101   343 \n",
       "2 2014   7OT        1102   290 \n",
       "3 2014   7OT        1103   103 \n",
       "4 2014   7OT        1104    82 \n",
       "5 2014   7OT        1105   288 \n",
       "6 2014   7OT        1106   317 "
      ]
     },
     "metadata": {},
     "output_type": "display_data"
    }
   ],
   "source": [
    "data.lastranking %>% head"
   ]
  },
  {
   "cell_type": "code",
   "execution_count": 129,
   "metadata": {},
   "outputs": [],
   "source": [
    "data.lastranking %>%\n",
    "    inner_join(df.tourneyteams,by=c('Season','TeamID')) -> df.ratingsystem"
   ]
  },
  {
   "cell_type": "code",
   "execution_count": 213,
   "metadata": {},
   "outputs": [
    {
     "data": {
      "text/html": [
       "<table>\n",
       "<thead><tr><th scope=col>Season</th><th scope=col>SystemName</th><th scope=col>TeamID.x</th><th scope=col>Rank.x</th><th scope=col>TeamID.y</th><th scope=col>Rank.y</th></tr></thead>\n",
       "<tbody>\n",
       "\t<tr><td>2017</td><td>CNG </td><td>1423</td><td>69  </td><td>1448</td><td> 33 </td></tr>\n",
       "\t<tr><td>2014</td><td>BUR </td><td>1203</td><td>45  </td><td>1444</td><td>106 </td></tr>\n",
       "\t<tr><td>2015</td><td>KPK </td><td>1172</td><td>28  </td><td>1344</td><td> 26 </td></tr>\n",
       "\t<tr><td>2015</td><td>WOL </td><td>1301</td><td>40  </td><td>1452</td><td> 21 </td></tr>\n",
       "\t<tr><td>2015</td><td>SAG </td><td>1173</td><td>48  </td><td>1235</td><td> 11 </td></tr>\n",
       "</tbody>\n",
       "</table>\n"
      ],
      "text/latex": [
       "\\begin{tabular}{r|llllll}\n",
       " Season & SystemName & TeamID.x & Rank.x & TeamID.y & Rank.y\\\\\n",
       "\\hline\n",
       "\t 2017 & CNG  & 1423 & 69   & 1448 &  33 \\\\\n",
       "\t 2014 & BUR  & 1203 & 45   & 1444 & 106 \\\\\n",
       "\t 2015 & KPK  & 1172 & 28   & 1344 &  26 \\\\\n",
       "\t 2015 & WOL  & 1301 & 40   & 1452 &  21 \\\\\n",
       "\t 2015 & SAG  & 1173 & 48   & 1235 &  11 \\\\\n",
       "\\end{tabular}\n"
      ],
      "text/markdown": [
       "\n",
       "| Season | SystemName | TeamID.x | Rank.x | TeamID.y | Rank.y |\n",
       "|---|---|---|---|---|---|\n",
       "| 2017 | CNG  | 1423 | 69   | 1448 |  33  |\n",
       "| 2014 | BUR  | 1203 | 45   | 1444 | 106  |\n",
       "| 2015 | KPK  | 1172 | 28   | 1344 |  26  |\n",
       "| 2015 | WOL  | 1301 | 40   | 1452 |  21  |\n",
       "| 2015 | SAG  | 1173 | 48   | 1235 |  11  |\n",
       "\n"
      ],
      "text/plain": [
       "  Season SystemName TeamID.x Rank.x TeamID.y Rank.y\n",
       "1 2017   CNG        1423     69     1448      33   \n",
       "2 2014   BUR        1203     45     1444     106   \n",
       "3 2015   KPK        1172     28     1344      26   \n",
       "4 2015   WOL        1301     40     1452      21   \n",
       "5 2015   SAG        1173     48     1235      11   "
      ]
     },
     "metadata": {},
     "output_type": "display_data"
    }
   ],
   "source": [
    "# matchups dataframe : all the possible matches between the 68 teams per Season \n",
    "df.ratingsystem %>% \n",
    "    inner_join(df.ratingsystem,by=c('Season','SystemName')) %>% \n",
    "    filter(TeamID.x < TeamID.y) -> df.matchups\n",
    "df.matchups %>% sample_n(5)"
   ]
  },
  {
   "cell_type": "code",
   "execution_count": 214,
   "metadata": {},
   "outputs": [
    {
     "data": {
      "text/html": [
       "<table>\n",
       "<thead><tr><th scope=col>mean</th></tr></thead>\n",
       "<tbody>\n",
       "\t<tr><td>11390</td></tr>\n",
       "</tbody>\n",
       "</table>\n"
      ],
      "text/latex": [
       "\\begin{tabular}{r|l}\n",
       " mean\\\\\n",
       "\\hline\n",
       "\t 11390\\\\\n",
       "\\end{tabular}\n"
      ],
      "text/markdown": [
       "\n",
       "| mean |\n",
       "|---|\n",
       "| 11390 |\n",
       "\n"
      ],
      "text/plain": [
       "  mean \n",
       "1 11390"
      ]
     },
     "metadata": {},
     "output_type": "display_data"
    }
   ],
   "source": [
    "# 11390 matchups for each system\n",
    "df.matchups %>% group_by(SystemName) %>% summarise(n=n()) %>% summarise(mean=mean(n))"
   ]
  },
  {
   "cell_type": "code",
   "execution_count": 215,
   "metadata": {},
   "outputs": [],
   "source": [
    "df.slopes <- data.frame(Season=rep(2014:2018,1,each=17),qtl=rep(seq(0.1,0.9,0.05),5))\n",
    "df.slopes %>% \n",
    "    mutate(frac=360*(1-qtl),Slope=3/frac) %>% \n",
    "    select(-frac) -> df.slopes"
   ]
  },
  {
   "cell_type": "code",
   "execution_count": 216,
   "metadata": {},
   "outputs": [
    {
     "data": {
      "text/html": [
       "<table>\n",
       "<thead><tr><th scope=col>Season</th><th scope=col>qtl</th><th scope=col>Slope</th></tr></thead>\n",
       "<tbody>\n",
       "\t<tr><td>2014       </td><td>0.10       </td><td>0.009259259</td></tr>\n",
       "\t<tr><td>2014       </td><td>0.15       </td><td>0.009803922</td></tr>\n",
       "\t<tr><td>2014       </td><td>0.20       </td><td>0.010416667</td></tr>\n",
       "\t<tr><td>2014       </td><td>0.25       </td><td>0.011111111</td></tr>\n",
       "\t<tr><td>2014       </td><td>0.30       </td><td>0.011904762</td></tr>\n",
       "\t<tr><td>2014       </td><td>0.35       </td><td>0.012820513</td></tr>\n",
       "</tbody>\n",
       "</table>\n"
      ],
      "text/latex": [
       "\\begin{tabular}{r|lll}\n",
       " Season & qtl & Slope\\\\\n",
       "\\hline\n",
       "\t 2014        & 0.10        & 0.009259259\\\\\n",
       "\t 2014        & 0.15        & 0.009803922\\\\\n",
       "\t 2014        & 0.20        & 0.010416667\\\\\n",
       "\t 2014        & 0.25        & 0.011111111\\\\\n",
       "\t 2014        & 0.30        & 0.011904762\\\\\n",
       "\t 2014        & 0.35        & 0.012820513\\\\\n",
       "\\end{tabular}\n"
      ],
      "text/markdown": [
       "\n",
       "| Season | qtl | Slope |\n",
       "|---|---|---|\n",
       "| 2014        | 0.10        | 0.009259259 |\n",
       "| 2014        | 0.15        | 0.009803922 |\n",
       "| 2014        | 0.20        | 0.010416667 |\n",
       "| 2014        | 0.25        | 0.011111111 |\n",
       "| 2014        | 0.30        | 0.011904762 |\n",
       "| 2014        | 0.35        | 0.012820513 |\n",
       "\n"
      ],
      "text/plain": [
       "  Season qtl  Slope      \n",
       "1 2014   0.10 0.009259259\n",
       "2 2014   0.15 0.009803922\n",
       "3 2014   0.20 0.010416667\n",
       "4 2014   0.25 0.011111111\n",
       "5 2014   0.30 0.011904762\n",
       "6 2014   0.35 0.012820513"
      ]
     },
     "metadata": {},
     "output_type": "display_data"
    }
   ],
   "source": [
    "df.slopes %>% head"
   ]
  },
  {
   "cell_type": "code",
   "execution_count": 217,
   "metadata": {},
   "outputs": [],
   "source": [
    "df.matchups %>% \n",
    "    inner_join(df.slopes,by='Season') -> df.matchups"
   ]
  },
  {
   "cell_type": "code",
   "execution_count": 218,
   "metadata": {},
   "outputs": [
    {
     "data": {
      "text/html": [
       "<table>\n",
       "<thead><tr><th scope=col>Season</th><th scope=col>SystemName</th><th scope=col>TeamID.x</th><th scope=col>Rank.x</th><th scope=col>TeamID.y</th><th scope=col>Rank.y</th><th scope=col>qtl</th><th scope=col>Slope</th></tr></thead>\n",
       "<tbody>\n",
       "\t<tr><td>2014       </td><td>7OT        </td><td>1107       </td><td>177        </td><td>1110       </td><td>118        </td><td>0.10       </td><td>0.009259259</td></tr>\n",
       "\t<tr><td>2014       </td><td>7OT        </td><td>1107       </td><td>177        </td><td>1110       </td><td>118        </td><td>0.15       </td><td>0.009803922</td></tr>\n",
       "\t<tr><td>2014       </td><td>7OT        </td><td>1107       </td><td>177        </td><td>1110       </td><td>118        </td><td>0.20       </td><td>0.010416667</td></tr>\n",
       "\t<tr><td>2014       </td><td>7OT        </td><td>1107       </td><td>177        </td><td>1110       </td><td>118        </td><td>0.25       </td><td>0.011111111</td></tr>\n",
       "\t<tr><td>2014       </td><td>7OT        </td><td>1107       </td><td>177        </td><td>1110       </td><td>118        </td><td>0.30       </td><td>0.011904762</td></tr>\n",
       "\t<tr><td>2014       </td><td>7OT        </td><td>1107       </td><td>177        </td><td>1110       </td><td>118        </td><td>0.35       </td><td>0.012820513</td></tr>\n",
       "</tbody>\n",
       "</table>\n"
      ],
      "text/latex": [
       "\\begin{tabular}{r|llllllll}\n",
       " Season & SystemName & TeamID.x & Rank.x & TeamID.y & Rank.y & qtl & Slope\\\\\n",
       "\\hline\n",
       "\t 2014        & 7OT         & 1107        & 177         & 1110        & 118         & 0.10        & 0.009259259\\\\\n",
       "\t 2014        & 7OT         & 1107        & 177         & 1110        & 118         & 0.15        & 0.009803922\\\\\n",
       "\t 2014        & 7OT         & 1107        & 177         & 1110        & 118         & 0.20        & 0.010416667\\\\\n",
       "\t 2014        & 7OT         & 1107        & 177         & 1110        & 118         & 0.25        & 0.011111111\\\\\n",
       "\t 2014        & 7OT         & 1107        & 177         & 1110        & 118         & 0.30        & 0.011904762\\\\\n",
       "\t 2014        & 7OT         & 1107        & 177         & 1110        & 118         & 0.35        & 0.012820513\\\\\n",
       "\\end{tabular}\n"
      ],
      "text/markdown": [
       "\n",
       "| Season | SystemName | TeamID.x | Rank.x | TeamID.y | Rank.y | qtl | Slope |\n",
       "|---|---|---|---|---|---|---|---|\n",
       "| 2014        | 7OT         | 1107        | 177         | 1110        | 118         | 0.10        | 0.009259259 |\n",
       "| 2014        | 7OT         | 1107        | 177         | 1110        | 118         | 0.15        | 0.009803922 |\n",
       "| 2014        | 7OT         | 1107        | 177         | 1110        | 118         | 0.20        | 0.010416667 |\n",
       "| 2014        | 7OT         | 1107        | 177         | 1110        | 118         | 0.25        | 0.011111111 |\n",
       "| 2014        | 7OT         | 1107        | 177         | 1110        | 118         | 0.30        | 0.011904762 |\n",
       "| 2014        | 7OT         | 1107        | 177         | 1110        | 118         | 0.35        | 0.012820513 |\n",
       "\n"
      ],
      "text/plain": [
       "  Season SystemName TeamID.x Rank.x TeamID.y Rank.y qtl  Slope      \n",
       "1 2014   7OT        1107     177    1110     118    0.10 0.009259259\n",
       "2 2014   7OT        1107     177    1110     118    0.15 0.009803922\n",
       "3 2014   7OT        1107     177    1110     118    0.20 0.010416667\n",
       "4 2014   7OT        1107     177    1110     118    0.25 0.011111111\n",
       "5 2014   7OT        1107     177    1110     118    0.30 0.011904762\n",
       "6 2014   7OT        1107     177    1110     118    0.35 0.012820513"
      ]
     },
     "metadata": {},
     "output_type": "display_data"
    }
   ],
   "source": [
    "df.matchups %>% head"
   ]
  },
  {
   "cell_type": "code",
   "execution_count": 219,
   "metadata": {},
   "outputs": [
    {
     "data": {
      "text/html": [
       "<table>\n",
       "<thead><tr><th scope=col>qtl</th><th scope=col>ID</th><th scope=col>SystemName</th><th scope=col>Pred</th><th scope=col>Prob</th></tr></thead>\n",
       "<tbody>\n",
       "\t<tr><td>0.40          </td><td>2014_1243_1301</td><td>STH           </td><td>1             </td><td>0.51041516    </td></tr>\n",
       "\t<tr><td>0.60          </td><td>2016_1320_1438</td><td>BUR           </td><td>0             </td><td>0.19518468    </td></tr>\n",
       "\t<tr><td>0.45          </td><td>2015_1173_1207</td><td>BBT           </td><td>0             </td><td>0.46219351    </td></tr>\n",
       "\t<tr><td>0.70          </td><td>2014_1203_1433</td><td>LMC           </td><td>0             </td><td>0.32082130    </td></tr>\n",
       "\t<tr><td>0.50          </td><td>2016_1214_1234</td><td>SPR           </td><td>0             </td><td>0.01657194    </td></tr>\n",
       "</tbody>\n",
       "</table>\n"
      ],
      "text/latex": [
       "\\begin{tabular}{r|lllll}\n",
       " qtl & ID & SystemName & Pred & Prob\\\\\n",
       "\\hline\n",
       "\t 0.40               & 2014\\_1243\\_1301 & STH                & 1                  & 0.51041516        \\\\\n",
       "\t 0.60               & 2016\\_1320\\_1438 & BUR                & 0                  & 0.19518468        \\\\\n",
       "\t 0.45               & 2015\\_1173\\_1207 & BBT                & 0                  & 0.46219351        \\\\\n",
       "\t 0.70               & 2014\\_1203\\_1433 & LMC                & 0                  & 0.32082130        \\\\\n",
       "\t 0.50               & 2016\\_1214\\_1234 & SPR                & 0                  & 0.01657194        \\\\\n",
       "\\end{tabular}\n"
      ],
      "text/markdown": [
       "\n",
       "| qtl | ID | SystemName | Pred | Prob |\n",
       "|---|---|---|---|---|\n",
       "| 0.40           | 2014_1243_1301 | STH            | 1              | 0.51041516     |\n",
       "| 0.60           | 2016_1320_1438 | BUR            | 0              | 0.19518468     |\n",
       "| 0.45           | 2015_1173_1207 | BBT            | 0              | 0.46219351     |\n",
       "| 0.70           | 2014_1203_1433 | LMC            | 0              | 0.32082130     |\n",
       "| 0.50           | 2016_1214_1234 | SPR            | 0              | 0.01657194     |\n",
       "\n"
      ],
      "text/plain": [
       "  qtl  ID             SystemName Pred Prob      \n",
       "1 0.40 2014_1243_1301 STH        1    0.51041516\n",
       "2 0.60 2016_1320_1438 BUR        0    0.19518468\n",
       "3 0.45 2015_1173_1207 BBT        0    0.46219351\n",
       "4 0.70 2014_1203_1433 LMC        0    0.32082130\n",
       "5 0.50 2016_1214_1234 SPR        0    0.01657194"
      ]
     },
     "metadata": {},
     "output_type": "display_data"
    }
   ],
   "source": [
    "# machups predictions\n",
    "df.matchups %>% \n",
    "    mutate(ID=str_c(Season,'_',TeamID.x,'_',TeamID.y)) %>% \n",
    "    mutate(Prob=logistic(Rank.y-Rank.x,a=Slope)) %>% \n",
    "    mutate(Pred=ifelse(Prob>0.5,1,0)) %>% \n",
    "    select(qtl,ID,SystemName,Pred,Prob) -> df.submit\n",
    "df.submit %>% sample_n(5)"
   ]
  },
  {
   "cell_type": "code",
   "execution_count": 220,
   "metadata": {},
   "outputs": [],
   "source": [
    "# load true results\n",
    "data.truth <- readRDS('datafiles_rds/TourneyTrueResults.rds')"
   ]
  },
  {
   "cell_type": "code",
   "execution_count": 221,
   "metadata": {},
   "outputs": [],
   "source": [
    "# reduce to played tourney matchups\n",
    "df.submit %>% \n",
    "    inner_join(data.truth,by='ID') -> df.results"
   ]
  },
  {
   "cell_type": "code",
   "execution_count": 222,
   "metadata": {},
   "outputs": [
    {
     "data": {
      "text/html": [
       "<table>\n",
       "<thead><tr><th scope=col>qtl</th><th scope=col>ID</th><th scope=col>SystemName</th><th scope=col>Pred</th><th scope=col>Prob</th><th scope=col>Target</th></tr></thead>\n",
       "<tbody>\n",
       "\t<tr><td>0.10          </td><td>2014_1107_1196</td><td>7OT           </td><td>0             </td><td>0.16643441    </td><td>0             </td></tr>\n",
       "\t<tr><td>0.15          </td><td>2014_1107_1196</td><td>7OT           </td><td>0             </td><td>0.15369856    </td><td>0             </td></tr>\n",
       "\t<tr><td>0.20          </td><td>2014_1107_1196</td><td>7OT           </td><td>0             </td><td>0.14033625    </td><td>0             </td></tr>\n",
       "\t<tr><td>0.25          </td><td>2014_1107_1196</td><td>7OT           </td><td>0             </td><td>0.12638209    </td><td>0             </td></tr>\n",
       "\t<tr><td>0.30          </td><td>2014_1107_1196</td><td>7OT           </td><td>0             </td><td>0.11190499    </td><td>0             </td></tr>\n",
       "\t<tr><td>0.35          </td><td>2014_1107_1196</td><td>7OT           </td><td>0             </td><td>0.09702123    </td><td>0             </td></tr>\n",
       "</tbody>\n",
       "</table>\n"
      ],
      "text/latex": [
       "\\begin{tabular}{r|llllll}\n",
       " qtl & ID & SystemName & Pred & Prob & Target\\\\\n",
       "\\hline\n",
       "\t 0.10               & 2014\\_1107\\_1196 & 7OT                & 0                  & 0.16643441         & 0                 \\\\\n",
       "\t 0.15               & 2014\\_1107\\_1196 & 7OT                & 0                  & 0.15369856         & 0                 \\\\\n",
       "\t 0.20               & 2014\\_1107\\_1196 & 7OT                & 0                  & 0.14033625         & 0                 \\\\\n",
       "\t 0.25               & 2014\\_1107\\_1196 & 7OT                & 0                  & 0.12638209         & 0                 \\\\\n",
       "\t 0.30               & 2014\\_1107\\_1196 & 7OT                & 0                  & 0.11190499         & 0                 \\\\\n",
       "\t 0.35               & 2014\\_1107\\_1196 & 7OT                & 0                  & 0.09702123         & 0                 \\\\\n",
       "\\end{tabular}\n"
      ],
      "text/markdown": [
       "\n",
       "| qtl | ID | SystemName | Pred | Prob | Target |\n",
       "|---|---|---|---|---|---|\n",
       "| 0.10           | 2014_1107_1196 | 7OT            | 0              | 0.16643441     | 0              |\n",
       "| 0.15           | 2014_1107_1196 | 7OT            | 0              | 0.15369856     | 0              |\n",
       "| 0.20           | 2014_1107_1196 | 7OT            | 0              | 0.14033625     | 0              |\n",
       "| 0.25           | 2014_1107_1196 | 7OT            | 0              | 0.12638209     | 0              |\n",
       "| 0.30           | 2014_1107_1196 | 7OT            | 0              | 0.11190499     | 0              |\n",
       "| 0.35           | 2014_1107_1196 | 7OT            | 0              | 0.09702123     | 0              |\n",
       "\n"
      ],
      "text/plain": [
       "  qtl  ID             SystemName Pred Prob       Target\n",
       "1 0.10 2014_1107_1196 7OT        0    0.16643441 0     \n",
       "2 0.15 2014_1107_1196 7OT        0    0.15369856 0     \n",
       "3 0.20 2014_1107_1196 7OT        0    0.14033625 0     \n",
       "4 0.25 2014_1107_1196 7OT        0    0.12638209 0     \n",
       "5 0.30 2014_1107_1196 7OT        0    0.11190499 0     \n",
       "6 0.35 2014_1107_1196 7OT        0    0.09702123 0     "
      ]
     },
     "metadata": {},
     "output_type": "display_data"
    }
   ],
   "source": [
    "df.results %>% head"
   ]
  },
  {
   "cell_type": "code",
   "execution_count": 223,
   "metadata": {},
   "outputs": [
    {
     "data": {
      "text/html": [
       "<table>\n",
       "<thead><tr><th scope=col>qtl</th><th scope=col>SystemName</th><th scope=col>TC</th><th scope=col>FC</th><th scope=col>N</th><th scope=col>Acc</th><th scope=col>LogLoss</th></tr></thead>\n",
       "<tbody>\n",
       "\t<tr><td>0.10     </td><td>7OT      </td><td>242      </td><td>93       </td><td>335      </td><td>0.7223881</td><td>0.5935596</td></tr>\n",
       "\t<tr><td>0.15     </td><td>7OT      </td><td>242      </td><td>93       </td><td>335      </td><td>0.7223881</td><td>0.5901226</td></tr>\n",
       "\t<tr><td>0.20     </td><td>7OT      </td><td>242      </td><td>93       </td><td>335      </td><td>0.7223881</td><td>0.5865048</td></tr>\n",
       "\t<tr><td>0.25     </td><td>7OT      </td><td>242      </td><td>93       </td><td>335      </td><td>0.7223881</td><td>0.5827074</td></tr>\n",
       "\t<tr><td>0.30     </td><td>7OT      </td><td>242      </td><td>93       </td><td>335      </td><td>0.7223881</td><td>0.5787400</td></tr>\n",
       "</tbody>\n",
       "</table>\n"
      ],
      "text/latex": [
       "\\begin{tabular}{r|lllllll}\n",
       " qtl & SystemName & TC & FC & N & Acc & LogLoss\\\\\n",
       "\\hline\n",
       "\t 0.10      & 7OT       & 242       & 93        & 335       & 0.7223881 & 0.5935596\\\\\n",
       "\t 0.15      & 7OT       & 242       & 93        & 335       & 0.7223881 & 0.5901226\\\\\n",
       "\t 0.20      & 7OT       & 242       & 93        & 335       & 0.7223881 & 0.5865048\\\\\n",
       "\t 0.25      & 7OT       & 242       & 93        & 335       & 0.7223881 & 0.5827074\\\\\n",
       "\t 0.30      & 7OT       & 242       & 93        & 335       & 0.7223881 & 0.5787400\\\\\n",
       "\\end{tabular}\n"
      ],
      "text/markdown": [
       "\n",
       "| qtl | SystemName | TC | FC | N | Acc | LogLoss |\n",
       "|---|---|---|---|---|---|---|\n",
       "| 0.10      | 7OT       | 242       | 93        | 335       | 0.7223881 | 0.5935596 |\n",
       "| 0.15      | 7OT       | 242       | 93        | 335       | 0.7223881 | 0.5901226 |\n",
       "| 0.20      | 7OT       | 242       | 93        | 335       | 0.7223881 | 0.5865048 |\n",
       "| 0.25      | 7OT       | 242       | 93        | 335       | 0.7223881 | 0.5827074 |\n",
       "| 0.30      | 7OT       | 242       | 93        | 335       | 0.7223881 | 0.5787400 |\n",
       "\n"
      ],
      "text/plain": [
       "  qtl  SystemName TC  FC N   Acc       LogLoss  \n",
       "1 0.10 7OT        242 93 335 0.7223881 0.5935596\n",
       "2 0.15 7OT        242 93 335 0.7223881 0.5901226\n",
       "3 0.20 7OT        242 93 335 0.7223881 0.5865048\n",
       "4 0.25 7OT        242 93 335 0.7223881 0.5827074\n",
       "5 0.30 7OT        242 93 335 0.7223881 0.5787400"
      ]
     },
     "metadata": {},
     "output_type": "display_data"
    }
   ],
   "source": [
    "# Accuracy & Logloss per SystemName\n",
    "df.results %>% \n",
    "    mutate(OK=ifelse(Pred==Target,1,0)) %>%\n",
    "    mutate(LogLoss=Target*log(Prob) + (1-Target)*log(1-Prob)) %>%\n",
    "    group_by(qtl,SystemName) %>%\n",
    "    summarise(TC=sum(OK),N=n(),FC=N-TC,Acc=TC/N,LogLoss=-mean(LogLoss)) %>%\n",
    "    select(qtl,SystemName,TC,FC,N,Acc,LogLoss) %>%\n",
    "    ungroup() -> df.results.perf\n",
    "df.results.perf %>% arrange(desc(Acc)) %>% head(5)"
   ]
  },
  {
   "cell_type": "code",
   "execution_count": 224,
   "metadata": {},
   "outputs": [
    {
     "data": {
      "text/html": [
       "<table>\n",
       "<thead><tr><th scope=col>qtl</th><th scope=col>SystemName</th><th scope=col>TC</th><th scope=col>FC</th><th scope=col>N</th><th scope=col>Acc</th><th scope=col>LogLoss</th></tr></thead>\n",
       "<tbody>\n",
       "\t<tr><td>0.60     </td><td>MOR      </td><td>233      </td><td>102      </td><td>335      </td><td>0.6955224</td><td>0.5504743</td></tr>\n",
       "\t<tr><td>0.65     </td><td>MOR      </td><td>233      </td><td>102      </td><td>335      </td><td>0.6955224</td><td>0.5511963</td></tr>\n",
       "\t<tr><td>0.55     </td><td>MOR      </td><td>233      </td><td>102      </td><td>335      </td><td>0.6955224</td><td>0.5519371</td></tr>\n",
       "\t<tr><td>0.65     </td><td>7OT      </td><td>242      </td><td> 93      </td><td>335      </td><td>0.7223881</td><td>0.5536787</td></tr>\n",
       "\t<tr><td>0.50     </td><td>MOR      </td><td>233      </td><td>102      </td><td>335      </td><td>0.6955224</td><td>0.5546405</td></tr>\n",
       "</tbody>\n",
       "</table>\n"
      ],
      "text/latex": [
       "\\begin{tabular}{r|lllllll}\n",
       " qtl & SystemName & TC & FC & N & Acc & LogLoss\\\\\n",
       "\\hline\n",
       "\t 0.60      & MOR       & 233       & 102       & 335       & 0.6955224 & 0.5504743\\\\\n",
       "\t 0.65      & MOR       & 233       & 102       & 335       & 0.6955224 & 0.5511963\\\\\n",
       "\t 0.55      & MOR       & 233       & 102       & 335       & 0.6955224 & 0.5519371\\\\\n",
       "\t 0.65      & 7OT       & 242       &  93       & 335       & 0.7223881 & 0.5536787\\\\\n",
       "\t 0.50      & MOR       & 233       & 102       & 335       & 0.6955224 & 0.5546405\\\\\n",
       "\\end{tabular}\n"
      ],
      "text/markdown": [
       "\n",
       "| qtl | SystemName | TC | FC | N | Acc | LogLoss |\n",
       "|---|---|---|---|---|---|---|\n",
       "| 0.60      | MOR       | 233       | 102       | 335       | 0.6955224 | 0.5504743 |\n",
       "| 0.65      | MOR       | 233       | 102       | 335       | 0.6955224 | 0.5511963 |\n",
       "| 0.55      | MOR       | 233       | 102       | 335       | 0.6955224 | 0.5519371 |\n",
       "| 0.65      | 7OT       | 242       |  93       | 335       | 0.7223881 | 0.5536787 |\n",
       "| 0.50      | MOR       | 233       | 102       | 335       | 0.6955224 | 0.5546405 |\n",
       "\n"
      ],
      "text/plain": [
       "  qtl  SystemName TC  FC  N   Acc       LogLoss  \n",
       "1 0.60 MOR        233 102 335 0.6955224 0.5504743\n",
       "2 0.65 MOR        233 102 335 0.6955224 0.5511963\n",
       "3 0.55 MOR        233 102 335 0.6955224 0.5519371\n",
       "4 0.65 7OT        242  93 335 0.7223881 0.5536787\n",
       "5 0.50 MOR        233 102 335 0.6955224 0.5546405"
      ]
     },
     "metadata": {},
     "output_type": "display_data"
    }
   ],
   "source": [
    "df.results.perf %>% arrange(LogLoss) %>% head(5)"
   ]
  },
  {
   "cell_type": "code",
   "execution_count": null,
   "metadata": {},
   "outputs": [],
   "source": []
  }
 ],
 "metadata": {
  "kernelspec": {
   "display_name": "R 3.5.0",
   "language": "R",
   "name": "ir35"
  },
  "language_info": {
   "codemirror_mode": "r",
   "file_extension": ".r",
   "mimetype": "text/x-r-source",
   "name": "R",
   "pygments_lexer": "r",
   "version": "3.5.1"
  }
 },
 "nbformat": 4,
 "nbformat_minor": 2
}
