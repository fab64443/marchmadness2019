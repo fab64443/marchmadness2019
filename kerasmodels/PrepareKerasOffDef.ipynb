{
 "cells": [
  {
   "cell_type": "code",
   "execution_count": 1,
   "metadata": {},
   "outputs": [],
   "source": [
    "# Load required packages\n",
    "library(dplyr,warn.conflicts=F)\n",
    "library(stringr,warn.conflicts=F)\n",
    "library(psych,warn.conflicts=F)\n",
    "library(lplyr,warn.conflicts=F)\n",
    "library(tidyr,warn.conflicts=F)"
   ]
  },
  {
   "cell_type": "code",
   "execution_count": 2,
   "metadata": {},
   "outputs": [],
   "source": [
    "library(tictoc,warn.conflicts=F)"
   ]
  },
  {
   "cell_type": "markdown",
   "metadata": {},
   "source": [
    "#### From Matchups stats to Teams stats"
   ]
  },
  {
   "cell_type": "code",
   "execution_count": 3,
   "metadata": {},
   "outputs": [],
   "source": [
    "# load the stats and keep 2014+\n",
    "data.regulars <- readRDS('datafiles_rds/RegularSeasonDetailedResults.rds')\n",
    "data.regulars %>% filter(Season>2013) -> data.regulars"
   ]
  },
  {
   "cell_type": "code",
   "execution_count": 4,
   "metadata": {},
   "outputs": [
    {
     "name": "stdout",
     "output_type": "stream",
     "text": [
      "26885 34 \n",
      "Season DayNum WTeamID WScore LTeamID LScore WLoc NumOT WFGM WFGA WFGM3 WFGA3 WFTM WFTA WOR WDR WAst WTO WStl WBlk WPF LFGM LFGA LFGM3 LFGA3 LFTM LFTA LOR LDR LAst LTO LStl LBlk LPF \n"
     ]
    }
   ],
   "source": [
    "data.regulars %>% dim %>% cat('\\n')\n",
    "data.regulars %>% colnames %>% cat('\\n')"
   ]
  },
  {
   "cell_type": "code",
   "execution_count": 5,
   "metadata": {},
   "outputs": [
    {
     "data": {
      "text/html": [
       "<table>\n",
       "<thead><tr><th scope=col>Season</th><th scope=col>n</th></tr></thead>\n",
       "<tbody>\n",
       "\t<tr><td>2014</td><td>5362</td></tr>\n",
       "\t<tr><td>2015</td><td>5354</td></tr>\n",
       "\t<tr><td>2016</td><td>5369</td></tr>\n",
       "\t<tr><td>2017</td><td>5395</td></tr>\n",
       "\t<tr><td>2018</td><td>5405</td></tr>\n",
       "</tbody>\n",
       "</table>\n"
      ],
      "text/latex": [
       "\\begin{tabular}{r|ll}\n",
       " Season & n\\\\\n",
       "\\hline\n",
       "\t 2014 & 5362\\\\\n",
       "\t 2015 & 5354\\\\\n",
       "\t 2016 & 5369\\\\\n",
       "\t 2017 & 5395\\\\\n",
       "\t 2018 & 5405\\\\\n",
       "\\end{tabular}\n"
      ],
      "text/markdown": [
       "\n",
       "| Season | n |\n",
       "|---|---|\n",
       "| 2014 | 5362 |\n",
       "| 2015 | 5354 |\n",
       "| 2016 | 5369 |\n",
       "| 2017 | 5395 |\n",
       "| 2018 | 5405 |\n",
       "\n"
      ],
      "text/plain": [
       "  Season n   \n",
       "1 2014   5362\n",
       "2 2015   5354\n",
       "3 2016   5369\n",
       "4 2017   5395\n",
       "5 2018   5405"
      ]
     },
     "metadata": {},
     "output_type": "display_data"
    }
   ],
   "source": [
    "data.regulars %>% group_by(Season) %>% summarise(n=n())"
   ]
  },
  {
   "cell_type": "code",
   "execution_count": 6,
   "metadata": {},
   "outputs": [
    {
     "data": {
      "text/html": [
       "<table>\n",
       "<thead><tr><th scope=col>Season</th><th scope=col>DayNum</th><th scope=col>WTeamID</th><th scope=col>WScore</th><th scope=col>LTeamID</th><th scope=col>LScore</th><th scope=col>WLoc</th><th scope=col>NumOT</th><th scope=col>WFGM</th><th scope=col>WFGA</th><th scope=col>⋯</th><th scope=col>LFGA3</th><th scope=col>LFTM</th><th scope=col>LFTA</th><th scope=col>LOR</th><th scope=col>LDR</th><th scope=col>LAst</th><th scope=col>LTO</th><th scope=col>LStl</th><th scope=col>LBlk</th><th scope=col>LPF</th></tr></thead>\n",
       "<tbody>\n",
       "\t<tr><td>2014</td><td>4   </td><td>1102</td><td>79  </td><td>1119</td><td>68  </td><td>N   </td><td>0   </td><td>26  </td><td>49  </td><td>⋯   </td><td>44  </td><td>10  </td><td>13  </td><td>14  </td><td>20  </td><td>16  </td><td>13  </td><td>4   </td><td>5   </td><td>24  </td></tr>\n",
       "\t<tr><td>2014</td><td>4   </td><td>1103</td><td>72  </td><td>1157</td><td>63  </td><td>H   </td><td>0   </td><td>25  </td><td>59  </td><td>⋯   </td><td>14  </td><td>11  </td><td>18  </td><td>15  </td><td>22  </td><td> 6  </td><td>20  </td><td>8   </td><td>4   </td><td>22  </td></tr>\n",
       "\t<tr><td>2014</td><td>4   </td><td>1107</td><td>74  </td><td>1373</td><td>62  </td><td>A   </td><td>0   </td><td>21  </td><td>52  </td><td>⋯   </td><td>24  </td><td>12  </td><td>23  </td><td>20  </td><td>24  </td><td>12  </td><td>16  </td><td>2   </td><td>6   </td><td>26  </td></tr>\n",
       "\t<tr><td>2014</td><td>4   </td><td>1112</td><td>73  </td><td>1142</td><td>62  </td><td>H   </td><td>0   </td><td>24  </td><td>42  </td><td>⋯   </td><td>26  </td><td>11  </td><td>13  </td><td>10  </td><td>16  </td><td>13  </td><td>11  </td><td>4   </td><td>0   </td><td>26  </td></tr>\n",
       "\t<tr><td>2014</td><td>4   </td><td>1113</td><td>96  </td><td>1420</td><td>61  </td><td>H   </td><td>0   </td><td>27  </td><td>57  </td><td>⋯   </td><td>23  </td><td>11  </td><td>25  </td><td>11  </td><td>24  </td><td>12  </td><td>16  </td><td>8   </td><td>1   </td><td>30  </td></tr>\n",
       "\t<tr><td>2014</td><td>4   </td><td>1116</td><td>99  </td><td>1188</td><td>65  </td><td>H   </td><td>0   </td><td>33  </td><td>64  </td><td>⋯   </td><td>25  </td><td> 6  </td><td> 9  </td><td>15  </td><td>19  </td><td>10  </td><td>23  </td><td>6   </td><td>1   </td><td>24  </td></tr>\n",
       "</tbody>\n",
       "</table>\n"
      ],
      "text/latex": [
       "\\begin{tabular}{r|llllllllllllllllllllllllllllllllll}\n",
       " Season & DayNum & WTeamID & WScore & LTeamID & LScore & WLoc & NumOT & WFGM & WFGA & ⋯ & LFGA3 & LFTM & LFTA & LOR & LDR & LAst & LTO & LStl & LBlk & LPF\\\\\n",
       "\\hline\n",
       "\t 2014 & 4    & 1102 & 79   & 1119 & 68   & N    & 0    & 26   & 49   & ⋯    & 44   & 10   & 13   & 14   & 20   & 16   & 13   & 4    & 5    & 24  \\\\\n",
       "\t 2014 & 4    & 1103 & 72   & 1157 & 63   & H    & 0    & 25   & 59   & ⋯    & 14   & 11   & 18   & 15   & 22   &  6   & 20   & 8    & 4    & 22  \\\\\n",
       "\t 2014 & 4    & 1107 & 74   & 1373 & 62   & A    & 0    & 21   & 52   & ⋯    & 24   & 12   & 23   & 20   & 24   & 12   & 16   & 2    & 6    & 26  \\\\\n",
       "\t 2014 & 4    & 1112 & 73   & 1142 & 62   & H    & 0    & 24   & 42   & ⋯    & 26   & 11   & 13   & 10   & 16   & 13   & 11   & 4    & 0    & 26  \\\\\n",
       "\t 2014 & 4    & 1113 & 96   & 1420 & 61   & H    & 0    & 27   & 57   & ⋯    & 23   & 11   & 25   & 11   & 24   & 12   & 16   & 8    & 1    & 30  \\\\\n",
       "\t 2014 & 4    & 1116 & 99   & 1188 & 65   & H    & 0    & 33   & 64   & ⋯    & 25   &  6   &  9   & 15   & 19   & 10   & 23   & 6    & 1    & 24  \\\\\n",
       "\\end{tabular}\n"
      ],
      "text/markdown": [
       "\n",
       "| Season | DayNum | WTeamID | WScore | LTeamID | LScore | WLoc | NumOT | WFGM | WFGA | ⋯ | LFGA3 | LFTM | LFTA | LOR | LDR | LAst | LTO | LStl | LBlk | LPF |\n",
       "|---|---|---|---|---|---|---|---|---|---|---|---|---|---|---|---|---|---|---|---|---|\n",
       "| 2014 | 4    | 1102 | 79   | 1119 | 68   | N    | 0    | 26   | 49   | ⋯    | 44   | 10   | 13   | 14   | 20   | 16   | 13   | 4    | 5    | 24   |\n",
       "| 2014 | 4    | 1103 | 72   | 1157 | 63   | H    | 0    | 25   | 59   | ⋯    | 14   | 11   | 18   | 15   | 22   |  6   | 20   | 8    | 4    | 22   |\n",
       "| 2014 | 4    | 1107 | 74   | 1373 | 62   | A    | 0    | 21   | 52   | ⋯    | 24   | 12   | 23   | 20   | 24   | 12   | 16   | 2    | 6    | 26   |\n",
       "| 2014 | 4    | 1112 | 73   | 1142 | 62   | H    | 0    | 24   | 42   | ⋯    | 26   | 11   | 13   | 10   | 16   | 13   | 11   | 4    | 0    | 26   |\n",
       "| 2014 | 4    | 1113 | 96   | 1420 | 61   | H    | 0    | 27   | 57   | ⋯    | 23   | 11   | 25   | 11   | 24   | 12   | 16   | 8    | 1    | 30   |\n",
       "| 2014 | 4    | 1116 | 99   | 1188 | 65   | H    | 0    | 33   | 64   | ⋯    | 25   |  6   |  9   | 15   | 19   | 10   | 23   | 6    | 1    | 24   |\n",
       "\n"
      ],
      "text/plain": [
       "  Season DayNum WTeamID WScore LTeamID LScore WLoc NumOT WFGM WFGA ⋯ LFGA3 LFTM\n",
       "1 2014   4      1102    79     1119    68     N    0     26   49   ⋯ 44    10  \n",
       "2 2014   4      1103    72     1157    63     H    0     25   59   ⋯ 14    11  \n",
       "3 2014   4      1107    74     1373    62     A    0     21   52   ⋯ 24    12  \n",
       "4 2014   4      1112    73     1142    62     H    0     24   42   ⋯ 26    11  \n",
       "5 2014   4      1113    96     1420    61     H    0     27   57   ⋯ 23    11  \n",
       "6 2014   4      1116    99     1188    65     H    0     33   64   ⋯ 25     6  \n",
       "  LFTA LOR LDR LAst LTO LStl LBlk LPF\n",
       "1 13   14  20  16   13  4    5    24 \n",
       "2 18   15  22   6   20  8    4    22 \n",
       "3 23   20  24  12   16  2    6    26 \n",
       "4 13   10  16  13   11  4    0    26 \n",
       "5 25   11  24  12   16  8    1    30 \n",
       "6  9   15  19  10   23  6    1    24 "
      ]
     },
     "metadata": {},
     "output_type": "display_data"
    }
   ],
   "source": [
    "data.regulars %>% head"
   ]
  },
  {
   "cell_type": "code",
   "execution_count": 7,
   "metadata": {},
   "outputs": [],
   "source": [
    "data.regulars %>%\n",
    "    select(-WLoc,-NumOT) -> tmp01\n",
    "tmp01 %>%\n",
    "    select(-LTeamID) %>%\n",
    "    mutate(OW=1,OL=0,DW=0,DL=1) %>%\n",
    "    rename(TeamID=WTeamID) %>%\n",
    "    rename_at(vars(starts_with('W')),list(~str_replace(.,'^W','O'))) %>% \n",
    "    rename_at(vars(starts_with('L')),list(~str_replace(.,'^L','D'))) -> group1\n",
    "tmp01 %>%\n",
    "    select(-WTeamID) %>%\n",
    "    mutate(OW=0,OL=1,DW=1,DL=0) %>%\n",
    "    rename(TeamID=LTeamID) %>%\n",
    "    rename_at(vars(starts_with('L')),list(~str_replace(.,'^L','O'))) %>%\n",
    "    rename_at(vars(starts_with('W')),list(~str_replace(.,'^W','D'))) -> group2\n",
    "group1 %>% \n",
    "    bind_rows(group2) %>% \n",
    "    arrange(Season,DayNum,TeamID) -> teams.stats"
   ]
  },
  {
   "cell_type": "code",
   "execution_count": 8,
   "metadata": {},
   "outputs": [
    {
     "data": {
      "text/html": [
       "<table>\n",
       "<thead><tr><th scope=col>Season</th><th scope=col>DayNum</th><th scope=col>TeamID</th><th scope=col>OScore</th><th scope=col>DScore</th><th scope=col>OFGM</th><th scope=col>OFGA</th><th scope=col>OFGM3</th><th scope=col>OFGA3</th><th scope=col>OFTM</th><th scope=col>⋯</th><th scope=col>DDR</th><th scope=col>DAst</th><th scope=col>DTO</th><th scope=col>DStl</th><th scope=col>DBlk</th><th scope=col>DPF</th><th scope=col>OW</th><th scope=col>OL</th><th scope=col>DW</th><th scope=col>DL</th></tr></thead>\n",
       "<tbody>\n",
       "\t<tr><td>2014</td><td> 4  </td><td>1102</td><td>79  </td><td>68  </td><td>26  </td><td>49  </td><td>10  </td><td>15  </td><td>17  </td><td>⋯   </td><td>20  </td><td>16  </td><td>13  </td><td> 4  </td><td>5   </td><td>24  </td><td>1   </td><td>0   </td><td>0   </td><td>1   </td></tr>\n",
       "\t<tr><td>2014</td><td> 5  </td><td>1102</td><td>63  </td><td>71  </td><td>23  </td><td>53  </td><td> 5  </td><td>22  </td><td>12  </td><td>⋯   </td><td>27  </td><td>11  </td><td>12  </td><td>10  </td><td>4   </td><td>20  </td><td>0   </td><td>1   </td><td>1   </td><td>0   </td></tr>\n",
       "\t<tr><td>2014</td><td>10  </td><td>1102</td><td>82  </td><td>84  </td><td>27  </td><td>57  </td><td>12  </td><td>26  </td><td>16  </td><td>⋯   </td><td>27  </td><td>15  </td><td>12  </td><td> 5  </td><td>8   </td><td>25  </td><td>0   </td><td>1   </td><td>1   </td><td>0   </td></tr>\n",
       "\t<tr><td>2014</td><td>13  </td><td>1102</td><td>67  </td><td>64  </td><td>19  </td><td>45  </td><td> 9  </td><td>21  </td><td>20  </td><td>⋯   </td><td>20  </td><td>13  </td><td>15  </td><td>12  </td><td>6   </td><td>23  </td><td>1   </td><td>0   </td><td>0   </td><td>1   </td></tr>\n",
       "\t<tr><td>2014</td><td>23  </td><td>1102</td><td>60  </td><td>83  </td><td>20  </td><td>43  </td><td> 4  </td><td>13  </td><td>16  </td><td>⋯   </td><td>21  </td><td>24  </td><td> 8  </td><td>10  </td><td>6   </td><td>22  </td><td>0   </td><td>1   </td><td>1   </td><td>0   </td></tr>\n",
       "\t<tr><td>2014</td><td>26  </td><td>1102</td><td>57  </td><td>81  </td><td>19  </td><td>46  </td><td> 6  </td><td>22  </td><td>13  </td><td>⋯   </td><td>28  </td><td>20  </td><td>14  </td><td> 5  </td><td>3   </td><td>21  </td><td>0   </td><td>1   </td><td>1   </td><td>0   </td></tr>\n",
       "</tbody>\n",
       "</table>\n"
      ],
      "text/latex": [
       "\\begin{tabular}{r|lllllllllllllllllllllllllllllllllll}\n",
       " Season & DayNum & TeamID & OScore & DScore & OFGM & OFGA & OFGM3 & OFGA3 & OFTM & ⋯ & DDR & DAst & DTO & DStl & DBlk & DPF & OW & OL & DW & DL\\\\\n",
       "\\hline\n",
       "\t 2014 &  4   & 1102 & 79   & 68   & 26   & 49   & 10   & 15   & 17   & ⋯    & 20   & 16   & 13   &  4   & 5    & 24   & 1    & 0    & 0    & 1   \\\\\n",
       "\t 2014 &  5   & 1102 & 63   & 71   & 23   & 53   &  5   & 22   & 12   & ⋯    & 27   & 11   & 12   & 10   & 4    & 20   & 0    & 1    & 1    & 0   \\\\\n",
       "\t 2014 & 10   & 1102 & 82   & 84   & 27   & 57   & 12   & 26   & 16   & ⋯    & 27   & 15   & 12   &  5   & 8    & 25   & 0    & 1    & 1    & 0   \\\\\n",
       "\t 2014 & 13   & 1102 & 67   & 64   & 19   & 45   &  9   & 21   & 20   & ⋯    & 20   & 13   & 15   & 12   & 6    & 23   & 1    & 0    & 0    & 1   \\\\\n",
       "\t 2014 & 23   & 1102 & 60   & 83   & 20   & 43   &  4   & 13   & 16   & ⋯    & 21   & 24   &  8   & 10   & 6    & 22   & 0    & 1    & 1    & 0   \\\\\n",
       "\t 2014 & 26   & 1102 & 57   & 81   & 19   & 46   &  6   & 22   & 13   & ⋯    & 28   & 20   & 14   &  5   & 3    & 21   & 0    & 1    & 1    & 0   \\\\\n",
       "\\end{tabular}\n"
      ],
      "text/markdown": [
       "\n",
       "| Season | DayNum | TeamID | OScore | DScore | OFGM | OFGA | OFGM3 | OFGA3 | OFTM | ⋯ | DDR | DAst | DTO | DStl | DBlk | DPF | OW | OL | DW | DL |\n",
       "|---|---|---|---|---|---|---|---|---|---|---|---|---|---|---|---|---|---|---|---|---|\n",
       "| 2014 |  4   | 1102 | 79   | 68   | 26   | 49   | 10   | 15   | 17   | ⋯    | 20   | 16   | 13   |  4   | 5    | 24   | 1    | 0    | 0    | 1    |\n",
       "| 2014 |  5   | 1102 | 63   | 71   | 23   | 53   |  5   | 22   | 12   | ⋯    | 27   | 11   | 12   | 10   | 4    | 20   | 0    | 1    | 1    | 0    |\n",
       "| 2014 | 10   | 1102 | 82   | 84   | 27   | 57   | 12   | 26   | 16   | ⋯    | 27   | 15   | 12   |  5   | 8    | 25   | 0    | 1    | 1    | 0    |\n",
       "| 2014 | 13   | 1102 | 67   | 64   | 19   | 45   |  9   | 21   | 20   | ⋯    | 20   | 13   | 15   | 12   | 6    | 23   | 1    | 0    | 0    | 1    |\n",
       "| 2014 | 23   | 1102 | 60   | 83   | 20   | 43   |  4   | 13   | 16   | ⋯    | 21   | 24   |  8   | 10   | 6    | 22   | 0    | 1    | 1    | 0    |\n",
       "| 2014 | 26   | 1102 | 57   | 81   | 19   | 46   |  6   | 22   | 13   | ⋯    | 28   | 20   | 14   |  5   | 3    | 21   | 0    | 1    | 1    | 0    |\n",
       "\n"
      ],
      "text/plain": [
       "  Season DayNum TeamID OScore DScore OFGM OFGA OFGM3 OFGA3 OFTM ⋯ DDR DAst DTO\n",
       "1 2014    4     1102   79     68     26   49   10    15    17   ⋯ 20  16   13 \n",
       "2 2014    5     1102   63     71     23   53    5    22    12   ⋯ 27  11   12 \n",
       "3 2014   10     1102   82     84     27   57   12    26    16   ⋯ 27  15   12 \n",
       "4 2014   13     1102   67     64     19   45    9    21    20   ⋯ 20  13   15 \n",
       "5 2014   23     1102   60     83     20   43    4    13    16   ⋯ 21  24    8 \n",
       "6 2014   26     1102   57     81     19   46    6    22    13   ⋯ 28  20   14 \n",
       "  DStl DBlk DPF OW OL DW DL\n",
       "1  4   5    24  1  0  0  1 \n",
       "2 10   4    20  0  1  1  0 \n",
       "3  5   8    25  0  1  1  0 \n",
       "4 12   6    23  1  0  0  1 \n",
       "5 10   6    22  0  1  1  0 \n",
       "6  5   3    21  0  1  1  0 "
      ]
     },
     "metadata": {},
     "output_type": "display_data"
    }
   ],
   "source": [
    "teams.stats %>% filter(TeamID==1102) %>% head"
   ]
  },
  {
   "cell_type": "code",
   "execution_count": 9,
   "metadata": {},
   "outputs": [
    {
     "data": {
      "text/html": [
       "<table>\n",
       "<thead><tr><th scope=col>Season</th><th scope=col>n</th></tr></thead>\n",
       "<tbody>\n",
       "\t<tr><td>2014 </td><td>10724</td></tr>\n",
       "\t<tr><td>2015 </td><td>10708</td></tr>\n",
       "\t<tr><td>2016 </td><td>10738</td></tr>\n",
       "\t<tr><td>2017 </td><td>10790</td></tr>\n",
       "\t<tr><td>2018 </td><td>10810</td></tr>\n",
       "</tbody>\n",
       "</table>\n"
      ],
      "text/latex": [
       "\\begin{tabular}{r|ll}\n",
       " Season & n\\\\\n",
       "\\hline\n",
       "\t 2014  & 10724\\\\\n",
       "\t 2015  & 10708\\\\\n",
       "\t 2016  & 10738\\\\\n",
       "\t 2017  & 10790\\\\\n",
       "\t 2018  & 10810\\\\\n",
       "\\end{tabular}\n"
      ],
      "text/markdown": [
       "\n",
       "| Season | n |\n",
       "|---|---|\n",
       "| 2014  | 10724 |\n",
       "| 2015  | 10708 |\n",
       "| 2016  | 10738 |\n",
       "| 2017  | 10790 |\n",
       "| 2018  | 10810 |\n",
       "\n"
      ],
      "text/plain": [
       "  Season n    \n",
       "1 2014   10724\n",
       "2 2015   10708\n",
       "3 2016   10738\n",
       "4 2017   10790\n",
       "5 2018   10810"
      ]
     },
     "metadata": {},
     "output_type": "display_data"
    }
   ],
   "source": [
    "teams.stats %>% group_by(Season) %>% summarise(n=n())"
   ]
  },
  {
   "cell_type": "markdown",
   "metadata": {},
   "source": [
    "#### Compute regular new features"
   ]
  },
  {
   "cell_type": "code",
   "execution_count": 10,
   "metadata": {},
   "outputs": [],
   "source": [
    "# compute cumulative and average stats\n",
    "teams.stats %>%\n",
    "    group_by(Season,TeamID) %>%\n",
    "    mutate_at(vars(starts_with('O'),starts_with('D')),list(~cumsum,~cummean)) %>%\n",
    "    select(-c(OW,OL,DW,DL,OScore,DScore,OFGM,OFGA,OFGM3,OFGA3,OFTM,OFTA,OOR,ODR,OAst,OTO,OStl,OBlk,OPF,DFGM,DFGA,DFGM3,DFGA3,DFTM,DFTA,DOR,DDR,DAst,DTO,DStl,DBlk,DPF)) %>%\n",
    "    rename_all(list(~str_replace(.,'_cumsum','Sum'))) %>%\n",
    "    rename_all(list(~str_replace(.,'_cummean','Avg'))) %>%\n",
    "    ungroup() -> teams.stats.cumul"
   ]
  },
  {
   "cell_type": "code",
   "execution_count": 11,
   "metadata": {},
   "outputs": [
    {
     "name": "stdout",
     "output_type": "stream",
     "text": [
      "53770 69 \n",
      "Season DayNum TeamID OScoreSum OFGMSum OFGASum OFGM3Sum OFGA3Sum OFTMSum OFTASum OORSum ODRSum OAstSum OTOSum OStlSum OBlkSum OPFSum OWSum OLSum DayNumSum DScoreSum DFGMSum DFGASum DFGM3Sum DFGA3Sum DFTMSum DFTASum DORSum DDRSum DAstSum DTOSum DStlSum DBlkSum DPFSum DWSum DLSum OScoreAvg OFGMAvg OFGAAvg OFGM3Avg OFGA3Avg OFTMAvg OFTAAvg OORAvg ODRAvg OAstAvg OTOAvg OStlAvg OBlkAvg OPFAvg OWAvg OLAvg DayNumAvg DScoreAvg DFGMAvg DFGAAvg DFGM3Avg DFGA3Avg DFTMAvg DFTAAvg DORAvg DDRAvg DAstAvg DTOAvg DStlAvg DBlkAvg DPFAvg DWAvg DLAvg \n"
     ]
    }
   ],
   "source": [
    "teams.stats.cumul %>% dim %>% cat('\\n')\n",
    "teams.stats.cumul %>% colnames %>% cat('\\n')"
   ]
  },
  {
   "cell_type": "code",
   "execution_count": 12,
   "metadata": {},
   "outputs": [
    {
     "data": {
      "text/html": [
       "<table>\n",
       "<thead><tr><th scope=col>Season</th><th scope=col>DayNum</th><th scope=col>TeamID</th><th scope=col>OScoreSum</th><th scope=col>OFGMSum</th><th scope=col>OFGASum</th><th scope=col>OFGM3Sum</th><th scope=col>OFGA3Sum</th><th scope=col>OFTMSum</th><th scope=col>OFTASum</th><th scope=col>⋯</th><th scope=col>DFTAAvg</th><th scope=col>DORAvg</th><th scope=col>DDRAvg</th><th scope=col>DAstAvg</th><th scope=col>DTOAvg</th><th scope=col>DStlAvg</th><th scope=col>DBlkAvg</th><th scope=col>DPFAvg</th><th scope=col>DWAvg</th><th scope=col>DLAvg</th></tr></thead>\n",
       "<tbody>\n",
       "\t<tr><td>2014     </td><td> 4       </td><td>1102     </td><td> 79      </td><td> 26      </td><td> 49      </td><td>10       </td><td> 15      </td><td>17       </td><td> 26      </td><td>⋯        </td><td>13.00000 </td><td>14.00000 </td><td>20.00000 </td><td>16.00    </td><td>13.00000 </td><td>4.000000 </td><td>5.000000 </td><td>24.0     </td><td>0.0000000</td><td>1.0000000</td></tr>\n",
       "\t<tr><td>2014     </td><td> 5       </td><td>1102     </td><td>142      </td><td> 49      </td><td>102      </td><td>15       </td><td> 37      </td><td>29       </td><td> 45      </td><td>⋯        </td><td>19.50000 </td><td>13.00000 </td><td>23.50000 </td><td>13.50    </td><td>12.50000 </td><td>7.000000 </td><td>4.500000 </td><td>22.0     </td><td>0.5000000</td><td>0.5000000</td></tr>\n",
       "\t<tr><td>2014     </td><td>10       </td><td>1102     </td><td>224      </td><td> 76      </td><td>159      </td><td>27       </td><td> 63      </td><td>45       </td><td> 71      </td><td>⋯        </td><td>26.66667 </td><td>11.33333 </td><td>24.66667 </td><td>14.00    </td><td>12.33333 </td><td>6.333333 </td><td>5.666667 </td><td>23.0     </td><td>0.6666667</td><td>0.3333333</td></tr>\n",
       "\t<tr><td>2014     </td><td>13       </td><td>1102     </td><td>291      </td><td> 95      </td><td>204      </td><td>36       </td><td> 84      </td><td>65       </td><td> 97      </td><td>⋯        </td><td>23.25000 </td><td>11.25000 </td><td>23.50000 </td><td>13.75    </td><td>13.00000 </td><td>7.750000 </td><td>5.750000 </td><td>23.0     </td><td>0.5000000</td><td>0.5000000</td></tr>\n",
       "\t<tr><td>2014     </td><td>23       </td><td>1102     </td><td>351      </td><td>115      </td><td>247      </td><td>40       </td><td> 97      </td><td>81       </td><td>123      </td><td>⋯        </td><td>23.80000 </td><td>11.20000 </td><td>23.00000 </td><td>15.80    </td><td>12.00000 </td><td>8.200000 </td><td>5.800000 </td><td>22.8     </td><td>0.6000000</td><td>0.4000000</td></tr>\n",
       "\t<tr><td>2014     </td><td>26       </td><td>1102     </td><td>408      </td><td>134      </td><td>293      </td><td>46       </td><td>119      </td><td>94       </td><td>142      </td><td>⋯        </td><td>23.83333 </td><td>11.66667 </td><td>23.83333 </td><td>16.50    </td><td>12.33333 </td><td>7.666667 </td><td>5.333333 </td><td>22.5     </td><td>0.6666667</td><td>0.3333333</td></tr>\n",
       "</tbody>\n",
       "</table>\n"
      ],
      "text/latex": [
       "\\begin{tabular}{r|lllllllllllllllllllllllllllllllllllllllllllllllllllllllllllllllllllll}\n",
       " Season & DayNum & TeamID & OScoreSum & OFGMSum & OFGASum & OFGM3Sum & OFGA3Sum & OFTMSum & OFTASum & ⋯ & DFTAAvg & DORAvg & DDRAvg & DAstAvg & DTOAvg & DStlAvg & DBlkAvg & DPFAvg & DWAvg & DLAvg\\\\\n",
       "\\hline\n",
       "\t 2014      &  4        & 1102      &  79       &  26       &  49       & 10        &  15       & 17        &  26       & ⋯         & 13.00000  & 14.00000  & 20.00000  & 16.00     & 13.00000  & 4.000000  & 5.000000  & 24.0      & 0.0000000 & 1.0000000\\\\\n",
       "\t 2014      &  5        & 1102      & 142       &  49       & 102       & 15        &  37       & 29        &  45       & ⋯         & 19.50000  & 13.00000  & 23.50000  & 13.50     & 12.50000  & 7.000000  & 4.500000  & 22.0      & 0.5000000 & 0.5000000\\\\\n",
       "\t 2014      & 10        & 1102      & 224       &  76       & 159       & 27        &  63       & 45        &  71       & ⋯         & 26.66667  & 11.33333  & 24.66667  & 14.00     & 12.33333  & 6.333333  & 5.666667  & 23.0      & 0.6666667 & 0.3333333\\\\\n",
       "\t 2014      & 13        & 1102      & 291       &  95       & 204       & 36        &  84       & 65        &  97       & ⋯         & 23.25000  & 11.25000  & 23.50000  & 13.75     & 13.00000  & 7.750000  & 5.750000  & 23.0      & 0.5000000 & 0.5000000\\\\\n",
       "\t 2014      & 23        & 1102      & 351       & 115       & 247       & 40        &  97       & 81        & 123       & ⋯         & 23.80000  & 11.20000  & 23.00000  & 15.80     & 12.00000  & 8.200000  & 5.800000  & 22.8      & 0.6000000 & 0.4000000\\\\\n",
       "\t 2014      & 26        & 1102      & 408       & 134       & 293       & 46        & 119       & 94        & 142       & ⋯         & 23.83333  & 11.66667  & 23.83333  & 16.50     & 12.33333  & 7.666667  & 5.333333  & 22.5      & 0.6666667 & 0.3333333\\\\\n",
       "\\end{tabular}\n"
      ],
      "text/markdown": [
       "\n",
       "| Season | DayNum | TeamID | OScoreSum | OFGMSum | OFGASum | OFGM3Sum | OFGA3Sum | OFTMSum | OFTASum | ⋯ | DFTAAvg | DORAvg | DDRAvg | DAstAvg | DTOAvg | DStlAvg | DBlkAvg | DPFAvg | DWAvg | DLAvg |\n",
       "|---|---|---|---|---|---|---|---|---|---|---|---|---|---|---|---|---|---|---|---|---|\n",
       "| 2014      |  4        | 1102      |  79       |  26       |  49       | 10        |  15       | 17        |  26       | ⋯         | 13.00000  | 14.00000  | 20.00000  | 16.00     | 13.00000  | 4.000000  | 5.000000  | 24.0      | 0.0000000 | 1.0000000 |\n",
       "| 2014      |  5        | 1102      | 142       |  49       | 102       | 15        |  37       | 29        |  45       | ⋯         | 19.50000  | 13.00000  | 23.50000  | 13.50     | 12.50000  | 7.000000  | 4.500000  | 22.0      | 0.5000000 | 0.5000000 |\n",
       "| 2014      | 10        | 1102      | 224       |  76       | 159       | 27        |  63       | 45        |  71       | ⋯         | 26.66667  | 11.33333  | 24.66667  | 14.00     | 12.33333  | 6.333333  | 5.666667  | 23.0      | 0.6666667 | 0.3333333 |\n",
       "| 2014      | 13        | 1102      | 291       |  95       | 204       | 36        |  84       | 65        |  97       | ⋯         | 23.25000  | 11.25000  | 23.50000  | 13.75     | 13.00000  | 7.750000  | 5.750000  | 23.0      | 0.5000000 | 0.5000000 |\n",
       "| 2014      | 23        | 1102      | 351       | 115       | 247       | 40        |  97       | 81        | 123       | ⋯         | 23.80000  | 11.20000  | 23.00000  | 15.80     | 12.00000  | 8.200000  | 5.800000  | 22.8      | 0.6000000 | 0.4000000 |\n",
       "| 2014      | 26        | 1102      | 408       | 134       | 293       | 46        | 119       | 94        | 142       | ⋯         | 23.83333  | 11.66667  | 23.83333  | 16.50     | 12.33333  | 7.666667  | 5.333333  | 22.5      | 0.6666667 | 0.3333333 |\n",
       "\n"
      ],
      "text/plain": [
       "  Season DayNum TeamID OScoreSum OFGMSum OFGASum OFGM3Sum OFGA3Sum OFTMSum\n",
       "1 2014    4     1102    79        26      49     10        15      17     \n",
       "2 2014    5     1102   142        49     102     15        37      29     \n",
       "3 2014   10     1102   224        76     159     27        63      45     \n",
       "4 2014   13     1102   291        95     204     36        84      65     \n",
       "5 2014   23     1102   351       115     247     40        97      81     \n",
       "6 2014   26     1102   408       134     293     46       119      94     \n",
       "  OFTASum ⋯ DFTAAvg  DORAvg   DDRAvg   DAstAvg DTOAvg   DStlAvg  DBlkAvg \n",
       "1  26     ⋯ 13.00000 14.00000 20.00000 16.00   13.00000 4.000000 5.000000\n",
       "2  45     ⋯ 19.50000 13.00000 23.50000 13.50   12.50000 7.000000 4.500000\n",
       "3  71     ⋯ 26.66667 11.33333 24.66667 14.00   12.33333 6.333333 5.666667\n",
       "4  97     ⋯ 23.25000 11.25000 23.50000 13.75   13.00000 7.750000 5.750000\n",
       "5 123     ⋯ 23.80000 11.20000 23.00000 15.80   12.00000 8.200000 5.800000\n",
       "6 142     ⋯ 23.83333 11.66667 23.83333 16.50   12.33333 7.666667 5.333333\n",
       "  DPFAvg DWAvg     DLAvg    \n",
       "1 24.0   0.0000000 1.0000000\n",
       "2 22.0   0.5000000 0.5000000\n",
       "3 23.0   0.6666667 0.3333333\n",
       "4 23.0   0.5000000 0.5000000\n",
       "5 22.8   0.6000000 0.4000000\n",
       "6 22.5   0.6666667 0.3333333"
      ]
     },
     "metadata": {},
     "output_type": "display_data"
    },
    {
     "data": {
      "text/html": [
       "<table>\n",
       "<thead><tr><th scope=col>Season</th><th scope=col>DayNum</th><th scope=col>TeamID</th><th scope=col>OScoreSum</th><th scope=col>OFGMSum</th><th scope=col>OFGASum</th><th scope=col>OFGM3Sum</th><th scope=col>OFGA3Sum</th><th scope=col>OFTMSum</th><th scope=col>OFTASum</th><th scope=col>⋯</th><th scope=col>DFTAAvg</th><th scope=col>DORAvg</th><th scope=col>DDRAvg</th><th scope=col>DAstAvg</th><th scope=col>DTOAvg</th><th scope=col>DStlAvg</th><th scope=col>DBlkAvg</th><th scope=col>DPFAvg</th><th scope=col>DWAvg</th><th scope=col>DLAvg</th></tr></thead>\n",
       "<tbody>\n",
       "\t<tr><td>2015     </td><td>11       </td><td>1102     </td><td> 78      </td><td> 31      </td><td> 62      </td><td> 6       </td><td> 19      </td><td>10       </td><td> 15      </td><td>⋯        </td><td>17.00000 </td><td>17.00000 </td><td>20.00000 </td><td>18.00000 </td><td>15.00000 </td><td>6.000000 </td><td>4.000000 </td><td>21.00    </td><td>1.0000000</td><td>0.0000000</td></tr>\n",
       "\t<tr><td>2015     </td><td>12       </td><td>1102     </td><td>146      </td><td> 55      </td><td>105      </td><td>15       </td><td> 39      </td><td>21       </td><td> 29      </td><td>⋯        </td><td>18.00000 </td><td>15.00000 </td><td>14.50000 </td><td>12.50000 </td><td>13.00000 </td><td>6.000000 </td><td>2.000000 </td><td>19.00    </td><td>0.5000000</td><td>0.5000000</td></tr>\n",
       "\t<tr><td>2015     </td><td>22       </td><td>1102     </td><td>199      </td><td> 73      </td><td>160      </td><td>19       </td><td> 59      </td><td>34       </td><td> 49      </td><td>⋯        </td><td>20.00000 </td><td>13.66667 </td><td>19.66667 </td><td>12.66667 </td><td>13.66667 </td><td>6.333333 </td><td>3.666667 </td><td>20.00    </td><td>0.6666667</td><td>0.3333333</td></tr>\n",
       "\t<tr><td>2015     </td><td>27       </td><td>1102     </td><td>261      </td><td> 96      </td><td>207      </td><td>27       </td><td> 77      </td><td>42       </td><td> 58      </td><td>⋯        </td><td>20.50000 </td><td>14.50000 </td><td>19.00000 </td><td>11.50000 </td><td>14.75000 </td><td>7.000000 </td><td>3.750000 </td><td>18.25    </td><td>0.7500000</td><td>0.2500000</td></tr>\n",
       "\t<tr><td>2015     </td><td>30       </td><td>1102     </td><td>320      </td><td>116      </td><td>260      </td><td>32       </td><td>101      </td><td>56       </td><td> 83      </td><td>⋯        </td><td>18.60000 </td><td>14.00000 </td><td>18.40000 </td><td>11.00000 </td><td>14.20000 </td><td>6.600000 </td><td>3.200000 </td><td>18.80    </td><td>0.6000000</td><td>0.4000000</td></tr>\n",
       "\t<tr><td>2015     </td><td>35       </td><td>1102     </td><td>397      </td><td>143      </td><td>310      </td><td>41       </td><td>126      </td><td>70       </td><td>100      </td><td>⋯        </td><td>17.33333 </td><td>14.16667 </td><td>18.16667 </td><td>11.50000 </td><td>14.33333 </td><td>6.500000 </td><td>3.333333 </td><td>19.00    </td><td>0.5000000</td><td>0.5000000</td></tr>\n",
       "</tbody>\n",
       "</table>\n"
      ],
      "text/latex": [
       "\\begin{tabular}{r|lllllllllllllllllllllllllllllllllllllllllllllllllllllllllllllllllllll}\n",
       " Season & DayNum & TeamID & OScoreSum & OFGMSum & OFGASum & OFGM3Sum & OFGA3Sum & OFTMSum & OFTASum & ⋯ & DFTAAvg & DORAvg & DDRAvg & DAstAvg & DTOAvg & DStlAvg & DBlkAvg & DPFAvg & DWAvg & DLAvg\\\\\n",
       "\\hline\n",
       "\t 2015      & 11        & 1102      &  78       &  31       &  62       &  6        &  19       & 10        &  15       & ⋯         & 17.00000  & 17.00000  & 20.00000  & 18.00000  & 15.00000  & 6.000000  & 4.000000  & 21.00     & 1.0000000 & 0.0000000\\\\\n",
       "\t 2015      & 12        & 1102      & 146       &  55       & 105       & 15        &  39       & 21        &  29       & ⋯         & 18.00000  & 15.00000  & 14.50000  & 12.50000  & 13.00000  & 6.000000  & 2.000000  & 19.00     & 0.5000000 & 0.5000000\\\\\n",
       "\t 2015      & 22        & 1102      & 199       &  73       & 160       & 19        &  59       & 34        &  49       & ⋯         & 20.00000  & 13.66667  & 19.66667  & 12.66667  & 13.66667  & 6.333333  & 3.666667  & 20.00     & 0.6666667 & 0.3333333\\\\\n",
       "\t 2015      & 27        & 1102      & 261       &  96       & 207       & 27        &  77       & 42        &  58       & ⋯         & 20.50000  & 14.50000  & 19.00000  & 11.50000  & 14.75000  & 7.000000  & 3.750000  & 18.25     & 0.7500000 & 0.2500000\\\\\n",
       "\t 2015      & 30        & 1102      & 320       & 116       & 260       & 32        & 101       & 56        &  83       & ⋯         & 18.60000  & 14.00000  & 18.40000  & 11.00000  & 14.20000  & 6.600000  & 3.200000  & 18.80     & 0.6000000 & 0.4000000\\\\\n",
       "\t 2015      & 35        & 1102      & 397       & 143       & 310       & 41        & 126       & 70        & 100       & ⋯         & 17.33333  & 14.16667  & 18.16667  & 11.50000  & 14.33333  & 6.500000  & 3.333333  & 19.00     & 0.5000000 & 0.5000000\\\\\n",
       "\\end{tabular}\n"
      ],
      "text/markdown": [
       "\n",
       "| Season | DayNum | TeamID | OScoreSum | OFGMSum | OFGASum | OFGM3Sum | OFGA3Sum | OFTMSum | OFTASum | ⋯ | DFTAAvg | DORAvg | DDRAvg | DAstAvg | DTOAvg | DStlAvg | DBlkAvg | DPFAvg | DWAvg | DLAvg |\n",
       "|---|---|---|---|---|---|---|---|---|---|---|---|---|---|---|---|---|---|---|---|---|\n",
       "| 2015      | 11        | 1102      |  78       |  31       |  62       |  6        |  19       | 10        |  15       | ⋯         | 17.00000  | 17.00000  | 20.00000  | 18.00000  | 15.00000  | 6.000000  | 4.000000  | 21.00     | 1.0000000 | 0.0000000 |\n",
       "| 2015      | 12        | 1102      | 146       |  55       | 105       | 15        |  39       | 21        |  29       | ⋯         | 18.00000  | 15.00000  | 14.50000  | 12.50000  | 13.00000  | 6.000000  | 2.000000  | 19.00     | 0.5000000 | 0.5000000 |\n",
       "| 2015      | 22        | 1102      | 199       |  73       | 160       | 19        |  59       | 34        |  49       | ⋯         | 20.00000  | 13.66667  | 19.66667  | 12.66667  | 13.66667  | 6.333333  | 3.666667  | 20.00     | 0.6666667 | 0.3333333 |\n",
       "| 2015      | 27        | 1102      | 261       |  96       | 207       | 27        |  77       | 42        |  58       | ⋯         | 20.50000  | 14.50000  | 19.00000  | 11.50000  | 14.75000  | 7.000000  | 3.750000  | 18.25     | 0.7500000 | 0.2500000 |\n",
       "| 2015      | 30        | 1102      | 320       | 116       | 260       | 32        | 101       | 56        |  83       | ⋯         | 18.60000  | 14.00000  | 18.40000  | 11.00000  | 14.20000  | 6.600000  | 3.200000  | 18.80     | 0.6000000 | 0.4000000 |\n",
       "| 2015      | 35        | 1102      | 397       | 143       | 310       | 41        | 126       | 70        | 100       | ⋯         | 17.33333  | 14.16667  | 18.16667  | 11.50000  | 14.33333  | 6.500000  | 3.333333  | 19.00     | 0.5000000 | 0.5000000 |\n",
       "\n"
      ],
      "text/plain": [
       "  Season DayNum TeamID OScoreSum OFGMSum OFGASum OFGM3Sum OFGA3Sum OFTMSum\n",
       "1 2015   11     1102    78        31      62      6        19      10     \n",
       "2 2015   12     1102   146        55     105     15        39      21     \n",
       "3 2015   22     1102   199        73     160     19        59      34     \n",
       "4 2015   27     1102   261        96     207     27        77      42     \n",
       "5 2015   30     1102   320       116     260     32       101      56     \n",
       "6 2015   35     1102   397       143     310     41       126      70     \n",
       "  OFTASum ⋯ DFTAAvg  DORAvg   DDRAvg   DAstAvg  DTOAvg   DStlAvg  DBlkAvg \n",
       "1  15     ⋯ 17.00000 17.00000 20.00000 18.00000 15.00000 6.000000 4.000000\n",
       "2  29     ⋯ 18.00000 15.00000 14.50000 12.50000 13.00000 6.000000 2.000000\n",
       "3  49     ⋯ 20.00000 13.66667 19.66667 12.66667 13.66667 6.333333 3.666667\n",
       "4  58     ⋯ 20.50000 14.50000 19.00000 11.50000 14.75000 7.000000 3.750000\n",
       "5  83     ⋯ 18.60000 14.00000 18.40000 11.00000 14.20000 6.600000 3.200000\n",
       "6 100     ⋯ 17.33333 14.16667 18.16667 11.50000 14.33333 6.500000 3.333333\n",
       "  DPFAvg DWAvg     DLAvg    \n",
       "1 21.00  1.0000000 0.0000000\n",
       "2 19.00  0.5000000 0.5000000\n",
       "3 20.00  0.6666667 0.3333333\n",
       "4 18.25  0.7500000 0.2500000\n",
       "5 18.80  0.6000000 0.4000000\n",
       "6 19.00  0.5000000 0.5000000"
      ]
     },
     "metadata": {},
     "output_type": "display_data"
    }
   ],
   "source": [
    "teams.stats.cumul %>% filter(Season==2014,TeamID==1102) %>% head\n",
    "teams.stats.cumul %>% filter(Season==2015,TeamID==1102) %>% head"
   ]
  },
  {
   "cell_type": "code",
   "execution_count": 13,
   "metadata": {},
   "outputs": [],
   "source": [
    "# create missing row\n",
    "teams.stats.cumul %>% complete(Season=2014:2018,DayNum=1:140,TeamID) %>% \n",
    "    group_by(Season,TeamID) %>%\n",
    "    fill(everything()) %>%\n",
    "    ungroup() -> teams.stats.cumul"
   ]
  },
  {
   "cell_type": "code",
   "execution_count": 14,
   "metadata": {},
   "outputs": [
    {
     "name": "stdout",
     "output_type": "stream",
     "text": [
      "245700 69 \n",
      "Season DayNum TeamID OScoreSum OFGMSum OFGASum OFGM3Sum OFGA3Sum OFTMSum OFTASum OORSum ODRSum OAstSum OTOSum OStlSum OBlkSum OPFSum OWSum OLSum DayNumSum DScoreSum DFGMSum DFGASum DFGM3Sum DFGA3Sum DFTMSum DFTASum DORSum DDRSum DAstSum DTOSum DStlSum DBlkSum DPFSum DWSum DLSum OScoreAvg OFGMAvg OFGAAvg OFGM3Avg OFGA3Avg OFTMAvg OFTAAvg OORAvg ODRAvg OAstAvg OTOAvg OStlAvg OBlkAvg OPFAvg OWAvg OLAvg DayNumAvg DScoreAvg DFGMAvg DFGAAvg DFGM3Avg DFGA3Avg DFTMAvg DFTAAvg DORAvg DDRAvg DAstAvg DTOAvg DStlAvg DBlkAvg DPFAvg DWAvg DLAvg \n"
     ]
    }
   ],
   "source": [
    "# store\n",
    "teams.stats.cumul %>% dim %>% cat('\\n')\n",
    "teams.stats.cumul %>% colnames %>% cat('\\n')\n",
    "teams.stats.cumul %>% saveRDS('datafiles_rds/TeamOffDefStats.rds')"
   ]
  },
  {
   "cell_type": "markdown",
   "metadata": {},
   "source": [
    "#### Regular matchups"
   ]
  },
  {
   "cell_type": "code",
   "execution_count": 15,
   "metadata": {},
   "outputs": [
    {
     "data": {
      "text/html": [
       "<table>\n",
       "<thead><tr><th scope=col>Season</th><th scope=col>DayNum</th><th scope=col>Target</th><th scope=col>TeamID.x</th><th scope=col>TeamID.y</th></tr></thead>\n",
       "<tbody>\n",
       "\t<tr><td>2014</td><td>60  </td><td>1   </td><td>1153</td><td>1272</td></tr>\n",
       "\t<tr><td>2017</td><td>10  </td><td>0   </td><td>1163</td><td>1447</td></tr>\n",
       "\t<tr><td>2016</td><td>49  </td><td>1   </td><td>1112</td><td>1253</td></tr>\n",
       "\t<tr><td>2014</td><td>93  </td><td>0   </td><td>1254</td><td>1352</td></tr>\n",
       "\t<tr><td>2016</td><td>22  </td><td>0   </td><td>1400</td><td>1401</td></tr>\n",
       "</tbody>\n",
       "</table>\n"
      ],
      "text/latex": [
       "\\begin{tabular}{r|lllll}\n",
       " Season & DayNum & Target & TeamID.x & TeamID.y\\\\\n",
       "\\hline\n",
       "\t 2014 & 60   & 1    & 1153 & 1272\\\\\n",
       "\t 2017 & 10   & 0    & 1163 & 1447\\\\\n",
       "\t 2016 & 49   & 1    & 1112 & 1253\\\\\n",
       "\t 2014 & 93   & 0    & 1254 & 1352\\\\\n",
       "\t 2016 & 22   & 0    & 1400 & 1401\\\\\n",
       "\\end{tabular}\n"
      ],
      "text/markdown": [
       "\n",
       "| Season | DayNum | Target | TeamID.x | TeamID.y |\n",
       "|---|---|---|---|---|\n",
       "| 2014 | 60   | 1    | 1153 | 1272 |\n",
       "| 2017 | 10   | 0    | 1163 | 1447 |\n",
       "| 2016 | 49   | 1    | 1112 | 1253 |\n",
       "| 2014 | 93   | 0    | 1254 | 1352 |\n",
       "| 2016 | 22   | 0    | 1400 | 1401 |\n",
       "\n"
      ],
      "text/plain": [
       "  Season DayNum Target TeamID.x TeamID.y\n",
       "1 2014   60     1      1153     1272    \n",
       "2 2017   10     0      1163     1447    \n",
       "3 2016   49     1      1112     1253    \n",
       "4 2014   93     0      1254     1352    \n",
       "5 2016   22     0      1400     1401    "
      ]
     },
     "metadata": {},
     "output_type": "display_data"
    }
   ],
   "source": [
    "# regular season matchups\n",
    "data.regulars %>% \n",
    "    mutate(TeamID.x=ifelse(WTeamID<LTeamID,WTeamID,LTeamID),\n",
    "           TeamID.y=ifelse(WTeamID>LTeamID,WTeamID,LTeamID)) %>%\n",
    "    mutate(Target=ifelse(WTeamID<LTeamID,1,0)) %>%\n",
    "    mutate(DayNum=DayNum-1) %>%\n",
    "    select(Season,DayNum,Target,TeamID.x,TeamID.y) -> train.matchups\n",
    "train.matchups %>% sample_n(5)"
   ]
  },
  {
   "cell_type": "code",
   "execution_count": 16,
   "metadata": {},
   "outputs": [
    {
     "data": {
      "text/html": [
       "<table>\n",
       "<thead><tr><th scope=col>Season</th><th scope=col>n</th></tr></thead>\n",
       "<tbody>\n",
       "\t<tr><td>2014</td><td>5362</td></tr>\n",
       "\t<tr><td>2015</td><td>5354</td></tr>\n",
       "\t<tr><td>2016</td><td>5369</td></tr>\n",
       "\t<tr><td>2017</td><td>5395</td></tr>\n",
       "\t<tr><td>2018</td><td>5405</td></tr>\n",
       "</tbody>\n",
       "</table>\n"
      ],
      "text/latex": [
       "\\begin{tabular}{r|ll}\n",
       " Season & n\\\\\n",
       "\\hline\n",
       "\t 2014 & 5362\\\\\n",
       "\t 2015 & 5354\\\\\n",
       "\t 2016 & 5369\\\\\n",
       "\t 2017 & 5395\\\\\n",
       "\t 2018 & 5405\\\\\n",
       "\\end{tabular}\n"
      ],
      "text/markdown": [
       "\n",
       "| Season | n |\n",
       "|---|---|\n",
       "| 2014 | 5362 |\n",
       "| 2015 | 5354 |\n",
       "| 2016 | 5369 |\n",
       "| 2017 | 5395 |\n",
       "| 2018 | 5405 |\n",
       "\n"
      ],
      "text/plain": [
       "  Season n   \n",
       "1 2014   5362\n",
       "2 2015   5354\n",
       "3 2016   5369\n",
       "4 2017   5395\n",
       "5 2018   5405"
      ]
     },
     "metadata": {},
     "output_type": "display_data"
    }
   ],
   "source": [
    "train.matchups %>% group_by(Season) %>% summarise(n=n())"
   ]
  },
  {
   "cell_type": "code",
   "execution_count": 17,
   "metadata": {},
   "outputs": [
    {
     "data": {
      "text/html": [
       "<table>\n",
       "<thead><tr><th scope=col>Season</th><th scope=col>DayNum</th><th scope=col>Target</th><th scope=col>TeamID.x</th><th scope=col>TeamID.y</th><th scope=col>OScoreSum.x</th><th scope=col>OFGMSum.x</th><th scope=col>OFGASum.x</th><th scope=col>OFGM3Sum.x</th><th scope=col>OFGA3Sum.x</th><th scope=col>⋯</th><th scope=col>DFTAAvg.y</th><th scope=col>DORAvg.y</th><th scope=col>DDRAvg.y</th><th scope=col>DAstAvg.y</th><th scope=col>DTOAvg.y</th><th scope=col>DStlAvg.y</th><th scope=col>DBlkAvg.y</th><th scope=col>DPFAvg.y</th><th scope=col>DWAvg.y</th><th scope=col>DLAvg.y</th></tr></thead>\n",
       "<tbody>\n",
       "\t<tr><td>2016      </td><td>81        </td><td>1         </td><td>1226      </td><td>1451      </td><td>1059      </td><td>368       </td><td> 896      </td><td>107       </td><td>326       </td><td>⋯         </td><td>16.93333  </td><td> 9.60000  </td><td>23.80000  </td><td>11.86667  </td><td>11.20000  </td><td>5.533333  </td><td>1.533333  </td><td>22.06667  </td><td>0.3333333 </td><td>0.66666667</td></tr>\n",
       "\t<tr><td>2016      </td><td>72        </td><td>1         </td><td>1225      </td><td>1319      </td><td> 901      </td><td>291       </td><td> 735      </td><td> 90       </td><td>262       </td><td>⋯         </td><td>20.75000  </td><td>12.00000  </td><td>29.91667  </td><td>16.33333  </td><td>13.41667  </td><td>7.083333  </td><td>4.916667  </td><td>17.83333  </td><td>0.9166667 </td><td>0.08333333</td></tr>\n",
       "\t<tr><td>2016      </td><td>64        </td><td>0         </td><td>1102      </td><td>1461      </td><td> 839      </td><td>288       </td><td> 671      </td><td> 62       </td><td>202       </td><td>⋯         </td><td>21.30769  </td><td>12.46154  </td><td>25.84615  </td><td>11.84615  </td><td>10.84615  </td><td>7.153846  </td><td>2.384615  </td><td>23.38462  </td><td>0.6153846 </td><td>0.38461538</td></tr>\n",
       "\t<tr><td>2016      </td><td>49        </td><td>0         </td><td>1101      </td><td>1179      </td><td> 549      </td><td>183       </td><td> 442      </td><td> 50       </td><td>153       </td><td>⋯         </td><td>17.40000  </td><td>10.80000  </td><td>23.80000  </td><td>10.20000  </td><td>10.90000  </td><td>6.600000  </td><td>5.600000  </td><td>19.20000  </td><td>0.7000000 </td><td>0.30000000</td></tr>\n",
       "\t<tr><td>2017      </td><td>88        </td><td>1         </td><td>1294      </td><td>1381      </td><td>1210      </td><td>426       </td><td>1011      </td><td>152       </td><td>446       </td><td>⋯         </td><td>30.00000  </td><td>10.68421  </td><td>28.26316  </td><td>15.42105  </td><td>12.68421  </td><td>5.473684  </td><td>4.947368  </td><td>21.42105  </td><td>0.8947368 </td><td>0.10526316</td></tr>\n",
       "</tbody>\n",
       "</table>\n"
      ],
      "text/latex": [
       "\\begin{tabular}{r|lllllllllllllllllllllllllllllllllllllllllllllllllllllllllllllllllllllllllllllllllllllllllllllllllllllllllllllllllllllllllllllllllllllllll}\n",
       " Season & DayNum & Target & TeamID.x & TeamID.y & OScoreSum.x & OFGMSum.x & OFGASum.x & OFGM3Sum.x & OFGA3Sum.x & ⋯ & DFTAAvg.y & DORAvg.y & DDRAvg.y & DAstAvg.y & DTOAvg.y & DStlAvg.y & DBlkAvg.y & DPFAvg.y & DWAvg.y & DLAvg.y\\\\\n",
       "\\hline\n",
       "\t 2016       & 81         & 1          & 1226       & 1451       & 1059       & 368        &  896       & 107        & 326        & ⋯          & 16.93333   &  9.60000   & 23.80000   & 11.86667   & 11.20000   & 5.533333   & 1.533333   & 22.06667   & 0.3333333  & 0.66666667\\\\\n",
       "\t 2016       & 72         & 1          & 1225       & 1319       &  901       & 291        &  735       &  90        & 262        & ⋯          & 20.75000   & 12.00000   & 29.91667   & 16.33333   & 13.41667   & 7.083333   & 4.916667   & 17.83333   & 0.9166667  & 0.08333333\\\\\n",
       "\t 2016       & 64         & 0          & 1102       & 1461       &  839       & 288        &  671       &  62        & 202        & ⋯          & 21.30769   & 12.46154   & 25.84615   & 11.84615   & 10.84615   & 7.153846   & 2.384615   & 23.38462   & 0.6153846  & 0.38461538\\\\\n",
       "\t 2016       & 49         & 0          & 1101       & 1179       &  549       & 183        &  442       &  50        & 153        & ⋯          & 17.40000   & 10.80000   & 23.80000   & 10.20000   & 10.90000   & 6.600000   & 5.600000   & 19.20000   & 0.7000000  & 0.30000000\\\\\n",
       "\t 2017       & 88         & 1          & 1294       & 1381       & 1210       & 426        & 1011       & 152        & 446        & ⋯          & 30.00000   & 10.68421   & 28.26316   & 15.42105   & 12.68421   & 5.473684   & 4.947368   & 21.42105   & 0.8947368  & 0.10526316\\\\\n",
       "\\end{tabular}\n"
      ],
      "text/markdown": [
       "\n",
       "| Season | DayNum | Target | TeamID.x | TeamID.y | OScoreSum.x | OFGMSum.x | OFGASum.x | OFGM3Sum.x | OFGA3Sum.x | ⋯ | DFTAAvg.y | DORAvg.y | DDRAvg.y | DAstAvg.y | DTOAvg.y | DStlAvg.y | DBlkAvg.y | DPFAvg.y | DWAvg.y | DLAvg.y |\n",
       "|---|---|---|---|---|---|---|---|---|---|---|---|---|---|---|---|---|---|---|---|---|\n",
       "| 2016       | 81         | 1          | 1226       | 1451       | 1059       | 368        |  896       | 107        | 326        | ⋯          | 16.93333   |  9.60000   | 23.80000   | 11.86667   | 11.20000   | 5.533333   | 1.533333   | 22.06667   | 0.3333333  | 0.66666667 |\n",
       "| 2016       | 72         | 1          | 1225       | 1319       |  901       | 291        |  735       |  90        | 262        | ⋯          | 20.75000   | 12.00000   | 29.91667   | 16.33333   | 13.41667   | 7.083333   | 4.916667   | 17.83333   | 0.9166667  | 0.08333333 |\n",
       "| 2016       | 64         | 0          | 1102       | 1461       |  839       | 288        |  671       |  62        | 202        | ⋯          | 21.30769   | 12.46154   | 25.84615   | 11.84615   | 10.84615   | 7.153846   | 2.384615   | 23.38462   | 0.6153846  | 0.38461538 |\n",
       "| 2016       | 49         | 0          | 1101       | 1179       |  549       | 183        |  442       |  50        | 153        | ⋯          | 17.40000   | 10.80000   | 23.80000   | 10.20000   | 10.90000   | 6.600000   | 5.600000   | 19.20000   | 0.7000000  | 0.30000000 |\n",
       "| 2017       | 88         | 1          | 1294       | 1381       | 1210       | 426        | 1011       | 152        | 446        | ⋯          | 30.00000   | 10.68421   | 28.26316   | 15.42105   | 12.68421   | 5.473684   | 4.947368   | 21.42105   | 0.8947368  | 0.10526316 |\n",
       "\n"
      ],
      "text/plain": [
       "  Season DayNum Target TeamID.x TeamID.y OScoreSum.x OFGMSum.x OFGASum.x\n",
       "1 2016   81     1      1226     1451     1059        368        896     \n",
       "2 2016   72     1      1225     1319      901        291        735     \n",
       "3 2016   64     0      1102     1461      839        288        671     \n",
       "4 2016   49     0      1101     1179      549        183        442     \n",
       "5 2017   88     1      1294     1381     1210        426       1011     \n",
       "  OFGM3Sum.x OFGA3Sum.x ⋯ DFTAAvg.y DORAvg.y DDRAvg.y DAstAvg.y DTOAvg.y\n",
       "1 107        326        ⋯ 16.93333   9.60000 23.80000 11.86667  11.20000\n",
       "2  90        262        ⋯ 20.75000  12.00000 29.91667 16.33333  13.41667\n",
       "3  62        202        ⋯ 21.30769  12.46154 25.84615 11.84615  10.84615\n",
       "4  50        153        ⋯ 17.40000  10.80000 23.80000 10.20000  10.90000\n",
       "5 152        446        ⋯ 30.00000  10.68421 28.26316 15.42105  12.68421\n",
       "  DStlAvg.y DBlkAvg.y DPFAvg.y DWAvg.y   DLAvg.y   \n",
       "1 5.533333  1.533333  22.06667 0.3333333 0.66666667\n",
       "2 7.083333  4.916667  17.83333 0.9166667 0.08333333\n",
       "3 7.153846  2.384615  23.38462 0.6153846 0.38461538\n",
       "4 6.600000  5.600000  19.20000 0.7000000 0.30000000\n",
       "5 5.473684  4.947368  21.42105 0.8947368 0.10526316"
      ]
     },
     "metadata": {},
     "output_type": "display_data"
    }
   ],
   "source": [
    "# regular matchups features\n",
    "train.matchups %>%\n",
    "    left_join(teams.stats.cumul,by=c('Season','DayNum','TeamID.x'='TeamID')) %>% \n",
    "    rename_all(list(~str_replace(.,'Sum$','Sum.x'))) %>%\n",
    "    rename_all(list(~str_replace(.,'Avg$','Avg.x'))) %>%\n",
    "    left_join(teams.stats.cumul,by=c('Season','DayNum','TeamID.y'='TeamID')) %>% \n",
    "    rename_all(list(~str_replace(.,'Sum$','Sum.y'))) %>%\n",
    "    rename_all(list(~str_replace(.,'Avg$','Avg.y'))) %>%\n",
    "    na.omit() -> train.matchups.features\n",
    "train.matchups.features %>% sample_n(5)"
   ]
  },
  {
   "cell_type": "code",
   "execution_count": 18,
   "metadata": {},
   "outputs": [
    {
     "data": {
      "text/html": [
       "<table>\n",
       "<thead><tr><th scope=col>Season</th><th scope=col>n</th></tr></thead>\n",
       "<tbody>\n",
       "\t<tr><td>2014</td><td>5362</td></tr>\n",
       "\t<tr><td>2015</td><td>5354</td></tr>\n",
       "\t<tr><td>2016</td><td>5369</td></tr>\n",
       "\t<tr><td>2017</td><td>5395</td></tr>\n",
       "\t<tr><td>2018</td><td>5405</td></tr>\n",
       "</tbody>\n",
       "</table>\n"
      ],
      "text/latex": [
       "\\begin{tabular}{r|ll}\n",
       " Season & n\\\\\n",
       "\\hline\n",
       "\t 2014 & 5362\\\\\n",
       "\t 2015 & 5354\\\\\n",
       "\t 2016 & 5369\\\\\n",
       "\t 2017 & 5395\\\\\n",
       "\t 2018 & 5405\\\\\n",
       "\\end{tabular}\n"
      ],
      "text/markdown": [
       "\n",
       "| Season | n |\n",
       "|---|---|\n",
       "| 2014 | 5362 |\n",
       "| 2015 | 5354 |\n",
       "| 2016 | 5369 |\n",
       "| 2017 | 5395 |\n",
       "| 2018 | 5405 |\n",
       "\n"
      ],
      "text/plain": [
       "  Season n   \n",
       "1 2014   5362\n",
       "2 2015   5354\n",
       "3 2016   5369\n",
       "4 2017   5395\n",
       "5 2018   5405"
      ]
     },
     "metadata": {},
     "output_type": "display_data"
    }
   ],
   "source": [
    "train.matchups %>% group_by(Season) %>% summarise(n=n())"
   ]
  },
  {
   "cell_type": "code",
   "execution_count": 19,
   "metadata": {
    "scrolled": true
   },
   "outputs": [
    {
     "name": "stdout",
     "output_type": "stream",
     "text": [
      "25844 137 \n",
      "Season DayNum Target TeamID.x TeamID.y OScoreSum.x OFGMSum.x OFGASum.x OFGM3Sum.x OFGA3Sum.x OFTMSum.x OFTASum.x OORSum.x ODRSum.x OAstSum.x OTOSum.x OStlSum.x OBlkSum.x OPFSum.x OWSum.x OLSum.x DayNumSum.x DScoreSum.x DFGMSum.x DFGASum.x DFGM3Sum.x DFGA3Sum.x DFTMSum.x DFTASum.x DORSum.x DDRSum.x DAstSum.x DTOSum.x DStlSum.x DBlkSum.x DPFSum.x DWSum.x DLSum.x OScoreAvg.x OFGMAvg.x OFGAAvg.x OFGM3Avg.x OFGA3Avg.x OFTMAvg.x OFTAAvg.x OORAvg.x ODRAvg.x OAstAvg.x OTOAvg.x OStlAvg.x OBlkAvg.x OPFAvg.x OWAvg.x OLAvg.x DayNumAvg.x DScoreAvg.x DFGMAvg.x DFGAAvg.x DFGM3Avg.x DFGA3Avg.x DFTMAvg.x DFTAAvg.x DORAvg.x DDRAvg.x DAstAvg.x DTOAvg.x DStlAvg.x DBlkAvg.x DPFAvg.x DWAvg.x DLAvg.x OScoreSum.y OFGMSum.y OFGASum.y OFGM3Sum.y OFGA3Sum.y OFTMSum.y OFTASum.y OORSum.y ODRSum.y OAstSum.y OTOSum.y OStlSum.y OBlkSum.y OPFSum.y OWSum.y OLSum.y DayNumSum.y DScoreSum.y DFGMSum.y DFGASum.y DFGM3Sum.y DFGA3Sum.y DFTMSum.y DFTASum.y DORSum.y DDRSum.y DAstSum.y DTOSum.y DStlSum.y DBlkSum.y DPFSum.y DWSum.y DLSum.y OScoreAvg.y OFGMAvg.y OFGAAvg.y OFGM3Avg.y OFGA3Avg.y OFTMAvg.y OFTAAvg.y OORAvg.y ODRAvg.y OAstAvg.y OTOAvg.y OStlAvg.y OBlkAvg.y OPFAvg.y OWAvg.y OLAvg.y DayNumAvg.y DScoreAvg.y DFGMAvg.y DFGAAvg.y DFGM3Avg.y DFGA3Avg.y DFTMAvg.y DFTAAvg.y DORAvg.y DDRAvg.y DAstAvg.y DTOAvg.y DStlAvg.y DBlkAvg.y DPFAvg.y DWAvg.y DLAvg.y \n"
     ]
    }
   ],
   "source": [
    "dim(train.matchups.features) %>% cat('\\n')\n",
    "train.matchups.features %>% colnames %>% cat('\\n')"
   ]
  },
  {
   "cell_type": "code",
   "execution_count": 118,
   "metadata": {},
   "outputs": [],
   "source": [
    "train.matchups.features %>%\n",
    "    select(-Season,-DayNum,-TeamID.x,-TeamID.y) %>%\n",
    "    write.csv('kerasfiles/train.matchups.ODstats.csv',row.names=F)"
   ]
  },
  {
   "cell_type": "markdown",
   "metadata": {},
   "source": [
    "#### Delta Ratings"
   ]
  },
  {
   "cell_type": "code",
   "execution_count": 34,
   "metadata": {},
   "outputs": [],
   "source": [
    "train.matchups %>% \n",
    "    inner_join(teams.stats.cumul,by=c('Season','DayNum','TeamID.x'='TeamID')) %>%\n",
    "    mutate(pos=1) -> group1\n",
    "train.matchups %>% \n",
    "    inner_join(teams.stats.cumul,by=c('Season','DayNum','TeamID.y'='TeamID')) %>%\n",
    "    mutate(pos=2) -> group2\n",
    "group1 %>% \n",
    "    bind_rows(group2) %>% \n",
    "    arrange(pos) %>% \n",
    "    group_by(Season,DayNum,TeamID.x,TeamID.y) %>% \n",
    "    mutate_at(vars(OScoreSum:DLAvg),list(~lag(.)-.)) %>% \n",
    "    ungroup %>% \n",
    "    filter(pos==2) %>%\n",
    "    na.omit() %>%\n",
    "    select(-pos) -> df.ratingdelta"
   ]
  },
  {
   "cell_type": "code",
   "execution_count": 35,
   "metadata": {},
   "outputs": [
    {
     "data": {
      "text/html": [
       "<table>\n",
       "<thead><tr><th scope=col>Season</th><th scope=col>DayNum</th><th scope=col>Target</th><th scope=col>TeamID.x</th><th scope=col>TeamID.y</th><th scope=col>OScoreSum</th><th scope=col>OFGMSum</th><th scope=col>OFGASum</th><th scope=col>OFGM3Sum</th><th scope=col>OFGA3Sum</th><th scope=col>⋯</th><th scope=col>DFTAAvg</th><th scope=col>DORAvg</th><th scope=col>DDRAvg</th><th scope=col>DAstAvg</th><th scope=col>DTOAvg</th><th scope=col>DStlAvg</th><th scope=col>DBlkAvg</th><th scope=col>DPFAvg</th><th scope=col>DWAvg</th><th scope=col>DLAvg</th></tr></thead>\n",
       "<tbody>\n",
       "\t<tr><td>2014</td><td>4   </td><td>1   </td><td>1119</td><td>1154</td><td>-3  </td><td>-1  </td><td>-4  </td><td> 6  </td><td>23  </td><td>⋯   </td><td>  6 </td><td>-13 </td><td>  3 </td><td> 2  </td><td> 7  </td><td>-7  </td><td>-5  </td><td>-2  </td><td> 0  </td><td> 0  </td></tr>\n",
       "\t<tr><td>2014</td><td>4   </td><td>1   </td><td>1184</td><td>1244</td><td>26  </td><td> 8  </td><td> 1  </td><td> 5  </td><td> 8  </td><td>⋯   </td><td> 14 </td><td>  6 </td><td> -1 </td><td>-1  </td><td> 1  </td><td>-5  </td><td>-1  </td><td> 1  </td><td>-1  </td><td> 1  </td></tr>\n",
       "\t<tr><td>2014</td><td>4   </td><td>1   </td><td>1218</td><td>1444</td><td>15  </td><td> 4  </td><td> 4  </td><td>-5  </td><td>-6  </td><td>⋯   </td><td>-23 </td><td>-16 </td><td> -3 </td><td>-1  </td><td> 5  </td><td>-1  </td><td>-2  </td><td> 5  </td><td> 0  </td><td> 0  </td></tr>\n",
       "\t<tr><td>2014</td><td>4   </td><td>1   </td><td>1258</td><td>1355</td><td> 8  </td><td> 4  </td><td> 6  </td><td>-1  </td><td>-5  </td><td>⋯   </td><td> -2 </td><td>  0 </td><td> -3 </td><td>-1  </td><td> 0  </td><td>-6  </td><td> 1  </td><td>-1  </td><td>-1  </td><td> 1  </td></tr>\n",
       "\t<tr><td>2014</td><td>4   </td><td>1   </td><td>1308</td><td>1398</td><td> 9  </td><td>-2  </td><td>-2  </td><td> 0  </td><td>-4  </td><td>⋯   </td><td>-17 </td><td> -4 </td><td>-13 </td><td>-6  </td><td> 1  </td><td>-7  </td><td>-2  </td><td> 9  </td><td> 0  </td><td> 0  </td></tr>\n",
       "\t<tr><td>2014</td><td>4   </td><td>0   </td><td>1213</td><td>1360</td><td> 1  </td><td>-1  </td><td>-1  </td><td>-4  </td><td>-3  </td><td>⋯   </td><td>  0 </td><td>  5 </td><td> -5 </td><td>-3  </td><td>-1  </td><td>-2  </td><td>-2  </td><td> 0  </td><td> 1  </td><td>-1  </td></tr>\n",
       "</tbody>\n",
       "</table>\n"
      ],
      "text/latex": [
       "\\begin{tabular}{r|lllllllllllllllllllllllllllllllllllllllllllllllllllllllllllllllllllllll}\n",
       " Season & DayNum & Target & TeamID.x & TeamID.y & OScoreSum & OFGMSum & OFGASum & OFGM3Sum & OFGA3Sum & ⋯ & DFTAAvg & DORAvg & DDRAvg & DAstAvg & DTOAvg & DStlAvg & DBlkAvg & DPFAvg & DWAvg & DLAvg\\\\\n",
       "\\hline\n",
       "\t 2014 & 4    & 1    & 1119 & 1154 & -3   & -1   & -4   &  6   & 23   & ⋯    &   6  & -13  &   3  &  2   &  7   & -7   & -5   & -2   &  0   &  0  \\\\\n",
       "\t 2014 & 4    & 1    & 1184 & 1244 & 26   &  8   &  1   &  5   &  8   & ⋯    &  14  &   6  &  -1  & -1   &  1   & -5   & -1   &  1   & -1   &  1  \\\\\n",
       "\t 2014 & 4    & 1    & 1218 & 1444 & 15   &  4   &  4   & -5   & -6   & ⋯    & -23  & -16  &  -3  & -1   &  5   & -1   & -2   &  5   &  0   &  0  \\\\\n",
       "\t 2014 & 4    & 1    & 1258 & 1355 &  8   &  4   &  6   & -1   & -5   & ⋯    &  -2  &   0  &  -3  & -1   &  0   & -6   &  1   & -1   & -1   &  1  \\\\\n",
       "\t 2014 & 4    & 1    & 1308 & 1398 &  9   & -2   & -2   &  0   & -4   & ⋯    & -17  &  -4  & -13  & -6   &  1   & -7   & -2   &  9   &  0   &  0  \\\\\n",
       "\t 2014 & 4    & 0    & 1213 & 1360 &  1   & -1   & -1   & -4   & -3   & ⋯    &   0  &   5  &  -5  & -3   & -1   & -2   & -2   &  0   &  1   & -1  \\\\\n",
       "\\end{tabular}\n"
      ],
      "text/markdown": [
       "\n",
       "| Season | DayNum | Target | TeamID.x | TeamID.y | OScoreSum | OFGMSum | OFGASum | OFGM3Sum | OFGA3Sum | ⋯ | DFTAAvg | DORAvg | DDRAvg | DAstAvg | DTOAvg | DStlAvg | DBlkAvg | DPFAvg | DWAvg | DLAvg |\n",
       "|---|---|---|---|---|---|---|---|---|---|---|---|---|---|---|---|---|---|---|---|---|\n",
       "| 2014 | 4    | 1    | 1119 | 1154 | -3   | -1   | -4   |  6   | 23   | ⋯    |   6  | -13  |   3  |  2   |  7   | -7   | -5   | -2   |  0   |  0   |\n",
       "| 2014 | 4    | 1    | 1184 | 1244 | 26   |  8   |  1   |  5   |  8   | ⋯    |  14  |   6  |  -1  | -1   |  1   | -5   | -1   |  1   | -1   |  1   |\n",
       "| 2014 | 4    | 1    | 1218 | 1444 | 15   |  4   |  4   | -5   | -6   | ⋯    | -23  | -16  |  -3  | -1   |  5   | -1   | -2   |  5   |  0   |  0   |\n",
       "| 2014 | 4    | 1    | 1258 | 1355 |  8   |  4   |  6   | -1   | -5   | ⋯    |  -2  |   0  |  -3  | -1   |  0   | -6   |  1   | -1   | -1   |  1   |\n",
       "| 2014 | 4    | 1    | 1308 | 1398 |  9   | -2   | -2   |  0   | -4   | ⋯    | -17  |  -4  | -13  | -6   |  1   | -7   | -2   |  9   |  0   |  0   |\n",
       "| 2014 | 4    | 0    | 1213 | 1360 |  1   | -1   | -1   | -4   | -3   | ⋯    |   0  |   5  |  -5  | -3   | -1   | -2   | -2   |  0   |  1   | -1   |\n",
       "\n"
      ],
      "text/plain": [
       "  Season DayNum Target TeamID.x TeamID.y OScoreSum OFGMSum OFGASum OFGM3Sum\n",
       "1 2014   4      1      1119     1154     -3        -1      -4       6      \n",
       "2 2014   4      1      1184     1244     26         8       1       5      \n",
       "3 2014   4      1      1218     1444     15         4       4      -5      \n",
       "4 2014   4      1      1258     1355      8         4       6      -1      \n",
       "5 2014   4      1      1308     1398      9        -2      -2       0      \n",
       "6 2014   4      0      1213     1360      1        -1      -1      -4      \n",
       "  OFGA3Sum ⋯ DFTAAvg DORAvg DDRAvg DAstAvg DTOAvg DStlAvg DBlkAvg DPFAvg DWAvg\n",
       "1 23       ⋯   6     -13      3     2       7     -7      -5      -2      0   \n",
       "2  8       ⋯  14       6     -1    -1       1     -5      -1       1     -1   \n",
       "3 -6       ⋯ -23     -16     -3    -1       5     -1      -2       5      0   \n",
       "4 -5       ⋯  -2       0     -3    -1       0     -6       1      -1     -1   \n",
       "5 -4       ⋯ -17      -4    -13    -6       1     -7      -2       9      0   \n",
       "6 -3       ⋯   0       5     -5    -3      -1     -2      -2       0      1   \n",
       "  DLAvg\n",
       "1  0   \n",
       "2  1   \n",
       "3  0   \n",
       "4  1   \n",
       "5  0   \n",
       "6 -1   "
      ]
     },
     "metadata": {},
     "output_type": "display_data"
    }
   ],
   "source": [
    "df.ratingdelta %>% head"
   ]
  },
  {
   "cell_type": "code",
   "execution_count": 39,
   "metadata": {},
   "outputs": [
    {
     "data": {
      "text/html": [
       "<table>\n",
       "<thead><tr><th scope=col>Season</th><th scope=col>DayNum</th><th scope=col>Target</th><th scope=col>TeamID.x</th><th scope=col>TeamID.y</th><th scope=col>OScoreSum</th><th scope=col>OFGMSum</th><th scope=col>OFGASum</th><th scope=col>OFGM3Sum</th><th scope=col>OFGA3Sum</th><th scope=col>⋯</th><th scope=col>DORAvg</th><th scope=col>DDRAvg</th><th scope=col>DAstAvg</th><th scope=col>DTOAvg</th><th scope=col>DStlAvg</th><th scope=col>DBlkAvg</th><th scope=col>DPFAvg</th><th scope=col>DWAvg</th><th scope=col>DLAvg</th><th scope=col>pos</th></tr></thead>\n",
       "<tbody>\n",
       "\t<tr><td>2016     </td><td>116      </td><td>1        </td><td>1255     </td><td>1347     </td><td>1904     </td><td>679      </td><td>1533     </td><td>188      </td><td>529      </td><td>⋯        </td><td>10.03704 </td><td>25.07407 </td><td>15.37037 </td><td>12.25926 </td><td>7.333333 </td><td>2.888889 </td><td>19.11111 </td><td>0.8148148</td><td>0.1851852</td><td>1        </td></tr>\n",
       "</tbody>\n",
       "</table>\n"
      ],
      "text/latex": [
       "\\begin{tabular}{r|llllllllllllllllllllllllllllllllllllllllllllllllllllllllllllllllllllllll}\n",
       " Season & DayNum & Target & TeamID.x & TeamID.y & OScoreSum & OFGMSum & OFGASum & OFGM3Sum & OFGA3Sum & ⋯ & DORAvg & DDRAvg & DAstAvg & DTOAvg & DStlAvg & DBlkAvg & DPFAvg & DWAvg & DLAvg & pos\\\\\n",
       "\\hline\n",
       "\t 2016      & 116       & 1         & 1255      & 1347      & 1904      & 679       & 1533      & 188       & 529       & ⋯         & 10.03704  & 25.07407  & 15.37037  & 12.25926  & 7.333333  & 2.888889  & 19.11111  & 0.8148148 & 0.1851852 & 1        \\\\\n",
       "\\end{tabular}\n"
      ],
      "text/markdown": [
       "\n",
       "| Season | DayNum | Target | TeamID.x | TeamID.y | OScoreSum | OFGMSum | OFGASum | OFGM3Sum | OFGA3Sum | ⋯ | DORAvg | DDRAvg | DAstAvg | DTOAvg | DStlAvg | DBlkAvg | DPFAvg | DWAvg | DLAvg | pos |\n",
       "|---|---|---|---|---|---|---|---|---|---|---|---|---|---|---|---|---|---|---|---|---|\n",
       "| 2016      | 116       | 1         | 1255      | 1347      | 1904      | 679       | 1533      | 188       | 529       | ⋯         | 10.03704  | 25.07407  | 15.37037  | 12.25926  | 7.333333  | 2.888889  | 19.11111  | 0.8148148 | 0.1851852 | 1         |\n",
       "\n"
      ],
      "text/plain": [
       "  Season DayNum Target TeamID.x TeamID.y OScoreSum OFGMSum OFGASum OFGM3Sum\n",
       "1 2016   116    1      1255     1347     1904      679     1533    188     \n",
       "  OFGA3Sum ⋯ DORAvg   DDRAvg   DAstAvg  DTOAvg   DStlAvg  DBlkAvg  DPFAvg  \n",
       "1 529      ⋯ 10.03704 25.07407 15.37037 12.25926 7.333333 2.888889 19.11111\n",
       "  DWAvg     DLAvg     pos\n",
       "1 0.8148148 0.1851852 1  "
      ]
     },
     "metadata": {},
     "output_type": "display_data"
    },
    {
     "data": {
      "text/html": [
       "<table>\n",
       "<thead><tr><th scope=col>Season</th><th scope=col>DayNum</th><th scope=col>Target</th><th scope=col>TeamID.x</th><th scope=col>TeamID.y</th><th scope=col>OScoreSum</th><th scope=col>OFGMSum</th><th scope=col>OFGASum</th><th scope=col>OFGM3Sum</th><th scope=col>OFGA3Sum</th><th scope=col>⋯</th><th scope=col>DORAvg</th><th scope=col>DDRAvg</th><th scope=col>DAstAvg</th><th scope=col>DTOAvg</th><th scope=col>DStlAvg</th><th scope=col>DBlkAvg</th><th scope=col>DPFAvg</th><th scope=col>DWAvg</th><th scope=col>DLAvg</th><th scope=col>pos</th></tr></thead>\n",
       "<tbody>\n",
       "\t<tr><td>2016     </td><td>116      </td><td>1        </td><td>1255     </td><td>1347     </td><td>1930     </td><td>716      </td><td>1615     </td><td>184      </td><td>544      </td><td>⋯        </td><td>10.2963  </td><td>24.2963  </td><td>12.03704 </td><td>11.81481 </td><td>7.185185 </td><td>3.37037  </td><td>17.2963  </td><td>0.4814815</td><td>0.5185185</td><td>2        </td></tr>\n",
       "</tbody>\n",
       "</table>\n"
      ],
      "text/latex": [
       "\\begin{tabular}{r|llllllllllllllllllllllllllllllllllllllllllllllllllllllllllllllllllllllll}\n",
       " Season & DayNum & Target & TeamID.x & TeamID.y & OScoreSum & OFGMSum & OFGASum & OFGM3Sum & OFGA3Sum & ⋯ & DORAvg & DDRAvg & DAstAvg & DTOAvg & DStlAvg & DBlkAvg & DPFAvg & DWAvg & DLAvg & pos\\\\\n",
       "\\hline\n",
       "\t 2016      & 116       & 1         & 1255      & 1347      & 1930      & 716       & 1615      & 184       & 544       & ⋯         & 10.2963   & 24.2963   & 12.03704  & 11.81481  & 7.185185  & 3.37037   & 17.2963   & 0.4814815 & 0.5185185 & 2        \\\\\n",
       "\\end{tabular}\n"
      ],
      "text/markdown": [
       "\n",
       "| Season | DayNum | Target | TeamID.x | TeamID.y | OScoreSum | OFGMSum | OFGASum | OFGM3Sum | OFGA3Sum | ⋯ | DORAvg | DDRAvg | DAstAvg | DTOAvg | DStlAvg | DBlkAvg | DPFAvg | DWAvg | DLAvg | pos |\n",
       "|---|---|---|---|---|---|---|---|---|---|---|---|---|---|---|---|---|---|---|---|---|\n",
       "| 2016      | 116       | 1         | 1255      | 1347      | 1930      | 716       | 1615      | 184       | 544       | ⋯         | 10.2963   | 24.2963   | 12.03704  | 11.81481  | 7.185185  | 3.37037   | 17.2963   | 0.4814815 | 0.5185185 | 2         |\n",
       "\n"
      ],
      "text/plain": [
       "  Season DayNum Target TeamID.x TeamID.y OScoreSum OFGMSum OFGASum OFGM3Sum\n",
       "1 2016   116    1      1255     1347     1930      716     1615    184     \n",
       "  OFGA3Sum ⋯ DORAvg  DDRAvg  DAstAvg  DTOAvg   DStlAvg  DBlkAvg DPFAvg \n",
       "1 544      ⋯ 10.2963 24.2963 12.03704 11.81481 7.185185 3.37037 17.2963\n",
       "  DWAvg     DLAvg     pos\n",
       "1 0.4814815 0.5185185 2  "
      ]
     },
     "metadata": {},
     "output_type": "display_data"
    },
    {
     "data": {
      "text/html": [
       "<table>\n",
       "<thead><tr><th scope=col>Season</th><th scope=col>DayNum</th><th scope=col>Target</th><th scope=col>TeamID.x</th><th scope=col>TeamID.y</th><th scope=col>OScoreSum</th><th scope=col>OFGMSum</th><th scope=col>OFGASum</th><th scope=col>OFGM3Sum</th><th scope=col>OFGA3Sum</th><th scope=col>⋯</th><th scope=col>DFTAAvg</th><th scope=col>DORAvg</th><th scope=col>DDRAvg</th><th scope=col>DAstAvg</th><th scope=col>DTOAvg</th><th scope=col>DStlAvg</th><th scope=col>DBlkAvg</th><th scope=col>DPFAvg</th><th scope=col>DWAvg</th><th scope=col>DLAvg</th></tr></thead>\n",
       "<tbody>\n",
       "\t<tr><td>2016      </td><td>116       </td><td>1         </td><td>1255      </td><td>1347      </td><td>-26       </td><td>-37       </td><td>-82       </td><td>4         </td><td>-15       </td><td>⋯         </td><td>1.962963  </td><td>-0.2592593</td><td>0.7777778 </td><td>3.333333  </td><td>0.4444444 </td><td>0.1481481 </td><td>-0.4814815</td><td>1.814815  </td><td>0.3333333 </td><td>-0.3333333</td></tr>\n",
       "</tbody>\n",
       "</table>\n"
      ],
      "text/latex": [
       "\\begin{tabular}{r|lllllllllllllllllllllllllllllllllllllllllllllllllllllllllllllllllllllll}\n",
       " Season & DayNum & Target & TeamID.x & TeamID.y & OScoreSum & OFGMSum & OFGASum & OFGM3Sum & OFGA3Sum & ⋯ & DFTAAvg & DORAvg & DDRAvg & DAstAvg & DTOAvg & DStlAvg & DBlkAvg & DPFAvg & DWAvg & DLAvg\\\\\n",
       "\\hline\n",
       "\t 2016       & 116        & 1          & 1255       & 1347       & -26        & -37        & -82        & 4          & -15        & ⋯          & 1.962963   & -0.2592593 & 0.7777778  & 3.333333   & 0.4444444  & 0.1481481  & -0.4814815 & 1.814815   & 0.3333333  & -0.3333333\\\\\n",
       "\\end{tabular}\n"
      ],
      "text/markdown": [
       "\n",
       "| Season | DayNum | Target | TeamID.x | TeamID.y | OScoreSum | OFGMSum | OFGASum | OFGM3Sum | OFGA3Sum | ⋯ | DFTAAvg | DORAvg | DDRAvg | DAstAvg | DTOAvg | DStlAvg | DBlkAvg | DPFAvg | DWAvg | DLAvg |\n",
       "|---|---|---|---|---|---|---|---|---|---|---|---|---|---|---|---|---|---|---|---|---|\n",
       "| 2016       | 116        | 1          | 1255       | 1347       | -26        | -37        | -82        | 4          | -15        | ⋯          | 1.962963   | -0.2592593 | 0.7777778  | 3.333333   | 0.4444444  | 0.1481481  | -0.4814815 | 1.814815   | 0.3333333  | -0.3333333 |\n",
       "\n"
      ],
      "text/plain": [
       "  Season DayNum Target TeamID.x TeamID.y OScoreSum OFGMSum OFGASum OFGM3Sum\n",
       "1 2016   116    1      1255     1347     -26       -37     -82     4       \n",
       "  OFGA3Sum ⋯ DFTAAvg  DORAvg     DDRAvg    DAstAvg  DTOAvg    DStlAvg  \n",
       "1 -15      ⋯ 1.962963 -0.2592593 0.7777778 3.333333 0.4444444 0.1481481\n",
       "  DBlkAvg    DPFAvg   DWAvg     DLAvg     \n",
       "1 -0.4814815 1.814815 0.3333333 -0.3333333"
      ]
     },
     "metadata": {},
     "output_type": "display_data"
    }
   ],
   "source": [
    "group1 %>% filter(Season==2016,DayNum==116,TeamID.x==1255)\n",
    "group2 %>% filter(Season==2016,DayNum==116,TeamID.y==1347)\n",
    "df.ratingdelta %>% filter(Season==2016,DayNum==116,TeamID.x==1255)"
   ]
  },
  {
   "cell_type": "code",
   "execution_count": 40,
   "metadata": {},
   "outputs": [],
   "source": [
    "df.ratingdelta %>%\n",
    "    select(-Season,-DayNum,-TeamID.x,-TeamID.y) %>%\n",
    "    write.csv('kerasfiles/train.matchups.ODDeltaStats.csv',row.names=F)"
   ]
  },
  {
   "cell_type": "markdown",
   "metadata": {},
   "source": [
    "#### Tourney matchups"
   ]
  },
  {
   "cell_type": "code",
   "execution_count": 42,
   "metadata": {},
   "outputs": [],
   "source": [
    "# load the stats and keep 2014+\n",
    "data.tourney <- readRDS('datafiles_rds/NCAATourneyDetailedResults.rds')\n",
    "data.tourney %>% filter(Season>2013) -> data.tourney"
   ]
  },
  {
   "cell_type": "code",
   "execution_count": 43,
   "metadata": {},
   "outputs": [
    {
     "data": {
      "text/html": [
       "<table>\n",
       "<thead><tr><th scope=col>Season</th><th scope=col>n</th></tr></thead>\n",
       "<tbody>\n",
       "\t<tr><td>2014</td><td>67  </td></tr>\n",
       "\t<tr><td>2015</td><td>67  </td></tr>\n",
       "\t<tr><td>2016</td><td>67  </td></tr>\n",
       "\t<tr><td>2017</td><td>67  </td></tr>\n",
       "\t<tr><td>2018</td><td>67  </td></tr>\n",
       "</tbody>\n",
       "</table>\n"
      ],
      "text/latex": [
       "\\begin{tabular}{r|ll}\n",
       " Season & n\\\\\n",
       "\\hline\n",
       "\t 2014 & 67  \\\\\n",
       "\t 2015 & 67  \\\\\n",
       "\t 2016 & 67  \\\\\n",
       "\t 2017 & 67  \\\\\n",
       "\t 2018 & 67  \\\\\n",
       "\\end{tabular}\n"
      ],
      "text/markdown": [
       "\n",
       "| Season | n |\n",
       "|---|---|\n",
       "| 2014 | 67   |\n",
       "| 2015 | 67   |\n",
       "| 2016 | 67   |\n",
       "| 2017 | 67   |\n",
       "| 2018 | 67   |\n",
       "\n"
      ],
      "text/plain": [
       "  Season n \n",
       "1 2014   67\n",
       "2 2015   67\n",
       "3 2016   67\n",
       "4 2017   67\n",
       "5 2018   67"
      ]
     },
     "metadata": {},
     "output_type": "display_data"
    }
   ],
   "source": [
    "data.tourney %>% group_by(Season) %>% summarise(n=n())"
   ]
  },
  {
   "cell_type": "code",
   "execution_count": 44,
   "metadata": {},
   "outputs": [],
   "source": [
    "data.test.matchups <- readRDS('datafiles_rds/TourneyMatchups.rds')"
   ]
  },
  {
   "cell_type": "code",
   "execution_count": 45,
   "metadata": {},
   "outputs": [
    {
     "data": {
      "text/html": [
       "<table>\n",
       "<thead><tr><th scope=col>ID</th><th scope=col>Season</th><th scope=col>DayNum</th><th scope=col>TeamID.x</th><th scope=col>TeamID.y</th></tr></thead>\n",
       "<tbody>\n",
       "\t<tr><td>2018_1120_1281</td><td>2018          </td><td>140           </td><td>1120          </td><td>1281          </td></tr>\n",
       "\t<tr><td>2017_1245_1423</td><td>2017          </td><td>140           </td><td>1245          </td><td>1423          </td></tr>\n",
       "\t<tr><td>2017_1308_1407</td><td>2017          </td><td>140           </td><td>1308          </td><td>1407          </td></tr>\n",
       "\t<tr><td>2014_1291_1344</td><td>2014          </td><td>140           </td><td>1291          </td><td>1344          </td></tr>\n",
       "\t<tr><td>2017_1343_1437</td><td>2017          </td><td>140           </td><td>1343          </td><td>1437          </td></tr>\n",
       "</tbody>\n",
       "</table>\n"
      ],
      "text/latex": [
       "\\begin{tabular}{r|lllll}\n",
       " ID & Season & DayNum & TeamID.x & TeamID.y\\\\\n",
       "\\hline\n",
       "\t 2018\\_1120\\_1281 & 2018               & 140                & 1120               & 1281              \\\\\n",
       "\t 2017\\_1245\\_1423 & 2017               & 140                & 1245               & 1423              \\\\\n",
       "\t 2017\\_1308\\_1407 & 2017               & 140                & 1308               & 1407              \\\\\n",
       "\t 2014\\_1291\\_1344 & 2014               & 140                & 1291               & 1344              \\\\\n",
       "\t 2017\\_1343\\_1437 & 2017               & 140                & 1343               & 1437              \\\\\n",
       "\\end{tabular}\n"
      ],
      "text/markdown": [
       "\n",
       "| ID | Season | DayNum | TeamID.x | TeamID.y |\n",
       "|---|---|---|---|---|\n",
       "| 2018_1120_1281 | 2018           | 140            | 1120           | 1281           |\n",
       "| 2017_1245_1423 | 2017           | 140            | 1245           | 1423           |\n",
       "| 2017_1308_1407 | 2017           | 140            | 1308           | 1407           |\n",
       "| 2014_1291_1344 | 2014           | 140            | 1291           | 1344           |\n",
       "| 2017_1343_1437 | 2017           | 140            | 1343           | 1437           |\n",
       "\n"
      ],
      "text/plain": [
       "  ID             Season DayNum TeamID.x TeamID.y\n",
       "1 2018_1120_1281 2018   140    1120     1281    \n",
       "2 2017_1245_1423 2017   140    1245     1423    \n",
       "3 2017_1308_1407 2017   140    1308     1407    \n",
       "4 2014_1291_1344 2014   140    1291     1344    \n",
       "5 2017_1343_1437 2017   140    1343     1437    "
      ]
     },
     "metadata": {},
     "output_type": "display_data"
    }
   ],
   "source": [
    "# tourney season matchups\n",
    "data.test.matchups %>% \n",
    "    mutate(ID=str_c(Season,'_',TeamID.x,'_',TeamID.y)) %>%\n",
    "    mutate(DayNum=140) %>%\n",
    "    select(ID,Season,DayNum,TeamID.x,TeamID.y) -> test.matchups\n",
    "test.matchups %>% sample_n(5)"
   ]
  },
  {
   "cell_type": "code",
   "execution_count": 46,
   "metadata": {},
   "outputs": [
    {
     "data": {
      "text/html": [
       "<table>\n",
       "<thead><tr><th scope=col>ID</th><th scope=col>Tourney</th><th scope=col>Target</th></tr></thead>\n",
       "<tbody>\n",
       "\t<tr><td>2018_1314_1401</td><td>1             </td><td>0             </td></tr>\n",
       "\t<tr><td>2014_1277_1438</td><td>1             </td><td>1             </td></tr>\n",
       "\t<tr><td>2014_1235_1314</td><td>1             </td><td>1             </td></tr>\n",
       "\t<tr><td>2018_1196_1382</td><td>1             </td><td>1             </td></tr>\n",
       "\t<tr><td>2017_1124_1425</td><td>1             </td><td>1             </td></tr>\n",
       "</tbody>\n",
       "</table>\n"
      ],
      "text/latex": [
       "\\begin{tabular}{r|lll}\n",
       " ID & Tourney & Target\\\\\n",
       "\\hline\n",
       "\t 2018\\_1314\\_1401 & 1                  & 0                 \\\\\n",
       "\t 2014\\_1277\\_1438 & 1                  & 1                 \\\\\n",
       "\t 2014\\_1235\\_1314 & 1                  & 1                 \\\\\n",
       "\t 2018\\_1196\\_1382 & 1                  & 1                 \\\\\n",
       "\t 2017\\_1124\\_1425 & 1                  & 1                 \\\\\n",
       "\\end{tabular}\n"
      ],
      "text/markdown": [
       "\n",
       "| ID | Tourney | Target |\n",
       "|---|---|---|\n",
       "| 2018_1314_1401 | 1              | 0              |\n",
       "| 2014_1277_1438 | 1              | 1              |\n",
       "| 2014_1235_1314 | 1              | 1              |\n",
       "| 2018_1196_1382 | 1              | 1              |\n",
       "| 2017_1124_1425 | 1              | 1              |\n",
       "\n"
      ],
      "text/plain": [
       "  ID             Tourney Target\n",
       "1 2018_1314_1401 1       0     \n",
       "2 2014_1277_1438 1       1     \n",
       "3 2014_1235_1314 1       1     \n",
       "4 2018_1196_1382 1       1     \n",
       "5 2017_1124_1425 1       1     "
      ]
     },
     "metadata": {},
     "output_type": "display_data"
    }
   ],
   "source": [
    "# tourney season truth\n",
    "data.tourney %>% \n",
    "    mutate(TeamID.x=ifelse(WTeamID<LTeamID,WTeamID,LTeamID),\n",
    "           TeamID.y=ifelse(WTeamID>LTeamID,WTeamID,LTeamID)) %>%\n",
    "    mutate(Target=ifelse(WTeamID<LTeamID,1,0)) %>%\n",
    "    mutate(ID=str_c(Season,'_',TeamID.x,'_',TeamID.y)) %>%\n",
    "    mutate(Tourney=1) %>%\n",
    "    select(ID,Tourney,Target) -> test.truth\n",
    "test.truth %>% sample_n(5)"
   ]
  },
  {
   "cell_type": "code",
   "execution_count": 47,
   "metadata": {},
   "outputs": [],
   "source": [
    "test.matchups %>%\n",
    "    left_join(test.truth,by='ID') %>% \n",
    "    mutate_which(is.na(Target),Target=0,Tourney=0) -> test.matchups"
   ]
  },
  {
   "cell_type": "code",
   "execution_count": 48,
   "metadata": {},
   "outputs": [
    {
     "data": {
      "text/html": [
       "<table>\n",
       "<thead><tr><th scope=col>Season</th><th scope=col>n</th></tr></thead>\n",
       "<tbody>\n",
       "\t<tr><td>2014</td><td>2278</td></tr>\n",
       "\t<tr><td>2015</td><td>2278</td></tr>\n",
       "\t<tr><td>2016</td><td>2278</td></tr>\n",
       "\t<tr><td>2017</td><td>2278</td></tr>\n",
       "\t<tr><td>2018</td><td>2278</td></tr>\n",
       "</tbody>\n",
       "</table>\n"
      ],
      "text/latex": [
       "\\begin{tabular}{r|ll}\n",
       " Season & n\\\\\n",
       "\\hline\n",
       "\t 2014 & 2278\\\\\n",
       "\t 2015 & 2278\\\\\n",
       "\t 2016 & 2278\\\\\n",
       "\t 2017 & 2278\\\\\n",
       "\t 2018 & 2278\\\\\n",
       "\\end{tabular}\n"
      ],
      "text/markdown": [
       "\n",
       "| Season | n |\n",
       "|---|---|\n",
       "| 2014 | 2278 |\n",
       "| 2015 | 2278 |\n",
       "| 2016 | 2278 |\n",
       "| 2017 | 2278 |\n",
       "| 2018 | 2278 |\n",
       "\n"
      ],
      "text/plain": [
       "  Season n   \n",
       "1 2014   2278\n",
       "2 2015   2278\n",
       "3 2016   2278\n",
       "4 2017   2278\n",
       "5 2018   2278"
      ]
     },
     "metadata": {},
     "output_type": "display_data"
    }
   ],
   "source": [
    "test.matchups %>% group_by(Season) %>% summarise(n=n())"
   ]
  },
  {
   "cell_type": "code",
   "execution_count": 49,
   "metadata": {},
   "outputs": [
    {
     "data": {
      "text/html": [
       "<table>\n",
       "<thead><tr><th scope=col>ID</th><th scope=col>Season</th><th scope=col>DayNum</th><th scope=col>TeamID.x</th><th scope=col>TeamID.y</th><th scope=col>Tourney</th><th scope=col>Target</th><th scope=col>OScoreSum.x</th><th scope=col>OFGMSum.x</th><th scope=col>OFGASum.x</th><th scope=col>⋯</th><th scope=col>DFTAAvg.y</th><th scope=col>DORAvg.y</th><th scope=col>DDRAvg.y</th><th scope=col>DAstAvg.y</th><th scope=col>DTOAvg.y</th><th scope=col>DStlAvg.y</th><th scope=col>DBlkAvg.y</th><th scope=col>DPFAvg.y</th><th scope=col>DWAvg.y</th><th scope=col>DLAvg.y</th></tr></thead>\n",
       "<tbody>\n",
       "\t<tr><td>2016_1201_1403</td><td>2016          </td><td>140           </td><td>1201          </td><td>1403          </td><td>0             </td><td>0             </td><td>2388          </td><td> 836          </td><td>1942          </td><td>⋯             </td><td>18.90323      </td><td>11.483871     </td><td>22.22581      </td><td>11.22581      </td><td>12.77419      </td><td>6.354839      </td><td>3.290323      </td><td>21.09677      </td><td>0.3870968     </td><td>0.6129032     </td></tr>\n",
       "\t<tr><td>2018_1181_1452</td><td>2018          </td><td>140           </td><td>1181          </td><td>1452          </td><td>0             </td><td>0             </td><td>2795          </td><td>1008          </td><td>2044          </td><td>⋯             </td><td>23.38235      </td><td>10.235294     </td><td>24.23529      </td><td>12.23529      </td><td>16.50000      </td><td>5.470588      </td><td>3.941176      </td><td>18.76471      </td><td>0.2941176     </td><td>0.7058824     </td></tr>\n",
       "\t<tr><td>2015_1246_1372</td><td>2015          </td><td>140           </td><td>1246          </td><td>1372          </td><td>0             </td><td>0             </td><td>2547          </td><td> 883          </td><td>1884          </td><td>⋯             </td><td>24.33333      </td><td> 9.533333     </td><td>19.83333      </td><td>10.43333      </td><td>16.56667      </td><td>5.766667      </td><td>3.433333      </td><td>21.50000      </td><td>0.1333333     </td><td>0.8666667     </td></tr>\n",
       "\t<tr><td>2014_1264_1344</td><td>2014          </td><td>140           </td><td>1264          </td><td>1344          </td><td>0             </td><td>0             </td><td>2476          </td><td> 805          </td><td>1786          </td><td>⋯             </td><td>19.64706      </td><td>10.382353     </td><td>22.61765      </td><td>11.97059      </td><td>11.00000      </td><td>5.676471      </td><td>3.176471      </td><td>19.70588      </td><td>0.3235294     </td><td>0.6764706     </td></tr>\n",
       "\t<tr><td>2015_1412_1452</td><td>2015          </td><td>140           </td><td>1412          </td><td>1452          </td><td>0             </td><td>0             </td><td>2247          </td><td> 782          </td><td>1827          </td><td>⋯             </td><td>26.03125      </td><td> 8.906250     </td><td>24.31250      </td><td>11.68750      </td><td>19.62500      </td><td>5.781250      </td><td>4.031250      </td><td>22.46875      </td><td>0.2812500     </td><td>0.7187500     </td></tr>\n",
       "</tbody>\n",
       "</table>\n"
      ],
      "text/latex": [
       "\\begin{tabular}{r|lllllllllllllllllllllllllllllllllllllllllllllllllllllllllllllllllllllllllllllllllllllllllllllllllllllllllllllllllllllllllllllllllllllllllll}\n",
       " ID & Season & DayNum & TeamID.x & TeamID.y & Tourney & Target & OScoreSum.x & OFGMSum.x & OFGASum.x & ⋯ & DFTAAvg.y & DORAvg.y & DDRAvg.y & DAstAvg.y & DTOAvg.y & DStlAvg.y & DBlkAvg.y & DPFAvg.y & DWAvg.y & DLAvg.y\\\\\n",
       "\\hline\n",
       "\t 2016\\_1201\\_1403 & 2016               & 140                & 1201               & 1403               & 0                  & 0                  & 2388               &  836               & 1942               & ⋯                  & 18.90323           & 11.483871          & 22.22581           & 11.22581           & 12.77419           & 6.354839           & 3.290323           & 21.09677           & 0.3870968          & 0.6129032         \\\\\n",
       "\t 2018\\_1181\\_1452 & 2018               & 140                & 1181               & 1452               & 0                  & 0                  & 2795               & 1008               & 2044               & ⋯                  & 23.38235           & 10.235294          & 24.23529           & 12.23529           & 16.50000           & 5.470588           & 3.941176           & 18.76471           & 0.2941176          & 0.7058824         \\\\\n",
       "\t 2015\\_1246\\_1372 & 2015               & 140                & 1246               & 1372               & 0                  & 0                  & 2547               &  883               & 1884               & ⋯                  & 24.33333           &  9.533333          & 19.83333           & 10.43333           & 16.56667           & 5.766667           & 3.433333           & 21.50000           & 0.1333333          & 0.8666667         \\\\\n",
       "\t 2014\\_1264\\_1344 & 2014               & 140                & 1264               & 1344               & 0                  & 0                  & 2476               &  805               & 1786               & ⋯                  & 19.64706           & 10.382353          & 22.61765           & 11.97059           & 11.00000           & 5.676471           & 3.176471           & 19.70588           & 0.3235294          & 0.6764706         \\\\\n",
       "\t 2015\\_1412\\_1452 & 2015               & 140                & 1412               & 1452               & 0                  & 0                  & 2247               &  782               & 1827               & ⋯                  & 26.03125           &  8.906250          & 24.31250           & 11.68750           & 19.62500           & 5.781250           & 4.031250           & 22.46875           & 0.2812500          & 0.7187500         \\\\\n",
       "\\end{tabular}\n"
      ],
      "text/markdown": [
       "\n",
       "| ID | Season | DayNum | TeamID.x | TeamID.y | Tourney | Target | OScoreSum.x | OFGMSum.x | OFGASum.x | ⋯ | DFTAAvg.y | DORAvg.y | DDRAvg.y | DAstAvg.y | DTOAvg.y | DStlAvg.y | DBlkAvg.y | DPFAvg.y | DWAvg.y | DLAvg.y |\n",
       "|---|---|---|---|---|---|---|---|---|---|---|---|---|---|---|---|---|---|---|---|---|\n",
       "| 2016_1201_1403 | 2016           | 140            | 1201           | 1403           | 0              | 0              | 2388           |  836           | 1942           | ⋯              | 18.90323       | 11.483871      | 22.22581       | 11.22581       | 12.77419       | 6.354839       | 3.290323       | 21.09677       | 0.3870968      | 0.6129032      |\n",
       "| 2018_1181_1452 | 2018           | 140            | 1181           | 1452           | 0              | 0              | 2795           | 1008           | 2044           | ⋯              | 23.38235       | 10.235294      | 24.23529       | 12.23529       | 16.50000       | 5.470588       | 3.941176       | 18.76471       | 0.2941176      | 0.7058824      |\n",
       "| 2015_1246_1372 | 2015           | 140            | 1246           | 1372           | 0              | 0              | 2547           |  883           | 1884           | ⋯              | 24.33333       |  9.533333      | 19.83333       | 10.43333       | 16.56667       | 5.766667       | 3.433333       | 21.50000       | 0.1333333      | 0.8666667      |\n",
       "| 2014_1264_1344 | 2014           | 140            | 1264           | 1344           | 0              | 0              | 2476           |  805           | 1786           | ⋯              | 19.64706       | 10.382353      | 22.61765       | 11.97059       | 11.00000       | 5.676471       | 3.176471       | 19.70588       | 0.3235294      | 0.6764706      |\n",
       "| 2015_1412_1452 | 2015           | 140            | 1412           | 1452           | 0              | 0              | 2247           |  782           | 1827           | ⋯              | 26.03125       |  8.906250      | 24.31250       | 11.68750       | 19.62500       | 5.781250       | 4.031250       | 22.46875       | 0.2812500      | 0.7187500      |\n",
       "\n"
      ],
      "text/plain": [
       "  ID             Season DayNum TeamID.x TeamID.y Tourney Target OScoreSum.x\n",
       "1 2016_1201_1403 2016   140    1201     1403     0       0      2388       \n",
       "2 2018_1181_1452 2018   140    1181     1452     0       0      2795       \n",
       "3 2015_1246_1372 2015   140    1246     1372     0       0      2547       \n",
       "4 2014_1264_1344 2014   140    1264     1344     0       0      2476       \n",
       "5 2015_1412_1452 2015   140    1412     1452     0       0      2247       \n",
       "  OFGMSum.x OFGASum.x ⋯ DFTAAvg.y DORAvg.y  DDRAvg.y DAstAvg.y DTOAvg.y\n",
       "1  836      1942      ⋯ 18.90323  11.483871 22.22581 11.22581  12.77419\n",
       "2 1008      2044      ⋯ 23.38235  10.235294 24.23529 12.23529  16.50000\n",
       "3  883      1884      ⋯ 24.33333   9.533333 19.83333 10.43333  16.56667\n",
       "4  805      1786      ⋯ 19.64706  10.382353 22.61765 11.97059  11.00000\n",
       "5  782      1827      ⋯ 26.03125   8.906250 24.31250 11.68750  19.62500\n",
       "  DStlAvg.y DBlkAvg.y DPFAvg.y DWAvg.y   DLAvg.y  \n",
       "1 6.354839  3.290323  21.09677 0.3870968 0.6129032\n",
       "2 5.470588  3.941176  18.76471 0.2941176 0.7058824\n",
       "3 5.766667  3.433333  21.50000 0.1333333 0.8666667\n",
       "4 5.676471  3.176471  19.70588 0.3235294 0.6764706\n",
       "5 5.781250  4.031250  22.46875 0.2812500 0.7187500"
      ]
     },
     "metadata": {},
     "output_type": "display_data"
    }
   ],
   "source": [
    "# tourney matchups features\n",
    "test.matchups %>%\n",
    "    left_join(teams.stats.cumul,by=c('Season','DayNum','TeamID.x'='TeamID')) %>% \n",
    "    rename_all(list(~str_replace(.,'Sum$','Sum.x'))) %>%\n",
    "    rename_all(list(~str_replace(.,'Avg$','Avg.x'))) %>%\n",
    "    left_join(teams.stats.cumul,by=c('Season','DayNum','TeamID.y'='TeamID')) %>% \n",
    "    rename_all(list(~str_replace(.,'Sum$','Sum.y'))) %>%\n",
    "    rename_all(list(~str_replace(.,'Avg$','Avg.y'))) %>%\n",
    "    na.omit() -> test.matchups.features\n",
    "test.matchups.features %>% sample_n(5)"
   ]
  },
  {
   "cell_type": "code",
   "execution_count": 50,
   "metadata": {},
   "outputs": [
    {
     "data": {
      "text/html": [
       "<table>\n",
       "<thead><tr><th scope=col>Season</th><th scope=col>n</th></tr></thead>\n",
       "<tbody>\n",
       "\t<tr><td>2014</td><td>2278</td></tr>\n",
       "\t<tr><td>2015</td><td>2278</td></tr>\n",
       "\t<tr><td>2016</td><td>2278</td></tr>\n",
       "\t<tr><td>2017</td><td>2278</td></tr>\n",
       "\t<tr><td>2018</td><td>2278</td></tr>\n",
       "</tbody>\n",
       "</table>\n"
      ],
      "text/latex": [
       "\\begin{tabular}{r|ll}\n",
       " Season & n\\\\\n",
       "\\hline\n",
       "\t 2014 & 2278\\\\\n",
       "\t 2015 & 2278\\\\\n",
       "\t 2016 & 2278\\\\\n",
       "\t 2017 & 2278\\\\\n",
       "\t 2018 & 2278\\\\\n",
       "\\end{tabular}\n"
      ],
      "text/markdown": [
       "\n",
       "| Season | n |\n",
       "|---|---|\n",
       "| 2014 | 2278 |\n",
       "| 2015 | 2278 |\n",
       "| 2016 | 2278 |\n",
       "| 2017 | 2278 |\n",
       "| 2018 | 2278 |\n",
       "\n"
      ],
      "text/plain": [
       "  Season n   \n",
       "1 2014   2278\n",
       "2 2015   2278\n",
       "3 2016   2278\n",
       "4 2017   2278\n",
       "5 2018   2278"
      ]
     },
     "metadata": {},
     "output_type": "display_data"
    }
   ],
   "source": [
    "test.matchups %>% group_by(Season) %>% summarise(n=n())"
   ]
  },
  {
   "cell_type": "code",
   "execution_count": 51,
   "metadata": {},
   "outputs": [
    {
     "name": "stdout",
     "output_type": "stream",
     "text": [
      "11390 139 \n",
      "ID Season DayNum TeamID.x TeamID.y Tourney Target OScoreSum.x OFGMSum.x OFGASum.x OFGM3Sum.x OFGA3Sum.x OFTMSum.x OFTASum.x OORSum.x ODRSum.x OAstSum.x OTOSum.x OStlSum.x OBlkSum.x OPFSum.x OWSum.x OLSum.x DayNumSum.x DScoreSum.x DFGMSum.x DFGASum.x DFGM3Sum.x DFGA3Sum.x DFTMSum.x DFTASum.x DORSum.x DDRSum.x DAstSum.x DTOSum.x DStlSum.x DBlkSum.x DPFSum.x DWSum.x DLSum.x OScoreAvg.x OFGMAvg.x OFGAAvg.x OFGM3Avg.x OFGA3Avg.x OFTMAvg.x OFTAAvg.x OORAvg.x ODRAvg.x OAstAvg.x OTOAvg.x OStlAvg.x OBlkAvg.x OPFAvg.x OWAvg.x OLAvg.x DayNumAvg.x DScoreAvg.x DFGMAvg.x DFGAAvg.x DFGM3Avg.x DFGA3Avg.x DFTMAvg.x DFTAAvg.x DORAvg.x DDRAvg.x DAstAvg.x DTOAvg.x DStlAvg.x DBlkAvg.x DPFAvg.x DWAvg.x DLAvg.x OScoreSum.y OFGMSum.y OFGASum.y OFGM3Sum.y OFGA3Sum.y OFTMSum.y OFTASum.y OORSum.y ODRSum.y OAstSum.y OTOSum.y OStlSum.y OBlkSum.y OPFSum.y OWSum.y OLSum.y DayNumSum.y DScoreSum.y DFGMSum.y DFGASum.y DFGM3Sum.y DFGA3Sum.y DFTMSum.y DFTASum.y DORSum.y DDRSum.y DAstSum.y DTOSum.y DStlSum.y DBlkSum.y DPFSum.y DWSum.y DLSum.y OScoreAvg.y OFGMAvg.y OFGAAvg.y OFGM3Avg.y OFGA3Avg.y OFTMAvg.y OFTAAvg.y OORAvg.y ODRAvg.y OAstAvg.y OTOAvg.y OStlAvg.y OBlkAvg.y OPFAvg.y OWAvg.y OLAvg.y DayNumAvg.y DScoreAvg.y DFGMAvg.y DFGAAvg.y DFGM3Avg.y DFGA3Avg.y DFTMAvg.y DFTAAvg.y DORAvg.y DDRAvg.y DAstAvg.y DTOAvg.y DStlAvg.y DBlkAvg.y DPFAvg.y DWAvg.y DLAvg.y \n"
     ]
    }
   ],
   "source": [
    "dim(test.matchups.features) %>% cat('\\n')\n",
    "test.matchups.features %>% colnames %>% cat('\\n')"
   ]
  },
  {
   "cell_type": "code",
   "execution_count": 119,
   "metadata": {},
   "outputs": [],
   "source": [
    "test.matchups.features %>%\n",
    "    select(-Season,-DayNum,-TeamID.x,-TeamID.y) %>%\n",
    "    write.csv('kerasfiles/test.matchups.ODstats.csv',row.names=F)"
   ]
  },
  {
   "cell_type": "markdown",
   "metadata": {},
   "source": [
    "#### Delta Ratings"
   ]
  },
  {
   "cell_type": "code",
   "execution_count": 52,
   "metadata": {},
   "outputs": [],
   "source": [
    "test.matchups %>% \n",
    "    inner_join(teams.stats.cumul,by=c('Season','DayNum','TeamID.x'='TeamID')) %>%\n",
    "    mutate(pos=1) -> group1\n",
    "test.matchups %>% \n",
    "    inner_join(teams.stats.cumul,by=c('Season','DayNum','TeamID.y'='TeamID')) %>%\n",
    "    mutate(pos=2) -> group2\n",
    "group1 %>% \n",
    "    bind_rows(group2) %>% \n",
    "    arrange(pos) %>% \n",
    "    group_by(Season,DayNum,TeamID.x,TeamID.y) %>% \n",
    "    mutate_at(vars(OScoreSum:DLAvg),list(~lag(.)-.)) %>% \n",
    "    ungroup %>% \n",
    "    filter(pos==2) %>%\n",
    "    na.omit() %>%\n",
    "    select(-pos) -> df.ratingdelta"
   ]
  },
  {
   "cell_type": "code",
   "execution_count": 53,
   "metadata": {},
   "outputs": [
    {
     "data": {
      "text/html": [
       "<table>\n",
       "<thead><tr><th scope=col>ID</th><th scope=col>Season</th><th scope=col>DayNum</th><th scope=col>TeamID.x</th><th scope=col>TeamID.y</th><th scope=col>Tourney</th><th scope=col>Target</th><th scope=col>OScoreSum</th><th scope=col>OFGMSum</th><th scope=col>OFGASum</th><th scope=col>⋯</th><th scope=col>DFTAAvg</th><th scope=col>DORAvg</th><th scope=col>DDRAvg</th><th scope=col>DAstAvg</th><th scope=col>DTOAvg</th><th scope=col>DStlAvg</th><th scope=col>DBlkAvg</th><th scope=col>DPFAvg</th><th scope=col>DWAvg</th><th scope=col>DLAvg</th></tr></thead>\n",
       "<tbody>\n",
       "\t<tr><td>2014_1107_1301</td><td>2014          </td><td>140           </td><td>1107          </td><td>1301          </td><td>0             </td><td>0             </td><td>-294          </td><td>-175          </td><td>-312          </td><td>⋯             </td><td>-7.9503676    </td><td>-2.79779412   </td><td>-0.78860294   </td><td>1.0790441     </td><td> 0.4393382    </td><td> 0.10845588   </td><td>-0.498161765  </td><td>-0.16176471   </td><td> 0.05514706   </td><td>-0.05514706   </td></tr>\n",
       "\t<tr><td>2014_1107_1142</td><td>2014          </td><td>140           </td><td>1107          </td><td>1142          </td><td>0             </td><td>0             </td><td> 253          </td><td>  66          </td><td>  20          </td><td>⋯             </td><td>-5.6229167    </td><td>-0.29583333   </td><td>-2.47291667   </td><td>0.1770833     </td><td> 1.1354167    </td><td> 1.31041667   </td><td>-0.568750000  </td><td> 3.61666667   </td><td>-0.19583333   </td><td> 0.19583333   </td></tr>\n",
       "\t<tr><td>2014_1107_1397</td><td>2014          </td><td>140           </td><td>1107          </td><td>1397          </td><td>0             </td><td>0             </td><td>-143          </td><td> -63          </td><td>-130          </td><td>⋯             </td><td>-1.8437500    </td><td> 0.40625000   </td><td> 0.75000000   </td><td>2.5312500     </td><td> 1.1250000    </td><td> 0.43750000   </td><td>-0.812500000  </td><td>-0.46875000   </td><td> 0.06250000   </td><td>-0.06250000   </td></tr>\n",
       "\t<tr><td>2014_1107_1163</td><td>2014          </td><td>140           </td><td>1107          </td><td>1163          </td><td>0             </td><td>0             </td><td>-330          </td><td>-111          </td><td>-214          </td><td>⋯             </td><td>-4.2444853    </td><td>-2.76838235   </td><td>-0.61213235   </td><td>0.8437500     </td><td>-0.9430147    </td><td>-0.06801471   </td><td>-0.233455882  </td><td> 0.77941176   </td><td> 0.20220588   </td><td>-0.20220588   </td></tr>\n",
       "\t<tr><td>2014_1107_1173</td><td>2014          </td><td>140           </td><td>1107          </td><td>1173          </td><td>0             </td><td>0             </td><td>-309          </td><td>-129          </td><td>-182          </td><td>⋯             </td><td>-6.7320076    </td><td> 0.48295455   </td><td>-0.07291667   </td><td>0.3740530     </td><td>-0.6676136    </td><td> 1.14678030   </td><td>-1.362689394  </td><td>-0.08333333   </td><td> 0.13446970   </td><td>-0.13446970   </td></tr>\n",
       "\t<tr><td>2014_1107_1196</td><td>2014          </td><td>140           </td><td>1107          </td><td>1196          </td><td>1             </td><td>0             </td><td>-292          </td><td>-111          </td><td>-159          </td><td>⋯             </td><td>-0.9209559    </td><td> 0.05514706   </td><td> 0.62316176   </td><td>2.7261029     </td><td>-2.0018382    </td><td> 0.19669118   </td><td> 0.001838235  </td><td>-0.10294118   </td><td> 0.37867647   </td><td>-0.37867647   </td></tr>\n",
       "</tbody>\n",
       "</table>\n"
      ],
      "text/latex": [
       "\\begin{tabular}{r|lllllllllllllllllllllllllllllllllllllllllllllllllllllllllllllllllllllllll}\n",
       " ID & Season & DayNum & TeamID.x & TeamID.y & Tourney & Target & OScoreSum & OFGMSum & OFGASum & ⋯ & DFTAAvg & DORAvg & DDRAvg & DAstAvg & DTOAvg & DStlAvg & DBlkAvg & DPFAvg & DWAvg & DLAvg\\\\\n",
       "\\hline\n",
       "\t 2014\\_1107\\_1301 & 2014               & 140                & 1107               & 1301               & 0                  & 0                  & -294               & -175               & -312               & ⋯                  & -7.9503676         & -2.79779412        & -0.78860294        & 1.0790441          &  0.4393382         &  0.10845588        & -0.498161765       & -0.16176471        &  0.05514706        & -0.05514706       \\\\\n",
       "\t 2014\\_1107\\_1142 & 2014               & 140                & 1107               & 1142               & 0                  & 0                  &  253               &   66               &   20               & ⋯                  & -5.6229167         & -0.29583333        & -2.47291667        & 0.1770833          &  1.1354167         &  1.31041667        & -0.568750000       &  3.61666667        & -0.19583333        &  0.19583333       \\\\\n",
       "\t 2014\\_1107\\_1397 & 2014               & 140                & 1107               & 1397               & 0                  & 0                  & -143               &  -63               & -130               & ⋯                  & -1.8437500         &  0.40625000        &  0.75000000        & 2.5312500          &  1.1250000         &  0.43750000        & -0.812500000       & -0.46875000        &  0.06250000        & -0.06250000       \\\\\n",
       "\t 2014\\_1107\\_1163 & 2014               & 140                & 1107               & 1163               & 0                  & 0                  & -330               & -111               & -214               & ⋯                  & -4.2444853         & -2.76838235        & -0.61213235        & 0.8437500          & -0.9430147         & -0.06801471        & -0.233455882       &  0.77941176        &  0.20220588        & -0.20220588       \\\\\n",
       "\t 2014\\_1107\\_1173 & 2014               & 140                & 1107               & 1173               & 0                  & 0                  & -309               & -129               & -182               & ⋯                  & -6.7320076         &  0.48295455        & -0.07291667        & 0.3740530          & -0.6676136         &  1.14678030        & -1.362689394       & -0.08333333        &  0.13446970        & -0.13446970       \\\\\n",
       "\t 2014\\_1107\\_1196 & 2014               & 140                & 1107               & 1196               & 1                  & 0                  & -292               & -111               & -159               & ⋯                  & -0.9209559         &  0.05514706        &  0.62316176        & 2.7261029          & -2.0018382         &  0.19669118        &  0.001838235       & -0.10294118        &  0.37867647        & -0.37867647       \\\\\n",
       "\\end{tabular}\n"
      ],
      "text/markdown": [
       "\n",
       "| ID | Season | DayNum | TeamID.x | TeamID.y | Tourney | Target | OScoreSum | OFGMSum | OFGASum | ⋯ | DFTAAvg | DORAvg | DDRAvg | DAstAvg | DTOAvg | DStlAvg | DBlkAvg | DPFAvg | DWAvg | DLAvg |\n",
       "|---|---|---|---|---|---|---|---|---|---|---|---|---|---|---|---|---|---|---|---|---|\n",
       "| 2014_1107_1301 | 2014           | 140            | 1107           | 1301           | 0              | 0              | -294           | -175           | -312           | ⋯              | -7.9503676     | -2.79779412    | -0.78860294    | 1.0790441      |  0.4393382     |  0.10845588    | -0.498161765   | -0.16176471    |  0.05514706    | -0.05514706    |\n",
       "| 2014_1107_1142 | 2014           | 140            | 1107           | 1142           | 0              | 0              |  253           |   66           |   20           | ⋯              | -5.6229167     | -0.29583333    | -2.47291667    | 0.1770833      |  1.1354167     |  1.31041667    | -0.568750000   |  3.61666667    | -0.19583333    |  0.19583333    |\n",
       "| 2014_1107_1397 | 2014           | 140            | 1107           | 1397           | 0              | 0              | -143           |  -63           | -130           | ⋯              | -1.8437500     |  0.40625000    |  0.75000000    | 2.5312500      |  1.1250000     |  0.43750000    | -0.812500000   | -0.46875000    |  0.06250000    | -0.06250000    |\n",
       "| 2014_1107_1163 | 2014           | 140            | 1107           | 1163           | 0              | 0              | -330           | -111           | -214           | ⋯              | -4.2444853     | -2.76838235    | -0.61213235    | 0.8437500      | -0.9430147     | -0.06801471    | -0.233455882   |  0.77941176    |  0.20220588    | -0.20220588    |\n",
       "| 2014_1107_1173 | 2014           | 140            | 1107           | 1173           | 0              | 0              | -309           | -129           | -182           | ⋯              | -6.7320076     |  0.48295455    | -0.07291667    | 0.3740530      | -0.6676136     |  1.14678030    | -1.362689394   | -0.08333333    |  0.13446970    | -0.13446970    |\n",
       "| 2014_1107_1196 | 2014           | 140            | 1107           | 1196           | 1              | 0              | -292           | -111           | -159           | ⋯              | -0.9209559     |  0.05514706    |  0.62316176    | 2.7261029      | -2.0018382     |  0.19669118    |  0.001838235   | -0.10294118    |  0.37867647    | -0.37867647    |\n",
       "\n"
      ],
      "text/plain": [
       "  ID             Season DayNum TeamID.x TeamID.y Tourney Target OScoreSum\n",
       "1 2014_1107_1301 2014   140    1107     1301     0       0      -294     \n",
       "2 2014_1107_1142 2014   140    1107     1142     0       0       253     \n",
       "3 2014_1107_1397 2014   140    1107     1397     0       0      -143     \n",
       "4 2014_1107_1163 2014   140    1107     1163     0       0      -330     \n",
       "5 2014_1107_1173 2014   140    1107     1173     0       0      -309     \n",
       "6 2014_1107_1196 2014   140    1107     1196     1       0      -292     \n",
       "  OFGMSum OFGASum ⋯ DFTAAvg    DORAvg      DDRAvg      DAstAvg   DTOAvg    \n",
       "1 -175    -312    ⋯ -7.9503676 -2.79779412 -0.78860294 1.0790441  0.4393382\n",
       "2   66      20    ⋯ -5.6229167 -0.29583333 -2.47291667 0.1770833  1.1354167\n",
       "3  -63    -130    ⋯ -1.8437500  0.40625000  0.75000000 2.5312500  1.1250000\n",
       "4 -111    -214    ⋯ -4.2444853 -2.76838235 -0.61213235 0.8437500 -0.9430147\n",
       "5 -129    -182    ⋯ -6.7320076  0.48295455 -0.07291667 0.3740530 -0.6676136\n",
       "6 -111    -159    ⋯ -0.9209559  0.05514706  0.62316176 2.7261029 -2.0018382\n",
       "  DStlAvg     DBlkAvg      DPFAvg      DWAvg       DLAvg      \n",
       "1  0.10845588 -0.498161765 -0.16176471  0.05514706 -0.05514706\n",
       "2  1.31041667 -0.568750000  3.61666667 -0.19583333  0.19583333\n",
       "3  0.43750000 -0.812500000 -0.46875000  0.06250000 -0.06250000\n",
       "4 -0.06801471 -0.233455882  0.77941176  0.20220588 -0.20220588\n",
       "5  1.14678030 -1.362689394 -0.08333333  0.13446970 -0.13446970\n",
       "6  0.19669118  0.001838235 -0.10294118  0.37867647 -0.37867647"
      ]
     },
     "metadata": {},
     "output_type": "display_data"
    }
   ],
   "source": [
    "df.ratingdelta %>% head"
   ]
  },
  {
   "cell_type": "code",
   "execution_count": 54,
   "metadata": {},
   "outputs": [
    {
     "data": {
      "text/html": [
       "<table>\n",
       "<thead><tr><th scope=col>ID</th><th scope=col>Season</th><th scope=col>DayNum</th><th scope=col>TeamID.x</th><th scope=col>TeamID.y</th><th scope=col>Tourney</th><th scope=col>Target</th><th scope=col>OScoreSum</th><th scope=col>OFGMSum</th><th scope=col>OFGASum</th><th scope=col>⋯</th><th scope=col>DFTAAvg</th><th scope=col>DORAvg</th><th scope=col>DDRAvg</th><th scope=col>DAstAvg</th><th scope=col>DTOAvg</th><th scope=col>DStlAvg</th><th scope=col>DBlkAvg</th><th scope=col>DPFAvg</th><th scope=col>DWAvg</th><th scope=col>DLAvg</th></tr></thead>\n",
       "<tbody>\n",
       "\t<tr><td>2018_1166_1254</td><td>2018          </td><td>140           </td><td>1166          </td><td>1254          </td><td>0             </td><td>0             </td><td>  72          </td><td> 70           </td><td> -17          </td><td>⋯             </td><td>-4.7302053    </td><td>-2.1260997    </td><td> 0.9540567    </td><td> 1.07233627   </td><td>-0.32649071   </td><td>-0.4447703    </td><td> 0.2385142    </td><td>-3.8152493    </td><td>-0.1300098    </td><td> 0.1300098    </td></tr>\n",
       "\t<tr><td>2018_1120_1401</td><td>2018          </td><td>140           </td><td>1120          </td><td>1401          </td><td>0             </td><td>0             </td><td> 268          </td><td>-19           </td><td>  36          </td><td>⋯             </td><td> 4.1875000    </td><td>-1.1875000    </td><td> 0.5937500    </td><td>-1.46875000   </td><td> 4.06250000   </td><td>-0.1875000    </td><td>-0.9375000    </td><td> 3.2187500    </td><td>-0.1562500    </td><td> 0.1562500    </td></tr>\n",
       "\t<tr><td>2015_1172_1344</td><td>2015          </td><td>140           </td><td>1172          </td><td>1344          </td><td>0             </td><td>0             </td><td>  58          </td><td> 36           </td><td> -34          </td><td>⋯             </td><td>-0.3090909    </td><td> 0.8696970    </td><td> 2.2454545    </td><td> 0.55151515   </td><td>-1.33030303   </td><td>-0.5636364    </td><td> 0.8454545    </td><td>-1.4212121    </td><td>-0.1000000    </td><td> 0.1000000    </td></tr>\n",
       "\t<tr><td>2018_1301_1355</td><td>2018          </td><td>140           </td><td>1301          </td><td>1355          </td><td>0             </td><td>0             </td><td>  98          </td><td> 94           </td><td> 158          </td><td>⋯             </td><td> 3.0125000    </td><td> 2.2645833    </td><td>-3.0041667    </td><td> 1.90625000   </td><td> 4.56666667   </td><td> 1.3187500    </td><td> 1.1979167    </td><td>-1.4354167    </td><td> 0.1437500    </td><td>-0.1437500    </td></tr>\n",
       "\t<tr><td>2017_1124_1277</td><td>2017          </td><td>140           </td><td>1124          </td><td>1277          </td><td>0             </td><td>0             </td><td>-147          </td><td>-51           </td><td>-105          </td><td>⋯             </td><td>-3.3313783    </td><td> 0.2737048    </td><td>-3.8465298    </td><td> 0.09090909   </td><td>-0.06451613   </td><td>-0.5259042    </td><td> 0.5200391    </td><td>-0.5826002    </td><td>-0.1984360    </td><td> 0.1984360    </td></tr>\n",
       "</tbody>\n",
       "</table>\n"
      ],
      "text/latex": [
       "\\begin{tabular}{r|lllllllllllllllllllllllllllllllllllllllllllllllllllllllllllllllllllllllll}\n",
       " ID & Season & DayNum & TeamID.x & TeamID.y & Tourney & Target & OScoreSum & OFGMSum & OFGASum & ⋯ & DFTAAvg & DORAvg & DDRAvg & DAstAvg & DTOAvg & DStlAvg & DBlkAvg & DPFAvg & DWAvg & DLAvg\\\\\n",
       "\\hline\n",
       "\t 2018\\_1166\\_1254 & 2018               & 140                & 1166               & 1254               & 0                  & 0                  &   72               &  70                &  -17               & ⋯                  & -4.7302053         & -2.1260997         &  0.9540567         &  1.07233627        & -0.32649071        & -0.4447703         &  0.2385142         & -3.8152493         & -0.1300098         &  0.1300098        \\\\\n",
       "\t 2018\\_1120\\_1401 & 2018               & 140                & 1120               & 1401               & 0                  & 0                  &  268               & -19                &   36               & ⋯                  &  4.1875000         & -1.1875000         &  0.5937500         & -1.46875000        &  4.06250000        & -0.1875000         & -0.9375000         &  3.2187500         & -0.1562500         &  0.1562500        \\\\\n",
       "\t 2015\\_1172\\_1344 & 2015               & 140                & 1172               & 1344               & 0                  & 0                  &   58               &  36                &  -34               & ⋯                  & -0.3090909         &  0.8696970         &  2.2454545         &  0.55151515        & -1.33030303        & -0.5636364         &  0.8454545         & -1.4212121         & -0.1000000         &  0.1000000        \\\\\n",
       "\t 2018\\_1301\\_1355 & 2018               & 140                & 1301               & 1355               & 0                  & 0                  &   98               &  94                &  158               & ⋯                  &  3.0125000         &  2.2645833         & -3.0041667         &  1.90625000        &  4.56666667        &  1.3187500         &  1.1979167         & -1.4354167         &  0.1437500         & -0.1437500        \\\\\n",
       "\t 2017\\_1124\\_1277 & 2017               & 140                & 1124               & 1277               & 0                  & 0                  & -147               & -51                & -105               & ⋯                  & -3.3313783         &  0.2737048         & -3.8465298         &  0.09090909        & -0.06451613        & -0.5259042         &  0.5200391         & -0.5826002         & -0.1984360         &  0.1984360        \\\\\n",
       "\\end{tabular}\n"
      ],
      "text/markdown": [
       "\n",
       "| ID | Season | DayNum | TeamID.x | TeamID.y | Tourney | Target | OScoreSum | OFGMSum | OFGASum | ⋯ | DFTAAvg | DORAvg | DDRAvg | DAstAvg | DTOAvg | DStlAvg | DBlkAvg | DPFAvg | DWAvg | DLAvg |\n",
       "|---|---|---|---|---|---|---|---|---|---|---|---|---|---|---|---|---|---|---|---|---|\n",
       "| 2018_1166_1254 | 2018           | 140            | 1166           | 1254           | 0              | 0              |   72           |  70            |  -17           | ⋯              | -4.7302053     | -2.1260997     |  0.9540567     |  1.07233627    | -0.32649071    | -0.4447703     |  0.2385142     | -3.8152493     | -0.1300098     |  0.1300098     |\n",
       "| 2018_1120_1401 | 2018           | 140            | 1120           | 1401           | 0              | 0              |  268           | -19            |   36           | ⋯              |  4.1875000     | -1.1875000     |  0.5937500     | -1.46875000    |  4.06250000    | -0.1875000     | -0.9375000     |  3.2187500     | -0.1562500     |  0.1562500     |\n",
       "| 2015_1172_1344 | 2015           | 140            | 1172           | 1344           | 0              | 0              |   58           |  36            |  -34           | ⋯              | -0.3090909     |  0.8696970     |  2.2454545     |  0.55151515    | -1.33030303    | -0.5636364     |  0.8454545     | -1.4212121     | -0.1000000     |  0.1000000     |\n",
       "| 2018_1301_1355 | 2018           | 140            | 1301           | 1355           | 0              | 0              |   98           |  94            |  158           | ⋯              |  3.0125000     |  2.2645833     | -3.0041667     |  1.90625000    |  4.56666667    |  1.3187500     |  1.1979167     | -1.4354167     |  0.1437500     | -0.1437500     |\n",
       "| 2017_1124_1277 | 2017           | 140            | 1124           | 1277           | 0              | 0              | -147           | -51            | -105           | ⋯              | -3.3313783     |  0.2737048     | -3.8465298     |  0.09090909    | -0.06451613    | -0.5259042     |  0.5200391     | -0.5826002     | -0.1984360     |  0.1984360     |\n",
       "\n"
      ],
      "text/plain": [
       "  ID             Season DayNum TeamID.x TeamID.y Tourney Target OScoreSum\n",
       "1 2018_1166_1254 2018   140    1166     1254     0       0        72     \n",
       "2 2018_1120_1401 2018   140    1120     1401     0       0       268     \n",
       "3 2015_1172_1344 2015   140    1172     1344     0       0        58     \n",
       "4 2018_1301_1355 2018   140    1301     1355     0       0        98     \n",
       "5 2017_1124_1277 2017   140    1124     1277     0       0      -147     \n",
       "  OFGMSum OFGASum ⋯ DFTAAvg    DORAvg     DDRAvg     DAstAvg     DTOAvg     \n",
       "1  70      -17    ⋯ -4.7302053 -2.1260997  0.9540567  1.07233627 -0.32649071\n",
       "2 -19       36    ⋯  4.1875000 -1.1875000  0.5937500 -1.46875000  4.06250000\n",
       "3  36      -34    ⋯ -0.3090909  0.8696970  2.2454545  0.55151515 -1.33030303\n",
       "4  94      158    ⋯  3.0125000  2.2645833 -3.0041667  1.90625000  4.56666667\n",
       "5 -51     -105    ⋯ -3.3313783  0.2737048 -3.8465298  0.09090909 -0.06451613\n",
       "  DStlAvg    DBlkAvg    DPFAvg     DWAvg      DLAvg     \n",
       "1 -0.4447703  0.2385142 -3.8152493 -0.1300098  0.1300098\n",
       "2 -0.1875000 -0.9375000  3.2187500 -0.1562500  0.1562500\n",
       "3 -0.5636364  0.8454545 -1.4212121 -0.1000000  0.1000000\n",
       "4  1.3187500  1.1979167 -1.4354167  0.1437500 -0.1437500\n",
       "5 -0.5259042  0.5200391 -0.5826002 -0.1984360  0.1984360"
      ]
     },
     "metadata": {},
     "output_type": "display_data"
    }
   ],
   "source": [
    "df.ratingdelta %>% sample_n(5)"
   ]
  },
  {
   "cell_type": "code",
   "execution_count": 59,
   "metadata": {},
   "outputs": [
    {
     "data": {
      "text/html": [
       "<table>\n",
       "<thead><tr><th scope=col>ID</th><th scope=col>Season</th><th scope=col>DayNum</th><th scope=col>TeamID.x</th><th scope=col>TeamID.y</th><th scope=col>Tourney</th><th scope=col>Target</th><th scope=col>OScoreSum</th><th scope=col>OFGMSum</th><th scope=col>OFGASum</th><th scope=col>⋯</th><th scope=col>DORAvg</th><th scope=col>DDRAvg</th><th scope=col>DAstAvg</th><th scope=col>DTOAvg</th><th scope=col>DStlAvg</th><th scope=col>DBlkAvg</th><th scope=col>DPFAvg</th><th scope=col>DWAvg</th><th scope=col>DLAvg</th><th scope=col>pos</th></tr></thead>\n",
       "<tbody>\n",
       "\t<tr><td>2018_1301_1355</td><td>2018          </td><td>140           </td><td>1301          </td><td>1355          </td><td>0             </td><td>0             </td><td>2599          </td><td>937           </td><td>1993          </td><td>⋯             </td><td>11.03125      </td><td>24.0625       </td><td>13.90625      </td><td>15            </td><td>6.21875       </td><td>4.03125       </td><td>18.03125      </td><td>0.34375       </td><td>0.65625       </td><td>1             </td></tr>\n",
       "</tbody>\n",
       "</table>\n"
      ],
      "text/latex": [
       "\\begin{tabular}{r|llllllllllllllllllllllllllllllllllllllllllllllllllllllllllllllllllllllllll}\n",
       " ID & Season & DayNum & TeamID.x & TeamID.y & Tourney & Target & OScoreSum & OFGMSum & OFGASum & ⋯ & DORAvg & DDRAvg & DAstAvg & DTOAvg & DStlAvg & DBlkAvg & DPFAvg & DWAvg & DLAvg & pos\\\\\n",
       "\\hline\n",
       "\t 2018\\_1301\\_1355 & 2018               & 140                & 1301               & 1355               & 0                  & 0                  & 2599               & 937                & 1993               & ⋯                  & 11.03125           & 24.0625            & 13.90625           & 15                 & 6.21875            & 4.03125            & 18.03125           & 0.34375            & 0.65625            & 1                 \\\\\n",
       "\\end{tabular}\n"
      ],
      "text/markdown": [
       "\n",
       "| ID | Season | DayNum | TeamID.x | TeamID.y | Tourney | Target | OScoreSum | OFGMSum | OFGASum | ⋯ | DORAvg | DDRAvg | DAstAvg | DTOAvg | DStlAvg | DBlkAvg | DPFAvg | DWAvg | DLAvg | pos |\n",
       "|---|---|---|---|---|---|---|---|---|---|---|---|---|---|---|---|---|---|---|---|---|\n",
       "| 2018_1301_1355 | 2018           | 140            | 1301           | 1355           | 0              | 0              | 2599           | 937            | 1993           | ⋯              | 11.03125       | 24.0625        | 13.90625       | 15             | 6.21875        | 4.03125        | 18.03125       | 0.34375        | 0.65625        | 1              |\n",
       "\n"
      ],
      "text/plain": [
       "  ID             Season DayNum TeamID.x TeamID.y Tourney Target OScoreSum\n",
       "1 2018_1301_1355 2018   140    1301     1355     0       0      2599     \n",
       "  OFGMSum OFGASum ⋯ DORAvg   DDRAvg  DAstAvg  DTOAvg DStlAvg DBlkAvg DPFAvg  \n",
       "1 937     1993    ⋯ 11.03125 24.0625 13.90625 15     6.21875 4.03125 18.03125\n",
       "  DWAvg   DLAvg   pos\n",
       "1 0.34375 0.65625 1  "
      ]
     },
     "metadata": {},
     "output_type": "display_data"
    },
    {
     "data": {
      "text/html": [
       "<table>\n",
       "<thead><tr><th scope=col>ID</th><th scope=col>Season</th><th scope=col>DayNum</th><th scope=col>TeamID.x</th><th scope=col>TeamID.y</th><th scope=col>Tourney</th><th scope=col>Target</th><th scope=col>OScoreSum</th><th scope=col>OFGMSum</th><th scope=col>OFGASum</th><th scope=col>⋯</th><th scope=col>DORAvg</th><th scope=col>DDRAvg</th><th scope=col>DAstAvg</th><th scope=col>DTOAvg</th><th scope=col>DStlAvg</th><th scope=col>DBlkAvg</th><th scope=col>DPFAvg</th><th scope=col>DWAvg</th><th scope=col>DLAvg</th><th scope=col>pos</th></tr></thead>\n",
       "<tbody>\n",
       "\t<tr><td>2018_1301_1355</td><td>2018          </td><td>140           </td><td>1301          </td><td>1355          </td><td>0             </td><td>0             </td><td>2501          </td><td>843           </td><td>1835          </td><td>⋯             </td><td>8.766667      </td><td>27.06667      </td><td>12            </td><td>10.43333      </td><td>4.9           </td><td>2.833333      </td><td>19.46667      </td><td>0.2           </td><td>0.8           </td><td>2             </td></tr>\n",
       "</tbody>\n",
       "</table>\n"
      ],
      "text/latex": [
       "\\begin{tabular}{r|llllllllllllllllllllllllllllllllllllllllllllllllllllllllllllllllllllllllll}\n",
       " ID & Season & DayNum & TeamID.x & TeamID.y & Tourney & Target & OScoreSum & OFGMSum & OFGASum & ⋯ & DORAvg & DDRAvg & DAstAvg & DTOAvg & DStlAvg & DBlkAvg & DPFAvg & DWAvg & DLAvg & pos\\\\\n",
       "\\hline\n",
       "\t 2018\\_1301\\_1355 & 2018               & 140                & 1301               & 1355               & 0                  & 0                  & 2501               & 843                & 1835               & ⋯                  & 8.766667           & 27.06667           & 12                 & 10.43333           & 4.9                & 2.833333           & 19.46667           & 0.2                & 0.8                & 2                 \\\\\n",
       "\\end{tabular}\n"
      ],
      "text/markdown": [
       "\n",
       "| ID | Season | DayNum | TeamID.x | TeamID.y | Tourney | Target | OScoreSum | OFGMSum | OFGASum | ⋯ | DORAvg | DDRAvg | DAstAvg | DTOAvg | DStlAvg | DBlkAvg | DPFAvg | DWAvg | DLAvg | pos |\n",
       "|---|---|---|---|---|---|---|---|---|---|---|---|---|---|---|---|---|---|---|---|---|\n",
       "| 2018_1301_1355 | 2018           | 140            | 1301           | 1355           | 0              | 0              | 2501           | 843            | 1835           | ⋯              | 8.766667       | 27.06667       | 12             | 10.43333       | 4.9            | 2.833333       | 19.46667       | 0.2            | 0.8            | 2              |\n",
       "\n"
      ],
      "text/plain": [
       "  ID             Season DayNum TeamID.x TeamID.y Tourney Target OScoreSum\n",
       "1 2018_1301_1355 2018   140    1301     1355     0       0      2501     \n",
       "  OFGMSum OFGASum ⋯ DORAvg   DDRAvg   DAstAvg DTOAvg   DStlAvg DBlkAvg \n",
       "1 843     1835    ⋯ 8.766667 27.06667 12      10.43333 4.9     2.833333\n",
       "  DPFAvg   DWAvg DLAvg pos\n",
       "1 19.46667 0.2   0.8   2  "
      ]
     },
     "metadata": {},
     "output_type": "display_data"
    },
    {
     "data": {
      "text/html": [
       "<table>\n",
       "<thead><tr><th scope=col>ID</th><th scope=col>Season</th><th scope=col>DayNum</th><th scope=col>TeamID.x</th><th scope=col>TeamID.y</th><th scope=col>Tourney</th><th scope=col>Target</th><th scope=col>OScoreSum</th><th scope=col>OFGMSum</th><th scope=col>OFGASum</th><th scope=col>⋯</th><th scope=col>DFTAAvg</th><th scope=col>DORAvg</th><th scope=col>DDRAvg</th><th scope=col>DAstAvg</th><th scope=col>DTOAvg</th><th scope=col>DStlAvg</th><th scope=col>DBlkAvg</th><th scope=col>DPFAvg</th><th scope=col>DWAvg</th><th scope=col>DLAvg</th></tr></thead>\n",
       "<tbody>\n",
       "\t<tr><td>2018_1301_1355</td><td>2018          </td><td>140           </td><td>1301          </td><td>1355          </td><td>0             </td><td>0             </td><td>98            </td><td>94            </td><td>158           </td><td>⋯             </td><td>3.0125        </td><td>2.264583      </td><td>-3.004167     </td><td>1.90625       </td><td>4.566667      </td><td>1.31875       </td><td>1.197917      </td><td>-1.435417     </td><td>0.14375       </td><td>-0.14375      </td></tr>\n",
       "</tbody>\n",
       "</table>\n"
      ],
      "text/latex": [
       "\\begin{tabular}{r|lllllllllllllllllllllllllllllllllllllllllllllllllllllllllllllllllllllllll}\n",
       " ID & Season & DayNum & TeamID.x & TeamID.y & Tourney & Target & OScoreSum & OFGMSum & OFGASum & ⋯ & DFTAAvg & DORAvg & DDRAvg & DAstAvg & DTOAvg & DStlAvg & DBlkAvg & DPFAvg & DWAvg & DLAvg\\\\\n",
       "\\hline\n",
       "\t 2018\\_1301\\_1355 & 2018               & 140                & 1301               & 1355               & 0                  & 0                  & 98                 & 94                 & 158                & ⋯                  & 3.0125             & 2.264583           & -3.004167          & 1.90625            & 4.566667           & 1.31875            & 1.197917           & -1.435417          & 0.14375            & -0.14375          \\\\\n",
       "\\end{tabular}\n"
      ],
      "text/markdown": [
       "\n",
       "| ID | Season | DayNum | TeamID.x | TeamID.y | Tourney | Target | OScoreSum | OFGMSum | OFGASum | ⋯ | DFTAAvg | DORAvg | DDRAvg | DAstAvg | DTOAvg | DStlAvg | DBlkAvg | DPFAvg | DWAvg | DLAvg |\n",
       "|---|---|---|---|---|---|---|---|---|---|---|---|---|---|---|---|---|---|---|---|---|\n",
       "| 2018_1301_1355 | 2018           | 140            | 1301           | 1355           | 0              | 0              | 98             | 94             | 158            | ⋯              | 3.0125         | 2.264583       | -3.004167      | 1.90625        | 4.566667       | 1.31875        | 1.197917       | -1.435417      | 0.14375        | -0.14375       |\n",
       "\n"
      ],
      "text/plain": [
       "  ID             Season DayNum TeamID.x TeamID.y Tourney Target OScoreSum\n",
       "1 2018_1301_1355 2018   140    1301     1355     0       0      98       \n",
       "  OFGMSum OFGASum ⋯ DFTAAvg DORAvg   DDRAvg    DAstAvg DTOAvg   DStlAvg\n",
       "1 94      158     ⋯ 3.0125  2.264583 -3.004167 1.90625 4.566667 1.31875\n",
       "  DBlkAvg  DPFAvg    DWAvg   DLAvg   \n",
       "1 1.197917 -1.435417 0.14375 -0.14375"
      ]
     },
     "metadata": {},
     "output_type": "display_data"
    }
   ],
   "source": [
    "group1 %>% filter(Season==2018,TeamID.x==1301,TeamID.y==1355)\n",
    "group2 %>% filter(Season==2018,TeamID.y==1355,TeamID.x==1301)\n",
    "df.ratingdelta %>% filter(Season==2018,TeamID.x==1301,TeamID.y==1355)"
   ]
  },
  {
   "cell_type": "code",
   "execution_count": 60,
   "metadata": {},
   "outputs": [],
   "source": [
    "df.ratingdelta %>%\n",
    "    select(-Season,-DayNum,-TeamID.x,-TeamID.y) %>%\n",
    "    write.csv('kerasfiles/test.matchups.ODDeltaStats.csv',row.names=F)"
   ]
  },
  {
   "cell_type": "code",
   "execution_count": null,
   "metadata": {},
   "outputs": [],
   "source": []
  }
 ],
 "metadata": {
  "kernelspec": {
   "display_name": "R 3.5.0",
   "language": "R",
   "name": "ir35"
  },
  "language_info": {
   "codemirror_mode": "r",
   "file_extension": ".r",
   "mimetype": "text/x-r-source",
   "name": "R",
   "pygments_lexer": "r",
   "version": "3.5.1"
  }
 },
 "nbformat": 4,
 "nbformat_minor": 2
}
