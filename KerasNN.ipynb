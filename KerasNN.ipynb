{
 "cells": [
  {
   "cell_type": "code",
   "execution_count": 1,
   "metadata": {},
   "outputs": [
    {
     "name": "stderr",
     "output_type": "stream",
     "text": [
      "Using TensorFlow backend.\n"
     ]
    }
   ],
   "source": [
    "from keras.models import Sequential\n",
    "from keras.layers import Dense\n",
    "from keras.layers import Dropout\n",
    "import numpy\n",
    "import pandas"
   ]
  },
  {
   "cell_type": "code",
   "execution_count": 2,
   "metadata": {},
   "outputs": [],
   "source": [
    "from sklearn.metrics import classification_report, confusion_matrix"
   ]
  },
  {
   "cell_type": "markdown",
   "metadata": {},
   "source": [
    "#### Prepare data"
   ]
  },
  {
   "cell_type": "code",
   "execution_count": 94,
   "metadata": {},
   "outputs": [
    {
     "name": "stdout",
     "output_type": "stream",
     "text": [
      "(25844, 69)\n"
     ]
    }
   ],
   "source": [
    "trainmatchups = pandas.read_csv('kerasfiles/train.matchups.csv')\n",
    "print(trainmatchups.shape)\n",
    "traindata = trainmatchups.values"
   ]
  },
  {
   "cell_type": "code",
   "execution_count": 95,
   "metadata": {},
   "outputs": [
    {
     "name": "stdout",
     "output_type": "stream",
     "text": [
      "(25844, 68)\n",
      "(25844,)\n"
     ]
    }
   ],
   "source": [
    "traindata = trainmatchups.values\n",
    "\n",
    "trainX = traindata[:,1:]\n",
    "trainY = traindata[:,0]\n",
    "\n",
    "print(trainX.shape)\n",
    "print(trainY.shape)\n",
    "\n",
    "input_shape = trainX.shape[1]"
   ]
  },
  {
   "cell_type": "markdown",
   "metadata": {},
   "source": [
    "#### Create Model"
   ]
  },
  {
   "cell_type": "code",
   "execution_count": 96,
   "metadata": {},
   "outputs": [],
   "source": [
    "model = Sequential()\n",
    "model.add(Dropout(0.2, input_shape=(input_shape,)))\n",
    "model.add(Dense(256, kernel_initializer='normal', activation='relu'))\n",
    "model.add(Dense(128, kernel_initializer='normal', activation='relu'))\n",
    "model.add(Dense(64, kernel_initializer='normal', activation='relu'))\n",
    "model.add(Dense(16, kernel_initializer='normal', activation='relu'))\n",
    "model.add(Dense(1, kernel_initializer='normal', activation='sigmoid'))"
   ]
  },
  {
   "cell_type": "code",
   "execution_count": 97,
   "metadata": {},
   "outputs": [],
   "source": [
    "model.compile(loss='binary_crossentropy', optimizer='adam', metrics=['accuracy'])"
   ]
  },
  {
   "cell_type": "markdown",
   "metadata": {},
   "source": [
    "#### Train Model"
   ]
  },
  {
   "cell_type": "code",
   "execution_count": 100,
   "metadata": {},
   "outputs": [
    {
     "name": "stdout",
     "output_type": "stream",
     "text": [
      "Epoch 1/50\n",
      " - 1s - loss: 0.6233 - acc: 0.6469\n",
      "Epoch 2/50\n",
      " - 1s - loss: 0.6163 - acc: 0.6559\n",
      "Epoch 3/50\n",
      " - 1s - loss: 0.6160 - acc: 0.6521\n",
      "Epoch 4/50\n",
      " - 1s - loss: 0.6180 - acc: 0.6530\n",
      "Epoch 5/50\n",
      " - 1s - loss: 0.6176 - acc: 0.6506\n",
      "Epoch 6/50\n",
      " - 1s - loss: 0.6098 - acc: 0.6637\n",
      "Epoch 7/50\n",
      " - 1s - loss: 0.6126 - acc: 0.6582\n",
      "Epoch 8/50\n",
      " - 1s - loss: 0.6130 - acc: 0.6590\n",
      "Epoch 9/50\n",
      " - 1s - loss: 0.6119 - acc: 0.6604\n",
      "Epoch 10/50\n",
      " - 1s - loss: 0.6112 - acc: 0.6605\n",
      "Epoch 11/50\n",
      " - 1s - loss: 0.6110 - acc: 0.6622\n",
      "Epoch 12/50\n",
      " - 1s - loss: 0.6114 - acc: 0.6582\n",
      "Epoch 13/50\n",
      " - 1s - loss: 0.6153 - acc: 0.6554\n",
      "Epoch 14/50\n",
      " - 1s - loss: 0.6088 - acc: 0.6629\n",
      "Epoch 15/50\n",
      " - 1s - loss: 0.6090 - acc: 0.6629\n",
      "Epoch 16/50\n",
      " - 1s - loss: 0.6105 - acc: 0.6572\n",
      "Epoch 17/50\n",
      " - 1s - loss: 0.6112 - acc: 0.6597\n",
      "Epoch 18/50\n",
      " - 1s - loss: 0.6080 - acc: 0.6644\n",
      "Epoch 19/50\n",
      " - 1s - loss: 0.6094 - acc: 0.6596\n",
      "Epoch 20/50\n",
      " - 1s - loss: 0.6093 - acc: 0.6630\n",
      "Epoch 21/50\n",
      " - 1s - loss: 0.6065 - acc: 0.6665\n",
      "Epoch 22/50\n",
      " - 1s - loss: 0.6082 - acc: 0.6629\n",
      "Epoch 23/50\n",
      " - 1s - loss: 0.6054 - acc: 0.6636\n",
      "Epoch 24/50\n",
      " - 1s - loss: 0.6102 - acc: 0.6614\n",
      "Epoch 25/50\n",
      " - 1s - loss: 0.6080 - acc: 0.6626\n",
      "Epoch 26/50\n",
      " - 1s - loss: 0.6068 - acc: 0.6628\n",
      "Epoch 27/50\n",
      " - 1s - loss: 0.6094 - acc: 0.6617\n",
      "Epoch 28/50\n",
      " - 1s - loss: 0.6047 - acc: 0.6679\n",
      "Epoch 29/50\n",
      " - 1s - loss: 0.6062 - acc: 0.6647\n",
      "Epoch 30/50\n",
      " - 1s - loss: 0.6036 - acc: 0.6689\n",
      "Epoch 31/50\n",
      " - 1s - loss: 0.6032 - acc: 0.6668\n",
      "Epoch 32/50\n",
      " - 1s - loss: 0.6037 - acc: 0.6663\n",
      "Epoch 33/50\n",
      " - 1s - loss: 0.6058 - acc: 0.6664\n",
      "Epoch 34/50\n",
      " - 1s - loss: 0.6018 - acc: 0.6707\n",
      "Epoch 35/50\n",
      " - 1s - loss: 0.6039 - acc: 0.6670\n",
      "Epoch 36/50\n",
      " - 1s - loss: 0.6036 - acc: 0.6662\n",
      "Epoch 37/50\n",
      " - 1s - loss: 0.6054 - acc: 0.6670\n",
      "Epoch 38/50\n",
      " - 1s - loss: 0.6033 - acc: 0.6714\n",
      "Epoch 39/50\n",
      " - 1s - loss: 0.6030 - acc: 0.6639\n",
      "Epoch 40/50\n",
      " - 1s - loss: 0.6053 - acc: 0.6658\n",
      "Epoch 41/50\n",
      " - 1s - loss: 0.6077 - acc: 0.6644\n",
      "Epoch 42/50\n",
      " - 1s - loss: 0.6033 - acc: 0.6694\n",
      "Epoch 43/50\n",
      " - 1s - loss: 0.6009 - acc: 0.6685\n",
      "Epoch 44/50\n",
      " - 1s - loss: 0.6018 - acc: 0.6694\n",
      "Epoch 45/50\n",
      " - 1s - loss: 0.6031 - acc: 0.6661\n",
      "Epoch 46/50\n",
      " - 1s - loss: 0.5995 - acc: 0.6699\n",
      "Epoch 47/50\n",
      " - 1s - loss: 0.6040 - acc: 0.6662\n",
      "Epoch 48/50\n",
      " - 1s - loss: 0.6003 - acc: 0.6751\n",
      "Epoch 49/50\n",
      " - 1s - loss: 0.6009 - acc: 0.6701\n",
      "Epoch 50/50\n",
      " - 1s - loss: 0.6025 - acc: 0.6646\n"
     ]
    },
    {
     "data": {
      "text/plain": [
       "<keras.callbacks.History at 0x7fe2132be0b8>"
      ]
     },
     "execution_count": 100,
     "metadata": {},
     "output_type": "execute_result"
    }
   ],
   "source": [
    "#model.fit(trainX, trainY, validation_split=0.2, epochs=5, batch_size=500, verbose=1)\n",
    "model.fit(trainX, trainY, epochs=50, batch_size=500, verbose=2)"
   ]
  },
  {
   "cell_type": "code",
   "execution_count": 101,
   "metadata": {},
   "outputs": [
    {
     "name": "stdout",
     "output_type": "stream",
     "text": [
      "25844/25844 [==============================] - 2s 66us/step\n",
      "\n",
      "loss: 0.58\n",
      "\n",
      "acc: 68.53%\n"
     ]
    }
   ],
   "source": [
    "scores = model.evaluate(trainX, trainY)\n",
    "print(\"\\n%s: %.2f\" % (model.metrics_names[0], scores[0]))\n",
    "print(\"\\n%s: %.2f%%\" % (model.metrics_names[1], scores[1]*100))"
   ]
  },
  {
   "cell_type": "markdown",
   "metadata": {},
   "source": [
    "#### Predict test dataset"
   ]
  },
  {
   "cell_type": "code",
   "execution_count": 102,
   "metadata": {},
   "outputs": [
    {
     "name": "stdout",
     "output_type": "stream",
     "text": [
      "(11390, 71)\n"
     ]
    }
   ],
   "source": [
    "testmatchups = pandas.read_csv('kerasfiles/test.matchups.csv')\n",
    "print(testmatchups.shape)"
   ]
  },
  {
   "cell_type": "code",
   "execution_count": 103,
   "metadata": {},
   "outputs": [
    {
     "data": {
      "text/plain": [
       "(11390, 71)"
      ]
     },
     "execution_count": 103,
     "metadata": {},
     "output_type": "execute_result"
    }
   ],
   "source": [
    "testdata = testmatchups.values\n",
    "testdata.shape"
   ]
  },
  {
   "cell_type": "code",
   "execution_count": 104,
   "metadata": {},
   "outputs": [
    {
     "name": "stdout",
     "output_type": "stream",
     "text": [
      "(11390,)\n",
      "(11390,)\n",
      "(11390, 68)\n",
      "(11390,)\n"
     ]
    }
   ],
   "source": [
    "testdata = testmatchups.values\n",
    "\n",
    "testID = testdata[:,0]                # ID for submission\n",
    "testT = testdata[:,1].astype(int)     # played matchups during tourneys\n",
    "testY = testdata[:,2].astype(int)     # truth (0 or 1) if played, 0 otherwise \n",
    "testX = testdata[:,3:]                # features\n",
    "\n",
    "print(testID.shape)\n",
    "print(testT.shape)\n",
    "print(testX.shape)\n",
    "print(testY.shape)"
   ]
  },
  {
   "cell_type": "code",
   "execution_count": 105,
   "metadata": {},
   "outputs": [],
   "source": [
    "# predict all matchups\n",
    "Yhat = model.predict_classes(testX)\n",
    "Yprob = model.predict_proba(testX)"
   ]
  },
  {
   "cell_type": "code",
   "execution_count": 106,
   "metadata": {},
   "outputs": [
    {
     "name": "stdout",
     "output_type": "stream",
     "text": [
      "335/335 [==============================] - 0s 131us/step\n",
      "\n",
      "loss: 0.62\n",
      "\n",
      "acc: 65.07%\n"
     ]
    }
   ],
   "source": [
    "# evaluate only played matchups \n",
    "scores = model.evaluate(testX[testT==1,:], testY[testT==1])\n",
    "print(\"\\n%s: %.2f\" % (model.metrics_names[0], scores[0]))\n",
    "print(\"\\n%s: %.2f%%\" % (model.metrics_names[1], scores[1]*100))"
   ]
  },
  {
   "cell_type": "code",
   "execution_count": 107,
   "metadata": {},
   "outputs": [
    {
     "data": {
      "text/plain": [
       "array([[ 82,  91],\n",
       "       [ 26, 136]])"
      ]
     },
     "execution_count": 107,
     "metadata": {},
     "output_type": "execute_result"
    }
   ],
   "source": [
    "# confusion matrix for played matchups\n",
    "matrix = confusion_matrix(testY[testT==1], Yhat[testT==1])\n",
    "matrix"
   ]
  },
  {
   "cell_type": "markdown",
   "metadata": {},
   "source": [
    "#### Create submission file"
   ]
  },
  {
   "cell_type": "code",
   "execution_count": 89,
   "metadata": {},
   "outputs": [],
   "source": [
    "pandas.DataFrame({'ID':testID,'Pred':Yprob.reshape((11390,))}).to_csv('predictions/Pred_NN_Dense.csv',index=False)"
   ]
  },
  {
   "cell_type": "code",
   "execution_count": null,
   "metadata": {},
   "outputs": [],
   "source": []
  },
  {
   "cell_type": "code",
   "execution_count": null,
   "metadata": {},
   "outputs": [],
   "source": []
  }
 ],
 "metadata": {
  "kernelspec": {
   "display_name": "Python 3",
   "language": "python",
   "name": "python3"
  },
  "language_info": {
   "codemirror_mode": {
    "name": "ipython",
    "version": 3
   },
   "file_extension": ".py",
   "mimetype": "text/x-python",
   "name": "python",
   "nbconvert_exporter": "python",
   "pygments_lexer": "ipython3",
   "version": "3.6.8"
  }
 },
 "nbformat": 4,
 "nbformat_minor": 2
}
