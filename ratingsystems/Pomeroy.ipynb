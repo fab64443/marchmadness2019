{
 "cells": [
  {
   "cell_type": "code",
   "execution_count": 1,
   "metadata": {},
   "outputs": [],
   "source": [
    "# Load required packages\n",
    "library(dplyr,warn.conflicts=F)\n",
    "library(stringr,warn.conflicts=F)\n",
    "library(psych,warn.conflicts=F)\n",
    "library(lplyr,warn.conflicts=F)"
   ]
  },
  {
   "cell_type": "code",
   "execution_count": 2,
   "metadata": {},
   "outputs": [],
   "source": [
    "# load the stats\n",
    "data.tourney <- readRDS('datafiles_rds/NCAATourneyDetailedResults.rds')\n",
    "# keep 2014+\n",
    "data.tourney %>% filter(Season>2013) -> data.tourney"
   ]
  },
  {
   "cell_type": "code",
   "execution_count": 3,
   "metadata": {},
   "outputs": [],
   "source": [
    "# store 68 tourney teams \n",
    "data.tourney %>% \n",
    "    select(Season,TeamID=WTeamID) %>% \n",
    "    bind_rows(data.tourney %>% \n",
    "              select(Season,TeamID=LTeamID)) %>% \n",
    "    distinct(Season,TeamID) -> df.tourneyteams"
   ]
  },
  {
   "cell_type": "code",
   "execution_count": 4,
   "metadata": {},
   "outputs": [
    {
     "data": {
      "text/html": [
       "<table>\n",
       "<thead><tr><th scope=col>Season</th><th scope=col>Rk</th><th scope=col>Team</th><th scope=col>Conf</th><th scope=col>W.L</th><th scope=col>AdjEM</th><th scope=col>AdjO</th><th scope=col>AdjORank</th><th scope=col>AdjD</th><th scope=col>AdjDRank</th><th scope=col>⋯</th><th scope=col>Luck</th><th scope=col>LuckRank</th><th scope=col>SOSAdjEM</th><th scope=col>SOSAdjEMRank</th><th scope=col>SOSOppO</th><th scope=col>SOSOppORank</th><th scope=col>SOSOppD</th><th scope=col>SOSOppDRank</th><th scope=col>NCSOSAdjEM</th><th scope=col>NCSOSAdjEMRank</th></tr></thead>\n",
       "<tbody>\n",
       "\t<tr><td>2014       </td><td>1          </td><td>Louisville </td><td>Amer       </td><td>31-6       </td><td>30.41      </td><td>118.9      </td><td> 7         </td><td>88.5       </td><td> 5         </td><td>⋯          </td><td>-0.045     </td><td>278        </td><td> 4.31      </td><td> 95        </td><td>107.0      </td><td>100        </td><td>102.7      </td><td> 93        </td><td>-4.65      </td><td>295        </td></tr>\n",
       "\t<tr><td>2014       </td><td>2          </td><td>Arizona    </td><td>P12        </td><td>33-5       </td><td>30.11      </td><td>116.5      </td><td>20         </td><td>86.4       </td><td> 1         </td><td>⋯          </td><td> 0.014     </td><td>151        </td><td> 9.30      </td><td> 17        </td><td>109.9      </td><td> 20        </td><td>100.6      </td><td> 18        </td><td> 1.62      </td><td>113        </td></tr>\n",
       "\t<tr><td>2014       </td><td>3          </td><td>Florida    </td><td>SEC        </td><td>36-3       </td><td>28.57      </td><td>116.5      </td><td>19         </td><td>88.0       </td><td> 3         </td><td>⋯          </td><td> 0.053     </td><td> 68        </td><td> 9.02      </td><td> 22        </td><td>109.4      </td><td> 32        </td><td>100.4      </td><td> 14        </td><td> 2.39      </td><td> 94        </td></tr>\n",
       "\t<tr><td>2014       </td><td>4          </td><td>Virginia   </td><td>ACC        </td><td>30-7       </td><td>26.46      </td><td>114.8      </td><td>27         </td><td>88.3       </td><td> 4         </td><td>⋯          </td><td> 0.012     </td><td>154        </td><td> 8.67      </td><td> 28        </td><td>109.4      </td><td> 31        </td><td>100.8      </td><td> 27        </td><td> 1.57      </td><td>114        </td></tr>\n",
       "\t<tr><td>2014       </td><td>5          </td><td>Wisconsin  </td><td>B10        </td><td>30-8       </td><td>25.89      </td><td>122.0      </td><td> 4         </td><td>96.1       </td><td>35         </td><td>⋯          </td><td> 0.019     </td><td>133        </td><td>11.44      </td><td>  3        </td><td>110.2      </td><td> 13        </td><td> 98.8      </td><td>  2        </td><td> 3.33      </td><td> 68        </td></tr>\n",
       "\t<tr><td>2014       </td><td>6          </td><td>Wichita St.</td><td>MVC        </td><td>35-1       </td><td>25.36      </td><td>117.8      </td><td>17         </td><td>92.4       </td><td>11         </td><td>⋯          </td><td>-0.009     </td><td>205        </td><td> 1.04      </td><td>125        </td><td>105.8      </td><td>119        </td><td>104.8      </td><td>144        </td><td> 2.89      </td><td> 79        </td></tr>\n",
       "</tbody>\n",
       "</table>\n"
      ],
      "text/latex": [
       "\\begin{tabular}{r|llllllllllllllllllllll}\n",
       " Season & Rk & Team & Conf & W.L & AdjEM & AdjO & AdjORank & AdjD & AdjDRank & ⋯ & Luck & LuckRank & SOSAdjEM & SOSAdjEMRank & SOSOppO & SOSOppORank & SOSOppD & SOSOppDRank & NCSOSAdjEM & NCSOSAdjEMRank\\\\\n",
       "\\hline\n",
       "\t 2014        & 1           & Louisville  & Amer        & 31-6        & 30.41       & 118.9       &  7          & 88.5        &  5          & ⋯           & -0.045      & 278         &  4.31       &  95         & 107.0       & 100         & 102.7       &  93         & -4.65       & 295        \\\\\n",
       "\t 2014        & 2           & Arizona     & P12         & 33-5        & 30.11       & 116.5       & 20          & 86.4        &  1          & ⋯           &  0.014      & 151         &  9.30       &  17         & 109.9       &  20         & 100.6       &  18         &  1.62       & 113        \\\\\n",
       "\t 2014        & 3           & Florida     & SEC         & 36-3        & 28.57       & 116.5       & 19          & 88.0        &  3          & ⋯           &  0.053      &  68         &  9.02       &  22         & 109.4       &  32         & 100.4       &  14         &  2.39       &  94        \\\\\n",
       "\t 2014        & 4           & Virginia    & ACC         & 30-7        & 26.46       & 114.8       & 27          & 88.3        &  4          & ⋯           &  0.012      & 154         &  8.67       &  28         & 109.4       &  31         & 100.8       &  27         &  1.57       & 114        \\\\\n",
       "\t 2014        & 5           & Wisconsin   & B10         & 30-8        & 25.89       & 122.0       &  4          & 96.1        & 35          & ⋯           &  0.019      & 133         & 11.44       &   3         & 110.2       &  13         &  98.8       &   2         &  3.33       &  68        \\\\\n",
       "\t 2014        & 6           & Wichita St. & MVC         & 35-1        & 25.36       & 117.8       & 17          & 92.4        & 11          & ⋯           & -0.009      & 205         &  1.04       & 125         & 105.8       & 119         & 104.8       & 144         &  2.89       &  79        \\\\\n",
       "\\end{tabular}\n"
      ],
      "text/markdown": [
       "\n",
       "| Season | Rk | Team | Conf | W.L | AdjEM | AdjO | AdjORank | AdjD | AdjDRank | ⋯ | Luck | LuckRank | SOSAdjEM | SOSAdjEMRank | SOSOppO | SOSOppORank | SOSOppD | SOSOppDRank | NCSOSAdjEM | NCSOSAdjEMRank |\n",
       "|---|---|---|---|---|---|---|---|---|---|---|---|---|---|---|---|---|---|---|---|---|\n",
       "| 2014        | 1           | Louisville  | Amer        | 31-6        | 30.41       | 118.9       |  7          | 88.5        |  5          | ⋯           | -0.045      | 278         |  4.31       |  95         | 107.0       | 100         | 102.7       |  93         | -4.65       | 295         |\n",
       "| 2014        | 2           | Arizona     | P12         | 33-5        | 30.11       | 116.5       | 20          | 86.4        |  1          | ⋯           |  0.014      | 151         |  9.30       |  17         | 109.9       |  20         | 100.6       |  18         |  1.62       | 113         |\n",
       "| 2014        | 3           | Florida     | SEC         | 36-3        | 28.57       | 116.5       | 19          | 88.0        |  3          | ⋯           |  0.053      |  68         |  9.02       |  22         | 109.4       |  32         | 100.4       |  14         |  2.39       |  94         |\n",
       "| 2014        | 4           | Virginia    | ACC         | 30-7        | 26.46       | 114.8       | 27          | 88.3        |  4          | ⋯           |  0.012      | 154         |  8.67       |  28         | 109.4       |  31         | 100.8       |  27         |  1.57       | 114         |\n",
       "| 2014        | 5           | Wisconsin   | B10         | 30-8        | 25.89       | 122.0       |  4          | 96.1        | 35          | ⋯           |  0.019      | 133         | 11.44       |   3         | 110.2       |  13         |  98.8       |   2         |  3.33       |  68         |\n",
       "| 2014        | 6           | Wichita St. | MVC         | 35-1        | 25.36       | 117.8       | 17          | 92.4        | 11          | ⋯           | -0.009      | 205         |  1.04       | 125         | 105.8       | 119         | 104.8       | 144         |  2.89       |  79         |\n",
       "\n"
      ],
      "text/plain": [
       "  Season Rk Team        Conf W.L  AdjEM AdjO  AdjORank AdjD AdjDRank ⋯ Luck  \n",
       "1 2014   1  Louisville  Amer 31-6 30.41 118.9  7       88.5  5       ⋯ -0.045\n",
       "2 2014   2  Arizona     P12  33-5 30.11 116.5 20       86.4  1       ⋯  0.014\n",
       "3 2014   3  Florida     SEC  36-3 28.57 116.5 19       88.0  3       ⋯  0.053\n",
       "4 2014   4  Virginia    ACC  30-7 26.46 114.8 27       88.3  4       ⋯  0.012\n",
       "5 2014   5  Wisconsin   B10  30-8 25.89 122.0  4       96.1 35       ⋯  0.019\n",
       "6 2014   6  Wichita St. MVC  35-1 25.36 117.8 17       92.4 11       ⋯ -0.009\n",
       "  LuckRank SOSAdjEM SOSAdjEMRank SOSOppO SOSOppORank SOSOppD SOSOppDRank\n",
       "1 278       4.31     95          107.0   100         102.7    93        \n",
       "2 151       9.30     17          109.9    20         100.6    18        \n",
       "3  68       9.02     22          109.4    32         100.4    14        \n",
       "4 154       8.67     28          109.4    31         100.8    27        \n",
       "5 133      11.44      3          110.2    13          98.8     2        \n",
       "6 205       1.04    125          105.8   119         104.8   144        \n",
       "  NCSOSAdjEM NCSOSAdjEMRank\n",
       "1 -4.65      295           \n",
       "2  1.62      113           \n",
       "3  2.39       94           \n",
       "4  1.57      114           \n",
       "5  3.33       68           \n",
       "6  2.89       79           "
      ]
     },
     "metadata": {},
     "output_type": "display_data"
    }
   ],
   "source": [
    "# Pomeroy Rating 2014+\n",
    "# https://kenpom.com/index.php?y=201?\n",
    "data.pomeroy <- read.csv('datafiles_csv/Pomeroy.csv',stringsAsFactors=F)\n",
    "data.pomeroy %>% head"
   ]
  },
  {
   "cell_type": "code",
   "execution_count": 5,
   "metadata": {},
   "outputs": [],
   "source": [
    "data.pomeroy %>% rename(Name=Team,\n",
    "                        Rank=Rk,\n",
    "                        Rating=AdjEM) -> data.pomeroy"
   ]
  },
  {
   "cell_type": "code",
   "execution_count": 6,
   "metadata": {},
   "outputs": [],
   "source": [
    "# load team spellings variations\n",
    "data.teamspellings <- readRDS('datafiles_rds/TeamSpellings.rds')\n",
    "data.teams <- readRDS('datafiles_rds/Teams.rds')"
   ]
  },
  {
   "cell_type": "code",
   "execution_count": 7,
   "metadata": {},
   "outputs": [],
   "source": [
    "# add TeamID based on team name\n",
    "data.pomeroy %>% \n",
    "    mutate(LowName=str_to_lower(Name)) %>% \n",
    "    left_join(data.teamspellings,by=c('LowName'='TeamNameSpelling')) -> df.ratingsystem"
   ]
  },
  {
   "cell_type": "code",
   "execution_count": 8,
   "metadata": {},
   "outputs": [
    {
     "data": {
      "text/html": [
       "<table>\n",
       "<thead><tr><th scope=col>Season</th><th scope=col>Rank</th><th scope=col>Name</th><th scope=col>Conf</th><th scope=col>W.L</th><th scope=col>Rating</th><th scope=col>AdjO</th><th scope=col>AdjORank</th><th scope=col>AdjD</th><th scope=col>AdjDRank</th><th scope=col>⋯</th><th scope=col>SOSAdjEM</th><th scope=col>SOSAdjEMRank</th><th scope=col>SOSOppO</th><th scope=col>SOSOppORank</th><th scope=col>SOSOppD</th><th scope=col>SOSOppDRank</th><th scope=col>NCSOSAdjEM</th><th scope=col>NCSOSAdjEMRank</th><th scope=col>LowName</th><th scope=col>TeamID</th></tr></thead>\n",
       "<tbody>\n",
       "\t<tr><td>2014  </td><td>181   </td><td>Albany</td><td>AE    </td><td>19-15 </td><td>-1.04 </td><td>102.9 </td><td>217   </td><td>103.9 </td><td>148   </td><td>⋯     </td><td>-5.12 </td><td>270   </td><td>101.5 </td><td>311   </td><td>106.6 </td><td>224   </td><td> 0.91 </td><td>135   </td><td>albany</td><td>1107  </td></tr>\n",
       "\t<tr><td>2015  </td><td>131   </td><td>Albany</td><td>AE    </td><td>24-9  </td><td> 3.29 </td><td>107.2 </td><td>116   </td><td>103.9 </td><td>162   </td><td>⋯     </td><td>-5.50 </td><td>297   </td><td>100.4 </td><td>325   </td><td>105.9 </td><td>229   </td><td> 0.18 </td><td>154   </td><td>albany</td><td>1107  </td></tr>\n",
       "\t<tr><td>2016  </td><td>121   </td><td>Albany</td><td>AE    </td><td>24-9  </td><td> 4.25 </td><td>106.9 </td><td>141   </td><td>102.7 </td><td>131   </td><td>⋯     </td><td>-8.12 </td><td>328   </td><td>100.8 </td><td>313   </td><td>108.9 </td><td>330   </td><td>-4.63 </td><td>293   </td><td>albany</td><td>1107  </td></tr>\n",
       "\t<tr><td>2017  </td><td>129   </td><td>Albany</td><td>AE    </td><td>21-14 </td><td> 2.66 </td><td>107.5 </td><td>116   </td><td>104.9 </td><td>180   </td><td>⋯     </td><td>-5.16 </td><td>283   </td><td>101.8 </td><td>286   </td><td>106.9 </td><td>263   </td><td>-2.00 </td><td>216   </td><td>albany</td><td>1107  </td></tr>\n",
       "\t<tr><td>2018  </td><td>151   </td><td>Albany</td><td>AE    </td><td>22-10 </td><td> 1.71 </td><td>107.1 </td><td>134   </td><td>105.4 </td><td>180   </td><td>⋯     </td><td>-6.49 </td><td>306   </td><td>101.4 </td><td>307   </td><td>107.9 </td><td>300   </td><td>-5.20 </td><td>307   </td><td>albany</td><td>1107  </td></tr>\n",
       "</tbody>\n",
       "</table>\n"
      ],
      "text/latex": [
       "\\begin{tabular}{r|llllllllllllllllllllllll}\n",
       " Season & Rank & Name & Conf & W.L & Rating & AdjO & AdjORank & AdjD & AdjDRank & ⋯ & SOSAdjEM & SOSAdjEMRank & SOSOppO & SOSOppORank & SOSOppD & SOSOppDRank & NCSOSAdjEM & NCSOSAdjEMRank & LowName & TeamID\\\\\n",
       "\\hline\n",
       "\t 2014   & 181    & Albany & AE     & 19-15  & -1.04  & 102.9  & 217    & 103.9  & 148    & ⋯      & -5.12  & 270    & 101.5  & 311    & 106.6  & 224    &  0.91  & 135    & albany & 1107  \\\\\n",
       "\t 2015   & 131    & Albany & AE     & 24-9   &  3.29  & 107.2  & 116    & 103.9  & 162    & ⋯      & -5.50  & 297    & 100.4  & 325    & 105.9  & 229    &  0.18  & 154    & albany & 1107  \\\\\n",
       "\t 2016   & 121    & Albany & AE     & 24-9   &  4.25  & 106.9  & 141    & 102.7  & 131    & ⋯      & -8.12  & 328    & 100.8  & 313    & 108.9  & 330    & -4.63  & 293    & albany & 1107  \\\\\n",
       "\t 2017   & 129    & Albany & AE     & 21-14  &  2.66  & 107.5  & 116    & 104.9  & 180    & ⋯      & -5.16  & 283    & 101.8  & 286    & 106.9  & 263    & -2.00  & 216    & albany & 1107  \\\\\n",
       "\t 2018   & 151    & Albany & AE     & 22-10  &  1.71  & 107.1  & 134    & 105.4  & 180    & ⋯      & -6.49  & 306    & 101.4  & 307    & 107.9  & 300    & -5.20  & 307    & albany & 1107  \\\\\n",
       "\\end{tabular}\n"
      ],
      "text/markdown": [
       "\n",
       "| Season | Rank | Name | Conf | W.L | Rating | AdjO | AdjORank | AdjD | AdjDRank | ⋯ | SOSAdjEM | SOSAdjEMRank | SOSOppO | SOSOppORank | SOSOppD | SOSOppDRank | NCSOSAdjEM | NCSOSAdjEMRank | LowName | TeamID |\n",
       "|---|---|---|---|---|---|---|---|---|---|---|---|---|---|---|---|---|---|---|---|---|\n",
       "| 2014   | 181    | Albany | AE     | 19-15  | -1.04  | 102.9  | 217    | 103.9  | 148    | ⋯      | -5.12  | 270    | 101.5  | 311    | 106.6  | 224    |  0.91  | 135    | albany | 1107   |\n",
       "| 2015   | 131    | Albany | AE     | 24-9   |  3.29  | 107.2  | 116    | 103.9  | 162    | ⋯      | -5.50  | 297    | 100.4  | 325    | 105.9  | 229    |  0.18  | 154    | albany | 1107   |\n",
       "| 2016   | 121    | Albany | AE     | 24-9   |  4.25  | 106.9  | 141    | 102.7  | 131    | ⋯      | -8.12  | 328    | 100.8  | 313    | 108.9  | 330    | -4.63  | 293    | albany | 1107   |\n",
       "| 2017   | 129    | Albany | AE     | 21-14  |  2.66  | 107.5  | 116    | 104.9  | 180    | ⋯      | -5.16  | 283    | 101.8  | 286    | 106.9  | 263    | -2.00  | 216    | albany | 1107   |\n",
       "| 2018   | 151    | Albany | AE     | 22-10  |  1.71  | 107.1  | 134    | 105.4  | 180    | ⋯      | -6.49  | 306    | 101.4  | 307    | 107.9  | 300    | -5.20  | 307    | albany | 1107   |\n",
       "\n"
      ],
      "text/plain": [
       "  Season Rank Name   Conf W.L   Rating AdjO  AdjORank AdjD  AdjDRank ⋯ SOSAdjEM\n",
       "1 2014   181  Albany AE   19-15 -1.04  102.9 217      103.9 148      ⋯ -5.12   \n",
       "2 2015   131  Albany AE   24-9   3.29  107.2 116      103.9 162      ⋯ -5.50   \n",
       "3 2016   121  Albany AE   24-9   4.25  106.9 141      102.7 131      ⋯ -8.12   \n",
       "4 2017   129  Albany AE   21-14  2.66  107.5 116      104.9 180      ⋯ -5.16   \n",
       "5 2018   151  Albany AE   22-10  1.71  107.1 134      105.4 180      ⋯ -6.49   \n",
       "  SOSAdjEMRank SOSOppO SOSOppORank SOSOppD SOSOppDRank NCSOSAdjEM\n",
       "1 270          101.5   311         106.6   224          0.91     \n",
       "2 297          100.4   325         105.9   229          0.18     \n",
       "3 328          100.8   313         108.9   330         -4.63     \n",
       "4 283          101.8   286         106.9   263         -2.00     \n",
       "5 306          101.4   307         107.9   300         -5.20     \n",
       "  NCSOSAdjEMRank LowName TeamID\n",
       "1 135            albany  1107  \n",
       "2 154            albany  1107  \n",
       "3 293            albany  1107  \n",
       "4 216            albany  1107  \n",
       "5 307            albany  1107  "
      ]
     },
     "metadata": {},
     "output_type": "display_data"
    }
   ],
   "source": [
    "df.ratingsystem %>% filter(str_detect(Name,'Albany'))"
   ]
  },
  {
   "cell_type": "code",
   "execution_count": 9,
   "metadata": {},
   "outputs": [
    {
     "data": {
      "text/html": [
       "<table>\n",
       "<thead><tr><th scope=col>TeamID</th><th scope=col>TeamName</th><th scope=col>FirstD1Season</th><th scope=col>LastD1Season</th></tr></thead>\n",
       "<tbody>\n",
       "\t<tr><td>1167          </td><td>CS Bakersfield</td><td>2008          </td><td>2019          </td></tr>\n",
       "\t<tr><td>1418          </td><td>ULL           </td><td>1985          </td><td>2019          </td></tr>\n",
       "</tbody>\n",
       "</table>\n"
      ],
      "text/latex": [
       "\\begin{tabular}{r|llll}\n",
       " TeamID & TeamName & FirstD1Season & LastD1Season\\\\\n",
       "\\hline\n",
       "\t 1167           & CS Bakersfield & 2008           & 2019          \\\\\n",
       "\t 1418           & ULL            & 1985           & 2019          \\\\\n",
       "\\end{tabular}\n"
      ],
      "text/markdown": [
       "\n",
       "| TeamID | TeamName | FirstD1Season | LastD1Season |\n",
       "|---|---|---|---|\n",
       "| 1167           | CS Bakersfield | 2008           | 2019           |\n",
       "| 1418           | ULL            | 1985           | 2019           |\n",
       "\n"
      ],
      "text/plain": [
       "  TeamID TeamName       FirstD1Season LastD1Season\n",
       "1 1167   CS Bakersfield 2008          2019        \n",
       "2 1418   ULL            1985          2019        "
      ]
     },
     "metadata": {},
     "output_type": "display_data"
    }
   ],
   "source": [
    "# missing tourney team in stats (because name misspelling)\n",
    "df.ratingsystem %>% \n",
    "    right_join(df.tourneyteams,by='TeamID') %>%\n",
    "    filter(is.na(Rank)) %>%\n",
    "    select(TeamID) %>%\n",
    "    inner_join(data.teams,by='TeamID') %>%\n",
    "    distinct() %>%\n",
    "    arrange(TeamID)"
   ]
  },
  {
   "cell_type": "code",
   "execution_count": 10,
   "metadata": {},
   "outputs": [],
   "source": [
    "# add missing TeamID from Sagarin stats\n",
    "df.ratingsystem %>%\n",
    "    mutate_which(str_detect(Name,'Cal St. Bakersfield'),TeamID=1167) %>%\n",
    "    mutate_which(str_detect(Name,'Louisiana Lafayette'),TeamID=1418) %>%               # ULL University of Louisiana at Lafayette \n",
    "    mutate_which(str_detect(Name,'Little Rock'),TeamID=1114) -> df.ratingsystem"
   ]
  },
  {
   "cell_type": "code",
   "execution_count": 11,
   "metadata": {},
   "outputs": [
    {
     "data": {
      "text/html": [
       "<table>\n",
       "<thead><tr><th scope=col>TeamID</th><th scope=col>TeamName</th><th scope=col>FirstD1Season</th><th scope=col>LastD1Season</th></tr></thead>\n",
       "<tbody>\n",
       "</tbody>\n",
       "</table>\n"
      ],
      "text/latex": [
       "\\begin{tabular}{r|llll}\n",
       " TeamID & TeamName & FirstD1Season & LastD1Season\\\\\n",
       "\\hline\n",
       "\\end{tabular}\n"
      ],
      "text/markdown": [
       "\n",
       "| TeamID | TeamName | FirstD1Season | LastD1Season |\n",
       "|---|---|---|---|\n",
       "\n"
      ],
      "text/plain": [
       "     TeamID TeamName FirstD1Season LastD1Season"
      ]
     },
     "metadata": {},
     "output_type": "display_data"
    }
   ],
   "source": [
    "# check if ssomething is still wrong\n",
    "df.ratingsystem %>% \n",
    "    right_join(df.tourneyteams,by='TeamID') %>%\n",
    "    filter(is.na(Rank)) %>%\n",
    "    select(TeamID) %>%\n",
    "    inner_join(data.teams,by='TeamID') %>%\n",
    "    distinct() %>%\n",
    "    arrange(TeamID)"
   ]
  },
  {
   "cell_type": "code",
   "execution_count": 12,
   "metadata": {},
   "outputs": [],
   "source": [
    "# restrict stats to tourney teams\n",
    "df.ratingsystem %>% \n",
    "    inner_join(df.tourneyteams,by=c('TeamID','Season')) %>%\n",
    "    select(Season,TeamID,Rating) -> df.ratingsystem"
   ]
  },
  {
   "cell_type": "code",
   "execution_count": 13,
   "metadata": {},
   "outputs": [
    {
     "data": {
      "text/html": [
       "<table>\n",
       "<thead><tr><th scope=col>Season</th><th scope=col>n</th></tr></thead>\n",
       "<tbody>\n",
       "\t<tr><td>2014</td><td>68  </td></tr>\n",
       "\t<tr><td>2015</td><td>68  </td></tr>\n",
       "\t<tr><td>2016</td><td>68  </td></tr>\n",
       "\t<tr><td>2017</td><td>68  </td></tr>\n",
       "\t<tr><td>2018</td><td>68  </td></tr>\n",
       "</tbody>\n",
       "</table>\n"
      ],
      "text/latex": [
       "\\begin{tabular}{r|ll}\n",
       " Season & n\\\\\n",
       "\\hline\n",
       "\t 2014 & 68  \\\\\n",
       "\t 2015 & 68  \\\\\n",
       "\t 2016 & 68  \\\\\n",
       "\t 2017 & 68  \\\\\n",
       "\t 2018 & 68  \\\\\n",
       "\\end{tabular}\n"
      ],
      "text/markdown": [
       "\n",
       "| Season | n |\n",
       "|---|---|\n",
       "| 2014 | 68   |\n",
       "| 2015 | 68   |\n",
       "| 2016 | 68   |\n",
       "| 2017 | 68   |\n",
       "| 2018 | 68   |\n",
       "\n"
      ],
      "text/plain": [
       "  Season n \n",
       "1 2014   68\n",
       "2 2015   68\n",
       "3 2016   68\n",
       "4 2017   68\n",
       "5 2018   68"
      ]
     },
     "metadata": {},
     "output_type": "display_data"
    }
   ],
   "source": [
    "# Check if we have 68 teams per Season\n",
    "df.ratingsystem %>% \n",
    "    group_by(Season) %>% \n",
    "    count"
   ]
  },
  {
   "cell_type": "code",
   "execution_count": 14,
   "metadata": {},
   "outputs": [
    {
     "data": {
      "text/html": [
       "<table>\n",
       "<thead><tr><th scope=col>TeamID</th><th scope=col>TeamName</th></tr></thead>\n",
       "<tbody>\n",
       "</tbody>\n",
       "</table>\n"
      ],
      "text/latex": [
       "\\begin{tabular}{r|ll}\n",
       " TeamID & TeamName\\\\\n",
       "\\hline\n",
       "\\end{tabular}\n"
      ],
      "text/markdown": [
       "\n",
       "| TeamID | TeamName |\n",
       "|---|---|\n",
       "\n"
      ],
      "text/plain": [
       "     TeamID TeamName"
      ]
     },
     "metadata": {},
     "output_type": "display_data"
    }
   ],
   "source": [
    "# check missing TeamID per Season \n",
    "df.tourneyteams %>% \n",
    "    anti_join(df.ratingsystem,by=c('Season','TeamID')) %>%\n",
    "    inner_join(data.teams,by='TeamID') %>%\n",
    "    select(TeamID,TeamName) %>%\n",
    "    distinct()"
   ]
  },
  {
   "cell_type": "code",
   "execution_count": 15,
   "metadata": {},
   "outputs": [],
   "source": [
    "# load true results\n",
    "data.truth <- readRDS('datafiles_rds/TourneyTrueResults.rds')"
   ]
  },
  {
   "cell_type": "code",
   "execution_count": 16,
   "metadata": {},
   "outputs": [
    {
     "data": {
      "text/html": [
       "<table>\n",
       "<thead><tr><th scope=col>Season</th><th scope=col>qtl</th><th scope=col>Slope</th></tr></thead>\n",
       "<tbody>\n",
       "\t<tr><td>2014      </td><td>0.50      </td><td>0.20080321</td></tr>\n",
       "\t<tr><td>2017      </td><td>0.12      </td><td>0.09881163</td></tr>\n",
       "\t<tr><td>2018      </td><td>0.02      </td><td>0.07232541</td></tr>\n",
       "\t<tr><td>2017      </td><td>0.74      </td><td>0.34014377</td></tr>\n",
       "\t<tr><td>2018      </td><td>0.46      </td><td>0.15738283</td></tr>\n",
       "</tbody>\n",
       "</table>\n"
      ],
      "text/latex": [
       "\\begin{tabular}{r|lll}\n",
       " Season & qtl & Slope\\\\\n",
       "\\hline\n",
       "\t 2014       & 0.50       & 0.20080321\\\\\n",
       "\t 2017       & 0.12       & 0.09881163\\\\\n",
       "\t 2018       & 0.02       & 0.07232541\\\\\n",
       "\t 2017       & 0.74       & 0.34014377\\\\\n",
       "\t 2018       & 0.46       & 0.15738283\\\\\n",
       "\\end{tabular}\n"
      ],
      "text/markdown": [
       "\n",
       "| Season | qtl | Slope |\n",
       "|---|---|---|\n",
       "| 2014       | 0.50       | 0.20080321 |\n",
       "| 2017       | 0.12       | 0.09881163 |\n",
       "| 2018       | 0.02       | 0.07232541 |\n",
       "| 2017       | 0.74       | 0.34014377 |\n",
       "| 2018       | 0.46       | 0.15738283 |\n",
       "\n"
      ],
      "text/plain": [
       "  Season qtl  Slope     \n",
       "1 2014   0.50 0.20080321\n",
       "2 2017   0.12 0.09881163\n",
       "3 2018   0.02 0.07232541\n",
       "4 2017   0.74 0.34014377\n",
       "5 2018   0.46 0.15738283"
      ]
     },
     "metadata": {},
     "output_type": "display_data"
    }
   ],
   "source": [
    "# slope hyper parameter grid : we will compute 51 models and chose the best one (min logloss)\n",
    "df.ratingsystem %>% \n",
    "    mutate(dummy=1) %>% \n",
    "    inner_join(data.frame(qtl=seq(0.01,0.75,0.01),dummy=1),by='dummy') %>% \n",
    "    select(-dummy) %>% \n",
    "    group_by(qtl,Season) %>% \n",
    "    mutate(thres=max(Rating)-quantile(Rating,max(qtl)),Slope=3/thres) %>%\n",
    "    ungroup %>% \n",
    "    select(Season,qtl,Slope) %>% \n",
    "    distinct() -> df.slopes\n",
    "df.slopes %>% sample_n(5)"
   ]
  },
  {
   "cell_type": "code",
   "execution_count": 17,
   "metadata": {},
   "outputs": [
    {
     "data": {
      "text/html": [
       "<table>\n",
       "<thead><tr><th scope=col>Season</th><th scope=col>TeamID.x</th><th scope=col>Rating.x</th><th scope=col>TeamID.y</th><th scope=col>Rating.y</th></tr></thead>\n",
       "<tbody>\n",
       "\t<tr><td>2014 </td><td>1307 </td><td>17.15</td><td>1455 </td><td>25.36</td></tr>\n",
       "\t<tr><td>2018 </td><td>1112 </td><td>17.70</td><td>1277 </td><td>25.41</td></tr>\n",
       "\t<tr><td>2017 </td><td>1139 </td><td>20.76</td><td>1374 </td><td>24.73</td></tr>\n",
       "\t<tr><td>2018 </td><td>1168 </td><td> 0.62</td><td>1462 </td><td>21.51</td></tr>\n",
       "\t<tr><td>2015 </td><td>1361 </td><td>15.95</td><td>1437 </td><td>30.65</td></tr>\n",
       "</tbody>\n",
       "</table>\n"
      ],
      "text/latex": [
       "\\begin{tabular}{r|lllll}\n",
       " Season & TeamID.x & Rating.x & TeamID.y & Rating.y\\\\\n",
       "\\hline\n",
       "\t 2014  & 1307  & 17.15 & 1455  & 25.36\\\\\n",
       "\t 2018  & 1112  & 17.70 & 1277  & 25.41\\\\\n",
       "\t 2017  & 1139  & 20.76 & 1374  & 24.73\\\\\n",
       "\t 2018  & 1168  &  0.62 & 1462  & 21.51\\\\\n",
       "\t 2015  & 1361  & 15.95 & 1437  & 30.65\\\\\n",
       "\\end{tabular}\n"
      ],
      "text/markdown": [
       "\n",
       "| Season | TeamID.x | Rating.x | TeamID.y | Rating.y |\n",
       "|---|---|---|---|---|\n",
       "| 2014  | 1307  | 17.15 | 1455  | 25.36 |\n",
       "| 2018  | 1112  | 17.70 | 1277  | 25.41 |\n",
       "| 2017  | 1139  | 20.76 | 1374  | 24.73 |\n",
       "| 2018  | 1168  |  0.62 | 1462  | 21.51 |\n",
       "| 2015  | 1361  | 15.95 | 1437  | 30.65 |\n",
       "\n"
      ],
      "text/plain": [
       "  Season TeamID.x Rating.x TeamID.y Rating.y\n",
       "1 2014   1307     17.15    1455     25.36   \n",
       "2 2018   1112     17.70    1277     25.41   \n",
       "3 2017   1139     20.76    1374     24.73   \n",
       "4 2018   1168      0.62    1462     21.51   \n",
       "5 2015   1361     15.95    1437     30.65   "
      ]
     },
     "metadata": {},
     "output_type": "display_data"
    }
   ],
   "source": [
    "# matchups dataframe : all the possible matches between the 68 teams per Season \n",
    "df.ratingsystem %>% \n",
    "    inner_join(df.ratingsystem,by='Season') %>% \n",
    "    filter(TeamID.x < TeamID.y) -> df.matchup\n",
    "df.matchup %>% sample_n(5)"
   ]
  },
  {
   "cell_type": "code",
   "execution_count": 18,
   "metadata": {},
   "outputs": [
    {
     "data": {
      "text/html": [
       "<table>\n",
       "<thead><tr><th scope=col>Season</th><th scope=col>TeamID.x</th><th scope=col>Rating.x</th><th scope=col>TeamID.y</th><th scope=col>Rating.y</th><th scope=col>qtl</th><th scope=col>Slope</th></tr></thead>\n",
       "<tbody>\n",
       "\t<tr><td>2018     </td><td>1277     </td><td>25.41    </td><td>1411     </td><td>-6.65    </td><td>0.39     </td><td>0.1525569</td></tr>\n",
       "\t<tr><td>2014     </td><td>1300     </td><td> 7.98    </td><td>1372     </td><td>10.83    </td><td>0.24     </td><td>0.1487092</td></tr>\n",
       "\t<tr><td>2014     </td><td>1308     </td><td>10.54    </td><td>1387     </td><td>15.72    </td><td>0.67     </td><td>0.2983175</td></tr>\n",
       "\t<tr><td>2017     </td><td>1268     </td><td>14.34    </td><td>1276     </td><td>23.05    </td><td>0.39     </td><td>0.1701577</td></tr>\n",
       "\t<tr><td>2017     </td><td>1308     </td><td> 7.89    </td><td>1413     </td><td>-4.41    </td><td>0.49     </td><td>0.1893641</td></tr>\n",
       "</tbody>\n",
       "</table>\n"
      ],
      "text/latex": [
       "\\begin{tabular}{r|lllllll}\n",
       " Season & TeamID.x & Rating.x & TeamID.y & Rating.y & qtl & Slope\\\\\n",
       "\\hline\n",
       "\t 2018      & 1277      & 25.41     & 1411      & -6.65     & 0.39      & 0.1525569\\\\\n",
       "\t 2014      & 1300      &  7.98     & 1372      & 10.83     & 0.24      & 0.1487092\\\\\n",
       "\t 2014      & 1308      & 10.54     & 1387      & 15.72     & 0.67      & 0.2983175\\\\\n",
       "\t 2017      & 1268      & 14.34     & 1276      & 23.05     & 0.39      & 0.1701577\\\\\n",
       "\t 2017      & 1308      &  7.89     & 1413      & -4.41     & 0.49      & 0.1893641\\\\\n",
       "\\end{tabular}\n"
      ],
      "text/markdown": [
       "\n",
       "| Season | TeamID.x | Rating.x | TeamID.y | Rating.y | qtl | Slope |\n",
       "|---|---|---|---|---|---|---|\n",
       "| 2018      | 1277      | 25.41     | 1411      | -6.65     | 0.39      | 0.1525569 |\n",
       "| 2014      | 1300      |  7.98     | 1372      | 10.83     | 0.24      | 0.1487092 |\n",
       "| 2014      | 1308      | 10.54     | 1387      | 15.72     | 0.67      | 0.2983175 |\n",
       "| 2017      | 1268      | 14.34     | 1276      | 23.05     | 0.39      | 0.1701577 |\n",
       "| 2017      | 1308      |  7.89     | 1413      | -4.41     | 0.49      | 0.1893641 |\n",
       "\n"
      ],
      "text/plain": [
       "  Season TeamID.x Rating.x TeamID.y Rating.y qtl  Slope    \n",
       "1 2018   1277     25.41    1411     -6.65    0.39 0.1525569\n",
       "2 2014   1300      7.98    1372     10.83    0.24 0.1487092\n",
       "3 2014   1308     10.54    1387     15.72    0.67 0.2983175\n",
       "4 2017   1268     14.34    1276     23.05    0.39 0.1701577\n",
       "5 2017   1308      7.89    1413     -4.41    0.49 0.1893641"
      ]
     },
     "metadata": {},
     "output_type": "display_data"
    }
   ],
   "source": [
    "# all matchs with all 51 hyper parameter setting (qtl=[0.25,0.75]) \n",
    "df.matchup %>% inner_join(df.slopes,by=c('Season')) -> df.matchup\n",
    "df.matchup %>% sample_n(5)"
   ]
  },
  {
   "cell_type": "code",
   "execution_count": 19,
   "metadata": {},
   "outputs": [
    {
     "data": {
      "text/html": [
       "<table>\n",
       "<thead><tr><th scope=col>qtl</th><th scope=col>ID</th><th scope=col>Pred</th><th scope=col>Prob</th></tr></thead>\n",
       "<tbody>\n",
       "\t<tr><td>0.69          </td><td>2017_1233_1407</td><td>1             </td><td>0.665         </td></tr>\n",
       "\t<tr><td>0.68          </td><td>2015_1279_1417</td><td>0             </td><td>0.468         </td></tr>\n",
       "\t<tr><td>0.58          </td><td>2018_1116_1254</td><td>1             </td><td>0.950         </td></tr>\n",
       "\t<tr><td>0.73          </td><td>2017_1196_1376</td><td>1             </td><td>0.905         </td></tr>\n",
       "\t<tr><td>0.28          </td><td>2015_1246_1320</td><td>1             </td><td>0.863         </td></tr>\n",
       "</tbody>\n",
       "</table>\n"
      ],
      "text/latex": [
       "\\begin{tabular}{r|llll}\n",
       " qtl & ID & Pred & Prob\\\\\n",
       "\\hline\n",
       "\t 0.69               & 2017\\_1233\\_1407 & 1                  & 0.665             \\\\\n",
       "\t 0.68               & 2015\\_1279\\_1417 & 0                  & 0.468             \\\\\n",
       "\t 0.58               & 2018\\_1116\\_1254 & 1                  & 0.950             \\\\\n",
       "\t 0.73               & 2017\\_1196\\_1376 & 1                  & 0.905             \\\\\n",
       "\t 0.28               & 2015\\_1246\\_1320 & 1                  & 0.863             \\\\\n",
       "\\end{tabular}\n"
      ],
      "text/markdown": [
       "\n",
       "| qtl | ID | Pred | Prob |\n",
       "|---|---|---|---|\n",
       "| 0.69           | 2017_1233_1407 | 1              | 0.665          |\n",
       "| 0.68           | 2015_1279_1417 | 0              | 0.468          |\n",
       "| 0.58           | 2018_1116_1254 | 1              | 0.950          |\n",
       "| 0.73           | 2017_1196_1376 | 1              | 0.905          |\n",
       "| 0.28           | 2015_1246_1320 | 1              | 0.863          |\n",
       "\n"
      ],
      "text/plain": [
       "  qtl  ID             Pred Prob \n",
       "1 0.69 2017_1233_1407 1    0.665\n",
       "2 0.68 2015_1279_1417 0    0.468\n",
       "3 0.58 2018_1116_1254 1    0.950\n",
       "4 0.73 2017_1196_1376 1    0.905\n",
       "5 0.28 2015_1246_1320 1    0.863"
      ]
     },
     "metadata": {},
     "output_type": "display_data"
    }
   ],
   "source": [
    "# machups predictions : compute the winning probability of TeamID.x and cap it into [0.05,0.95] to avoid too much logloss is case of FP or FN \n",
    "df.matchup %>% \n",
    "    mutate(ID=str_c(Season,'_',TeamID.x,'_',TeamID.y)) %>% \n",
    "    mutate(Prob=logistic(Rating.x-Rating.y,a=Slope)) %>% \n",
    "    mutate(Pred=ifelse(Prob>0.5,1,0)) %>% \n",
    "    mutate(Prob=round(Prob,3)) %>%\n",
    "    mutate_which(Prob>0.95,Prob=0.95) %>%\n",
    "    mutate_which(Prob<0.05,Prob=0.05) %>%\n",
    "    select(qtl,ID,Pred,Prob) -> df.submit\n",
    "df.submit %>% sample_n(5)"
   ]
  },
  {
   "cell_type": "code",
   "execution_count": 20,
   "metadata": {},
   "outputs": [],
   "source": [
    "# merge prediction and truth\n",
    "data.truth %>% inner_join(df.submit,by='ID') -> df.results"
   ]
  },
  {
   "cell_type": "code",
   "execution_count": 21,
   "metadata": {},
   "outputs": [
    {
     "data": {
      "text/html": [
       "<table>\n",
       "<thead><tr><th scope=col>qtl</th><th scope=col>TC</th><th scope=col>FC</th><th scope=col>N</th><th scope=col>Acc</th><th scope=col>LogLoss</th></tr></thead>\n",
       "<tbody>\n",
       "\t<tr><td>0.31     </td><td>248      </td><td>87       </td><td>335      </td><td>0.7402985</td><td>0.4989922</td></tr>\n",
       "\t<tr><td>0.32     </td><td>248      </td><td>87       </td><td>335      </td><td>0.7402985</td><td>0.4990531</td></tr>\n",
       "\t<tr><td>0.30     </td><td>248      </td><td>87       </td><td>335      </td><td>0.7402985</td><td>0.4992647</td></tr>\n",
       "\t<tr><td>0.35     </td><td>248      </td><td>87       </td><td>335      </td><td>0.7402985</td><td>0.4993081</td></tr>\n",
       "\t<tr><td>0.34     </td><td>248      </td><td>87       </td><td>335      </td><td>0.7402985</td><td>0.4993364</td></tr>\n",
       "</tbody>\n",
       "</table>\n"
      ],
      "text/latex": [
       "\\begin{tabular}{r|llllll}\n",
       " qtl & TC & FC & N & Acc & LogLoss\\\\\n",
       "\\hline\n",
       "\t 0.31      & 248       & 87        & 335       & 0.7402985 & 0.4989922\\\\\n",
       "\t 0.32      & 248       & 87        & 335       & 0.7402985 & 0.4990531\\\\\n",
       "\t 0.30      & 248       & 87        & 335       & 0.7402985 & 0.4992647\\\\\n",
       "\t 0.35      & 248       & 87        & 335       & 0.7402985 & 0.4993081\\\\\n",
       "\t 0.34      & 248       & 87        & 335       & 0.7402985 & 0.4993364\\\\\n",
       "\\end{tabular}\n"
      ],
      "text/markdown": [
       "\n",
       "| qtl | TC | FC | N | Acc | LogLoss |\n",
       "|---|---|---|---|---|---|\n",
       "| 0.31      | 248       | 87        | 335       | 0.7402985 | 0.4989922 |\n",
       "| 0.32      | 248       | 87        | 335       | 0.7402985 | 0.4990531 |\n",
       "| 0.30      | 248       | 87        | 335       | 0.7402985 | 0.4992647 |\n",
       "| 0.35      | 248       | 87        | 335       | 0.7402985 | 0.4993081 |\n",
       "| 0.34      | 248       | 87        | 335       | 0.7402985 | 0.4993364 |\n",
       "\n"
      ],
      "text/plain": [
       "  qtl  TC  FC N   Acc       LogLoss  \n",
       "1 0.31 248 87 335 0.7402985 0.4989922\n",
       "2 0.32 248 87 335 0.7402985 0.4990531\n",
       "3 0.30 248 87 335 0.7402985 0.4992647\n",
       "4 0.35 248 87 335 0.7402985 0.4993081\n",
       "5 0.34 248 87 335 0.7402985 0.4993364"
      ]
     },
     "metadata": {},
     "output_type": "display_data"
    }
   ],
   "source": [
    "# compute accuracy & Logloss per qtl to find the best one\n",
    "df.results %>% \n",
    "    mutate(OK=ifelse(Pred==Target,1,0)) %>%\n",
    "    mutate(LogLoss=Target*log(Prob) + (1-Target)*log(1-Prob)) %>%\n",
    "    group_by(qtl) %>%\n",
    "    summarise(TC=sum(OK),N=n(),FC=N-TC,Acc=TC/N,LogLoss=-mean(LogLoss)) %>%\n",
    "    select(qtl,TC,FC,N,Acc,LogLoss) -> df.results.perf\n",
    "df.results.perf %>% arrange(LogLoss) %>% head(5)"
   ]
  },
  {
   "cell_type": "code",
   "execution_count": 22,
   "metadata": {},
   "outputs": [],
   "source": [
    "# store the best qtl\n",
    "df.results.perf %>% \n",
    "    arrange(LogLoss) %>% \n",
    "    head(1) %>% pull(qtl) -> bestqtl"
   ]
  },
  {
   "cell_type": "code",
   "execution_count": 23,
   "metadata": {},
   "outputs": [],
   "source": [
    "# save the best results for kaggle submission\n",
    "df.submit %>% \n",
    "    filter(qtl==bestqtl) %>% \n",
    "    select(ID,Pred=Prob) %>% \n",
    "    write.csv('predictions/Pred_Pomeroy_bestqtl.csv',quote=F,row.names=F)"
   ]
  },
  {
   "cell_type": "code",
   "execution_count": 24,
   "metadata": {},
   "outputs": [],
   "source": [
    "# save best model for mix\n",
    "df.submit %>%\n",
    "    filter(qtl==bestqtl) %>% \n",
    "    saveRDS('predictions/Pomeroy_bestqtl.rds')    "
   ]
  },
  {
   "cell_type": "code",
   "execution_count": null,
   "metadata": {},
   "outputs": [],
   "source": []
  }
 ],
 "metadata": {
  "kernelspec": {
   "display_name": "R 3.5.0",
   "language": "R",
   "name": "ir35"
  },
  "language_info": {
   "codemirror_mode": "r",
   "file_extension": ".r",
   "mimetype": "text/x-r-source",
   "name": "R",
   "pygments_lexer": "r",
   "version": "3.5.1"
  }
 },
 "nbformat": 4,
 "nbformat_minor": 2
}
