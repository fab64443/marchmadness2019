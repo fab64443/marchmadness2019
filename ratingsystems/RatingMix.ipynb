{
 "cells": [
  {
   "cell_type": "code",
   "execution_count": 1,
   "metadata": {},
   "outputs": [],
   "source": [
    "# Load required packages\n",
    "library(dplyr,warn.conflicts=F)\n",
    "library(stringr,warn.conflicts=F)\n",
    "library(psych,warn.conflicts=F)\n",
    "library(lplyr,warn.conflicts=F)"
   ]
  },
  {
   "cell_type": "code",
   "execution_count": 17,
   "metadata": {},
   "outputs": [],
   "source": [
    "# load true results\n",
    "data.truth <- readRDS('datafiles_rds/TourneyTrueResults.rds')"
   ]
  },
  {
   "cell_type": "code",
   "execution_count": 3,
   "metadata": {},
   "outputs": [],
   "source": [
    "# load results\n",
    "data.sagarin <- readRDS('predictions/Sagarin_bestqtl.rds')\n",
    "data.dunkle <- readRDS('predictions/Dunkle_bestqtl.rds')"
   ]
  },
  {
   "cell_type": "code",
   "execution_count": 32,
   "metadata": {},
   "outputs": [],
   "source": [
    "data.sagarin %>% \n",
    "    select(-qtl,PredSAG=Pred,ProbSAG=Prob) %>%\n",
    "    inner_join(data.dunkle,by='ID') %>%\n",
    "    select(-qtl,PredDUN=Pred,ProbDUN=Prob) -> df.mix"
   ]
  },
  {
   "cell_type": "markdown",
   "metadata": {},
   "source": [
    "#### Equi Mix"
   ]
  },
  {
   "cell_type": "code",
   "execution_count": 33,
   "metadata": {},
   "outputs": [],
   "source": [
    "df.mix %>% \n",
    "    mutate(ProbMIX=ifelse(abs(ProbSAG-0.5)>abs(ProbDUN-0.5),ProbSAG,ProbDUN)) %>% \n",
    "    select(-PredSAG,-PredDUN) %>%\n",
    "    mutate(PredMIX=ifelse(ProbMIX>0.5,1,0)) -> df.mix\n",
    "df.mix %>%\n",
    "    inner_join(data.truth,by='ID') -> df.mix"
   ]
  },
  {
   "cell_type": "code",
   "execution_count": 35,
   "metadata": {},
   "outputs": [
    {
     "data": {
      "text/html": [
       "<table>\n",
       "<thead><tr><th scope=col>TC</th><th scope=col>FC</th><th scope=col>N</th><th scope=col>Acc</th><th scope=col>LogLoss</th></tr></thead>\n",
       "<tbody>\n",
       "\t<tr><td>261      </td><td>74       </td><td>335      </td><td>0.7791045</td><td>0.4672445</td></tr>\n",
       "</tbody>\n",
       "</table>\n"
      ],
      "text/latex": [
       "\\begin{tabular}{r|lllll}\n",
       " TC & FC & N & Acc & LogLoss\\\\\n",
       "\\hline\n",
       "\t 261       & 74        & 335       & 0.7791045 & 0.4672445\\\\\n",
       "\\end{tabular}\n"
      ],
      "text/markdown": [
       "\n",
       "| TC | FC | N | Acc | LogLoss |\n",
       "|---|---|---|---|---|\n",
       "| 261       | 74        | 335       | 0.7791045 | 0.4672445 |\n",
       "\n"
      ],
      "text/plain": [
       "  TC  FC N   Acc       LogLoss  \n",
       "1 261 74 335 0.7791045 0.4672445"
      ]
     },
     "metadata": {},
     "output_type": "display_data"
    }
   ],
   "source": [
    "# compute accuracy & Logloss per qtl to find the best one\n",
    "df.mix %>% \n",
    "    mutate(OK=ifelse(PredMIX==Target,1,0)) %>%\n",
    "    mutate(LogLoss=Target*log(ProbMIX) + (1-Target)*log(1-ProbMIX)) %>%\n",
    "    summarise(TC=sum(OK),N=n(),FC=N-TC,Acc=TC/N,LogLoss=-mean(LogLoss)) %>%\n",
    "    select(TC,FC,N,Acc,LogLoss) -> df.perf\n",
    "df.perf %>% arrange(LogLoss) %>% head(5)"
   ]
  },
  {
   "cell_type": "markdown",
   "metadata": {},
   "source": [
    "#### Champion vs Outsider"
   ]
  },
  {
   "cell_type": "code",
   "execution_count": null,
   "metadata": {},
   "outputs": [],
   "source": []
  },
  {
   "cell_type": "code",
   "execution_count": null,
   "metadata": {},
   "outputs": [],
   "source": []
  },
  {
   "cell_type": "code",
   "execution_count": null,
   "metadata": {},
   "outputs": [],
   "source": []
  },
  {
   "cell_type": "code",
   "execution_count": null,
   "metadata": {},
   "outputs": [],
   "source": []
  },
  {
   "cell_type": "code",
   "execution_count": null,
   "metadata": {},
   "outputs": [],
   "source": []
  }
 ],
 "metadata": {
  "kernelspec": {
   "display_name": "R 3.5.0",
   "language": "R",
   "name": "ir35"
  },
  "language_info": {
   "codemirror_mode": "r",
   "file_extension": ".r",
   "mimetype": "text/x-r-source",
   "name": "R",
   "pygments_lexer": "r",
   "version": "3.5.1"
  }
 },
 "nbformat": 4,
 "nbformat_minor": 2
}
