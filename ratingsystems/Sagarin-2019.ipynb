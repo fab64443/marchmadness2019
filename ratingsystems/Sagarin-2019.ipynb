{
 "cells": [
  {
   "cell_type": "code",
   "execution_count": 49,
   "metadata": {},
   "outputs": [],
   "source": [
    "# Load required packages\n",
    "library(dplyr,warn.conflicts=F)\n",
    "library(stringr,warn.conflicts=F)\n",
    "library(psych,warn.conflicts=F)\n",
    "library(lplyr,warn.conflicts=F)"
   ]
  },
  {
   "cell_type": "code",
   "execution_count": 50,
   "metadata": {},
   "outputs": [],
   "source": [
    "data.madnessteams <- read.csv('../2019/NCAATourneySeeds.csv',stringsAsFactors=F)\n",
    "data.madnessteams %>% \n",
    "    filter(Season==2019) %>%\n",
    "    select(TeamID) %>% \n",
    "    mutate(Season=2019) -> df.tourneyteams"
   ]
  },
  {
   "cell_type": "code",
   "execution_count": 51,
   "metadata": {},
   "outputs": [
    {
     "data": {
      "text/html": [
       "<table>\n",
       "<thead><tr><th scope=col>Rank</th><th scope=col>Team</th><th scope=col>Rating</th><th scope=col>Sched</th><th scope=col>Predictor</th><th scope=col>Golden</th><th scope=col>Recent</th></tr></thead>\n",
       "<tbody>\n",
       "\t<tr><td>1             </td><td>Duke          </td><td>96.48         </td><td>82.47         </td><td>96.45         </td><td>96.11         </td><td>95.65         </td></tr>\n",
       "\t<tr><td>2             </td><td>Virginia      </td><td>95.31         </td><td>80.80         </td><td>95.37         </td><td>95.79         </td><td>92.82         </td></tr>\n",
       "\t<tr><td>3             </td><td>North Carolina</td><td>94.55         </td><td>82.58         </td><td>94.39         </td><td>93.87         </td><td>95.90         </td></tr>\n",
       "\t<tr><td>4             </td><td>Michigan State</td><td>94.06         </td><td>82.45         </td><td>93.88         </td><td>93.75         </td><td>94.47         </td></tr>\n",
       "\t<tr><td>5             </td><td>Gonzaga       </td><td>93.68         </td><td>74.88         </td><td>95.89         </td><td>94.06         </td><td>86.65         </td></tr>\n",
       "\t<tr><td>6             </td><td>Kentucky      </td><td>91.29         </td><td>81.36         </td><td>91.04         </td><td>92.05         </td><td>90.35         </td></tr>\n",
       "</tbody>\n",
       "</table>\n"
      ],
      "text/latex": [
       "\\begin{tabular}{r|lllllll}\n",
       " Rank & Team & Rating & Sched & Predictor & Golden & Recent\\\\\n",
       "\\hline\n",
       "\t 1              & Duke           & 96.48          & 82.47          & 96.45          & 96.11          & 95.65         \\\\\n",
       "\t 2              & Virginia       & 95.31          & 80.80          & 95.37          & 95.79          & 92.82         \\\\\n",
       "\t 3              & North Carolina & 94.55          & 82.58          & 94.39          & 93.87          & 95.90         \\\\\n",
       "\t 4              & Michigan State & 94.06          & 82.45          & 93.88          & 93.75          & 94.47         \\\\\n",
       "\t 5              & Gonzaga        & 93.68          & 74.88          & 95.89          & 94.06          & 86.65         \\\\\n",
       "\t 6              & Kentucky       & 91.29          & 81.36          & 91.04          & 92.05          & 90.35         \\\\\n",
       "\\end{tabular}\n"
      ],
      "text/markdown": [
       "\n",
       "| Rank | Team | Rating | Sched | Predictor | Golden | Recent |\n",
       "|---|---|---|---|---|---|---|\n",
       "| 1              | Duke           | 96.48          | 82.47          | 96.45          | 96.11          | 95.65          |\n",
       "| 2              | Virginia       | 95.31          | 80.80          | 95.37          | 95.79          | 92.82          |\n",
       "| 3              | North Carolina | 94.55          | 82.58          | 94.39          | 93.87          | 95.90          |\n",
       "| 4              | Michigan State | 94.06          | 82.45          | 93.88          | 93.75          | 94.47          |\n",
       "| 5              | Gonzaga        | 93.68          | 74.88          | 95.89          | 94.06          | 86.65          |\n",
       "| 6              | Kentucky       | 91.29          | 81.36          | 91.04          | 92.05          | 90.35          |\n",
       "\n"
      ],
      "text/plain": [
       "  Rank Team           Rating Sched Predictor Golden Recent\n",
       "1 1    Duke           96.48  82.47 96.45     96.11  95.65 \n",
       "2 2    Virginia       95.31  80.80 95.37     95.79  92.82 \n",
       "3 3    North Carolina 94.55  82.58 94.39     93.87  95.90 \n",
       "4 4    Michigan State 94.06  82.45 93.88     93.75  94.47 \n",
       "5 5    Gonzaga        93.68  74.88 95.89     94.06  86.65 \n",
       "6 6    Kentucky       91.29  81.36 91.04     92.05  90.35 "
      ]
     },
     "metadata": {},
     "output_type": "display_data"
    }
   ],
   "source": [
    "# Sagarin Rating 2019\n",
    "# https://ux.kitsapsun.com/sports/ncaab/sagarin/201?/team/\n",
    "data.sagarin <- read.csv('../2019//Sagarin.csv',stringsAsFactors=F)\n",
    "data.sagarin %>% head"
   ]
  },
  {
   "cell_type": "code",
   "execution_count": 52,
   "metadata": {},
   "outputs": [],
   "source": [
    "# load team spellings variations\n",
    "data.teamspellings <- readRDS('../datafiles_rds/TeamSpellings.rds')\n",
    "data.teams <- readRDS('../datafiles_rds/Teams.rds')"
   ]
  },
  {
   "cell_type": "code",
   "execution_count": 53,
   "metadata": {},
   "outputs": [],
   "source": [
    "# add TeamID based on team name\n",
    "data.sagarin %>% \n",
    "    mutate(Name=str_to_lower(Team)) %>% \n",
    "    left_join(data.teamspellings,by=c('Name'='TeamNameSpelling')) %>%\n",
    "    mutate(Season=2019) -> df.sagarin"
   ]
  },
  {
   "cell_type": "raw",
   "metadata": {
    "scrolled": false
   },
   "source": [
    "# team's name which does not match\n",
    "df.sagarin %>% \n",
    "    filter(is.na(TeamID)) %>%\n",
    "    select(Name) %>%\n",
    "    distinct() %>%\n",
    "    arrange(Name)"
   ]
  },
  {
   "cell_type": "code",
   "execution_count": 54,
   "metadata": {},
   "outputs": [
    {
     "data": {
      "text/html": [
       "<table>\n",
       "<thead><tr><th scope=col>TeamID</th><th scope=col>TeamName</th><th scope=col>FirstD1Season</th><th scope=col>LastD1Season</th></tr></thead>\n",
       "<tbody>\n",
       "\t<tr><td>1233           </td><td>Iona           </td><td>1985           </td><td>2019           </td></tr>\n",
       "\t<tr><td>1388           </td><td>St Mary's CA   </td><td>1985           </td><td>2019           </td></tr>\n",
       "\t<tr><td>1433           </td><td>VA Commonwealth</td><td>1985           </td><td>2019           </td></tr>\n",
       "</tbody>\n",
       "</table>\n"
      ],
      "text/latex": [
       "\\begin{tabular}{r|llll}\n",
       " TeamID & TeamName & FirstD1Season & LastD1Season\\\\\n",
       "\\hline\n",
       "\t 1233            & Iona            & 1985            & 2019           \\\\\n",
       "\t 1388            & St Mary's CA    & 1985            & 2019           \\\\\n",
       "\t 1433            & VA Commonwealth & 1985            & 2019           \\\\\n",
       "\\end{tabular}\n"
      ],
      "text/markdown": [
       "\n",
       "| TeamID | TeamName | FirstD1Season | LastD1Season |\n",
       "|---|---|---|---|\n",
       "| 1233            | Iona            | 1985            | 2019            |\n",
       "| 1388            | St Mary's CA    | 1985            | 2019            |\n",
       "| 1433            | VA Commonwealth | 1985            | 2019            |\n",
       "\n"
      ],
      "text/plain": [
       "  TeamID TeamName        FirstD1Season LastD1Season\n",
       "1 1233   Iona            1985          2019        \n",
       "2 1388   St Mary's CA    1985          2019        \n",
       "3 1433   VA Commonwealth 1985          2019        "
      ]
     },
     "metadata": {},
     "output_type": "display_data"
    }
   ],
   "source": [
    "# missing tourney team in Sagarin stats (because name misspelling)\n",
    "df.sagarin %>% \n",
    "    right_join(df.tourneyteams,by='TeamID') %>%\n",
    "    filter(is.na(Rank)) %>%\n",
    "    select(TeamID) %>%\n",
    "    inner_join(data.teams,by='TeamID') %>%\n",
    "    distinct() %>%\n",
    "    arrange(TeamID)"
   ]
  },
  {
   "cell_type": "code",
   "execution_count": 55,
   "metadata": {},
   "outputs": [],
   "source": [
    "# add missing TeamID from Sagarin stats\n",
    "df.sagarin %>%\n",
    "    mutate_which(str_detect(Name,'commonwealth'),TeamID=1433) %>%\n",
    "    mutate_which(str_detect(Name,'saint mary'),TeamID=1388) %>%\n",
    "    mutate_which(str_detect(Name,'^iona'),TeamID=1233) -> df.sagarin"
   ]
  },
  {
   "cell_type": "code",
   "execution_count": 56,
   "metadata": {},
   "outputs": [
    {
     "data": {
      "text/html": [
       "<table>\n",
       "<thead><tr><th scope=col>TeamID</th><th scope=col>TeamName</th><th scope=col>FirstD1Season</th><th scope=col>LastD1Season</th></tr></thead>\n",
       "<tbody>\n",
       "</tbody>\n",
       "</table>\n"
      ],
      "text/latex": [
       "\\begin{tabular}{r|llll}\n",
       " TeamID & TeamName & FirstD1Season & LastD1Season\\\\\n",
       "\\hline\n",
       "\\end{tabular}\n"
      ],
      "text/markdown": [
       "\n",
       "| TeamID | TeamName | FirstD1Season | LastD1Season |\n",
       "|---|---|---|---|\n",
       "\n"
      ],
      "text/plain": [
       "     TeamID TeamName FirstD1Season LastD1Season"
      ]
     },
     "metadata": {},
     "output_type": "display_data"
    }
   ],
   "source": [
    "# check if ssomething is still wrong\n",
    "df.sagarin %>% \n",
    "    right_join(df.tourneyteams,by='TeamID') %>%\n",
    "    filter(is.na(Rank)) %>%\n",
    "    select(TeamID) %>%\n",
    "    inner_join(data.teams,by='TeamID') %>%\n",
    "    distinct() %>%\n",
    "    arrange(TeamID)"
   ]
  },
  {
   "cell_type": "code",
   "execution_count": 57,
   "metadata": {},
   "outputs": [],
   "source": [
    "# restrict Sagarin stats to tourney teams\n",
    "df.sagarin %>% \n",
    "    inner_join(df.tourneyteams,by=c('TeamID','Season')) %>%\n",
    "    select(Season,TeamID,Rating) -> df.sagarin"
   ]
  },
  {
   "cell_type": "code",
   "execution_count": 58,
   "metadata": {},
   "outputs": [
    {
     "data": {
      "text/html": [
       "<table>\n",
       "<thead><tr><th scope=col>Season</th><th scope=col>n</th></tr></thead>\n",
       "<tbody>\n",
       "\t<tr><td>2019</td><td>68  </td></tr>\n",
       "</tbody>\n",
       "</table>\n"
      ],
      "text/latex": [
       "\\begin{tabular}{r|ll}\n",
       " Season & n\\\\\n",
       "\\hline\n",
       "\t 2019 & 68  \\\\\n",
       "\\end{tabular}\n"
      ],
      "text/markdown": [
       "\n",
       "| Season | n |\n",
       "|---|---|\n",
       "| 2019 | 68   |\n",
       "\n"
      ],
      "text/plain": [
       "  Season n \n",
       "1 2019   68"
      ]
     },
     "metadata": {},
     "output_type": "display_data"
    }
   ],
   "source": [
    "# Check if we have 68 teams per Season\n",
    "df.sagarin %>% \n",
    "    group_by(Season) %>% \n",
    "    count"
   ]
  },
  {
   "cell_type": "code",
   "execution_count": 59,
   "metadata": {
    "scrolled": true
   },
   "outputs": [
    {
     "data": {
      "text/html": [
       "<table>\n",
       "<thead><tr><th scope=col>TeamID</th><th scope=col>Season</th></tr></thead>\n",
       "<tbody>\n",
       "</tbody>\n",
       "</table>\n"
      ],
      "text/latex": [
       "\\begin{tabular}{r|ll}\n",
       " TeamID & Season\\\\\n",
       "\\hline\n",
       "\\end{tabular}\n"
      ],
      "text/markdown": [
       "\n",
       "| TeamID | Season |\n",
       "|---|---|\n",
       "\n"
      ],
      "text/plain": [
       "     TeamID Season"
      ]
     },
     "metadata": {},
     "output_type": "display_data"
    }
   ],
   "source": [
    "# check missing TeamID per Season \n",
    "df.tourneyteams %>% \n",
    "    anti_join(df.sagarin,by=c('Season','TeamID'))"
   ]
  },
  {
   "cell_type": "markdown",
   "metadata": {},
   "source": [
    "#### Predictions"
   ]
  },
  {
   "cell_type": "code",
   "execution_count": 60,
   "metadata": {},
   "outputs": [],
   "source": [
    "df.tourneyteams %>%\n",
    "    full_join(data.madnessteams,by='Season') %>%\n",
    "    filter(TeamID.x < TeamID.y) %>%\n",
    "    select(-Season) -> data.matchups "
   ]
  },
  {
   "cell_type": "code",
   "execution_count": 67,
   "metadata": {},
   "outputs": [
    {
     "data": {
      "text/html": [
       "0.200662185211197"
      ],
      "text/latex": [
       "0.200662185211197"
      ],
      "text/markdown": [
       "0.200662185211197"
      ],
      "text/plain": [
       "[1] 0.2006622"
      ]
     },
     "metadata": {},
     "output_type": "display_data"
    }
   ],
   "source": [
    "Qtl = 0.35\n",
    "Slope = as.numeric(3 / ( max(df.sagarin$Rating) - quantile(df.sagarin$Rating,Qtl)))\n",
    "Slope"
   ]
  },
  {
   "cell_type": "code",
   "execution_count": 68,
   "metadata": {},
   "outputs": [
    {
     "data": {
      "text/html": [
       "<table>\n",
       "<thead><tr><th scope=col>Season</th><th scope=col>TeamID</th><th scope=col>Rating</th></tr></thead>\n",
       "<tbody>\n",
       "\t<tr><td>2019 </td><td>1181 </td><td>96.48</td></tr>\n",
       "\t<tr><td>2019 </td><td>1438 </td><td>95.31</td></tr>\n",
       "\t<tr><td>2019 </td><td>1314 </td><td>94.55</td></tr>\n",
       "\t<tr><td>2019 </td><td>1277 </td><td>94.06</td></tr>\n",
       "\t<tr><td>2019 </td><td>1211 </td><td>93.68</td></tr>\n",
       "\t<tr><td>2019 </td><td>1246 </td><td>91.29</td></tr>\n",
       "</tbody>\n",
       "</table>\n"
      ],
      "text/latex": [
       "\\begin{tabular}{r|lll}\n",
       " Season & TeamID & Rating\\\\\n",
       "\\hline\n",
       "\t 2019  & 1181  & 96.48\\\\\n",
       "\t 2019  & 1438  & 95.31\\\\\n",
       "\t 2019  & 1314  & 94.55\\\\\n",
       "\t 2019  & 1277  & 94.06\\\\\n",
       "\t 2019  & 1211  & 93.68\\\\\n",
       "\t 2019  & 1246  & 91.29\\\\\n",
       "\\end{tabular}\n"
      ],
      "text/markdown": [
       "\n",
       "| Season | TeamID | Rating |\n",
       "|---|---|---|\n",
       "| 2019  | 1181  | 96.48 |\n",
       "| 2019  | 1438  | 95.31 |\n",
       "| 2019  | 1314  | 94.55 |\n",
       "| 2019  | 1277  | 94.06 |\n",
       "| 2019  | 1211  | 93.68 |\n",
       "| 2019  | 1246  | 91.29 |\n",
       "\n"
      ],
      "text/plain": [
       "  Season TeamID Rating\n",
       "1 2019   1181   96.48 \n",
       "2 2019   1438   95.31 \n",
       "3 2019   1314   94.55 \n",
       "4 2019   1277   94.06 \n",
       "5 2019   1211   93.68 \n",
       "6 2019   1246   91.29 "
      ]
     },
     "metadata": {},
     "output_type": "display_data"
    }
   ],
   "source": [
    "df.sagarin %>% head"
   ]
  },
  {
   "cell_type": "code",
   "execution_count": 74,
   "metadata": {},
   "outputs": [],
   "source": [
    "data.matchups %>%\n",
    "    inner_join(df.sagarin,by=c('TeamID.x'='TeamID')) %>%\n",
    "    select(-Season,-Seed) %>%\n",
    "    inner_join(df.sagarin,by=c('TeamID.y'='TeamID')) %>% \n",
    "    select(everything()) -> df.matchups"
   ]
  },
  {
   "cell_type": "code",
   "execution_count": 77,
   "metadata": {
    "scrolled": true
   },
   "outputs": [
    {
     "data": {
      "text/html": [
       "<table>\n",
       "<thead><tr><th scope=col>TeamID.x</th><th scope=col>TeamID.y</th><th scope=col>Rating.x</th><th scope=col>Season</th><th scope=col>Rating.y</th></tr></thead>\n",
       "<tbody>\n",
       "\t<tr><td>1181 </td><td>1277 </td><td>96.48</td><td>2019 </td><td>94.06</td></tr>\n",
       "\t<tr><td>1181 </td><td>1261 </td><td>96.48</td><td>2019 </td><td>86.98</td></tr>\n",
       "\t<tr><td>1181 </td><td>1439 </td><td>96.48</td><td>2019 </td><td>88.64</td></tr>\n",
       "\t<tr><td>1181 </td><td>1280 </td><td>96.48</td><td>2019 </td><td>86.57</td></tr>\n",
       "\t<tr><td>1181 </td><td>1268 </td><td>96.48</td><td>2019 </td><td>85.49</td></tr>\n",
       "\t<tr><td>1181 </td><td>1257 </td><td>96.48</td><td>2019 </td><td>86.35</td></tr>\n",
       "</tbody>\n",
       "</table>\n"
      ],
      "text/latex": [
       "\\begin{tabular}{r|lllll}\n",
       " TeamID.x & TeamID.y & Rating.x & Season & Rating.y\\\\\n",
       "\\hline\n",
       "\t 1181  & 1277  & 96.48 & 2019  & 94.06\\\\\n",
       "\t 1181  & 1261  & 96.48 & 2019  & 86.98\\\\\n",
       "\t 1181  & 1439  & 96.48 & 2019  & 88.64\\\\\n",
       "\t 1181  & 1280  & 96.48 & 2019  & 86.57\\\\\n",
       "\t 1181  & 1268  & 96.48 & 2019  & 85.49\\\\\n",
       "\t 1181  & 1257  & 96.48 & 2019  & 86.35\\\\\n",
       "\\end{tabular}\n"
      ],
      "text/markdown": [
       "\n",
       "| TeamID.x | TeamID.y | Rating.x | Season | Rating.y |\n",
       "|---|---|---|---|---|\n",
       "| 1181  | 1277  | 96.48 | 2019  | 94.06 |\n",
       "| 1181  | 1261  | 96.48 | 2019  | 86.98 |\n",
       "| 1181  | 1439  | 96.48 | 2019  | 88.64 |\n",
       "| 1181  | 1280  | 96.48 | 2019  | 86.57 |\n",
       "| 1181  | 1268  | 96.48 | 2019  | 85.49 |\n",
       "| 1181  | 1257  | 96.48 | 2019  | 86.35 |\n",
       "\n"
      ],
      "text/plain": [
       "  TeamID.x TeamID.y Rating.x Season Rating.y\n",
       "1 1181     1277     96.48    2019   94.06   \n",
       "2 1181     1261     96.48    2019   86.98   \n",
       "3 1181     1439     96.48    2019   88.64   \n",
       "4 1181     1280     96.48    2019   86.57   \n",
       "5 1181     1268     96.48    2019   85.49   \n",
       "6 1181     1257     96.48    2019   86.35   "
      ]
     },
     "metadata": {},
     "output_type": "display_data"
    }
   ],
   "source": [
    "df.matchups %>% head"
   ]
  },
  {
   "cell_type": "code",
   "execution_count": 79,
   "metadata": {},
   "outputs": [
    {
     "data": {
      "text/html": [
       "<table>\n",
       "<thead><tr><th scope=col>ID</th><th scope=col>Pred</th><th scope=col>Prob</th></tr></thead>\n",
       "<tbody>\n",
       "\t<tr><td>2019_1439_1459</td><td>1             </td><td>0.695         </td></tr>\n",
       "\t<tr><td>2019_1138_1305</td><td>0             </td><td>0.483         </td></tr>\n",
       "\t<tr><td>2019_1234_1439</td><td>0             </td><td>0.256         </td></tr>\n",
       "\t<tr><td>2019_1308_1403</td><td>0             </td><td>0.144         </td></tr>\n",
       "\t<tr><td>2019_1318_1416</td><td>0             </td><td>0.235         </td></tr>\n",
       "</tbody>\n",
       "</table>\n"
      ],
      "text/latex": [
       "\\begin{tabular}{r|lll}\n",
       " ID & Pred & Prob\\\\\n",
       "\\hline\n",
       "\t 2019\\_1439\\_1459 & 1                  & 0.695             \\\\\n",
       "\t 2019\\_1138\\_1305 & 0                  & 0.483             \\\\\n",
       "\t 2019\\_1234\\_1439 & 0                  & 0.256             \\\\\n",
       "\t 2019\\_1308\\_1403 & 0                  & 0.144             \\\\\n",
       "\t 2019\\_1318\\_1416 & 0                  & 0.235             \\\\\n",
       "\\end{tabular}\n"
      ],
      "text/markdown": [
       "\n",
       "| ID | Pred | Prob |\n",
       "|---|---|---|\n",
       "| 2019_1439_1459 | 1              | 0.695          |\n",
       "| 2019_1138_1305 | 0              | 0.483          |\n",
       "| 2019_1234_1439 | 0              | 0.256          |\n",
       "| 2019_1308_1403 | 0              | 0.144          |\n",
       "| 2019_1318_1416 | 0              | 0.235          |\n",
       "\n"
      ],
      "text/plain": [
       "  ID             Pred Prob \n",
       "1 2019_1439_1459 1    0.695\n",
       "2 2019_1138_1305 0    0.483\n",
       "3 2019_1234_1439 0    0.256\n",
       "4 2019_1308_1403 0    0.144\n",
       "5 2019_1318_1416 0    0.235"
      ]
     },
     "metadata": {},
     "output_type": "display_data"
    }
   ],
   "source": [
    "# machups predictions : compute the winning probability of TeamID.x and cap it into [0.05,0.95] to avoid too much logloss is case of FP or FN \n",
    "df.matchups %>% \n",
    "    mutate(ID=str_c(Season,'_',TeamID.x,'_',TeamID.y)) %>% \n",
    "    mutate(Prob=logistic(Rating.x-Rating.y,a=Slope)) %>% \n",
    "    mutate(Pred=ifelse(Prob>0.5,1,0)) %>% \n",
    "    mutate(Prob=round(Prob,3)) %>%\n",
    "    mutate_which(Prob>0.95,Prob=0.95) %>%\n",
    "    mutate_which(Prob<0.05,Prob=0.05) %>%\n",
    "    select(ID,Pred,Prob) -> df.submit\n",
    "df.submit %>% sample_n(5)"
   ]
  },
  {
   "cell_type": "code",
   "execution_count": 80,
   "metadata": {},
   "outputs": [],
   "source": [
    "# save the best results for kaggle submission\n",
    "df.submit %>% \n",
    "    select(ID,Pred=Prob) %>% \n",
    "    write.csv('../2019/SagarinRating.csv',quote=F,row.names=F)"
   ]
  },
  {
   "cell_type": "code",
   "execution_count": 82,
   "metadata": {},
   "outputs": [],
   "source": [
    "# save best model for mix\n",
    "df.submit %>%\n",
    "    saveRDS('../2019/SagarinRating.rds')    "
   ]
  },
  {
   "cell_type": "code",
   "execution_count": null,
   "metadata": {},
   "outputs": [],
   "source": []
  }
 ],
 "metadata": {
  "kernelspec": {
   "display_name": "R 3.5.0",
   "language": "R",
   "name": "ir35"
  },
  "language_info": {
   "codemirror_mode": "r",
   "file_extension": ".r",
   "mimetype": "text/x-r-source",
   "name": "R",
   "pygments_lexer": "r",
   "version": "3.5.1"
  }
 },
 "nbformat": 4,
 "nbformat_minor": 2
}
