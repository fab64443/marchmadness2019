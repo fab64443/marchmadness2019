{
 "cells": [
  {
   "cell_type": "code",
   "execution_count": 1,
   "metadata": {},
   "outputs": [],
   "source": [
    "# Load required packages\n",
    "library(dplyr,warn.conflicts=F)\n",
    "library(stringr,warn.conflicts=F)\n",
    "library(psych,warn.conflicts=F)\n",
    "library(lplyr,warn.conflicts=F)"
   ]
  },
  {
   "cell_type": "code",
   "execution_count": 2,
   "metadata": {},
   "outputs": [],
   "source": [
    "# load results\n",
    "data.offdeff <- readRDS('../predictions_2019/OffDef_ScorePoss_Laplace.rds')\n",
    "data.sagarin <- readRDS('../predictions_2019/SagarinRating.rds')\n",
    "data.dunkel <- readRDS('../predictions_2019/DunkelIndex.rds')"
   ]
  },
  {
   "cell_type": "code",
   "execution_count": 3,
   "metadata": {},
   "outputs": [],
   "source": [
    "data.sagarin %>% \n",
    "    rename(PredSAG=Pred,ProbSAG=Prob) %>%\n",
    "    inner_join(data.dunkel,by='ID') %>%\n",
    "    rename(PredDUN=Pred,ProbDUN=Prob) %>% \n",
    "    inner_join(data.offdeff,by='ID') %>%\n",
    "    rename(PredOFC=Pred,ProbOFC=Prob) -> df.mix"
   ]
  },
  {
   "cell_type": "code",
   "execution_count": 4,
   "metadata": {},
   "outputs": [
    {
     "data": {
      "text/html": [
       "<table>\n",
       "<thead><tr><th scope=col>Pred</th><th scope=col>n</th></tr></thead>\n",
       "<tbody>\n",
       "\t<tr><td>0   </td><td>1022</td></tr>\n",
       "\t<tr><td>1   </td><td> 155</td></tr>\n",
       "\t<tr><td>2   </td><td> 117</td></tr>\n",
       "\t<tr><td>3   </td><td> 984</td></tr>\n",
       "</tbody>\n",
       "</table>\n"
      ],
      "text/latex": [
       "\\begin{tabular}{r|ll}\n",
       " Pred & n\\\\\n",
       "\\hline\n",
       "\t 0    & 1022\\\\\n",
       "\t 1    &  155\\\\\n",
       "\t 2    &  117\\\\\n",
       "\t 3    &  984\\\\\n",
       "\\end{tabular}\n"
      ],
      "text/markdown": [
       "\n",
       "| Pred | n |\n",
       "|---|---|\n",
       "| 0    | 1022 |\n",
       "| 1    |  155 |\n",
       "| 2    |  117 |\n",
       "| 3    |  984 |\n",
       "\n"
      ],
      "text/plain": [
       "  Pred n   \n",
       "1 0    1022\n",
       "2 1     155\n",
       "3 2     117\n",
       "4 3     984"
      ]
     },
     "metadata": {},
     "output_type": "display_data"
    }
   ],
   "source": [
    "df.mix %>%\n",
    "    mutate(Pred=PredSAG+PredDUN+PredOFC) %>%\n",
    "    group_by(Pred) %>%\n",
    "    summarise(n=n())"
   ]
  },
  {
   "cell_type": "code",
   "execution_count": 5,
   "metadata": {},
   "outputs": [
    {
     "data": {
      "text/html": [
       "0.880597014925373"
      ],
      "text/latex": [
       "0.880597014925373"
      ],
      "text/markdown": [
       "0.880597014925373"
      ],
      "text/plain": [
       "[1] 0.880597"
      ]
     },
     "metadata": {},
     "output_type": "display_data"
    }
   ],
   "source": [
    "(1022+984)/2278"
   ]
  },
  {
   "cell_type": "code",
   "execution_count": 6,
   "metadata": {},
   "outputs": [
    {
     "data": {
      "text/html": [
       "<table>\n",
       "<thead><tr><th scope=col>ID</th><th scope=col>PredSAG</th><th scope=col>ProbSAG</th><th scope=col>PredDUN</th><th scope=col>ProbDUN</th><th scope=col>PredOFC</th><th scope=col>ProbOFC</th><th scope=col>Tot</th></tr></thead>\n",
       "<tbody>\n",
       "\t<tr><td>2019_1279_1388</td><td>0             </td><td>0.434         </td><td>1             </td><td>0.502         </td><td>0             </td><td>0.399         </td><td>1             </td></tr>\n",
       "\t<tr><td>2019_1199_1266</td><td>1             </td><td>0.601         </td><td>1             </td><td>0.707         </td><td>0             </td><td>0.461         </td><td>2             </td></tr>\n",
       "\t<tr><td>2019_1308_1433</td><td>0             </td><td>0.459         </td><td>1             </td><td>0.639         </td><td>0             </td><td>0.434         </td><td>1             </td></tr>\n",
       "\t<tr><td>2019_1235_1243</td><td>1             </td><td>0.562         </td><td>0             </td><td>0.439         </td><td>1             </td><td>0.615         </td><td>2             </td></tr>\n",
       "\t<tr><td>2019_1416_1437</td><td>0             </td><td>0.314         </td><td>0             </td><td>0.150         </td><td>1             </td><td>0.524         </td><td>1             </td></tr>\n",
       "\t<tr><td>2019_1326_1429</td><td>1             </td><td>0.536         </td><td>0             </td><td>0.475         </td><td>0             </td><td>0.408         </td><td>1             </td></tr>\n",
       "\t<tr><td>2019_1328_1388</td><td>1             </td><td>0.539         </td><td>1             </td><td>0.583         </td><td>0             </td><td>0.430         </td><td>2             </td></tr>\n",
       "\t<tr><td>2019_1234_1328</td><td>0             </td><td>0.430         </td><td>1             </td><td>0.506         </td><td>0             </td><td>0.482         </td><td>1             </td></tr>\n",
       "\t<tr><td>2019_1278_1308</td><td>1             </td><td>0.581         </td><td>0             </td><td>0.262         </td><td>0             </td><td>0.429         </td><td>1             </td></tr>\n",
       "\t<tr><td>2019_1243_1280</td><td>1             </td><td>0.522         </td><td>1             </td><td>0.535         </td><td>0             </td><td>0.418         </td><td>2             </td></tr>\n",
       "</tbody>\n",
       "</table>\n"
      ],
      "text/latex": [
       "\\begin{tabular}{r|llllllll}\n",
       " ID & PredSAG & ProbSAG & PredDUN & ProbDUN & PredOFC & ProbOFC & Tot\\\\\n",
       "\\hline\n",
       "\t 2019\\_1279\\_1388 & 0                  & 0.434              & 1                  & 0.502              & 0                  & 0.399              & 1                 \\\\\n",
       "\t 2019\\_1199\\_1266 & 1                  & 0.601              & 1                  & 0.707              & 0                  & 0.461              & 2                 \\\\\n",
       "\t 2019\\_1308\\_1433 & 0                  & 0.459              & 1                  & 0.639              & 0                  & 0.434              & 1                 \\\\\n",
       "\t 2019\\_1235\\_1243 & 1                  & 0.562              & 0                  & 0.439              & 1                  & 0.615              & 2                 \\\\\n",
       "\t 2019\\_1416\\_1437 & 0                  & 0.314              & 0                  & 0.150              & 1                  & 0.524              & 1                 \\\\\n",
       "\t 2019\\_1326\\_1429 & 1                  & 0.536              & 0                  & 0.475              & 0                  & 0.408              & 1                 \\\\\n",
       "\t 2019\\_1328\\_1388 & 1                  & 0.539              & 1                  & 0.583              & 0                  & 0.430              & 2                 \\\\\n",
       "\t 2019\\_1234\\_1328 & 0                  & 0.430              & 1                  & 0.506              & 0                  & 0.482              & 1                 \\\\\n",
       "\t 2019\\_1278\\_1308 & 1                  & 0.581              & 0                  & 0.262              & 0                  & 0.429              & 1                 \\\\\n",
       "\t 2019\\_1243\\_1280 & 1                  & 0.522              & 1                  & 0.535              & 0                  & 0.418              & 2                 \\\\\n",
       "\\end{tabular}\n"
      ],
      "text/markdown": [
       "\n",
       "| ID | PredSAG | ProbSAG | PredDUN | ProbDUN | PredOFC | ProbOFC | Tot |\n",
       "|---|---|---|---|---|---|---|---|\n",
       "| 2019_1279_1388 | 0              | 0.434          | 1              | 0.502          | 0              | 0.399          | 1              |\n",
       "| 2019_1199_1266 | 1              | 0.601          | 1              | 0.707          | 0              | 0.461          | 2              |\n",
       "| 2019_1308_1433 | 0              | 0.459          | 1              | 0.639          | 0              | 0.434          | 1              |\n",
       "| 2019_1235_1243 | 1              | 0.562          | 0              | 0.439          | 1              | 0.615          | 2              |\n",
       "| 2019_1416_1437 | 0              | 0.314          | 0              | 0.150          | 1              | 0.524          | 1              |\n",
       "| 2019_1326_1429 | 1              | 0.536          | 0              | 0.475          | 0              | 0.408          | 1              |\n",
       "| 2019_1328_1388 | 1              | 0.539          | 1              | 0.583          | 0              | 0.430          | 2              |\n",
       "| 2019_1234_1328 | 0              | 0.430          | 1              | 0.506          | 0              | 0.482          | 1              |\n",
       "| 2019_1278_1308 | 1              | 0.581          | 0              | 0.262          | 0              | 0.429          | 1              |\n",
       "| 2019_1243_1280 | 1              | 0.522          | 1              | 0.535          | 0              | 0.418          | 2              |\n",
       "\n"
      ],
      "text/plain": [
       "   ID             PredSAG ProbSAG PredDUN ProbDUN PredOFC ProbOFC Tot\n",
       "1  2019_1279_1388 0       0.434   1       0.502   0       0.399   1  \n",
       "2  2019_1199_1266 1       0.601   1       0.707   0       0.461   2  \n",
       "3  2019_1308_1433 0       0.459   1       0.639   0       0.434   1  \n",
       "4  2019_1235_1243 1       0.562   0       0.439   1       0.615   2  \n",
       "5  2019_1416_1437 0       0.314   0       0.150   1       0.524   1  \n",
       "6  2019_1326_1429 1       0.536   0       0.475   0       0.408   1  \n",
       "7  2019_1328_1388 1       0.539   1       0.583   0       0.430   2  \n",
       "8  2019_1234_1328 0       0.430   1       0.506   0       0.482   1  \n",
       "9  2019_1278_1308 1       0.581   0       0.262   0       0.429   1  \n",
       "10 2019_1243_1280 1       0.522   1       0.535   0       0.418   2  "
      ]
     },
     "metadata": {},
     "output_type": "display_data"
    }
   ],
   "source": [
    "df.mix %>%\n",
    "    mutate(Tot=PredSAG+PredDUN+PredOFC) %>%\n",
    "    filter(Tot==1 | Tot==2) %>% sample_n(10)"
   ]
  },
  {
   "cell_type": "markdown",
   "metadata": {},
   "source": [
    "#### Equi Mix"
   ]
  },
  {
   "cell_type": "code",
   "execution_count": 19,
   "metadata": {},
   "outputs": [],
   "source": [
    "df.mix %>%\n",
    "    mutate(Tot=PredSAG+PredDUN+PredOFC) %>%\n",
    "    mutate(Prob=case_when(Tot==0 ~ pmin(ProbSAG,ProbDUN,ProbOFC), \n",
    "                          Tot==3 ~ pmax(ProbSAG,ProbDUN,ProbOFC),\n",
    "                          Tot==1|Tot==2 ~ (ProbSAG+ProbDUN+ProbOFC)/3,\n",
    "                          TRUE ~ 0.5)) %>%\n",
    "    mutate(Pred=ifelse(Prob>0.5,1,0)) %>%\n",
    "    select(ID,Pred) %>%\n",
    "    write.csv('../predictions_2019/RatingMix_SAGDUNOFC.csv',quote=F,row.names=F)"
   ]
  },
  {
   "cell_type": "markdown",
   "metadata": {},
   "source": [
    "#### Champion vs Outsider"
   ]
  },
  {
   "cell_type": "code",
   "execution_count": null,
   "metadata": {},
   "outputs": [],
   "source": [
    "df.mix %>%\n",
    "    mutate(Tot=PredOFC-PredSAG-PredDUN) %>%\n",
    "    filter(Tot==)"
   ]
  },
  {
   "cell_type": "code",
   "execution_count": null,
   "metadata": {},
   "outputs": [],
   "source": []
  },
  {
   "cell_type": "code",
   "execution_count": null,
   "metadata": {},
   "outputs": [],
   "source": []
  },
  {
   "cell_type": "code",
   "execution_count": null,
   "metadata": {},
   "outputs": [],
   "source": []
  },
  {
   "cell_type": "code",
   "execution_count": null,
   "metadata": {},
   "outputs": [],
   "source": []
  }
 ],
 "metadata": {
  "kernelspec": {
   "display_name": "R 3.5.0",
   "language": "R",
   "name": "ir35"
  },
  "language_info": {
   "codemirror_mode": "r",
   "file_extension": ".r",
   "mimetype": "text/x-r-source",
   "name": "R",
   "pygments_lexer": "r",
   "version": "3.5.1"
  }
 },
 "nbformat": 4,
 "nbformat_minor": 2
}
