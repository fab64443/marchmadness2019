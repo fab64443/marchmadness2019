{
 "cells": [
  {
   "cell_type": "code",
   "execution_count": 30,
   "metadata": {},
   "outputs": [],
   "source": [
    "# Load required packages\n",
    "library(dplyr,warn.conflicts=F)\n",
    "library(stringr,warn.conflicts=F)\n",
    "library(psych,warn.conflicts=F)\n",
    "library(lplyr,warn.conflicts=F)"
   ]
  },
  {
   "cell_type": "code",
   "execution_count": 31,
   "metadata": {},
   "outputs": [],
   "source": [
    "# load the stats\n",
    "data.tourney <- readRDS('../datafiles_rds/NCAATourneyDetailedResults.rds')\n",
    "# keep 2014+\n",
    "data.tourney %>% filter(Season>2013) -> data.tourney"
   ]
  },
  {
   "cell_type": "code",
   "execution_count": 32,
   "metadata": {},
   "outputs": [],
   "source": [
    "# store 68 tourney teams \n",
    "data.tourney %>% \n",
    "    select(Season,TeamID=WTeamID) %>% \n",
    "    bind_rows(data.tourney %>% \n",
    "              select(Season,TeamID=LTeamID)) %>% \n",
    "    distinct(Season,TeamID) -> df.tourneyteams"
   ]
  },
  {
   "cell_type": "code",
   "execution_count": 33,
   "metadata": {},
   "outputs": [
    {
     "data": {
      "text/html": [
       "<table>\n",
       "<thead><tr><th scope=col>season</th><th scope=col>rank</th><th scope=col>team</th><th scope=col>record</th><th scope=col>rating</th><th scope=col>SOS</th><th scope=col>SOS_rannk</th><th scope=col>wins25</th><th scope=col>wins50</th><th scope=col>wins100</th></tr></thead>\n",
       "<tbody>\n",
       "\t<tr><td>2014      </td><td>1         </td><td>Florida   </td><td>36-2      </td><td>1.116970  </td><td>0.702078  </td><td> 12       </td><td>5         </td><td>14        </td><td>20        </td></tr>\n",
       "\t<tr><td>2014      </td><td>2         </td><td>Arizona   </td><td>33-5      </td><td>1.053500  </td><td>0.714210  </td><td>  9       </td><td>6         </td><td>13        </td><td>22        </td></tr>\n",
       "\t<tr><td>2014      </td><td>3         </td><td>Wisconsin </td><td>30-7      </td><td>1.018220  </td><td>0.735422  </td><td>  4       </td><td>7         </td><td>10        </td><td>19        </td></tr>\n",
       "\t<tr><td>2014      </td><td>4         </td><td>Wichita St</td><td>34-1      </td><td>0.999667  </td><td>0.556791  </td><td>122       </td><td>1         </td><td> 3        </td><td>11        </td></tr>\n",
       "\t<tr><td>2014      </td><td>5         </td><td>Villanova </td><td>29-5      </td><td>0.990831  </td><td>0.666762  </td><td> 51       </td><td>1         </td><td> 4        </td><td>14        </td></tr>\n",
       "\t<tr><td>2014      </td><td>6         </td><td>Iowa St   </td><td>28-8      </td><td>0.972404  </td><td>0.720871  </td><td>  7       </td><td>5         </td><td>12        </td><td>17        </td></tr>\n",
       "</tbody>\n",
       "</table>\n"
      ],
      "text/latex": [
       "\\begin{tabular}{r|llllllllll}\n",
       " season & rank & team & record & rating & SOS & SOS\\_rannk & wins25 & wins50 & wins100\\\\\n",
       "\\hline\n",
       "\t 2014       & 1          & Florida    & 36-2       & 1.116970   & 0.702078   &  12        & 5          & 14         & 20        \\\\\n",
       "\t 2014       & 2          & Arizona    & 33-5       & 1.053500   & 0.714210   &   9        & 6          & 13         & 22        \\\\\n",
       "\t 2014       & 3          & Wisconsin  & 30-7       & 1.018220   & 0.735422   &   4        & 7          & 10         & 19        \\\\\n",
       "\t 2014       & 4          & Wichita St & 34-1       & 0.999667   & 0.556791   & 122        & 1          &  3         & 11        \\\\\n",
       "\t 2014       & 5          & Villanova  & 29-5       & 0.990831   & 0.666762   &  51        & 1          &  4         & 14        \\\\\n",
       "\t 2014       & 6          & Iowa St    & 28-8       & 0.972404   & 0.720871   &   7        & 5          & 12         & 17        \\\\\n",
       "\\end{tabular}\n"
      ],
      "text/markdown": [
       "\n",
       "| season | rank | team | record | rating | SOS | SOS_rannk | wins25 | wins50 | wins100 |\n",
       "|---|---|---|---|---|---|---|---|---|---|\n",
       "| 2014       | 1          | Florida    | 36-2       | 1.116970   | 0.702078   |  12        | 5          | 14         | 20         |\n",
       "| 2014       | 2          | Arizona    | 33-5       | 1.053500   | 0.714210   |   9        | 6          | 13         | 22         |\n",
       "| 2014       | 3          | Wisconsin  | 30-7       | 1.018220   | 0.735422   |   4        | 7          | 10         | 19         |\n",
       "| 2014       | 4          | Wichita St | 34-1       | 0.999667   | 0.556791   | 122        | 1          |  3         | 11         |\n",
       "| 2014       | 5          | Villanova  | 29-5       | 0.990831   | 0.666762   |  51        | 1          |  4         | 14         |\n",
       "| 2014       | 6          | Iowa St    | 28-8       | 0.972404   | 0.720871   |   7        | 5          | 12         | 17         |\n",
       "\n"
      ],
      "text/plain": [
       "  season rank team       record rating   SOS      SOS_rannk wins25 wins50\n",
       "1 2014   1    Florida    36-2   1.116970 0.702078  12       5      14    \n",
       "2 2014   2    Arizona    33-5   1.053500 0.714210   9       6      13    \n",
       "3 2014   3    Wisconsin  30-7   1.018220 0.735422   4       7      10    \n",
       "4 2014   4    Wichita St 34-1   0.999667 0.556791 122       1       3    \n",
       "5 2014   5    Villanova  29-5   0.990831 0.666762  51       1       4    \n",
       "6 2014   6    Iowa St    28-8   0.972404 0.720871   7       5      12    \n",
       "  wins100\n",
       "1 20     \n",
       "2 22     \n",
       "3 19     \n",
       "4 11     \n",
       "5 14     \n",
       "6 17     "
      ]
     },
     "metadata": {},
     "output_type": "display_data"
    }
   ],
   "source": [
    "# ColleyMatrix 2014+\n",
    "# https://www.colleyrankings.com/hprev.html\n",
    "data.colley <- read.csv('../datafiles_csv/ColleyMatrix.csv',stringsAsFactors=F)\n",
    "data.colley %>% head"
   ]
  },
  {
   "cell_type": "code",
   "execution_count": 34,
   "metadata": {},
   "outputs": [],
   "source": [
    "# We need Name, Rank and Rating as column name\n",
    "data.colley %>% rename(Season=season,\n",
    "                       Name=team,\n",
    "                       Rank=rank,\n",
    "                       Rating=rating) -> data.colley"
   ]
  },
  {
   "cell_type": "code",
   "execution_count": 35,
   "metadata": {},
   "outputs": [],
   "source": [
    "# load team spellings variations\n",
    "data.teamspellings <- readRDS('../datafiles_rds/TeamSpellings.rds')\n",
    "data.teams <- readRDS('../datafiles_rds/Teams.rds')"
   ]
  },
  {
   "cell_type": "code",
   "execution_count": 36,
   "metadata": {},
   "outputs": [],
   "source": [
    "# add TeamID based on team name\n",
    "data.colley %>% \n",
    "    mutate(LowName=str_to_lower(Name)) %>% \n",
    "    left_join(data.teamspellings,by=c('LowName'='TeamNameSpelling')) -> df.ratingsystem"
   ]
  },
  {
   "cell_type": "code",
   "execution_count": 37,
   "metadata": {},
   "outputs": [
    {
     "data": {
      "text/html": [
       "<table>\n",
       "<thead><tr><th scope=col>Season</th><th scope=col>Rank</th><th scope=col>Name</th><th scope=col>record</th><th scope=col>Rating</th><th scope=col>SOS</th><th scope=col>SOS_rannk</th><th scope=col>wins25</th><th scope=col>wins50</th><th scope=col>wins100</th><th scope=col>LowName</th><th scope=col>TeamID</th></tr></thead>\n",
       "<tbody>\n",
       "</tbody>\n",
       "</table>\n"
      ],
      "text/latex": [
       "\\begin{tabular}{r|llllllllllll}\n",
       " Season & Rank & Name & record & Rating & SOS & SOS\\_rannk & wins25 & wins50 & wins100 & LowName & TeamID\\\\\n",
       "\\hline\n",
       "\\end{tabular}\n"
      ],
      "text/markdown": [
       "\n",
       "| Season | Rank | Name | record | Rating | SOS | SOS_rannk | wins25 | wins50 | wins100 | LowName | TeamID |\n",
       "|---|---|---|---|---|---|---|---|---|---|---|---|\n",
       "\n"
      ],
      "text/plain": [
       "     Season Rank Name record Rating SOS SOS_rannk wins25 wins50 wins100 LowName\n",
       "     TeamID"
      ]
     },
     "metadata": {},
     "output_type": "display_data"
    }
   ],
   "source": [
    "df.ratingsystem %>% filter(str_detect(Name,'rhode'))"
   ]
  },
  {
   "cell_type": "code",
   "execution_count": 38,
   "metadata": {},
   "outputs": [
    {
     "data": {
      "text/html": [
       "<table>\n",
       "<thead><tr><th scope=col>TeamID</th><th scope=col>TeamName</th><th scope=col>FirstD1Season</th><th scope=col>LastD1Season</th></tr></thead>\n",
       "<tbody>\n",
       "\t<tr><td>1113           </td><td>Arizona St     </td><td>1985           </td><td>2019           </td></tr>\n",
       "\t<tr><td>1114           </td><td>Ark Little Rock</td><td>1985           </td><td>2019           </td></tr>\n",
       "\t<tr><td>1151           </td><td>Chattanooga    </td><td>1985           </td><td>2019           </td></tr>\n",
       "\t<tr><td>1153           </td><td>Cincinnati     </td><td>1985           </td><td>2019           </td></tr>\n",
       "\t<tr><td>1158           </td><td>Col Charleston </td><td>1992           </td><td>2019           </td></tr>\n",
       "\t<tr><td>1168           </td><td>CS Fullerton   </td><td>1985           </td><td>2019           </td></tr>\n",
       "\t<tr><td>1186           </td><td>E Washington   </td><td>1985           </td><td>2019           </td></tr>\n",
       "\t<tr><td>1192           </td><td>F Dickinson    </td><td>1985           </td><td>2019           </td></tr>\n",
       "\t<tr><td>1203           </td><td>G Washington   </td><td>1985           </td><td>2019           </td></tr>\n",
       "\t<tr><td>1209           </td><td>Georgia St     </td><td>1985           </td><td>2019           </td></tr>\n",
       "\t<tr><td>1240           </td><td>Jacksonville St</td><td>1996           </td><td>2019           </td></tr>\n",
       "\t<tr><td>1245           </td><td>Kent           </td><td>1985           </td><td>2019           </td></tr>\n",
       "\t<tr><td>1260           </td><td>Loyola-Chicago </td><td>1985           </td><td>2019           </td></tr>\n",
       "\t<tr><td>1277           </td><td>Michigan St    </td><td>1985           </td><td>2019           </td></tr>\n",
       "\t<tr><td>1308           </td><td>New Mexico St  </td><td>1985           </td><td>2019           </td></tr>\n",
       "\t<tr><td>1318           </td><td>Northeastern   </td><td>1985           </td><td>2019           </td></tr>\n",
       "\t<tr><td>1320           </td><td>Northern Iowa  </td><td>1985           </td><td>2019           </td></tr>\n",
       "\t<tr><td>1321           </td><td>Northwestern   </td><td>1985           </td><td>2019           </td></tr>\n",
       "\t<tr><td>1329           </td><td>Oklahoma St    </td><td>1985           </td><td>2019           </td></tr>\n",
       "\t<tr><td>1348           </td><td>Rhode Island   </td><td>1985           </td><td>2019           </td></tr>\n",
       "\t<tr><td>1352           </td><td>Robert Morris  </td><td>1985           </td><td>2019           </td></tr>\n",
       "\t<tr><td>1372           </td><td>SF Austin      </td><td>1987           </td><td>2019           </td></tr>\n",
       "\t<tr><td>1376           </td><td>South Carolina </td><td>1985           </td><td>2019           </td></tr>\n",
       "\t<tr><td>1382           </td><td>St Bonaventure </td><td>1985           </td><td>2019           </td></tr>\n",
       "\t<tr><td>1388           </td><td>St Mary's CA   </td><td>1985           </td><td>2019           </td></tr>\n",
       "\t<tr><td>1392           </td><td>Stony Brook    </td><td>2000           </td><td>2019           </td></tr>\n",
       "\t<tr><td>1403           </td><td>Texas Tech     </td><td>1985           </td><td>2019           </td></tr>\n",
       "\t<tr><td>1411           </td><td>TX Southern    </td><td>1985           </td><td>2019           </td></tr>\n",
       "\t<tr><td>1414           </td><td>UC Irvine      </td><td>1985           </td><td>2019           </td></tr>\n",
       "\t<tr><td>1418           </td><td>ULL            </td><td>1985           </td><td>2019           </td></tr>\n",
       "\t<tr><td>1421           </td><td>UNC Asheville  </td><td>1987           </td><td>2019           </td></tr>\n",
       "\t<tr><td>1422           </td><td>UNC Greensboro </td><td>1992           </td><td>2019           </td></tr>\n",
       "\t<tr><td>1423           </td><td>UNC Wilmington </td><td>1985           </td><td>2019           </td></tr>\n",
       "\t<tr><td>1434           </td><td>Valparaiso     </td><td>1985           </td><td>2019           </td></tr>\n",
       "\t<tr><td>1444           </td><td>W Michigan     </td><td>1985           </td><td>2019           </td></tr>\n",
       "\t<tr><td>1452           </td><td>West Virginia  </td><td>1985           </td><td>2019           </td></tr>\n",
       "\t<tr><td>1453           </td><td>WI Green Bay   </td><td>1985           </td><td>2019           </td></tr>\n",
       "\t<tr><td>1454           </td><td>WI Milwaukee   </td><td>1991           </td><td>2019           </td></tr>\n",
       "</tbody>\n",
       "</table>\n"
      ],
      "text/latex": [
       "\\begin{tabular}{r|llll}\n",
       " TeamID & TeamName & FirstD1Season & LastD1Season\\\\\n",
       "\\hline\n",
       "\t 1113            & Arizona St      & 1985            & 2019           \\\\\n",
       "\t 1114            & Ark Little Rock & 1985            & 2019           \\\\\n",
       "\t 1151            & Chattanooga     & 1985            & 2019           \\\\\n",
       "\t 1153            & Cincinnati      & 1985            & 2019           \\\\\n",
       "\t 1158            & Col Charleston  & 1992            & 2019           \\\\\n",
       "\t 1168            & CS Fullerton    & 1985            & 2019           \\\\\n",
       "\t 1186            & E Washington    & 1985            & 2019           \\\\\n",
       "\t 1192            & F Dickinson     & 1985            & 2019           \\\\\n",
       "\t 1203            & G Washington    & 1985            & 2019           \\\\\n",
       "\t 1209            & Georgia St      & 1985            & 2019           \\\\\n",
       "\t 1240            & Jacksonville St & 1996            & 2019           \\\\\n",
       "\t 1245            & Kent            & 1985            & 2019           \\\\\n",
       "\t 1260            & Loyola-Chicago  & 1985            & 2019           \\\\\n",
       "\t 1277            & Michigan St     & 1985            & 2019           \\\\\n",
       "\t 1308            & New Mexico St   & 1985            & 2019           \\\\\n",
       "\t 1318            & Northeastern    & 1985            & 2019           \\\\\n",
       "\t 1320            & Northern Iowa   & 1985            & 2019           \\\\\n",
       "\t 1321            & Northwestern    & 1985            & 2019           \\\\\n",
       "\t 1329            & Oklahoma St     & 1985            & 2019           \\\\\n",
       "\t 1348            & Rhode Island    & 1985            & 2019           \\\\\n",
       "\t 1352            & Robert Morris   & 1985            & 2019           \\\\\n",
       "\t 1372            & SF Austin       & 1987            & 2019           \\\\\n",
       "\t 1376            & South Carolina  & 1985            & 2019           \\\\\n",
       "\t 1382            & St Bonaventure  & 1985            & 2019           \\\\\n",
       "\t 1388            & St Mary's CA    & 1985            & 2019           \\\\\n",
       "\t 1392            & Stony Brook     & 2000            & 2019           \\\\\n",
       "\t 1403            & Texas Tech      & 1985            & 2019           \\\\\n",
       "\t 1411            & TX Southern     & 1985            & 2019           \\\\\n",
       "\t 1414            & UC Irvine       & 1985            & 2019           \\\\\n",
       "\t 1418            & ULL             & 1985            & 2019           \\\\\n",
       "\t 1421            & UNC Asheville   & 1987            & 2019           \\\\\n",
       "\t 1422            & UNC Greensboro  & 1992            & 2019           \\\\\n",
       "\t 1423            & UNC Wilmington  & 1985            & 2019           \\\\\n",
       "\t 1434            & Valparaiso      & 1985            & 2019           \\\\\n",
       "\t 1444            & W Michigan      & 1985            & 2019           \\\\\n",
       "\t 1452            & West Virginia   & 1985            & 2019           \\\\\n",
       "\t 1453            & WI Green Bay    & 1985            & 2019           \\\\\n",
       "\t 1454            & WI Milwaukee    & 1991            & 2019           \\\\\n",
       "\\end{tabular}\n"
      ],
      "text/markdown": [
       "\n",
       "| TeamID | TeamName | FirstD1Season | LastD1Season |\n",
       "|---|---|---|---|\n",
       "| 1113            | Arizona St      | 1985            | 2019            |\n",
       "| 1114            | Ark Little Rock | 1985            | 2019            |\n",
       "| 1151            | Chattanooga     | 1985            | 2019            |\n",
       "| 1153            | Cincinnati      | 1985            | 2019            |\n",
       "| 1158            | Col Charleston  | 1992            | 2019            |\n",
       "| 1168            | CS Fullerton    | 1985            | 2019            |\n",
       "| 1186            | E Washington    | 1985            | 2019            |\n",
       "| 1192            | F Dickinson     | 1985            | 2019            |\n",
       "| 1203            | G Washington    | 1985            | 2019            |\n",
       "| 1209            | Georgia St      | 1985            | 2019            |\n",
       "| 1240            | Jacksonville St | 1996            | 2019            |\n",
       "| 1245            | Kent            | 1985            | 2019            |\n",
       "| 1260            | Loyola-Chicago  | 1985            | 2019            |\n",
       "| 1277            | Michigan St     | 1985            | 2019            |\n",
       "| 1308            | New Mexico St   | 1985            | 2019            |\n",
       "| 1318            | Northeastern    | 1985            | 2019            |\n",
       "| 1320            | Northern Iowa   | 1985            | 2019            |\n",
       "| 1321            | Northwestern    | 1985            | 2019            |\n",
       "| 1329            | Oklahoma St     | 1985            | 2019            |\n",
       "| 1348            | Rhode Island    | 1985            | 2019            |\n",
       "| 1352            | Robert Morris   | 1985            | 2019            |\n",
       "| 1372            | SF Austin       | 1987            | 2019            |\n",
       "| 1376            | South Carolina  | 1985            | 2019            |\n",
       "| 1382            | St Bonaventure  | 1985            | 2019            |\n",
       "| 1388            | St Mary's CA    | 1985            | 2019            |\n",
       "| 1392            | Stony Brook     | 2000            | 2019            |\n",
       "| 1403            | Texas Tech      | 1985            | 2019            |\n",
       "| 1411            | TX Southern     | 1985            | 2019            |\n",
       "| 1414            | UC Irvine       | 1985            | 2019            |\n",
       "| 1418            | ULL             | 1985            | 2019            |\n",
       "| 1421            | UNC Asheville   | 1987            | 2019            |\n",
       "| 1422            | UNC Greensboro  | 1992            | 2019            |\n",
       "| 1423            | UNC Wilmington  | 1985            | 2019            |\n",
       "| 1434            | Valparaiso      | 1985            | 2019            |\n",
       "| 1444            | W Michigan      | 1985            | 2019            |\n",
       "| 1452            | West Virginia   | 1985            | 2019            |\n",
       "| 1453            | WI Green Bay    | 1985            | 2019            |\n",
       "| 1454            | WI Milwaukee    | 1991            | 2019            |\n",
       "\n"
      ],
      "text/plain": [
       "   TeamID TeamName        FirstD1Season LastD1Season\n",
       "1  1113   Arizona St      1985          2019        \n",
       "2  1114   Ark Little Rock 1985          2019        \n",
       "3  1151   Chattanooga     1985          2019        \n",
       "4  1153   Cincinnati      1985          2019        \n",
       "5  1158   Col Charleston  1992          2019        \n",
       "6  1168   CS Fullerton    1985          2019        \n",
       "7  1186   E Washington    1985          2019        \n",
       "8  1192   F Dickinson     1985          2019        \n",
       "9  1203   G Washington    1985          2019        \n",
       "10 1209   Georgia St      1985          2019        \n",
       "11 1240   Jacksonville St 1996          2019        \n",
       "12 1245   Kent            1985          2019        \n",
       "13 1260   Loyola-Chicago  1985          2019        \n",
       "14 1277   Michigan St     1985          2019        \n",
       "15 1308   New Mexico St   1985          2019        \n",
       "16 1318   Northeastern    1985          2019        \n",
       "17 1320   Northern Iowa   1985          2019        \n",
       "18 1321   Northwestern    1985          2019        \n",
       "19 1329   Oklahoma St     1985          2019        \n",
       "20 1348   Rhode Island    1985          2019        \n",
       "21 1352   Robert Morris   1985          2019        \n",
       "22 1372   SF Austin       1987          2019        \n",
       "23 1376   South Carolina  1985          2019        \n",
       "24 1382   St Bonaventure  1985          2019        \n",
       "25 1388   St Mary's CA    1985          2019        \n",
       "26 1392   Stony Brook     2000          2019        \n",
       "27 1403   Texas Tech      1985          2019        \n",
       "28 1411   TX Southern     1985          2019        \n",
       "29 1414   UC Irvine       1985          2019        \n",
       "30 1418   ULL             1985          2019        \n",
       "31 1421   UNC Asheville   1987          2019        \n",
       "32 1422   UNC Greensboro  1992          2019        \n",
       "33 1423   UNC Wilmington  1985          2019        \n",
       "34 1434   Valparaiso      1985          2019        \n",
       "35 1444   W Michigan      1985          2019        \n",
       "36 1452   West Virginia   1985          2019        \n",
       "37 1453   WI Green Bay    1985          2019        \n",
       "38 1454   WI Milwaukee    1991          2019        "
      ]
     },
     "metadata": {},
     "output_type": "display_data"
    }
   ],
   "source": [
    "# missing tourney team in stats (because name misspelling)\n",
    "df.ratingsystem %>% \n",
    "    right_join(df.tourneyteams,by='TeamID') %>%\n",
    "    filter(is.na(Rank)) %>%\n",
    "    select(TeamID) %>%\n",
    "    inner_join(data.teams,by='TeamID') %>%\n",
    "    distinct() %>%\n",
    "    arrange(TeamID)"
   ]
  },
  {
   "cell_type": "code",
   "execution_count": 39,
   "metadata": {},
   "outputs": [],
   "source": [
    "# add missing TeamID from Colley stats\n",
    "df.ratingsystem %>%\n",
    "    mutate_which(str_detect(LowName,'^arizona'),TeamID=1112) %>%\n",
    "    mutate_which(str_detect(LowName,'ariz st'),TeamID=1113) %>%\n",
    "    mutate_which(str_detect(LowName,'rock'),TeamID=1114) %>%\n",
    "    mutate_which(str_detect(LowName,'chat'),TeamID=1151) %>%\n",
    "    mutate_which(str_detect(LowName,'cincy'),TeamID=1153) %>%\n",
    "    mutate_which(str_detect(LowName,'col chrlstn'),TeamID=1158) %>%\n",
    "    mutate_which(str_detect(LowName,'cs full'),TeamID=1168) %>%\n",
    "    mutate_which(str_detect(LowName,'e wash'),TeamID=1186) %>%\n",
    "    mutate_which(str_detect(LowName,'fairl dcknsn'),TeamID=1192) %>%\n",
    "    mutate_which(str_detect(LowName,'geo wash'),TeamID=1203) %>%\n",
    "    mutate_which(str_detect(LowName,'georgia'),TeamID=1208) %>%\n",
    "    mutate_which(str_detect(LowName,'ga st'),TeamID=1209) %>%\n",
    "    mutate_which(str_detect(LowName,'jackson st'),TeamID=1240) %>%\n",
    "    mutate_which(str_detect(LowName,'kent st'),TeamID=1245) %>%\n",
    "    mutate_which(str_detect(LowName,'loyola chi'),TeamID=1260) %>%\n",
    "    mutate_which(str_detect(LowName,'michigan'),TeamID=1276) %>%\n",
    "    mutate_which(str_detect(LowName,'mich st'),TeamID=1277) %>%\n",
    "    mutate_which(str_detect(LowName,'new mexico'),TeamID=1307) %>%\n",
    "    mutate_which(str_detect(LowName,'new mex st'),TeamID=1308) %>%\n",
    "    mutate_which(str_detect(LowName,'eastern'),TeamID=1318) %>%\n",
    "    mutate_which(str_detect(LowName,'n iowa'),TeamID=1320) %>%\n",
    "    mutate_which(str_detect(LowName,'western'),TeamID=1321) %>%\n",
    "    mutate_which(str_detect(LowName,'oklahoma'),TeamID=1328) %>%\n",
    "    mutate_which(str_detect(LowName,'okl st'),TeamID=1329) %>%\n",
    "    mutate_which(str_detect(LowName,'rhisland'),TeamID=1348) %>%\n",
    "    mutate_which(str_detect(LowName,'morris'),TeamID=1352) %>%\n",
    "    mutate_which(str_detect(LowName,'f austin'),TeamID=1372) %>%\n",
    "    mutate_which(str_detect(LowName,'s carolina'),TeamID=1376) %>%\n",
    "    mutate_which(str_detect(LowName,'southern'),TeamID=1380) %>%\n",
    "    mutate_which(str_detect(LowName,'st bonny'),TeamID=1382) %>%\n",
    "    mutate_which(str_detect(LowName,'^st mary'),TeamID=1388) %>%\n",
    "    mutate_which(str_detect(LowName,'stony brk'),TeamID=1392) %>%\n",
    "    mutate_which(str_detect(LowName,'^texas$'),TeamID=1400) %>%\n",
    "    mutate_which(str_detect(LowName,'tex tech'),TeamID=1403) %>%\n",
    "    mutate_which(str_detect(LowName,'tx sou'),TeamID=1411) %>%\n",
    "    mutate_which(str_detect(LowName,'irvine'),TeamID=1414) %>%\n",
    "    mutate_which(str_detect(LowName,'la lafayette'),TeamID=1418) %>%\n",
    "    mutate_which(str_detect(LowName,'unc ash'),TeamID=1421) %>%\n",
    "    mutate_which(str_detect(LowName,'unc grnsbro'),TeamID=1422) %>%\n",
    "    mutate_which(str_detect(LowName,'unc wilm'),TeamID=1423) %>%\n",
    "    mutate_which(str_detect(LowName,'valpo'),TeamID=1434) %>%\n",
    "    mutate_which(str_detect(LowName,'west mich'),TeamID=1444) %>%\n",
    "    mutate_which(str_detect(LowName,'wvu'),TeamID=1452) %>%\n",
    "    mutate_which(str_detect(LowName,'virginia'),TeamID=1438) %>%\n",
    "    mutate_which(str_detect(LowName,'virginia tech'),TeamID=1439) %>% \n",
    "    mutate_which(str_detect(LowName,'green bay'),TeamID=1453) %>%\n",
    "    mutate_which(str_detect(LowName,'wi milw'),TeamID=1454) -> df.ratingsystem"
   ]
  },
  {
   "cell_type": "code",
   "execution_count": 40,
   "metadata": {},
   "outputs": [
    {
     "data": {
      "text/html": [
       "<table>\n",
       "<thead><tr><th scope=col>TeamID</th><th scope=col>TeamName</th><th scope=col>FirstD1Season</th><th scope=col>LastD1Season</th></tr></thead>\n",
       "<tbody>\n",
       "</tbody>\n",
       "</table>\n"
      ],
      "text/latex": [
       "\\begin{tabular}{r|llll}\n",
       " TeamID & TeamName & FirstD1Season & LastD1Season\\\\\n",
       "\\hline\n",
       "\\end{tabular}\n"
      ],
      "text/markdown": [
       "\n",
       "| TeamID | TeamName | FirstD1Season | LastD1Season |\n",
       "|---|---|---|---|\n",
       "\n"
      ],
      "text/plain": [
       "     TeamID TeamName FirstD1Season LastD1Season"
      ]
     },
     "metadata": {},
     "output_type": "display_data"
    }
   ],
   "source": [
    "# check if ssomething is still wrong\n",
    "df.ratingsystem %>% \n",
    "    right_join(df.tourneyteams,by='TeamID') %>%\n",
    "    filter(is.na(Rank)) %>%\n",
    "    select(TeamID) %>%\n",
    "    inner_join(data.teams,by='TeamID') %>%\n",
    "    distinct() %>%\n",
    "    arrange(TeamID)"
   ]
  },
  {
   "cell_type": "code",
   "execution_count": 41,
   "metadata": {},
   "outputs": [
    {
     "data": {
      "text/html": [
       "<table>\n",
       "<thead><tr><th scope=col>Season</th><th scope=col>Rank</th><th scope=col>Name</th><th scope=col>record</th><th scope=col>Rating</th><th scope=col>SOS</th><th scope=col>SOS_rannk</th><th scope=col>wins25</th><th scope=col>wins50</th><th scope=col>wins100</th><th scope=col>LowName</th><th scope=col>TeamID</th></tr></thead>\n",
       "<tbody>\n",
       "\t<tr><td>2014      </td><td>1         </td><td>Florida   </td><td>36-2      </td><td>1.116970  </td><td>0.702078  </td><td> 12       </td><td>5         </td><td>14        </td><td>20        </td><td>florida   </td><td>1196      </td></tr>\n",
       "\t<tr><td>2014      </td><td>2         </td><td>Arizona   </td><td>33-5      </td><td>1.053500  </td><td>0.714210  </td><td>  9       </td><td>6         </td><td>13        </td><td>22        </td><td>arizona   </td><td>1112      </td></tr>\n",
       "\t<tr><td>2014      </td><td>3         </td><td>Wisconsin </td><td>30-7      </td><td>1.018220  </td><td>0.735422  </td><td>  4       </td><td>7         </td><td>10        </td><td>19        </td><td>wisconsin </td><td>1458      </td></tr>\n",
       "\t<tr><td>2014      </td><td>4         </td><td>Wichita St</td><td>34-1      </td><td>0.999667  </td><td>0.556791  </td><td>122       </td><td>1         </td><td> 3        </td><td>11        </td><td>wichita st</td><td>1455      </td></tr>\n",
       "\t<tr><td>2014      </td><td>5         </td><td>Villanova </td><td>29-5      </td><td>0.990831  </td><td>0.666762  </td><td> 51       </td><td>1         </td><td> 4        </td><td>14        </td><td>villanova </td><td>1437      </td></tr>\n",
       "\t<tr><td>2014      </td><td>6         </td><td>Iowa St   </td><td>28-8      </td><td>0.972404  </td><td>0.720871  </td><td>  7       </td><td>5         </td><td>12        </td><td>17        </td><td>iowa st   </td><td>1235      </td></tr>\n",
       "</tbody>\n",
       "</table>\n"
      ],
      "text/latex": [
       "\\begin{tabular}{r|llllllllllll}\n",
       " Season & Rank & Name & record & Rating & SOS & SOS\\_rannk & wins25 & wins50 & wins100 & LowName & TeamID\\\\\n",
       "\\hline\n",
       "\t 2014       & 1          & Florida    & 36-2       & 1.116970   & 0.702078   &  12        & 5          & 14         & 20         & florida    & 1196      \\\\\n",
       "\t 2014       & 2          & Arizona    & 33-5       & 1.053500   & 0.714210   &   9        & 6          & 13         & 22         & arizona    & 1112      \\\\\n",
       "\t 2014       & 3          & Wisconsin  & 30-7       & 1.018220   & 0.735422   &   4        & 7          & 10         & 19         & wisconsin  & 1458      \\\\\n",
       "\t 2014       & 4          & Wichita St & 34-1       & 0.999667   & 0.556791   & 122        & 1          &  3         & 11         & wichita st & 1455      \\\\\n",
       "\t 2014       & 5          & Villanova  & 29-5       & 0.990831   & 0.666762   &  51        & 1          &  4         & 14         & villanova  & 1437      \\\\\n",
       "\t 2014       & 6          & Iowa St    & 28-8       & 0.972404   & 0.720871   &   7        & 5          & 12         & 17         & iowa st    & 1235      \\\\\n",
       "\\end{tabular}\n"
      ],
      "text/markdown": [
       "\n",
       "| Season | Rank | Name | record | Rating | SOS | SOS_rannk | wins25 | wins50 | wins100 | LowName | TeamID |\n",
       "|---|---|---|---|---|---|---|---|---|---|---|---|\n",
       "| 2014       | 1          | Florida    | 36-2       | 1.116970   | 0.702078   |  12        | 5          | 14         | 20         | florida    | 1196       |\n",
       "| 2014       | 2          | Arizona    | 33-5       | 1.053500   | 0.714210   |   9        | 6          | 13         | 22         | arizona    | 1112       |\n",
       "| 2014       | 3          | Wisconsin  | 30-7       | 1.018220   | 0.735422   |   4        | 7          | 10         | 19         | wisconsin  | 1458       |\n",
       "| 2014       | 4          | Wichita St | 34-1       | 0.999667   | 0.556791   | 122        | 1          |  3         | 11         | wichita st | 1455       |\n",
       "| 2014       | 5          | Villanova  | 29-5       | 0.990831   | 0.666762   |  51        | 1          |  4         | 14         | villanova  | 1437       |\n",
       "| 2014       | 6          | Iowa St    | 28-8       | 0.972404   | 0.720871   |   7        | 5          | 12         | 17         | iowa st    | 1235       |\n",
       "\n"
      ],
      "text/plain": [
       "  Season Rank Name       record Rating   SOS      SOS_rannk wins25 wins50\n",
       "1 2014   1    Florida    36-2   1.116970 0.702078  12       5      14    \n",
       "2 2014   2    Arizona    33-5   1.053500 0.714210   9       6      13    \n",
       "3 2014   3    Wisconsin  30-7   1.018220 0.735422   4       7      10    \n",
       "4 2014   4    Wichita St 34-1   0.999667 0.556791 122       1       3    \n",
       "5 2014   5    Villanova  29-5   0.990831 0.666762  51       1       4    \n",
       "6 2014   6    Iowa St    28-8   0.972404 0.720871   7       5      12    \n",
       "  wins100 LowName    TeamID\n",
       "1 20      florida    1196  \n",
       "2 22      arizona    1112  \n",
       "3 19      wisconsin  1458  \n",
       "4 11      wichita st 1455  \n",
       "5 14      villanova  1437  \n",
       "6 17      iowa st    1235  "
      ]
     },
     "metadata": {},
     "output_type": "display_data"
    }
   ],
   "source": [
    "df.ratingsystem %>% head"
   ]
  },
  {
   "cell_type": "code",
   "execution_count": 42,
   "metadata": {},
   "outputs": [],
   "source": [
    "# restrict stats to tourney teams\n",
    "df.ratingsystem %>% \n",
    "    inner_join(df.tourneyteams,by=c('TeamID','Season')) %>%\n",
    "    select(Season,TeamID,Rating) -> df.ratingsystem"
   ]
  },
  {
   "cell_type": "code",
   "execution_count": null,
   "metadata": {},
   "outputs": [],
   "source": []
  },
  {
   "cell_type": "code",
   "execution_count": 43,
   "metadata": {},
   "outputs": [
    {
     "data": {
      "text/html": [
       "<table>\n",
       "<thead><tr><th scope=col>Season</th><th scope=col>n</th></tr></thead>\n",
       "<tbody>\n",
       "\t<tr><td>2014</td><td>68  </td></tr>\n",
       "\t<tr><td>2015</td><td>68  </td></tr>\n",
       "\t<tr><td>2016</td><td>68  </td></tr>\n",
       "\t<tr><td>2017</td><td>68  </td></tr>\n",
       "\t<tr><td>2018</td><td>68  </td></tr>\n",
       "</tbody>\n",
       "</table>\n"
      ],
      "text/latex": [
       "\\begin{tabular}{r|ll}\n",
       " Season & n\\\\\n",
       "\\hline\n",
       "\t 2014 & 68  \\\\\n",
       "\t 2015 & 68  \\\\\n",
       "\t 2016 & 68  \\\\\n",
       "\t 2017 & 68  \\\\\n",
       "\t 2018 & 68  \\\\\n",
       "\\end{tabular}\n"
      ],
      "text/markdown": [
       "\n",
       "| Season | n |\n",
       "|---|---|\n",
       "| 2014 | 68   |\n",
       "| 2015 | 68   |\n",
       "| 2016 | 68   |\n",
       "| 2017 | 68   |\n",
       "| 2018 | 68   |\n",
       "\n"
      ],
      "text/plain": [
       "  Season n \n",
       "1 2014   68\n",
       "2 2015   68\n",
       "3 2016   68\n",
       "4 2017   68\n",
       "5 2018   68"
      ]
     },
     "metadata": {},
     "output_type": "display_data"
    }
   ],
   "source": [
    "# Check if we have 68 teams per Season\n",
    "df.ratingsystem %>% \n",
    "    group_by(Season) %>% \n",
    "    count"
   ]
  },
  {
   "cell_type": "code",
   "execution_count": 44,
   "metadata": {},
   "outputs": [
    {
     "data": {
      "text/html": [
       "<table>\n",
       "<thead><tr><th scope=col>TeamID</th><th scope=col>TeamName</th></tr></thead>\n",
       "<tbody>\n",
       "</tbody>\n",
       "</table>\n"
      ],
      "text/latex": [
       "\\begin{tabular}{r|ll}\n",
       " TeamID & TeamName\\\\\n",
       "\\hline\n",
       "\\end{tabular}\n"
      ],
      "text/markdown": [
       "\n",
       "| TeamID | TeamName |\n",
       "|---|---|\n",
       "\n"
      ],
      "text/plain": [
       "     TeamID TeamName"
      ]
     },
     "metadata": {},
     "output_type": "display_data"
    }
   ],
   "source": [
    "# check missing TeamID per Season \n",
    "df.tourneyteams %>% \n",
    "    anti_join(df.ratingsystem,by=c('Season','TeamID')) %>%\n",
    "    inner_join(data.teams,by='TeamID') %>%\n",
    "    select(TeamID,TeamName) %>%\n",
    "    distinct()"
   ]
  },
  {
   "cell_type": "code",
   "execution_count": 45,
   "metadata": {},
   "outputs": [],
   "source": [
    "# load true results\n",
    "data.truth <- readRDS('../datafiles_rds/TourneyTrueResults.rds')"
   ]
  },
  {
   "cell_type": "code",
   "execution_count": 46,
   "metadata": {},
   "outputs": [
    {
     "data": {
      "text/html": [
       "<table>\n",
       "<thead><tr><th scope=col>Season</th><th scope=col>qtl</th><th scope=col>Slope</th></tr></thead>\n",
       "<tbody>\n",
       "\t<tr><td>2015     </td><td>0.41     </td><td> 8.433341</td></tr>\n",
       "\t<tr><td>2015     </td><td>0.13     </td><td> 5.592861</td></tr>\n",
       "\t<tr><td>2015     </td><td>0.56     </td><td> 9.683247</td></tr>\n",
       "\t<tr><td>2015     </td><td>0.61     </td><td>10.469187</td></tr>\n",
       "\t<tr><td>2018     </td><td>0.22     </td><td> 7.698330</td></tr>\n",
       "</tbody>\n",
       "</table>\n"
      ],
      "text/latex": [
       "\\begin{tabular}{r|lll}\n",
       " Season & qtl & Slope\\\\\n",
       "\\hline\n",
       "\t 2015      & 0.41      &  8.433341\\\\\n",
       "\t 2015      & 0.13      &  5.592861\\\\\n",
       "\t 2015      & 0.56      &  9.683247\\\\\n",
       "\t 2015      & 0.61      & 10.469187\\\\\n",
       "\t 2018      & 0.22      &  7.698330\\\\\n",
       "\\end{tabular}\n"
      ],
      "text/markdown": [
       "\n",
       "| Season | qtl | Slope |\n",
       "|---|---|---|\n",
       "| 2015      | 0.41      |  8.433341 |\n",
       "| 2015      | 0.13      |  5.592861 |\n",
       "| 2015      | 0.56      |  9.683247 |\n",
       "| 2015      | 0.61      | 10.469187 |\n",
       "| 2018      | 0.22      |  7.698330 |\n",
       "\n"
      ],
      "text/plain": [
       "  Season qtl  Slope    \n",
       "1 2015   0.41  8.433341\n",
       "2 2015   0.13  5.592861\n",
       "3 2015   0.56  9.683247\n",
       "4 2015   0.61 10.469187\n",
       "5 2018   0.22  7.698330"
      ]
     },
     "metadata": {},
     "output_type": "display_data"
    }
   ],
   "source": [
    "# slope hyper parameter grid : we will compute 51 models and chose the best one (min logloss)\n",
    "df.ratingsystem %>% \n",
    "    mutate(dummy=1) %>% \n",
    "    inner_join(data.frame(qtl=seq(0.01,0.99,0.01),dummy=1),by='dummy') %>% \n",
    "    select(-dummy) %>% \n",
    "    group_by(qtl,Season) %>% \n",
    "    mutate(thres=max(Rating)-quantile(Rating,max(qtl)),Slope=3/thres) %>%\n",
    "    ungroup %>% \n",
    "    select(Season,qtl,Slope) %>% \n",
    "    distinct() -> df.slopes\n",
    "df.slopes %>% sample_n(5)"
   ]
  },
  {
   "cell_type": "code",
   "execution_count": 47,
   "metadata": {},
   "outputs": [
    {
     "data": {
      "text/html": [
       "<table>\n",
       "<thead><tr><th scope=col>Season</th><th scope=col>TeamID.x</th><th scope=col>Rating.x</th><th scope=col>TeamID.y</th><th scope=col>Rating.y</th></tr></thead>\n",
       "<tbody>\n",
       "\t<tr><td>2017    </td><td>1411    </td><td>0.530064</td><td>1436    </td><td>0.759388</td></tr>\n",
       "\t<tr><td>2015    </td><td>1214    </td><td>0.370073</td><td>1374    </td><td>0.879504</td></tr>\n",
       "\t<tr><td>2015    </td><td>1209    </td><td>0.673803</td><td>1314    </td><td>0.927064</td></tr>\n",
       "\t<tr><td>2014    </td><td>1173    </td><td>0.844640</td><td>1196    </td><td>1.116970</td></tr>\n",
       "\t<tr><td>2018    </td><td>1438    </td><td>1.074500</td><td>1460    </td><td>0.628102</td></tr>\n",
       "</tbody>\n",
       "</table>\n"
      ],
      "text/latex": [
       "\\begin{tabular}{r|lllll}\n",
       " Season & TeamID.x & Rating.x & TeamID.y & Rating.y\\\\\n",
       "\\hline\n",
       "\t 2017     & 1411     & 0.530064 & 1436     & 0.759388\\\\\n",
       "\t 2015     & 1214     & 0.370073 & 1374     & 0.879504\\\\\n",
       "\t 2015     & 1209     & 0.673803 & 1314     & 0.927064\\\\\n",
       "\t 2014     & 1173     & 0.844640 & 1196     & 1.116970\\\\\n",
       "\t 2018     & 1438     & 1.074500 & 1460     & 0.628102\\\\\n",
       "\\end{tabular}\n"
      ],
      "text/markdown": [
       "\n",
       "| Season | TeamID.x | Rating.x | TeamID.y | Rating.y |\n",
       "|---|---|---|---|---|\n",
       "| 2017     | 1411     | 0.530064 | 1436     | 0.759388 |\n",
       "| 2015     | 1214     | 0.370073 | 1374     | 0.879504 |\n",
       "| 2015     | 1209     | 0.673803 | 1314     | 0.927064 |\n",
       "| 2014     | 1173     | 0.844640 | 1196     | 1.116970 |\n",
       "| 2018     | 1438     | 1.074500 | 1460     | 0.628102 |\n",
       "\n"
      ],
      "text/plain": [
       "  Season TeamID.x Rating.x TeamID.y Rating.y\n",
       "1 2017   1411     0.530064 1436     0.759388\n",
       "2 2015   1214     0.370073 1374     0.879504\n",
       "3 2015   1209     0.673803 1314     0.927064\n",
       "4 2014   1173     0.844640 1196     1.116970\n",
       "5 2018   1438     1.074500 1460     0.628102"
      ]
     },
     "metadata": {},
     "output_type": "display_data"
    }
   ],
   "source": [
    "# matchups dataframe : all the possible matches between the 68 teams per Season \n",
    "df.ratingsystem %>% \n",
    "    inner_join(df.ratingsystem,by='Season') %>% \n",
    "    filter(TeamID.x < TeamID.y) -> df.matchup\n",
    "df.matchup %>% sample_n(5)"
   ]
  },
  {
   "cell_type": "code",
   "execution_count": 48,
   "metadata": {},
   "outputs": [
    {
     "data": {
      "text/html": [
       "<table>\n",
       "<thead><tr><th scope=col>Season</th><th scope=col>TeamID.x</th><th scope=col>Rating.x</th><th scope=col>TeamID.y</th><th scope=col>Rating.y</th><th scope=col>qtl</th><th scope=col>Slope</th></tr></thead>\n",
       "<tbody>\n",
       "\t<tr><td>2017    </td><td>1321    </td><td>0.825325</td><td>1455    </td><td>0.885347</td><td>0.43    </td><td>12.49970</td></tr>\n",
       "\t<tr><td>2016    </td><td>1221    </td><td>0.341269</td><td>1268    </td><td>0.889976</td><td>0.89    </td><td>25.75628</td></tr>\n",
       "\t<tr><td>2016    </td><td>1138    </td><td>0.620914</td><td>1425    </td><td>0.775655</td><td>0.91    </td><td>30.92961</td></tr>\n",
       "\t<tr><td>2017    </td><td>1278    </td><td>0.883804</td><td>1348    </td><td>0.817499</td><td>0.65    </td><td>17.30298</td></tr>\n",
       "\t<tr><td>2015    </td><td>1248    </td><td>0.571269</td><td>1433    </td><td>0.861551</td><td>0.89    </td><td>20.63786</td></tr>\n",
       "</tbody>\n",
       "</table>\n"
      ],
      "text/latex": [
       "\\begin{tabular}{r|lllllll}\n",
       " Season & TeamID.x & Rating.x & TeamID.y & Rating.y & qtl & Slope\\\\\n",
       "\\hline\n",
       "\t 2017     & 1321     & 0.825325 & 1455     & 0.885347 & 0.43     & 12.49970\\\\\n",
       "\t 2016     & 1221     & 0.341269 & 1268     & 0.889976 & 0.89     & 25.75628\\\\\n",
       "\t 2016     & 1138     & 0.620914 & 1425     & 0.775655 & 0.91     & 30.92961\\\\\n",
       "\t 2017     & 1278     & 0.883804 & 1348     & 0.817499 & 0.65     & 17.30298\\\\\n",
       "\t 2015     & 1248     & 0.571269 & 1433     & 0.861551 & 0.89     & 20.63786\\\\\n",
       "\\end{tabular}\n"
      ],
      "text/markdown": [
       "\n",
       "| Season | TeamID.x | Rating.x | TeamID.y | Rating.y | qtl | Slope |\n",
       "|---|---|---|---|---|---|---|\n",
       "| 2017     | 1321     | 0.825325 | 1455     | 0.885347 | 0.43     | 12.49970 |\n",
       "| 2016     | 1221     | 0.341269 | 1268     | 0.889976 | 0.89     | 25.75628 |\n",
       "| 2016     | 1138     | 0.620914 | 1425     | 0.775655 | 0.91     | 30.92961 |\n",
       "| 2017     | 1278     | 0.883804 | 1348     | 0.817499 | 0.65     | 17.30298 |\n",
       "| 2015     | 1248     | 0.571269 | 1433     | 0.861551 | 0.89     | 20.63786 |\n",
       "\n"
      ],
      "text/plain": [
       "  Season TeamID.x Rating.x TeamID.y Rating.y qtl  Slope   \n",
       "1 2017   1321     0.825325 1455     0.885347 0.43 12.49970\n",
       "2 2016   1221     0.341269 1268     0.889976 0.89 25.75628\n",
       "3 2016   1138     0.620914 1425     0.775655 0.91 30.92961\n",
       "4 2017   1278     0.883804 1348     0.817499 0.65 17.30298\n",
       "5 2015   1248     0.571269 1433     0.861551 0.89 20.63786"
      ]
     },
     "metadata": {},
     "output_type": "display_data"
    }
   ],
   "source": [
    "# all matchs with all 51 hyper parameter setting (qtl=[0.25,0.75]) \n",
    "df.matchup %>% inner_join(df.slopes,by=c('Season')) -> df.matchup\n",
    "df.matchup %>% sample_n(5)"
   ]
  },
  {
   "cell_type": "code",
   "execution_count": 49,
   "metadata": {},
   "outputs": [
    {
     "data": {
      "text/html": [
       "<table>\n",
       "<thead><tr><th scope=col>qtl</th><th scope=col>ID</th><th scope=col>Pred</th><th scope=col>Prob</th></tr></thead>\n",
       "<tbody>\n",
       "\t<tr><td>0.18          </td><td>2015_1428_1458</td><td>0             </td><td>0.233         </td></tr>\n",
       "\t<tr><td>0.13          </td><td>2014_1124_1462</td><td>1             </td><td>0.655         </td></tr>\n",
       "\t<tr><td>0.10          </td><td>2016_1234_1428</td><td>0             </td><td>0.344         </td></tr>\n",
       "\t<tr><td>0.07          </td><td>2014_1235_1438</td><td>1             </td><td>0.516         </td></tr>\n",
       "\t<tr><td>0.88          </td><td>2018_1328_1438</td><td>0             </td><td>0.050         </td></tr>\n",
       "</tbody>\n",
       "</table>\n"
      ],
      "text/latex": [
       "\\begin{tabular}{r|llll}\n",
       " qtl & ID & Pred & Prob\\\\\n",
       "\\hline\n",
       "\t 0.18               & 2015\\_1428\\_1458 & 0                  & 0.233             \\\\\n",
       "\t 0.13               & 2014\\_1124\\_1462 & 1                  & 0.655             \\\\\n",
       "\t 0.10               & 2016\\_1234\\_1428 & 0                  & 0.344             \\\\\n",
       "\t 0.07               & 2014\\_1235\\_1438 & 1                  & 0.516             \\\\\n",
       "\t 0.88               & 2018\\_1328\\_1438 & 0                  & 0.050             \\\\\n",
       "\\end{tabular}\n"
      ],
      "text/markdown": [
       "\n",
       "| qtl | ID | Pred | Prob |\n",
       "|---|---|---|---|\n",
       "| 0.18           | 2015_1428_1458 | 0              | 0.233          |\n",
       "| 0.13           | 2014_1124_1462 | 1              | 0.655          |\n",
       "| 0.10           | 2016_1234_1428 | 0              | 0.344          |\n",
       "| 0.07           | 2014_1235_1438 | 1              | 0.516          |\n",
       "| 0.88           | 2018_1328_1438 | 0              | 0.050          |\n",
       "\n"
      ],
      "text/plain": [
       "  qtl  ID             Pred Prob \n",
       "1 0.18 2015_1428_1458 0    0.233\n",
       "2 0.13 2014_1124_1462 1    0.655\n",
       "3 0.10 2016_1234_1428 0    0.344\n",
       "4 0.07 2014_1235_1438 1    0.516\n",
       "5 0.88 2018_1328_1438 0    0.050"
      ]
     },
     "metadata": {},
     "output_type": "display_data"
    }
   ],
   "source": [
    "# machups predictions : compute the winning probability of TeamID.x and cap it into [0.05,0.95] to avoid too much logloss is case of FP or FN \n",
    "df.matchup %>% \n",
    "    mutate(ID=str_c(Season,'_',TeamID.x,'_',TeamID.y)) %>% \n",
    "    mutate(Prob=logistic(Rating.x-Rating.y,a=Slope)) %>% \n",
    "    mutate(Pred=ifelse(Prob>0.5,1,0)) %>% \n",
    "    mutate(Prob=round(Prob,3)) %>%\n",
    "    mutate_which(Prob>0.95,Prob=0.95) %>%\n",
    "    mutate_which(Prob<0.05,Prob=0.05) %>%\n",
    "    select(qtl,ID,Pred,Prob) -> df.submit\n",
    "df.submit %>% sample_n(5)"
   ]
  },
  {
   "cell_type": "code",
   "execution_count": 50,
   "metadata": {},
   "outputs": [],
   "source": [
    "# merge prediction and truth\n",
    "data.truth %>% inner_join(df.submit,by='ID') -> df.results"
   ]
  },
  {
   "cell_type": "code",
   "execution_count": 51,
   "metadata": {},
   "outputs": [
    {
     "data": {
      "text/html": [
       "<table>\n",
       "<thead><tr><th scope=col>qtl</th><th scope=col>TC</th><th scope=col>FC</th><th scope=col>N</th><th scope=col>Acc</th><th scope=col>LogLoss</th></tr></thead>\n",
       "<tbody>\n",
       "\t<tr><td>0.36     </td><td>258      </td><td>77       </td><td>335      </td><td>0.7701493</td><td>0.4871162</td></tr>\n",
       "\t<tr><td>0.35     </td><td>258      </td><td>77       </td><td>335      </td><td>0.7701493</td><td>0.4871363</td></tr>\n",
       "\t<tr><td>0.32     </td><td>258      </td><td>77       </td><td>335      </td><td>0.7701493</td><td>0.4871432</td></tr>\n",
       "\t<tr><td>0.31     </td><td>258      </td><td>77       </td><td>335      </td><td>0.7701493</td><td>0.4871721</td></tr>\n",
       "\t<tr><td>0.33     </td><td>258      </td><td>77       </td><td>335      </td><td>0.7701493</td><td>0.4871823</td></tr>\n",
       "\t<tr><td>0.34     </td><td>258      </td><td>77       </td><td>335      </td><td>0.7701493</td><td>0.4872522</td></tr>\n",
       "</tbody>\n",
       "</table>\n"
      ],
      "text/latex": [
       "\\begin{tabular}{r|llllll}\n",
       " qtl & TC & FC & N & Acc & LogLoss\\\\\n",
       "\\hline\n",
       "\t 0.36      & 258       & 77        & 335       & 0.7701493 & 0.4871162\\\\\n",
       "\t 0.35      & 258       & 77        & 335       & 0.7701493 & 0.4871363\\\\\n",
       "\t 0.32      & 258       & 77        & 335       & 0.7701493 & 0.4871432\\\\\n",
       "\t 0.31      & 258       & 77        & 335       & 0.7701493 & 0.4871721\\\\\n",
       "\t 0.33      & 258       & 77        & 335       & 0.7701493 & 0.4871823\\\\\n",
       "\t 0.34      & 258       & 77        & 335       & 0.7701493 & 0.4872522\\\\\n",
       "\\end{tabular}\n"
      ],
      "text/markdown": [
       "\n",
       "| qtl | TC | FC | N | Acc | LogLoss |\n",
       "|---|---|---|---|---|---|\n",
       "| 0.36      | 258       | 77        | 335       | 0.7701493 | 0.4871162 |\n",
       "| 0.35      | 258       | 77        | 335       | 0.7701493 | 0.4871363 |\n",
       "| 0.32      | 258       | 77        | 335       | 0.7701493 | 0.4871432 |\n",
       "| 0.31      | 258       | 77        | 335       | 0.7701493 | 0.4871721 |\n",
       "| 0.33      | 258       | 77        | 335       | 0.7701493 | 0.4871823 |\n",
       "| 0.34      | 258       | 77        | 335       | 0.7701493 | 0.4872522 |\n",
       "\n"
      ],
      "text/plain": [
       "  qtl  TC  FC N   Acc       LogLoss  \n",
       "1 0.36 258 77 335 0.7701493 0.4871162\n",
       "2 0.35 258 77 335 0.7701493 0.4871363\n",
       "3 0.32 258 77 335 0.7701493 0.4871432\n",
       "4 0.31 258 77 335 0.7701493 0.4871721\n",
       "5 0.33 258 77 335 0.7701493 0.4871823\n",
       "6 0.34 258 77 335 0.7701493 0.4872522"
      ]
     },
     "metadata": {},
     "output_type": "display_data"
    }
   ],
   "source": [
    "# compute accuracy & Logloss per qtl to find the best one\n",
    "df.results %>% \n",
    "    mutate(OK=ifelse(Pred==Target,1,0)) %>%\n",
    "    mutate(LogLoss=Target*log(Prob) + (1-Target)*log(1-Prob)) %>%\n",
    "    group_by(qtl) %>%\n",
    "    summarise(TC=sum(OK),N=n(),FC=N-TC,Acc=TC/N,LogLoss=-mean(LogLoss)) %>%\n",
    "    select(qtl,TC,FC,N,Acc,LogLoss) -> df.results.perf\n",
    "df.results.perf %>% arrange(LogLoss) %>% head()"
   ]
  },
  {
   "cell_type": "code",
   "execution_count": 52,
   "metadata": {},
   "outputs": [],
   "source": [
    "library(ggplot2,warn.conflicts=F)"
   ]
  },
  {
   "cell_type": "code",
   "execution_count": 53,
   "metadata": {},
   "outputs": [
    {
     "data": {
      "image/png": "[encoded data removed]",
      "text/plain": [
       "plot without title"
      ]
     },
     "metadata": {},
     "output_type": "display_data"
    }
   ],
   "source": [
    "options(repr.plot.width=4, repr.plot.height=4)\n",
    "qplot(data=df.results.perf,x=qtl,y=LogLoss)"
   ]
  },
  {
   "cell_type": "code",
   "execution_count": 54,
   "metadata": {},
   "outputs": [],
   "source": [
    "# store the best qtl\n",
    "df.results.perf %>% \n",
    "    arrange(LogLoss) %>% \n",
    "    head(1) %>% pull(qtl) -> bestqtl"
   ]
  },
  {
   "cell_type": "raw",
   "metadata": {},
   "source": [
    "# save the best results for kaggle submission\n",
    "df.submit %>% \n",
    "    filter(qtl==bestqtl) %>% \n",
    "    select(ID,Pred=Prob) %>% \n",
    "    write.csv('predictions/Pred_Massey_bestqtl.csv',quote=F,row.names=F)"
   ]
  },
  {
   "cell_type": "raw",
   "metadata": {},
   "source": [
    "# save best model for mix\n",
    "df.submit %>%\n",
    "    filter(qtl==bestqtl) %>% \n",
    "    saveRDS('predictions/Massey_bestqtl.rds')    "
   ]
  },
  {
   "cell_type": "code",
   "execution_count": null,
   "metadata": {},
   "outputs": [],
   "source": []
  }
 ],
 "metadata": {
  "kernelspec": {
   "display_name": "R 3.5.0",
   "language": "R",
   "name": "ir35"
  },
  "language_info": {
   "codemirror_mode": "r",
   "file_extension": ".r",
   "mimetype": "text/x-r-source",
   "name": "R",
   "pygments_lexer": "r",
   "version": "3.5.1"
  }
 },
 "nbformat": 4,
 "nbformat_minor": 2
}
