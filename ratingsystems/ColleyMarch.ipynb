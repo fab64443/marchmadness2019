{
 "cells": [
  {
   "cell_type": "code",
   "execution_count": 19,
   "metadata": {},
   "outputs": [],
   "source": [
    "# Load required packages\n",
    "library(dplyr,warn.conflicts=F)\n",
    "library(stringr,warn.conflicts=F)\n",
    "library(psych,warn.conflicts=F)\n",
    "library(lplyr,warn.conflicts=F)"
   ]
  },
  {
   "cell_type": "code",
   "execution_count": 147,
   "metadata": {},
   "outputs": [],
   "source": [
    "# load the stats\n",
    "data.tourney <- readRDS('../datafiles_rds/NCAATourneyDetailedResults.rds')\n",
    "# keep 2014+\n",
    "data.tourney %>% filter(Season>2013) -> data.tourney"
   ]
  },
  {
   "cell_type": "code",
   "execution_count": 148,
   "metadata": {},
   "outputs": [],
   "source": [
    "# store 68 tourney teams \n",
    "data.tourney %>% \n",
    "    select(Season,TeamID=WTeamID) %>% \n",
    "    bind_rows(data.tourney %>% \n",
    "              select(Season,TeamID=LTeamID)) %>% \n",
    "    distinct(Season,TeamID) -> df.tourneyteams"
   ]
  },
  {
   "cell_type": "code",
   "execution_count": 149,
   "metadata": {},
   "outputs": [
    {
     "data": {
      "text/html": [
       "<table>\n",
       "<thead><tr><th scope=col>Season</th><th scope=col>Rank</th><th scope=col>Team</th><th scope=col>Record</th><th scope=col>Rating</th></tr></thead>\n",
       "<tbody>\n",
       "\t<tr><td>2014      </td><td>1         </td><td>Florida   </td><td>32-2      </td><td>1.085930  </td></tr>\n",
       "\t<tr><td>2014      </td><td>2         </td><td>Arizona   </td><td>30-avr    </td><td>1.052020  </td></tr>\n",
       "\t<tr><td>2014      </td><td>3         </td><td>Wichita St</td><td>33-0      </td><td>1.020560  </td></tr>\n",
       "\t<tr><td>2014      </td><td>4         </td><td>Villanova </td><td>28-avr    </td><td>1.011520  </td></tr>\n",
       "\t<tr><td>2014      </td><td>5         </td><td>Kansas    </td><td>24-sept   </td><td>0.988126  </td></tr>\n",
       "\t<tr><td>2014      </td><td>6         </td><td>Iowa St   </td><td>26-juil   </td><td>0.977411  </td></tr>\n",
       "</tbody>\n",
       "</table>\n"
      ],
      "text/latex": [
       "\\begin{tabular}{r|lllll}\n",
       " Season & Rank & Team & Record & Rating\\\\\n",
       "\\hline\n",
       "\t 2014       & 1          & Florida    & 32-2       & 1.085930  \\\\\n",
       "\t 2014       & 2          & Arizona    & 30-avr     & 1.052020  \\\\\n",
       "\t 2014       & 3          & Wichita St & 33-0       & 1.020560  \\\\\n",
       "\t 2014       & 4          & Villanova  & 28-avr     & 1.011520  \\\\\n",
       "\t 2014       & 5          & Kansas     & 24-sept    & 0.988126  \\\\\n",
       "\t 2014       & 6          & Iowa St    & 26-juil    & 0.977411  \\\\\n",
       "\\end{tabular}\n"
      ],
      "text/markdown": [
       "\n",
       "| Season | Rank | Team | Record | Rating |\n",
       "|---|---|---|---|---|\n",
       "| 2014       | 1          | Florida    | 32-2       | 1.085930   |\n",
       "| 2014       | 2          | Arizona    | 30-avr     | 1.052020   |\n",
       "| 2014       | 3          | Wichita St | 33-0       | 1.020560   |\n",
       "| 2014       | 4          | Villanova  | 28-avr     | 1.011520   |\n",
       "| 2014       | 5          | Kansas     | 24-sept    | 0.988126   |\n",
       "| 2014       | 6          | Iowa St    | 26-juil    | 0.977411   |\n",
       "\n"
      ],
      "text/plain": [
       "  Season Rank Team       Record  Rating  \n",
       "1 2014   1    Florida    32-2    1.085930\n",
       "2 2014   2    Arizona    30-avr  1.052020\n",
       "3 2014   3    Wichita St 33-0    1.020560\n",
       "4 2014   4    Villanova  28-avr  1.011520\n",
       "5 2014   5    Kansas     24-sept 0.988126\n",
       "6 2014   6    Iowa St    26-juil 0.977411"
      ]
     },
     "metadata": {},
     "output_type": "display_data"
    }
   ],
   "source": [
    "# ColleyMatrix 2014+\n",
    "# https://www.colleyrankings.com/hprev.html\n",
    "data.colley <- read.csv('../datafiles_csv/ColleyMatrixMarch.csv',stringsAsFactors=F)\n",
    "data.colley %>% head"
   ]
  },
  {
   "cell_type": "code",
   "execution_count": 150,
   "metadata": {},
   "outputs": [],
   "source": [
    "# We need Name, Rank and Rating as column name\n",
    "data.colley %>% rename(Name=Team,\n",
    "                       Rank=Rank,\n",
    "                       Rating=Rating) -> data.colley"
   ]
  },
  {
   "cell_type": "code",
   "execution_count": 151,
   "metadata": {},
   "outputs": [],
   "source": [
    "# load team spellings variations\n",
    "data.teamspellings <- readRDS('../datafiles_rds/TeamSpellings.rds')\n",
    "data.teams <- readRDS('../datafiles_rds/Teams.rds')"
   ]
  },
  {
   "cell_type": "code",
   "execution_count": 152,
   "metadata": {},
   "outputs": [],
   "source": [
    "# add TeamID based on team name\n",
    "data.colley %>% \n",
    "    mutate(LowName=str_to_lower(Name)) %>% \n",
    "    left_join(data.teamspellings,by=c('LowName'='TeamNameSpelling')) -> df.ratingsystem"
   ]
  },
  {
   "cell_type": "code",
   "execution_count": 153,
   "metadata": {},
   "outputs": [
    {
     "data": {
      "text/html": [
       "<table>\n",
       "<thead><tr><th scope=col>Season</th><th scope=col>Rank</th><th scope=col>Name</th><th scope=col>Record</th><th scope=col>Rating</th><th scope=col>LowName</th><th scope=col>TeamID</th></tr></thead>\n",
       "<tbody>\n",
       "\t<tr><td>2014    </td><td>76      </td><td>WVU     </td><td>17-16   </td><td>0.691843</td><td>wvu     </td><td>NA      </td></tr>\n",
       "\t<tr><td>2015    </td><td>20      </td><td>WVU     </td><td>23-sept </td><td>0.883697</td><td>wvu     </td><td>NA      </td></tr>\n",
       "\t<tr><td>2016    </td><td>11      </td><td>WVU     </td><td>26-août </td><td>0.950119</td><td>wvu     </td><td>NA      </td></tr>\n",
       "\t<tr><td>2017    </td><td>19      </td><td>WVU     </td><td>26-août </td><td>0.903141</td><td>wvu     </td><td>NA      </td></tr>\n",
       "\t<tr><td>2018    </td><td>20      </td><td>WVU     </td><td>24-oct  </td><td>0.873613</td><td>wvu     </td><td>NA      </td></tr>\n",
       "</tbody>\n",
       "</table>\n"
      ],
      "text/latex": [
       "\\begin{tabular}{r|lllllll}\n",
       " Season & Rank & Name & Record & Rating & LowName & TeamID\\\\\n",
       "\\hline\n",
       "\t 2014     & 76       & WVU      & 17-16    & 0.691843 & wvu      & NA      \\\\\n",
       "\t 2015     & 20       & WVU      & 23-sept  & 0.883697 & wvu      & NA      \\\\\n",
       "\t 2016     & 11       & WVU      & 26-août  & 0.950119 & wvu      & NA      \\\\\n",
       "\t 2017     & 19       & WVU      & 26-août  & 0.903141 & wvu      & NA      \\\\\n",
       "\t 2018     & 20       & WVU      & 24-oct   & 0.873613 & wvu      & NA      \\\\\n",
       "\\end{tabular}\n"
      ],
      "text/markdown": [
       "\n",
       "| Season | Rank | Name | Record | Rating | LowName | TeamID |\n",
       "|---|---|---|---|---|---|---|\n",
       "| 2014     | 76       | WVU      | 17-16    | 0.691843 | wvu      | NA       |\n",
       "| 2015     | 20       | WVU      | 23-sept  | 0.883697 | wvu      | NA       |\n",
       "| 2016     | 11       | WVU      | 26-août  | 0.950119 | wvu      | NA       |\n",
       "| 2017     | 19       | WVU      | 26-août  | 0.903141 | wvu      | NA       |\n",
       "| 2018     | 20       | WVU      | 24-oct   | 0.873613 | wvu      | NA       |\n",
       "\n"
      ],
      "text/plain": [
       "  Season Rank Name Record  Rating   LowName TeamID\n",
       "1 2014   76   WVU  17-16   0.691843 wvu     NA    \n",
       "2 2015   20   WVU  23-sept 0.883697 wvu     NA    \n",
       "3 2016   11   WVU  26-août 0.950119 wvu     NA    \n",
       "4 2017   19   WVU  26-août 0.903141 wvu     NA    \n",
       "5 2018   20   WVU  24-oct  0.873613 wvu     NA    "
      ]
     },
     "metadata": {},
     "output_type": "display_data"
    }
   ],
   "source": [
    "df.ratingsystem %>% filter(str_detect(LowName,'wvu'))"
   ]
  },
  {
   "cell_type": "code",
   "execution_count": 154,
   "metadata": {
    "scrolled": true
   },
   "outputs": [
    {
     "data": {
      "text/html": [
       "<table>\n",
       "<thead><tr><th scope=col>TeamID</th><th scope=col>TeamName</th><th scope=col>FirstD1Season</th><th scope=col>LastD1Season</th></tr></thead>\n",
       "<tbody>\n",
       "\t<tr><td>1113           </td><td>Arizona St     </td><td>1985           </td><td>2019           </td></tr>\n",
       "\t<tr><td>1114           </td><td>Ark Little Rock</td><td>1985           </td><td>2019           </td></tr>\n",
       "\t<tr><td>1151           </td><td>Chattanooga    </td><td>1985           </td><td>2019           </td></tr>\n",
       "\t<tr><td>1153           </td><td>Cincinnati     </td><td>1985           </td><td>2019           </td></tr>\n",
       "\t<tr><td>1158           </td><td>Col Charleston </td><td>1992           </td><td>2019           </td></tr>\n",
       "\t<tr><td>1168           </td><td>CS Fullerton   </td><td>1985           </td><td>2019           </td></tr>\n",
       "\t<tr><td>1186           </td><td>E Washington   </td><td>1985           </td><td>2019           </td></tr>\n",
       "\t<tr><td>1192           </td><td>F Dickinson    </td><td>1985           </td><td>2019           </td></tr>\n",
       "\t<tr><td>1203           </td><td>G Washington   </td><td>1985           </td><td>2019           </td></tr>\n",
       "\t<tr><td>1209           </td><td>Georgia St     </td><td>1985           </td><td>2019           </td></tr>\n",
       "\t<tr><td>1240           </td><td>Jacksonville St</td><td>1996           </td><td>2019           </td></tr>\n",
       "\t<tr><td>1245           </td><td>Kent           </td><td>1985           </td><td>2019           </td></tr>\n",
       "\t<tr><td>1260           </td><td>Loyola-Chicago </td><td>1985           </td><td>2019           </td></tr>\n",
       "\t<tr><td>1277           </td><td>Michigan St    </td><td>1985           </td><td>2019           </td></tr>\n",
       "\t<tr><td>1308           </td><td>New Mexico St  </td><td>1985           </td><td>2019           </td></tr>\n",
       "\t<tr><td>1318           </td><td>Northeastern   </td><td>1985           </td><td>2019           </td></tr>\n",
       "\t<tr><td>1320           </td><td>Northern Iowa  </td><td>1985           </td><td>2019           </td></tr>\n",
       "\t<tr><td>1321           </td><td>Northwestern   </td><td>1985           </td><td>2019           </td></tr>\n",
       "\t<tr><td>1329           </td><td>Oklahoma St    </td><td>1985           </td><td>2019           </td></tr>\n",
       "\t<tr><td>1348           </td><td>Rhode Island   </td><td>1985           </td><td>2019           </td></tr>\n",
       "\t<tr><td>1352           </td><td>Robert Morris  </td><td>1985           </td><td>2019           </td></tr>\n",
       "\t<tr><td>1372           </td><td>SF Austin      </td><td>1987           </td><td>2019           </td></tr>\n",
       "\t<tr><td>1376           </td><td>South Carolina </td><td>1985           </td><td>2019           </td></tr>\n",
       "\t<tr><td>1382           </td><td>St Bonaventure </td><td>1985           </td><td>2019           </td></tr>\n",
       "\t<tr><td>1388           </td><td>St Mary's CA   </td><td>1985           </td><td>2019           </td></tr>\n",
       "\t<tr><td>1392           </td><td>Stony Brook    </td><td>2000           </td><td>2019           </td></tr>\n",
       "\t<tr><td>1403           </td><td>Texas Tech     </td><td>1985           </td><td>2019           </td></tr>\n",
       "\t<tr><td>1411           </td><td>TX Southern    </td><td>1985           </td><td>2019           </td></tr>\n",
       "\t<tr><td>1414           </td><td>UC Irvine      </td><td>1985           </td><td>2019           </td></tr>\n",
       "\t<tr><td>1418           </td><td>ULL            </td><td>1985           </td><td>2019           </td></tr>\n",
       "\t<tr><td>1421           </td><td>UNC Asheville  </td><td>1987           </td><td>2019           </td></tr>\n",
       "\t<tr><td>1422           </td><td>UNC Greensboro </td><td>1992           </td><td>2019           </td></tr>\n",
       "\t<tr><td>1423           </td><td>UNC Wilmington </td><td>1985           </td><td>2019           </td></tr>\n",
       "\t<tr><td>1434           </td><td>Valparaiso     </td><td>1985           </td><td>2019           </td></tr>\n",
       "\t<tr><td>1444           </td><td>W Michigan     </td><td>1985           </td><td>2019           </td></tr>\n",
       "\t<tr><td>1452           </td><td>West Virginia  </td><td>1985           </td><td>2019           </td></tr>\n",
       "\t<tr><td>1453           </td><td>WI Green Bay   </td><td>1985           </td><td>2019           </td></tr>\n",
       "\t<tr><td>1454           </td><td>WI Milwaukee   </td><td>1991           </td><td>2019           </td></tr>\n",
       "</tbody>\n",
       "</table>\n"
      ],
      "text/latex": [
       "\\begin{tabular}{r|llll}\n",
       " TeamID & TeamName & FirstD1Season & LastD1Season\\\\\n",
       "\\hline\n",
       "\t 1113            & Arizona St      & 1985            & 2019           \\\\\n",
       "\t 1114            & Ark Little Rock & 1985            & 2019           \\\\\n",
       "\t 1151            & Chattanooga     & 1985            & 2019           \\\\\n",
       "\t 1153            & Cincinnati      & 1985            & 2019           \\\\\n",
       "\t 1158            & Col Charleston  & 1992            & 2019           \\\\\n",
       "\t 1168            & CS Fullerton    & 1985            & 2019           \\\\\n",
       "\t 1186            & E Washington    & 1985            & 2019           \\\\\n",
       "\t 1192            & F Dickinson     & 1985            & 2019           \\\\\n",
       "\t 1203            & G Washington    & 1985            & 2019           \\\\\n",
       "\t 1209            & Georgia St      & 1985            & 2019           \\\\\n",
       "\t 1240            & Jacksonville St & 1996            & 2019           \\\\\n",
       "\t 1245            & Kent            & 1985            & 2019           \\\\\n",
       "\t 1260            & Loyola-Chicago  & 1985            & 2019           \\\\\n",
       "\t 1277            & Michigan St     & 1985            & 2019           \\\\\n",
       "\t 1308            & New Mexico St   & 1985            & 2019           \\\\\n",
       "\t 1318            & Northeastern    & 1985            & 2019           \\\\\n",
       "\t 1320            & Northern Iowa   & 1985            & 2019           \\\\\n",
       "\t 1321            & Northwestern    & 1985            & 2019           \\\\\n",
       "\t 1329            & Oklahoma St     & 1985            & 2019           \\\\\n",
       "\t 1348            & Rhode Island    & 1985            & 2019           \\\\\n",
       "\t 1352            & Robert Morris   & 1985            & 2019           \\\\\n",
       "\t 1372            & SF Austin       & 1987            & 2019           \\\\\n",
       "\t 1376            & South Carolina  & 1985            & 2019           \\\\\n",
       "\t 1382            & St Bonaventure  & 1985            & 2019           \\\\\n",
       "\t 1388            & St Mary's CA    & 1985            & 2019           \\\\\n",
       "\t 1392            & Stony Brook     & 2000            & 2019           \\\\\n",
       "\t 1403            & Texas Tech      & 1985            & 2019           \\\\\n",
       "\t 1411            & TX Southern     & 1985            & 2019           \\\\\n",
       "\t 1414            & UC Irvine       & 1985            & 2019           \\\\\n",
       "\t 1418            & ULL             & 1985            & 2019           \\\\\n",
       "\t 1421            & UNC Asheville   & 1987            & 2019           \\\\\n",
       "\t 1422            & UNC Greensboro  & 1992            & 2019           \\\\\n",
       "\t 1423            & UNC Wilmington  & 1985            & 2019           \\\\\n",
       "\t 1434            & Valparaiso      & 1985            & 2019           \\\\\n",
       "\t 1444            & W Michigan      & 1985            & 2019           \\\\\n",
       "\t 1452            & West Virginia   & 1985            & 2019           \\\\\n",
       "\t 1453            & WI Green Bay    & 1985            & 2019           \\\\\n",
       "\t 1454            & WI Milwaukee    & 1991            & 2019           \\\\\n",
       "\\end{tabular}\n"
      ],
      "text/markdown": [
       "\n",
       "| TeamID | TeamName | FirstD1Season | LastD1Season |\n",
       "|---|---|---|---|\n",
       "| 1113            | Arizona St      | 1985            | 2019            |\n",
       "| 1114            | Ark Little Rock | 1985            | 2019            |\n",
       "| 1151            | Chattanooga     | 1985            | 2019            |\n",
       "| 1153            | Cincinnati      | 1985            | 2019            |\n",
       "| 1158            | Col Charleston  | 1992            | 2019            |\n",
       "| 1168            | CS Fullerton    | 1985            | 2019            |\n",
       "| 1186            | E Washington    | 1985            | 2019            |\n",
       "| 1192            | F Dickinson     | 1985            | 2019            |\n",
       "| 1203            | G Washington    | 1985            | 2019            |\n",
       "| 1209            | Georgia St      | 1985            | 2019            |\n",
       "| 1240            | Jacksonville St | 1996            | 2019            |\n",
       "| 1245            | Kent            | 1985            | 2019            |\n",
       "| 1260            | Loyola-Chicago  | 1985            | 2019            |\n",
       "| 1277            | Michigan St     | 1985            | 2019            |\n",
       "| 1308            | New Mexico St   | 1985            | 2019            |\n",
       "| 1318            | Northeastern    | 1985            | 2019            |\n",
       "| 1320            | Northern Iowa   | 1985            | 2019            |\n",
       "| 1321            | Northwestern    | 1985            | 2019            |\n",
       "| 1329            | Oklahoma St     | 1985            | 2019            |\n",
       "| 1348            | Rhode Island    | 1985            | 2019            |\n",
       "| 1352            | Robert Morris   | 1985            | 2019            |\n",
       "| 1372            | SF Austin       | 1987            | 2019            |\n",
       "| 1376            | South Carolina  | 1985            | 2019            |\n",
       "| 1382            | St Bonaventure  | 1985            | 2019            |\n",
       "| 1388            | St Mary's CA    | 1985            | 2019            |\n",
       "| 1392            | Stony Brook     | 2000            | 2019            |\n",
       "| 1403            | Texas Tech      | 1985            | 2019            |\n",
       "| 1411            | TX Southern     | 1985            | 2019            |\n",
       "| 1414            | UC Irvine       | 1985            | 2019            |\n",
       "| 1418            | ULL             | 1985            | 2019            |\n",
       "| 1421            | UNC Asheville   | 1987            | 2019            |\n",
       "| 1422            | UNC Greensboro  | 1992            | 2019            |\n",
       "| 1423            | UNC Wilmington  | 1985            | 2019            |\n",
       "| 1434            | Valparaiso      | 1985            | 2019            |\n",
       "| 1444            | W Michigan      | 1985            | 2019            |\n",
       "| 1452            | West Virginia   | 1985            | 2019            |\n",
       "| 1453            | WI Green Bay    | 1985            | 2019            |\n",
       "| 1454            | WI Milwaukee    | 1991            | 2019            |\n",
       "\n"
      ],
      "text/plain": [
       "   TeamID TeamName        FirstD1Season LastD1Season\n",
       "1  1113   Arizona St      1985          2019        \n",
       "2  1114   Ark Little Rock 1985          2019        \n",
       "3  1151   Chattanooga     1985          2019        \n",
       "4  1153   Cincinnati      1985          2019        \n",
       "5  1158   Col Charleston  1992          2019        \n",
       "6  1168   CS Fullerton    1985          2019        \n",
       "7  1186   E Washington    1985          2019        \n",
       "8  1192   F Dickinson     1985          2019        \n",
       "9  1203   G Washington    1985          2019        \n",
       "10 1209   Georgia St      1985          2019        \n",
       "11 1240   Jacksonville St 1996          2019        \n",
       "12 1245   Kent            1985          2019        \n",
       "13 1260   Loyola-Chicago  1985          2019        \n",
       "14 1277   Michigan St     1985          2019        \n",
       "15 1308   New Mexico St   1985          2019        \n",
       "16 1318   Northeastern    1985          2019        \n",
       "17 1320   Northern Iowa   1985          2019        \n",
       "18 1321   Northwestern    1985          2019        \n",
       "19 1329   Oklahoma St     1985          2019        \n",
       "20 1348   Rhode Island    1985          2019        \n",
       "21 1352   Robert Morris   1985          2019        \n",
       "22 1372   SF Austin       1987          2019        \n",
       "23 1376   South Carolina  1985          2019        \n",
       "24 1382   St Bonaventure  1985          2019        \n",
       "25 1388   St Mary's CA    1985          2019        \n",
       "26 1392   Stony Brook     2000          2019        \n",
       "27 1403   Texas Tech      1985          2019        \n",
       "28 1411   TX Southern     1985          2019        \n",
       "29 1414   UC Irvine       1985          2019        \n",
       "30 1418   ULL             1985          2019        \n",
       "31 1421   UNC Asheville   1987          2019        \n",
       "32 1422   UNC Greensboro  1992          2019        \n",
       "33 1423   UNC Wilmington  1985          2019        \n",
       "34 1434   Valparaiso      1985          2019        \n",
       "35 1444   W Michigan      1985          2019        \n",
       "36 1452   West Virginia   1985          2019        \n",
       "37 1453   WI Green Bay    1985          2019        \n",
       "38 1454   WI Milwaukee    1991          2019        "
      ]
     },
     "metadata": {},
     "output_type": "display_data"
    }
   ],
   "source": [
    "# missing tourney team in stats (because name misspelling)\n",
    "df.ratingsystem %>% \n",
    "    right_join(df.tourneyteams,by='TeamID') %>%\n",
    "    filter(is.na(Rank)) %>%\n",
    "    select(TeamID) %>%\n",
    "    inner_join(data.teams,by='TeamID') %>%\n",
    "    distinct() %>%\n",
    "    arrange(TeamID)"
   ]
  },
  {
   "cell_type": "code",
   "execution_count": 155,
   "metadata": {},
   "outputs": [
    {
     "data": {
      "text/html": [
       "<table>\n",
       "<thead><tr><th scope=col>Season</th><th scope=col>Rank</th><th scope=col>Name</th><th scope=col>Record</th><th scope=col>Rating</th><th scope=col>LowName</th><th scope=col>TeamID</th></tr></thead>\n",
       "<tbody>\n",
       "\t<tr><td>2014      </td><td>1         </td><td>Florida   </td><td>32-2      </td><td>1.085930  </td><td>florida   </td><td>1196      </td></tr>\n",
       "\t<tr><td>2014      </td><td>2         </td><td>Arizona   </td><td>30-avr    </td><td>1.052020  </td><td>arizona   </td><td>1112      </td></tr>\n",
       "\t<tr><td>2014      </td><td>3         </td><td>Wichita St</td><td>33-0      </td><td>1.020560  </td><td>wichita st</td><td>1455      </td></tr>\n",
       "\t<tr><td>2014      </td><td>4         </td><td>Villanova </td><td>28-avr    </td><td>1.011520  </td><td>villanova </td><td>1437      </td></tr>\n",
       "\t<tr><td>2014      </td><td>5         </td><td>Kansas    </td><td>24-sept   </td><td>0.988126  </td><td>kansas    </td><td>1242      </td></tr>\n",
       "\t<tr><td>2014      </td><td>6         </td><td>Iowa St   </td><td>26-juil   </td><td>0.977411  </td><td>iowa st   </td><td>1235      </td></tr>\n",
       "</tbody>\n",
       "</table>\n"
      ],
      "text/latex": [
       "\\begin{tabular}{r|lllllll}\n",
       " Season & Rank & Name & Record & Rating & LowName & TeamID\\\\\n",
       "\\hline\n",
       "\t 2014       & 1          & Florida    & 32-2       & 1.085930   & florida    & 1196      \\\\\n",
       "\t 2014       & 2          & Arizona    & 30-avr     & 1.052020   & arizona    & 1112      \\\\\n",
       "\t 2014       & 3          & Wichita St & 33-0       & 1.020560   & wichita st & 1455      \\\\\n",
       "\t 2014       & 4          & Villanova  & 28-avr     & 1.011520   & villanova  & 1437      \\\\\n",
       "\t 2014       & 5          & Kansas     & 24-sept    & 0.988126   & kansas     & 1242      \\\\\n",
       "\t 2014       & 6          & Iowa St    & 26-juil    & 0.977411   & iowa st    & 1235      \\\\\n",
       "\\end{tabular}\n"
      ],
      "text/markdown": [
       "\n",
       "| Season | Rank | Name | Record | Rating | LowName | TeamID |\n",
       "|---|---|---|---|---|---|---|\n",
       "| 2014       | 1          | Florida    | 32-2       | 1.085930   | florida    | 1196       |\n",
       "| 2014       | 2          | Arizona    | 30-avr     | 1.052020   | arizona    | 1112       |\n",
       "| 2014       | 3          | Wichita St | 33-0       | 1.020560   | wichita st | 1455       |\n",
       "| 2014       | 4          | Villanova  | 28-avr     | 1.011520   | villanova  | 1437       |\n",
       "| 2014       | 5          | Kansas     | 24-sept    | 0.988126   | kansas     | 1242       |\n",
       "| 2014       | 6          | Iowa St    | 26-juil    | 0.977411   | iowa st    | 1235       |\n",
       "\n"
      ],
      "text/plain": [
       "  Season Rank Name       Record  Rating   LowName    TeamID\n",
       "1 2014   1    Florida    32-2    1.085930 florida    1196  \n",
       "2 2014   2    Arizona    30-avr  1.052020 arizona    1112  \n",
       "3 2014   3    Wichita St 33-0    1.020560 wichita st 1455  \n",
       "4 2014   4    Villanova  28-avr  1.011520 villanova  1437  \n",
       "5 2014   5    Kansas     24-sept 0.988126 kansas     1242  \n",
       "6 2014   6    Iowa St    26-juil 0.977411 iowa st    1235  "
      ]
     },
     "metadata": {},
     "output_type": "display_data"
    }
   ],
   "source": [
    "df.ratingsystem %>% head"
   ]
  },
  {
   "cell_type": "code",
   "execution_count": 156,
   "metadata": {},
   "outputs": [],
   "source": [
    "# add missing TeamID from Colley stats\n",
    "df.ratingsystem %>%\n",
    "    mutate_which(str_detect(LowName,'^arizona'),TeamID=1112) %>%\n",
    "    mutate_which(str_detect(LowName,'ariz st'),TeamID=1113) %>%\n",
    "    mutate_which(str_detect(LowName,'rock'),TeamID=1114) %>%\n",
    "    mutate_which(str_detect(LowName,'chat'),TeamID=1151) %>%\n",
    "    mutate_which(str_detect(LowName,'cincy'),TeamID=1153) %>%\n",
    "    mutate_which(str_detect(LowName,'col chrlstn'),TeamID=1158) %>%\n",
    "    mutate_which(str_detect(LowName,'cs full'),TeamID=1168) %>%\n",
    "    mutate_which(str_detect(LowName,'e wash'),TeamID=1186) %>%\n",
    "    mutate_which(str_detect(LowName,'fairl dcknsn'),TeamID=1192) %>%\n",
    "    mutate_which(str_detect(LowName,'geo wash'),TeamID=1203) %>%\n",
    "    mutate_which(str_detect(LowName,'georgia'),TeamID=1208) %>%\n",
    "    mutate_which(str_detect(LowName,'ga st'),TeamID=1209) %>%\n",
    "    mutate_which(str_detect(LowName,'jackson st'),TeamID=1240) %>%\n",
    "    mutate_which(str_detect(LowName,'kent st'),TeamID=1245) %>%\n",
    "    mutate_which(str_detect(LowName,'loyola chi'),TeamID=1260) %>%\n",
    "    mutate_which(str_detect(LowName,'michigan'),TeamID=1276) %>%\n",
    "    mutate_which(str_detect(LowName,'mich st'),TeamID=1277) %>%\n",
    "    mutate_which(str_detect(LowName,'new mexico'),TeamID=1307) %>%\n",
    "    mutate_which(str_detect(LowName,'new mex st'),TeamID=1308) %>%\n",
    "    mutate_which(str_detect(LowName,'eastern'),TeamID=1318) %>%\n",
    "    mutate_which(str_detect(LowName,'n iowa'),TeamID=1320) %>%\n",
    "    mutate_which(str_detect(LowName,'western'),TeamID=1321) %>%\n",
    "    mutate_which(str_detect(LowName,'oklahoma'),TeamID=1328) %>%\n",
    "    mutate_which(str_detect(LowName,'okl st'),TeamID=1329) %>%\n",
    "    mutate_which(str_detect(LowName,'rhisland'),TeamID=1348) %>%\n",
    "    mutate_which(str_detect(LowName,'morris'),TeamID=1352) %>%\n",
    "    mutate_which(str_detect(LowName,'f austin'),TeamID=1372) %>%\n",
    "    mutate_which(str_detect(LowName,'s carolina'),TeamID=1376) %>%\n",
    "    mutate_which(str_detect(LowName,'southern'),TeamID=1380) %>%\n",
    "    mutate_which(str_detect(LowName,'st bonny'),TeamID=1382) %>%\n",
    "    mutate_which(str_detect(LowName,'^st mary'),TeamID=1388) %>%\n",
    "    mutate_which(str_detect(LowName,'stony brk'),TeamID=1392) %>%\n",
    "    mutate_which(str_detect(LowName,'^texas$'),TeamID=1400) %>%\n",
    "    mutate_which(str_detect(LowName,'tex tech'),TeamID=1403) %>%\n",
    "    mutate_which(str_detect(LowName,'tx sou'),TeamID=1411) %>%\n",
    "    mutate_which(str_detect(LowName,'irvine'),TeamID=1414) %>%\n",
    "    mutate_which(str_detect(LowName,'la lafayette'),TeamID=1418) %>%\n",
    "    mutate_which(str_detect(LowName,'unc ash'),TeamID=1421) %>%\n",
    "    mutate_which(str_detect(LowName,'unc grnsbro'),TeamID=1422) %>%\n",
    "    mutate_which(str_detect(LowName,'unc wilm'),TeamID=1423) %>%\n",
    "    mutate_which(str_detect(LowName,'valpo'),TeamID=1434) %>%\n",
    "    mutate_which(str_detect(LowName,'west mich'),TeamID=1444) %>%\n",
    "    mutate_which(str_detect(LowName,'wvu'),TeamID=1452) %>%\n",
    "    mutate_which(str_detect(LowName,'virginia'),TeamID=1438) %>%\n",
    "    mutate_which(str_detect(LowName,'virginia tech'),TeamID=1439) %>% \n",
    "    mutate_which(str_detect(LowName,'green bay'),TeamID=1453) %>%\n",
    "    mutate_which(str_detect(LowName,'wi milw'),TeamID=1454) -> df.ratingsystem"
   ]
  },
  {
   "cell_type": "code",
   "execution_count": 157,
   "metadata": {},
   "outputs": [
    {
     "data": {
      "text/html": [
       "<table>\n",
       "<thead><tr><th scope=col>TeamID</th><th scope=col>TeamName</th><th scope=col>FirstD1Season</th><th scope=col>LastD1Season</th></tr></thead>\n",
       "<tbody>\n",
       "</tbody>\n",
       "</table>\n"
      ],
      "text/latex": [
       "\\begin{tabular}{r|llll}\n",
       " TeamID & TeamName & FirstD1Season & LastD1Season\\\\\n",
       "\\hline\n",
       "\\end{tabular}\n"
      ],
      "text/markdown": [
       "\n",
       "| TeamID | TeamName | FirstD1Season | LastD1Season |\n",
       "|---|---|---|---|\n",
       "\n"
      ],
      "text/plain": [
       "     TeamID TeamName FirstD1Season LastD1Season"
      ]
     },
     "metadata": {},
     "output_type": "display_data"
    }
   ],
   "source": [
    "# check if ssomething is still wrong\n",
    "df.ratingsystem %>% \n",
    "    right_join(df.tourneyteams,by='TeamID') %>%\n",
    "    filter(is.na(Rank)) %>%\n",
    "    select(TeamID) %>%\n",
    "    inner_join(data.teams,by='TeamID') %>%\n",
    "    distinct() %>%\n",
    "    arrange(TeamID)"
   ]
  },
  {
   "cell_type": "code",
   "execution_count": 158,
   "metadata": {},
   "outputs": [],
   "source": [
    "# restrict stats to tourney teams\n",
    "df.ratingsystem %>% \n",
    "    inner_join(df.tourneyteams,by=c('TeamID','Season')) %>%\n",
    "    select(Season,TeamID,Rating) -> df.ratingsystem"
   ]
  },
  {
   "cell_type": "code",
   "execution_count": 159,
   "metadata": {},
   "outputs": [
    {
     "data": {
      "text/html": [
       "<table>\n",
       "<thead><tr><th scope=col>Season</th><th scope=col>n</th></tr></thead>\n",
       "<tbody>\n",
       "\t<tr><td>2014</td><td>68  </td></tr>\n",
       "\t<tr><td>2015</td><td>68  </td></tr>\n",
       "\t<tr><td>2016</td><td>68  </td></tr>\n",
       "\t<tr><td>2017</td><td>68  </td></tr>\n",
       "\t<tr><td>2018</td><td>68  </td></tr>\n",
       "</tbody>\n",
       "</table>\n"
      ],
      "text/latex": [
       "\\begin{tabular}{r|ll}\n",
       " Season & n\\\\\n",
       "\\hline\n",
       "\t 2014 & 68  \\\\\n",
       "\t 2015 & 68  \\\\\n",
       "\t 2016 & 68  \\\\\n",
       "\t 2017 & 68  \\\\\n",
       "\t 2018 & 68  \\\\\n",
       "\\end{tabular}\n"
      ],
      "text/markdown": [
       "\n",
       "| Season | n |\n",
       "|---|---|\n",
       "| 2014 | 68   |\n",
       "| 2015 | 68   |\n",
       "| 2016 | 68   |\n",
       "| 2017 | 68   |\n",
       "| 2018 | 68   |\n",
       "\n"
      ],
      "text/plain": [
       "  Season n \n",
       "1 2014   68\n",
       "2 2015   68\n",
       "3 2016   68\n",
       "4 2017   68\n",
       "5 2018   68"
      ]
     },
     "metadata": {},
     "output_type": "display_data"
    }
   ],
   "source": [
    "# Check if we have 68 teams per Season\n",
    "df.ratingsystem %>% \n",
    "    group_by(Season) %>% \n",
    "    count"
   ]
  },
  {
   "cell_type": "code",
   "execution_count": 160,
   "metadata": {},
   "outputs": [
    {
     "data": {
      "text/html": [
       "<table>\n",
       "<thead><tr><th scope=col>TeamID</th><th scope=col>TeamName</th></tr></thead>\n",
       "<tbody>\n",
       "</tbody>\n",
       "</table>\n"
      ],
      "text/latex": [
       "\\begin{tabular}{r|ll}\n",
       " TeamID & TeamName\\\\\n",
       "\\hline\n",
       "\\end{tabular}\n"
      ],
      "text/markdown": [
       "\n",
       "| TeamID | TeamName |\n",
       "|---|---|\n",
       "\n"
      ],
      "text/plain": [
       "     TeamID TeamName"
      ]
     },
     "metadata": {},
     "output_type": "display_data"
    }
   ],
   "source": [
    "# check missing TeamID per Season \n",
    "df.tourneyteams %>% \n",
    "    anti_join(df.ratingsystem,by=c('Season','TeamID')) %>%\n",
    "    inner_join(data.teams,by='TeamID') %>%\n",
    "    select(TeamID,TeamName) %>%\n",
    "    distinct()"
   ]
  },
  {
   "cell_type": "code",
   "execution_count": 161,
   "metadata": {},
   "outputs": [],
   "source": [
    "# load true results\n",
    "data.truth <- readRDS('../datafiles_rds/TourneyTrueResults.rds')"
   ]
  },
  {
   "cell_type": "code",
   "execution_count": 162,
   "metadata": {},
   "outputs": [
    {
     "data": {
      "text/html": [
       "<table>\n",
       "<thead><tr><th scope=col>Season</th><th scope=col>qtl</th><th scope=col>Slope</th></tr></thead>\n",
       "<tbody>\n",
       "\t<tr><td>2017     </td><td>0.35     </td><td>10.304986</td></tr>\n",
       "\t<tr><td>2014     </td><td>0.77     </td><td>17.515624</td></tr>\n",
       "\t<tr><td>2015     </td><td>0.55     </td><td> 9.281552</td></tr>\n",
       "\t<tr><td>2015     </td><td>0.05     </td><td> 4.884695</td></tr>\n",
       "\t<tr><td>2018     </td><td>0.48     </td><td> 9.707738</td></tr>\n",
       "</tbody>\n",
       "</table>\n"
      ],
      "text/latex": [
       "\\begin{tabular}{r|lll}\n",
       " Season & qtl & Slope\\\\\n",
       "\\hline\n",
       "\t 2017      & 0.35      & 10.304986\\\\\n",
       "\t 2014      & 0.77      & 17.515624\\\\\n",
       "\t 2015      & 0.55      &  9.281552\\\\\n",
       "\t 2015      & 0.05      &  4.884695\\\\\n",
       "\t 2018      & 0.48      &  9.707738\\\\\n",
       "\\end{tabular}\n"
      ],
      "text/markdown": [
       "\n",
       "| Season | qtl | Slope |\n",
       "|---|---|---|\n",
       "| 2017      | 0.35      | 10.304986 |\n",
       "| 2014      | 0.77      | 17.515624 |\n",
       "| 2015      | 0.55      |  9.281552 |\n",
       "| 2015      | 0.05      |  4.884695 |\n",
       "| 2018      | 0.48      |  9.707738 |\n",
       "\n"
      ],
      "text/plain": [
       "  Season qtl  Slope    \n",
       "1 2017   0.35 10.304986\n",
       "2 2014   0.77 17.515624\n",
       "3 2015   0.55  9.281552\n",
       "4 2015   0.05  4.884695\n",
       "5 2018   0.48  9.707738"
      ]
     },
     "metadata": {},
     "output_type": "display_data"
    }
   ],
   "source": [
    "# slope hyper parameter grid : we will compute 51 models and chose the best one (min logloss)\n",
    "df.ratingsystem %>% \n",
    "    mutate(dummy=1) %>% \n",
    "    inner_join(data.frame(qtl=seq(0.01,0.99,0.01),dummy=1),by='dummy') %>% \n",
    "    select(-dummy) %>% \n",
    "    group_by(qtl,Season) %>% \n",
    "    mutate(thres=max(Rating)-quantile(Rating,max(qtl)),Slope=3/thres) %>%\n",
    "    ungroup %>% \n",
    "    select(Season,qtl,Slope) %>% \n",
    "    distinct() -> df.slopes\n",
    "df.slopes %>% sample_n(5)"
   ]
  },
  {
   "cell_type": "code",
   "execution_count": 163,
   "metadata": {},
   "outputs": [
    {
     "data": {
      "text/html": [
       "<table>\n",
       "<thead><tr><th scope=col>Season</th><th scope=col>TeamID.x</th><th scope=col>Rating.x</th><th scope=col>TeamID.y</th><th scope=col>Rating.y</th></tr></thead>\n",
       "<tbody>\n",
       "\t<tr><td>2016    </td><td>1274    </td><td>0.957893</td><td>1276    </td><td>0.770673</td></tr>\n",
       "\t<tr><td>2018    </td><td>1355    </td><td>0.774967</td><td>1401    </td><td>0.837750</td></tr>\n",
       "\t<tr><td>2018    </td><td>1277    </td><td>0.957514</td><td>1462    </td><td>1.016220</td></tr>\n",
       "\t<tr><td>2015    </td><td>1173    </td><td>0.823877</td><td>1461    </td><td>0.704464</td></tr>\n",
       "\t<tr><td>2014    </td><td>1444    </td><td>0.710051</td><td>1451    </td><td>0.500993</td></tr>\n",
       "</tbody>\n",
       "</table>\n"
      ],
      "text/latex": [
       "\\begin{tabular}{r|lllll}\n",
       " Season & TeamID.x & Rating.x & TeamID.y & Rating.y\\\\\n",
       "\\hline\n",
       "\t 2016     & 1274     & 0.957893 & 1276     & 0.770673\\\\\n",
       "\t 2018     & 1355     & 0.774967 & 1401     & 0.837750\\\\\n",
       "\t 2018     & 1277     & 0.957514 & 1462     & 1.016220\\\\\n",
       "\t 2015     & 1173     & 0.823877 & 1461     & 0.704464\\\\\n",
       "\t 2014     & 1444     & 0.710051 & 1451     & 0.500993\\\\\n",
       "\\end{tabular}\n"
      ],
      "text/markdown": [
       "\n",
       "| Season | TeamID.x | Rating.x | TeamID.y | Rating.y |\n",
       "|---|---|---|---|---|\n",
       "| 2016     | 1274     | 0.957893 | 1276     | 0.770673 |\n",
       "| 2018     | 1355     | 0.774967 | 1401     | 0.837750 |\n",
       "| 2018     | 1277     | 0.957514 | 1462     | 1.016220 |\n",
       "| 2015     | 1173     | 0.823877 | 1461     | 0.704464 |\n",
       "| 2014     | 1444     | 0.710051 | 1451     | 0.500993 |\n",
       "\n"
      ],
      "text/plain": [
       "  Season TeamID.x Rating.x TeamID.y Rating.y\n",
       "1 2016   1274     0.957893 1276     0.770673\n",
       "2 2018   1355     0.774967 1401     0.837750\n",
       "3 2018   1277     0.957514 1462     1.016220\n",
       "4 2015   1173     0.823877 1461     0.704464\n",
       "5 2014   1444     0.710051 1451     0.500993"
      ]
     },
     "metadata": {},
     "output_type": "display_data"
    }
   ],
   "source": [
    "# matchups dataframe : all the possible matches between the 68 teams per Season \n",
    "df.ratingsystem %>% \n",
    "    inner_join(df.ratingsystem,by='Season') %>% \n",
    "    filter(TeamID.x < TeamID.y) -> df.matchup\n",
    "df.matchup %>% sample_n(5)"
   ]
  },
  {
   "cell_type": "code",
   "execution_count": 164,
   "metadata": {},
   "outputs": [
    {
     "data": {
      "text/html": [
       "<table>\n",
       "<thead><tr><th scope=col>Season</th><th scope=col>TeamID.x</th><th scope=col>Rating.x</th><th scope=col>TeamID.y</th><th scope=col>Rating.y</th><th scope=col>qtl</th><th scope=col>Slope</th></tr></thead>\n",
       "<tbody>\n",
       "\t<tr><td>2015     </td><td>1211     </td><td>0.996054 </td><td>1400     </td><td>0.793075 </td><td>0.06     </td><td> 4.963316</td></tr>\n",
       "\t<tr><td>2018     </td><td>1168     </td><td>0.592099 </td><td>1199     </td><td>0.775967 </td><td>0.34     </td><td> 9.216657</td></tr>\n",
       "\t<tr><td>2015     </td><td>1139     </td><td>0.851544 </td><td>1264     </td><td>0.488825 </td><td>0.45     </td><td> 8.630313</td></tr>\n",
       "\t<tr><td>2016     </td><td>1143     </td><td>0.879532 </td><td>1400     </td><td>0.852530 </td><td>0.08     </td><td> 5.452396</td></tr>\n",
       "\t<tr><td>2016     </td><td>1114     </td><td>0.776859 </td><td>1160     </td><td>0.820621 </td><td>0.84     </td><td>20.279166</td></tr>\n",
       "</tbody>\n",
       "</table>\n"
      ],
      "text/latex": [
       "\\begin{tabular}{r|lllllll}\n",
       " Season & TeamID.x & Rating.x & TeamID.y & Rating.y & qtl & Slope\\\\\n",
       "\\hline\n",
       "\t 2015      & 1211      & 0.996054  & 1400      & 0.793075  & 0.06      &  4.963316\\\\\n",
       "\t 2018      & 1168      & 0.592099  & 1199      & 0.775967  & 0.34      &  9.216657\\\\\n",
       "\t 2015      & 1139      & 0.851544  & 1264      & 0.488825  & 0.45      &  8.630313\\\\\n",
       "\t 2016      & 1143      & 0.879532  & 1400      & 0.852530  & 0.08      &  5.452396\\\\\n",
       "\t 2016      & 1114      & 0.776859  & 1160      & 0.820621  & 0.84      & 20.279166\\\\\n",
       "\\end{tabular}\n"
      ],
      "text/markdown": [
       "\n",
       "| Season | TeamID.x | Rating.x | TeamID.y | Rating.y | qtl | Slope |\n",
       "|---|---|---|---|---|---|---|\n",
       "| 2015      | 1211      | 0.996054  | 1400      | 0.793075  | 0.06      |  4.963316 |\n",
       "| 2018      | 1168      | 0.592099  | 1199      | 0.775967  | 0.34      |  9.216657 |\n",
       "| 2015      | 1139      | 0.851544  | 1264      | 0.488825  | 0.45      |  8.630313 |\n",
       "| 2016      | 1143      | 0.879532  | 1400      | 0.852530  | 0.08      |  5.452396 |\n",
       "| 2016      | 1114      | 0.776859  | 1160      | 0.820621  | 0.84      | 20.279166 |\n",
       "\n"
      ],
      "text/plain": [
       "  Season TeamID.x Rating.x TeamID.y Rating.y qtl  Slope    \n",
       "1 2015   1211     0.996054 1400     0.793075 0.06  4.963316\n",
       "2 2018   1168     0.592099 1199     0.775967 0.34  9.216657\n",
       "3 2015   1139     0.851544 1264     0.488825 0.45  8.630313\n",
       "4 2016   1143     0.879532 1400     0.852530 0.08  5.452396\n",
       "5 2016   1114     0.776859 1160     0.820621 0.84 20.279166"
      ]
     },
     "metadata": {},
     "output_type": "display_data"
    }
   ],
   "source": [
    "# all matchs with all 51 hyper parameter setting (qtl=[0.25,0.75]) \n",
    "df.matchup %>% inner_join(df.slopes,by=c('Season')) -> df.matchup\n",
    "df.matchup %>% sample_n(5)"
   ]
  },
  {
   "cell_type": "code",
   "execution_count": 165,
   "metadata": {},
   "outputs": [
    {
     "data": {
      "text/html": [
       "<table>\n",
       "<thead><tr><th scope=col>qtl</th><th scope=col>ID</th><th scope=col>Pred</th><th scope=col>Prob</th></tr></thead>\n",
       "<tbody>\n",
       "\t<tr><td>0.30          </td><td>2017_1139_1277</td><td>1             </td><td>0.820         </td></tr>\n",
       "\t<tr><td>0.12          </td><td>2014_1243_1269</td><td>0             </td><td>0.375         </td></tr>\n",
       "\t<tr><td>0.18          </td><td>2014_1329_1409</td><td>1             </td><td>0.721         </td></tr>\n",
       "\t<tr><td>0.39          </td><td>2015_1214_1326</td><td>0             </td><td>0.050         </td></tr>\n",
       "\t<tr><td>0.68          </td><td>2018_1274_1314</td><td>0             </td><td>0.184         </td></tr>\n",
       "</tbody>\n",
       "</table>\n"
      ],
      "text/latex": [
       "\\begin{tabular}{r|llll}\n",
       " qtl & ID & Pred & Prob\\\\\n",
       "\\hline\n",
       "\t 0.30               & 2017\\_1139\\_1277 & 1                  & 0.820             \\\\\n",
       "\t 0.12               & 2014\\_1243\\_1269 & 0                  & 0.375             \\\\\n",
       "\t 0.18               & 2014\\_1329\\_1409 & 1                  & 0.721             \\\\\n",
       "\t 0.39               & 2015\\_1214\\_1326 & 0                  & 0.050             \\\\\n",
       "\t 0.68               & 2018\\_1274\\_1314 & 0                  & 0.184             \\\\\n",
       "\\end{tabular}\n"
      ],
      "text/markdown": [
       "\n",
       "| qtl | ID | Pred | Prob |\n",
       "|---|---|---|---|\n",
       "| 0.30           | 2017_1139_1277 | 1              | 0.820          |\n",
       "| 0.12           | 2014_1243_1269 | 0              | 0.375          |\n",
       "| 0.18           | 2014_1329_1409 | 1              | 0.721          |\n",
       "| 0.39           | 2015_1214_1326 | 0              | 0.050          |\n",
       "| 0.68           | 2018_1274_1314 | 0              | 0.184          |\n",
       "\n"
      ],
      "text/plain": [
       "  qtl  ID             Pred Prob \n",
       "1 0.30 2017_1139_1277 1    0.820\n",
       "2 0.12 2014_1243_1269 0    0.375\n",
       "3 0.18 2014_1329_1409 1    0.721\n",
       "4 0.39 2015_1214_1326 0    0.050\n",
       "5 0.68 2018_1274_1314 0    0.184"
      ]
     },
     "metadata": {},
     "output_type": "display_data"
    }
   ],
   "source": [
    "# machups predictions : compute the winning probability of TeamID.x and cap it into [0.05,0.95] to avoid too much logloss is case of FP or FN \n",
    "df.matchup %>% \n",
    "    mutate(ID=str_c(Season,'_',TeamID.x,'_',TeamID.y)) %>% \n",
    "    mutate(Prob=logistic(Rating.x-Rating.y,a=Slope)) %>% \n",
    "    mutate(Pred=ifelse(Prob>0.5,1,0)) %>% \n",
    "    mutate(Prob=round(Prob,3)) %>%\n",
    "    mutate_which(Prob>0.95,Prob=0.95) %>%\n",
    "    mutate_which(Prob<0.05,Prob=0.05) %>%\n",
    "    select(qtl,ID,Pred,Prob) -> df.submit\n",
    "df.submit %>% sample_n(5)"
   ]
  },
  {
   "cell_type": "code",
   "execution_count": 166,
   "metadata": {},
   "outputs": [],
   "source": [
    "# merge prediction and truth\n",
    "data.truth %>% inner_join(df.submit,by='ID') -> df.results"
   ]
  },
  {
   "cell_type": "code",
   "execution_count": 167,
   "metadata": {},
   "outputs": [
    {
     "data": {
      "text/html": [
       "<table>\n",
       "<thead><tr><th scope=col>qtl</th><th scope=col>TC</th><th scope=col>FC</th><th scope=col>N</th><th scope=col>Acc</th><th scope=col>LogLoss</th></tr></thead>\n",
       "<tbody>\n",
       "\t<tr><td>0.15     </td><td>235      </td><td>100      </td><td>335      </td><td>0.7014925</td><td>0.5620278</td></tr>\n",
       "\t<tr><td>0.14     </td><td>235      </td><td>100      </td><td>335      </td><td>0.7014925</td><td>0.5620308</td></tr>\n",
       "\t<tr><td>0.13     </td><td>235      </td><td>100      </td><td>335      </td><td>0.7014925</td><td>0.5621425</td></tr>\n",
       "\t<tr><td>0.16     </td><td>235      </td><td>100      </td><td>335      </td><td>0.7014925</td><td>0.5621526</td></tr>\n",
       "\t<tr><td>0.17     </td><td>235      </td><td>100      </td><td>335      </td><td>0.7014925</td><td>0.5624796</td></tr>\n",
       "\t<tr><td>0.12     </td><td>235      </td><td>100      </td><td>335      </td><td>0.7014925</td><td>0.5625100</td></tr>\n",
       "</tbody>\n",
       "</table>\n"
      ],
      "text/latex": [
       "\\begin{tabular}{r|llllll}\n",
       " qtl & TC & FC & N & Acc & LogLoss\\\\\n",
       "\\hline\n",
       "\t 0.15      & 235       & 100       & 335       & 0.7014925 & 0.5620278\\\\\n",
       "\t 0.14      & 235       & 100       & 335       & 0.7014925 & 0.5620308\\\\\n",
       "\t 0.13      & 235       & 100       & 335       & 0.7014925 & 0.5621425\\\\\n",
       "\t 0.16      & 235       & 100       & 335       & 0.7014925 & 0.5621526\\\\\n",
       "\t 0.17      & 235       & 100       & 335       & 0.7014925 & 0.5624796\\\\\n",
       "\t 0.12      & 235       & 100       & 335       & 0.7014925 & 0.5625100\\\\\n",
       "\\end{tabular}\n"
      ],
      "text/markdown": [
       "\n",
       "| qtl | TC | FC | N | Acc | LogLoss |\n",
       "|---|---|---|---|---|---|\n",
       "| 0.15      | 235       | 100       | 335       | 0.7014925 | 0.5620278 |\n",
       "| 0.14      | 235       | 100       | 335       | 0.7014925 | 0.5620308 |\n",
       "| 0.13      | 235       | 100       | 335       | 0.7014925 | 0.5621425 |\n",
       "| 0.16      | 235       | 100       | 335       | 0.7014925 | 0.5621526 |\n",
       "| 0.17      | 235       | 100       | 335       | 0.7014925 | 0.5624796 |\n",
       "| 0.12      | 235       | 100       | 335       | 0.7014925 | 0.5625100 |\n",
       "\n"
      ],
      "text/plain": [
       "  qtl  TC  FC  N   Acc       LogLoss  \n",
       "1 0.15 235 100 335 0.7014925 0.5620278\n",
       "2 0.14 235 100 335 0.7014925 0.5620308\n",
       "3 0.13 235 100 335 0.7014925 0.5621425\n",
       "4 0.16 235 100 335 0.7014925 0.5621526\n",
       "5 0.17 235 100 335 0.7014925 0.5624796\n",
       "6 0.12 235 100 335 0.7014925 0.5625100"
      ]
     },
     "metadata": {},
     "output_type": "display_data"
    }
   ],
   "source": [
    "# compute accuracy & Logloss per qtl to find the best one\n",
    "df.results %>% \n",
    "    mutate(OK=ifelse(Pred==Target,1,0)) %>%\n",
    "    mutate(LogLoss=Target*log(Prob) + (1-Target)*log(1-Prob)) %>%\n",
    "    group_by(qtl) %>%\n",
    "    summarise(TC=sum(OK),N=n(),FC=N-TC,Acc=TC/N,LogLoss=-mean(LogLoss)) %>%\n",
    "    select(qtl,TC,FC,N,Acc,LogLoss) -> df.results.perf\n",
    "df.results.perf %>% arrange(LogLoss) %>% head()"
   ]
  },
  {
   "cell_type": "code",
   "execution_count": 168,
   "metadata": {},
   "outputs": [],
   "source": [
    "library(ggplot2,warn.conflicts=F)"
   ]
  },
  {
   "cell_type": "code",
   "execution_count": 169,
   "metadata": {},
   "outputs": [
    {
     "data": {
      "image/png": "[encoded data removed]",
      "text/plain": [
       "plot without title"
      ]
     },
     "metadata": {},
     "output_type": "display_data"
    }
   ],
   "source": [
    "options(repr.plot.width=4, repr.plot.height=4)\n",
    "qplot(data=df.results.perf,x=qtl,y=LogLoss)"
   ]
  },
  {
   "cell_type": "code",
   "execution_count": 170,
   "metadata": {},
   "outputs": [],
   "source": [
    "# store the best qtl\n",
    "df.results.perf %>% \n",
    "    arrange(LogLoss) %>% \n",
    "    head(1) %>% pull(qtl) -> bestqtl"
   ]
  },
  {
   "cell_type": "code",
   "execution_count": 172,
   "metadata": {},
   "outputs": [],
   "source": [
    "# save the best results for kaggle submission\n",
    "df.submit %>% \n",
    "    filter(qtl==bestqtl) %>% \n",
    "    select(ID,Pred=Prob) %>% \n",
    "    write.csv('../predictions/Pred_Colley_bestqtl.csv',quote=F,row.names=F)"
   ]
  },
  {
   "cell_type": "code",
   "execution_count": 173,
   "metadata": {},
   "outputs": [],
   "source": [
    "# save best model for mix\n",
    "df.submit %>%\n",
    "    filter(qtl==bestqtl) %>% \n",
    "    saveRDS('../predictions/Colley_bestqtl.rds')    "
   ]
  },
  {
   "cell_type": "code",
   "execution_count": null,
   "metadata": {},
   "outputs": [],
   "source": []
  }
 ],
 "metadata": {
  "kernelspec": {
   "display_name": "R 3.5.0",
   "language": "R",
   "name": "ir35"
  },
  "language_info": {
   "codemirror_mode": "r",
   "file_extension": ".r",
   "mimetype": "text/x-r-source",
   "name": "R",
   "pygments_lexer": "r",
   "version": "3.5.1"
  }
 },
 "nbformat": 4,
 "nbformat_minor": 2
}
