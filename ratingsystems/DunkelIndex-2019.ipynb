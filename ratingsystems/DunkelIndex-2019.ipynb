{
 "cells": [
  {
   "cell_type": "code",
   "execution_count": 80,
   "metadata": {},
   "outputs": [],
   "source": [
    "# Load required packages\n",
    "library(dplyr,warn.conflicts=F)\n",
    "library(stringr,warn.conflicts=F)\n",
    "library(psych,warn.conflicts=F)\n",
    "library(lplyr,warn.conflicts=F)"
   ]
  },
  {
   "cell_type": "code",
   "execution_count": 81,
   "metadata": {},
   "outputs": [],
   "source": [
    "data.madnessteams <- read.csv('../2019/NCAATourneySeeds.csv',stringsAsFactors=F)\n",
    "data.madnessteams %>% \n",
    "    filter(Season==2019) %>%\n",
    "    select(TeamID) %>% \n",
    "    mutate(Season=2019) -> df.tourneyteams"
   ]
  },
  {
   "cell_type": "code",
   "execution_count": 84,
   "metadata": {
    "scrolled": true
   },
   "outputs": [
    {
     "data": {
      "text/html": [
       "<table>\n",
       "<thead><tr><th scope=col>Rank</th><th scope=col>Team</th><th scope=col>WLRating</th><th scope=col>SEARating</th><th scope=col>RECRating</th></tr></thead>\n",
       "<tbody>\n",
       "\t<tr><td>1             </td><td>Gonzaga       </td><td>86.580        </td><td>79.287        </td><td>82.039        </td></tr>\n",
       "\t<tr><td>2             </td><td>Duke          </td><td>86.438        </td><td>79.955        </td><td>76.182        </td></tr>\n",
       "\t<tr><td>3             </td><td>Virginia      </td><td>83.927        </td><td>76.904        </td><td>80.205        </td></tr>\n",
       "\t<tr><td>4             </td><td>Tennessee     </td><td>82.079        </td><td>75.596        </td><td>75.970        </td></tr>\n",
       "\t<tr><td>5             </td><td>Michigan State</td><td>82.013        </td><td>76.071        </td><td>75.614        </td></tr>\n",
       "\t<tr><td>6             </td><td>North Carolina</td><td>81.639        </td><td>75.967        </td><td>80.693        </td></tr>\n",
       "</tbody>\n",
       "</table>\n"
      ],
      "text/latex": [
       "\\begin{tabular}{r|lllll}\n",
       " Rank & Team & WLRating & SEARating & RECRating\\\\\n",
       "\\hline\n",
       "\t 1              & Gonzaga        & 86.580         & 79.287         & 82.039        \\\\\n",
       "\t 2              & Duke           & 86.438         & 79.955         & 76.182        \\\\\n",
       "\t 3              & Virginia       & 83.927         & 76.904         & 80.205        \\\\\n",
       "\t 4              & Tennessee      & 82.079         & 75.596         & 75.970        \\\\\n",
       "\t 5              & Michigan State & 82.013         & 76.071         & 75.614        \\\\\n",
       "\t 6              & North Carolina & 81.639         & 75.967         & 80.693        \\\\\n",
       "\\end{tabular}\n"
      ],
      "text/markdown": [
       "\n",
       "| Rank | Team | WLRating | SEARating | RECRating |\n",
       "|---|---|---|---|---|\n",
       "| 1              | Gonzaga        | 86.580         | 79.287         | 82.039         |\n",
       "| 2              | Duke           | 86.438         | 79.955         | 76.182         |\n",
       "| 3              | Virginia       | 83.927         | 76.904         | 80.205         |\n",
       "| 4              | Tennessee      | 82.079         | 75.596         | 75.970         |\n",
       "| 5              | Michigan State | 82.013         | 76.071         | 75.614         |\n",
       "| 6              | North Carolina | 81.639         | 75.967         | 80.693         |\n",
       "\n"
      ],
      "text/plain": [
       "  Rank Team           WLRating SEARating RECRating\n",
       "1 1    Gonzaga        86.580   79.287    82.039   \n",
       "2 2    Duke           86.438   79.955    76.182   \n",
       "3 3    Virginia       83.927   76.904    80.205   \n",
       "4 4    Tennessee      82.079   75.596    75.970   \n",
       "5 5    Michigan State 82.013   76.071    75.614   \n",
       "6 6    North Carolina 81.639   75.967    80.693   "
      ]
     },
     "metadata": {},
     "output_type": "display_data"
    }
   ],
   "source": [
    "# DunkleIndex Rating 2014+\n",
    "# http://dunkelindex.com/rankings/basketball/ncaa/\n",
    "data.dunkel <- read.csv('../2019/DunkelIndex.csv',stringsAsFactors=F)\n",
    "data.dunkel %>% head"
   ]
  },
  {
   "cell_type": "code",
   "execution_count": 86,
   "metadata": {},
   "outputs": [],
   "source": [
    "data.dunkel %>% rename(Name=Team,\n",
    "                       Rating=WLRating) -> data.dunkel"
   ]
  },
  {
   "cell_type": "code",
   "execution_count": 87,
   "metadata": {},
   "outputs": [],
   "source": [
    "# load team spellings variations\n",
    "data.teamspellings <- readRDS('../datafiles_rds/TeamSpellings.rds')\n",
    "data.teams <- readRDS('../datafiles_rds/Teams.rds')"
   ]
  },
  {
   "cell_type": "code",
   "execution_count": 88,
   "metadata": {},
   "outputs": [],
   "source": [
    "# add TeamID based on team name\n",
    "data.dunkel %>% \n",
    "    mutate(LowName=str_to_lower(Name)) %>% \n",
    "    left_join(data.teamspellings,by=c('LowName'='TeamNameSpelling')) %>%\n",
    "    mutate(Season=2019) -> df.dunkel"
   ]
  },
  {
   "cell_type": "code",
   "execution_count": 89,
   "metadata": {},
   "outputs": [
    {
     "data": {
      "text/html": [
       "<table>\n",
       "<thead><tr><th scope=col>Rank</th><th scope=col>Name</th><th scope=col>Rating</th><th scope=col>SEARating</th><th scope=col>RECRating</th></tr></thead>\n",
       "<tbody>\n",
       "\t<tr><td>49        </td><td>St. Mary’s</td><td>67.303    </td><td>64.332    </td><td>65.961    </td></tr>\n",
       "</tbody>\n",
       "</table>\n"
      ],
      "text/latex": [
       "\\begin{tabular}{r|lllll}\n",
       " Rank & Name & Rating & SEARating & RECRating\\\\\n",
       "\\hline\n",
       "\t 49         & St. Mary’s & 67.303     & 64.332     & 65.961    \\\\\n",
       "\\end{tabular}\n"
      ],
      "text/markdown": [
       "\n",
       "| Rank | Name | Rating | SEARating | RECRating |\n",
       "|---|---|---|---|---|\n",
       "| 49         | St. Mary’s | 67.303     | 64.332     | 65.961     |\n",
       "\n"
      ],
      "text/plain": [
       "  Rank Name       Rating SEARating RECRating\n",
       "1 49   St. Mary’s 67.303 64.332    65.961   "
      ]
     },
     "metadata": {},
     "output_type": "display_data"
    }
   ],
   "source": [
    "data.dunkel %>% filter(str_detect(Name,'^St. Mary'))"
   ]
  },
  {
   "cell_type": "code",
   "execution_count": 90,
   "metadata": {},
   "outputs": [
    {
     "data": {
      "text/html": [
       "<table>\n",
       "<thead><tr><th scope=col>TeamID</th><th scope=col>TeamName</th><th scope=col>FirstD1Season</th><th scope=col>LastD1Season</th></tr></thead>\n",
       "<tbody>\n",
       "\t<tr><td>1192        </td><td>F Dickinson </td><td>1985        </td><td>2019        </td></tr>\n",
       "\t<tr><td>1385        </td><td>St John's   </td><td>1985        </td><td>2019        </td></tr>\n",
       "\t<tr><td>1387        </td><td>St Louis    </td><td>1985        </td><td>2019        </td></tr>\n",
       "\t<tr><td>1388        </td><td>St Mary's CA</td><td>1985        </td><td>2019        </td></tr>\n",
       "</tbody>\n",
       "</table>\n"
      ],
      "text/latex": [
       "\\begin{tabular}{r|llll}\n",
       " TeamID & TeamName & FirstD1Season & LastD1Season\\\\\n",
       "\\hline\n",
       "\t 1192         & F Dickinson  & 1985         & 2019        \\\\\n",
       "\t 1385         & St John's    & 1985         & 2019        \\\\\n",
       "\t 1387         & St Louis     & 1985         & 2019        \\\\\n",
       "\t 1388         & St Mary's CA & 1985         & 2019        \\\\\n",
       "\\end{tabular}\n"
      ],
      "text/markdown": [
       "\n",
       "| TeamID | TeamName | FirstD1Season | LastD1Season |\n",
       "|---|---|---|---|\n",
       "| 1192         | F Dickinson  | 1985         | 2019         |\n",
       "| 1385         | St John's    | 1985         | 2019         |\n",
       "| 1387         | St Louis     | 1985         | 2019         |\n",
       "| 1388         | St Mary's CA | 1985         | 2019         |\n",
       "\n"
      ],
      "text/plain": [
       "  TeamID TeamName     FirstD1Season LastD1Season\n",
       "1 1192   F Dickinson  1985          2019        \n",
       "2 1385   St John's    1985          2019        \n",
       "3 1387   St Louis     1985          2019        \n",
       "4 1388   St Mary's CA 1985          2019        "
      ]
     },
     "metadata": {},
     "output_type": "display_data"
    }
   ],
   "source": [
    "# missing tourney team in Dunkle stats (because name misspelling)\n",
    "df.dunkel %>% \n",
    "    right_join(df.tourneyteams,by='TeamID') %>%\n",
    "    filter(is.na(Rank)) %>%\n",
    "    select(TeamID) %>%\n",
    "    inner_join(data.teams,by='TeamID') %>%\n",
    "    distinct() %>%\n",
    "    arrange(TeamID)"
   ]
  },
  {
   "cell_type": "code",
   "execution_count": 91,
   "metadata": {},
   "outputs": [],
   "source": [
    "# add missing TeamID from Sagarin stats\n",
    "df.dunkel %>%\n",
    "    mutate_which(str_detect(Name,'Dickinson'),TeamID=1192) %>%\n",
    "    mutate_which(str_detect(Name,'John'),TeamID=1385) %>%\n",
    "    mutate_which(str_detect(Name,'St. Louis'),TeamID=1387) %>%\n",
    "    mutate_which(str_detect(Name,'^St. Mary'),TeamID=1388) -> df.dunkel"
   ]
  },
  {
   "cell_type": "code",
   "execution_count": 92,
   "metadata": {},
   "outputs": [
    {
     "data": {
      "text/html": [
       "<table>\n",
       "<thead><tr><th scope=col>TeamID</th><th scope=col>TeamName</th><th scope=col>FirstD1Season</th><th scope=col>LastD1Season</th></tr></thead>\n",
       "<tbody>\n",
       "</tbody>\n",
       "</table>\n"
      ],
      "text/latex": [
       "\\begin{tabular}{r|llll}\n",
       " TeamID & TeamName & FirstD1Season & LastD1Season\\\\\n",
       "\\hline\n",
       "\\end{tabular}\n"
      ],
      "text/markdown": [
       "\n",
       "| TeamID | TeamName | FirstD1Season | LastD1Season |\n",
       "|---|---|---|---|\n",
       "\n"
      ],
      "text/plain": [
       "     TeamID TeamName FirstD1Season LastD1Season"
      ]
     },
     "metadata": {},
     "output_type": "display_data"
    }
   ],
   "source": [
    "# check if ssomething is still wrong\n",
    "df.dunkel %>% \n",
    "    right_join(df.tourneyteams,by='TeamID') %>%\n",
    "    filter(is.na(Rank)) %>%\n",
    "    select(TeamID) %>%\n",
    "    inner_join(data.teams,by='TeamID') %>%\n",
    "    distinct() %>%\n",
    "    arrange(TeamID)"
   ]
  },
  {
   "cell_type": "code",
   "execution_count": 93,
   "metadata": {},
   "outputs": [],
   "source": [
    "# restrict Dunkle stats to tourney teams\n",
    "df.dunkel %>% \n",
    "    inner_join(df.tourneyteams,by=c('TeamID','Season')) %>%\n",
    "    select(Season,TeamID,Rating) -> df.dunkel"
   ]
  },
  {
   "cell_type": "code",
   "execution_count": 94,
   "metadata": {},
   "outputs": [
    {
     "data": {
      "text/html": [
       "<table>\n",
       "<thead><tr><th scope=col>Season</th><th scope=col>n</th></tr></thead>\n",
       "<tbody>\n",
       "\t<tr><td>2019</td><td>68  </td></tr>\n",
       "</tbody>\n",
       "</table>\n"
      ],
      "text/latex": [
       "\\begin{tabular}{r|ll}\n",
       " Season & n\\\\\n",
       "\\hline\n",
       "\t 2019 & 68  \\\\\n",
       "\\end{tabular}\n"
      ],
      "text/markdown": [
       "\n",
       "| Season | n |\n",
       "|---|---|\n",
       "| 2019 | 68   |\n",
       "\n"
      ],
      "text/plain": [
       "  Season n \n",
       "1 2019   68"
      ]
     },
     "metadata": {},
     "output_type": "display_data"
    }
   ],
   "source": [
    "# Check if we have 68 teams per Season\n",
    "df.dunkel %>% \n",
    "    group_by(Season) %>% \n",
    "    count"
   ]
  },
  {
   "cell_type": "code",
   "execution_count": 95,
   "metadata": {},
   "outputs": [
    {
     "data": {
      "text/html": [
       "<table>\n",
       "<thead><tr><th scope=col>TeamID</th><th scope=col>Season</th></tr></thead>\n",
       "<tbody>\n",
       "</tbody>\n",
       "</table>\n"
      ],
      "text/latex": [
       "\\begin{tabular}{r|ll}\n",
       " TeamID & Season\\\\\n",
       "\\hline\n",
       "\\end{tabular}\n"
      ],
      "text/markdown": [
       "\n",
       "| TeamID | Season |\n",
       "|---|---|\n",
       "\n"
      ],
      "text/plain": [
       "     TeamID Season"
      ]
     },
     "metadata": {},
     "output_type": "display_data"
    }
   ],
   "source": [
    "# check missing TeamID per Season \n",
    "df.tourneyteams %>% \n",
    "    anti_join(df.dunkel,by=c('Season','TeamID'))"
   ]
  },
  {
   "cell_type": "markdown",
   "metadata": {},
   "source": [
    "#### Predictions"
   ]
  },
  {
   "cell_type": "code",
   "execution_count": 96,
   "metadata": {},
   "outputs": [],
   "source": [
    "df.tourneyteams %>%\n",
    "    full_join(data.madnessteams,by='Season') %>%\n",
    "    filter(TeamID.x < TeamID.y) %>%\n",
    "    select(-Season) -> data.matchups "
   ]
  },
  {
   "cell_type": "code",
   "execution_count": 98,
   "metadata": {},
   "outputs": [
    {
     "data": {
      "text/html": [
       "0.217747115757996"
      ],
      "text/latex": [
       "0.217747115757996"
      ],
      "text/markdown": [
       "0.217747115757996"
      ],
      "text/plain": [
       "[1] 0.2177471"
      ]
     },
     "metadata": {},
     "output_type": "display_data"
    }
   ],
   "source": [
    "Qtl = 0.65\n",
    "Slope = as.numeric(3 / ( max(df.dunkel$Rating) - quantile(df.dunkel$Rating,Qtl)))\n",
    "Slope"
   ]
  },
  {
   "cell_type": "code",
   "execution_count": 100,
   "metadata": {},
   "outputs": [
    {
     "data": {
      "text/html": [
       "<table>\n",
       "<thead><tr><th scope=col>Season</th><th scope=col>TeamID</th><th scope=col>Rating</th></tr></thead>\n",
       "<tbody>\n",
       "\t<tr><td>2019  </td><td>1211  </td><td>86.580</td></tr>\n",
       "\t<tr><td>2019  </td><td>1181  </td><td>86.438</td></tr>\n",
       "\t<tr><td>2019  </td><td>1438  </td><td>83.927</td></tr>\n",
       "\t<tr><td>2019  </td><td>1397  </td><td>82.079</td></tr>\n",
       "\t<tr><td>2019  </td><td>1277  </td><td>82.013</td></tr>\n",
       "\t<tr><td>2019  </td><td>1314  </td><td>81.639</td></tr>\n",
       "</tbody>\n",
       "</table>\n"
      ],
      "text/latex": [
       "\\begin{tabular}{r|lll}\n",
       " Season & TeamID & Rating\\\\\n",
       "\\hline\n",
       "\t 2019   & 1211   & 86.580\\\\\n",
       "\t 2019   & 1181   & 86.438\\\\\n",
       "\t 2019   & 1438   & 83.927\\\\\n",
       "\t 2019   & 1397   & 82.079\\\\\n",
       "\t 2019   & 1277   & 82.013\\\\\n",
       "\t 2019   & 1314   & 81.639\\\\\n",
       "\\end{tabular}\n"
      ],
      "text/markdown": [
       "\n",
       "| Season | TeamID | Rating |\n",
       "|---|---|---|\n",
       "| 2019   | 1211   | 86.580 |\n",
       "| 2019   | 1181   | 86.438 |\n",
       "| 2019   | 1438   | 83.927 |\n",
       "| 2019   | 1397   | 82.079 |\n",
       "| 2019   | 1277   | 82.013 |\n",
       "| 2019   | 1314   | 81.639 |\n",
       "\n"
      ],
      "text/plain": [
       "  Season TeamID Rating\n",
       "1 2019   1211   86.580\n",
       "2 2019   1181   86.438\n",
       "3 2019   1438   83.927\n",
       "4 2019   1397   82.079\n",
       "5 2019   1277   82.013\n",
       "6 2019   1314   81.639"
      ]
     },
     "metadata": {},
     "output_type": "display_data"
    }
   ],
   "source": [
    "df.dunkel %>% head"
   ]
  },
  {
   "cell_type": "code",
   "execution_count": 101,
   "metadata": {},
   "outputs": [],
   "source": [
    "data.matchups %>%\n",
    "    inner_join(df.dunkel,by=c('TeamID.x'='TeamID')) %>%\n",
    "    select(-Season,-Seed) %>%\n",
    "    inner_join(df.dunkel,by=c('TeamID.y'='TeamID')) %>% \n",
    "    select(everything()) -> df.matchups"
   ]
  },
  {
   "cell_type": "code",
   "execution_count": 102,
   "metadata": {
    "scrolled": true
   },
   "outputs": [
    {
     "data": {
      "text/html": [
       "<table>\n",
       "<thead><tr><th scope=col>TeamID.x</th><th scope=col>TeamID.y</th><th scope=col>Rating.x</th><th scope=col>Season</th><th scope=col>Rating.y</th></tr></thead>\n",
       "<tbody>\n",
       "\t<tr><td>1181  </td><td>1277  </td><td>86.438</td><td>2019  </td><td>82.013</td></tr>\n",
       "\t<tr><td>1181  </td><td>1261  </td><td>86.438</td><td>2019  </td><td>74.161</td></tr>\n",
       "\t<tr><td>1181  </td><td>1439  </td><td>86.438</td><td>2019  </td><td>75.820</td></tr>\n",
       "\t<tr><td>1181  </td><td>1280  </td><td>86.438</td><td>2019  </td><td>73.124</td></tr>\n",
       "\t<tr><td>1181  </td><td>1268  </td><td>86.438</td><td>2019  </td><td>71.990</td></tr>\n",
       "\t<tr><td>1181  </td><td>1257  </td><td>86.438</td><td>2019  </td><td>72.018</td></tr>\n",
       "</tbody>\n",
       "</table>\n"
      ],
      "text/latex": [
       "\\begin{tabular}{r|lllll}\n",
       " TeamID.x & TeamID.y & Rating.x & Season & Rating.y\\\\\n",
       "\\hline\n",
       "\t 1181   & 1277   & 86.438 & 2019   & 82.013\\\\\n",
       "\t 1181   & 1261   & 86.438 & 2019   & 74.161\\\\\n",
       "\t 1181   & 1439   & 86.438 & 2019   & 75.820\\\\\n",
       "\t 1181   & 1280   & 86.438 & 2019   & 73.124\\\\\n",
       "\t 1181   & 1268   & 86.438 & 2019   & 71.990\\\\\n",
       "\t 1181   & 1257   & 86.438 & 2019   & 72.018\\\\\n",
       "\\end{tabular}\n"
      ],
      "text/markdown": [
       "\n",
       "| TeamID.x | TeamID.y | Rating.x | Season | Rating.y |\n",
       "|---|---|---|---|---|\n",
       "| 1181   | 1277   | 86.438 | 2019   | 82.013 |\n",
       "| 1181   | 1261   | 86.438 | 2019   | 74.161 |\n",
       "| 1181   | 1439   | 86.438 | 2019   | 75.820 |\n",
       "| 1181   | 1280   | 86.438 | 2019   | 73.124 |\n",
       "| 1181   | 1268   | 86.438 | 2019   | 71.990 |\n",
       "| 1181   | 1257   | 86.438 | 2019   | 72.018 |\n",
       "\n"
      ],
      "text/plain": [
       "  TeamID.x TeamID.y Rating.x Season Rating.y\n",
       "1 1181     1277     86.438   2019   82.013  \n",
       "2 1181     1261     86.438   2019   74.161  \n",
       "3 1181     1439     86.438   2019   75.820  \n",
       "4 1181     1280     86.438   2019   73.124  \n",
       "5 1181     1268     86.438   2019   71.990  \n",
       "6 1181     1257     86.438   2019   72.018  "
      ]
     },
     "metadata": {},
     "output_type": "display_data"
    }
   ],
   "source": [
    "df.matchups %>% head"
   ]
  },
  {
   "cell_type": "code",
   "execution_count": 103,
   "metadata": {},
   "outputs": [
    {
     "data": {
      "text/html": [
       "<table>\n",
       "<thead><tr><th scope=col>ID</th><th scope=col>Pred</th><th scope=col>Prob</th></tr></thead>\n",
       "<tbody>\n",
       "\t<tr><td>2019_1266_1387</td><td>1             </td><td>0.927         </td></tr>\n",
       "\t<tr><td>2019_1196_1233</td><td>1             </td><td>0.950         </td></tr>\n",
       "\t<tr><td>2019_1280_1305</td><td>0             </td><td>0.353         </td></tr>\n",
       "\t<tr><td>2019_1113_1300</td><td>1             </td><td>0.950         </td></tr>\n",
       "\t<tr><td>2019_1196_1266</td><td>0             </td><td>0.358         </td></tr>\n",
       "</tbody>\n",
       "</table>\n"
      ],
      "text/latex": [
       "\\begin{tabular}{r|lll}\n",
       " ID & Pred & Prob\\\\\n",
       "\\hline\n",
       "\t 2019\\_1266\\_1387 & 1                  & 0.927             \\\\\n",
       "\t 2019\\_1196\\_1233 & 1                  & 0.950             \\\\\n",
       "\t 2019\\_1280\\_1305 & 0                  & 0.353             \\\\\n",
       "\t 2019\\_1113\\_1300 & 1                  & 0.950             \\\\\n",
       "\t 2019\\_1196\\_1266 & 0                  & 0.358             \\\\\n",
       "\\end{tabular}\n"
      ],
      "text/markdown": [
       "\n",
       "| ID | Pred | Prob |\n",
       "|---|---|---|\n",
       "| 2019_1266_1387 | 1              | 0.927          |\n",
       "| 2019_1196_1233 | 1              | 0.950          |\n",
       "| 2019_1280_1305 | 0              | 0.353          |\n",
       "| 2019_1113_1300 | 1              | 0.950          |\n",
       "| 2019_1196_1266 | 0              | 0.358          |\n",
       "\n"
      ],
      "text/plain": [
       "  ID             Pred Prob \n",
       "1 2019_1266_1387 1    0.927\n",
       "2 2019_1196_1233 1    0.950\n",
       "3 2019_1280_1305 0    0.353\n",
       "4 2019_1113_1300 1    0.950\n",
       "5 2019_1196_1266 0    0.358"
      ]
     },
     "metadata": {},
     "output_type": "display_data"
    }
   ],
   "source": [
    "# machups predictions : compute the winning probability of TeamID.x and cap it into [0.05,0.95] to avoid too much logloss is case of FP or FN \n",
    "df.matchups %>% \n",
    "    mutate(ID=str_c(Season,'_',TeamID.x,'_',TeamID.y)) %>% \n",
    "    mutate(Prob=logistic(Rating.x-Rating.y,a=Slope)) %>% \n",
    "    mutate(Pred=ifelse(Prob>0.5,1,0)) %>% \n",
    "    mutate(Prob=round(Prob,3)) %>%\n",
    "    mutate_which(Prob>0.95,Prob=0.95) %>%\n",
    "    mutate_which(Prob<0.05,Prob=0.05) %>%\n",
    "    select(ID,Pred,Prob) -> df.submit\n",
    "df.submit %>% sample_n(5)"
   ]
  },
  {
   "cell_type": "code",
   "execution_count": 106,
   "metadata": {},
   "outputs": [],
   "source": [
    "# save the best results for kaggle submission\n",
    "df.submit %>% \n",
    "    select(ID,Pred=Prob) %>% \n",
    "    write.csv('../predictions_2019/DunkelIndex.csv',quote=F,row.names=F)"
   ]
  },
  {
   "cell_type": "code",
   "execution_count": 107,
   "metadata": {},
   "outputs": [],
   "source": [
    "# save best model for mix\n",
    "df.submit %>%\n",
    "    saveRDS('../predictions_2019/DunkelIndex.rds')    "
   ]
  },
  {
   "cell_type": "code",
   "execution_count": null,
   "metadata": {},
   "outputs": [],
   "source": []
  }
 ],
 "metadata": {
  "kernelspec": {
   "display_name": "R 3.5.0",
   "language": "R",
   "name": "ir35"
  },
  "language_info": {
   "codemirror_mode": "r",
   "file_extension": ".r",
   "mimetype": "text/x-r-source",
   "name": "R",
   "pygments_lexer": "r",
   "version": "3.5.1"
  }
 },
 "nbformat": 4,
 "nbformat_minor": 2
}
