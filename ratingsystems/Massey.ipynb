{
 "cells": [
  {
   "cell_type": "code",
   "execution_count": 1,
   "metadata": {},
   "outputs": [],
   "source": [
    "# Load required packages\n",
    "library(dplyr,warn.conflicts=F)\n",
    "library(stringr,warn.conflicts=F)\n",
    "library(psych,warn.conflicts=F)\n",
    "library(lplyr,warn.conflicts=F)"
   ]
  },
  {
   "cell_type": "code",
   "execution_count": 2,
   "metadata": {},
   "outputs": [],
   "source": [
    "# load the stats\n",
    "data.tourney <- readRDS('datafiles_rds/NCAATourneyDetailedResults.rds')\n",
    "# keep 2014+\n",
    "data.tourney %>% filter(Season>2013) -> data.tourney"
   ]
  },
  {
   "cell_type": "code",
   "execution_count": 3,
   "metadata": {},
   "outputs": [],
   "source": [
    "# store 68 tourney teams \n",
    "data.tourney %>% \n",
    "    select(Season,TeamID=WTeamID) %>% \n",
    "    bind_rows(data.tourney %>% \n",
    "              select(Season,TeamID=LTeamID)) %>% \n",
    "    distinct(Season,TeamID) -> df.tourneyteams"
   ]
  },
  {
   "cell_type": "code",
   "execution_count": 4,
   "metadata": {},
   "outputs": [
    {
     "data": {
      "text/html": [
       "<table>\n",
       "<thead><tr><th scope=col>Season</th><th scope=col>Team</th><th scope=col>Conference</th><th scope=col>Record</th><th scope=col>WinPct</th><th scope=col>Rank</th><th scope=col>Rating</th><th scope=col>PowerRank</th><th scope=col>Power</th><th scope=col>OffRank</th><th scope=col>Offence</th><th scope=col>DefRank</th><th scope=col>Defense</th><th scope=col>HFA</th><th scope=col>SOSRank</th><th scope=col>SOS</th></tr></thead>\n",
       "<tbody>\n",
       "\t<tr><td>2014             </td><td>Florida          </td><td>Southeastern     </td><td>36-3             </td><td>0.92             </td><td>1                </td><td>2.97             </td><td>1                </td><td>51.26            </td><td> 76              </td><td>91.14            </td><td> 2               </td><td>34.74            </td><td>3.72             </td><td> 6               </td><td>38.56            </td></tr>\n",
       "\t<tr><td>2014             </td><td>Connecticut      </td><td>American Athletic</td><td>32-8             </td><td>0.80             </td><td>2                </td><td>2.78             </td><td>6                </td><td>48.64            </td><td> 43              </td><td>92.93            </td><td> 7               </td><td>30.32            </td><td>2.28             </td><td> 3               </td><td>38.76            </td></tr>\n",
       "\t<tr><td>2014             </td><td>Louisville       </td><td>American Athletic</td><td>31-6             </td><td>0.84             </td><td>3                </td><td>2.68             </td><td>2                </td><td>51.24            </td><td> 10              </td><td>97.99            </td><td>15               </td><td>27.86            </td><td>3.41             </td><td>24               </td><td>36.20            </td></tr>\n",
       "\t<tr><td>2014             </td><td>Arizona          </td><td>Pac 12           </td><td>33-5             </td><td>0.87             </td><td>4                </td><td>2.67             </td><td>3                </td><td>49.78            </td><td> 42              </td><td>92.99            </td><td> 3               </td><td>31.41            </td><td>4.53             </td><td> 8               </td><td>37.80            </td></tr>\n",
       "\t<tr><td>2014             </td><td>Wichita St       </td><td>Missouri Val     </td><td>35-1             </td><td>0.97             </td><td>5                </td><td>2.67             </td><td>5                </td><td>48.76            </td><td> 27              </td><td>94.70            </td><td>11               </td><td>28.67            </td><td>4.74             </td><td>97               </td><td>31.38            </td></tr>\n",
       "\t<tr><td>2014             </td><td>Virginia         </td><td>Atlantic Coast   </td><td>30-7             </td><td>0.81             </td><td>6                </td><td>2.66             </td><td>4                </td><td>49.16            </td><td>119              </td><td>88.65            </td><td> 1               </td><td>35.12            </td><td>3.16             </td><td> 9               </td><td>37.31            </td></tr>\n",
       "</tbody>\n",
       "</table>\n"
      ],
      "text/latex": [
       "\\begin{tabular}{r|llllllllllllllll}\n",
       " Season & Team & Conference & Record & WinPct & Rank & Rating & PowerRank & Power & OffRank & Offence & DefRank & Defense & HFA & SOSRank & SOS\\\\\n",
       "\\hline\n",
       "\t 2014              & Florida           & Southeastern      & 36-3              & 0.92              & 1                 & 2.97              & 1                 & 51.26             &  76               & 91.14             &  2                & 34.74             & 3.72              &  6                & 38.56            \\\\\n",
       "\t 2014              & Connecticut       & American Athletic & 32-8              & 0.80              & 2                 & 2.78              & 6                 & 48.64             &  43               & 92.93             &  7                & 30.32             & 2.28              &  3                & 38.76            \\\\\n",
       "\t 2014              & Louisville        & American Athletic & 31-6              & 0.84              & 3                 & 2.68              & 2                 & 51.24             &  10               & 97.99             & 15                & 27.86             & 3.41              & 24                & 36.20            \\\\\n",
       "\t 2014              & Arizona           & Pac 12            & 33-5              & 0.87              & 4                 & 2.67              & 3                 & 49.78             &  42               & 92.99             &  3                & 31.41             & 4.53              &  8                & 37.80            \\\\\n",
       "\t 2014              & Wichita St        & Missouri Val      & 35-1              & 0.97              & 5                 & 2.67              & 5                 & 48.76             &  27               & 94.70             & 11                & 28.67             & 4.74              & 97                & 31.38            \\\\\n",
       "\t 2014              & Virginia          & Atlantic Coast    & 30-7              & 0.81              & 6                 & 2.66              & 4                 & 49.16             & 119               & 88.65             &  1                & 35.12             & 3.16              &  9                & 37.31            \\\\\n",
       "\\end{tabular}\n"
      ],
      "text/markdown": [
       "\n",
       "| Season | Team | Conference | Record | WinPct | Rank | Rating | PowerRank | Power | OffRank | Offence | DefRank | Defense | HFA | SOSRank | SOS |\n",
       "|---|---|---|---|---|---|---|---|---|---|---|---|---|---|---|---|\n",
       "| 2014              | Florida           | Southeastern      | 36-3              | 0.92              | 1                 | 2.97              | 1                 | 51.26             |  76               | 91.14             |  2                | 34.74             | 3.72              |  6                | 38.56             |\n",
       "| 2014              | Connecticut       | American Athletic | 32-8              | 0.80              | 2                 | 2.78              | 6                 | 48.64             |  43               | 92.93             |  7                | 30.32             | 2.28              |  3                | 38.76             |\n",
       "| 2014              | Louisville        | American Athletic | 31-6              | 0.84              | 3                 | 2.68              | 2                 | 51.24             |  10               | 97.99             | 15                | 27.86             | 3.41              | 24                | 36.20             |\n",
       "| 2014              | Arizona           | Pac 12            | 33-5              | 0.87              | 4                 | 2.67              | 3                 | 49.78             |  42               | 92.99             |  3                | 31.41             | 4.53              |  8                | 37.80             |\n",
       "| 2014              | Wichita St        | Missouri Val      | 35-1              | 0.97              | 5                 | 2.67              | 5                 | 48.76             |  27               | 94.70             | 11                | 28.67             | 4.74              | 97                | 31.38             |\n",
       "| 2014              | Virginia          | Atlantic Coast    | 30-7              | 0.81              | 6                 | 2.66              | 4                 | 49.16             | 119               | 88.65             |  1                | 35.12             | 3.16              |  9                | 37.31             |\n",
       "\n"
      ],
      "text/plain": [
       "  Season Team        Conference        Record WinPct Rank Rating PowerRank\n",
       "1 2014   Florida     Southeastern      36-3   0.92   1    2.97   1        \n",
       "2 2014   Connecticut American Athletic 32-8   0.80   2    2.78   6        \n",
       "3 2014   Louisville  American Athletic 31-6   0.84   3    2.68   2        \n",
       "4 2014   Arizona     Pac 12            33-5   0.87   4    2.67   3        \n",
       "5 2014   Wichita St  Missouri Val      35-1   0.97   5    2.67   5        \n",
       "6 2014   Virginia    Atlantic Coast    30-7   0.81   6    2.66   4        \n",
       "  Power OffRank Offence DefRank Defense HFA  SOSRank SOS  \n",
       "1 51.26  76     91.14    2      34.74   3.72  6      38.56\n",
       "2 48.64  43     92.93    7      30.32   2.28  3      38.76\n",
       "3 51.24  10     97.99   15      27.86   3.41 24      36.20\n",
       "4 49.78  42     92.99    3      31.41   4.53  8      37.80\n",
       "5 48.76  27     94.70   11      28.67   4.74 97      31.38\n",
       "6 49.16 119     88.65    1      35.12   3.16  9      37.31"
      ]
     },
     "metadata": {},
     "output_type": "display_data"
    }
   ],
   "source": [
    "# Massey Rating 2014+\n",
    "# https://www.masseyratings.com/team.php?s=nfl&t=nfl2014&all=6\n",
    "data.massey <- read.csv('datafiles_csv/MasseyRatings.csv',stringsAsFactors=F)\n",
    "data.massey %>% head"
   ]
  },
  {
   "cell_type": "code",
   "execution_count": 5,
   "metadata": {},
   "outputs": [],
   "source": [
    "# We need Name, Rank and Rating as column name\n",
    "data.massey %>% rename(Name=Team) -> data.massey"
   ]
  },
  {
   "cell_type": "code",
   "execution_count": 6,
   "metadata": {},
   "outputs": [],
   "source": [
    "# load team spellings variations\n",
    "data.teamspellings <- readRDS('datafiles_rds/TeamSpellings.rds')\n",
    "data.teams <- readRDS('datafiles_rds/Teams.rds')"
   ]
  },
  {
   "cell_type": "code",
   "execution_count": 7,
   "metadata": {},
   "outputs": [],
   "source": [
    "# add TeamID based on team name\n",
    "data.massey %>% \n",
    "    mutate(LowName=str_to_lower(Name)) %>% \n",
    "    left_join(data.teamspellings,by=c('LowName'='TeamNameSpelling')) -> df.ratingsystem"
   ]
  },
  {
   "cell_type": "code",
   "execution_count": 8,
   "metadata": {},
   "outputs": [
    {
     "data": {
      "text/html": [
       "<table>\n",
       "<thead><tr><th scope=col>Season</th><th scope=col>Name</th><th scope=col>Conference</th><th scope=col>Record</th><th scope=col>WinPct</th><th scope=col>Rank</th><th scope=col>Rating</th><th scope=col>PowerRank</th><th scope=col>Power</th><th scope=col>OffRank</th><th scope=col>Offence</th><th scope=col>DefRank</th><th scope=col>Defense</th><th scope=col>HFA</th><th scope=col>SOSRank</th><th scope=col>SOS</th><th scope=col>LowName</th><th scope=col>TeamID</th></tr></thead>\n",
       "<tbody>\n",
       "\t<tr><td>2014        </td><td>Albany NY   </td><td>America East</td><td>19-15       </td><td>0.56        </td><td>161         </td><td>1.49        </td><td>161         </td><td>27.70       </td><td>260         </td><td>81.98       </td><td> 87         </td><td>20.34       </td><td>2.90        </td><td>226         </td><td>24.53       </td><td>albany ny   </td><td>1107        </td></tr>\n",
       "\t<tr><td>2015        </td><td>Albany NY   </td><td>America East</td><td>24-9        </td><td>0.73        </td><td> 99         </td><td>1.70        </td><td>129         </td><td>28.53       </td><td>228         </td><td>80.58       </td><td> 79         </td><td>20.66       </td><td>1.79        </td><td>233         </td><td>23.36       </td><td>albany ny   </td><td>1107        </td></tr>\n",
       "\t<tr><td>2016        </td><td>Albany NY   </td><td>America East</td><td>24-9        </td><td>0.73        </td><td>154         </td><td>1.50        </td><td>143         </td><td>28.14       </td><td>186         </td><td>86.85       </td><td>124         </td><td>17.45       </td><td>1.47        </td><td>274         </td><td>21.95       </td><td>albany ny   </td><td>1107        </td></tr>\n",
       "\t<tr><td>2017        </td><td>Albany NY   </td><td>America East</td><td>21-14       </td><td>0.60        </td><td>152         </td><td>1.52        </td><td>128         </td><td>31.23       </td><td>230         </td><td>86.84       </td><td> 76         </td><td>21.11       </td><td>1.78        </td><td>225         </td><td>26.24       </td><td>albany ny   </td><td>1107        </td></tr>\n",
       "\t<tr><td>2018        </td><td>Albany NY   </td><td>America East</td><td>22-10       </td><td>0.69        </td><td>168         </td><td>1.44        </td><td>171         </td><td>29.16       </td><td>209         </td><td>88.14       </td><td>138         </td><td>17.91       </td><td>1.69        </td><td>274         </td><td>25.04       </td><td>albany ny   </td><td>1107        </td></tr>\n",
       "</tbody>\n",
       "</table>\n"
      ],
      "text/latex": [
       "\\begin{tabular}{r|llllllllllllllllll}\n",
       " Season & Name & Conference & Record & WinPct & Rank & Rating & PowerRank & Power & OffRank & Offence & DefRank & Defense & HFA & SOSRank & SOS & LowName & TeamID\\\\\n",
       "\\hline\n",
       "\t 2014         & Albany NY    & America East & 19-15        & 0.56         & 161          & 1.49         & 161          & 27.70        & 260          & 81.98        &  87          & 20.34        & 2.90         & 226          & 24.53        & albany ny    & 1107        \\\\\n",
       "\t 2015         & Albany NY    & America East & 24-9         & 0.73         &  99          & 1.70         & 129          & 28.53        & 228          & 80.58        &  79          & 20.66        & 1.79         & 233          & 23.36        & albany ny    & 1107        \\\\\n",
       "\t 2016         & Albany NY    & America East & 24-9         & 0.73         & 154          & 1.50         & 143          & 28.14        & 186          & 86.85        & 124          & 17.45        & 1.47         & 274          & 21.95        & albany ny    & 1107        \\\\\n",
       "\t 2017         & Albany NY    & America East & 21-14        & 0.60         & 152          & 1.52         & 128          & 31.23        & 230          & 86.84        &  76          & 21.11        & 1.78         & 225          & 26.24        & albany ny    & 1107        \\\\\n",
       "\t 2018         & Albany NY    & America East & 22-10        & 0.69         & 168          & 1.44         & 171          & 29.16        & 209          & 88.14        & 138          & 17.91        & 1.69         & 274          & 25.04        & albany ny    & 1107        \\\\\n",
       "\\end{tabular}\n"
      ],
      "text/markdown": [
       "\n",
       "| Season | Name | Conference | Record | WinPct | Rank | Rating | PowerRank | Power | OffRank | Offence | DefRank | Defense | HFA | SOSRank | SOS | LowName | TeamID |\n",
       "|---|---|---|---|---|---|---|---|---|---|---|---|---|---|---|---|---|---|\n",
       "| 2014         | Albany NY    | America East | 19-15        | 0.56         | 161          | 1.49         | 161          | 27.70        | 260          | 81.98        |  87          | 20.34        | 2.90         | 226          | 24.53        | albany ny    | 1107         |\n",
       "| 2015         | Albany NY    | America East | 24-9         | 0.73         |  99          | 1.70         | 129          | 28.53        | 228          | 80.58        |  79          | 20.66        | 1.79         | 233          | 23.36        | albany ny    | 1107         |\n",
       "| 2016         | Albany NY    | America East | 24-9         | 0.73         | 154          | 1.50         | 143          | 28.14        | 186          | 86.85        | 124          | 17.45        | 1.47         | 274          | 21.95        | albany ny    | 1107         |\n",
       "| 2017         | Albany NY    | America East | 21-14        | 0.60         | 152          | 1.52         | 128          | 31.23        | 230          | 86.84        |  76          | 21.11        | 1.78         | 225          | 26.24        | albany ny    | 1107         |\n",
       "| 2018         | Albany NY    | America East | 22-10        | 0.69         | 168          | 1.44         | 171          | 29.16        | 209          | 88.14        | 138          | 17.91        | 1.69         | 274          | 25.04        | albany ny    | 1107         |\n",
       "\n"
      ],
      "text/plain": [
       "  Season Name      Conference   Record WinPct Rank Rating PowerRank Power\n",
       "1 2014   Albany NY America East 19-15  0.56   161  1.49   161       27.70\n",
       "2 2015   Albany NY America East 24-9   0.73    99  1.70   129       28.53\n",
       "3 2016   Albany NY America East 24-9   0.73   154  1.50   143       28.14\n",
       "4 2017   Albany NY America East 21-14  0.60   152  1.52   128       31.23\n",
       "5 2018   Albany NY America East 22-10  0.69   168  1.44   171       29.16\n",
       "  OffRank Offence DefRank Defense HFA  SOSRank SOS   LowName   TeamID\n",
       "1 260     81.98    87     20.34   2.90 226     24.53 albany ny 1107  \n",
       "2 228     80.58    79     20.66   1.79 233     23.36 albany ny 1107  \n",
       "3 186     86.85   124     17.45   1.47 274     21.95 albany ny 1107  \n",
       "4 230     86.84    76     21.11   1.78 225     26.24 albany ny 1107  \n",
       "5 209     88.14   138     17.91   1.69 274     25.04 albany ny 1107  "
      ]
     },
     "metadata": {},
     "output_type": "display_data"
    }
   ],
   "source": [
    "df.ratingsystem %>% filter(str_detect(Name,'Albany'))"
   ]
  },
  {
   "cell_type": "code",
   "execution_count": 9,
   "metadata": {},
   "outputs": [
    {
     "data": {
      "text/html": [
       "<table>\n",
       "<thead><tr><th scope=col>TeamID</th><th scope=col>TeamName</th><th scope=col>FirstD1Season</th><th scope=col>LastD1Season</th></tr></thead>\n",
       "<tbody>\n",
       "</tbody>\n",
       "</table>\n"
      ],
      "text/latex": [
       "\\begin{tabular}{r|llll}\n",
       " TeamID & TeamName & FirstD1Season & LastD1Season\\\\\n",
       "\\hline\n",
       "\\end{tabular}\n"
      ],
      "text/markdown": [
       "\n",
       "| TeamID | TeamName | FirstD1Season | LastD1Season |\n",
       "|---|---|---|---|\n",
       "\n"
      ],
      "text/plain": [
       "     TeamID TeamName FirstD1Season LastD1Season"
      ]
     },
     "metadata": {},
     "output_type": "display_data"
    }
   ],
   "source": [
    "# missing tourney team in stats (because name misspelling)\n",
    "df.ratingsystem %>% \n",
    "    right_join(df.tourneyteams,by='TeamID') %>%\n",
    "    filter(is.na(Rank)) %>%\n",
    "    select(TeamID) %>%\n",
    "    inner_join(data.teams,by='TeamID') %>%\n",
    "    distinct() %>%\n",
    "    arrange(TeamID)"
   ]
  },
  {
   "cell_type": "raw",
   "metadata": {},
   "source": [
    "# add missing TeamID from Sagarin stats\n",
    "df.ratingsystem %>%\n",
    "    mutate_which(str_detect(Name,'Cal St. Bakersfield'),TeamID=1167) %>%\n",
    "    mutate_which(str_detect(Name,'Louisiana Lafayette'),TeamID=1418) %>%               # ULL University of Louisiana at Lafayette \n",
    "    mutate_which(str_detect(Name,'Little Rock'),TeamID=1114) -> df.ratingsystem"
   ]
  },
  {
   "cell_type": "code",
   "execution_count": 10,
   "metadata": {},
   "outputs": [
    {
     "data": {
      "text/html": [
       "<table>\n",
       "<thead><tr><th scope=col>TeamID</th><th scope=col>TeamName</th><th scope=col>FirstD1Season</th><th scope=col>LastD1Season</th></tr></thead>\n",
       "<tbody>\n",
       "</tbody>\n",
       "</table>\n"
      ],
      "text/latex": [
       "\\begin{tabular}{r|llll}\n",
       " TeamID & TeamName & FirstD1Season & LastD1Season\\\\\n",
       "\\hline\n",
       "\\end{tabular}\n"
      ],
      "text/markdown": [
       "\n",
       "| TeamID | TeamName | FirstD1Season | LastD1Season |\n",
       "|---|---|---|---|\n",
       "\n"
      ],
      "text/plain": [
       "     TeamID TeamName FirstD1Season LastD1Season"
      ]
     },
     "metadata": {},
     "output_type": "display_data"
    }
   ],
   "source": [
    "# check if ssomething is still wrong\n",
    "df.ratingsystem %>% \n",
    "    right_join(df.tourneyteams,by='TeamID') %>%\n",
    "    filter(is.na(Rank)) %>%\n",
    "    select(TeamID) %>%\n",
    "    inner_join(data.teams,by='TeamID') %>%\n",
    "    distinct() %>%\n",
    "    arrange(TeamID)"
   ]
  },
  {
   "cell_type": "code",
   "execution_count": 11,
   "metadata": {},
   "outputs": [],
   "source": [
    "# restrict stats to tourney teams\n",
    "df.ratingsystem %>% \n",
    "    inner_join(df.tourneyteams,by=c('TeamID','Season')) %>%\n",
    "    select(Season,TeamID,Rating) -> df.ratingsystem"
   ]
  },
  {
   "cell_type": "code",
   "execution_count": 12,
   "metadata": {},
   "outputs": [
    {
     "data": {
      "text/html": [
       "<table>\n",
       "<thead><tr><th scope=col>Season</th><th scope=col>n</th></tr></thead>\n",
       "<tbody>\n",
       "\t<tr><td>2014</td><td>68  </td></tr>\n",
       "\t<tr><td>2015</td><td>68  </td></tr>\n",
       "\t<tr><td>2016</td><td>68  </td></tr>\n",
       "\t<tr><td>2017</td><td>68  </td></tr>\n",
       "\t<tr><td>2018</td><td>68  </td></tr>\n",
       "</tbody>\n",
       "</table>\n"
      ],
      "text/latex": [
       "\\begin{tabular}{r|ll}\n",
       " Season & n\\\\\n",
       "\\hline\n",
       "\t 2014 & 68  \\\\\n",
       "\t 2015 & 68  \\\\\n",
       "\t 2016 & 68  \\\\\n",
       "\t 2017 & 68  \\\\\n",
       "\t 2018 & 68  \\\\\n",
       "\\end{tabular}\n"
      ],
      "text/markdown": [
       "\n",
       "| Season | n |\n",
       "|---|---|\n",
       "| 2014 | 68   |\n",
       "| 2015 | 68   |\n",
       "| 2016 | 68   |\n",
       "| 2017 | 68   |\n",
       "| 2018 | 68   |\n",
       "\n"
      ],
      "text/plain": [
       "  Season n \n",
       "1 2014   68\n",
       "2 2015   68\n",
       "3 2016   68\n",
       "4 2017   68\n",
       "5 2018   68"
      ]
     },
     "metadata": {},
     "output_type": "display_data"
    }
   ],
   "source": [
    "# Check if we have 68 teams per Season\n",
    "df.ratingsystem %>% \n",
    "    group_by(Season) %>% \n",
    "    count"
   ]
  },
  {
   "cell_type": "code",
   "execution_count": 13,
   "metadata": {},
   "outputs": [
    {
     "data": {
      "text/html": [
       "<table>\n",
       "<thead><tr><th scope=col>TeamID</th><th scope=col>TeamName</th></tr></thead>\n",
       "<tbody>\n",
       "</tbody>\n",
       "</table>\n"
      ],
      "text/latex": [
       "\\begin{tabular}{r|ll}\n",
       " TeamID & TeamName\\\\\n",
       "\\hline\n",
       "\\end{tabular}\n"
      ],
      "text/markdown": [
       "\n",
       "| TeamID | TeamName |\n",
       "|---|---|\n",
       "\n"
      ],
      "text/plain": [
       "     TeamID TeamName"
      ]
     },
     "metadata": {},
     "output_type": "display_data"
    }
   ],
   "source": [
    "# check missing TeamID per Season \n",
    "df.tourneyteams %>% \n",
    "    anti_join(df.ratingsystem,by=c('Season','TeamID')) %>%\n",
    "    inner_join(data.teams,by='TeamID') %>%\n",
    "    select(TeamID,TeamName) %>%\n",
    "    distinct()"
   ]
  },
  {
   "cell_type": "code",
   "execution_count": 14,
   "metadata": {},
   "outputs": [],
   "source": [
    "# load true results\n",
    "data.truth <- readRDS('datafiles_rds/TourneyTrueResults.rds')"
   ]
  },
  {
   "cell_type": "code",
   "execution_count": 15,
   "metadata": {},
   "outputs": [
    {
     "data": {
      "text/html": [
       "<table>\n",
       "<thead><tr><th scope=col>Season</th><th scope=col>qtl</th><th scope=col>Slope</th></tr></thead>\n",
       "<tbody>\n",
       "\t<tr><td>2016     </td><td>0.57     </td><td> 3.658537</td></tr>\n",
       "\t<tr><td>2015     </td><td>0.88     </td><td> 5.165289</td></tr>\n",
       "\t<tr><td>2016     </td><td>0.96     </td><td>12.195122</td></tr>\n",
       "\t<tr><td>2016     </td><td>0.05     </td><td> 1.746217</td></tr>\n",
       "\t<tr><td>2017     </td><td>0.18     </td><td> 2.637131</td></tr>\n",
       "</tbody>\n",
       "</table>\n"
      ],
      "text/latex": [
       "\\begin{tabular}{r|lll}\n",
       " Season & qtl & Slope\\\\\n",
       "\\hline\n",
       "\t 2016      & 0.57      &  3.658537\\\\\n",
       "\t 2015      & 0.88      &  5.165289\\\\\n",
       "\t 2016      & 0.96      & 12.195122\\\\\n",
       "\t 2016      & 0.05      &  1.746217\\\\\n",
       "\t 2017      & 0.18      &  2.637131\\\\\n",
       "\\end{tabular}\n"
      ],
      "text/markdown": [
       "\n",
       "| Season | qtl | Slope |\n",
       "|---|---|---|\n",
       "| 2016      | 0.57      |  3.658537 |\n",
       "| 2015      | 0.88      |  5.165289 |\n",
       "| 2016      | 0.96      | 12.195122 |\n",
       "| 2016      | 0.05      |  1.746217 |\n",
       "| 2017      | 0.18      |  2.637131 |\n",
       "\n"
      ],
      "text/plain": [
       "  Season qtl  Slope    \n",
       "1 2016   0.57  3.658537\n",
       "2 2015   0.88  5.165289\n",
       "3 2016   0.96 12.195122\n",
       "4 2016   0.05  1.746217\n",
       "5 2017   0.18  2.637131"
      ]
     },
     "metadata": {},
     "output_type": "display_data"
    }
   ],
   "source": [
    "# slope hyper parameter grid : we will compute 99 models and chose the best one (min logloss)\n",
    "df.ratingsystem %>% \n",
    "    mutate(dummy=1) %>% \n",
    "    inner_join(data.frame(qtl=seq(0.01,0.99,0.01),dummy=1),by='dummy') %>% \n",
    "    select(-dummy) %>% \n",
    "    group_by(qtl,Season) %>% \n",
    "    mutate(thres=max(Rating)-quantile(Rating,max(qtl)),Slope=3/thres) %>%\n",
    "    ungroup %>% \n",
    "    select(Season,qtl,Slope) %>% \n",
    "    distinct() -> df.slopes\n",
    "df.slopes %>% sample_n(5)"
   ]
  },
  {
   "cell_type": "code",
   "execution_count": 16,
   "metadata": {},
   "outputs": [
    {
     "data": {
      "text/html": [
       "<table>\n",
       "<thead><tr><th scope=col>Season</th><th scope=col>TeamID.x</th><th scope=col>Rating.x</th><th scope=col>TeamID.y</th><th scope=col>Rating.y</th></tr></thead>\n",
       "<tbody>\n",
       "\t<tr><td>2014</td><td>1328</td><td>2.13</td><td>1438</td><td>2.66</td></tr>\n",
       "\t<tr><td>2016</td><td>1195</td><td>1.51</td><td>1437</td><td>3.10</td></tr>\n",
       "\t<tr><td>2016</td><td>1211</td><td>2.47</td><td>1403</td><td>2.04</td></tr>\n",
       "\t<tr><td>2015</td><td>1329</td><td>1.87</td><td>1385</td><td>1.99</td></tr>\n",
       "\t<tr><td>2016</td><td>1195</td><td>1.51</td><td>1338</td><td>2.27</td></tr>\n",
       "</tbody>\n",
       "</table>\n"
      ],
      "text/latex": [
       "\\begin{tabular}{r|lllll}\n",
       " Season & TeamID.x & Rating.x & TeamID.y & Rating.y\\\\\n",
       "\\hline\n",
       "\t 2014 & 1328 & 2.13 & 1438 & 2.66\\\\\n",
       "\t 2016 & 1195 & 1.51 & 1437 & 3.10\\\\\n",
       "\t 2016 & 1211 & 2.47 & 1403 & 2.04\\\\\n",
       "\t 2015 & 1329 & 1.87 & 1385 & 1.99\\\\\n",
       "\t 2016 & 1195 & 1.51 & 1338 & 2.27\\\\\n",
       "\\end{tabular}\n"
      ],
      "text/markdown": [
       "\n",
       "| Season | TeamID.x | Rating.x | TeamID.y | Rating.y |\n",
       "|---|---|---|---|---|\n",
       "| 2014 | 1328 | 2.13 | 1438 | 2.66 |\n",
       "| 2016 | 1195 | 1.51 | 1437 | 3.10 |\n",
       "| 2016 | 1211 | 2.47 | 1403 | 2.04 |\n",
       "| 2015 | 1329 | 1.87 | 1385 | 1.99 |\n",
       "| 2016 | 1195 | 1.51 | 1338 | 2.27 |\n",
       "\n"
      ],
      "text/plain": [
       "  Season TeamID.x Rating.x TeamID.y Rating.y\n",
       "1 2014   1328     2.13     1438     2.66    \n",
       "2 2016   1195     1.51     1437     3.10    \n",
       "3 2016   1211     2.47     1403     2.04    \n",
       "4 2015   1329     1.87     1385     1.99    \n",
       "5 2016   1195     1.51     1338     2.27    "
      ]
     },
     "metadata": {},
     "output_type": "display_data"
    }
   ],
   "source": [
    "# matchups dataframe : all the possible matches between the 68 teams per Season \n",
    "df.ratingsystem %>% \n",
    "    inner_join(df.ratingsystem,by='Season') %>% \n",
    "    filter(TeamID.x < TeamID.y) -> df.matchup\n",
    "df.matchup %>% sample_n(5)"
   ]
  },
  {
   "cell_type": "code",
   "execution_count": 17,
   "metadata": {},
   "outputs": [
    {
     "data": {
      "text/html": [
       "<table>\n",
       "<thead><tr><th scope=col>Season</th><th scope=col>TeamID.x</th><th scope=col>Rating.x</th><th scope=col>TeamID.y</th><th scope=col>Rating.y</th><th scope=col>qtl</th><th scope=col>Slope</th></tr></thead>\n",
       "<tbody>\n",
       "\t<tr><td>2015    </td><td>1125    </td><td>1.71    </td><td>1279    </td><td>1.99    </td><td>0.43    </td><td>2.772900</td></tr>\n",
       "\t<tr><td>2018    </td><td>1113    </td><td>1.80    </td><td>1305    </td><td>2.20    </td><td>0.85    </td><td>5.550416</td></tr>\n",
       "\t<tr><td>2016    </td><td>1201    </td><td>2.05    </td><td>1332    </td><td>2.66    </td><td>0.36    </td><td>2.880184</td></tr>\n",
       "\t<tr><td>2018    </td><td>1211    </td><td>2.41    </td><td>1344    </td><td>2.12    </td><td>0.42    </td><td>3.296703</td></tr>\n",
       "\t<tr><td>2018    </td><td>1166    </td><td>2.01    </td><td>1455    </td><td>2.12    </td><td>0.13    </td><td>2.479339</td></tr>\n",
       "</tbody>\n",
       "</table>\n"
      ],
      "text/latex": [
       "\\begin{tabular}{r|lllllll}\n",
       " Season & TeamID.x & Rating.x & TeamID.y & Rating.y & qtl & Slope\\\\\n",
       "\\hline\n",
       "\t 2015     & 1125     & 1.71     & 1279     & 1.99     & 0.43     & 2.772900\\\\\n",
       "\t 2018     & 1113     & 1.80     & 1305     & 2.20     & 0.85     & 5.550416\\\\\n",
       "\t 2016     & 1201     & 2.05     & 1332     & 2.66     & 0.36     & 2.880184\\\\\n",
       "\t 2018     & 1211     & 2.41     & 1344     & 2.12     & 0.42     & 3.296703\\\\\n",
       "\t 2018     & 1166     & 2.01     & 1455     & 2.12     & 0.13     & 2.479339\\\\\n",
       "\\end{tabular}\n"
      ],
      "text/markdown": [
       "\n",
       "| Season | TeamID.x | Rating.x | TeamID.y | Rating.y | qtl | Slope |\n",
       "|---|---|---|---|---|---|---|\n",
       "| 2015     | 1125     | 1.71     | 1279     | 1.99     | 0.43     | 2.772900 |\n",
       "| 2018     | 1113     | 1.80     | 1305     | 2.20     | 0.85     | 5.550416 |\n",
       "| 2016     | 1201     | 2.05     | 1332     | 2.66     | 0.36     | 2.880184 |\n",
       "| 2018     | 1211     | 2.41     | 1344     | 2.12     | 0.42     | 3.296703 |\n",
       "| 2018     | 1166     | 2.01     | 1455     | 2.12     | 0.13     | 2.479339 |\n",
       "\n"
      ],
      "text/plain": [
       "  Season TeamID.x Rating.x TeamID.y Rating.y qtl  Slope   \n",
       "1 2015   1125     1.71     1279     1.99     0.43 2.772900\n",
       "2 2018   1113     1.80     1305     2.20     0.85 5.550416\n",
       "3 2016   1201     2.05     1332     2.66     0.36 2.880184\n",
       "4 2018   1211     2.41     1344     2.12     0.42 3.296703\n",
       "5 2018   1166     2.01     1455     2.12     0.13 2.479339"
      ]
     },
     "metadata": {},
     "output_type": "display_data"
    }
   ],
   "source": [
    "# all matchs with all 51 hyper parameter setting (qtl=[0.25,0.75]) \n",
    "df.matchup %>% inner_join(df.slopes,by=c('Season')) -> df.matchup\n",
    "df.matchup %>% sample_n(5)"
   ]
  },
  {
   "cell_type": "code",
   "execution_count": 18,
   "metadata": {},
   "outputs": [
    {
     "data": {
      "text/html": [
       "<table>\n",
       "<thead><tr><th scope=col>qtl</th><th scope=col>ID</th><th scope=col>Pred</th><th scope=col>Prob</th></tr></thead>\n",
       "<tbody>\n",
       "\t<tr><td>0.20          </td><td>2014_1153_1160</td><td>1             </td><td>0.663         </td></tr>\n",
       "\t<tr><td>0.71          </td><td>2018_1301_1420</td><td>1             </td><td>0.677         </td></tr>\n",
       "\t<tr><td>0.95          </td><td>2017_1112_1411</td><td>1             </td><td>0.950         </td></tr>\n",
       "\t<tr><td>0.23          </td><td>2018_1166_1276</td><td>0             </td><td>0.124         </td></tr>\n",
       "\t<tr><td>0.50          </td><td>2016_1246_1393</td><td>1             </td><td>0.526         </td></tr>\n",
       "</tbody>\n",
       "</table>\n"
      ],
      "text/latex": [
       "\\begin{tabular}{r|llll}\n",
       " qtl & ID & Pred & Prob\\\\\n",
       "\\hline\n",
       "\t 0.20               & 2014\\_1153\\_1160 & 1                  & 0.663             \\\\\n",
       "\t 0.71               & 2018\\_1301\\_1420 & 1                  & 0.677             \\\\\n",
       "\t 0.95               & 2017\\_1112\\_1411 & 1                  & 0.950             \\\\\n",
       "\t 0.23               & 2018\\_1166\\_1276 & 0                  & 0.124             \\\\\n",
       "\t 0.50               & 2016\\_1246\\_1393 & 1                  & 0.526             \\\\\n",
       "\\end{tabular}\n"
      ],
      "text/markdown": [
       "\n",
       "| qtl | ID | Pred | Prob |\n",
       "|---|---|---|---|\n",
       "| 0.20           | 2014_1153_1160 | 1              | 0.663          |\n",
       "| 0.71           | 2018_1301_1420 | 1              | 0.677          |\n",
       "| 0.95           | 2017_1112_1411 | 1              | 0.950          |\n",
       "| 0.23           | 2018_1166_1276 | 0              | 0.124          |\n",
       "| 0.50           | 2016_1246_1393 | 1              | 0.526          |\n",
       "\n"
      ],
      "text/plain": [
       "  qtl  ID             Pred Prob \n",
       "1 0.20 2014_1153_1160 1    0.663\n",
       "2 0.71 2018_1301_1420 1    0.677\n",
       "3 0.95 2017_1112_1411 1    0.950\n",
       "4 0.23 2018_1166_1276 0    0.124\n",
       "5 0.50 2016_1246_1393 1    0.526"
      ]
     },
     "metadata": {},
     "output_type": "display_data"
    }
   ],
   "source": [
    "# machups predictions : compute the winning probability of TeamID.x and cap it into [0.05,0.95] to avoid too much logloss is case of FP or FN \n",
    "df.matchup %>% \n",
    "    mutate(ID=str_c(Season,'_',TeamID.x,'_',TeamID.y)) %>% \n",
    "    mutate(Prob=logistic(Rating.x-Rating.y,a=Slope)) %>% \n",
    "    mutate(Pred=ifelse(Prob>0.5,1,0)) %>% \n",
    "    mutate(Prob=round(Prob,3)) %>%\n",
    "    mutate_which(Prob>0.95,Prob=0.95) %>%\n",
    "    mutate_which(Prob<0.05,Prob=0.05) %>%\n",
    "    select(qtl,ID,Pred,Prob) -> df.submit\n",
    "df.submit %>% sample_n(5)"
   ]
  },
  {
   "cell_type": "code",
   "execution_count": 19,
   "metadata": {},
   "outputs": [],
   "source": [
    "# merge prediction and truth\n",
    "data.truth %>% inner_join(df.submit,by='ID') -> df.results"
   ]
  },
  {
   "cell_type": "code",
   "execution_count": 33,
   "metadata": {},
   "outputs": [
    {
     "data": {
      "text/html": [
       "<table>\n",
       "<thead><tr><th scope=col>qtl</th><th scope=col>TC</th><th scope=col>FC</th><th scope=col>N</th><th scope=col>Acc</th><th scope=col>LogLoss</th></tr></thead>\n",
       "<tbody>\n",
       "\t<tr><td>0.88     </td><td>279      </td><td>56       </td><td>335      </td><td>0.8328358</td><td>0.3706242</td></tr>\n",
       "\t<tr><td>0.89     </td><td>279      </td><td>56       </td><td>335      </td><td>0.8328358</td><td>0.3706546</td></tr>\n",
       "\t<tr><td>0.87     </td><td>279      </td><td>56       </td><td>335      </td><td>0.8328358</td><td>0.3711077</td></tr>\n",
       "\t<tr><td>0.90     </td><td>279      </td><td>56       </td><td>335      </td><td>0.8328358</td><td>0.3716894</td></tr>\n",
       "\t<tr><td>0.91     </td><td>279      </td><td>56       </td><td>335      </td><td>0.8328358</td><td>0.3719627</td></tr>\n",
       "\t<tr><td>0.86     </td><td>279      </td><td>56       </td><td>335      </td><td>0.8328358</td><td>0.3720656</td></tr>\n",
       "</tbody>\n",
       "</table>\n"
      ],
      "text/latex": [
       "\\begin{tabular}{r|llllll}\n",
       " qtl & TC & FC & N & Acc & LogLoss\\\\\n",
       "\\hline\n",
       "\t 0.88      & 279       & 56        & 335       & 0.8328358 & 0.3706242\\\\\n",
       "\t 0.89      & 279       & 56        & 335       & 0.8328358 & 0.3706546\\\\\n",
       "\t 0.87      & 279       & 56        & 335       & 0.8328358 & 0.3711077\\\\\n",
       "\t 0.90      & 279       & 56        & 335       & 0.8328358 & 0.3716894\\\\\n",
       "\t 0.91      & 279       & 56        & 335       & 0.8328358 & 0.3719627\\\\\n",
       "\t 0.86      & 279       & 56        & 335       & 0.8328358 & 0.3720656\\\\\n",
       "\\end{tabular}\n"
      ],
      "text/markdown": [
       "\n",
       "| qtl | TC | FC | N | Acc | LogLoss |\n",
       "|---|---|---|---|---|---|\n",
       "| 0.88      | 279       | 56        | 335       | 0.8328358 | 0.3706242 |\n",
       "| 0.89      | 279       | 56        | 335       | 0.8328358 | 0.3706546 |\n",
       "| 0.87      | 279       | 56        | 335       | 0.8328358 | 0.3711077 |\n",
       "| 0.90      | 279       | 56        | 335       | 0.8328358 | 0.3716894 |\n",
       "| 0.91      | 279       | 56        | 335       | 0.8328358 | 0.3719627 |\n",
       "| 0.86      | 279       | 56        | 335       | 0.8328358 | 0.3720656 |\n",
       "\n"
      ],
      "text/plain": [
       "  qtl  TC  FC N   Acc       LogLoss  \n",
       "1 0.88 279 56 335 0.8328358 0.3706242\n",
       "2 0.89 279 56 335 0.8328358 0.3706546\n",
       "3 0.87 279 56 335 0.8328358 0.3711077\n",
       "4 0.90 279 56 335 0.8328358 0.3716894\n",
       "5 0.91 279 56 335 0.8328358 0.3719627\n",
       "6 0.86 279 56 335 0.8328358 0.3720656"
      ]
     },
     "metadata": {},
     "output_type": "display_data"
    }
   ],
   "source": [
    "# compute accuracy & Logloss per qtl to find the best one\n",
    "df.results %>% \n",
    "    mutate(OK=ifelse(Pred==Target,1,0)) %>%\n",
    "    mutate(LogLoss=Target*log(Prob) + (1-Target)*log(1-Prob)) %>%\n",
    "    group_by(qtl) %>%\n",
    "    summarise(TC=sum(OK),N=n(),FC=N-TC,Acc=TC/N,LogLoss=-mean(LogLoss)) %>%\n",
    "    select(qtl,TC,FC,N,Acc,LogLoss) -> df.results.perf\n",
    "df.results.perf %>% arrange(LogLoss) %>% head()"
   ]
  },
  {
   "cell_type": "code",
   "execution_count": 31,
   "metadata": {},
   "outputs": [],
   "source": [
    "library(ggplot2,warn.conflicts=F)"
   ]
  },
  {
   "cell_type": "code",
   "execution_count": 32,
   "metadata": {},
   "outputs": [
    {
     "data": {
      "image/png": "[encoded data removed]",
      "text/plain": [
       "plot without title"
      ]
     },
     "metadata": {},
     "output_type": "display_data"
    }
   ],
   "source": [
    "options(repr.plot.width=4, repr.plot.height=4)\n",
    "qplot(data=df.results.perf,x=qtl,y=LogLoss)"
   ]
  },
  {
   "cell_type": "code",
   "execution_count": 24,
   "metadata": {},
   "outputs": [],
   "source": [
    "# store the best qtl\n",
    "df.results.perf %>% \n",
    "    arrange(LogLoss) %>% \n",
    "    head(1) %>% pull(qtl) -> bestqtl"
   ]
  },
  {
   "cell_type": "code",
   "execution_count": 25,
   "metadata": {},
   "outputs": [],
   "source": [
    "# save the best results for kaggle submission\n",
    "df.submit %>% \n",
    "    filter(qtl==bestqtl) %>% \n",
    "    select(ID,Pred=Prob) %>% \n",
    "    write.csv('predictions/Pred_Massey_bestqtl.csv',quote=F,row.names=F)"
   ]
  },
  {
   "cell_type": "code",
   "execution_count": 26,
   "metadata": {},
   "outputs": [],
   "source": [
    "# save best model for mix\n",
    "df.submit %>%\n",
    "    filter(qtl==bestqtl) %>% \n",
    "    saveRDS('predictions/Massey_bestqtl.rds')    "
   ]
  },
  {
   "cell_type": "code",
   "execution_count": null,
   "metadata": {},
   "outputs": [],
   "source": []
  }
 ],
 "metadata": {
  "kernelspec": {
   "display_name": "R 3.5.0",
   "language": "R",
   "name": "ir35"
  },
  "language_info": {
   "codemirror_mode": "r",
   "file_extension": ".r",
   "mimetype": "text/x-r-source",
   "name": "R",
   "pygments_lexer": "r",
   "version": "3.5.1"
  }
 },
 "nbformat": 4,
 "nbformat_minor": 2
}
