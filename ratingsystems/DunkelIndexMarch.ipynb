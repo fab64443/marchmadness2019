{
 "cells": [
  {
   "cell_type": "code",
   "execution_count": 1,
   "metadata": {},
   "outputs": [],
   "source": [
    "# Load required packages\n",
    "library(dplyr,warn.conflicts=F)\n",
    "library(stringr,warn.conflicts=F)\n",
    "library(psych,warn.conflicts=F)\n",
    "library(lplyr,warn.conflicts=F)"
   ]
  },
  {
   "cell_type": "code",
   "execution_count": 2,
   "metadata": {},
   "outputs": [],
   "source": [
    "# load the stats\n",
    "data.tourney <- readRDS('datafiles_rds/NCAATourneyDetailedResults.rds')\n",
    "# keep 2014+\n",
    "data.tourney %>% filter(Season>2013) -> data.tourney"
   ]
  },
  {
   "cell_type": "code",
   "execution_count": 3,
   "metadata": {},
   "outputs": [],
   "source": [
    "# store 68 tourney teams \n",
    "data.tourney %>% \n",
    "    select(Season,TeamID=WTeamID) %>% \n",
    "    bind_rows(data.tourney %>% \n",
    "              select(Season,TeamID=LTeamID)) %>% \n",
    "    distinct(Season,TeamID) -> df.tourneyteams"
   ]
  },
  {
   "cell_type": "code",
   "execution_count": 4,
   "metadata": {
    "scrolled": true
   },
   "outputs": [
    {
     "data": {
      "text/html": [
       "<table>\n",
       "<thead><tr><th scope=col>Season</th><th scope=col>Rank</th><th scope=col>Team</th><th scope=col>Rating</th><th scope=col>Record</th><th scope=col>Conference</th></tr></thead>\n",
       "<tbody>\n",
       "\t<tr><td>2018          </td><td>1             </td><td>Virginia      </td><td>84.542        </td><td>31-2          </td><td>ACC           </td></tr>\n",
       "\t<tr><td>2018          </td><td>2             </td><td>Villanova     </td><td>84.479        </td><td>30-avr        </td><td>Big East      </td></tr>\n",
       "\t<tr><td>2018          </td><td>3             </td><td>Michigan State</td><td>82.531        </td><td>29-avr        </td><td>Big Ten       </td></tr>\n",
       "\t<tr><td>2018          </td><td>4             </td><td>Cincinnati    </td><td>82.235        </td><td>30-avr        </td><td>American      </td></tr>\n",
       "\t<tr><td>2018          </td><td>5             </td><td>Duke          </td><td>82.178        </td><td>26-juil       </td><td>ACC           </td></tr>\n",
       "\t<tr><td>2018          </td><td>6             </td><td>Michigan      </td><td>81.506        </td><td>28-juil       </td><td>Big Ten       </td></tr>\n",
       "</tbody>\n",
       "</table>\n"
      ],
      "text/latex": [
       "\\begin{tabular}{r|llllll}\n",
       " Season & Rank & Team & Rating & Record & Conference\\\\\n",
       "\\hline\n",
       "\t 2018           & 1              & Virginia       & 84.542         & 31-2           & ACC           \\\\\n",
       "\t 2018           & 2              & Villanova      & 84.479         & 30-avr         & Big East      \\\\\n",
       "\t 2018           & 3              & Michigan State & 82.531         & 29-avr         & Big Ten       \\\\\n",
       "\t 2018           & 4              & Cincinnati     & 82.235         & 30-avr         & American      \\\\\n",
       "\t 2018           & 5              & Duke           & 82.178         & 26-juil        & ACC           \\\\\n",
       "\t 2018           & 6              & Michigan       & 81.506         & 28-juil        & Big Ten       \\\\\n",
       "\\end{tabular}\n"
      ],
      "text/markdown": [
       "\n",
       "| Season | Rank | Team | Rating | Record | Conference |\n",
       "|---|---|---|---|---|---|\n",
       "| 2018           | 1              | Virginia       | 84.542         | 31-2           | ACC            |\n",
       "| 2018           | 2              | Villanova      | 84.479         | 30-avr         | Big East       |\n",
       "| 2018           | 3              | Michigan State | 82.531         | 29-avr         | Big Ten        |\n",
       "| 2018           | 4              | Cincinnati     | 82.235         | 30-avr         | American       |\n",
       "| 2018           | 5              | Duke           | 82.178         | 26-juil        | ACC            |\n",
       "| 2018           | 6              | Michigan       | 81.506         | 28-juil        | Big Ten        |\n",
       "\n"
      ],
      "text/plain": [
       "  Season Rank Team           Rating Record  Conference\n",
       "1 2018   1    Virginia       84.542 31-2    ACC       \n",
       "2 2018   2    Villanova      84.479 30-avr  Big East  \n",
       "3 2018   3    Michigan State 82.531 29-avr  Big Ten   \n",
       "4 2018   4    Cincinnati     82.235 30-avr  American  \n",
       "5 2018   5    Duke           82.178 26-juil ACC       \n",
       "6 2018   6    Michigan       81.506 28-juil Big Ten   "
      ]
     },
     "metadata": {},
     "output_type": "display_data"
    }
   ],
   "source": [
    "# DunkleIndex Rating 2014+\n",
    "# http://dunkelindex.com/rankings/basketball/ncaa/\n",
    "data.dunkel <- read.csv('datafiles_csv/DunkelIndexMarch.csv',stringsAsFactors=F)\n",
    "data.dunkel %>% head"
   ]
  },
  {
   "cell_type": "code",
   "execution_count": 5,
   "metadata": {},
   "outputs": [],
   "source": [
    "data.dunkel %>% rename(Name=Team) -> data.dunkel"
   ]
  },
  {
   "cell_type": "code",
   "execution_count": 6,
   "metadata": {},
   "outputs": [],
   "source": [
    "# load team spellings variations\n",
    "data.teamspellings <- readRDS('datafiles_rds/TeamSpellings.rds')\n",
    "data.teams <- readRDS('datafiles_rds/Teams.rds')"
   ]
  },
  {
   "cell_type": "code",
   "execution_count": 7,
   "metadata": {},
   "outputs": [],
   "source": [
    "# add TeamID based on team name\n",
    "data.dunkel %>% \n",
    "    mutate(LowName=str_to_lower(Name)) %>% \n",
    "    left_join(data.teamspellings,by=c('LowName'='TeamNameSpelling')) -> df.dunkel"
   ]
  },
  {
   "cell_type": "code",
   "execution_count": 8,
   "metadata": {},
   "outputs": [
    {
     "data": {
      "text/html": [
       "<table>\n",
       "<thead><tr><th scope=col>Season</th><th scope=col>Rank</th><th scope=col>Name</th><th scope=col>Rating</th><th scope=col>Record</th><th scope=col>Conference</th></tr></thead>\n",
       "<tbody>\n",
       "\t<tr><td>2018            </td><td>128             </td><td>East. Washington</td><td>58.732          </td><td>20-14           </td><td>Big Sky         </td></tr>\n",
       "\t<tr><td>2017            </td><td>153             </td><td>East Washington </td><td>55.793          </td><td>22-nov          </td><td>Big Sky         </td></tr>\n",
       "\t<tr><td>2016            </td><td>214             </td><td>East. Washington</td><td>48.952          </td><td>17-15           </td><td>Big Sky         </td></tr>\n",
       "\t<tr><td>2015            </td><td>123             </td><td>East. Washington</td><td>58.154          </td><td>26-sept         </td><td>Big Sky         </td></tr>\n",
       "\t<tr><td>2014            </td><td>209             </td><td>East. Washington</td><td>50.047          </td><td>15-16           </td><td>Big Sky         </td></tr>\n",
       "</tbody>\n",
       "</table>\n"
      ],
      "text/latex": [
       "\\begin{tabular}{r|llllll}\n",
       " Season & Rank & Name & Rating & Record & Conference\\\\\n",
       "\\hline\n",
       "\t 2018             & 128              & East. Washington & 58.732           & 20-14            & Big Sky         \\\\\n",
       "\t 2017             & 153              & East Washington  & 55.793           & 22-nov           & Big Sky         \\\\\n",
       "\t 2016             & 214              & East. Washington & 48.952           & 17-15            & Big Sky         \\\\\n",
       "\t 2015             & 123              & East. Washington & 58.154           & 26-sept          & Big Sky         \\\\\n",
       "\t 2014             & 209              & East. Washington & 50.047           & 15-16            & Big Sky         \\\\\n",
       "\\end{tabular}\n"
      ],
      "text/markdown": [
       "\n",
       "| Season | Rank | Name | Rating | Record | Conference |\n",
       "|---|---|---|---|---|---|\n",
       "| 2018             | 128              | East. Washington | 58.732           | 20-14            | Big Sky          |\n",
       "| 2017             | 153              | East Washington  | 55.793           | 22-nov           | Big Sky          |\n",
       "| 2016             | 214              | East. Washington | 48.952           | 17-15            | Big Sky          |\n",
       "| 2015             | 123              | East. Washington | 58.154           | 26-sept          | Big Sky          |\n",
       "| 2014             | 209              | East. Washington | 50.047           | 15-16            | Big Sky          |\n",
       "\n"
      ],
      "text/plain": [
       "  Season Rank Name             Rating Record  Conference\n",
       "1 2018   128  East. Washington 58.732 20-14   Big Sky   \n",
       "2 2017   153  East Washington  55.793 22-nov  Big Sky   \n",
       "3 2016   214  East. Washington 48.952 17-15   Big Sky   \n",
       "4 2015   123  East. Washington 58.154 26-sept Big Sky   \n",
       "5 2014   209  East. Washington 50.047 15-16   Big Sky   "
      ]
     },
     "metadata": {},
     "output_type": "display_data"
    }
   ],
   "source": [
    "data.dunkel %>% filter(str_detect(Name,'East\\\\.{0,1} Washington'))"
   ]
  },
  {
   "cell_type": "code",
   "execution_count": 9,
   "metadata": {},
   "outputs": [
    {
     "data": {
      "text/html": [
       "<table>\n",
       "<thead><tr><th scope=col>TeamID</th><th scope=col>TeamName</th><th scope=col>FirstD1Season</th><th scope=col>LastD1Season</th></tr></thead>\n",
       "<tbody>\n",
       "\t<tr><td>1114           </td><td>Ark Little Rock</td><td>1985           </td><td>2019           </td></tr>\n",
       "\t<tr><td>1142           </td><td>Cal Poly SLO   </td><td>1995           </td><td>2019           </td></tr>\n",
       "\t<tr><td>1167           </td><td>CS Bakersfield </td><td>2008           </td><td>2019           </td></tr>\n",
       "\t<tr><td>1168           </td><td>CS Fullerton   </td><td>1985           </td><td>2019           </td></tr>\n",
       "\t<tr><td>1186           </td><td>E Washington   </td><td>1985           </td><td>2019           </td></tr>\n",
       "\t<tr><td>1192           </td><td>F Dickinson    </td><td>1985           </td><td>2019           </td></tr>\n",
       "\t<tr><td>1291           </td><td>Mt St Mary's   </td><td>1989           </td><td>2019           </td></tr>\n",
       "\t<tr><td>1385           </td><td>St John's      </td><td>1985           </td><td>2019           </td></tr>\n",
       "\t<tr><td>1386           </td><td>St Joseph's PA </td><td>1985           </td><td>2019           </td></tr>\n",
       "\t<tr><td>1387           </td><td>St Louis       </td><td>1985           </td><td>2019           </td></tr>\n",
       "\t<tr><td>1388           </td><td>St Mary's CA   </td><td>1985           </td><td>2019           </td></tr>\n",
       "\t<tr><td>1418           </td><td>ULL            </td><td>1985           </td><td>2019           </td></tr>\n",
       "\t<tr><td>1420           </td><td>UMBC           </td><td>1987           </td><td>2019           </td></tr>\n",
       "\t<tr><td>1422           </td><td>UNC Greensboro </td><td>1992           </td><td>2019           </td></tr>\n",
       "\t<tr><td>1423           </td><td>UNC Wilmington </td><td>1985           </td><td>2019           </td></tr>\n",
       "\t<tr><td>1453           </td><td>WI Green Bay   </td><td>1985           </td><td>2019           </td></tr>\n",
       "\t<tr><td>1454           </td><td>WI Milwaukee   </td><td>1991           </td><td>2019           </td></tr>\n",
       "</tbody>\n",
       "</table>\n"
      ],
      "text/latex": [
       "\\begin{tabular}{r|llll}\n",
       " TeamID & TeamName & FirstD1Season & LastD1Season\\\\\n",
       "\\hline\n",
       "\t 1114            & Ark Little Rock & 1985            & 2019           \\\\\n",
       "\t 1142            & Cal Poly SLO    & 1995            & 2019           \\\\\n",
       "\t 1167            & CS Bakersfield  & 2008            & 2019           \\\\\n",
       "\t 1168            & CS Fullerton    & 1985            & 2019           \\\\\n",
       "\t 1186            & E Washington    & 1985            & 2019           \\\\\n",
       "\t 1192            & F Dickinson     & 1985            & 2019           \\\\\n",
       "\t 1291            & Mt St Mary's    & 1989            & 2019           \\\\\n",
       "\t 1385            & St John's       & 1985            & 2019           \\\\\n",
       "\t 1386            & St Joseph's PA  & 1985            & 2019           \\\\\n",
       "\t 1387            & St Louis        & 1985            & 2019           \\\\\n",
       "\t 1388            & St Mary's CA    & 1985            & 2019           \\\\\n",
       "\t 1418            & ULL             & 1985            & 2019           \\\\\n",
       "\t 1420            & UMBC            & 1987            & 2019           \\\\\n",
       "\t 1422            & UNC Greensboro  & 1992            & 2019           \\\\\n",
       "\t 1423            & UNC Wilmington  & 1985            & 2019           \\\\\n",
       "\t 1453            & WI Green Bay    & 1985            & 2019           \\\\\n",
       "\t 1454            & WI Milwaukee    & 1991            & 2019           \\\\\n",
       "\\end{tabular}\n"
      ],
      "text/markdown": [
       "\n",
       "| TeamID | TeamName | FirstD1Season | LastD1Season |\n",
       "|---|---|---|---|\n",
       "| 1114            | Ark Little Rock | 1985            | 2019            |\n",
       "| 1142            | Cal Poly SLO    | 1995            | 2019            |\n",
       "| 1167            | CS Bakersfield  | 2008            | 2019            |\n",
       "| 1168            | CS Fullerton    | 1985            | 2019            |\n",
       "| 1186            | E Washington    | 1985            | 2019            |\n",
       "| 1192            | F Dickinson     | 1985            | 2019            |\n",
       "| 1291            | Mt St Mary's    | 1989            | 2019            |\n",
       "| 1385            | St John's       | 1985            | 2019            |\n",
       "| 1386            | St Joseph's PA  | 1985            | 2019            |\n",
       "| 1387            | St Louis        | 1985            | 2019            |\n",
       "| 1388            | St Mary's CA    | 1985            | 2019            |\n",
       "| 1418            | ULL             | 1985            | 2019            |\n",
       "| 1420            | UMBC            | 1987            | 2019            |\n",
       "| 1422            | UNC Greensboro  | 1992            | 2019            |\n",
       "| 1423            | UNC Wilmington  | 1985            | 2019            |\n",
       "| 1453            | WI Green Bay    | 1985            | 2019            |\n",
       "| 1454            | WI Milwaukee    | 1991            | 2019            |\n",
       "\n"
      ],
      "text/plain": [
       "   TeamID TeamName        FirstD1Season LastD1Season\n",
       "1  1114   Ark Little Rock 1985          2019        \n",
       "2  1142   Cal Poly SLO    1995          2019        \n",
       "3  1167   CS Bakersfield  2008          2019        \n",
       "4  1168   CS Fullerton    1985          2019        \n",
       "5  1186   E Washington    1985          2019        \n",
       "6  1192   F Dickinson     1985          2019        \n",
       "7  1291   Mt St Mary's    1989          2019        \n",
       "8  1385   St John's       1985          2019        \n",
       "9  1386   St Joseph's PA  1985          2019        \n",
       "10 1387   St Louis        1985          2019        \n",
       "11 1388   St Mary's CA    1985          2019        \n",
       "12 1418   ULL             1985          2019        \n",
       "13 1420   UMBC            1987          2019        \n",
       "14 1422   UNC Greensboro  1992          2019        \n",
       "15 1423   UNC Wilmington  1985          2019        \n",
       "16 1453   WI Green Bay    1985          2019        \n",
       "17 1454   WI Milwaukee    1991          2019        "
      ]
     },
     "metadata": {},
     "output_type": "display_data"
    }
   ],
   "source": [
    "# missing tourney team in Dunkle stats (because name misspelling)\n",
    "df.dunkel %>% \n",
    "    right_join(df.tourneyteams,by='TeamID') %>%\n",
    "    filter(is.na(Rank)) %>%\n",
    "    select(TeamID) %>%\n",
    "    inner_join(data.teams,by='TeamID') %>%\n",
    "    distinct() %>%\n",
    "    arrange(TeamID)"
   ]
  },
  {
   "cell_type": "code",
   "execution_count": 10,
   "metadata": {},
   "outputs": [],
   "source": [
    "# add missing TeamID from Sagarin stats\n",
    "df.dunkel %>%\n",
    "    mutate_which(str_detect(Name,'AR-Little Rock'),TeamID=1114) %>%\n",
    "    mutate_which(str_detect(Name,'CalPoly'),TeamID=1142) %>%\n",
    "    mutate_which(str_detect(Name,'CS-Bakersfield'),TeamID=1167) %>%\n",
    "    mutate_which(str_detect(Name,'CS-Fullerton'),TeamID=1168) %>%\n",
    "    mutate_which(str_detect(Name,'East\\\\.{0,1} Washington'),TeamID=1186) %>%\n",
    "    mutate_which(str_detect(Name,'Fair Dickinson'),TeamID=1192) %>%\n",
    "    mutate_which(str_detect(Name,'Mt. St. Mary'),TeamID=1291) %>%\n",
    "    mutate_which(str_detect(Name,'St. John'),TeamID=1385) %>%\n",
    "    mutate_which(str_detect(Name,'St. Louis'),TeamID=1387) %>%\n",
    "    mutate_which(str_detect(Name,'St. Joseph'),TeamID=1386) %>%\n",
    "    mutate_which(str_detect(Name,'^St. Mary'),TeamID=1388) %>%\n",
    "    mutate_which(str_detect(Name,'LA-Lafayette'),TeamID=1418) %>%               # ULL University of Louisiana at Lafayette \n",
    "    mutate_which(str_detect(Name,'MD-Baltimore Co.'),TeamID=1420) %>%  # UMBC University Maryland Baltimore County\n",
    "    mutate_which(str_detect(Name,'UNC-Greensboro'),TeamID=1422) %>%\n",
    "    mutate_which(str_detect(Name,'UNC-Wilmington'),TeamID=1423) %>%\n",
    "    mutate_which(str_detect(Name,'WI-Green Bay'),TeamID=1453) %>%\n",
    "    mutate_which(str_detect(Name,'WI-Milwaukee'),TeamID=1454) -> df.dunkel"
   ]
  },
  {
   "cell_type": "code",
   "execution_count": 11,
   "metadata": {},
   "outputs": [
    {
     "data": {
      "text/html": [
       "<table>\n",
       "<thead><tr><th scope=col>TeamID</th><th scope=col>TeamName</th><th scope=col>FirstD1Season</th><th scope=col>LastD1Season</th></tr></thead>\n",
       "<tbody>\n",
       "</tbody>\n",
       "</table>\n"
      ],
      "text/latex": [
       "\\begin{tabular}{r|llll}\n",
       " TeamID & TeamName & FirstD1Season & LastD1Season\\\\\n",
       "\\hline\n",
       "\\end{tabular}\n"
      ],
      "text/markdown": [
       "\n",
       "| TeamID | TeamName | FirstD1Season | LastD1Season |\n",
       "|---|---|---|---|\n",
       "\n"
      ],
      "text/plain": [
       "     TeamID TeamName FirstD1Season LastD1Season"
      ]
     },
     "metadata": {},
     "output_type": "display_data"
    }
   ],
   "source": [
    "# check if ssomething is still wrong\n",
    "df.dunkel %>% \n",
    "    right_join(df.tourneyteams,by='TeamID') %>%\n",
    "    filter(is.na(Rank)) %>%\n",
    "    select(TeamID) %>%\n",
    "    inner_join(data.teams,by='TeamID') %>%\n",
    "    distinct() %>%\n",
    "    arrange(TeamID)"
   ]
  },
  {
   "cell_type": "code",
   "execution_count": 12,
   "metadata": {},
   "outputs": [],
   "source": [
    "# restrict stats to tourney teams\n",
    "df.dunkel %>% \n",
    "    inner_join(df.tourneyteams,by=c('TeamID','Season')) %>%\n",
    "    select(Season,TeamID,Rating) -> df.dunkel"
   ]
  },
  {
   "cell_type": "code",
   "execution_count": 13,
   "metadata": {},
   "outputs": [
    {
     "data": {
      "text/html": [
       "<table>\n",
       "<thead><tr><th scope=col>Season</th><th scope=col>n</th></tr></thead>\n",
       "<tbody>\n",
       "\t<tr><td>2014</td><td>68  </td></tr>\n",
       "\t<tr><td>2015</td><td>68  </td></tr>\n",
       "\t<tr><td>2016</td><td>68  </td></tr>\n",
       "\t<tr><td>2017</td><td>68  </td></tr>\n",
       "\t<tr><td>2018</td><td>68  </td></tr>\n",
       "</tbody>\n",
       "</table>\n"
      ],
      "text/latex": [
       "\\begin{tabular}{r|ll}\n",
       " Season & n\\\\\n",
       "\\hline\n",
       "\t 2014 & 68  \\\\\n",
       "\t 2015 & 68  \\\\\n",
       "\t 2016 & 68  \\\\\n",
       "\t 2017 & 68  \\\\\n",
       "\t 2018 & 68  \\\\\n",
       "\\end{tabular}\n"
      ],
      "text/markdown": [
       "\n",
       "| Season | n |\n",
       "|---|---|\n",
       "| 2014 | 68   |\n",
       "| 2015 | 68   |\n",
       "| 2016 | 68   |\n",
       "| 2017 | 68   |\n",
       "| 2018 | 68   |\n",
       "\n"
      ],
      "text/plain": [
       "  Season n \n",
       "1 2014   68\n",
       "2 2015   68\n",
       "3 2016   68\n",
       "4 2017   68\n",
       "5 2018   68"
      ]
     },
     "metadata": {},
     "output_type": "display_data"
    }
   ],
   "source": [
    "# Check if we have 68 teams per Season\n",
    "df.dunkel %>% \n",
    "    group_by(Season) %>% \n",
    "    count"
   ]
  },
  {
   "cell_type": "code",
   "execution_count": 14,
   "metadata": {},
   "outputs": [
    {
     "data": {
      "text/html": [
       "<table>\n",
       "<thead><tr><th scope=col>Season</th><th scope=col>TeamID</th></tr></thead>\n",
       "<tbody>\n",
       "</tbody>\n",
       "</table>\n"
      ],
      "text/latex": [
       "\\begin{tabular}{r|ll}\n",
       " Season & TeamID\\\\\n",
       "\\hline\n",
       "\\end{tabular}\n"
      ],
      "text/markdown": [
       "\n",
       "| Season | TeamID |\n",
       "|---|---|\n",
       "\n"
      ],
      "text/plain": [
       "     Season TeamID"
      ]
     },
     "metadata": {},
     "output_type": "display_data"
    }
   ],
   "source": [
    "# check missing TeamID per Season \n",
    "df.tourneyteams %>% \n",
    "    anti_join(df.dunkel,by=c('Season','TeamID'))"
   ]
  },
  {
   "cell_type": "code",
   "execution_count": 15,
   "metadata": {
    "scrolled": true
   },
   "outputs": [
    {
     "data": {
      "text/html": [
       "<table>\n",
       "<thead><tr><th scope=col>ID</th><th scope=col>Target</th></tr></thead>\n",
       "<tbody>\n",
       "\t<tr><td>2017_1190_1196</td><td>0             </td></tr>\n",
       "\t<tr><td>2015_1412_1417</td><td>0             </td></tr>\n",
       "\t<tr><td>2017_1112_1315</td><td>1             </td></tr>\n",
       "\t<tr><td>2016_1112_1455</td><td>0             </td></tr>\n",
       "\t<tr><td>2015_1277_1438</td><td>1             </td></tr>\n",
       "</tbody>\n",
       "</table>\n"
      ],
      "text/latex": [
       "\\begin{tabular}{r|ll}\n",
       " ID & Target\\\\\n",
       "\\hline\n",
       "\t 2017\\_1190\\_1196 & 0                 \\\\\n",
       "\t 2015\\_1412\\_1417 & 0                 \\\\\n",
       "\t 2017\\_1112\\_1315 & 1                 \\\\\n",
       "\t 2016\\_1112\\_1455 & 0                 \\\\\n",
       "\t 2015\\_1277\\_1438 & 1                 \\\\\n",
       "\\end{tabular}\n"
      ],
      "text/markdown": [
       "\n",
       "| ID | Target |\n",
       "|---|---|\n",
       "| 2017_1190_1196 | 0              |\n",
       "| 2015_1412_1417 | 0              |\n",
       "| 2017_1112_1315 | 1              |\n",
       "| 2016_1112_1455 | 0              |\n",
       "| 2015_1277_1438 | 1              |\n",
       "\n"
      ],
      "text/plain": [
       "  ID             Target\n",
       "1 2017_1190_1196 0     \n",
       "2 2015_1412_1417 0     \n",
       "3 2017_1112_1315 1     \n",
       "4 2016_1112_1455 0     \n",
       "5 2015_1277_1438 1     "
      ]
     },
     "metadata": {},
     "output_type": "display_data"
    }
   ],
   "source": [
    "# compute the Truth \n",
    "data.tourney %>% \n",
    "    select(Season,WTeamID,LTeamID) %>% \n",
    "    mutate(TeamID.1=ifelse(WTeamID<LTeamID,WTeamID,LTeamID),\n",
    "           TeamID.2=ifelse(WTeamID>LTeamID,WTeamID,LTeamID)) %>%\n",
    "    mutate(ID=str_c(Season,'_',TeamID.1,'_',TeamID.2)) %>% \n",
    "    mutate(Target=ifelse(WTeamID==TeamID.1,1,0)) %>% \n",
    "    select(ID,Target) -> df.truth\n",
    "df.truth %>% sample_n(5)"
   ]
  },
  {
   "cell_type": "code",
   "execution_count": 16,
   "metadata": {},
   "outputs": [
    {
     "data": {
      "text/html": [
       "<table>\n",
       "<thead><tr><th scope=col>Season</th><th scope=col>qtl</th><th scope=col>Slope</th></tr></thead>\n",
       "<tbody>\n",
       "\t<tr><td>2014     </td><td>0.15     </td><td>0.1114719</td></tr>\n",
       "\t<tr><td>2017     </td><td>0.95     </td><td>0.5035416</td></tr>\n",
       "\t<tr><td>2018     </td><td>0.47     </td><td>0.2002601</td></tr>\n",
       "\t<tr><td>2014     </td><td>0.94     </td><td>0.5299492</td></tr>\n",
       "\t<tr><td>2017     </td><td>0.72     </td><td>0.2556716</td></tr>\n",
       "</tbody>\n",
       "</table>\n"
      ],
      "text/latex": [
       "\\begin{tabular}{r|lll}\n",
       " Season & qtl & Slope\\\\\n",
       "\\hline\n",
       "\t 2014      & 0.15      & 0.1114719\\\\\n",
       "\t 2017      & 0.95      & 0.5035416\\\\\n",
       "\t 2018      & 0.47      & 0.2002601\\\\\n",
       "\t 2014      & 0.94      & 0.5299492\\\\\n",
       "\t 2017      & 0.72      & 0.2556716\\\\\n",
       "\\end{tabular}\n"
      ],
      "text/markdown": [
       "\n",
       "| Season | qtl | Slope |\n",
       "|---|---|---|\n",
       "| 2014      | 0.15      | 0.1114719 |\n",
       "| 2017      | 0.95      | 0.5035416 |\n",
       "| 2018      | 0.47      | 0.2002601 |\n",
       "| 2014      | 0.94      | 0.5299492 |\n",
       "| 2017      | 0.72      | 0.2556716 |\n",
       "\n"
      ],
      "text/plain": [
       "  Season qtl  Slope    \n",
       "1 2014   0.15 0.1114719\n",
       "2 2017   0.95 0.5035416\n",
       "3 2018   0.47 0.2002601\n",
       "4 2014   0.94 0.5299492\n",
       "5 2017   0.72 0.2556716"
      ]
     },
     "metadata": {},
     "output_type": "display_data"
    }
   ],
   "source": [
    "# slope hyper parameter grid : we will compute 51 models and chose the best one (min logloss)\n",
    "df.dunkel %>% \n",
    "    mutate(dummy=1) %>% \n",
    "    inner_join(data.frame(qtl=seq(0.01,0.99,0.01),dummy=1),by='dummy') %>% \n",
    "    select(-dummy) %>% \n",
    "    group_by(qtl,Season) %>% \n",
    "    mutate(thres=max(Rating)-quantile(Rating,max(qtl)),Slope=3/thres) %>%\n",
    "    ungroup %>% \n",
    "    select(Season,qtl,Slope) %>% \n",
    "    distinct() -> df.dunkel.slopes\n",
    "df.dunkel.slopes %>% sample_n(5)"
   ]
  },
  {
   "cell_type": "code",
   "execution_count": 18,
   "metadata": {},
   "outputs": [
    {
     "data": {
      "text/html": [
       "<table>\n",
       "<thead><tr><th scope=col>Season</th><th scope=col>TeamID.x</th><th scope=col>Rating.x</th><th scope=col>TeamID.y</th><th scope=col>Rating.y</th></tr></thead>\n",
       "<tbody>\n",
       "\t<tr><td>2015  </td><td>1326  </td><td>71.872</td><td>1328  </td><td>74.804</td></tr>\n",
       "\t<tr><td>2016  </td><td>1292  </td><td>63.281</td><td>1332  </td><td>81.896</td></tr>\n",
       "\t<tr><td>2018  </td><td>1139  </td><td>72.324</td><td>1326  </td><td>76.283</td></tr>\n",
       "\t<tr><td>2015  </td><td>1372  </td><td>72.321</td><td>1452  </td><td>72.810</td></tr>\n",
       "\t<tr><td>2016  </td><td>1233  </td><td>66.171</td><td>1333  </td><td>66.890</td></tr>\n",
       "</tbody>\n",
       "</table>\n"
      ],
      "text/latex": [
       "\\begin{tabular}{r|lllll}\n",
       " Season & TeamID.x & Rating.x & TeamID.y & Rating.y\\\\\n",
       "\\hline\n",
       "\t 2015   & 1326   & 71.872 & 1328   & 74.804\\\\\n",
       "\t 2016   & 1292   & 63.281 & 1332   & 81.896\\\\\n",
       "\t 2018   & 1139   & 72.324 & 1326   & 76.283\\\\\n",
       "\t 2015   & 1372   & 72.321 & 1452   & 72.810\\\\\n",
       "\t 2016   & 1233   & 66.171 & 1333   & 66.890\\\\\n",
       "\\end{tabular}\n"
      ],
      "text/markdown": [
       "\n",
       "| Season | TeamID.x | Rating.x | TeamID.y | Rating.y |\n",
       "|---|---|---|---|---|\n",
       "| 2015   | 1326   | 71.872 | 1328   | 74.804 |\n",
       "| 2016   | 1292   | 63.281 | 1332   | 81.896 |\n",
       "| 2018   | 1139   | 72.324 | 1326   | 76.283 |\n",
       "| 2015   | 1372   | 72.321 | 1452   | 72.810 |\n",
       "| 2016   | 1233   | 66.171 | 1333   | 66.890 |\n",
       "\n"
      ],
      "text/plain": [
       "  Season TeamID.x Rating.x TeamID.y Rating.y\n",
       "1 2015   1326     71.872   1328     74.804  \n",
       "2 2016   1292     63.281   1332     81.896  \n",
       "3 2018   1139     72.324   1326     76.283  \n",
       "4 2015   1372     72.321   1452     72.810  \n",
       "5 2016   1233     66.171   1333     66.890  "
      ]
     },
     "metadata": {},
     "output_type": "display_data"
    }
   ],
   "source": [
    "# matchups dataframe : all the possible matches between the 68 teams per Season \n",
    "df.dunkel %>% \n",
    "    inner_join(df.dunkel,by='Season') %>% \n",
    "    filter(TeamID.x < TeamID.y) -> df.matchups\n",
    "df.matchups %>% sample_n(5)"
   ]
  },
  {
   "cell_type": "code",
   "execution_count": 19,
   "metadata": {},
   "outputs": [
    {
     "data": {
      "text/html": [
       "<table>\n",
       "<thead><tr><th scope=col>Season</th><th scope=col>TeamID.x</th><th scope=col>Rating.x</th><th scope=col>TeamID.y</th><th scope=col>Rating.y</th><th scope=col>qtl</th><th scope=col>Slope</th></tr></thead>\n",
       "<tbody>\n",
       "\t<tr><td>2014     </td><td>1203     </td><td>68.251   </td><td>1438     </td><td>80.475   </td><td>0.30     </td><td>0.1602145</td></tr>\n",
       "\t<tr><td>2017     </td><td>1274     </td><td>73.108   </td><td>1276     </td><td>77.408   </td><td>0.60     </td><td>0.2052208</td></tr>\n",
       "\t<tr><td>2014     </td><td>1273     </td><td>63.601   </td><td>1409     </td><td>65.708   </td><td>0.99     </td><td>3.3666255</td></tr>\n",
       "\t<tr><td>2017     </td><td>1153     </td><td>78.459   </td><td>1243     </td><td>66.611   </td><td>0.33     </td><td>0.1482813</td></tr>\n",
       "\t<tr><td>2018     </td><td>1153     </td><td>82.235   </td><td>1328     </td><td>66.631   </td><td>0.57     </td><td>0.2142413</td></tr>\n",
       "</tbody>\n",
       "</table>\n"
      ],
      "text/latex": [
       "\\begin{tabular}{r|lllllll}\n",
       " Season & TeamID.x & Rating.x & TeamID.y & Rating.y & qtl & Slope\\\\\n",
       "\\hline\n",
       "\t 2014      & 1203      & 68.251    & 1438      & 80.475    & 0.30      & 0.1602145\\\\\n",
       "\t 2017      & 1274      & 73.108    & 1276      & 77.408    & 0.60      & 0.2052208\\\\\n",
       "\t 2014      & 1273      & 63.601    & 1409      & 65.708    & 0.99      & 3.3666255\\\\\n",
       "\t 2017      & 1153      & 78.459    & 1243      & 66.611    & 0.33      & 0.1482813\\\\\n",
       "\t 2018      & 1153      & 82.235    & 1328      & 66.631    & 0.57      & 0.2142413\\\\\n",
       "\\end{tabular}\n"
      ],
      "text/markdown": [
       "\n",
       "| Season | TeamID.x | Rating.x | TeamID.y | Rating.y | qtl | Slope |\n",
       "|---|---|---|---|---|---|---|\n",
       "| 2014      | 1203      | 68.251    | 1438      | 80.475    | 0.30      | 0.1602145 |\n",
       "| 2017      | 1274      | 73.108    | 1276      | 77.408    | 0.60      | 0.2052208 |\n",
       "| 2014      | 1273      | 63.601    | 1409      | 65.708    | 0.99      | 3.3666255 |\n",
       "| 2017      | 1153      | 78.459    | 1243      | 66.611    | 0.33      | 0.1482813 |\n",
       "| 2018      | 1153      | 82.235    | 1328      | 66.631    | 0.57      | 0.2142413 |\n",
       "\n"
      ],
      "text/plain": [
       "  Season TeamID.x Rating.x TeamID.y Rating.y qtl  Slope    \n",
       "1 2014   1203     68.251   1438     80.475   0.30 0.1602145\n",
       "2 2017   1274     73.108   1276     77.408   0.60 0.2052208\n",
       "3 2014   1273     63.601   1409     65.708   0.99 3.3666255\n",
       "4 2017   1153     78.459   1243     66.611   0.33 0.1482813\n",
       "5 2018   1153     82.235   1328     66.631   0.57 0.2142413"
      ]
     },
     "metadata": {},
     "output_type": "display_data"
    }
   ],
   "source": [
    "# all matchs with all 51 hyper parameter setting (qtl=[0.25,0.75]) \n",
    "df.matchups %>% inner_join(df.dunkel.slopes,by=c('Season')) -> df.matchups\n",
    "df.matchups %>% sample_n(5)"
   ]
  },
  {
   "cell_type": "code",
   "execution_count": 20,
   "metadata": {},
   "outputs": [
    {
     "data": {
      "text/html": [
       "<table>\n",
       "<thead><tr><th scope=col>qtl</th><th scope=col>ID</th><th scope=col>Pred</th><th scope=col>Prob</th></tr></thead>\n",
       "<tbody>\n",
       "\t<tr><td>0.15          </td><td>2015_1264_1323</td><td>0             </td><td>0.115         </td></tr>\n",
       "\t<tr><td>0.32          </td><td>2017_1233_1266</td><td>0             </td><td>0.099         </td></tr>\n",
       "\t<tr><td>0.96          </td><td>2016_1277_1328</td><td>1             </td><td>0.950         </td></tr>\n",
       "\t<tr><td>0.02          </td><td>2016_1214_1425</td><td>0             </td><td>0.196         </td></tr>\n",
       "\t<tr><td>0.75          </td><td>2016_1173_1451</td><td>1             </td><td>0.915         </td></tr>\n",
       "</tbody>\n",
       "</table>\n"
      ],
      "text/latex": [
       "\\begin{tabular}{r|llll}\n",
       " qtl & ID & Pred & Prob\\\\\n",
       "\\hline\n",
       "\t 0.15               & 2015\\_1264\\_1323 & 0                  & 0.115             \\\\\n",
       "\t 0.32               & 2017\\_1233\\_1266 & 0                  & 0.099             \\\\\n",
       "\t 0.96               & 2016\\_1277\\_1328 & 1                  & 0.950             \\\\\n",
       "\t 0.02               & 2016\\_1214\\_1425 & 0                  & 0.196             \\\\\n",
       "\t 0.75               & 2016\\_1173\\_1451 & 1                  & 0.915             \\\\\n",
       "\\end{tabular}\n"
      ],
      "text/markdown": [
       "\n",
       "| qtl | ID | Pred | Prob |\n",
       "|---|---|---|---|\n",
       "| 0.15           | 2015_1264_1323 | 0              | 0.115          |\n",
       "| 0.32           | 2017_1233_1266 | 0              | 0.099          |\n",
       "| 0.96           | 2016_1277_1328 | 1              | 0.950          |\n",
       "| 0.02           | 2016_1214_1425 | 0              | 0.196          |\n",
       "| 0.75           | 2016_1173_1451 | 1              | 0.915          |\n",
       "\n"
      ],
      "text/plain": [
       "  qtl  ID             Pred Prob \n",
       "1 0.15 2015_1264_1323 0    0.115\n",
       "2 0.32 2017_1233_1266 0    0.099\n",
       "3 0.96 2016_1277_1328 1    0.950\n",
       "4 0.02 2016_1214_1425 0    0.196\n",
       "5 0.75 2016_1173_1451 1    0.915"
      ]
     },
     "metadata": {},
     "output_type": "display_data"
    }
   ],
   "source": [
    "# machups predictions : compute the winning probability of TeamID.x and cap it into [0.05,0.95] to avoid too much logloss is case of FP or FN \n",
    "df.matchups %>% \n",
    "    mutate(ID=str_c(Season,'_',TeamID.x,'_',TeamID.y)) %>% \n",
    "    mutate(Prob=logistic(Rating.x-Rating.y,a=Slope)) %>% \n",
    "    mutate(Pred=ifelse(Prob>0.5,1,0)) %>% \n",
    "    mutate(Prob=round(Prob,3)) %>%\n",
    "    mutate_which(Prob>0.95,Prob=0.95) %>%\n",
    "    mutate_which(Prob<0.05,Prob=0.05) %>%\n",
    "    select(qtl,ID,Pred,Prob) -> df.submit\n",
    "df.submit %>% sample_n(5)"
   ]
  },
  {
   "cell_type": "code",
   "execution_count": 21,
   "metadata": {},
   "outputs": [],
   "source": [
    "# merge prediction and truth\n",
    "df.truth %>% inner_join(df.submit,by='ID') -> df.results"
   ]
  },
  {
   "cell_type": "code",
   "execution_count": 22,
   "metadata": {},
   "outputs": [
    {
     "data": {
      "text/html": [
       "<table>\n",
       "<thead><tr><th scope=col>qtl</th><th scope=col>TC</th><th scope=col>FC</th><th scope=col>N</th><th scope=col>Acc</th><th scope=col>LogLoss</th></tr></thead>\n",
       "<tbody>\n",
       "\t<tr><td>0.20     </td><td>247      </td><td>88       </td><td>335      </td><td>0.7373134</td><td>0.5363770</td></tr>\n",
       "\t<tr><td>0.23     </td><td>247      </td><td>88       </td><td>335      </td><td>0.7373134</td><td>0.5364130</td></tr>\n",
       "\t<tr><td>0.24     </td><td>247      </td><td>88       </td><td>335      </td><td>0.7373134</td><td>0.5364156</td></tr>\n",
       "\t<tr><td>0.19     </td><td>247      </td><td>88       </td><td>335      </td><td>0.7373134</td><td>0.5364732</td></tr>\n",
       "\t<tr><td>0.25     </td><td>247      </td><td>88       </td><td>335      </td><td>0.7373134</td><td>0.5364756</td></tr>\n",
       "</tbody>\n",
       "</table>\n"
      ],
      "text/latex": [
       "\\begin{tabular}{r|llllll}\n",
       " qtl & TC & FC & N & Acc & LogLoss\\\\\n",
       "\\hline\n",
       "\t 0.20      & 247       & 88        & 335       & 0.7373134 & 0.5363770\\\\\n",
       "\t 0.23      & 247       & 88        & 335       & 0.7373134 & 0.5364130\\\\\n",
       "\t 0.24      & 247       & 88        & 335       & 0.7373134 & 0.5364156\\\\\n",
       "\t 0.19      & 247       & 88        & 335       & 0.7373134 & 0.5364732\\\\\n",
       "\t 0.25      & 247       & 88        & 335       & 0.7373134 & 0.5364756\\\\\n",
       "\\end{tabular}\n"
      ],
      "text/markdown": [
       "\n",
       "| qtl | TC | FC | N | Acc | LogLoss |\n",
       "|---|---|---|---|---|---|\n",
       "| 0.20      | 247       | 88        | 335       | 0.7373134 | 0.5363770 |\n",
       "| 0.23      | 247       | 88        | 335       | 0.7373134 | 0.5364130 |\n",
       "| 0.24      | 247       | 88        | 335       | 0.7373134 | 0.5364156 |\n",
       "| 0.19      | 247       | 88        | 335       | 0.7373134 | 0.5364732 |\n",
       "| 0.25      | 247       | 88        | 335       | 0.7373134 | 0.5364756 |\n",
       "\n"
      ],
      "text/plain": [
       "  qtl  TC  FC N   Acc       LogLoss  \n",
       "1 0.20 247 88 335 0.7373134 0.5363770\n",
       "2 0.23 247 88 335 0.7373134 0.5364130\n",
       "3 0.24 247 88 335 0.7373134 0.5364156\n",
       "4 0.19 247 88 335 0.7373134 0.5364732\n",
       "5 0.25 247 88 335 0.7373134 0.5364756"
      ]
     },
     "metadata": {},
     "output_type": "display_data"
    }
   ],
   "source": [
    "# compute accuracy & Logloss per qtl to find the best one\n",
    "df.results %>% \n",
    "    mutate(OK=ifelse(Pred==Target,1,0)) %>%\n",
    "    mutate(LogLoss=Target*log(Prob) + (1-Target)*log(1-Prob)) %>%\n",
    "    group_by(qtl) %>%\n",
    "    summarise(TC=sum(OK),N=n(),FC=N-TC,Acc=TC/N,LogLoss=-mean(LogLoss)) %>%\n",
    "    select(qtl,TC,FC,N,Acc,LogLoss) -> df.results.perf\n",
    "df.results.perf %>% arrange(LogLoss) %>% head(5)"
   ]
  },
  {
   "cell_type": "code",
   "execution_count": 24,
   "metadata": {},
   "outputs": [],
   "source": [
    "library(ggplot2,warn.conflicts=F)"
   ]
  },
  {
   "cell_type": "code",
   "execution_count": 25,
   "metadata": {},
   "outputs": [
    {
     "data": {
      "image/png": "[encoded data removed]",
      "text/plain": [
       "plot without title"
      ]
     },
     "metadata": {},
     "output_type": "display_data"
    }
   ],
   "source": [
    "options(repr.plot.width=4, repr.plot.height=4)\n",
    "qplot(data=df.results.perf,x=qtl,y=LogLoss)"
   ]
  },
  {
   "cell_type": "code",
   "execution_count": 23,
   "metadata": {},
   "outputs": [],
   "source": [
    "# store the best qtl\n",
    "df.results.perf %>% \n",
    "    arrange(LogLoss) %>% \n",
    "    head(1) %>% pull(qtl) -> bestqtl"
   ]
  },
  {
   "cell_type": "raw",
   "metadata": {},
   "source": [
    "# save the best results for kaggle submission\n",
    "df.submit %>% \n",
    "    filter(qtl==bestqtl) %>% \n",
    "    select(ID,Pred=Prob) %>% \n",
    "    write.csv('predictions/Pred_DunkleMarch_bestqtl.csv',quote=F,row.names=F)"
   ]
  },
  {
   "cell_type": "raw",
   "metadata": {},
   "source": [
    "# save best model for mix\n",
    "df.submit %>%\n",
    "    filter(qtl==bestqtl) %>% \n",
    "    saveRDS('predictions/DunkleMarch_bestqtl.rds')    "
   ]
  },
  {
   "cell_type": "code",
   "execution_count": null,
   "metadata": {},
   "outputs": [],
   "source": []
  }
 ],
 "metadata": {
  "kernelspec": {
   "display_name": "R 3.5.0",
   "language": "R",
   "name": "ir35"
  },
  "language_info": {
   "codemirror_mode": "r",
   "file_extension": ".r",
   "mimetype": "text/x-r-source",
   "name": "R",
   "pygments_lexer": "r",
   "version": "3.5.1"
  }
 },
 "nbformat": 4,
 "nbformat_minor": 2
}
