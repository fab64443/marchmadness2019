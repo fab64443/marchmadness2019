{
 "cells": [
  {
   "cell_type": "code",
   "execution_count": 1,
   "metadata": {},
   "outputs": [],
   "source": [
    "# Load required packages\n",
    "library(dplyr,warn.conflicts=F)\n",
    "library(stringr,warn.conflicts=F)\n",
    "library(psych,warn.conflicts=F)\n",
    "library(lplyr,warn.conflicts=F)"
   ]
  },
  {
   "cell_type": "code",
   "execution_count": 2,
   "metadata": {},
   "outputs": [],
   "source": [
    "# load the stats\n",
    "data.tourney <- readRDS('datafiles_rds/NCAATourneyDetailedResults.rds')\n",
    "# keep 2014+\n",
    "data.tourney %>% filter(Season>2013) -> data.tourney"
   ]
  },
  {
   "cell_type": "code",
   "execution_count": 3,
   "metadata": {},
   "outputs": [],
   "source": [
    "# store 68 tourney teams \n",
    "data.tourney %>% \n",
    "    select(Season,TeamID=WTeamID) %>% \n",
    "    bind_rows(data.tourney %>% \n",
    "              select(Season,TeamID=LTeamID)) %>% \n",
    "    distinct(Season,TeamID) -> df.tourneyteams"
   ]
  },
  {
   "cell_type": "code",
   "execution_count": 4,
   "metadata": {},
   "outputs": [
    {
     "data": {
      "text/html": [
       "<table>\n",
       "<thead><tr><th scope=col>Season</th><th scope=col>Rank</th><th scope=col>Name</th><th scope=col>Rate</th><th scope=col>W</th><th scope=col>L</th><th scope=col>Sched</th><th scope=col>RankSched</th><th scope=col>W25</th><th scope=col>L25</th><th scope=col>W50</th><th scope=col>L50</th><th scope=col>GoldenMean</th><th scope=col>RankGM</th><th scope=col>Predictor</th><th scope=col>RankPred</th><th scope=col>Pure</th><th scope=col>RankPure</th></tr></thead>\n",
       "<tbody>\n",
       "\t<tr><td>2014          </td><td>1             </td><td>Louisville    </td><td>93.92         </td><td>31            </td><td>6             </td><td>76.14         </td><td>95            </td><td>4             </td><td>3             </td><td> 7            </td><td>6             </td><td>95.09         </td><td> 1            </td><td>94.53         </td><td> 1            </td><td>91.49         </td><td>7             </td></tr>\n",
       "\t<tr><td>2014          </td><td>2             </td><td>Arizona       </td><td>93.65         </td><td>33            </td><td>5             </td><td>79.80         </td><td>21            </td><td>6             </td><td>2             </td><td>13            </td><td>4             </td><td>94.19         </td><td> 2            </td><td>93.84         </td><td> 2            </td><td>92.06         </td><td>5             </td></tr>\n",
       "\t<tr><td>2014          </td><td>3             </td><td>Florida       </td><td>93.27         </td><td>36            </td><td>3             </td><td>80.07         </td><td>16            </td><td>9             </td><td>3             </td><td>13            </td><td>3             </td><td>92.45         </td><td> 3            </td><td>92.57         </td><td> 3            </td><td>96.41         </td><td>2             </td></tr>\n",
       "\t<tr><td>2014          </td><td>4             </td><td>Wisconsin     </td><td>91.99         </td><td>30            </td><td>8             </td><td>81.91         </td><td> 2            </td><td>6             </td><td>4             </td><td>12            </td><td>5             </td><td>91.35         </td><td> 4            </td><td>91.99         </td><td> 4            </td><td>92.34         </td><td>4             </td></tr>\n",
       "\t<tr><td>2014          </td><td>5             </td><td>Michigan State</td><td>90.66         </td><td>29            </td><td>9             </td><td>81.09         </td><td> 5            </td><td>5             </td><td>5             </td><td>11            </td><td>6             </td><td>90.46         </td><td> 6            </td><td>89.84         </td><td> 6            </td><td>91.95         </td><td>6             </td></tr>\n",
       "\t<tr><td>2014          </td><td>6             </td><td>Connecticut   </td><td>90.61         </td><td>32            </td><td>8             </td><td>80.24         </td><td>15            </td><td>8             </td><td>4             </td><td>14            </td><td>7             </td><td>89.87         </td><td>10            </td><td>89.42         </td><td>10            </td><td>96.48         </td><td>1             </td></tr>\n",
       "</tbody>\n",
       "</table>\n"
      ],
      "text/latex": [
       "\\begin{tabular}{r|llllllllllllllllll}\n",
       " Season & Rank & Name & Rate & W & L & Sched & RankSched & W25 & L25 & W50 & L50 & GoldenMean & RankGM & Predictor & RankPred & Pure & RankPure\\\\\n",
       "\\hline\n",
       "\t 2014           & 1              & Louisville     & 93.92          & 31             & 6              & 76.14          & 95             & 4              & 3              &  7             & 6              & 95.09          &  1             & 94.53          &  1             & 91.49          & 7             \\\\\n",
       "\t 2014           & 2              & Arizona        & 93.65          & 33             & 5              & 79.80          & 21             & 6              & 2              & 13             & 4              & 94.19          &  2             & 93.84          &  2             & 92.06          & 5             \\\\\n",
       "\t 2014           & 3              & Florida        & 93.27          & 36             & 3              & 80.07          & 16             & 9              & 3              & 13             & 3              & 92.45          &  3             & 92.57          &  3             & 96.41          & 2             \\\\\n",
       "\t 2014           & 4              & Wisconsin      & 91.99          & 30             & 8              & 81.91          &  2             & 6              & 4              & 12             & 5              & 91.35          &  4             & 91.99          &  4             & 92.34          & 4             \\\\\n",
       "\t 2014           & 5              & Michigan State & 90.66          & 29             & 9              & 81.09          &  5             & 5              & 5              & 11             & 6              & 90.46          &  6             & 89.84          &  6             & 91.95          & 6             \\\\\n",
       "\t 2014           & 6              & Connecticut    & 90.61          & 32             & 8              & 80.24          & 15             & 8              & 4              & 14             & 7              & 89.87          & 10             & 89.42          & 10             & 96.48          & 1             \\\\\n",
       "\\end{tabular}\n"
      ],
      "text/markdown": [
       "\n",
       "| Season | Rank | Name | Rate | W | L | Sched | RankSched | W25 | L25 | W50 | L50 | GoldenMean | RankGM | Predictor | RankPred | Pure | RankPure |\n",
       "|---|---|---|---|---|---|---|---|---|---|---|---|---|---|---|---|---|---|\n",
       "| 2014           | 1              | Louisville     | 93.92          | 31             | 6              | 76.14          | 95             | 4              | 3              |  7             | 6              | 95.09          |  1             | 94.53          |  1             | 91.49          | 7              |\n",
       "| 2014           | 2              | Arizona        | 93.65          | 33             | 5              | 79.80          | 21             | 6              | 2              | 13             | 4              | 94.19          |  2             | 93.84          |  2             | 92.06          | 5              |\n",
       "| 2014           | 3              | Florida        | 93.27          | 36             | 3              | 80.07          | 16             | 9              | 3              | 13             | 3              | 92.45          |  3             | 92.57          |  3             | 96.41          | 2              |\n",
       "| 2014           | 4              | Wisconsin      | 91.99          | 30             | 8              | 81.91          |  2             | 6              | 4              | 12             | 5              | 91.35          |  4             | 91.99          |  4             | 92.34          | 4              |\n",
       "| 2014           | 5              | Michigan State | 90.66          | 29             | 9              | 81.09          |  5             | 5              | 5              | 11             | 6              | 90.46          |  6             | 89.84          |  6             | 91.95          | 6              |\n",
       "| 2014           | 6              | Connecticut    | 90.61          | 32             | 8              | 80.24          | 15             | 8              | 4              | 14             | 7              | 89.87          | 10             | 89.42          | 10             | 96.48          | 1              |\n",
       "\n"
      ],
      "text/plain": [
       "  Season Rank Name           Rate  W  L Sched RankSched W25 L25 W50 L50\n",
       "1 2014   1    Louisville     93.92 31 6 76.14 95        4   3    7  6  \n",
       "2 2014   2    Arizona        93.65 33 5 79.80 21        6   2   13  4  \n",
       "3 2014   3    Florida        93.27 36 3 80.07 16        9   3   13  3  \n",
       "4 2014   4    Wisconsin      91.99 30 8 81.91  2        6   4   12  5  \n",
       "5 2014   5    Michigan State 90.66 29 9 81.09  5        5   5   11  6  \n",
       "6 2014   6    Connecticut    90.61 32 8 80.24 15        8   4   14  7  \n",
       "  GoldenMean RankGM Predictor RankPred Pure  RankPure\n",
       "1 95.09       1     94.53      1       91.49 7       \n",
       "2 94.19       2     93.84      2       92.06 5       \n",
       "3 92.45       3     92.57      3       96.41 2       \n",
       "4 91.35       4     91.99      4       92.34 4       \n",
       "5 90.46       6     89.84      6       91.95 6       \n",
       "6 89.87      10     89.42     10       96.48 1       "
      ]
     },
     "metadata": {},
     "output_type": "display_data"
    }
   ],
   "source": [
    "# Sagarin Rating 2014+\n",
    "# https://ux.kitsapsun.com/sports/ncaab/sagarin/201?/team/\n",
    "data.sagarin <- read.csv('datafiles_csv/Sagarin20142018.csv',stringsAsFactors=F)\n",
    "data.sagarin %>% head"
   ]
  },
  {
   "cell_type": "code",
   "execution_count": 5,
   "metadata": {},
   "outputs": [],
   "source": [
    "# load team spellings variations\n",
    "data.teamspellings <- readRDS('datafiles_rds/TeamSpellings.rds')\n",
    "data.teams <- readRDS('datafiles_rds/Teams.rds')"
   ]
  },
  {
   "cell_type": "code",
   "execution_count": 6,
   "metadata": {},
   "outputs": [],
   "source": [
    "# add TeamID based on team name\n",
    "data.sagarin %>% \n",
    "    mutate(Name=str_to_lower(Name)) %>% \n",
    "    left_join(data.teamspellings,by=c('Name'='TeamNameSpelling')) -> df.sagarin"
   ]
  },
  {
   "cell_type": "code",
   "execution_count": 7,
   "metadata": {
    "scrolled": false
   },
   "outputs": [
    {
     "data": {
      "text/html": [
       "<table>\n",
       "<thead><tr><th scope=col>Name</th></tr></thead>\n",
       "<tbody>\n",
       "\t<tr><td>ark.-little rock        </td></tr>\n",
       "\t<tr><td>ark.-little rock ualr   </td></tr>\n",
       "\t<tr><td>binghamton-ny           </td></tr>\n",
       "\t<tr><td>cal poly-slo            </td></tr>\n",
       "\t<tr><td>central connecticut st. </td></tr>\n",
       "\t<tr><td>central florida ucf     </td></tr>\n",
       "\t<tr><td>central floridaucf      </td></tr>\n",
       "\t<tr><td>east tennessee state ets</td></tr>\n",
       "\t<tr><td>fla. international      </td></tr>\n",
       "\t<tr><td>fort wayne ipfw         </td></tr>\n",
       "\t<tr><td>fort wayneipfw          </td></tr>\n",
       "\t<tr><td>iona college            </td></tr>\n",
       "\t<tr><td>kansas city umkc        </td></tr>\n",
       "\t<tr><td>kansas cityumkc         </td></tr>\n",
       "\t<tr><td>long island u liu       </td></tr>\n",
       "\t<tr><td>long island u.          </td></tr>\n",
       "\t<tr><td>long island u. liu      </td></tr>\n",
       "\t<tr><td>md.-eastern shore umes  </td></tr>\n",
       "\t<tr><td>md.-eastern shoreumes   </td></tr>\n",
       "\t<tr><td>mvsu miss. valley st.   </td></tr>\n",
       "\t<tr><td>mvsumiss. valley st.    </td></tr>\n",
       "\t<tr><td>njit new jersey tech    </td></tr>\n",
       "\t<tr><td>njitnew jersey tech     </td></tr>\n",
       "\t<tr><td>north florida unf       </td></tr>\n",
       "\t<tr><td>north floridaunf        </td></tr>\n",
       "\t<tr><td>oakland-mich.           </td></tr>\n",
       "\t<tr><td>omaha neb.-omaha        </td></tr>\n",
       "\t<tr><td>omahaneb.-omaha         </td></tr>\n",
       "\t<tr><td>presbyterian college    </td></tr>\n",
       "\t<tr><td>saint francis-pa.       </td></tr>\n",
       "\t<tr><td>saint joseph's-pa.      </td></tr>\n",
       "\t<tr><td>saint mary's-cal.       </td></tr>\n",
       "\t<tr><td>se missouri state semo  </td></tr>\n",
       "\t<tr><td>se missouri statesemo   </td></tr>\n",
       "\t<tr><td>stony brook-ny          </td></tr>\n",
       "\t<tr><td>texas a&amp;m-corpuschristi </td></tr>\n",
       "\t<tr><td>texas-san antonio utsa  </td></tr>\n",
       "\t<tr><td>texas-san antonioutsa   </td></tr>\n",
       "\t<tr><td>vcu va. commonwealth    </td></tr>\n",
       "\t<tr><td>vcuva. commonwealth     </td></tr>\n",
       "\t<tr><td>xavier-ohio             </td></tr>\n",
       "</tbody>\n",
       "</table>\n"
      ],
      "text/latex": [
       "\\begin{tabular}{r|l}\n",
       " Name\\\\\n",
       "\\hline\n",
       "\t ark.-little rock        \\\\\n",
       "\t ark.-little rock ualr   \\\\\n",
       "\t binghamton-ny           \\\\\n",
       "\t cal poly-slo            \\\\\n",
       "\t central connecticut st. \\\\\n",
       "\t central florida ucf     \\\\\n",
       "\t central floridaucf      \\\\\n",
       "\t east tennessee state ets\\\\\n",
       "\t fla. international      \\\\\n",
       "\t fort wayne ipfw         \\\\\n",
       "\t fort wayneipfw          \\\\\n",
       "\t iona college            \\\\\n",
       "\t kansas city umkc        \\\\\n",
       "\t kansas cityumkc         \\\\\n",
       "\t long island u liu       \\\\\n",
       "\t long island u.          \\\\\n",
       "\t long island u. liu      \\\\\n",
       "\t md.-eastern shore umes  \\\\\n",
       "\t md.-eastern shoreumes   \\\\\n",
       "\t mvsu miss. valley st.   \\\\\n",
       "\t mvsumiss. valley st.    \\\\\n",
       "\t njit new jersey tech    \\\\\n",
       "\t njitnew jersey tech     \\\\\n",
       "\t north florida unf       \\\\\n",
       "\t north floridaunf        \\\\\n",
       "\t oakland-mich.           \\\\\n",
       "\t omaha neb.-omaha        \\\\\n",
       "\t omahaneb.-omaha         \\\\\n",
       "\t presbyterian college    \\\\\n",
       "\t saint francis-pa.       \\\\\n",
       "\t saint joseph's-pa.      \\\\\n",
       "\t saint mary's-cal.       \\\\\n",
       "\t se missouri state semo  \\\\\n",
       "\t se missouri statesemo   \\\\\n",
       "\t stony brook-ny          \\\\\n",
       "\t texas a\\&m-corpuschristi \\\\\n",
       "\t texas-san antonio utsa  \\\\\n",
       "\t texas-san antonioutsa   \\\\\n",
       "\t vcu va. commonwealth    \\\\\n",
       "\t vcuva. commonwealth     \\\\\n",
       "\t xavier-ohio             \\\\\n",
       "\\end{tabular}\n"
      ],
      "text/markdown": [
       "\n",
       "| Name |\n",
       "|---|\n",
       "| ark.-little rock         |\n",
       "| ark.-little rock ualr    |\n",
       "| binghamton-ny            |\n",
       "| cal poly-slo             |\n",
       "| central connecticut st.  |\n",
       "| central florida ucf      |\n",
       "| central floridaucf       |\n",
       "| east tennessee state ets |\n",
       "| fla. international       |\n",
       "| fort wayne ipfw          |\n",
       "| fort wayneipfw           |\n",
       "| iona college             |\n",
       "| kansas city umkc         |\n",
       "| kansas cityumkc          |\n",
       "| long island u liu        |\n",
       "| long island u.           |\n",
       "| long island u. liu       |\n",
       "| md.-eastern shore umes   |\n",
       "| md.-eastern shoreumes    |\n",
       "| mvsu miss. valley st.    |\n",
       "| mvsumiss. valley st.     |\n",
       "| njit new jersey tech     |\n",
       "| njitnew jersey tech      |\n",
       "| north florida unf        |\n",
       "| north floridaunf         |\n",
       "| oakland-mich.            |\n",
       "| omaha neb.-omaha         |\n",
       "| omahaneb.-omaha          |\n",
       "| presbyterian college     |\n",
       "| saint francis-pa.        |\n",
       "| saint joseph's-pa.       |\n",
       "| saint mary's-cal.        |\n",
       "| se missouri state semo   |\n",
       "| se missouri statesemo    |\n",
       "| stony brook-ny           |\n",
       "| texas a&m-corpuschristi  |\n",
       "| texas-san antonio utsa   |\n",
       "| texas-san antonioutsa    |\n",
       "| vcu va. commonwealth     |\n",
       "| vcuva. commonwealth      |\n",
       "| xavier-ohio              |\n",
       "\n"
      ],
      "text/plain": [
       "   Name                    \n",
       "1  ark.-little rock        \n",
       "2  ark.-little rock ualr   \n",
       "3  binghamton-ny           \n",
       "4  cal poly-slo            \n",
       "5  central connecticut st. \n",
       "6  central florida ucf     \n",
       "7  central floridaucf      \n",
       "8  east tennessee state ets\n",
       "9  fla. international      \n",
       "10 fort wayne ipfw         \n",
       "11 fort wayneipfw          \n",
       "12 iona college            \n",
       "13 kansas city umkc        \n",
       "14 kansas cityumkc         \n",
       "15 long island u liu       \n",
       "16 long island u.          \n",
       "17 long island u. liu      \n",
       "18 md.-eastern shore umes  \n",
       "19 md.-eastern shoreumes   \n",
       "20 mvsu miss. valley st.   \n",
       "21 mvsumiss. valley st.    \n",
       "22 njit new jersey tech    \n",
       "23 njitnew jersey tech     \n",
       "24 north florida unf       \n",
       "25 north floridaunf        \n",
       "26 oakland-mich.           \n",
       "27 omaha neb.-omaha        \n",
       "28 omahaneb.-omaha         \n",
       "29 presbyterian college    \n",
       "30 saint francis-pa.       \n",
       "31 saint joseph's-pa.      \n",
       "32 saint mary's-cal.       \n",
       "33 se missouri state semo  \n",
       "34 se missouri statesemo   \n",
       "35 stony brook-ny          \n",
       "36 texas a&m-corpuschristi \n",
       "37 texas-san antonio utsa  \n",
       "38 texas-san antonioutsa   \n",
       "39 vcu va. commonwealth    \n",
       "40 vcuva. commonwealth     \n",
       "41 xavier-ohio             "
      ]
     },
     "metadata": {},
     "output_type": "display_data"
    }
   ],
   "source": [
    "# team's name which does not match\n",
    "df.sagarin %>% \n",
    "    filter(is.na(TeamID)) %>%\n",
    "    select(Name) %>%\n",
    "    distinct() %>%\n",
    "    arrange(Name)"
   ]
  },
  {
   "cell_type": "code",
   "execution_count": 8,
   "metadata": {},
   "outputs": [
    {
     "data": {
      "text/html": [
       "<table>\n",
       "<thead><tr><th scope=col>TeamID</th><th scope=col>TeamName</th><th scope=col>FirstD1Season</th><th scope=col>LastD1Season</th></tr></thead>\n",
       "<tbody>\n",
       "\t<tr><td>1142           </td><td>Cal Poly SLO   </td><td>1995           </td><td>2019           </td></tr>\n",
       "\t<tr><td>1254           </td><td>Long Island    </td><td>1985           </td><td>2019           </td></tr>\n",
       "\t<tr><td>1316           </td><td>North Florida  </td><td>2006           </td><td>2019           </td></tr>\n",
       "\t<tr><td>1386           </td><td>St Joseph's PA </td><td>1985           </td><td>2019           </td></tr>\n",
       "\t<tr><td>1388           </td><td>St Mary's CA   </td><td>1985           </td><td>2019           </td></tr>\n",
       "\t<tr><td>1392           </td><td>Stony Brook    </td><td>2000           </td><td>2019           </td></tr>\n",
       "\t<tr><td>1433           </td><td>VA Commonwealth</td><td>1985           </td><td>2019           </td></tr>\n",
       "\t<tr><td>1462           </td><td>Xavier         </td><td>1985           </td><td>2019           </td></tr>\n",
       "</tbody>\n",
       "</table>\n"
      ],
      "text/latex": [
       "\\begin{tabular}{r|llll}\n",
       " TeamID & TeamName & FirstD1Season & LastD1Season\\\\\n",
       "\\hline\n",
       "\t 1142            & Cal Poly SLO    & 1995            & 2019           \\\\\n",
       "\t 1254            & Long Island     & 1985            & 2019           \\\\\n",
       "\t 1316            & North Florida   & 2006            & 2019           \\\\\n",
       "\t 1386            & St Joseph's PA  & 1985            & 2019           \\\\\n",
       "\t 1388            & St Mary's CA    & 1985            & 2019           \\\\\n",
       "\t 1392            & Stony Brook     & 2000            & 2019           \\\\\n",
       "\t 1433            & VA Commonwealth & 1985            & 2019           \\\\\n",
       "\t 1462            & Xavier          & 1985            & 2019           \\\\\n",
       "\\end{tabular}\n"
      ],
      "text/markdown": [
       "\n",
       "| TeamID | TeamName | FirstD1Season | LastD1Season |\n",
       "|---|---|---|---|\n",
       "| 1142            | Cal Poly SLO    | 1995            | 2019            |\n",
       "| 1254            | Long Island     | 1985            | 2019            |\n",
       "| 1316            | North Florida   | 2006            | 2019            |\n",
       "| 1386            | St Joseph's PA  | 1985            | 2019            |\n",
       "| 1388            | St Mary's CA    | 1985            | 2019            |\n",
       "| 1392            | Stony Brook     | 2000            | 2019            |\n",
       "| 1433            | VA Commonwealth | 1985            | 2019            |\n",
       "| 1462            | Xavier          | 1985            | 2019            |\n",
       "\n"
      ],
      "text/plain": [
       "  TeamID TeamName        FirstD1Season LastD1Season\n",
       "1 1142   Cal Poly SLO    1995          2019        \n",
       "2 1254   Long Island     1985          2019        \n",
       "3 1316   North Florida   2006          2019        \n",
       "4 1386   St Joseph's PA  1985          2019        \n",
       "5 1388   St Mary's CA    1985          2019        \n",
       "6 1392   Stony Brook     2000          2019        \n",
       "7 1433   VA Commonwealth 1985          2019        \n",
       "8 1462   Xavier          1985          2019        "
      ]
     },
     "metadata": {},
     "output_type": "display_data"
    }
   ],
   "source": [
    "# missing tourney team in Sagarin stats (because name misspelling)\n",
    "df.sagarin %>% \n",
    "    right_join(df.tourneyteams,by='TeamID') %>%\n",
    "    filter(is.na(Rank)) %>%\n",
    "    select(TeamID) %>%\n",
    "    inner_join(data.teams,by='TeamID') %>%\n",
    "    distinct() %>%\n",
    "    arrange(TeamID)"
   ]
  },
  {
   "cell_type": "code",
   "execution_count": 9,
   "metadata": {},
   "outputs": [],
   "source": [
    "# add missing TeamID from Sagarin stats\n",
    "df.sagarin %>%\n",
    "    mutate_which(str_detect(Name,'xavier-ohio'),TeamID=1462) %>%\n",
    "    mutate_which(str_detect(Name,'commonwealth'),TeamID=1433) %>%\n",
    "    mutate_which(str_detect(Name,'stony brook'),TeamID=1392) %>%\n",
    "    mutate_which(str_detect(Name,'saint mary'),TeamID=1388) %>%\n",
    "    mutate_which(str_detect(Name,'saint joseph'),TeamID=1386) %>%\n",
    "    mutate_which(str_detect(Name,'north florida'),TeamID=1316) %>%\n",
    "    mutate_which(str_detect(Name,'long island'),TeamID=1254) %>%\n",
    "    mutate_which(str_detect(Name,'cal poly'),TeamID=1142) %>%\n",
    "    mutate_which(str_detect(Name,'^iona'),TeamID=1233) %>%    # Iona renamed in Iona College in 2017\n",
    "    mutate_which(str_detect(Name,'east tennessee'),TeamID=1190) -> df.sagarin    # ETSU = East Tennessee State University"
   ]
  },
  {
   "cell_type": "code",
   "execution_count": 10,
   "metadata": {},
   "outputs": [
    {
     "data": {
      "text/html": [
       "<table>\n",
       "<thead><tr><th scope=col>TeamID</th><th scope=col>TeamName</th><th scope=col>FirstD1Season</th><th scope=col>LastD1Season</th></tr></thead>\n",
       "<tbody>\n",
       "</tbody>\n",
       "</table>\n"
      ],
      "text/latex": [
       "\\begin{tabular}{r|llll}\n",
       " TeamID & TeamName & FirstD1Season & LastD1Season\\\\\n",
       "\\hline\n",
       "\\end{tabular}\n"
      ],
      "text/markdown": [
       "\n",
       "| TeamID | TeamName | FirstD1Season | LastD1Season |\n",
       "|---|---|---|---|\n",
       "\n"
      ],
      "text/plain": [
       "     TeamID TeamName FirstD1Season LastD1Season"
      ]
     },
     "metadata": {},
     "output_type": "display_data"
    }
   ],
   "source": [
    "# check if ssomething is still wrong\n",
    "df.sagarin %>% \n",
    "    right_join(df.tourneyteams,by='TeamID') %>%\n",
    "    filter(is.na(Rank)) %>%\n",
    "    select(TeamID) %>%\n",
    "    inner_join(data.teams,by='TeamID') %>%\n",
    "    distinct() %>%\n",
    "    arrange(TeamID)"
   ]
  },
  {
   "cell_type": "code",
   "execution_count": 11,
   "metadata": {},
   "outputs": [],
   "source": [
    "# restrict Sagarin stats to tourney teams\n",
    "df.sagarin %>% \n",
    "    inner_join(df.tourneyteams,by=c('TeamID','Season')) %>%\n",
    "    select(Season,TeamID,Predictor) -> df.sagarin"
   ]
  },
  {
   "cell_type": "code",
   "execution_count": 12,
   "metadata": {},
   "outputs": [
    {
     "data": {
      "text/html": [
       "<table>\n",
       "<thead><tr><th scope=col>Season</th><th scope=col>n</th></tr></thead>\n",
       "<tbody>\n",
       "\t<tr><td>2014</td><td>68  </td></tr>\n",
       "\t<tr><td>2015</td><td>68  </td></tr>\n",
       "\t<tr><td>2016</td><td>68  </td></tr>\n",
       "\t<tr><td>2017</td><td>68  </td></tr>\n",
       "\t<tr><td>2018</td><td>68  </td></tr>\n",
       "</tbody>\n",
       "</table>\n"
      ],
      "text/latex": [
       "\\begin{tabular}{r|ll}\n",
       " Season & n\\\\\n",
       "\\hline\n",
       "\t 2014 & 68  \\\\\n",
       "\t 2015 & 68  \\\\\n",
       "\t 2016 & 68  \\\\\n",
       "\t 2017 & 68  \\\\\n",
       "\t 2018 & 68  \\\\\n",
       "\\end{tabular}\n"
      ],
      "text/markdown": [
       "\n",
       "| Season | n |\n",
       "|---|---|\n",
       "| 2014 | 68   |\n",
       "| 2015 | 68   |\n",
       "| 2016 | 68   |\n",
       "| 2017 | 68   |\n",
       "| 2018 | 68   |\n",
       "\n"
      ],
      "text/plain": [
       "  Season n \n",
       "1 2014   68\n",
       "2 2015   68\n",
       "3 2016   68\n",
       "4 2017   68\n",
       "5 2018   68"
      ]
     },
     "metadata": {},
     "output_type": "display_data"
    }
   ],
   "source": [
    "# Check if we have 68 teams per Season\n",
    "df.sagarin %>% \n",
    "    group_by(Season) %>% \n",
    "    count"
   ]
  },
  {
   "cell_type": "code",
   "execution_count": 13,
   "metadata": {
    "scrolled": true
   },
   "outputs": [
    {
     "data": {
      "text/html": [
       "<table>\n",
       "<thead><tr><th scope=col>Season</th><th scope=col>TeamID</th></tr></thead>\n",
       "<tbody>\n",
       "</tbody>\n",
       "</table>\n"
      ],
      "text/latex": [
       "\\begin{tabular}{r|ll}\n",
       " Season & TeamID\\\\\n",
       "\\hline\n",
       "\\end{tabular}\n"
      ],
      "text/markdown": [
       "\n",
       "| Season | TeamID |\n",
       "|---|---|\n",
       "\n"
      ],
      "text/plain": [
       "     Season TeamID"
      ]
     },
     "metadata": {},
     "output_type": "display_data"
    }
   ],
   "source": [
    "# check missing TeamID per Season \n",
    "df.tourneyteams %>% \n",
    "    anti_join(df.sagarin,by=c('Season','TeamID'))"
   ]
  },
  {
   "cell_type": "code",
   "execution_count": 14,
   "metadata": {
    "scrolled": true
   },
   "outputs": [
    {
     "data": {
      "text/html": [
       "<table>\n",
       "<thead><tr><th scope=col>ID</th><th scope=col>Target</th></tr></thead>\n",
       "<tbody>\n",
       "\t<tr><td>2018_1260_1305</td><td>1             </td></tr>\n",
       "\t<tr><td>2016_1320_1400</td><td>1             </td></tr>\n",
       "\t<tr><td>2017_1124_1308</td><td>1             </td></tr>\n",
       "\t<tr><td>2015_1181_1352</td><td>1             </td></tr>\n",
       "\t<tr><td>2017_1268_1462</td><td>0             </td></tr>\n",
       "</tbody>\n",
       "</table>\n"
      ],
      "text/latex": [
       "\\begin{tabular}{r|ll}\n",
       " ID & Target\\\\\n",
       "\\hline\n",
       "\t 2018\\_1260\\_1305 & 1                 \\\\\n",
       "\t 2016\\_1320\\_1400 & 1                 \\\\\n",
       "\t 2017\\_1124\\_1308 & 1                 \\\\\n",
       "\t 2015\\_1181\\_1352 & 1                 \\\\\n",
       "\t 2017\\_1268\\_1462 & 0                 \\\\\n",
       "\\end{tabular}\n"
      ],
      "text/markdown": [
       "\n",
       "| ID | Target |\n",
       "|---|---|\n",
       "| 2018_1260_1305 | 1              |\n",
       "| 2016_1320_1400 | 1              |\n",
       "| 2017_1124_1308 | 1              |\n",
       "| 2015_1181_1352 | 1              |\n",
       "| 2017_1268_1462 | 0              |\n",
       "\n"
      ],
      "text/plain": [
       "  ID             Target\n",
       "1 2018_1260_1305 1     \n",
       "2 2016_1320_1400 1     \n",
       "3 2017_1124_1308 1     \n",
       "4 2015_1181_1352 1     \n",
       "5 2017_1268_1462 0     "
      ]
     },
     "metadata": {},
     "output_type": "display_data"
    }
   ],
   "source": [
    "# compute the Truth \n",
    "data.tourney %>% \n",
    "    select(Season,WTeamID,LTeamID) %>% \n",
    "    mutate(TeamID.1=ifelse(WTeamID<LTeamID,WTeamID,LTeamID),\n",
    "           TeamID.2=ifelse(WTeamID>LTeamID,WTeamID,LTeamID)) %>%\n",
    "    mutate(ID=str_c(Season,'_',TeamID.1,'_',TeamID.2)) %>% \n",
    "    mutate(Target=ifelse(WTeamID==TeamID.1,1,0)) %>% \n",
    "    select(ID,Target) -> df.truth\n",
    "df.truth %>% sample_n(5)"
   ]
  },
  {
   "cell_type": "code",
   "execution_count": 15,
   "metadata": {},
   "outputs": [
    {
     "data": {
      "text/html": [
       "<table>\n",
       "<thead><tr><th scope=col>Season</th><th scope=col>qtl</th><th scope=col>Slope</th></tr></thead>\n",
       "<tbody>\n",
       "\t<tr><td>2016     </td><td>0.50     </td><td>0.2967359</td></tr>\n",
       "\t<tr><td>2015     </td><td>0.50     </td><td>0.1882648</td></tr>\n",
       "\t<tr><td>2014     </td><td>0.37     </td><td>0.2331020</td></tr>\n",
       "\t<tr><td>2014     </td><td>0.41     </td><td>0.2424752</td></tr>\n",
       "\t<tr><td>2016     </td><td>0.55     </td><td>0.3190980</td></tr>\n",
       "</tbody>\n",
       "</table>\n"
      ],
      "text/latex": [
       "\\begin{tabular}{r|lll}\n",
       " Season & qtl & Slope\\\\\n",
       "\\hline\n",
       "\t 2016      & 0.50      & 0.2967359\\\\\n",
       "\t 2015      & 0.50      & 0.1882648\\\\\n",
       "\t 2014      & 0.37      & 0.2331020\\\\\n",
       "\t 2014      & 0.41      & 0.2424752\\\\\n",
       "\t 2016      & 0.55      & 0.3190980\\\\\n",
       "\\end{tabular}\n"
      ],
      "text/markdown": [
       "\n",
       "| Season | qtl | Slope |\n",
       "|---|---|---|\n",
       "| 2016      | 0.50      | 0.2967359 |\n",
       "| 2015      | 0.50      | 0.1882648 |\n",
       "| 2014      | 0.37      | 0.2331020 |\n",
       "| 2014      | 0.41      | 0.2424752 |\n",
       "| 2016      | 0.55      | 0.3190980 |\n",
       "\n"
      ],
      "text/plain": [
       "  Season qtl  Slope    \n",
       "1 2016   0.50 0.2967359\n",
       "2 2015   0.50 0.1882648\n",
       "3 2014   0.37 0.2331020\n",
       "4 2014   0.41 0.2424752\n",
       "5 2016   0.55 0.3190980"
      ]
     },
     "metadata": {},
     "output_type": "display_data"
    }
   ],
   "source": [
    "# slope hyper parameter grid : we will compute 51 models and chose the best one (min logloss)\n",
    "df.sagarin %>% \n",
    "    mutate(dummy=1) %>% \n",
    "    inner_join(data.frame(qtl=seq(0.25,0.75,0.01),dummy=1),by='dummy') %>% \n",
    "    select(-dummy) %>% \n",
    "    group_by(qtl,Season) %>% \n",
    "    mutate(thres=max(Predictor)-quantile(Predictor,max(qtl)),Slope=3/thres) %>%\n",
    "    ungroup %>% \n",
    "    select(Season,qtl,Slope) %>% \n",
    "    distinct() -> df.sagarin.slopes\n",
    "df.sagarin.slopes %>% sample_n(5)"
   ]
  },
  {
   "cell_type": "code",
   "execution_count": 16,
   "metadata": {},
   "outputs": [
    {
     "data": {
      "text/html": [
       "<table>\n",
       "<thead><tr><th scope=col>Season</th><th scope=col>TeamID.x</th><th scope=col>Predictor.x</th><th scope=col>TeamID.y</th><th scope=col>Predictor.y</th></tr></thead>\n",
       "<tbody>\n",
       "\t<tr><td>2016 </td><td>1214 </td><td>67.04</td><td>1437 </td><td>94.00</td></tr>\n",
       "\t<tr><td>2014 </td><td>1153 </td><td>85.84</td><td>1387 </td><td>83.48</td></tr>\n",
       "\t<tr><td>2018 </td><td>1222 </td><td>85.57</td><td>1411 </td><td>66.08</td></tr>\n",
       "\t<tr><td>2016 </td><td>1211 </td><td>87.67</td><td>1425 </td><td>82.25</td></tr>\n",
       "\t<tr><td>2014 </td><td>1140 </td><td>82.12</td><td>1326 </td><td>88.42</td></tr>\n",
       "</tbody>\n",
       "</table>\n"
      ],
      "text/latex": [
       "\\begin{tabular}{r|lllll}\n",
       " Season & TeamID.x & Predictor.x & TeamID.y & Predictor.y\\\\\n",
       "\\hline\n",
       "\t 2016  & 1214  & 67.04 & 1437  & 94.00\\\\\n",
       "\t 2014  & 1153  & 85.84 & 1387  & 83.48\\\\\n",
       "\t 2018  & 1222  & 85.57 & 1411  & 66.08\\\\\n",
       "\t 2016  & 1211  & 87.67 & 1425  & 82.25\\\\\n",
       "\t 2014  & 1140  & 82.12 & 1326  & 88.42\\\\\n",
       "\\end{tabular}\n"
      ],
      "text/markdown": [
       "\n",
       "| Season | TeamID.x | Predictor.x | TeamID.y | Predictor.y |\n",
       "|---|---|---|---|---|\n",
       "| 2016  | 1214  | 67.04 | 1437  | 94.00 |\n",
       "| 2014  | 1153  | 85.84 | 1387  | 83.48 |\n",
       "| 2018  | 1222  | 85.57 | 1411  | 66.08 |\n",
       "| 2016  | 1211  | 87.67 | 1425  | 82.25 |\n",
       "| 2014  | 1140  | 82.12 | 1326  | 88.42 |\n",
       "\n"
      ],
      "text/plain": [
       "  Season TeamID.x Predictor.x TeamID.y Predictor.y\n",
       "1 2016   1214     67.04       1437     94.00      \n",
       "2 2014   1153     85.84       1387     83.48      \n",
       "3 2018   1222     85.57       1411     66.08      \n",
       "4 2016   1211     87.67       1425     82.25      \n",
       "5 2014   1140     82.12       1326     88.42      "
      ]
     },
     "metadata": {},
     "output_type": "display_data"
    }
   ],
   "source": [
    "# matchups dataframe : all the possible matches between the 68 teams per Season \n",
    "df.sagarin %>% \n",
    "    inner_join(df.sagarin,by='Season') %>% \n",
    "    filter(TeamID.x < TeamID.y) -> df.matchup\n",
    "df.matchup %>% sample_n(5)"
   ]
  },
  {
   "cell_type": "code",
   "execution_count": 17,
   "metadata": {},
   "outputs": [
    {
     "data": {
      "text/html": [
       "<table>\n",
       "<thead><tr><th scope=col>Season</th><th scope=col>TeamID.x</th><th scope=col>Predictor.x</th><th scope=col>TeamID.y</th><th scope=col>Predictor.y</th><th scope=col>qtl</th><th scope=col>Slope</th></tr></thead>\n",
       "<tbody>\n",
       "\t<tr><td>2015     </td><td>1268     </td><td>83.71    </td><td>1316     </td><td>73.21    </td><td>0.47     </td><td>0.1844996</td></tr>\n",
       "\t<tr><td>2016     </td><td>1276     </td><td>83.57    </td><td>1332     </td><td>88.47    </td><td>0.59     </td><td>0.3387610</td></tr>\n",
       "\t<tr><td>2017     </td><td>1233     </td><td>73.54    </td><td>1438     </td><td>89.61    </td><td>0.75     </td><td>0.5597015</td></tr>\n",
       "\t<tr><td>2018     </td><td>1267     </td><td>75.80    </td><td>1345     </td><td>91.66    </td><td>0.33     </td><td>0.2051114</td></tr>\n",
       "\t<tr><td>2015     </td><td>1207     </td><td>85.86    </td><td>1459     </td><td>76.90    </td><td>0.42     </td><td>0.1774791</td></tr>\n",
       "</tbody>\n",
       "</table>\n"
      ],
      "text/latex": [
       "\\begin{tabular}{r|lllllll}\n",
       " Season & TeamID.x & Predictor.x & TeamID.y & Predictor.y & qtl & Slope\\\\\n",
       "\\hline\n",
       "\t 2015      & 1268      & 83.71     & 1316      & 73.21     & 0.47      & 0.1844996\\\\\n",
       "\t 2016      & 1276      & 83.57     & 1332      & 88.47     & 0.59      & 0.3387610\\\\\n",
       "\t 2017      & 1233      & 73.54     & 1438      & 89.61     & 0.75      & 0.5597015\\\\\n",
       "\t 2018      & 1267      & 75.80     & 1345      & 91.66     & 0.33      & 0.2051114\\\\\n",
       "\t 2015      & 1207      & 85.86     & 1459      & 76.90     & 0.42      & 0.1774791\\\\\n",
       "\\end{tabular}\n"
      ],
      "text/markdown": [
       "\n",
       "| Season | TeamID.x | Predictor.x | TeamID.y | Predictor.y | qtl | Slope |\n",
       "|---|---|---|---|---|---|---|\n",
       "| 2015      | 1268      | 83.71     | 1316      | 73.21     | 0.47      | 0.1844996 |\n",
       "| 2016      | 1276      | 83.57     | 1332      | 88.47     | 0.59      | 0.3387610 |\n",
       "| 2017      | 1233      | 73.54     | 1438      | 89.61     | 0.75      | 0.5597015 |\n",
       "| 2018      | 1267      | 75.80     | 1345      | 91.66     | 0.33      | 0.2051114 |\n",
       "| 2015      | 1207      | 85.86     | 1459      | 76.90     | 0.42      | 0.1774791 |\n",
       "\n"
      ],
      "text/plain": [
       "  Season TeamID.x Predictor.x TeamID.y Predictor.y qtl  Slope    \n",
       "1 2015   1268     83.71       1316     73.21       0.47 0.1844996\n",
       "2 2016   1276     83.57       1332     88.47       0.59 0.3387610\n",
       "3 2017   1233     73.54       1438     89.61       0.75 0.5597015\n",
       "4 2018   1267     75.80       1345     91.66       0.33 0.2051114\n",
       "5 2015   1207     85.86       1459     76.90       0.42 0.1774791"
      ]
     },
     "metadata": {},
     "output_type": "display_data"
    }
   ],
   "source": [
    "# all matchs with all 51 hyper parameter setting (qtl=[0.25,0.75]) \n",
    "df.matchup %>% inner_join(df.sagarin.slopes,by=c('Season')) -> df.matchup\n",
    "df.matchup %>% sample_n(5)"
   ]
  },
  {
   "cell_type": "code",
   "execution_count": 18,
   "metadata": {},
   "outputs": [
    {
     "data": {
      "text/html": [
       "<table>\n",
       "<thead><tr><th scope=col>qtl</th><th scope=col>ID</th><th scope=col>Pred</th><th scope=col>Prob</th></tr></thead>\n",
       "<tbody>\n",
       "\t<tr><td>0.44          </td><td>2018_1166_1437</td><td>0             </td><td>0.073         </td></tr>\n",
       "\t<tr><td>0.71          </td><td>2016_1163_1355</td><td>1             </td><td>0.950         </td></tr>\n",
       "\t<tr><td>0.30          </td><td>2014_1300_1444</td><td>1             </td><td>0.727         </td></tr>\n",
       "\t<tr><td>0.28          </td><td>2014_1142_1459</td><td>1             </td><td>0.540         </td></tr>\n",
       "\t<tr><td>0.42          </td><td>2016_1234_1425</td><td>1             </td><td>0.792         </td></tr>\n",
       "</tbody>\n",
       "</table>\n"
      ],
      "text/latex": [
       "\\begin{tabular}{r|llll}\n",
       " qtl & ID & Pred & Prob\\\\\n",
       "\\hline\n",
       "\t 0.44               & 2018\\_1166\\_1437 & 0                  & 0.073             \\\\\n",
       "\t 0.71               & 2016\\_1163\\_1355 & 1                  & 0.950             \\\\\n",
       "\t 0.30               & 2014\\_1300\\_1444 & 1                  & 0.727             \\\\\n",
       "\t 0.28               & 2014\\_1142\\_1459 & 1                  & 0.540             \\\\\n",
       "\t 0.42               & 2016\\_1234\\_1425 & 1                  & 0.792             \\\\\n",
       "\\end{tabular}\n"
      ],
      "text/markdown": [
       "\n",
       "| qtl | ID | Pred | Prob |\n",
       "|---|---|---|---|\n",
       "| 0.44           | 2018_1166_1437 | 0              | 0.073          |\n",
       "| 0.71           | 2016_1163_1355 | 1              | 0.950          |\n",
       "| 0.30           | 2014_1300_1444 | 1              | 0.727          |\n",
       "| 0.28           | 2014_1142_1459 | 1              | 0.540          |\n",
       "| 0.42           | 2016_1234_1425 | 1              | 0.792          |\n",
       "\n"
      ],
      "text/plain": [
       "  qtl  ID             Pred Prob \n",
       "1 0.44 2018_1166_1437 0    0.073\n",
       "2 0.71 2016_1163_1355 1    0.950\n",
       "3 0.30 2014_1300_1444 1    0.727\n",
       "4 0.28 2014_1142_1459 1    0.540\n",
       "5 0.42 2016_1234_1425 1    0.792"
      ]
     },
     "metadata": {},
     "output_type": "display_data"
    }
   ],
   "source": [
    "# machups predictions : compute the winning probability of TeamID.x and cap it into [0.05,0.95] to avoid too much logloss is case of FP or FN \n",
    "df.matchup %>% \n",
    "    mutate(ID=str_c(Season,'_',TeamID.x,'_',TeamID.y)) %>% \n",
    "    mutate(Prob=logistic(Predictor.x-Predictor.y,a=Slope)) %>% \n",
    "    mutate(Pred=ifelse(Prob>0.5,1,0)) %>% \n",
    "    mutate(Prob=round(Prob,3)) %>%\n",
    "    mutate_which(Prob>0.95,Prob=0.95) %>%\n",
    "    mutate_which(Prob<0.05,Prob=0.05) %>%\n",
    "    select(qtl,ID,Pred,Prob) -> df.submit\n",
    "df.submit %>% sample_n(5)"
   ]
  },
  {
   "cell_type": "code",
   "execution_count": 19,
   "metadata": {},
   "outputs": [],
   "source": [
    "# merge prediction and truth\n",
    "df.truth %>% inner_join(df.submit,by='ID') -> df.results"
   ]
  },
  {
   "cell_type": "code",
   "execution_count": 20,
   "metadata": {},
   "outputs": [
    {
     "data": {
      "text/html": [
       "<table>\n",
       "<thead><tr><th scope=col>qtl</th><th scope=col>TC</th><th scope=col>FC</th><th scope=col>N</th><th scope=col>Acc</th><th scope=col>LogLoss</th></tr></thead>\n",
       "<tbody>\n",
       "\t<tr><td>0.31     </td><td>253      </td><td>82       </td><td>335      </td><td>0.7552239</td><td>0.4925257</td></tr>\n",
       "\t<tr><td>0.32     </td><td>253      </td><td>82       </td><td>335      </td><td>0.7552239</td><td>0.4926244</td></tr>\n",
       "\t<tr><td>0.33     </td><td>253      </td><td>82       </td><td>335      </td><td>0.7552239</td><td>0.4927860</td></tr>\n",
       "\t<tr><td>0.30     </td><td>253      </td><td>82       </td><td>335      </td><td>0.7552239</td><td>0.4927970</td></tr>\n",
       "\t<tr><td>0.34     </td><td>253      </td><td>82       </td><td>335      </td><td>0.7552239</td><td>0.4930503</td></tr>\n",
       "</tbody>\n",
       "</table>\n"
      ],
      "text/latex": [
       "\\begin{tabular}{r|llllll}\n",
       " qtl & TC & FC & N & Acc & LogLoss\\\\\n",
       "\\hline\n",
       "\t 0.31      & 253       & 82        & 335       & 0.7552239 & 0.4925257\\\\\n",
       "\t 0.32      & 253       & 82        & 335       & 0.7552239 & 0.4926244\\\\\n",
       "\t 0.33      & 253       & 82        & 335       & 0.7552239 & 0.4927860\\\\\n",
       "\t 0.30      & 253       & 82        & 335       & 0.7552239 & 0.4927970\\\\\n",
       "\t 0.34      & 253       & 82        & 335       & 0.7552239 & 0.4930503\\\\\n",
       "\\end{tabular}\n"
      ],
      "text/markdown": [
       "\n",
       "| qtl | TC | FC | N | Acc | LogLoss |\n",
       "|---|---|---|---|---|---|\n",
       "| 0.31      | 253       | 82        | 335       | 0.7552239 | 0.4925257 |\n",
       "| 0.32      | 253       | 82        | 335       | 0.7552239 | 0.4926244 |\n",
       "| 0.33      | 253       | 82        | 335       | 0.7552239 | 0.4927860 |\n",
       "| 0.30      | 253       | 82        | 335       | 0.7552239 | 0.4927970 |\n",
       "| 0.34      | 253       | 82        | 335       | 0.7552239 | 0.4930503 |\n",
       "\n"
      ],
      "text/plain": [
       "  qtl  TC  FC N   Acc       LogLoss  \n",
       "1 0.31 253 82 335 0.7552239 0.4925257\n",
       "2 0.32 253 82 335 0.7552239 0.4926244\n",
       "3 0.33 253 82 335 0.7552239 0.4927860\n",
       "4 0.30 253 82 335 0.7552239 0.4927970\n",
       "5 0.34 253 82 335 0.7552239 0.4930503"
      ]
     },
     "metadata": {},
     "output_type": "display_data"
    }
   ],
   "source": [
    "# compute accuracy & Logloss per qtl to find the best one\n",
    "df.results %>% \n",
    "    mutate(OK=ifelse(Pred==Target,1,0)) %>%\n",
    "    mutate(LogLoss=Target*log(Prob) + (1-Target)*log(1-Prob)) %>%\n",
    "    group_by(qtl) %>%\n",
    "    summarise(TC=sum(OK),N=n(),FC=N-TC,Acc=TC/N,LogLoss=-mean(LogLoss)) %>%\n",
    "    select(qtl,TC,FC,N,Acc,LogLoss) -> df.results.perf\n",
    "df.results.perf %>% arrange(LogLoss) %>% head(5)"
   ]
  },
  {
   "cell_type": "code",
   "execution_count": 21,
   "metadata": {},
   "outputs": [],
   "source": [
    "# store the best qtl\n",
    "df.results.perf %>% \n",
    "    arrange(LogLoss) %>% \n",
    "    head(1) %>% pull(qtl) -> bestqtl"
   ]
  },
  {
   "cell_type": "code",
   "execution_count": 22,
   "metadata": {},
   "outputs": [],
   "source": [
    "# save the best results for kaggle submission\n",
    "df.submit %>% \n",
    "    filter(qtl==bestqtl) %>% \n",
    "    select(ID,Pred=Prob) %>% \n",
    "    write.csv('predictions/Pred_Sagarin_bestqtl.csv',quote=F,row.names=F)"
   ]
  },
  {
   "cell_type": "code",
   "execution_count": 24,
   "metadata": {},
   "outputs": [],
   "source": [
    "# save best model for mix\n",
    "df.submit %>%\n",
    "    filter(qtl==bestqtl) %>% \n",
    "    saveRDS('predictions/Sagarin_bestqtl.rds')    "
   ]
  },
  {
   "cell_type": "code",
   "execution_count": null,
   "metadata": {},
   "outputs": [],
   "source": []
  }
 ],
 "metadata": {
  "kernelspec": {
   "display_name": "R 3.5.0",
   "language": "R",
   "name": "ir35"
  },
  "language_info": {
   "codemirror_mode": "r",
   "file_extension": ".r",
   "mimetype": "text/x-r-source",
   "name": "R",
   "pygments_lexer": "r",
   "version": "3.5.1"
  }
 },
 "nbformat": 4,
 "nbformat_minor": 2
}
