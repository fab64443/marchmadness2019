{
 "cells": [
  {
   "cell_type": "code",
   "execution_count": 1,
   "metadata": {},
   "outputs": [],
   "source": [
    "# Load required packages\n",
    "library(dplyr,warn.conflicts=F)\n",
    "library(stringr,warn.conflicts=F)\n",
    "library(psych,warn.conflicts=F)\n",
    "library(lplyr,warn.conflicts=F)"
   ]
  },
  {
   "cell_type": "code",
   "execution_count": 2,
   "metadata": {},
   "outputs": [],
   "source": [
    "# load the stats\n",
    "data.tourney <- readRDS('datafiles_rds/NCAATourneyDetailedResults.rds')\n",
    "# keep 2014+\n",
    "data.tourney %>% filter(Season>2013) -> data.tourney"
   ]
  },
  {
   "cell_type": "code",
   "execution_count": 3,
   "metadata": {},
   "outputs": [],
   "source": [
    "# store 68 tourney teams \n",
    "data.tourney %>% \n",
    "    select(Season,TeamID=WTeamID) %>% \n",
    "    bind_rows(data.tourney %>% \n",
    "              select(Season,TeamID=LTeamID)) %>% \n",
    "    distinct(Season,TeamID) -> df.tourneyteams"
   ]
  },
  {
   "cell_type": "code",
   "execution_count": 4,
   "metadata": {
    "scrolled": true
   },
   "outputs": [
    {
     "data": {
      "text/html": [
       "<table>\n",
       "<thead><tr><th scope=col>SEASON</th><th scope=col>RANK</th><th scope=col>TEAMS</th><th scope=col>RATING</th><th scope=col>RECORD</th><th scope=col>CONFERENCE</th></tr></thead>\n",
       "<tbody>\n",
       "\t<tr><td>2018          </td><td>1             </td><td>Villanova     </td><td>91.112        </td><td>36-4          </td><td>Big East      </td></tr>\n",
       "\t<tr><td>2018          </td><td>2             </td><td>Michigan      </td><td>87.017        </td><td>33-8          </td><td>Big Ten       </td></tr>\n",
       "\t<tr><td>2018          </td><td>3             </td><td>Duke          </td><td>83.639        </td><td>29-8          </td><td>ACC           </td></tr>\n",
       "\t<tr><td>2018          </td><td>4             </td><td>Kansas        </td><td>82.436        </td><td>31-8          </td><td>Big 12        </td></tr>\n",
       "\t<tr><td>2018          </td><td>5             </td><td>Michigan State</td><td>80.526        </td><td>30-5          </td><td>Big Ten       </td></tr>\n",
       "\t<tr><td>2018          </td><td>6             </td><td>Cincinnati    </td><td>80.504        </td><td>31-5          </td><td>American      </td></tr>\n",
       "</tbody>\n",
       "</table>\n"
      ],
      "text/latex": [
       "\\begin{tabular}{r|llllll}\n",
       " SEASON & RANK & TEAMS & RATING & RECORD & CONFERENCE\\\\\n",
       "\\hline\n",
       "\t 2018           & 1              & Villanova      & 91.112         & 36-4           & Big East      \\\\\n",
       "\t 2018           & 2              & Michigan       & 87.017         & 33-8           & Big Ten       \\\\\n",
       "\t 2018           & 3              & Duke           & 83.639         & 29-8           & ACC           \\\\\n",
       "\t 2018           & 4              & Kansas         & 82.436         & 31-8           & Big 12        \\\\\n",
       "\t 2018           & 5              & Michigan State & 80.526         & 30-5           & Big Ten       \\\\\n",
       "\t 2018           & 6              & Cincinnati     & 80.504         & 31-5           & American      \\\\\n",
       "\\end{tabular}\n"
      ],
      "text/markdown": [
       "\n",
       "| SEASON | RANK | TEAMS | RATING | RECORD | CONFERENCE |\n",
       "|---|---|---|---|---|---|\n",
       "| 2018           | 1              | Villanova      | 91.112         | 36-4           | Big East       |\n",
       "| 2018           | 2              | Michigan       | 87.017         | 33-8           | Big Ten        |\n",
       "| 2018           | 3              | Duke           | 83.639         | 29-8           | ACC            |\n",
       "| 2018           | 4              | Kansas         | 82.436         | 31-8           | Big 12         |\n",
       "| 2018           | 5              | Michigan State | 80.526         | 30-5           | Big Ten        |\n",
       "| 2018           | 6              | Cincinnati     | 80.504         | 31-5           | American       |\n",
       "\n"
      ],
      "text/plain": [
       "  SEASON RANK TEAMS          RATING RECORD CONFERENCE\n",
       "1 2018   1    Villanova      91.112 36-4   Big East  \n",
       "2 2018   2    Michigan       87.017 33-8   Big Ten   \n",
       "3 2018   3    Duke           83.639 29-8   ACC       \n",
       "4 2018   4    Kansas         82.436 31-8   Big 12    \n",
       "5 2018   5    Michigan State 80.526 30-5   Big Ten   \n",
       "6 2018   6    Cincinnati     80.504 31-5   American  "
      ]
     },
     "metadata": {},
     "output_type": "display_data"
    }
   ],
   "source": [
    "# DunkleIndex Rating 2014+\n",
    "# http://dunkelindex.com/rankings/basketball/ncaa/\n",
    "data.dunkle <- read.csv('datafiles_csv/DunkelIndex.csv',stringsAsFactors=F)\n",
    "data.dunkle %>% head"
   ]
  },
  {
   "cell_type": "code",
   "execution_count": 5,
   "metadata": {},
   "outputs": [],
   "source": [
    "data.dunkle %>% rename(Season=SEASON,\n",
    "                       Rank=RANK,\n",
    "                       Name=TEAMS,\n",
    "                       Rating=RATING,\n",
    "                       Record=RECORD,\n",
    "                       Conference=CONFERENCE) -> data.dunkle"
   ]
  },
  {
   "cell_type": "code",
   "execution_count": 6,
   "metadata": {},
   "outputs": [],
   "source": [
    "# load team spellings variations\n",
    "data.teamspellings <- readRDS('datafiles_rds/TeamSpellings.rds')\n",
    "data.teams <- readRDS('datafiles_rds/Teams.rds')"
   ]
  },
  {
   "cell_type": "code",
   "execution_count": 7,
   "metadata": {},
   "outputs": [],
   "source": [
    "# add TeamID based on team name\n",
    "data.dunkle %>% \n",
    "    mutate(LowName=str_to_lower(Name)) %>% \n",
    "    left_join(data.teamspellings,by=c('LowName'='TeamNameSpelling')) -> df.dunkle"
   ]
  },
  {
   "cell_type": "code",
   "execution_count": 8,
   "metadata": {},
   "outputs": [
    {
     "data": {
      "text/html": [
       "<table>\n",
       "<thead><tr><th scope=col>Season</th><th scope=col>Rank</th><th scope=col>Name</th><th scope=col>Rating</th><th scope=col>Record</th><th scope=col>Conference</th></tr></thead>\n",
       "<tbody>\n",
       "\t<tr><td>2018            </td><td>150             </td><td>East. Washington</td><td>56.265          </td><td>20-15           </td><td>Big Sky         </td></tr>\n",
       "\t<tr><td>2017            </td><td>174             </td><td>East Washington </td><td>53.600          </td><td>22-12           </td><td>Big Sky         </td></tr>\n",
       "\t<tr><td>2016            </td><td>199             </td><td>East. Washington</td><td>50.250          </td><td>18-16           </td><td>Big Sky         </td></tr>\n",
       "\t<tr><td>2015            </td><td>123             </td><td>East. Washington</td><td>58.154          </td><td>26-9            </td><td>Big Sky         </td></tr>\n",
       "\t<tr><td>2014            </td><td>209             </td><td>East. Washington</td><td>50.047          </td><td>15-16           </td><td>Big Sky         </td></tr>\n",
       "</tbody>\n",
       "</table>\n"
      ],
      "text/latex": [
       "\\begin{tabular}{r|llllll}\n",
       " Season & Rank & Name & Rating & Record & Conference\\\\\n",
       "\\hline\n",
       "\t 2018             & 150              & East. Washington & 56.265           & 20-15            & Big Sky         \\\\\n",
       "\t 2017             & 174              & East Washington  & 53.600           & 22-12            & Big Sky         \\\\\n",
       "\t 2016             & 199              & East. Washington & 50.250           & 18-16            & Big Sky         \\\\\n",
       "\t 2015             & 123              & East. Washington & 58.154           & 26-9             & Big Sky         \\\\\n",
       "\t 2014             & 209              & East. Washington & 50.047           & 15-16            & Big Sky         \\\\\n",
       "\\end{tabular}\n"
      ],
      "text/markdown": [
       "\n",
       "| Season | Rank | Name | Rating | Record | Conference |\n",
       "|---|---|---|---|---|---|\n",
       "| 2018             | 150              | East. Washington | 56.265           | 20-15            | Big Sky          |\n",
       "| 2017             | 174              | East Washington  | 53.600           | 22-12            | Big Sky          |\n",
       "| 2016             | 199              | East. Washington | 50.250           | 18-16            | Big Sky          |\n",
       "| 2015             | 123              | East. Washington | 58.154           | 26-9             | Big Sky          |\n",
       "| 2014             | 209              | East. Washington | 50.047           | 15-16            | Big Sky          |\n",
       "\n"
      ],
      "text/plain": [
       "  Season Rank Name             Rating Record Conference\n",
       "1 2018   150  East. Washington 56.265 20-15  Big Sky   \n",
       "2 2017   174  East Washington  53.600 22-12  Big Sky   \n",
       "3 2016   199  East. Washington 50.250 18-16  Big Sky   \n",
       "4 2015   123  East. Washington 58.154 26-9   Big Sky   \n",
       "5 2014   209  East. Washington 50.047 15-16  Big Sky   "
      ]
     },
     "metadata": {},
     "output_type": "display_data"
    }
   ],
   "source": [
    "data.dunkle %>% filter(str_detect(Name,'East\\\\.{0,1} Washington'))"
   ]
  },
  {
   "cell_type": "code",
   "execution_count": 9,
   "metadata": {},
   "outputs": [
    {
     "data": {
      "text/html": [
       "<table>\n",
       "<thead><tr><th scope=col>TeamID</th><th scope=col>TeamName</th><th scope=col>FirstD1Season</th><th scope=col>LastD1Season</th></tr></thead>\n",
       "<tbody>\n",
       "\t<tr><td>1114           </td><td>Ark Little Rock</td><td>1985           </td><td>2019           </td></tr>\n",
       "\t<tr><td>1142           </td><td>Cal Poly SLO   </td><td>1995           </td><td>2019           </td></tr>\n",
       "\t<tr><td>1167           </td><td>CS Bakersfield </td><td>2008           </td><td>2019           </td></tr>\n",
       "\t<tr><td>1168           </td><td>CS Fullerton   </td><td>1985           </td><td>2019           </td></tr>\n",
       "\t<tr><td>1186           </td><td>E Washington   </td><td>1985           </td><td>2019           </td></tr>\n",
       "\t<tr><td>1192           </td><td>F Dickinson    </td><td>1985           </td><td>2019           </td></tr>\n",
       "\t<tr><td>1291           </td><td>Mt St Mary's   </td><td>1989           </td><td>2019           </td></tr>\n",
       "\t<tr><td>1385           </td><td>St John's      </td><td>1985           </td><td>2019           </td></tr>\n",
       "\t<tr><td>1386           </td><td>St Joseph's PA </td><td>1985           </td><td>2019           </td></tr>\n",
       "\t<tr><td>1387           </td><td>St Louis       </td><td>1985           </td><td>2019           </td></tr>\n",
       "\t<tr><td>1388           </td><td>St Mary's CA   </td><td>1985           </td><td>2019           </td></tr>\n",
       "\t<tr><td>1418           </td><td>ULL            </td><td>1985           </td><td>2019           </td></tr>\n",
       "\t<tr><td>1420           </td><td>UMBC           </td><td>1987           </td><td>2019           </td></tr>\n",
       "\t<tr><td>1422           </td><td>UNC Greensboro </td><td>1992           </td><td>2019           </td></tr>\n",
       "\t<tr><td>1423           </td><td>UNC Wilmington </td><td>1985           </td><td>2019           </td></tr>\n",
       "\t<tr><td>1453           </td><td>WI Green Bay   </td><td>1985           </td><td>2019           </td></tr>\n",
       "\t<tr><td>1454           </td><td>WI Milwaukee   </td><td>1991           </td><td>2019           </td></tr>\n",
       "</tbody>\n",
       "</table>\n"
      ],
      "text/latex": [
       "\\begin{tabular}{r|llll}\n",
       " TeamID & TeamName & FirstD1Season & LastD1Season\\\\\n",
       "\\hline\n",
       "\t 1114            & Ark Little Rock & 1985            & 2019           \\\\\n",
       "\t 1142            & Cal Poly SLO    & 1995            & 2019           \\\\\n",
       "\t 1167            & CS Bakersfield  & 2008            & 2019           \\\\\n",
       "\t 1168            & CS Fullerton    & 1985            & 2019           \\\\\n",
       "\t 1186            & E Washington    & 1985            & 2019           \\\\\n",
       "\t 1192            & F Dickinson     & 1985            & 2019           \\\\\n",
       "\t 1291            & Mt St Mary's    & 1989            & 2019           \\\\\n",
       "\t 1385            & St John's       & 1985            & 2019           \\\\\n",
       "\t 1386            & St Joseph's PA  & 1985            & 2019           \\\\\n",
       "\t 1387            & St Louis        & 1985            & 2019           \\\\\n",
       "\t 1388            & St Mary's CA    & 1985            & 2019           \\\\\n",
       "\t 1418            & ULL             & 1985            & 2019           \\\\\n",
       "\t 1420            & UMBC            & 1987            & 2019           \\\\\n",
       "\t 1422            & UNC Greensboro  & 1992            & 2019           \\\\\n",
       "\t 1423            & UNC Wilmington  & 1985            & 2019           \\\\\n",
       "\t 1453            & WI Green Bay    & 1985            & 2019           \\\\\n",
       "\t 1454            & WI Milwaukee    & 1991            & 2019           \\\\\n",
       "\\end{tabular}\n"
      ],
      "text/markdown": [
       "\n",
       "| TeamID | TeamName | FirstD1Season | LastD1Season |\n",
       "|---|---|---|---|\n",
       "| 1114            | Ark Little Rock | 1985            | 2019            |\n",
       "| 1142            | Cal Poly SLO    | 1995            | 2019            |\n",
       "| 1167            | CS Bakersfield  | 2008            | 2019            |\n",
       "| 1168            | CS Fullerton    | 1985            | 2019            |\n",
       "| 1186            | E Washington    | 1985            | 2019            |\n",
       "| 1192            | F Dickinson     | 1985            | 2019            |\n",
       "| 1291            | Mt St Mary's    | 1989            | 2019            |\n",
       "| 1385            | St John's       | 1985            | 2019            |\n",
       "| 1386            | St Joseph's PA  | 1985            | 2019            |\n",
       "| 1387            | St Louis        | 1985            | 2019            |\n",
       "| 1388            | St Mary's CA    | 1985            | 2019            |\n",
       "| 1418            | ULL             | 1985            | 2019            |\n",
       "| 1420            | UMBC            | 1987            | 2019            |\n",
       "| 1422            | UNC Greensboro  | 1992            | 2019            |\n",
       "| 1423            | UNC Wilmington  | 1985            | 2019            |\n",
       "| 1453            | WI Green Bay    | 1985            | 2019            |\n",
       "| 1454            | WI Milwaukee    | 1991            | 2019            |\n",
       "\n"
      ],
      "text/plain": [
       "   TeamID TeamName        FirstD1Season LastD1Season\n",
       "1  1114   Ark Little Rock 1985          2019        \n",
       "2  1142   Cal Poly SLO    1995          2019        \n",
       "3  1167   CS Bakersfield  2008          2019        \n",
       "4  1168   CS Fullerton    1985          2019        \n",
       "5  1186   E Washington    1985          2019        \n",
       "6  1192   F Dickinson     1985          2019        \n",
       "7  1291   Mt St Mary's    1989          2019        \n",
       "8  1385   St John's       1985          2019        \n",
       "9  1386   St Joseph's PA  1985          2019        \n",
       "10 1387   St Louis        1985          2019        \n",
       "11 1388   St Mary's CA    1985          2019        \n",
       "12 1418   ULL             1985          2019        \n",
       "13 1420   UMBC            1987          2019        \n",
       "14 1422   UNC Greensboro  1992          2019        \n",
       "15 1423   UNC Wilmington  1985          2019        \n",
       "16 1453   WI Green Bay    1985          2019        \n",
       "17 1454   WI Milwaukee    1991          2019        "
      ]
     },
     "metadata": {},
     "output_type": "display_data"
    }
   ],
   "source": [
    "# missing tourney team in Dunkle stats (because name misspelling)\n",
    "df.dunkle %>% \n",
    "    right_join(df.tourneyteams,by='TeamID') %>%\n",
    "    filter(is.na(Rank)) %>%\n",
    "    select(TeamID) %>%\n",
    "    inner_join(data.teams,by='TeamID') %>%\n",
    "    distinct() %>%\n",
    "    arrange(TeamID)"
   ]
  },
  {
   "cell_type": "code",
   "execution_count": 10,
   "metadata": {},
   "outputs": [],
   "source": [
    "# add missing TeamID from Sagarin stats\n",
    "df.dunkle %>%\n",
    "    mutate_which(str_detect(Name,'AR-Little Rock'),TeamID=1114) %>%\n",
    "    mutate_which(str_detect(Name,'CalPoly'),TeamID=1142) %>%\n",
    "    mutate_which(str_detect(Name,'CS-Bakersfield'),TeamID=1167) %>%\n",
    "    mutate_which(str_detect(Name,'CS-Fullerton'),TeamID=1168) %>%\n",
    "    mutate_which(str_detect(Name,'East\\\\.{0,1} Washington'),TeamID=1186) %>%\n",
    "    mutate_which(str_detect(Name,'Fair Dickinson'),TeamID=1192) %>%\n",
    "    mutate_which(str_detect(Name,'Mt. St. Mary'),TeamID=1291) %>%\n",
    "    mutate_which(str_detect(Name,'St. John'),TeamID=1385) %>%\n",
    "    mutate_which(str_detect(Name,'St. Louis'),TeamID=1387) %>%\n",
    "    mutate_which(str_detect(Name,'St. Joseph'),TeamID=1386) %>%\n",
    "    mutate_which(str_detect(Name,'^St. Mary'),TeamID=1388) %>%\n",
    "    mutate_which(str_detect(Name,'LA-Lafayette'),TeamID=1418) %>%               # ULL University of Louisiana at Lafayette \n",
    "    mutate_which(str_detect(Name,'MD-Baltimore Co.'),TeamID=1420) %>%  # UMBC University Maryland Baltimore County\n",
    "    mutate_which(str_detect(Name,'UNC-Greensboro'),TeamID=1422) %>%\n",
    "    mutate_which(str_detect(Name,'UNC-Wilmington'),TeamID=1423) %>%\n",
    "    mutate_which(str_detect(Name,'WI-Green Bay'),TeamID=1453) %>%\n",
    "    mutate_which(str_detect(Name,'WI-Milwaukee'),TeamID=1454) -> df.dunkle"
   ]
  },
  {
   "cell_type": "code",
   "execution_count": 11,
   "metadata": {},
   "outputs": [
    {
     "data": {
      "text/html": [
       "<table>\n",
       "<thead><tr><th scope=col>TeamID</th><th scope=col>TeamName</th><th scope=col>FirstD1Season</th><th scope=col>LastD1Season</th></tr></thead>\n",
       "<tbody>\n",
       "</tbody>\n",
       "</table>\n"
      ],
      "text/latex": [
       "\\begin{tabular}{r|llll}\n",
       " TeamID & TeamName & FirstD1Season & LastD1Season\\\\\n",
       "\\hline\n",
       "\\end{tabular}\n"
      ],
      "text/markdown": [
       "\n",
       "| TeamID | TeamName | FirstD1Season | LastD1Season |\n",
       "|---|---|---|---|\n",
       "\n"
      ],
      "text/plain": [
       "     TeamID TeamName FirstD1Season LastD1Season"
      ]
     },
     "metadata": {},
     "output_type": "display_data"
    }
   ],
   "source": [
    "# check if ssomething is still wrong\n",
    "df.dunkle %>% \n",
    "    right_join(df.tourneyteams,by='TeamID') %>%\n",
    "    filter(is.na(Rank)) %>%\n",
    "    select(TeamID) %>%\n",
    "    inner_join(data.teams,by='TeamID') %>%\n",
    "    distinct() %>%\n",
    "    arrange(TeamID)"
   ]
  },
  {
   "cell_type": "code",
   "execution_count": 12,
   "metadata": {},
   "outputs": [],
   "source": [
    "# restrict Dunkle stats to tourney teams\n",
    "df.dunkle %>% \n",
    "    inner_join(df.tourneyteams,by=c('TeamID','Season')) %>%\n",
    "    select(Season,TeamID,Rating) -> df.dunkle"
   ]
  },
  {
   "cell_type": "code",
   "execution_count": 13,
   "metadata": {},
   "outputs": [
    {
     "data": {
      "text/html": [
       "<table>\n",
       "<thead><tr><th scope=col>Season</th><th scope=col>n</th></tr></thead>\n",
       "<tbody>\n",
       "\t<tr><td>2014</td><td>68  </td></tr>\n",
       "\t<tr><td>2015</td><td>68  </td></tr>\n",
       "\t<tr><td>2016</td><td>68  </td></tr>\n",
       "\t<tr><td>2017</td><td>68  </td></tr>\n",
       "\t<tr><td>2018</td><td>68  </td></tr>\n",
       "</tbody>\n",
       "</table>\n"
      ],
      "text/latex": [
       "\\begin{tabular}{r|ll}\n",
       " Season & n\\\\\n",
       "\\hline\n",
       "\t 2014 & 68  \\\\\n",
       "\t 2015 & 68  \\\\\n",
       "\t 2016 & 68  \\\\\n",
       "\t 2017 & 68  \\\\\n",
       "\t 2018 & 68  \\\\\n",
       "\\end{tabular}\n"
      ],
      "text/markdown": [
       "\n",
       "| Season | n |\n",
       "|---|---|\n",
       "| 2014 | 68   |\n",
       "| 2015 | 68   |\n",
       "| 2016 | 68   |\n",
       "| 2017 | 68   |\n",
       "| 2018 | 68   |\n",
       "\n"
      ],
      "text/plain": [
       "  Season n \n",
       "1 2014   68\n",
       "2 2015   68\n",
       "3 2016   68\n",
       "4 2017   68\n",
       "5 2018   68"
      ]
     },
     "metadata": {},
     "output_type": "display_data"
    }
   ],
   "source": [
    "# Check if we have 68 teams per Season\n",
    "df.dunkle %>% \n",
    "    group_by(Season) %>% \n",
    "    count"
   ]
  },
  {
   "cell_type": "code",
   "execution_count": 14,
   "metadata": {},
   "outputs": [
    {
     "data": {
      "text/html": [
       "<table>\n",
       "<thead><tr><th scope=col>Season</th><th scope=col>TeamID</th></tr></thead>\n",
       "<tbody>\n",
       "</tbody>\n",
       "</table>\n"
      ],
      "text/latex": [
       "\\begin{tabular}{r|ll}\n",
       " Season & TeamID\\\\\n",
       "\\hline\n",
       "\\end{tabular}\n"
      ],
      "text/markdown": [
       "\n",
       "| Season | TeamID |\n",
       "|---|---|\n",
       "\n"
      ],
      "text/plain": [
       "     Season TeamID"
      ]
     },
     "metadata": {},
     "output_type": "display_data"
    }
   ],
   "source": [
    "# check missing TeamID per Season \n",
    "df.tourneyteams %>% \n",
    "    anti_join(df.dunkle,by=c('Season','TeamID'))"
   ]
  },
  {
   "cell_type": "code",
   "execution_count": 15,
   "metadata": {
    "scrolled": true
   },
   "outputs": [
    {
     "data": {
      "text/html": [
       "<table>\n",
       "<thead><tr><th scope=col>ID</th><th scope=col>Target</th></tr></thead>\n",
       "<tbody>\n",
       "\t<tr><td>2017_1181_1376</td><td>0             </td></tr>\n",
       "\t<tr><td>2015_1318_1323</td><td>0             </td></tr>\n",
       "\t<tr><td>2017_1266_1376</td><td>0             </td></tr>\n",
       "\t<tr><td>2018_1199_1276</td><td>0             </td></tr>\n",
       "\t<tr><td>2018_1242_1335</td><td>1             </td></tr>\n",
       "</tbody>\n",
       "</table>\n"
      ],
      "text/latex": [
       "\\begin{tabular}{r|ll}\n",
       " ID & Target\\\\\n",
       "\\hline\n",
       "\t 2017\\_1181\\_1376 & 0                 \\\\\n",
       "\t 2015\\_1318\\_1323 & 0                 \\\\\n",
       "\t 2017\\_1266\\_1376 & 0                 \\\\\n",
       "\t 2018\\_1199\\_1276 & 0                 \\\\\n",
       "\t 2018\\_1242\\_1335 & 1                 \\\\\n",
       "\\end{tabular}\n"
      ],
      "text/markdown": [
       "\n",
       "| ID | Target |\n",
       "|---|---|\n",
       "| 2017_1181_1376 | 0              |\n",
       "| 2015_1318_1323 | 0              |\n",
       "| 2017_1266_1376 | 0              |\n",
       "| 2018_1199_1276 | 0              |\n",
       "| 2018_1242_1335 | 1              |\n",
       "\n"
      ],
      "text/plain": [
       "  ID             Target\n",
       "1 2017_1181_1376 0     \n",
       "2 2015_1318_1323 0     \n",
       "3 2017_1266_1376 0     \n",
       "4 2018_1199_1276 0     \n",
       "5 2018_1242_1335 1     "
      ]
     },
     "metadata": {},
     "output_type": "display_data"
    }
   ],
   "source": [
    "# compute the Truth \n",
    "data.tourney %>% \n",
    "    select(Season,WTeamID,LTeamID) %>% \n",
    "    mutate(TeamID.1=ifelse(WTeamID<LTeamID,WTeamID,LTeamID),\n",
    "           TeamID.2=ifelse(WTeamID>LTeamID,WTeamID,LTeamID)) %>%\n",
    "    mutate(ID=str_c(Season,'_',TeamID.1,'_',TeamID.2)) %>% \n",
    "    mutate(Target=ifelse(WTeamID==TeamID.1,1,0)) %>% \n",
    "    select(ID,Target) -> df.truth\n",
    "df.truth %>% sample_n(5)"
   ]
  },
  {
   "cell_type": "code",
   "execution_count": 16,
   "metadata": {},
   "outputs": [
    {
     "data": {
      "text/html": [
       "<table>\n",
       "<thead><tr><th scope=col>Season</th><th scope=col>qtl</th><th scope=col>Slope</th></tr></thead>\n",
       "<tbody>\n",
       "\t<tr><td>2016     </td><td>0.34     </td><td>0.1433764</td></tr>\n",
       "\t<tr><td>2017     </td><td>0.68     </td><td>0.2197989</td></tr>\n",
       "\t<tr><td>2016     </td><td>0.29     </td><td>0.1314816</td></tr>\n",
       "\t<tr><td>2017     </td><td>0.32     </td><td>0.1458273</td></tr>\n",
       "\t<tr><td>2016     </td><td>0.37     </td><td>0.1497153</td></tr>\n",
       "</tbody>\n",
       "</table>\n"
      ],
      "text/latex": [
       "\\begin{tabular}{r|lll}\n",
       " Season & qtl & Slope\\\\\n",
       "\\hline\n",
       "\t 2016      & 0.34      & 0.1433764\\\\\n",
       "\t 2017      & 0.68      & 0.2197989\\\\\n",
       "\t 2016      & 0.29      & 0.1314816\\\\\n",
       "\t 2017      & 0.32      & 0.1458273\\\\\n",
       "\t 2016      & 0.37      & 0.1497153\\\\\n",
       "\\end{tabular}\n"
      ],
      "text/markdown": [
       "\n",
       "| Season | qtl | Slope |\n",
       "|---|---|---|\n",
       "| 2016      | 0.34      | 0.1433764 |\n",
       "| 2017      | 0.68      | 0.2197989 |\n",
       "| 2016      | 0.29      | 0.1314816 |\n",
       "| 2017      | 0.32      | 0.1458273 |\n",
       "| 2016      | 0.37      | 0.1497153 |\n",
       "\n"
      ],
      "text/plain": [
       "  Season qtl  Slope    \n",
       "1 2016   0.34 0.1433764\n",
       "2 2017   0.68 0.2197989\n",
       "3 2016   0.29 0.1314816\n",
       "4 2017   0.32 0.1458273\n",
       "5 2016   0.37 0.1497153"
      ]
     },
     "metadata": {},
     "output_type": "display_data"
    }
   ],
   "source": [
    "# slope hyper parameter grid : we will compute 51 models and chose the best one (min logloss)\n",
    "df.dunkle %>% \n",
    "    mutate(dummy=1) %>% \n",
    "    inner_join(data.frame(qtl=seq(0.25,0.75,0.01),dummy=1),by='dummy') %>% \n",
    "    select(-dummy) %>% \n",
    "    group_by(qtl,Season) %>% \n",
    "    mutate(thres=max(Rating)-quantile(Rating,max(qtl)),Slope=3/thres) %>%\n",
    "    ungroup %>% \n",
    "    select(Season,qtl,Slope) %>% \n",
    "    distinct() -> df.dunkle.slopes\n",
    "df.dunkle.slopes %>% sample_n(5)"
   ]
  },
  {
   "cell_type": "code",
   "execution_count": 17,
   "metadata": {},
   "outputs": [
    {
     "data": {
      "text/html": [
       "<table>\n",
       "<thead><tr><th scope=col>Season</th><th scope=col>TeamID.x</th><th scope=col>Rating.x</th><th scope=col>TeamID.y</th><th scope=col>Rating.y</th></tr></thead>\n",
       "<tbody>\n",
       "\t<tr><td>2016  </td><td>1218  </td><td>71.353</td><td>1323  </td><td>70.691</td></tr>\n",
       "\t<tr><td>2015  </td><td>1217  </td><td>61.999</td><td>1412  </td><td>57.837</td></tr>\n",
       "\t<tr><td>2018  </td><td>1233  </td><td>57.432</td><td>1267  </td><td>67.687</td></tr>\n",
       "\t<tr><td>2018  </td><td>1254  </td><td>50.104</td><td>1301  </td><td>69.511</td></tr>\n",
       "\t<tr><td>2015  </td><td>1139  </td><td>70.833</td><td>1345  </td><td>69.190</td></tr>\n",
       "</tbody>\n",
       "</table>\n"
      ],
      "text/latex": [
       "\\begin{tabular}{r|lllll}\n",
       " Season & TeamID.x & Rating.x & TeamID.y & Rating.y\\\\\n",
       "\\hline\n",
       "\t 2016   & 1218   & 71.353 & 1323   & 70.691\\\\\n",
       "\t 2015   & 1217   & 61.999 & 1412   & 57.837\\\\\n",
       "\t 2018   & 1233   & 57.432 & 1267   & 67.687\\\\\n",
       "\t 2018   & 1254   & 50.104 & 1301   & 69.511\\\\\n",
       "\t 2015   & 1139   & 70.833 & 1345   & 69.190\\\\\n",
       "\\end{tabular}\n"
      ],
      "text/markdown": [
       "\n",
       "| Season | TeamID.x | Rating.x | TeamID.y | Rating.y |\n",
       "|---|---|---|---|---|\n",
       "| 2016   | 1218   | 71.353 | 1323   | 70.691 |\n",
       "| 2015   | 1217   | 61.999 | 1412   | 57.837 |\n",
       "| 2018   | 1233   | 57.432 | 1267   | 67.687 |\n",
       "| 2018   | 1254   | 50.104 | 1301   | 69.511 |\n",
       "| 2015   | 1139   | 70.833 | 1345   | 69.190 |\n",
       "\n"
      ],
      "text/plain": [
       "  Season TeamID.x Rating.x TeamID.y Rating.y\n",
       "1 2016   1218     71.353   1323     70.691  \n",
       "2 2015   1217     61.999   1412     57.837  \n",
       "3 2018   1233     57.432   1267     67.687  \n",
       "4 2018   1254     50.104   1301     69.511  \n",
       "5 2015   1139     70.833   1345     69.190  "
      ]
     },
     "metadata": {},
     "output_type": "display_data"
    }
   ],
   "source": [
    "# matchups dataframe : all the possible matches between the 68 teams per Season \n",
    "df.dunkle %>% \n",
    "    inner_join(df.dunkle,by='Season') %>% \n",
    "    filter(TeamID.x < TeamID.y) -> df.matchup\n",
    "df.matchup %>% sample_n(5)"
   ]
  },
  {
   "cell_type": "code",
   "execution_count": 18,
   "metadata": {},
   "outputs": [
    {
     "data": {
      "text/html": [
       "<table>\n",
       "<thead><tr><th scope=col>Season</th><th scope=col>TeamID.x</th><th scope=col>Rating.x</th><th scope=col>TeamID.y</th><th scope=col>Rating.y</th><th scope=col>qtl</th><th scope=col>Slope</th></tr></thead>\n",
       "<tbody>\n",
       "\t<tr><td>2015     </td><td>1153     </td><td>69.982   </td><td>1328     </td><td>74.804   </td><td>0.34     </td><td>0.1139962</td></tr>\n",
       "\t<tr><td>2015     </td><td>1264     </td><td>58.445   </td><td>1329     </td><td>66.111   </td><td>0.46     </td><td>0.1269047</td></tr>\n",
       "\t<tr><td>2015     </td><td>1153     </td><td>69.982   </td><td>1181     </td><td>88.472   </td><td>0.28     </td><td>0.1079570</td></tr>\n",
       "\t<tr><td>2016     </td><td>1151     </td><td>61.337   </td><td>1233     </td><td>65.154   </td><td>0.47     </td><td>0.1621443</td></tr>\n",
       "\t<tr><td>2016     </td><td>1211     </td><td>80.202   </td><td>1425     </td><td>68.892   </td><td>0.65     </td><td>0.1951594</td></tr>\n",
       "</tbody>\n",
       "</table>\n"
      ],
      "text/latex": [
       "\\begin{tabular}{r|lllllll}\n",
       " Season & TeamID.x & Rating.x & TeamID.y & Rating.y & qtl & Slope\\\\\n",
       "\\hline\n",
       "\t 2015      & 1153      & 69.982    & 1328      & 74.804    & 0.34      & 0.1139962\\\\\n",
       "\t 2015      & 1264      & 58.445    & 1329      & 66.111    & 0.46      & 0.1269047\\\\\n",
       "\t 2015      & 1153      & 69.982    & 1181      & 88.472    & 0.28      & 0.1079570\\\\\n",
       "\t 2016      & 1151      & 61.337    & 1233      & 65.154    & 0.47      & 0.1621443\\\\\n",
       "\t 2016      & 1211      & 80.202    & 1425      & 68.892    & 0.65      & 0.1951594\\\\\n",
       "\\end{tabular}\n"
      ],
      "text/markdown": [
       "\n",
       "| Season | TeamID.x | Rating.x | TeamID.y | Rating.y | qtl | Slope |\n",
       "|---|---|---|---|---|---|---|\n",
       "| 2015      | 1153      | 69.982    | 1328      | 74.804    | 0.34      | 0.1139962 |\n",
       "| 2015      | 1264      | 58.445    | 1329      | 66.111    | 0.46      | 0.1269047 |\n",
       "| 2015      | 1153      | 69.982    | 1181      | 88.472    | 0.28      | 0.1079570 |\n",
       "| 2016      | 1151      | 61.337    | 1233      | 65.154    | 0.47      | 0.1621443 |\n",
       "| 2016      | 1211      | 80.202    | 1425      | 68.892    | 0.65      | 0.1951594 |\n",
       "\n"
      ],
      "text/plain": [
       "  Season TeamID.x Rating.x TeamID.y Rating.y qtl  Slope    \n",
       "1 2015   1153     69.982   1328     74.804   0.34 0.1139962\n",
       "2 2015   1264     58.445   1329     66.111   0.46 0.1269047\n",
       "3 2015   1153     69.982   1181     88.472   0.28 0.1079570\n",
       "4 2016   1151     61.337   1233     65.154   0.47 0.1621443\n",
       "5 2016   1211     80.202   1425     68.892   0.65 0.1951594"
      ]
     },
     "metadata": {},
     "output_type": "display_data"
    }
   ],
   "source": [
    "# all matchs with all 51 hyper parameter setting (qtl=[0.25,0.75]) \n",
    "df.matchup %>% inner_join(df.dunkle.slopes,by=c('Season')) -> df.matchup\n",
    "df.matchup %>% sample_n(5)"
   ]
  },
  {
   "cell_type": "code",
   "execution_count": 19,
   "metadata": {},
   "outputs": [
    {
     "data": {
      "text/html": [
       "<table>\n",
       "<thead><tr><th scope=col>qtl</th><th scope=col>ID</th><th scope=col>Pred</th><th scope=col>Prob</th></tr></thead>\n",
       "<tbody>\n",
       "\t<tr><td>0.31          </td><td>2018_1168_1462</td><td>0             </td><td>0.058         </td></tr>\n",
       "\t<tr><td>0.39          </td><td>2017_1388_1439</td><td>1             </td><td>0.765         </td></tr>\n",
       "\t<tr><td>0.66          </td><td>2014_1181_1329</td><td>1             </td><td>0.681         </td></tr>\n",
       "\t<tr><td>0.53          </td><td>2017_1211_1423</td><td>1             </td><td>0.950         </td></tr>\n",
       "\t<tr><td>0.40          </td><td>2014_1291_1397</td><td>0             </td><td>0.050         </td></tr>\n",
       "</tbody>\n",
       "</table>\n"
      ],
      "text/latex": [
       "\\begin{tabular}{r|llll}\n",
       " qtl & ID & Pred & Prob\\\\\n",
       "\\hline\n",
       "\t 0.31               & 2018\\_1168\\_1462 & 0                  & 0.058             \\\\\n",
       "\t 0.39               & 2017\\_1388\\_1439 & 1                  & 0.765             \\\\\n",
       "\t 0.66               & 2014\\_1181\\_1329 & 1                  & 0.681             \\\\\n",
       "\t 0.53               & 2017\\_1211\\_1423 & 1                  & 0.950             \\\\\n",
       "\t 0.40               & 2014\\_1291\\_1397 & 0                  & 0.050             \\\\\n",
       "\\end{tabular}\n"
      ],
      "text/markdown": [
       "\n",
       "| qtl | ID | Pred | Prob |\n",
       "|---|---|---|---|\n",
       "| 0.31           | 2018_1168_1462 | 0              | 0.058          |\n",
       "| 0.39           | 2017_1388_1439 | 1              | 0.765          |\n",
       "| 0.66           | 2014_1181_1329 | 1              | 0.681          |\n",
       "| 0.53           | 2017_1211_1423 | 1              | 0.950          |\n",
       "| 0.40           | 2014_1291_1397 | 0              | 0.050          |\n",
       "\n"
      ],
      "text/plain": [
       "  qtl  ID             Pred Prob \n",
       "1 0.31 2018_1168_1462 0    0.058\n",
       "2 0.39 2017_1388_1439 1    0.765\n",
       "3 0.66 2014_1181_1329 1    0.681\n",
       "4 0.53 2017_1211_1423 1    0.950\n",
       "5 0.40 2014_1291_1397 0    0.050"
      ]
     },
     "metadata": {},
     "output_type": "display_data"
    }
   ],
   "source": [
    "# machups predictions : compute the winning probability of TeamID.x and cap it into [0.05,0.95] to avoid too much logloss is case of FP or FN \n",
    "df.matchup %>% \n",
    "    mutate(ID=str_c(Season,'_',TeamID.x,'_',TeamID.y)) %>% \n",
    "    mutate(Prob=logistic(Rating.x-Rating.y,a=Slope)) %>% \n",
    "    mutate(Pred=ifelse(Prob>0.5,1,0)) %>% \n",
    "    mutate(Prob=round(Prob,3)) %>%\n",
    "    mutate_which(Prob>0.95,Prob=0.95) %>%\n",
    "    mutate_which(Prob<0.05,Prob=0.05) %>%\n",
    "    select(qtl,ID,Pred,Prob) -> df.submit\n",
    "df.submit %>% sample_n(5)"
   ]
  },
  {
   "cell_type": "code",
   "execution_count": 20,
   "metadata": {},
   "outputs": [],
   "source": [
    "# merge prediction and truth\n",
    "df.truth %>% inner_join(df.submit,by='ID') -> df.results"
   ]
  },
  {
   "cell_type": "code",
   "execution_count": 21,
   "metadata": {},
   "outputs": [
    {
     "data": {
      "text/html": [
       "<table>\n",
       "<thead><tr><th scope=col>qtl</th><th scope=col>TC</th><th scope=col>FC</th><th scope=col>N</th><th scope=col>Acc</th><th scope=col>LogLoss</th></tr></thead>\n",
       "<tbody>\n",
       "\t<tr><td>0.67     </td><td>269      </td><td>66       </td><td>335      </td><td>0.8029851</td><td>0.4503006</td></tr>\n",
       "\t<tr><td>0.66     </td><td>269      </td><td>66       </td><td>335      </td><td>0.8029851</td><td>0.4503205</td></tr>\n",
       "\t<tr><td>0.68     </td><td>269      </td><td>66       </td><td>335      </td><td>0.8029851</td><td>0.4503670</td></tr>\n",
       "\t<tr><td>0.65     </td><td>269      </td><td>66       </td><td>335      </td><td>0.8029851</td><td>0.4503811</td></tr>\n",
       "\t<tr><td>0.63     </td><td>269      </td><td>66       </td><td>335      </td><td>0.8029851</td><td>0.4504738</td></tr>\n",
       "</tbody>\n",
       "</table>\n"
      ],
      "text/latex": [
       "\\begin{tabular}{r|llllll}\n",
       " qtl & TC & FC & N & Acc & LogLoss\\\\\n",
       "\\hline\n",
       "\t 0.67      & 269       & 66        & 335       & 0.8029851 & 0.4503006\\\\\n",
       "\t 0.66      & 269       & 66        & 335       & 0.8029851 & 0.4503205\\\\\n",
       "\t 0.68      & 269       & 66        & 335       & 0.8029851 & 0.4503670\\\\\n",
       "\t 0.65      & 269       & 66        & 335       & 0.8029851 & 0.4503811\\\\\n",
       "\t 0.63      & 269       & 66        & 335       & 0.8029851 & 0.4504738\\\\\n",
       "\\end{tabular}\n"
      ],
      "text/markdown": [
       "\n",
       "| qtl | TC | FC | N | Acc | LogLoss |\n",
       "|---|---|---|---|---|---|\n",
       "| 0.67      | 269       | 66        | 335       | 0.8029851 | 0.4503006 |\n",
       "| 0.66      | 269       | 66        | 335       | 0.8029851 | 0.4503205 |\n",
       "| 0.68      | 269       | 66        | 335       | 0.8029851 | 0.4503670 |\n",
       "| 0.65      | 269       | 66        | 335       | 0.8029851 | 0.4503811 |\n",
       "| 0.63      | 269       | 66        | 335       | 0.8029851 | 0.4504738 |\n",
       "\n"
      ],
      "text/plain": [
       "  qtl  TC  FC N   Acc       LogLoss  \n",
       "1 0.67 269 66 335 0.8029851 0.4503006\n",
       "2 0.66 269 66 335 0.8029851 0.4503205\n",
       "3 0.68 269 66 335 0.8029851 0.4503670\n",
       "4 0.65 269 66 335 0.8029851 0.4503811\n",
       "5 0.63 269 66 335 0.8029851 0.4504738"
      ]
     },
     "metadata": {},
     "output_type": "display_data"
    }
   ],
   "source": [
    "# compute accuracy & Logloss per qtl to find the best one\n",
    "df.results %>% \n",
    "    mutate(OK=ifelse(Pred==Target,1,0)) %>%\n",
    "    mutate(LogLoss=Target*log(Prob) + (1-Target)*log(1-Prob)) %>%\n",
    "    group_by(qtl) %>%\n",
    "    summarise(TC=sum(OK),N=n(),FC=N-TC,Acc=TC/N,LogLoss=-mean(LogLoss)) %>%\n",
    "    select(qtl,TC,FC,N,Acc,LogLoss) -> df.results.perf\n",
    "df.results.perf %>% arrange(LogLoss) %>% head(5)"
   ]
  },
  {
   "cell_type": "code",
   "execution_count": 22,
   "metadata": {},
   "outputs": [],
   "source": [
    "library(ggplot2,warn.conflicts=F)"
   ]
  },
  {
   "cell_type": "code",
   "execution_count": 23,
   "metadata": {},
   "outputs": [
    {
     "data": {
      "image/png": "[encoded data removed]",
      "text/plain": [
       "plot without title"
      ]
     },
     "metadata": {},
     "output_type": "display_data"
    }
   ],
   "source": [
    "options(repr.plot.width=4, repr.plot.height=4)\n",
    "qplot(data=df.results.perf,x=qtl,y=LogLoss)"
   ]
  },
  {
   "cell_type": "code",
   "execution_count": 92,
   "metadata": {},
   "outputs": [],
   "source": [
    "# store the best qtl\n",
    "df.results.perf %>% \n",
    "    arrange(LogLoss) %>% \n",
    "    head(1) %>% pull(qtl) -> bestqtl"
   ]
  },
  {
   "cell_type": "code",
   "execution_count": 93,
   "metadata": {},
   "outputs": [],
   "source": [
    "# save the best results for kaggle submission\n",
    "df.submit %>% \n",
    "    filter(qtl==bestqtl) %>% \n",
    "    select(ID,Pred=Prob) %>% \n",
    "    write.csv('predictions/Pred_Dunkle_bestqtl.csv',quote=F,row.names=F)"
   ]
  },
  {
   "cell_type": "code",
   "execution_count": 97,
   "metadata": {},
   "outputs": [],
   "source": [
    "# save best model for mix\n",
    "df.submit %>%\n",
    "    filter(qtl==bestqtl) %>% \n",
    "    saveRDS('predictions/Dunkle_bestqtl.rds')    "
   ]
  },
  {
   "cell_type": "code",
   "execution_count": null,
   "metadata": {},
   "outputs": [],
   "source": []
  }
 ],
 "metadata": {
  "kernelspec": {
   "display_name": "R 3.5.0",
   "language": "R",
   "name": "ir35"
  },
  "language_info": {
   "codemirror_mode": "r",
   "file_extension": ".r",
   "mimetype": "text/x-r-source",
   "name": "R",
   "pygments_lexer": "r",
   "version": "3.5.1"
  }
 },
 "nbformat": 4,
 "nbformat_minor": 2
}
