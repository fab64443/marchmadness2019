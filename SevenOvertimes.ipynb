{
 "cells": [
  {
   "cell_type": "code",
   "execution_count": 14,
   "metadata": {},
   "outputs": [],
   "source": [
    "# Load required packages\n",
    "library(dplyr,warn.conflicts=F)\n",
    "library(stringr,warn.conflicts=F)\n",
    "library(psych,warn.conflicts=F)\n",
    "library(lplyr,warn.conflicts=F)"
   ]
  },
  {
   "cell_type": "code",
   "execution_count": 15,
   "metadata": {},
   "outputs": [],
   "source": [
    "# load the stats\n",
    "data.tourney <- readRDS('datafiles_rds/NCAATourneyDetailedResults.rds')\n",
    "# keep 2014+\n",
    "data.tourney %>% filter(Season>2013) -> data.tourney"
   ]
  },
  {
   "cell_type": "code",
   "execution_count": 16,
   "metadata": {},
   "outputs": [],
   "source": [
    "# store 68 tourney teams \n",
    "data.tourney %>% \n",
    "    select(Season,TeamID=WTeamID) %>% \n",
    "    bind_rows(data.tourney %>% \n",
    "              select(Season,TeamID=LTeamID)) %>% \n",
    "    distinct(Season,TeamID) -> df.tourneyteams"
   ]
  },
  {
   "cell_type": "code",
   "execution_count": 106,
   "metadata": {},
   "outputs": [
    {
     "data": {
      "text/html": [
       "<table>\n",
       "<thead><tr><th scope=col>Season</th><th scope=col>Team.Rank</th><th scope=col>Team.Name</th><th scope=col>Team.Record</th><th scope=col>Conference.Name</th><th scope=col>Rating</th><th scope=col>AvgWinProb</th><th scope=col>Strength.of.Schedule</th><th scope=col>SOS.Rank</th><th scope=col>Strength.of.Schedule..1st.Order.</th><th scope=col>SOS..1st.Order..Rank</th><th scope=col>Pace</th><th scope=col>Pace.Rank</th><th scope=col>Luck</th><th scope=col>Luck.Rank</th></tr></thead>\n",
       "<tbody>\n",
       "\t<tr><td>2014     </td><td>1        </td><td>Arizona  </td><td>(33-5)   </td><td>Pac-12   </td><td>0.654    </td><td>0.752    </td><td>0.537    </td><td>52       </td><td>NA       </td><td>1        </td><td>65.71    </td><td>310      </td><td> 4.397   </td><td> 32      </td></tr>\n",
       "\t<tr><td>2014     </td><td>2        </td><td>Duke     </td><td>(26-9)   </td><td>ACC      </td><td>0.648    </td><td>0.707    </td><td>0.544    </td><td>21       </td><td>NA       </td><td>1        </td><td>72.91    </td><td> 89      </td><td> 1.241   </td><td>134      </td></tr>\n",
       "\t<tr><td>2014     </td><td>3        </td><td>Florida  </td><td>(36-3)   </td><td>SEC      </td><td>0.644    </td><td>0.723    </td><td>0.548    </td><td>10       </td><td>NA       </td><td>1        </td><td>63.84    </td><td>329      </td><td> 7.782   </td><td>  7      </td></tr>\n",
       "\t<tr><td>2014     </td><td>4        </td><td>Wisconsin</td><td>(30-8)   </td><td>Big Ten  </td><td>0.641    </td><td>0.679    </td><td>0.544    </td><td>20       </td><td>NA       </td><td>1        </td><td>68.75    </td><td>238      </td><td> 4.175   </td><td> 39      </td></tr>\n",
       "\t<tr><td>2014     </td><td>5        </td><td>Virginia </td><td>(30-7)   </td><td>ACC      </td><td>0.640    </td><td>0.692    </td><td>0.549    </td><td> 6       </td><td>NA       </td><td>1        </td><td>60.93    </td><td>350      </td><td> 4.385   </td><td> 33      </td></tr>\n",
       "\t<tr><td>2014     </td><td>6        </td><td>Kansas   </td><td>(25-10)  </td><td>Big XII  </td><td>0.634    </td><td>0.739    </td><td>0.549    </td><td> 9       </td><td>NA       </td><td>1        </td><td>74.54    </td><td> 56      </td><td>-0.880   </td><td>219      </td></tr>\n",
       "</tbody>\n",
       "</table>\n"
      ],
      "text/latex": [
       "\\begin{tabular}{r|lllllllllllllll}\n",
       " Season & Team.Rank & Team.Name & Team.Record & Conference.Name & Rating & AvgWinProb & Strength.of.Schedule & SOS.Rank & Strength.of.Schedule..1st.Order. & SOS..1st.Order..Rank & Pace & Pace.Rank & Luck & Luck.Rank\\\\\n",
       "\\hline\n",
       "\t 2014      & 1         & Arizona   & (33-5)    & Pac-12    & 0.654     & 0.752     & 0.537     & 52        & NA        & 1         & 65.71     & 310       &  4.397    &  32      \\\\\n",
       "\t 2014      & 2         & Duke      & (26-9)    & ACC       & 0.648     & 0.707     & 0.544     & 21        & NA        & 1         & 72.91     &  89       &  1.241    & 134      \\\\\n",
       "\t 2014      & 3         & Florida   & (36-3)    & SEC       & 0.644     & 0.723     & 0.548     & 10        & NA        & 1         & 63.84     & 329       &  7.782    &   7      \\\\\n",
       "\t 2014      & 4         & Wisconsin & (30-8)    & Big Ten   & 0.641     & 0.679     & 0.544     & 20        & NA        & 1         & 68.75     & 238       &  4.175    &  39      \\\\\n",
       "\t 2014      & 5         & Virginia  & (30-7)    & ACC       & 0.640     & 0.692     & 0.549     &  6        & NA        & 1         & 60.93     & 350       &  4.385    &  33      \\\\\n",
       "\t 2014      & 6         & Kansas    & (25-10)   & Big XII   & 0.634     & 0.739     & 0.549     &  9        & NA        & 1         & 74.54     &  56       & -0.880    & 219      \\\\\n",
       "\\end{tabular}\n"
      ],
      "text/markdown": [
       "\n",
       "| Season | Team.Rank | Team.Name | Team.Record | Conference.Name | Rating | AvgWinProb | Strength.of.Schedule | SOS.Rank | Strength.of.Schedule..1st.Order. | SOS..1st.Order..Rank | Pace | Pace.Rank | Luck | Luck.Rank |\n",
       "|---|---|---|---|---|---|---|---|---|---|---|---|---|---|---|\n",
       "| 2014      | 1         | Arizona   | (33-5)    | Pac-12    | 0.654     | 0.752     | 0.537     | 52        | NA        | 1         | 65.71     | 310       |  4.397    |  32       |\n",
       "| 2014      | 2         | Duke      | (26-9)    | ACC       | 0.648     | 0.707     | 0.544     | 21        | NA        | 1         | 72.91     |  89       |  1.241    | 134       |\n",
       "| 2014      | 3         | Florida   | (36-3)    | SEC       | 0.644     | 0.723     | 0.548     | 10        | NA        | 1         | 63.84     | 329       |  7.782    |   7       |\n",
       "| 2014      | 4         | Wisconsin | (30-8)    | Big Ten   | 0.641     | 0.679     | 0.544     | 20        | NA        | 1         | 68.75     | 238       |  4.175    |  39       |\n",
       "| 2014      | 5         | Virginia  | (30-7)    | ACC       | 0.640     | 0.692     | 0.549     |  6        | NA        | 1         | 60.93     | 350       |  4.385    |  33       |\n",
       "| 2014      | 6         | Kansas    | (25-10)   | Big XII   | 0.634     | 0.739     | 0.549     |  9        | NA        | 1         | 74.54     |  56       | -0.880    | 219       |\n",
       "\n"
      ],
      "text/plain": [
       "  Season Team.Rank Team.Name Team.Record Conference.Name Rating AvgWinProb\n",
       "1 2014   1         Arizona   (33-5)      Pac-12          0.654  0.752     \n",
       "2 2014   2         Duke      (26-9)      ACC             0.648  0.707     \n",
       "3 2014   3         Florida   (36-3)      SEC             0.644  0.723     \n",
       "4 2014   4         Wisconsin (30-8)      Big Ten         0.641  0.679     \n",
       "5 2014   5         Virginia  (30-7)      ACC             0.640  0.692     \n",
       "6 2014   6         Kansas    (25-10)     Big XII         0.634  0.739     \n",
       "  Strength.of.Schedule SOS.Rank Strength.of.Schedule..1st.Order.\n",
       "1 0.537                52       NA                              \n",
       "2 0.544                21       NA                              \n",
       "3 0.548                10       NA                              \n",
       "4 0.544                20       NA                              \n",
       "5 0.549                 6       NA                              \n",
       "6 0.549                 9       NA                              \n",
       "  SOS..1st.Order..Rank Pace  Pace.Rank Luck   Luck.Rank\n",
       "1 1                    65.71 310        4.397  32      \n",
       "2 1                    72.91  89        1.241 134      \n",
       "3 1                    63.84 329        7.782   7      \n",
       "4 1                    68.75 238        4.175  39      \n",
       "5 1                    60.93 350        4.385  33      \n",
       "6 1                    74.54  56       -0.880 219      "
      ]
     },
     "metadata": {},
     "output_type": "display_data"
    }
   ],
   "source": [
    "# SevenOvertime Rating 2014+\n",
    "# http://sevenovertimes.com/teamstats.php?season=201?\n",
    "data.sevenot <- read.csv('datafiles_csv/SevenOvertimes.csv',stringsAsFactors=F)\n",
    "data.sevenot %>% head"
   ]
  },
  {
   "cell_type": "code",
   "execution_count": 107,
   "metadata": {},
   "outputs": [],
   "source": [
    "data.sevenot %>% rename(Name=Team.Name,Rank=Team.Rank) -> data.sevenot"
   ]
  },
  {
   "cell_type": "code",
   "execution_count": 108,
   "metadata": {},
   "outputs": [],
   "source": [
    "# load team spellings variations\n",
    "data.teamspellings <- readRDS('datafiles_rds/TeamSpellings.rds')\n",
    "data.teams <- readRDS('datafiles_rds/Teams.rds')\n",
    "data.conferences <- readRDS('datafiles_rds/TeamConferences.rds')"
   ]
  },
  {
   "cell_type": "code",
   "execution_count": 109,
   "metadata": {},
   "outputs": [],
   "source": [
    "# add TeamID based on team name\n",
    "data.sevenot %>% \n",
    "    mutate(LowName=str_to_lower(Name)) %>% \n",
    "    left_join(data.teamspellings,by=c('LowName'='TeamNameSpelling')) -> df.ratingsystem"
   ]
  },
  {
   "cell_type": "code",
   "execution_count": 110,
   "metadata": {},
   "outputs": [
    {
     "data": {
      "text/html": [
       "<table>\n",
       "<thead><tr><th scope=col>Season</th><th scope=col>Rank</th><th scope=col>Name</th><th scope=col>Team.Record</th><th scope=col>Conference.Name</th><th scope=col>Rating</th><th scope=col>AvgWinProb</th><th scope=col>Strength.of.Schedule</th><th scope=col>SOS.Rank</th><th scope=col>Strength.of.Schedule..1st.Order.</th><th scope=col>SOS..1st.Order..Rank</th><th scope=col>Pace</th><th scope=col>Pace.Rank</th><th scope=col>Luck</th><th scope=col>Luck.Rank</th><th scope=col>LowName</th><th scope=col>TeamID</th></tr></thead>\n",
       "<tbody>\n",
       "\t<tr><td>2014               </td><td>236                </td><td>E Tenn St          </td><td>(16-14)            </td><td>Atlantic Sun       </td><td>0.457              </td><td>0.496              </td><td>0.476              </td><td>297                </td><td>   NA              </td><td>  1                </td><td>76.45              </td><td> 28                </td><td>1.115              </td><td>137                </td><td>e tenn st          </td><td>NA                 </td></tr>\n",
       "\t<tr><td>2015               </td><td>175                </td><td>E Tenn St          </td><td>(14-14)            </td><td>Southern Conference</td><td>0.477              </td><td>0.461              </td><td>0.471              </td><td>283                </td><td>   NA              </td><td>  1                </td><td>72.35              </td><td> 34                </td><td>1.090              </td><td>107                </td><td>e tenn st          </td><td>NA                 </td></tr>\n",
       "\t<tr><td>2016               </td><td>152                </td><td>E Tenn St          </td><td>(22-12)            </td><td>Southern Conference</td><td>0.492              </td><td>0.473              </td><td>0.474              </td><td>262                </td><td>   NA              </td><td>  1                </td><td>76.38              </td><td> 56                </td><td>5.897              </td><td>  1                </td><td>e tenn st          </td><td>NA                 </td></tr>\n",
       "\t<tr><td>2017               </td><td> 71                </td><td>E Tenn St          </td><td>(25-8)             </td><td>Southern Conference</td><td>0.550              </td><td>0.673              </td><td>0.479              </td><td>247                </td><td>0.489              </td><td>190                </td><td>74.43              </td><td>108                </td><td>2.503              </td><td> 47                </td><td>e tenn st          </td><td>NA                 </td></tr>\n",
       "\t<tr><td>2018               </td><td>289                </td><td>E Tenn St          </td><td>(23-9)             </td><td>Southern Conference</td><td>0.458              </td><td>0.586              </td><td>0.471              </td><td>300                </td><td>0.488              </td><td>176                </td><td>70.40              </td><td>257                </td><td>4.234              </td><td> 60                </td><td>e tenn st          </td><td>NA                 </td></tr>\n",
       "</tbody>\n",
       "</table>\n"
      ],
      "text/latex": [
       "\\begin{tabular}{r|lllllllllllllllll}\n",
       " Season & Rank & Name & Team.Record & Conference.Name & Rating & AvgWinProb & Strength.of.Schedule & SOS.Rank & Strength.of.Schedule..1st.Order. & SOS..1st.Order..Rank & Pace & Pace.Rank & Luck & Luck.Rank & LowName & TeamID\\\\\n",
       "\\hline\n",
       "\t 2014                & 236                 & E Tenn St           & (16-14)             & Atlantic Sun        & 0.457               & 0.496               & 0.476               & 297                 &    NA               &   1                 & 76.45               &  28                 & 1.115               & 137                 & e tenn st           & NA                 \\\\\n",
       "\t 2015                & 175                 & E Tenn St           & (14-14)             & Southern Conference & 0.477               & 0.461               & 0.471               & 283                 &    NA               &   1                 & 72.35               &  34                 & 1.090               & 107                 & e tenn st           & NA                 \\\\\n",
       "\t 2016                & 152                 & E Tenn St           & (22-12)             & Southern Conference & 0.492               & 0.473               & 0.474               & 262                 &    NA               &   1                 & 76.38               &  56                 & 5.897               &   1                 & e tenn st           & NA                 \\\\\n",
       "\t 2017                &  71                 & E Tenn St           & (25-8)              & Southern Conference & 0.550               & 0.673               & 0.479               & 247                 & 0.489               & 190                 & 74.43               & 108                 & 2.503               &  47                 & e tenn st           & NA                 \\\\\n",
       "\t 2018                & 289                 & E Tenn St           & (23-9)              & Southern Conference & 0.458               & 0.586               & 0.471               & 300                 & 0.488               & 176                 & 70.40               & 257                 & 4.234               &  60                 & e tenn st           & NA                 \\\\\n",
       "\\end{tabular}\n"
      ],
      "text/markdown": [
       "\n",
       "| Season | Rank | Name | Team.Record | Conference.Name | Rating | AvgWinProb | Strength.of.Schedule | SOS.Rank | Strength.of.Schedule..1st.Order. | SOS..1st.Order..Rank | Pace | Pace.Rank | Luck | Luck.Rank | LowName | TeamID |\n",
       "|---|---|---|---|---|---|---|---|---|---|---|---|---|---|---|---|---|\n",
       "| 2014                | 236                 | E Tenn St           | (16-14)             | Atlantic Sun        | 0.457               | 0.496               | 0.476               | 297                 |    NA               |   1                 | 76.45               |  28                 | 1.115               | 137                 | e tenn st           | NA                  |\n",
       "| 2015                | 175                 | E Tenn St           | (14-14)             | Southern Conference | 0.477               | 0.461               | 0.471               | 283                 |    NA               |   1                 | 72.35               |  34                 | 1.090               | 107                 | e tenn st           | NA                  |\n",
       "| 2016                | 152                 | E Tenn St           | (22-12)             | Southern Conference | 0.492               | 0.473               | 0.474               | 262                 |    NA               |   1                 | 76.38               |  56                 | 5.897               |   1                 | e tenn st           | NA                  |\n",
       "| 2017                |  71                 | E Tenn St           | (25-8)              | Southern Conference | 0.550               | 0.673               | 0.479               | 247                 | 0.489               | 190                 | 74.43               | 108                 | 2.503               |  47                 | e tenn st           | NA                  |\n",
       "| 2018                | 289                 | E Tenn St           | (23-9)              | Southern Conference | 0.458               | 0.586               | 0.471               | 300                 | 0.488               | 176                 | 70.40               | 257                 | 4.234               |  60                 | e tenn st           | NA                  |\n",
       "\n"
      ],
      "text/plain": [
       "  Season Rank Name      Team.Record Conference.Name     Rating AvgWinProb\n",
       "1 2014   236  E Tenn St (16-14)     Atlantic Sun        0.457  0.496     \n",
       "2 2015   175  E Tenn St (14-14)     Southern Conference 0.477  0.461     \n",
       "3 2016   152  E Tenn St (22-12)     Southern Conference 0.492  0.473     \n",
       "4 2017    71  E Tenn St (25-8)      Southern Conference 0.550  0.673     \n",
       "5 2018   289  E Tenn St (23-9)      Southern Conference 0.458  0.586     \n",
       "  Strength.of.Schedule SOS.Rank Strength.of.Schedule..1st.Order.\n",
       "1 0.476                297         NA                           \n",
       "2 0.471                283         NA                           \n",
       "3 0.474                262         NA                           \n",
       "4 0.479                247      0.489                           \n",
       "5 0.471                300      0.488                           \n",
       "  SOS..1st.Order..Rank Pace  Pace.Rank Luck  Luck.Rank LowName   TeamID\n",
       "1   1                  76.45  28       1.115 137       e tenn st NA    \n",
       "2   1                  72.35  34       1.090 107       e tenn st NA    \n",
       "3   1                  76.38  56       5.897   1       e tenn st NA    \n",
       "4 190                  74.43 108       2.503  47       e tenn st NA    \n",
       "5 176                  70.40 257       4.234  60       e tenn st NA    "
      ]
     },
     "metadata": {},
     "output_type": "display_data"
    }
   ],
   "source": [
    "df.ratingsystem %>% filter(str_detect(Name,'E Tenn St'))\n",
    "# df.ratingsystem %>% filter(str_detect(Conference.Name,'Southern'))"
   ]
  },
  {
   "cell_type": "code",
   "execution_count": 112,
   "metadata": {},
   "outputs": [
    {
     "data": {
      "text/html": [
       "<table>\n",
       "<thead><tr><th scope=col>TeamID</th><th scope=col>TeamName</th><th scope=col>FirstD1Season</th><th scope=col>LastD1Season</th></tr></thead>\n",
       "<tbody>\n",
       "\t<tr><td>1110           </td><td>American Univ  </td><td>1985           </td><td>2019           </td></tr>\n",
       "\t<tr><td>1114           </td><td>Ark Little Rock</td><td>1985           </td><td>2019           </td></tr>\n",
       "\t<tr><td>1157           </td><td>Coastal Car    </td><td>1987           </td><td>2019           </td></tr>\n",
       "\t<tr><td>1190           </td><td>ETSU           </td><td>1985           </td><td>2019           </td></tr>\n",
       "\t<tr><td>1192           </td><td>F Dickinson    </td><td>1985           </td><td>2019           </td></tr>\n",
       "\t<tr><td>1195           </td><td>FL Gulf Coast  </td><td>2008           </td><td>2019           </td></tr>\n",
       "\t<tr><td>1203           </td><td>G Washington   </td><td>1985           </td><td>2019           </td></tr>\n",
       "\t<tr><td>1245           </td><td>Kent           </td><td>1985           </td><td>2019           </td></tr>\n",
       "\t<tr><td>1292           </td><td>MTSU           </td><td>1985           </td><td>2019           </td></tr>\n",
       "\t<tr><td>1300           </td><td>NC Central     </td><td>2008           </td><td>2019           </td></tr>\n",
       "\t<tr><td>1301           </td><td>NC State       </td><td>1985           </td><td>2019           </td></tr>\n",
       "\t<tr><td>1374           </td><td>SMU            </td><td>1985           </td><td>2019           </td></tr>\n",
       "\t<tr><td>1385           </td><td>St John's      </td><td>1985           </td><td>2019           </td></tr>\n",
       "\t<tr><td>1386           </td><td>St Joseph's PA </td><td>1985           </td><td>2019           </td></tr>\n",
       "\t<tr><td>1388           </td><td>St Mary's CA   </td><td>1985           </td><td>2019           </td></tr>\n",
       "\t<tr><td>1418           </td><td>ULL            </td><td>1985           </td><td>2019           </td></tr>\n",
       "\t<tr><td>1423           </td><td>UNC Wilmington </td><td>1985           </td><td>2019           </td></tr>\n",
       "</tbody>\n",
       "</table>\n"
      ],
      "text/latex": [
       "\\begin{tabular}{r|llll}\n",
       " TeamID & TeamName & FirstD1Season & LastD1Season\\\\\n",
       "\\hline\n",
       "\t 1110            & American Univ   & 1985            & 2019           \\\\\n",
       "\t 1114            & Ark Little Rock & 1985            & 2019           \\\\\n",
       "\t 1157            & Coastal Car     & 1987            & 2019           \\\\\n",
       "\t 1190            & ETSU            & 1985            & 2019           \\\\\n",
       "\t 1192            & F Dickinson     & 1985            & 2019           \\\\\n",
       "\t 1195            & FL Gulf Coast   & 2008            & 2019           \\\\\n",
       "\t 1203            & G Washington    & 1985            & 2019           \\\\\n",
       "\t 1245            & Kent            & 1985            & 2019           \\\\\n",
       "\t 1292            & MTSU            & 1985            & 2019           \\\\\n",
       "\t 1300            & NC Central      & 2008            & 2019           \\\\\n",
       "\t 1301            & NC State        & 1985            & 2019           \\\\\n",
       "\t 1374            & SMU             & 1985            & 2019           \\\\\n",
       "\t 1385            & St John's       & 1985            & 2019           \\\\\n",
       "\t 1386            & St Joseph's PA  & 1985            & 2019           \\\\\n",
       "\t 1388            & St Mary's CA    & 1985            & 2019           \\\\\n",
       "\t 1418            & ULL             & 1985            & 2019           \\\\\n",
       "\t 1423            & UNC Wilmington  & 1985            & 2019           \\\\\n",
       "\\end{tabular}\n"
      ],
      "text/markdown": [
       "\n",
       "| TeamID | TeamName | FirstD1Season | LastD1Season |\n",
       "|---|---|---|---|\n",
       "| 1110            | American Univ   | 1985            | 2019            |\n",
       "| 1114            | Ark Little Rock | 1985            | 2019            |\n",
       "| 1157            | Coastal Car     | 1987            | 2019            |\n",
       "| 1190            | ETSU            | 1985            | 2019            |\n",
       "| 1192            | F Dickinson     | 1985            | 2019            |\n",
       "| 1195            | FL Gulf Coast   | 2008            | 2019            |\n",
       "| 1203            | G Washington    | 1985            | 2019            |\n",
       "| 1245            | Kent            | 1985            | 2019            |\n",
       "| 1292            | MTSU            | 1985            | 2019            |\n",
       "| 1300            | NC Central      | 2008            | 2019            |\n",
       "| 1301            | NC State        | 1985            | 2019            |\n",
       "| 1374            | SMU             | 1985            | 2019            |\n",
       "| 1385            | St John's       | 1985            | 2019            |\n",
       "| 1386            | St Joseph's PA  | 1985            | 2019            |\n",
       "| 1388            | St Mary's CA    | 1985            | 2019            |\n",
       "| 1418            | ULL             | 1985            | 2019            |\n",
       "| 1423            | UNC Wilmington  | 1985            | 2019            |\n",
       "\n"
      ],
      "text/plain": [
       "   TeamID TeamName        FirstD1Season LastD1Season\n",
       "1  1110   American Univ   1985          2019        \n",
       "2  1114   Ark Little Rock 1985          2019        \n",
       "3  1157   Coastal Car     1987          2019        \n",
       "4  1190   ETSU            1985          2019        \n",
       "5  1192   F Dickinson     1985          2019        \n",
       "6  1195   FL Gulf Coast   2008          2019        \n",
       "7  1203   G Washington    1985          2019        \n",
       "8  1245   Kent            1985          2019        \n",
       "9  1292   MTSU            1985          2019        \n",
       "10 1300   NC Central      2008          2019        \n",
       "11 1301   NC State        1985          2019        \n",
       "12 1374   SMU             1985          2019        \n",
       "13 1385   St John's       1985          2019        \n",
       "14 1386   St Joseph's PA  1985          2019        \n",
       "15 1388   St Mary's CA    1985          2019        \n",
       "16 1418   ULL             1985          2019        \n",
       "17 1423   UNC Wilmington  1985          2019        "
      ]
     },
     "metadata": {},
     "output_type": "display_data"
    }
   ],
   "source": [
    "# missing tourney team in Dunkle stats (because name misspelling)\n",
    "df.ratingsystem %>% \n",
    "    right_join(df.tourneyteams,by='TeamID') %>%\n",
    "    filter(is.na(Rank)) %>%\n",
    "    select(TeamID) %>%\n",
    "    inner_join(data.teams,by='TeamID') %>%\n",
    "    distinct() %>%\n",
    "    arrange(TeamID)"
   ]
  },
  {
   "cell_type": "code",
   "execution_count": 113,
   "metadata": {},
   "outputs": [],
   "source": [
    "# add missing TeamID from Sagarin stats\n",
    "df.ratingsystem %>%\n",
    "    mutate_which(str_detect(Name,'American U'),TeamID=1110) %>%\n",
    "    mutate_which(str_detect(Name,'AR-Little Rock'),TeamID=1114) %>%\n",
    "    mutate_which(str_detect(Name,'Coast Carolina'),TeamID=1157) %>%\n",
    "    mutate_which(str_detect(Name,'E Tenn St'),TeamID=1190) %>%                   # East Tennessee State University (Buccaners)\n",
    "    mutate_which(str_detect(Name,'Fair Dickinson'),TeamID=1192) %>%\n",
    "    mutate_which(str_detect(Name,'FLA Gulf Coast'),TeamID=1195) %>%\n",
    "    mutate_which(str_detect(Name,'G. Washington'),TeamID=1203) %>%\n",
    "    mutate_which(str_detect(Name,'Kent St'),TeamID=1245) %>%\n",
    "    mutate_which(str_detect(Name,'Mid Tennessee'),TeamID=1292) %>%          # Middle Tennessee State University (Blue Rider)\n",
    "    mutate_which(str_detect(Name,'N Carolina Cent'),TeamID=1300) %>%        # NC Central = North Carolina Cent\n",
    "    mutate_which(str_detect(Name,'N Carolina St'),TeamID=1301) %>%          # NC State = North Carolina State\n",
    "    mutate_which(str_detect(Name,'S Methodist'),TeamID=1374) %>%                    # SMU = Southern Methodist University Mustangs\n",
    "    mutate_which(str_detect(Name,'St. Johns'),TeamID=1385) %>%\n",
    "    mutate_which(str_detect(Name,'Saint Josephs'),TeamID=1386) %>%\n",
    "    mutate_which(str_detect(Name,'Saint Marys'),TeamID=1388) %>%\n",
    "    mutate_which(str_detect(Name,'LA-Lafayette'),TeamID=1418) %>%               # ULL University of Louisiana at Lafayette \n",
    "    mutate_which(str_detect(Name,'UNC-Wilmington'),TeamID=1423) -> df.ratingsystem"
   ]
  },
  {
   "cell_type": "code",
   "execution_count": 114,
   "metadata": {},
   "outputs": [
    {
     "data": {
      "text/html": [
       "<table>\n",
       "<thead><tr><th scope=col>TeamID</th><th scope=col>TeamName</th><th scope=col>FirstD1Season</th><th scope=col>LastD1Season</th></tr></thead>\n",
       "<tbody>\n",
       "</tbody>\n",
       "</table>\n"
      ],
      "text/latex": [
       "\\begin{tabular}{r|llll}\n",
       " TeamID & TeamName & FirstD1Season & LastD1Season\\\\\n",
       "\\hline\n",
       "\\end{tabular}\n"
      ],
      "text/markdown": [
       "\n",
       "| TeamID | TeamName | FirstD1Season | LastD1Season |\n",
       "|---|---|---|---|\n",
       "\n"
      ],
      "text/plain": [
       "     TeamID TeamName FirstD1Season LastD1Season"
      ]
     },
     "metadata": {},
     "output_type": "display_data"
    }
   ],
   "source": [
    "# check if ssomething is still wrong\n",
    "df.ratingsystem %>% \n",
    "    right_join(df.tourneyteams,by='TeamID') %>%\n",
    "    filter(is.na(Rank)) %>%\n",
    "    select(TeamID) %>%\n",
    "    inner_join(data.teams,by='TeamID') %>%\n",
    "    distinct() %>%\n",
    "    arrange(TeamID)"
   ]
  },
  {
   "cell_type": "code",
   "execution_count": 115,
   "metadata": {},
   "outputs": [],
   "source": [
    "# restrict Dunkle stats to tourney teams\n",
    "df.ratingsystem %>% \n",
    "    inner_join(df.tourneyteams,by=c('TeamID','Season')) %>%\n",
    "    select(Season,TeamID,Rating) -> df.ratingsystem"
   ]
  },
  {
   "cell_type": "code",
   "execution_count": 116,
   "metadata": {},
   "outputs": [
    {
     "data": {
      "text/html": [
       "<table>\n",
       "<thead><tr><th scope=col>Season</th><th scope=col>n</th></tr></thead>\n",
       "<tbody>\n",
       "\t<tr><td>2014</td><td>68  </td></tr>\n",
       "\t<tr><td>2015</td><td>68  </td></tr>\n",
       "\t<tr><td>2016</td><td>68  </td></tr>\n",
       "\t<tr><td>2017</td><td>68  </td></tr>\n",
       "\t<tr><td>2018</td><td>68  </td></tr>\n",
       "</tbody>\n",
       "</table>\n"
      ],
      "text/latex": [
       "\\begin{tabular}{r|ll}\n",
       " Season & n\\\\\n",
       "\\hline\n",
       "\t 2014 & 68  \\\\\n",
       "\t 2015 & 68  \\\\\n",
       "\t 2016 & 68  \\\\\n",
       "\t 2017 & 68  \\\\\n",
       "\t 2018 & 68  \\\\\n",
       "\\end{tabular}\n"
      ],
      "text/markdown": [
       "\n",
       "| Season | n |\n",
       "|---|---|\n",
       "| 2014 | 68   |\n",
       "| 2015 | 68   |\n",
       "| 2016 | 68   |\n",
       "| 2017 | 68   |\n",
       "| 2018 | 68   |\n",
       "\n"
      ],
      "text/plain": [
       "  Season n \n",
       "1 2014   68\n",
       "2 2015   68\n",
       "3 2016   68\n",
       "4 2017   68\n",
       "5 2018   68"
      ]
     },
     "metadata": {},
     "output_type": "display_data"
    }
   ],
   "source": [
    "# Check if we have 68 teams per Season\n",
    "df.ratingsystem %>% \n",
    "    group_by(Season) %>% \n",
    "    count"
   ]
  },
  {
   "cell_type": "code",
   "execution_count": 117,
   "metadata": {},
   "outputs": [
    {
     "data": {
      "text/html": [
       "<table>\n",
       "<thead><tr><th scope=col>Season</th><th scope=col>TeamID</th></tr></thead>\n",
       "<tbody>\n",
       "</tbody>\n",
       "</table>\n"
      ],
      "text/latex": [
       "\\begin{tabular}{r|ll}\n",
       " Season & TeamID\\\\\n",
       "\\hline\n",
       "\\end{tabular}\n"
      ],
      "text/markdown": [
       "\n",
       "| Season | TeamID |\n",
       "|---|---|\n",
       "\n"
      ],
      "text/plain": [
       "     Season TeamID"
      ]
     },
     "metadata": {},
     "output_type": "display_data"
    }
   ],
   "source": [
    "# check missing TeamID per Season \n",
    "df.tourneyteams %>% \n",
    "    anti_join(df.ratingsystem,by=c('Season','TeamID'))"
   ]
  },
  {
   "cell_type": "code",
   "execution_count": 118,
   "metadata": {},
   "outputs": [],
   "source": [
    "# load true results\n",
    "data.truth <- readRDS('datafiles_rds/TourneyTrueResults.rds')"
   ]
  },
  {
   "cell_type": "code",
   "execution_count": 126,
   "metadata": {},
   "outputs": [
    {
     "data": {
      "text/html": [
       "<table>\n",
       "<thead><tr><th scope=col>Season</th><th scope=col>qtl</th><th scope=col>Slope</th></tr></thead>\n",
       "<tbody>\n",
       "\t<tr><td>2017    </td><td>0.42    </td><td>53.57143</td></tr>\n",
       "\t<tr><td>2016    </td><td>0.52    </td><td>58.63956</td></tr>\n",
       "\t<tr><td>2018    </td><td>0.24    </td><td>21.92341</td></tr>\n",
       "\t<tr><td>2015    </td><td>0.31    </td><td>28.11885</td></tr>\n",
       "\t<tr><td>2017    </td><td>0.20    </td><td>26.83363</td></tr>\n",
       "</tbody>\n",
       "</table>\n"
      ],
      "text/latex": [
       "\\begin{tabular}{r|lll}\n",
       " Season & qtl & Slope\\\\\n",
       "\\hline\n",
       "\t 2017     & 0.42     & 53.57143\\\\\n",
       "\t 2016     & 0.52     & 58.63956\\\\\n",
       "\t 2018     & 0.24     & 21.92341\\\\\n",
       "\t 2015     & 0.31     & 28.11885\\\\\n",
       "\t 2017     & 0.20     & 26.83363\\\\\n",
       "\\end{tabular}\n"
      ],
      "text/markdown": [
       "\n",
       "| Season | qtl | Slope |\n",
       "|---|---|---|\n",
       "| 2017     | 0.42     | 53.57143 |\n",
       "| 2016     | 0.52     | 58.63956 |\n",
       "| 2018     | 0.24     | 21.92341 |\n",
       "| 2015     | 0.31     | 28.11885 |\n",
       "| 2017     | 0.20     | 26.83363 |\n",
       "\n"
      ],
      "text/plain": [
       "  Season qtl  Slope   \n",
       "1 2017   0.42 53.57143\n",
       "2 2016   0.52 58.63956\n",
       "3 2018   0.24 21.92341\n",
       "4 2015   0.31 28.11885\n",
       "5 2017   0.20 26.83363"
      ]
     },
     "metadata": {},
     "output_type": "display_data"
    }
   ],
   "source": [
    "# slope hyper parameter grid : we will compute 51 models and chose the best one (min logloss)\n",
    "df.ratingsystem %>% \n",
    "    mutate(dummy=1) %>% \n",
    "    inner_join(data.frame(qtl=seq(0.01,0.75,0.01),dummy=1),by='dummy') %>% \n",
    "    select(-dummy) %>% \n",
    "    group_by(qtl,Season) %>% \n",
    "    mutate(thres=max(Rating)-quantile(Rating,max(qtl)),Slope=3/thres) %>%\n",
    "    ungroup %>% \n",
    "    select(Season,qtl,Slope) %>% \n",
    "    distinct() -> df.slopes\n",
    "df.slopes %>% sample_n(5)"
   ]
  },
  {
   "cell_type": "code",
   "execution_count": 127,
   "metadata": {},
   "outputs": [
    {
     "data": {
      "text/html": [
       "<table>\n",
       "<thead><tr><th scope=col>Season</th><th scope=col>TeamID.x</th><th scope=col>Rating.x</th><th scope=col>TeamID.y</th><th scope=col>Rating.y</th></tr></thead>\n",
       "<tbody>\n",
       "\t<tr><td>2016 </td><td>1124 </td><td>0.601</td><td>1386 </td><td>0.616</td></tr>\n",
       "\t<tr><td>2016 </td><td>1438 </td><td>0.644</td><td>1452 </td><td>0.616</td></tr>\n",
       "\t<tr><td>2016 </td><td>1276 </td><td>0.550</td><td>1396 </td><td>0.537</td></tr>\n",
       "\t<tr><td>2015 </td><td>1316 </td><td>0.475</td><td>1329 </td><td>0.585</td></tr>\n",
       "\t<tr><td>2015 </td><td>1257 </td><td>0.623</td><td>1277 </td><td>0.620</td></tr>\n",
       "</tbody>\n",
       "</table>\n"
      ],
      "text/latex": [
       "\\begin{tabular}{r|lllll}\n",
       " Season & TeamID.x & Rating.x & TeamID.y & Rating.y\\\\\n",
       "\\hline\n",
       "\t 2016  & 1124  & 0.601 & 1386  & 0.616\\\\\n",
       "\t 2016  & 1438  & 0.644 & 1452  & 0.616\\\\\n",
       "\t 2016  & 1276  & 0.550 & 1396  & 0.537\\\\\n",
       "\t 2015  & 1316  & 0.475 & 1329  & 0.585\\\\\n",
       "\t 2015  & 1257  & 0.623 & 1277  & 0.620\\\\\n",
       "\\end{tabular}\n"
      ],
      "text/markdown": [
       "\n",
       "| Season | TeamID.x | Rating.x | TeamID.y | Rating.y |\n",
       "|---|---|---|---|---|\n",
       "| 2016  | 1124  | 0.601 | 1386  | 0.616 |\n",
       "| 2016  | 1438  | 0.644 | 1452  | 0.616 |\n",
       "| 2016  | 1276  | 0.550 | 1396  | 0.537 |\n",
       "| 2015  | 1316  | 0.475 | 1329  | 0.585 |\n",
       "| 2015  | 1257  | 0.623 | 1277  | 0.620 |\n",
       "\n"
      ],
      "text/plain": [
       "  Season TeamID.x Rating.x TeamID.y Rating.y\n",
       "1 2016   1124     0.601    1386     0.616   \n",
       "2 2016   1438     0.644    1452     0.616   \n",
       "3 2016   1276     0.550    1396     0.537   \n",
       "4 2015   1316     0.475    1329     0.585   \n",
       "5 2015   1257     0.623    1277     0.620   "
      ]
     },
     "metadata": {},
     "output_type": "display_data"
    }
   ],
   "source": [
    "# matchups dataframe : all the possible matches between the 68 teams per Season \n",
    "df.ratingsystem %>% \n",
    "    inner_join(df.ratingsystem,by='Season') %>% \n",
    "    filter(TeamID.x < TeamID.y) -> df.matchup\n",
    "df.matchup %>% sample_n(5)"
   ]
  },
  {
   "cell_type": "code",
   "execution_count": 128,
   "metadata": {},
   "outputs": [
    {
     "data": {
      "text/html": [
       "<table>\n",
       "<thead><tr><th scope=col>Season</th><th scope=col>TeamID.x</th><th scope=col>Rating.x</th><th scope=col>TeamID.y</th><th scope=col>Rating.y</th><th scope=col>qtl</th><th scope=col>Slope</th></tr></thead>\n",
       "<tbody>\n",
       "\t<tr><td>2017    </td><td>1181    </td><td>0.627   </td><td>1374    </td><td>0.619   </td><td>0.51    </td><td>60.00000</td></tr>\n",
       "\t<tr><td>2017    </td><td>1345    </td><td>0.617   </td><td>1423    </td><td>0.590   </td><td>0.17    </td><td>25.00000</td></tr>\n",
       "\t<tr><td>2018    </td><td>1139    </td><td>0.542   </td><td>1344    </td><td>0.553   </td><td>0.17    </td><td>20.29358</td></tr>\n",
       "\t<tr><td>2015    </td><td>1314    </td><td>0.650   </td><td>1329    </td><td>0.585   </td><td>0.26    </td><td>25.08781</td></tr>\n",
       "\t<tr><td>2017    </td><td>1411    </td><td>0.462   </td><td>1435    </td><td>0.611   </td><td>0.41    </td><td>52.57624</td></tr>\n",
       "</tbody>\n",
       "</table>\n"
      ],
      "text/latex": [
       "\\begin{tabular}{r|lllllll}\n",
       " Season & TeamID.x & Rating.x & TeamID.y & Rating.y & qtl & Slope\\\\\n",
       "\\hline\n",
       "\t 2017     & 1181     & 0.627    & 1374     & 0.619    & 0.51     & 60.00000\\\\\n",
       "\t 2017     & 1345     & 0.617    & 1423     & 0.590    & 0.17     & 25.00000\\\\\n",
       "\t 2018     & 1139     & 0.542    & 1344     & 0.553    & 0.17     & 20.29358\\\\\n",
       "\t 2015     & 1314     & 0.650    & 1329     & 0.585    & 0.26     & 25.08781\\\\\n",
       "\t 2017     & 1411     & 0.462    & 1435     & 0.611    & 0.41     & 52.57624\\\\\n",
       "\\end{tabular}\n"
      ],
      "text/markdown": [
       "\n",
       "| Season | TeamID.x | Rating.x | TeamID.y | Rating.y | qtl | Slope |\n",
       "|---|---|---|---|---|---|---|\n",
       "| 2017     | 1181     | 0.627    | 1374     | 0.619    | 0.51     | 60.00000 |\n",
       "| 2017     | 1345     | 0.617    | 1423     | 0.590    | 0.17     | 25.00000 |\n",
       "| 2018     | 1139     | 0.542    | 1344     | 0.553    | 0.17     | 20.29358 |\n",
       "| 2015     | 1314     | 0.650    | 1329     | 0.585    | 0.26     | 25.08781 |\n",
       "| 2017     | 1411     | 0.462    | 1435     | 0.611    | 0.41     | 52.57624 |\n",
       "\n"
      ],
      "text/plain": [
       "  Season TeamID.x Rating.x TeamID.y Rating.y qtl  Slope   \n",
       "1 2017   1181     0.627    1374     0.619    0.51 60.00000\n",
       "2 2017   1345     0.617    1423     0.590    0.17 25.00000\n",
       "3 2018   1139     0.542    1344     0.553    0.17 20.29358\n",
       "4 2015   1314     0.650    1329     0.585    0.26 25.08781\n",
       "5 2017   1411     0.462    1435     0.611    0.41 52.57624"
      ]
     },
     "metadata": {},
     "output_type": "display_data"
    }
   ],
   "source": [
    "# all matchs with all 51 hyper parameter setting (qtl=[0.25,0.75]) \n",
    "df.matchup %>% inner_join(df.slopes,by=c('Season')) -> df.matchup\n",
    "df.matchup %>% sample_n(5)"
   ]
  },
  {
   "cell_type": "code",
   "execution_count": 129,
   "metadata": {},
   "outputs": [
    {
     "data": {
      "text/html": [
       "<table>\n",
       "<thead><tr><th scope=col>qtl</th><th scope=col>ID</th><th scope=col>Pred</th><th scope=col>Prob</th></tr></thead>\n",
       "<tbody>\n",
       "\t<tr><td>0.10          </td><td>2017_1166_1411</td><td>1             </td><td>0.920         </td></tr>\n",
       "\t<tr><td>0.23          </td><td>2016_1122_1396</td><td>0             </td><td>0.103         </td></tr>\n",
       "\t<tr><td>0.69          </td><td>2014_1372_1393</td><td>0             </td><td>0.050         </td></tr>\n",
       "\t<tr><td>0.07          </td><td>2015_1277_1428</td><td>1             </td><td>0.512         </td></tr>\n",
       "\t<tr><td>0.45          </td><td>2016_1114_1437</td><td>0             </td><td>0.050         </td></tr>\n",
       "</tbody>\n",
       "</table>\n"
      ],
      "text/latex": [
       "\\begin{tabular}{r|llll}\n",
       " qtl & ID & Pred & Prob\\\\\n",
       "\\hline\n",
       "\t 0.10               & 2017\\_1166\\_1411 & 1                  & 0.920             \\\\\n",
       "\t 0.23               & 2016\\_1122\\_1396 & 0                  & 0.103             \\\\\n",
       "\t 0.69               & 2014\\_1372\\_1393 & 0                  & 0.050             \\\\\n",
       "\t 0.07               & 2015\\_1277\\_1428 & 1                  & 0.512             \\\\\n",
       "\t 0.45               & 2016\\_1114\\_1437 & 0                  & 0.050             \\\\\n",
       "\\end{tabular}\n"
      ],
      "text/markdown": [
       "\n",
       "| qtl | ID | Pred | Prob |\n",
       "|---|---|---|---|\n",
       "| 0.10           | 2017_1166_1411 | 1              | 0.920          |\n",
       "| 0.23           | 2016_1122_1396 | 0              | 0.103          |\n",
       "| 0.69           | 2014_1372_1393 | 0              | 0.050          |\n",
       "| 0.07           | 2015_1277_1428 | 1              | 0.512          |\n",
       "| 0.45           | 2016_1114_1437 | 0              | 0.050          |\n",
       "\n"
      ],
      "text/plain": [
       "  qtl  ID             Pred Prob \n",
       "1 0.10 2017_1166_1411 1    0.920\n",
       "2 0.23 2016_1122_1396 0    0.103\n",
       "3 0.69 2014_1372_1393 0    0.050\n",
       "4 0.07 2015_1277_1428 1    0.512\n",
       "5 0.45 2016_1114_1437 0    0.050"
      ]
     },
     "metadata": {},
     "output_type": "display_data"
    }
   ],
   "source": [
    "# machups predictions : compute the winning probability of TeamID.x and cap it into [0.05,0.95] to avoid too much logloss is case of FP or FN \n",
    "df.matchup %>% \n",
    "    mutate(ID=str_c(Season,'_',TeamID.x,'_',TeamID.y)) %>% \n",
    "    mutate(Prob=logistic(Rating.x-Rating.y,a=Slope)) %>% \n",
    "    mutate(Pred=ifelse(Prob>0.5,1,0)) %>% \n",
    "    mutate(Prob=round(Prob,3)) %>%\n",
    "    mutate_which(Prob>0.95,Prob=0.95) %>%\n",
    "    mutate_which(Prob<0.05,Prob=0.05) %>%\n",
    "    select(qtl,ID,Pred,Prob) -> df.submit\n",
    "df.submit %>% sample_n(5)"
   ]
  },
  {
   "cell_type": "code",
   "execution_count": 130,
   "metadata": {},
   "outputs": [],
   "source": [
    "# merge prediction and truth\n",
    "data.truth %>% inner_join(df.submit,by='ID') -> df.results"
   ]
  },
  {
   "cell_type": "code",
   "execution_count": 131,
   "metadata": {},
   "outputs": [
    {
     "data": {
      "text/html": [
       "<table>\n",
       "<thead><tr><th scope=col>qtl</th><th scope=col>TC</th><th scope=col>FC</th><th scope=col>N</th><th scope=col>Acc</th><th scope=col>LogLoss</th></tr></thead>\n",
       "<tbody>\n",
       "\t<tr><td>0.23     </td><td>249      </td><td>86       </td><td>335      </td><td>0.7432836</td><td>0.5377802</td></tr>\n",
       "\t<tr><td>0.16     </td><td>249      </td><td>86       </td><td>335      </td><td>0.7432836</td><td>0.5379097</td></tr>\n",
       "\t<tr><td>0.22     </td><td>249      </td><td>86       </td><td>335      </td><td>0.7432836</td><td>0.5379678</td></tr>\n",
       "\t<tr><td>0.24     </td><td>249      </td><td>86       </td><td>335      </td><td>0.7432836</td><td>0.5379723</td></tr>\n",
       "\t<tr><td>0.21     </td><td>249      </td><td>86       </td><td>335      </td><td>0.7432836</td><td>0.5380687</td></tr>\n",
       "</tbody>\n",
       "</table>\n"
      ],
      "text/latex": [
       "\\begin{tabular}{r|llllll}\n",
       " qtl & TC & FC & N & Acc & LogLoss\\\\\n",
       "\\hline\n",
       "\t 0.23      & 249       & 86        & 335       & 0.7432836 & 0.5377802\\\\\n",
       "\t 0.16      & 249       & 86        & 335       & 0.7432836 & 0.5379097\\\\\n",
       "\t 0.22      & 249       & 86        & 335       & 0.7432836 & 0.5379678\\\\\n",
       "\t 0.24      & 249       & 86        & 335       & 0.7432836 & 0.5379723\\\\\n",
       "\t 0.21      & 249       & 86        & 335       & 0.7432836 & 0.5380687\\\\\n",
       "\\end{tabular}\n"
      ],
      "text/markdown": [
       "\n",
       "| qtl | TC | FC | N | Acc | LogLoss |\n",
       "|---|---|---|---|---|---|\n",
       "| 0.23      | 249       | 86        | 335       | 0.7432836 | 0.5377802 |\n",
       "| 0.16      | 249       | 86        | 335       | 0.7432836 | 0.5379097 |\n",
       "| 0.22      | 249       | 86        | 335       | 0.7432836 | 0.5379678 |\n",
       "| 0.24      | 249       | 86        | 335       | 0.7432836 | 0.5379723 |\n",
       "| 0.21      | 249       | 86        | 335       | 0.7432836 | 0.5380687 |\n",
       "\n"
      ],
      "text/plain": [
       "  qtl  TC  FC N   Acc       LogLoss  \n",
       "1 0.23 249 86 335 0.7432836 0.5377802\n",
       "2 0.16 249 86 335 0.7432836 0.5379097\n",
       "3 0.22 249 86 335 0.7432836 0.5379678\n",
       "4 0.24 249 86 335 0.7432836 0.5379723\n",
       "5 0.21 249 86 335 0.7432836 0.5380687"
      ]
     },
     "metadata": {},
     "output_type": "display_data"
    }
   ],
   "source": [
    "# compute accuracy & Logloss per qtl to find the best one\n",
    "df.results %>% \n",
    "    mutate(OK=ifelse(Pred==Target,1,0)) %>%\n",
    "    mutate(LogLoss=Target*log(Prob) + (1-Target)*log(1-Prob)) %>%\n",
    "    group_by(qtl) %>%\n",
    "    summarise(TC=sum(OK),N=n(),FC=N-TC,Acc=TC/N,LogLoss=-mean(LogLoss)) %>%\n",
    "    select(qtl,TC,FC,N,Acc,LogLoss) -> df.results.perf\n",
    "df.results.perf %>% arrange(LogLoss) %>% head(5)"
   ]
  },
  {
   "cell_type": "code",
   "execution_count": 132,
   "metadata": {},
   "outputs": [],
   "source": [
    "# store the best qtl\n",
    "df.results.perf %>% \n",
    "    arrange(LogLoss) %>% \n",
    "    head(1) %>% pull(qtl) -> bestqtl"
   ]
  },
  {
   "cell_type": "code",
   "execution_count": 133,
   "metadata": {},
   "outputs": [],
   "source": [
    "# save the best results for kaggle submission\n",
    "df.submit %>% \n",
    "    filter(qtl==bestqtl) %>% \n",
    "    select(ID,Pred=Prob) %>% \n",
    "    write.csv('predictions/Pred_SevenOvertimes_bestqtl.csv',quote=F,row.names=F)"
   ]
  },
  {
   "cell_type": "code",
   "execution_count": 134,
   "metadata": {},
   "outputs": [],
   "source": [
    "# save best model for mix\n",
    "df.submit %>%\n",
    "    filter(qtl==bestqtl) %>% \n",
    "    saveRDS('predictions/SevenOvertimes_bestqtl.rds')    "
   ]
  },
  {
   "cell_type": "code",
   "execution_count": null,
   "metadata": {},
   "outputs": [],
   "source": []
  }
 ],
 "metadata": {
  "kernelspec": {
   "display_name": "R 3.5.0",
   "language": "R",
   "name": "ir35"
  },
  "language_info": {
   "codemirror_mode": "r",
   "file_extension": ".r",
   "mimetype": "text/x-r-source",
   "name": "R",
   "pygments_lexer": "r",
   "version": "3.5.1"
  }
 },
 "nbformat": 4,
 "nbformat_minor": 2
}
