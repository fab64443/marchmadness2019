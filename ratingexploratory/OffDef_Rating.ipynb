{
 "cells": [
  {
   "cell_type": "markdown",
   "metadata": {},
   "source": [
    "### Offense-Defense Custom Rating"
   ]
  },
  {
   "cell_type": "markdown",
   "metadata": {},
   "source": [
    "#### Libraries"
   ]
  },
  {
   "cell_type": "code",
   "execution_count": 1,
   "metadata": {},
   "outputs": [],
   "source": [
    "# Load required packages\n",
    "library(dplyr,warn.conflicts=F)\n",
    "library(stringr,warn.conflicts=F)\n",
    "library(lplyr,warn.conflicts=F)\n",
    "library(tidyr,warn.conflicts=F)\n",
    "library(tidyimpute,warn.conflicts=F)\n",
    "\n",
    "library(psych,warn.conflicts=F)\n",
    "library(ggplot2,warn.conflicts=F)"
   ]
  },
  {
   "cell_type": "markdown",
   "metadata": {},
   "source": [
    "#### Load 2011+"
   ]
  },
  {
   "cell_type": "code",
   "execution_count": 2,
   "metadata": {},
   "outputs": [],
   "source": [
    "# load the stats\n",
    "data.regulars <- readRDS('../datafiles_rds/RegularSeasonDetailedResults.rds')\n",
    "# keep 2011+\n",
    "data.regulars %>% filter(Season>2010) -> data.regulars"
   ]
  },
  {
   "cell_type": "code",
   "execution_count": 3,
   "metadata": {},
   "outputs": [],
   "source": [
    "# load the stats\n",
    "data.teams <- readRDS('../datafiles_rds/Teams.rds')\n",
    "\n",
    "data.teams %>%\n",
    "    select(TeamID,TeamName) %>%\n",
    "    mutate(TeamName=str_to_lower(TeamName), \n",
    "           TeamName=str_replace_all(TeamName,' ','_'), \n",
    "           TeamName=str_remove_all(TeamName,'&')) -> df.teams"
   ]
  },
  {
   "cell_type": "markdown",
   "metadata": {},
   "source": [
    "#### Prepare data"
   ]
  },
  {
   "cell_type": "code",
   "execution_count": 4,
   "metadata": {},
   "outputs": [
    {
     "name": "stdout",
     "output_type": "stream",
     "text": [
      "42704 34"
     ]
    },
    {
     "data": {
      "text/html": [
       "<table>\n",
       "<thead><tr><th scope=col>Season</th><th scope=col>DayNum</th><th scope=col>WTeamID</th><th scope=col>WScore</th><th scope=col>LTeamID</th><th scope=col>LScore</th><th scope=col>WLoc</th><th scope=col>NumOT</th><th scope=col>WFGM</th><th scope=col>WFGA</th><th scope=col>⋯</th><th scope=col>LFGA3</th><th scope=col>LFTM</th><th scope=col>LFTA</th><th scope=col>LOR</th><th scope=col>LDR</th><th scope=col>LAst</th><th scope=col>LTO</th><th scope=col>LStl</th><th scope=col>LBlk</th><th scope=col>LPF</th></tr></thead>\n",
       "<tbody>\n",
       "\t<tr><td>2011</td><td>7   </td><td>1228</td><td> 79 </td><td>1414</td><td>65  </td><td>H   </td><td>0   </td><td>29  </td><td>58  </td><td>⋯   </td><td>20  </td><td>14  </td><td>22  </td><td>11  </td><td>26  </td><td>12  </td><td>14  </td><td> 7  </td><td>1   </td><td>21  </td></tr>\n",
       "\t<tr><td>2011</td><td>7   </td><td>1268</td><td>105 </td><td>1370</td><td>76  </td><td>H   </td><td>0   </td><td>35  </td><td>62  </td><td>⋯   </td><td>16  </td><td>17  </td><td>22  </td><td>18  </td><td>16  </td><td>11  </td><td>27  </td><td>18  </td><td>1   </td><td>31  </td></tr>\n",
       "\t<tr><td>2011</td><td>7   </td><td>1338</td><td> 83 </td><td>1348</td><td>75  </td><td>H   </td><td>0   </td><td>29  </td><td>64  </td><td>⋯   </td><td>32  </td><td>13  </td><td>16  </td><td>10  </td><td>21  </td><td>16  </td><td>17  </td><td> 7  </td><td>6   </td><td>25  </td></tr>\n",
       "\t<tr><td>2011</td><td>7   </td><td>1400</td><td> 83 </td><td>1298</td><td>52  </td><td>H   </td><td>0   </td><td>30  </td><td>59  </td><td>⋯   </td><td>23  </td><td>10  </td><td>18  </td><td> 8  </td><td>22  </td><td> 8  </td><td>16  </td><td> 5  </td><td>5   </td><td>24  </td></tr>\n",
       "\t<tr><td>2011</td><td>9   </td><td>1228</td><td> 84 </td><td>1405</td><td>45  </td><td>H   </td><td>0   </td><td>37  </td><td>64  </td><td>⋯   </td><td>12  </td><td>10  </td><td>19  </td><td> 6  </td><td>17  </td><td> 9  </td><td>23  </td><td> 6  </td><td>0   </td><td>14  </td></tr>\n",
       "\t<tr><td>2011</td><td>9   </td><td>1268</td><td> 75 </td><td>1158</td><td>74  </td><td>H   </td><td>0   </td><td>34  </td><td>66  </td><td>⋯   </td><td>20  </td><td>16  </td><td>19  </td><td>11  </td><td>25  </td><td>12  </td><td>22  </td><td> 8  </td><td>8   </td><td>19  </td></tr>\n",
       "</tbody>\n",
       "</table>\n"
      ],
      "text/latex": [
       "\\begin{tabular}{r|llllllllllllllllllllllllllllllllll}\n",
       " Season & DayNum & WTeamID & WScore & LTeamID & LScore & WLoc & NumOT & WFGM & WFGA & ⋯ & LFGA3 & LFTM & LFTA & LOR & LDR & LAst & LTO & LStl & LBlk & LPF\\\\\n",
       "\\hline\n",
       "\t 2011 & 7    & 1228 &  79  & 1414 & 65   & H    & 0    & 29   & 58   & ⋯    & 20   & 14   & 22   & 11   & 26   & 12   & 14   &  7   & 1    & 21  \\\\\n",
       "\t 2011 & 7    & 1268 & 105  & 1370 & 76   & H    & 0    & 35   & 62   & ⋯    & 16   & 17   & 22   & 18   & 16   & 11   & 27   & 18   & 1    & 31  \\\\\n",
       "\t 2011 & 7    & 1338 &  83  & 1348 & 75   & H    & 0    & 29   & 64   & ⋯    & 32   & 13   & 16   & 10   & 21   & 16   & 17   &  7   & 6    & 25  \\\\\n",
       "\t 2011 & 7    & 1400 &  83  & 1298 & 52   & H    & 0    & 30   & 59   & ⋯    & 23   & 10   & 18   &  8   & 22   &  8   & 16   &  5   & 5    & 24  \\\\\n",
       "\t 2011 & 9    & 1228 &  84  & 1405 & 45   & H    & 0    & 37   & 64   & ⋯    & 12   & 10   & 19   &  6   & 17   &  9   & 23   &  6   & 0    & 14  \\\\\n",
       "\t 2011 & 9    & 1268 &  75  & 1158 & 74   & H    & 0    & 34   & 66   & ⋯    & 20   & 16   & 19   & 11   & 25   & 12   & 22   &  8   & 8    & 19  \\\\\n",
       "\\end{tabular}\n"
      ],
      "text/markdown": [
       "\n",
       "| Season | DayNum | WTeamID | WScore | LTeamID | LScore | WLoc | NumOT | WFGM | WFGA | ⋯ | LFGA3 | LFTM | LFTA | LOR | LDR | LAst | LTO | LStl | LBlk | LPF |\n",
       "|---|---|---|---|---|---|---|---|---|---|---|---|---|---|---|---|---|---|---|---|---|\n",
       "| 2011 | 7    | 1228 |  79  | 1414 | 65   | H    | 0    | 29   | 58   | ⋯    | 20   | 14   | 22   | 11   | 26   | 12   | 14   |  7   | 1    | 21   |\n",
       "| 2011 | 7    | 1268 | 105  | 1370 | 76   | H    | 0    | 35   | 62   | ⋯    | 16   | 17   | 22   | 18   | 16   | 11   | 27   | 18   | 1    | 31   |\n",
       "| 2011 | 7    | 1338 |  83  | 1348 | 75   | H    | 0    | 29   | 64   | ⋯    | 32   | 13   | 16   | 10   | 21   | 16   | 17   |  7   | 6    | 25   |\n",
       "| 2011 | 7    | 1400 |  83  | 1298 | 52   | H    | 0    | 30   | 59   | ⋯    | 23   | 10   | 18   |  8   | 22   |  8   | 16   |  5   | 5    | 24   |\n",
       "| 2011 | 9    | 1228 |  84  | 1405 | 45   | H    | 0    | 37   | 64   | ⋯    | 12   | 10   | 19   |  6   | 17   |  9   | 23   |  6   | 0    | 14   |\n",
       "| 2011 | 9    | 1268 |  75  | 1158 | 74   | H    | 0    | 34   | 66   | ⋯    | 20   | 16   | 19   | 11   | 25   | 12   | 22   |  8   | 8    | 19   |\n",
       "\n"
      ],
      "text/plain": [
       "  Season DayNum WTeamID WScore LTeamID LScore WLoc NumOT WFGM WFGA ⋯ LFGA3 LFTM\n",
       "1 2011   7      1228     79    1414    65     H    0     29   58   ⋯ 20    14  \n",
       "2 2011   7      1268    105    1370    76     H    0     35   62   ⋯ 16    17  \n",
       "3 2011   7      1338     83    1348    75     H    0     29   64   ⋯ 32    13  \n",
       "4 2011   7      1400     83    1298    52     H    0     30   59   ⋯ 23    10  \n",
       "5 2011   9      1228     84    1405    45     H    0     37   64   ⋯ 12    10  \n",
       "6 2011   9      1268     75    1158    74     H    0     34   66   ⋯ 20    16  \n",
       "  LFTA LOR LDR LAst LTO LStl LBlk LPF\n",
       "1 22   11  26  12   14   7   1    21 \n",
       "2 22   18  16  11   27  18   1    31 \n",
       "3 16   10  21  16   17   7   6    25 \n",
       "4 18    8  22   8   16   5   5    24 \n",
       "5 19    6  17   9   23   6   0    14 \n",
       "6 19   11  25  12   22   8   8    19 "
      ]
     },
     "metadata": {},
     "output_type": "display_data"
    }
   ],
   "source": [
    "data.regulars %>% dim %>% cat\n",
    "data.regulars %>% head"
   ]
  },
  {
   "cell_type": "code",
   "execution_count": 5,
   "metadata": {},
   "outputs": [],
   "source": [
    "data.regulars %>%\n",
    "    select_at(vars(Season,DayNum,starts_with('W'),OTeamID=LTeamID)) %>% \n",
    "    rename_at(vars(starts_with('W')),list(~str_remove(.,'W'))) -> group1\n",
    "data.regulars %>%\n",
    "    select_at(vars(Season,DayNum,starts_with('L'),LLoc=WLoc,OTeamID=WTeamID)) %>% \n",
    "    rename_at(vars(starts_with('L')),list(~str_remove(.,'L'))) %>%\n",
    "    mutate(Loc=case_when(Loc=='H' ~ 'A', Loc=='A' ~ 'H', TRUE ~ 'N')) -> group2\n",
    "group1 %>% bind_rows(group2) -> df.regulars\n",
    "remove(list=c('group1','group2'))"
   ]
  },
  {
   "cell_type": "code",
   "execution_count": 6,
   "metadata": {},
   "outputs": [
    {
     "name": "stdout",
     "output_type": "stream",
     "text": [
      "85408 19 \n"
     ]
    },
    {
     "data": {
      "text/html": [
       "<table>\n",
       "<thead><tr><th scope=col>Season</th><th scope=col>DayNum</th><th scope=col>TeamID</th><th scope=col>Score</th><th scope=col>Loc</th><th scope=col>FGM</th><th scope=col>FGA</th><th scope=col>FGM3</th><th scope=col>FGA3</th><th scope=col>FTM</th><th scope=col>FTA</th><th scope=col>OR</th><th scope=col>DR</th><th scope=col>Ast</th><th scope=col>TO</th><th scope=col>Stl</th><th scope=col>Blk</th><th scope=col>PF</th><th scope=col>OTeamID</th></tr></thead>\n",
       "<tbody>\n",
       "\t<tr><td>2011</td><td>7   </td><td>1228</td><td> 79 </td><td>H   </td><td>29  </td><td>58  </td><td>8   </td><td>24  </td><td>13  </td><td>23  </td><td> 9  </td><td>30  </td><td>17  </td><td>14  </td><td> 9  </td><td>8   </td><td>22  </td><td>1414</td></tr>\n",
       "\t<tr><td>2011</td><td>7   </td><td>1268</td><td>105 </td><td>H   </td><td>35  </td><td>62  </td><td>2   </td><td> 8  </td><td>33  </td><td>41  </td><td>17  </td><td>33  </td><td>23  </td><td>29  </td><td> 9  </td><td>9   </td><td>20  </td><td>1370</td></tr>\n",
       "\t<tr><td>2011</td><td>7   </td><td>1338</td><td> 83 </td><td>H   </td><td>29  </td><td>64  </td><td>3   </td><td>15  </td><td>22  </td><td>30  </td><td>18  </td><td>28  </td><td>19  </td><td>14  </td><td> 8  </td><td>6   </td><td>18  </td><td>1348</td></tr>\n",
       "\t<tr><td>2011</td><td>7   </td><td>1400</td><td> 83 </td><td>H   </td><td>30  </td><td>59  </td><td>4   </td><td>17  </td><td>19  </td><td>34  </td><td>11  </td><td>39  </td><td>16  </td><td>15  </td><td> 5  </td><td>5   </td><td>17  </td><td>1298</td></tr>\n",
       "\t<tr><td>2011</td><td>9   </td><td>1228</td><td> 84 </td><td>H   </td><td>37  </td><td>64  </td><td>5   </td><td>18  </td><td> 5  </td><td> 6  </td><td>10  </td><td>28  </td><td>21  </td><td>14  </td><td>10  </td><td>7   </td><td>18  </td><td>1405</td></tr>\n",
       "\t<tr><td>2011</td><td>9   </td><td>1268</td><td> 75 </td><td>H   </td><td>34  </td><td>66  </td><td>2   </td><td> 7  </td><td> 5  </td><td>18  </td><td>15  </td><td>21  </td><td>17  </td><td>18  </td><td>11  </td><td>3   </td><td>18  </td><td>1158</td></tr>\n",
       "</tbody>\n",
       "</table>\n"
      ],
      "text/latex": [
       "\\begin{tabular}{r|lllllllllllllllllll}\n",
       " Season & DayNum & TeamID & Score & Loc & FGM & FGA & FGM3 & FGA3 & FTM & FTA & OR & DR & Ast & TO & Stl & Blk & PF & OTeamID\\\\\n",
       "\\hline\n",
       "\t 2011 & 7    & 1228 &  79  & H    & 29   & 58   & 8    & 24   & 13   & 23   &  9   & 30   & 17   & 14   &  9   & 8    & 22   & 1414\\\\\n",
       "\t 2011 & 7    & 1268 & 105  & H    & 35   & 62   & 2    &  8   & 33   & 41   & 17   & 33   & 23   & 29   &  9   & 9    & 20   & 1370\\\\\n",
       "\t 2011 & 7    & 1338 &  83  & H    & 29   & 64   & 3    & 15   & 22   & 30   & 18   & 28   & 19   & 14   &  8   & 6    & 18   & 1348\\\\\n",
       "\t 2011 & 7    & 1400 &  83  & H    & 30   & 59   & 4    & 17   & 19   & 34   & 11   & 39   & 16   & 15   &  5   & 5    & 17   & 1298\\\\\n",
       "\t 2011 & 9    & 1228 &  84  & H    & 37   & 64   & 5    & 18   &  5   &  6   & 10   & 28   & 21   & 14   & 10   & 7    & 18   & 1405\\\\\n",
       "\t 2011 & 9    & 1268 &  75  & H    & 34   & 66   & 2    &  7   &  5   & 18   & 15   & 21   & 17   & 18   & 11   & 3    & 18   & 1158\\\\\n",
       "\\end{tabular}\n"
      ],
      "text/markdown": [
       "\n",
       "| Season | DayNum | TeamID | Score | Loc | FGM | FGA | FGM3 | FGA3 | FTM | FTA | OR | DR | Ast | TO | Stl | Blk | PF | OTeamID |\n",
       "|---|---|---|---|---|---|---|---|---|---|---|---|---|---|---|---|---|---|---|\n",
       "| 2011 | 7    | 1228 |  79  | H    | 29   | 58   | 8    | 24   | 13   | 23   |  9   | 30   | 17   | 14   |  9   | 8    | 22   | 1414 |\n",
       "| 2011 | 7    | 1268 | 105  | H    | 35   | 62   | 2    |  8   | 33   | 41   | 17   | 33   | 23   | 29   |  9   | 9    | 20   | 1370 |\n",
       "| 2011 | 7    | 1338 |  83  | H    | 29   | 64   | 3    | 15   | 22   | 30   | 18   | 28   | 19   | 14   |  8   | 6    | 18   | 1348 |\n",
       "| 2011 | 7    | 1400 |  83  | H    | 30   | 59   | 4    | 17   | 19   | 34   | 11   | 39   | 16   | 15   |  5   | 5    | 17   | 1298 |\n",
       "| 2011 | 9    | 1228 |  84  | H    | 37   | 64   | 5    | 18   |  5   |  6   | 10   | 28   | 21   | 14   | 10   | 7    | 18   | 1405 |\n",
       "| 2011 | 9    | 1268 |  75  | H    | 34   | 66   | 2    |  7   |  5   | 18   | 15   | 21   | 17   | 18   | 11   | 3    | 18   | 1158 |\n",
       "\n"
      ],
      "text/plain": [
       "  Season DayNum TeamID Score Loc FGM FGA FGM3 FGA3 FTM FTA OR DR Ast TO Stl Blk\n",
       "1 2011   7      1228    79   H   29  58  8    24   13  23   9 30 17  14  9  8  \n",
       "2 2011   7      1268   105   H   35  62  2     8   33  41  17 33 23  29  9  9  \n",
       "3 2011   7      1338    83   H   29  64  3    15   22  30  18 28 19  14  8  6  \n",
       "4 2011   7      1400    83   H   30  59  4    17   19  34  11 39 16  15  5  5  \n",
       "5 2011   9      1228    84   H   37  64  5    18    5   6  10 28 21  14 10  7  \n",
       "6 2011   9      1268    75   H   34  66  2     7    5  18  15 21 17  18 11  3  \n",
       "  PF OTeamID\n",
       "1 22 1414   \n",
       "2 20 1370   \n",
       "3 18 1348   \n",
       "4 17 1298   \n",
       "5 18 1405   \n",
       "6 18 1158   "
      ]
     },
     "metadata": {},
     "output_type": "display_data"
    }
   ],
   "source": [
    "df.regulars %>% dim %>% cat('\\n')\n",
    "df.regulars %>% head"
   ]
  },
  {
   "cell_type": "code",
   "execution_count": 7,
   "metadata": {},
   "outputs": [],
   "source": [
    "df.regulars %>%\n",
    "    left_join(df.teams %>% rename(OTeamName=TeamName),by=c('OTeamID'='TeamID')) %>%\n",
    "    left_join(df.teams,by='TeamID') -> df.regulars"
   ]
  },
  {
   "cell_type": "code",
   "execution_count": 8,
   "metadata": {},
   "outputs": [
    {
     "data": {
      "text/html": [
       "<table>\n",
       "<thead><tr><th scope=col>Season</th><th scope=col>DayNum</th><th scope=col>WTeamID</th><th scope=col>WScore</th><th scope=col>LTeamID</th><th scope=col>LScore</th><th scope=col>WLoc</th><th scope=col>NumOT</th></tr></thead>\n",
       "<tbody>\n",
       "\t<tr><td>2014</td><td>4   </td><td>1103</td><td>72  </td><td>1157</td><td>63  </td><td>H   </td><td>0   </td></tr>\n",
       "</tbody>\n",
       "</table>\n"
      ],
      "text/latex": [
       "\\begin{tabular}{r|llllllll}\n",
       " Season & DayNum & WTeamID & WScore & LTeamID & LScore & WLoc & NumOT\\\\\n",
       "\\hline\n",
       "\t 2014 & 4    & 1103 & 72   & 1157 & 63   & H    & 0   \\\\\n",
       "\\end{tabular}\n"
      ],
      "text/markdown": [
       "\n",
       "| Season | DayNum | WTeamID | WScore | LTeamID | LScore | WLoc | NumOT |\n",
       "|---|---|---|---|---|---|---|---|\n",
       "| 2014 | 4    | 1103 | 72   | 1157 | 63   | H    | 0    |\n",
       "\n"
      ],
      "text/plain": [
       "  Season DayNum WTeamID WScore LTeamID LScore WLoc NumOT\n",
       "1 2014   4      1103    72     1157    63     H    0    "
      ]
     },
     "metadata": {},
     "output_type": "display_data"
    },
    {
     "data": {
      "text/html": [
       "<table>\n",
       "<thead><tr><th scope=col>Season</th><th scope=col>DayNum</th><th scope=col>TeamID</th><th scope=col>Score</th><th scope=col>Loc</th><th scope=col>FGM</th><th scope=col>FGA</th><th scope=col>FGM3</th><th scope=col>FGA3</th><th scope=col>FTM</th><th scope=col>⋯</th><th scope=col>OR</th><th scope=col>DR</th><th scope=col>Ast</th><th scope=col>TO</th><th scope=col>Stl</th><th scope=col>Blk</th><th scope=col>PF</th><th scope=col>OTeamID</th><th scope=col>OTeamName</th><th scope=col>TeamName</th></tr></thead>\n",
       "<tbody>\n",
       "\t<tr><td>2014       </td><td>4          </td><td>1103       </td><td>72         </td><td>H          </td><td>25         </td><td>59         </td><td>7          </td><td>22         </td><td>15         </td><td>⋯          </td><td>14         </td><td>24         </td><td>10         </td><td>17         </td><td>13         </td><td>5          </td><td>18         </td><td>1157       </td><td>coastal_car</td><td>akron      </td></tr>\n",
       "\t<tr><td>2014       </td><td>4          </td><td>1157       </td><td>63         </td><td>A          </td><td>23         </td><td>59         </td><td>6          </td><td>14         </td><td>11         </td><td>⋯          </td><td>15         </td><td>22         </td><td> 6         </td><td>20         </td><td> 8         </td><td>4          </td><td>22         </td><td>1103       </td><td>akron      </td><td>coastal_car</td></tr>\n",
       "</tbody>\n",
       "</table>\n"
      ],
      "text/latex": [
       "\\begin{tabular}{r|lllllllllllllllllllll}\n",
       " Season & DayNum & TeamID & Score & Loc & FGM & FGA & FGM3 & FGA3 & FTM & ⋯ & OR & DR & Ast & TO & Stl & Blk & PF & OTeamID & OTeamName & TeamName\\\\\n",
       "\\hline\n",
       "\t 2014          & 4             & 1103          & 72            & H             & 25            & 59            & 7             & 22            & 15            & ⋯             & 14            & 24            & 10            & 17            & 13            & 5             & 18            & 1157          & coastal\\_car & akron        \\\\\n",
       "\t 2014          & 4             & 1157          & 63            & A             & 23            & 59            & 6             & 14            & 11            & ⋯             & 15            & 22            &  6            & 20            &  8            & 4             & 22            & 1103          & akron         & coastal\\_car\\\\\n",
       "\\end{tabular}\n"
      ],
      "text/markdown": [
       "\n",
       "| Season | DayNum | TeamID | Score | Loc | FGM | FGA | FGM3 | FGA3 | FTM | ⋯ | OR | DR | Ast | TO | Stl | Blk | PF | OTeamID | OTeamName | TeamName |\n",
       "|---|---|---|---|---|---|---|---|---|---|---|---|---|---|---|---|---|---|---|---|---|\n",
       "| 2014        | 4           | 1103        | 72          | H           | 25          | 59          | 7           | 22          | 15          | ⋯           | 14          | 24          | 10          | 17          | 13          | 5           | 18          | 1157        | coastal_car | akron       |\n",
       "| 2014        | 4           | 1157        | 63          | A           | 23          | 59          | 6           | 14          | 11          | ⋯           | 15          | 22          |  6          | 20          |  8          | 4           | 22          | 1103        | akron       | coastal_car |\n",
       "\n"
      ],
      "text/plain": [
       "  Season DayNum TeamID Score Loc FGM FGA FGM3 FGA3 FTM ⋯ OR DR Ast TO Stl Blk\n",
       "1 2014   4      1103   72    H   25  59  7    22   15  ⋯ 14 24 10  17 13  5  \n",
       "2 2014   4      1157   63    A   23  59  6    14   11  ⋯ 15 22  6  20  8  4  \n",
       "  PF OTeamID OTeamName   TeamName   \n",
       "1 18 1157    coastal_car akron      \n",
       "2 22 1103    akron       coastal_car"
      ]
     },
     "metadata": {},
     "output_type": "display_data"
    }
   ],
   "source": [
    "# Check\n",
    "data.regulars %>% filter(Season==2014,WTeamID==1103,DayNum==4) %>% select(Season:NumOT)\n",
    "df.regulars %>% filter(TeamID==1103 | OTeamID==1103,DayNum==4,Season==2014)"
   ]
  },
  {
   "cell_type": "markdown",
   "metadata": {},
   "source": [
    "#### Stat matrix"
   ]
  },
  {
   "cell_type": "code",
   "execution_count": 9,
   "metadata": {},
   "outputs": [],
   "source": [
    "CreateMatrix <- function(dataset,stat) {\n",
    "    stat_var <- enquo(stat)\n",
    "    dataset %>% rename(Statistic := !!stat_var) -> dataset\n",
    "    for(i in 2011:2018) {\n",
    "        dataset %>%\n",
    "            filter(Season==i) %>%\n",
    "            select(TeamName,OTeamName,Statistic) %>% \n",
    "            group_by(TeamName,OTeamName) %>% \n",
    "            summarise(Statistic=mean(Statistic)) %>% \n",
    "            ungroup() %>%\n",
    "            spread(TeamName,Statistic) %>% \n",
    "            impute(0.01) %>% \n",
    "            select(-OTeamName) %>% \n",
    "            as.matrix() -> tmp\n",
    "        dataset %>% \n",
    "            filter(Season==i) %>% \n",
    "            distinct(OTeamName) %>% \n",
    "            arrange(OTeamName) %>% \n",
    "            pull(OTeamName) -> vnames\n",
    "        attr(tmp,'dimnames') <- list(vnames,vnames)\n",
    "        assign(paste0('m.stat.',i), tmp, envir=.GlobalEnv)\n",
    "    }\n",
    "}"
   ]
  },
  {
   "cell_type": "code",
   "execution_count": 10,
   "metadata": {},
   "outputs": [],
   "source": [
    "CreateMatrix(df.regulars,Score)"
   ]
  },
  {
   "cell_type": "code",
   "execution_count": 11,
   "metadata": {},
   "outputs": [
    {
     "data": {
      "text/html": [
       "<table>\n",
       "<thead><tr><th></th><th scope=col>air_force</th><th scope=col>akron</th><th scope=col>alabama</th><th scope=col>alabama_am</th><th scope=col>alabama_st</th><th scope=col>albany_ny</th><th scope=col>alcorn_st</th><th scope=col>american_univ</th><th scope=col>appalachian_st</th><th scope=col>arizona</th><th scope=col>⋯</th><th scope=col>william__mary</th><th scope=col>winthrop</th><th scope=col>wisconsin</th><th scope=col>wku</th><th scope=col>wofford</th><th scope=col>wright_st</th><th scope=col>wyoming</th><th scope=col>xavier</th><th scope=col>yale</th><th scope=col>youngstown_st</th></tr></thead>\n",
       "<tbody>\n",
       "\t<tr><th scope=row>air_force</th><td>0.01    </td><td>0.01    </td><td> 0.01   </td><td> 0.01   </td><td> 0.01000</td><td>0.01    </td><td> 0.01   </td><td> 0.01   </td><td>0.01    </td><td>0.01    </td><td>⋯       </td><td>0.01    </td><td>0.01    </td><td>0.01    </td><td> 0.01   </td><td>66.00   </td><td>76.00   </td><td>57.00   </td><td> 0.01   </td><td> 0.01   </td><td> 0.01   </td></tr>\n",
       "\t<tr><th scope=row>akron</th><td>0.01    </td><td>0.01    </td><td> 0.01   </td><td> 0.01   </td><td> 0.01000</td><td>0.01    </td><td> 0.01   </td><td> 0.01   </td><td>0.01    </td><td>0.01    </td><td>⋯       </td><td>0.01    </td><td>0.01    </td><td>0.01    </td><td> 0.01   </td><td> 0.01   </td><td> 0.01   </td><td> 0.01   </td><td> 0.01   </td><td> 0.01   </td><td>84.00   </td></tr>\n",
       "\t<tr><th scope=row>alabama</th><td>0.01    </td><td>0.01    </td><td> 0.01   </td><td>50.00   </td><td> 0.01000</td><td>0.01    </td><td> 0.01   </td><td> 0.01   </td><td>0.01    </td><td>0.01    </td><td>⋯       </td><td>0.01    </td><td>0.01    </td><td>0.01    </td><td> 0.01   </td><td> 0.01   </td><td> 0.01   </td><td> 0.01   </td><td> 0.01   </td><td> 0.01   </td><td> 0.01   </td></tr>\n",
       "\t<tr><th scope=row>alabama_am</th><td>0.01    </td><td>0.01    </td><td>76.00   </td><td> 0.01   </td><td>74.33333</td><td>0.01    </td><td>61.50   </td><td> 0.01   </td><td>0.01    </td><td>0.01    </td><td>⋯       </td><td>0.01    </td><td>0.01    </td><td>0.01    </td><td>83.00   </td><td> 0.01   </td><td> 0.01   </td><td> 0.01   </td><td> 0.01   </td><td> 0.01   </td><td> 0.01   </td></tr>\n",
       "\t<tr><th scope=row>alabama_st</th><td>0.01    </td><td>0.01    </td><td> 0.01   </td><td>68.00   </td><td> 0.01000</td><td>0.01    </td><td>60.50   </td><td> 0.01   </td><td>0.01    </td><td>0.01    </td><td>⋯       </td><td>0.01    </td><td>0.01    </td><td>0.01    </td><td> 0.01   </td><td> 0.01   </td><td> 0.01   </td><td> 0.01   </td><td> 0.01   </td><td> 0.01   </td><td> 0.01   </td></tr>\n",
       "\t<tr><th scope=row>albany_ny</th><td>0.01    </td><td>0.01    </td><td> 0.01   </td><td> 0.01   </td><td> 0.01000</td><td>0.01    </td><td> 0.01   </td><td>57.00   </td><td>0.01    </td><td>0.01    </td><td>⋯       </td><td>0.01    </td><td>0.01    </td><td>0.01    </td><td> 0.01   </td><td> 0.01   </td><td> 0.01   </td><td> 0.01   </td><td>88.00   </td><td>74.00   </td><td> 0.01   </td></tr>\n",
       "</tbody>\n",
       "</table>\n"
      ],
      "text/latex": [
       "\\begin{tabular}{r|lllllllllllllllllllllllllllllllllllllllllllllllllllllllllllllllllllllllllllllllllllllllllllllllllllllllllllllllllllllllllllllllllllllllllllllllllllllllllllllllllllllllllllllllllllllllllllllllllllllllllllllllllllllllllllllllllllllllllllllllllllllllllllllllllllllllllllllllllllllllllllllllllllllllllllllllllllllllllllllllllllllllllllllllllllllllll}\n",
       "  & air\\_force & akron & alabama & alabama\\_am & alabama\\_st & albany\\_ny & alcorn\\_st & american\\_univ & appalachian\\_st & arizona & ⋯ & william\\_\\_mary & winthrop & wisconsin & wku & wofford & wright\\_st & wyoming & xavier & yale & youngstown\\_st\\\\\n",
       "\\hline\n",
       "\tair\\_force & 0.01     & 0.01     &  0.01    &  0.01    &  0.01000 & 0.01     &  0.01    &  0.01    & 0.01     & 0.01     & ⋯        & 0.01     & 0.01     & 0.01     &  0.01    & 66.00    & 76.00    & 57.00    &  0.01    &  0.01    &  0.01   \\\\\n",
       "\takron & 0.01     & 0.01     &  0.01    &  0.01    &  0.01000 & 0.01     &  0.01    &  0.01    & 0.01     & 0.01     & ⋯        & 0.01     & 0.01     & 0.01     &  0.01    &  0.01    &  0.01    &  0.01    &  0.01    &  0.01    & 84.00   \\\\\n",
       "\talabama & 0.01     & 0.01     &  0.01    & 50.00    &  0.01000 & 0.01     &  0.01    &  0.01    & 0.01     & 0.01     & ⋯        & 0.01     & 0.01     & 0.01     &  0.01    &  0.01    &  0.01    &  0.01    &  0.01    &  0.01    &  0.01   \\\\\n",
       "\talabama\\_am & 0.01     & 0.01     & 76.00    &  0.01    & 74.33333 & 0.01     & 61.50    &  0.01    & 0.01     & 0.01     & ⋯        & 0.01     & 0.01     & 0.01     & 83.00    &  0.01    &  0.01    &  0.01    &  0.01    &  0.01    &  0.01   \\\\\n",
       "\talabama\\_st & 0.01     & 0.01     &  0.01    & 68.00    &  0.01000 & 0.01     & 60.50    &  0.01    & 0.01     & 0.01     & ⋯        & 0.01     & 0.01     & 0.01     &  0.01    &  0.01    &  0.01    &  0.01    &  0.01    &  0.01    &  0.01   \\\\\n",
       "\talbany\\_ny & 0.01     & 0.01     &  0.01    &  0.01    &  0.01000 & 0.01     &  0.01    & 57.00    & 0.01     & 0.01     & ⋯        & 0.01     & 0.01     & 0.01     &  0.01    &  0.01    &  0.01    &  0.01    & 88.00    & 74.00    &  0.01   \\\\\n",
       "\\end{tabular}\n"
      ],
      "text/markdown": [
       "\n",
       "| <!--/--> | air_force | akron | alabama | alabama_am | alabama_st | albany_ny | alcorn_st | american_univ | appalachian_st | arizona | ⋯ | william__mary | winthrop | wisconsin | wku | wofford | wright_st | wyoming | xavier | yale | youngstown_st |\n",
       "|---|---|---|---|---|---|---|---|---|---|---|---|---|---|---|---|---|---|---|---|---|---|\n",
       "| air_force | 0.01     | 0.01     |  0.01    |  0.01    |  0.01000 | 0.01     |  0.01    |  0.01    | 0.01     | 0.01     | ⋯        | 0.01     | 0.01     | 0.01     |  0.01    | 66.00    | 76.00    | 57.00    |  0.01    |  0.01    |  0.01    |\n",
       "| akron | 0.01     | 0.01     |  0.01    |  0.01    |  0.01000 | 0.01     |  0.01    |  0.01    | 0.01     | 0.01     | ⋯        | 0.01     | 0.01     | 0.01     |  0.01    |  0.01    |  0.01    |  0.01    |  0.01    |  0.01    | 84.00    |\n",
       "| alabama | 0.01     | 0.01     |  0.01    | 50.00    |  0.01000 | 0.01     |  0.01    |  0.01    | 0.01     | 0.01     | ⋯        | 0.01     | 0.01     | 0.01     |  0.01    |  0.01    |  0.01    |  0.01    |  0.01    |  0.01    |  0.01    |\n",
       "| alabama_am | 0.01     | 0.01     | 76.00    |  0.01    | 74.33333 | 0.01     | 61.50    |  0.01    | 0.01     | 0.01     | ⋯        | 0.01     | 0.01     | 0.01     | 83.00    |  0.01    |  0.01    |  0.01    |  0.01    |  0.01    |  0.01    |\n",
       "| alabama_st | 0.01     | 0.01     |  0.01    | 68.00    |  0.01000 | 0.01     | 60.50    |  0.01    | 0.01     | 0.01     | ⋯        | 0.01     | 0.01     | 0.01     |  0.01    |  0.01    |  0.01    |  0.01    |  0.01    |  0.01    |  0.01    |\n",
       "| albany_ny | 0.01     | 0.01     |  0.01    |  0.01    |  0.01000 | 0.01     |  0.01    | 57.00    | 0.01     | 0.01     | ⋯        | 0.01     | 0.01     | 0.01     |  0.01    |  0.01    |  0.01    |  0.01    | 88.00    | 74.00    |  0.01    |\n",
       "\n"
      ],
      "text/plain": [
       "           air_force akron alabama alabama_am alabama_st albany_ny alcorn_st\n",
       "air_force  0.01      0.01   0.01    0.01       0.01000   0.01       0.01    \n",
       "akron      0.01      0.01   0.01    0.01       0.01000   0.01       0.01    \n",
       "alabama    0.01      0.01   0.01   50.00       0.01000   0.01       0.01    \n",
       "alabama_am 0.01      0.01  76.00    0.01      74.33333   0.01      61.50    \n",
       "alabama_st 0.01      0.01   0.01   68.00       0.01000   0.01      60.50    \n",
       "albany_ny  0.01      0.01   0.01    0.01       0.01000   0.01       0.01    \n",
       "           american_univ appalachian_st arizona ⋯ william__mary winthrop\n",
       "air_force   0.01         0.01           0.01    ⋯ 0.01          0.01    \n",
       "akron       0.01         0.01           0.01    ⋯ 0.01          0.01    \n",
       "alabama     0.01         0.01           0.01    ⋯ 0.01          0.01    \n",
       "alabama_am  0.01         0.01           0.01    ⋯ 0.01          0.01    \n",
       "alabama_st  0.01         0.01           0.01    ⋯ 0.01          0.01    \n",
       "albany_ny  57.00         0.01           0.01    ⋯ 0.01          0.01    \n",
       "           wisconsin wku   wofford wright_st wyoming xavier yale  youngstown_st\n",
       "air_force  0.01       0.01 66.00   76.00     57.00    0.01   0.01  0.01        \n",
       "akron      0.01       0.01  0.01    0.01      0.01    0.01   0.01 84.00        \n",
       "alabama    0.01       0.01  0.01    0.01      0.01    0.01   0.01  0.01        \n",
       "alabama_am 0.01      83.00  0.01    0.01      0.01    0.01   0.01  0.01        \n",
       "alabama_st 0.01       0.01  0.01    0.01      0.01    0.01   0.01  0.01        \n",
       "albany_ny  0.01       0.01  0.01    0.01      0.01   88.00  74.00  0.01        "
      ]
     },
     "metadata": {},
     "output_type": "display_data"
    }
   ],
   "source": [
    "m.stat.2011 %>% head"
   ]
  },
  {
   "cell_type": "markdown",
   "metadata": {},
   "source": [
    "####  Offense-Defense Rating"
   ]
  },
  {
   "cell_type": "code",
   "execution_count": 12,
   "metadata": {},
   "outputs": [],
   "source": [
    "ComputeRating <- function(A) {\n",
    "    dnow <- rep(1,nrow(A))\n",
    "    for(i in 1:100) {\n",
    "        dprev <- dnow\n",
    "        dnow <- A %*% (1/(t(A) %*% (1/dprev)))\n",
    "    }\n",
    "    rdef <- as.vector(dnow)\n",
    "    roff <- as.vector(t(A) %*% (1/rdef))\n",
    "    rating <- as.vector(roff / rdef)\n",
    "    data.frame(Team=attr(A,'dimnames')[[2]],Rating=rating,Offense=roff,Defense=rdef)\n",
    "}"
   ]
  },
  {
   "cell_type": "code",
   "execution_count": 13,
   "metadata": {},
   "outputs": [],
   "source": [
    "ComputeRating(m.stat.2011) %>% mutate(Season=2011) %>% mutate_if(is.factor,as.character) -> tmp2011\n",
    "ComputeRating(m.stat.2012) %>% mutate(Season=2012) %>% mutate_if(is.factor,as.character) -> tmp2012\n",
    "ComputeRating(m.stat.2013) %>% mutate(Season=2013) %>% mutate_if(is.factor,as.character) -> tmp2013\n",
    "ComputeRating(m.stat.2014) %>% mutate(Season=2014) %>% mutate_if(is.factor,as.character) -> tmp2014\n",
    "ComputeRating(m.stat.2015) %>% mutate(Season=2015) %>% mutate_if(is.factor,as.character) -> tmp2015\n",
    "ComputeRating(m.stat.2016) %>% mutate(Season=2016) %>% mutate_if(is.factor,as.character) -> tmp2016\n",
    "ComputeRating(m.stat.2017) %>% mutate(Season=2017) %>% mutate_if(is.factor,as.character) -> tmp2017\n",
    "ComputeRating(m.stat.2018) %>% mutate(Season=2018) %>% mutate_if(is.factor,as.character) -> tmp2018\n",
    "\n",
    "tmp2011 %>% \n",
    "    bind_rows(tmp2012) %>% \n",
    "    bind_rows(tmp2013) %>% \n",
    "    bind_rows(tmp2014) %>% \n",
    "    bind_rows(tmp2015) %>% \n",
    "    bind_rows(tmp2016) %>% \n",
    "    bind_rows(tmp2017) %>% \n",
    "    bind_rows(tmp2018) -> df.ratings\n",
    "\n",
    "remove(list=c('tmp2011','tmp2012','tmp2013','tmp2014','tmp2015','tmp2016','tmp2017','tmp2018'))"
   ]
  },
  {
   "cell_type": "code",
   "execution_count": 14,
   "metadata": {},
   "outputs": [
    {
     "data": {
      "text/html": [
       "<table>\n",
       "<thead><tr><th scope=col>Season</th><th scope=col>Team</th><th scope=col>Rating</th><th scope=col>Offense</th><th scope=col>Defense</th></tr></thead>\n",
       "<tbody>\n",
       "\t<tr><td>2011         </td><td>ohio_st      </td><td>2204.962     </td><td>1890.948     </td><td>0.8575877    </td></tr>\n",
       "\t<tr><td>2012         </td><td>ohio_st      </td><td>2171.778     </td><td>1907.470     </td><td>0.8782988    </td></tr>\n",
       "\t<tr><td>2013         </td><td>florida      </td><td>2178.303     </td><td>1797.912     </td><td>0.8253726    </td></tr>\n",
       "\t<tr><td>2014         </td><td>arizona      </td><td>2222.133     </td><td>1873.361     </td><td>0.8430461    </td></tr>\n",
       "\t<tr><td>2015         </td><td>kentucky     </td><td>2267.379     </td><td>1909.784     </td><td>0.8422868    </td></tr>\n",
       "\t<tr><td>2016         </td><td>michigan_st  </td><td>2195.355     </td><td>2044.434     </td><td>0.9312544    </td></tr>\n",
       "\t<tr><td>2017         </td><td>west_virginia</td><td>2256.546     </td><td>2005.868     </td><td>0.8889107    </td></tr>\n",
       "\t<tr><td>2018         </td><td>virginia     </td><td>2285.446     </td><td>1699.623     </td><td>0.7436722    </td></tr>\n",
       "</tbody>\n",
       "</table>\n"
      ],
      "text/latex": [
       "\\begin{tabular}{r|lllll}\n",
       " Season & Team & Rating & Offense & Defense\\\\\n",
       "\\hline\n",
       "\t 2011            & ohio\\_st       & 2204.962        & 1890.948        & 0.8575877      \\\\\n",
       "\t 2012            & ohio\\_st       & 2171.778        & 1907.470        & 0.8782988      \\\\\n",
       "\t 2013          & florida       & 2178.303      & 1797.912      & 0.8253726    \\\\\n",
       "\t 2014          & arizona       & 2222.133      & 1873.361      & 0.8430461    \\\\\n",
       "\t 2015          & kentucky      & 2267.379      & 1909.784      & 0.8422868    \\\\\n",
       "\t 2016            & michigan\\_st   & 2195.355        & 2044.434        & 0.9312544      \\\\\n",
       "\t 2017            & west\\_virginia & 2256.546        & 2005.868        & 0.8889107      \\\\\n",
       "\t 2018          & virginia      & 2285.446      & 1699.623      & 0.7436722    \\\\\n",
       "\\end{tabular}\n"
      ],
      "text/markdown": [
       "\n",
       "| Season | Team | Rating | Offense | Defense |\n",
       "|---|---|---|---|---|\n",
       "| 2011          | ohio_st       | 2204.962      | 1890.948      | 0.8575877     |\n",
       "| 2012          | ohio_st       | 2171.778      | 1907.470      | 0.8782988     |\n",
       "| 2013          | florida       | 2178.303      | 1797.912      | 0.8253726     |\n",
       "| 2014          | arizona       | 2222.133      | 1873.361      | 0.8430461     |\n",
       "| 2015          | kentucky      | 2267.379      | 1909.784      | 0.8422868     |\n",
       "| 2016          | michigan_st   | 2195.355      | 2044.434      | 0.9312544     |\n",
       "| 2017          | west_virginia | 2256.546      | 2005.868      | 0.8889107     |\n",
       "| 2018          | virginia      | 2285.446      | 1699.623      | 0.7436722     |\n",
       "\n"
      ],
      "text/plain": [
       "  Season Team          Rating   Offense  Defense  \n",
       "1 2011   ohio_st       2204.962 1890.948 0.8575877\n",
       "2 2012   ohio_st       2171.778 1907.470 0.8782988\n",
       "3 2013   florida       2178.303 1797.912 0.8253726\n",
       "4 2014   arizona       2222.133 1873.361 0.8430461\n",
       "5 2015   kentucky      2267.379 1909.784 0.8422868\n",
       "6 2016   michigan_st   2195.355 2044.434 0.9312544\n",
       "7 2017   west_virginia 2256.546 2005.868 0.8889107\n",
       "8 2018   virginia      2285.446 1699.623 0.7436722"
      ]
     },
     "metadata": {},
     "output_type": "display_data"
    }
   ],
   "source": [
    "df.ratings %>% arrange(desc(Rating)) %>% group_by(Season) %>% slice(1:1) %>% ungroup() %>% select(Season,everything())"
   ]
  },
  {
   "cell_type": "markdown",
   "metadata": {},
   "source": [
    "###  Regular seasons performance (train dataset)"
   ]
  },
  {
   "cell_type": "code",
   "execution_count": 15,
   "metadata": {},
   "outputs": [],
   "source": [
    "data.regulars %>% \n",
    "    select(Season,WTeamID,LTeamID) %>%\n",
    "    mutate(TeamID.x = ifelse(WTeamID<LTeamID,WTeamID,LTeamID), \n",
    "           TeamID.y = ifelse(WTeamID<LTeamID,LTeamID,WTeamID),\n",
    "           Target = ifelse(TeamID.x==WTeamID,1,0),\n",
    "           ID=str_c(Season,'_',TeamID.x,'_',TeamID.y)) %>%\n",
    "    select(-WTeamID,-LTeamID) -> df.train"
   ]
  },
  {
   "cell_type": "code",
   "execution_count": 16,
   "metadata": {},
   "outputs": [],
   "source": [
    "df.ratings %>%\n",
    "    left_join(df.teams,by=c('Team'='TeamName')) -> df.ratings"
   ]
  },
  {
   "cell_type": "code",
   "execution_count": 17,
   "metadata": {},
   "outputs": [],
   "source": [
    "df.train %>%\n",
    "    select(-Target,-ID) %>%\n",
    "    inner_join(df.ratings,by=c('Season','TeamID.x'='TeamID')) %>%\n",
    "    select(-Offense,-Defense,-Team) %>%\n",
    "    inner_join(df.ratings,by=c('Season','TeamID.y'='TeamID')) %>% \n",
    "    select(-Offense,-Defense,-Team) -> data.train.matchups"
   ]
  },
  {
   "cell_type": "code",
   "execution_count": 18,
   "metadata": {},
   "outputs": [
    {
     "data": {
      "text/html": [
       "<table>\n",
       "<thead><tr><th scope=col>Season</th><th scope=col>TeamID.x</th><th scope=col>TeamID.y</th><th scope=col>Rating.x</th><th scope=col>Rating.y</th></tr></thead>\n",
       "<tbody>\n",
       "\t<tr><td>2018    </td><td>1258    </td><td>1340    </td><td>1510.046</td><td>1624.432</td></tr>\n",
       "\t<tr><td>2011    </td><td>1422    </td><td>1441    </td><td>1302.177</td><td>1438.008</td></tr>\n",
       "\t<tr><td>2016    </td><td>1154    </td><td>1440    </td><td>1288.829</td><td>1317.333</td></tr>\n",
       "\t<tr><td>2015    </td><td>1278    </td><td>1326    </td><td>1722.088</td><td>1966.230</td></tr>\n",
       "\t<tr><td>2011    </td><td>1310    </td><td>1351    </td><td>1240.004</td><td>1578.412</td></tr>\n",
       "</tbody>\n",
       "</table>\n"
      ],
      "text/latex": [
       "\\begin{tabular}{r|lllll}\n",
       " Season & TeamID.x & TeamID.y & Rating.x & Rating.y\\\\\n",
       "\\hline\n",
       "\t 2018     & 1258     & 1340     & 1510.046 & 1624.432\\\\\n",
       "\t 2011     & 1422     & 1441     & 1302.177 & 1438.008\\\\\n",
       "\t 2016     & 1154     & 1440     & 1288.829 & 1317.333\\\\\n",
       "\t 2015     & 1278     & 1326     & 1722.088 & 1966.230\\\\\n",
       "\t 2011     & 1310     & 1351     & 1240.004 & 1578.412\\\\\n",
       "\\end{tabular}\n"
      ],
      "text/markdown": [
       "\n",
       "| Season | TeamID.x | TeamID.y | Rating.x | Rating.y |\n",
       "|---|---|---|---|---|\n",
       "| 2018     | 1258     | 1340     | 1510.046 | 1624.432 |\n",
       "| 2011     | 1422     | 1441     | 1302.177 | 1438.008 |\n",
       "| 2016     | 1154     | 1440     | 1288.829 | 1317.333 |\n",
       "| 2015     | 1278     | 1326     | 1722.088 | 1966.230 |\n",
       "| 2011     | 1310     | 1351     | 1240.004 | 1578.412 |\n",
       "\n"
      ],
      "text/plain": [
       "  Season TeamID.x TeamID.y Rating.x Rating.y\n",
       "1 2018   1258     1340     1510.046 1624.432\n",
       "2 2011   1422     1441     1302.177 1438.008\n",
       "3 2016   1154     1440     1288.829 1317.333\n",
       "4 2015   1278     1326     1722.088 1966.230\n",
       "5 2011   1310     1351     1240.004 1578.412"
      ]
     },
     "metadata": {},
     "output_type": "display_data"
    }
   ],
   "source": [
    "data.train.matchups %>% sample_n(5)"
   ]
  },
  {
   "cell_type": "code",
   "execution_count": 19,
   "metadata": {},
   "outputs": [
    {
     "data": {
      "text/html": [
       "<table>\n",
       "<thead><tr><th scope=col>Season</th><th scope=col>qtl</th><th scope=col>Slope</th></tr></thead>\n",
       "<tbody>\n",
       "\t<tr><td>2017       </td><td>0.08       </td><td>0.003128031</td></tr>\n",
       "\t<tr><td>2012       </td><td>0.80       </td><td>0.006083507</td></tr>\n",
       "\t<tr><td>2015       </td><td>0.17       </td><td>0.002950938</td></tr>\n",
       "\t<tr><td>2017       </td><td>0.12       </td><td>0.003259619</td></tr>\n",
       "\t<tr><td>2018       </td><td>0.27       </td><td>0.003573569</td></tr>\n",
       "</tbody>\n",
       "</table>\n"
      ],
      "text/latex": [
       "\\begin{tabular}{r|lll}\n",
       " Season & qtl & Slope\\\\\n",
       "\\hline\n",
       "\t 2017        & 0.08        & 0.003128031\\\\\n",
       "\t 2012        & 0.80        & 0.006083507\\\\\n",
       "\t 2015        & 0.17        & 0.002950938\\\\\n",
       "\t 2017        & 0.12        & 0.003259619\\\\\n",
       "\t 2018        & 0.27        & 0.003573569\\\\\n",
       "\\end{tabular}\n"
      ],
      "text/markdown": [
       "\n",
       "| Season | qtl | Slope |\n",
       "|---|---|---|\n",
       "| 2017        | 0.08        | 0.003128031 |\n",
       "| 2012        | 0.80        | 0.006083507 |\n",
       "| 2015        | 0.17        | 0.002950938 |\n",
       "| 2017        | 0.12        | 0.003259619 |\n",
       "| 2018        | 0.27        | 0.003573569 |\n",
       "\n"
      ],
      "text/plain": [
       "  Season qtl  Slope      \n",
       "1 2017   0.08 0.003128031\n",
       "2 2012   0.80 0.006083507\n",
       "3 2015   0.17 0.002950938\n",
       "4 2017   0.12 0.003259619\n",
       "5 2018   0.27 0.003573569"
      ]
     },
     "metadata": {},
     "output_type": "display_data"
    }
   ],
   "source": [
    "# slope hyper parameter grid : we will compute 80 models and chose the best one (min logloss)\n",
    "df.ratings %>% \n",
    "    mutate(dummy=1) %>% \n",
    "    inner_join(data.frame(qtl=seq(0.01,0.80,0.01),dummy=1),by='dummy') %>% \n",
    "    select(-dummy) %>% \n",
    "    group_by(Season,qtl) %>% \n",
    "    mutate(thres=max(Rating)-quantile(Rating,max(qtl)),Slope=3/thres) %>%\n",
    "    ungroup %>% \n",
    "    select(Season,qtl,Slope) %>% \n",
    "    distinct() -> df.slopes\n",
    "df.slopes %>% sample_n(5)"
   ]
  },
  {
   "cell_type": "code",
   "execution_count": 20,
   "metadata": {},
   "outputs": [
    {
     "name": "stdout",
     "output_type": "stream",
     "text": [
      "3416320 7 \n"
     ]
    },
    {
     "data": {
      "text/html": [
       "<table>\n",
       "<thead><tr><th scope=col>Season</th><th scope=col>TeamID.x</th><th scope=col>TeamID.y</th><th scope=col>Rating.x</th><th scope=col>Rating.y</th><th scope=col>qtl</th><th scope=col>Slope</th></tr></thead>\n",
       "<tbody>\n",
       "\t<tr><td>2015       </td><td>1374       </td><td>1416       </td><td>1765.523   </td><td>1343.401   </td><td>0.42       </td><td>0.003315776</td></tr>\n",
       "\t<tr><td>2017       </td><td>1177       </td><td>1266       </td><td>1622.936   </td><td>1961.879   </td><td>0.13       </td><td>0.003278764</td></tr>\n",
       "\t<tr><td>2014       </td><td>1225       </td><td>1308       </td><td>1429.907   </td><td>1679.157   </td><td>0.20       </td><td>0.003438244</td></tr>\n",
       "\t<tr><td>2016       </td><td>1329       </td><td>1452       </td><td>1754.006   </td><td>2158.907   </td><td>0.67       </td><td>0.005417465</td></tr>\n",
       "\t<tr><td>2017       </td><td>1141       </td><td>1453       </td><td>1487.732   </td><td>1525.981   </td><td>0.15       </td><td>0.003323373</td></tr>\n",
       "</tbody>\n",
       "</table>\n"
      ],
      "text/latex": [
       "\\begin{tabular}{r|lllllll}\n",
       " Season & TeamID.x & TeamID.y & Rating.x & Rating.y & qtl & Slope\\\\\n",
       "\\hline\n",
       "\t 2015        & 1374        & 1416        & 1765.523    & 1343.401    & 0.42        & 0.003315776\\\\\n",
       "\t 2017        & 1177        & 1266        & 1622.936    & 1961.879    & 0.13        & 0.003278764\\\\\n",
       "\t 2014        & 1225        & 1308        & 1429.907    & 1679.157    & 0.20        & 0.003438244\\\\\n",
       "\t 2016        & 1329        & 1452        & 1754.006    & 2158.907    & 0.67        & 0.005417465\\\\\n",
       "\t 2017        & 1141        & 1453        & 1487.732    & 1525.981    & 0.15        & 0.003323373\\\\\n",
       "\\end{tabular}\n"
      ],
      "text/markdown": [
       "\n",
       "| Season | TeamID.x | TeamID.y | Rating.x | Rating.y | qtl | Slope |\n",
       "|---|---|---|---|---|---|---|\n",
       "| 2015        | 1374        | 1416        | 1765.523    | 1343.401    | 0.42        | 0.003315776 |\n",
       "| 2017        | 1177        | 1266        | 1622.936    | 1961.879    | 0.13        | 0.003278764 |\n",
       "| 2014        | 1225        | 1308        | 1429.907    | 1679.157    | 0.20        | 0.003438244 |\n",
       "| 2016        | 1329        | 1452        | 1754.006    | 2158.907    | 0.67        | 0.005417465 |\n",
       "| 2017        | 1141        | 1453        | 1487.732    | 1525.981    | 0.15        | 0.003323373 |\n",
       "\n"
      ],
      "text/plain": [
       "  Season TeamID.x TeamID.y Rating.x Rating.y qtl  Slope      \n",
       "1 2015   1374     1416     1765.523 1343.401 0.42 0.003315776\n",
       "2 2017   1177     1266     1622.936 1961.879 0.13 0.003278764\n",
       "3 2014   1225     1308     1429.907 1679.157 0.20 0.003438244\n",
       "4 2016   1329     1452     1754.006 2158.907 0.67 0.005417465\n",
       "5 2017   1141     1453     1487.732 1525.981 0.15 0.003323373"
      ]
     },
     "metadata": {},
     "output_type": "display_data"
    }
   ],
   "source": [
    "data.train.matchups %>% \n",
    "    inner_join(df.slopes,by=c('Season')) -> data.train.matchups\n",
    "data.train.matchups %>% dim %>% cat('\\n')\n",
    "data.train.matchups %>% sample_n(5)"
   ]
  },
  {
   "cell_type": "code",
   "execution_count": 21,
   "metadata": {},
   "outputs": [
    {
     "data": {
      "text/html": [
       "<table>\n",
       "<thead><tr><th scope=col>Season</th><th scope=col>qtl</th><th scope=col>ID</th><th scope=col>Pred</th><th scope=col>Prob</th></tr></thead>\n",
       "<tbody>\n",
       "\t<tr><td>2014          </td><td>0.34          </td><td>2014_1140_1211</td><td>0             </td><td>0.419         </td></tr>\n",
       "\t<tr><td>2018          </td><td>0.31          </td><td>2018_1286_1319</td><td>1             </td><td>0.598         </td></tr>\n",
       "\t<tr><td>2011          </td><td>0.09          </td><td>2011_1373_1436</td><td>0             </td><td>0.435         </td></tr>\n",
       "\t<tr><td>2013          </td><td>0.45          </td><td>2013_1122_1404</td><td>1             </td><td>0.563         </td></tr>\n",
       "\t<tr><td>2017          </td><td>0.49          </td><td>2017_1275_1297</td><td>0             </td><td>0.332         </td></tr>\n",
       "</tbody>\n",
       "</table>\n"
      ],
      "text/latex": [
       "\\begin{tabular}{r|lllll}\n",
       " Season & qtl & ID & Pred & Prob\\\\\n",
       "\\hline\n",
       "\t 2014               & 0.34               & 2014\\_1140\\_1211 & 0                  & 0.419             \\\\\n",
       "\t 2018               & 0.31               & 2018\\_1286\\_1319 & 1                  & 0.598             \\\\\n",
       "\t 2011               & 0.09               & 2011\\_1373\\_1436 & 0                  & 0.435             \\\\\n",
       "\t 2013               & 0.45               & 2013\\_1122\\_1404 & 1                  & 0.563             \\\\\n",
       "\t 2017               & 0.49               & 2017\\_1275\\_1297 & 0                  & 0.332             \\\\\n",
       "\\end{tabular}\n"
      ],
      "text/markdown": [
       "\n",
       "| Season | qtl | ID | Pred | Prob |\n",
       "|---|---|---|---|---|\n",
       "| 2014           | 0.34           | 2014_1140_1211 | 0              | 0.419          |\n",
       "| 2018           | 0.31           | 2018_1286_1319 | 1              | 0.598          |\n",
       "| 2011           | 0.09           | 2011_1373_1436 | 0              | 0.435          |\n",
       "| 2013           | 0.45           | 2013_1122_1404 | 1              | 0.563          |\n",
       "| 2017           | 0.49           | 2017_1275_1297 | 0              | 0.332          |\n",
       "\n"
      ],
      "text/plain": [
       "  Season qtl  ID             Pred Prob \n",
       "1 2014   0.34 2014_1140_1211 0    0.419\n",
       "2 2018   0.31 2018_1286_1319 1    0.598\n",
       "3 2011   0.09 2011_1373_1436 0    0.435\n",
       "4 2013   0.45 2013_1122_1404 1    0.563\n",
       "5 2017   0.49 2017_1275_1297 0    0.332"
      ]
     },
     "metadata": {},
     "output_type": "display_data"
    }
   ],
   "source": [
    "# machups predictions : compute the winning probability of TeamID.x and cap it into [0.05,0.95] to avoid too much logloss is case of FP or FN \n",
    "data.train.matchups %>% \n",
    "    mutate(ID=str_c(Season,'_',TeamID.x,'_',TeamID.y)) %>% \n",
    "    mutate(Prob=logistic(Rating.x-Rating.y,a=Slope)) %>% \n",
    "    mutate(Pred=ifelse(Prob>0.5,1,0)) %>% \n",
    "    mutate(Prob=round(Prob,3)) %>%\n",
    "    mutate_which(Prob>0.95,Prob=0.95) %>%\n",
    "    mutate_which(Prob<0.05,Prob=0.05) %>%\n",
    "    select(Season,qtl,ID,Pred,Prob) -> df.train.submit\n",
    "df.train.submit %>% sample_n(5)"
   ]
  },
  {
   "cell_type": "code",
   "execution_count": 22,
   "metadata": {},
   "outputs": [],
   "source": [
    "# merge prediction and truth\n",
    "df.train %>% select(ID,Target) -> data.train.truth\n",
    "data.train.truth %>% inner_join(df.train.submit,by='ID') -> df.train.results"
   ]
  },
  {
   "cell_type": "code",
   "execution_count": 23,
   "metadata": {
    "scrolled": false
   },
   "outputs": [
    {
     "data": {
      "text/html": [
       "<table>\n",
       "<thead><tr><th scope=col>Season</th><th scope=col>qtl</th><th scope=col>TC</th><th scope=col>FC</th><th scope=col>N</th><th scope=col>Acc</th><th scope=col>LogLoss</th></tr></thead>\n",
       "<tbody>\n",
       "\t<tr><td>2011     </td><td>0.80     </td><td>6327     </td><td>2295     </td><td>8622     </td><td>0.7338205</td><td>0.5251967</td></tr>\n",
       "\t<tr><td>2012     </td><td>0.80     </td><td>6392     </td><td>2161     </td><td>8553     </td><td>0.7473401</td><td>0.5072652</td></tr>\n",
       "\t<tr><td>2013     </td><td>0.80     </td><td>6390     </td><td>2342     </td><td>8732     </td><td>0.7317911</td><td>0.5283454</td></tr>\n",
       "\t<tr><td>2014     </td><td>0.80     </td><td>6486     </td><td>2362     </td><td>8848     </td><td>0.7330470</td><td>0.5275381</td></tr>\n",
       "\t<tr><td>2015     </td><td>0.80     </td><td>6500     </td><td>2458     </td><td>8958     </td><td>0.7256084</td><td>0.5401981</td></tr>\n",
       "\t<tr><td>2016     </td><td>0.79     </td><td>6607     </td><td>2368     </td><td>8975     </td><td>0.7361560</td><td>0.5253340</td></tr>\n",
       "\t<tr><td>2017     </td><td>0.80     </td><td>6648     </td><td>2365     </td><td>9013     </td><td>0.7376012</td><td>0.5213028</td></tr>\n",
       "\t<tr><td>2018     </td><td>0.80     </td><td>6503     </td><td>2510     </td><td>9013     </td><td>0.7215134</td><td>0.5319478</td></tr>\n",
       "</tbody>\n",
       "</table>\n"
      ],
      "text/latex": [
       "\\begin{tabular}{r|lllllll}\n",
       " Season & qtl & TC & FC & N & Acc & LogLoss\\\\\n",
       "\\hline\n",
       "\t 2011      & 0.80      & 6327      & 2295      & 8622      & 0.7338205 & 0.5251967\\\\\n",
       "\t 2012      & 0.80      & 6392      & 2161      & 8553      & 0.7473401 & 0.5072652\\\\\n",
       "\t 2013      & 0.80      & 6390      & 2342      & 8732      & 0.7317911 & 0.5283454\\\\\n",
       "\t 2014      & 0.80      & 6486      & 2362      & 8848      & 0.7330470 & 0.5275381\\\\\n",
       "\t 2015      & 0.80      & 6500      & 2458      & 8958      & 0.7256084 & 0.5401981\\\\\n",
       "\t 2016      & 0.79      & 6607      & 2368      & 8975      & 0.7361560 & 0.5253340\\\\\n",
       "\t 2017      & 0.80      & 6648      & 2365      & 9013      & 0.7376012 & 0.5213028\\\\\n",
       "\t 2018      & 0.80      & 6503      & 2510      & 9013      & 0.7215134 & 0.5319478\\\\\n",
       "\\end{tabular}\n"
      ],
      "text/markdown": [
       "\n",
       "| Season | qtl | TC | FC | N | Acc | LogLoss |\n",
       "|---|---|---|---|---|---|---|\n",
       "| 2011      | 0.80      | 6327      | 2295      | 8622      | 0.7338205 | 0.5251967 |\n",
       "| 2012      | 0.80      | 6392      | 2161      | 8553      | 0.7473401 | 0.5072652 |\n",
       "| 2013      | 0.80      | 6390      | 2342      | 8732      | 0.7317911 | 0.5283454 |\n",
       "| 2014      | 0.80      | 6486      | 2362      | 8848      | 0.7330470 | 0.5275381 |\n",
       "| 2015      | 0.80      | 6500      | 2458      | 8958      | 0.7256084 | 0.5401981 |\n",
       "| 2016      | 0.79      | 6607      | 2368      | 8975      | 0.7361560 | 0.5253340 |\n",
       "| 2017      | 0.80      | 6648      | 2365      | 9013      | 0.7376012 | 0.5213028 |\n",
       "| 2018      | 0.80      | 6503      | 2510      | 9013      | 0.7215134 | 0.5319478 |\n",
       "\n"
      ],
      "text/plain": [
       "  Season qtl  TC   FC   N    Acc       LogLoss  \n",
       "1 2011   0.80 6327 2295 8622 0.7338205 0.5251967\n",
       "2 2012   0.80 6392 2161 8553 0.7473401 0.5072652\n",
       "3 2013   0.80 6390 2342 8732 0.7317911 0.5283454\n",
       "4 2014   0.80 6486 2362 8848 0.7330470 0.5275381\n",
       "5 2015   0.80 6500 2458 8958 0.7256084 0.5401981\n",
       "6 2016   0.79 6607 2368 8975 0.7361560 0.5253340\n",
       "7 2017   0.80 6648 2365 9013 0.7376012 0.5213028\n",
       "8 2018   0.80 6503 2510 9013 0.7215134 0.5319478"
      ]
     },
     "metadata": {},
     "output_type": "display_data"
    }
   ],
   "source": [
    "# compute accuracy & Logloss per qtl to find the best one per Season\n",
    "df.train.results %>% \n",
    "    mutate(OK=ifelse(Pred==Target,1,0)) %>%\n",
    "    mutate(LogLoss=Target*log(Prob) + (1-Target)*log(1-Prob)) %>%\n",
    "    group_by(Season,qtl) %>%\n",
    "    summarise(TC=sum(OK),N=n(),FC=N-TC,Acc=TC/N,LogLoss=-mean(LogLoss)) %>%\n",
    "    select(Season,qtl,TC,FC,N,Acc,LogLoss) -> df.train.perf\n",
    "df.train.perf %>% arrange(LogLoss) %>% group_by(Season) %>% slice(1:1) %>% ungroup() "
   ]
  },
  {
   "cell_type": "code",
   "execution_count": 24,
   "metadata": {},
   "outputs": [
    {
     "data": {
      "text/html": [
       "<table>\n",
       "<thead><tr><th scope=col>Stat</th><th scope=col>Season_2011</th><th scope=col>Season_2012</th><th scope=col>Season_2013</th><th scope=col>Season_2014</th><th scope=col>Season_2015</th><th scope=col>Season_2016</th><th scope=col>Season_2017</th><th scope=col>Season_2018</th></tr></thead>\n",
       "<tbody>\n",
       "\t<tr><td>Accuracy     </td><td>0.7338205    </td><td>0.7473401    </td><td>0.7317911    </td><td>0.7330470    </td><td>0.7256084    </td><td>0.736156     </td><td>0.7376012    </td><td>0.7215134    </td></tr>\n",
       "\t<tr><td>Best LogLoss </td><td>0.5251967    </td><td>0.5072652    </td><td>0.5283454    </td><td>0.5275381    </td><td>0.5401981    </td><td>0.525334     </td><td>0.5213028    </td><td>0.5319478    </td></tr>\n",
       "\t<tr><td>Best Quantile</td><td>0.8000000    </td><td>0.8000000    </td><td>0.8000000    </td><td>0.8000000    </td><td>0.8000000    </td><td>0.790000     </td><td>0.8000000    </td><td>0.8000000    </td></tr>\n",
       "</tbody>\n",
       "</table>\n"
      ],
      "text/latex": [
       "\\begin{tabular}{r|lllllllll}\n",
       " Stat & Season\\_2011 & Season\\_2012 & Season\\_2013 & Season\\_2014 & Season\\_2015 & Season\\_2016 & Season\\_2017 & Season\\_2018\\\\\n",
       "\\hline\n",
       "\t Accuracy      & 0.7338205     & 0.7473401     & 0.7317911     & 0.7330470     & 0.7256084     & 0.736156      & 0.7376012     & 0.7215134    \\\\\n",
       "\t Best LogLoss  & 0.5251967     & 0.5072652     & 0.5283454     & 0.5275381     & 0.5401981     & 0.525334      & 0.5213028     & 0.5319478    \\\\\n",
       "\t Best Quantile & 0.8000000     & 0.8000000     & 0.8000000     & 0.8000000     & 0.8000000     & 0.790000      & 0.8000000     & 0.8000000    \\\\\n",
       "\\end{tabular}\n"
      ],
      "text/markdown": [
       "\n",
       "| Stat | Season_2011 | Season_2012 | Season_2013 | Season_2014 | Season_2015 | Season_2016 | Season_2017 | Season_2018 |\n",
       "|---|---|---|---|---|---|---|---|---|\n",
       "| Accuracy      | 0.7338205     | 0.7473401     | 0.7317911     | 0.7330470     | 0.7256084     | 0.736156      | 0.7376012     | 0.7215134     |\n",
       "| Best LogLoss  | 0.5251967     | 0.5072652     | 0.5283454     | 0.5275381     | 0.5401981     | 0.525334      | 0.5213028     | 0.5319478     |\n",
       "| Best Quantile | 0.8000000     | 0.8000000     | 0.8000000     | 0.8000000     | 0.8000000     | 0.790000      | 0.8000000     | 0.8000000     |\n",
       "\n"
      ],
      "text/plain": [
       "  Stat          Season_2011 Season_2012 Season_2013 Season_2014 Season_2015\n",
       "1 Accuracy      0.7338205   0.7473401   0.7317911   0.7330470   0.7256084  \n",
       "2 Best LogLoss  0.5251967   0.5072652   0.5283454   0.5275381   0.5401981  \n",
       "3 Best Quantile 0.8000000   0.8000000   0.8000000   0.8000000   0.8000000  \n",
       "  Season_2016 Season_2017 Season_2018\n",
       "1 0.736156    0.7376012   0.7215134  \n",
       "2 0.525334    0.5213028   0.5319478  \n",
       "3 0.790000    0.8000000   0.8000000  "
      ]
     },
     "metadata": {},
     "output_type": "display_data"
    }
   ],
   "source": [
    "df.train.perf %>% distinct(Season,Acc) %>% spread(Season,Acc,sep='_') %>%\n",
    "    mutate(Stat='Accuracy') %>% select(Stat,everything()) -> tmp01\n",
    "df.train.perf %>% arrange(LogLoss) %>% group_by(Season) %>% slice(1:1) %>% ungroup() %>% \n",
    "    select(Season,LogLoss) %>% spread(Season,LogLoss,sep='_') %>% mutate(Stat='Best LogLoss') %>% select(Stat,everything()) -> tmp02\n",
    "df.train.perf %>% arrange(LogLoss) %>% group_by(Season) %>% slice(1:1) %>% ungroup() %>% \n",
    "    select(Season,qtl) %>% spread(Season,qtl,sep='_') %>% mutate(Stat='Best Quantile') %>% select(Stat,everything()) -> tmp03\n",
    "tmp01 %>% bind_rows(tmp02) %>% bind_rows(tmp03)"
   ]
  },
  {
   "cell_type": "code",
   "execution_count": 25,
   "metadata": {},
   "outputs": [
    {
     "data": {
      "image/png": "[encoded data removed]",
      "text/plain": [
       "plot without title"
      ]
     },
     "metadata": {},
     "output_type": "display_data"
    }
   ],
   "source": [
    "options(repr.plot.width=12, repr.plot.height=4)\n",
    "ggplot(data=df.train.perf,aes(x=qtl,y=LogLoss)) + \n",
    "    geom_point(size=0.5) + \n",
    "    geom_hline(yintercept=0.69,color='red',linetype=\"dotted\") +\n",
    "    facet_grid(. ~ Season)"
   ]
  },
  {
   "cell_type": "markdown",
   "metadata": {},
   "source": [
    "### Tourney matchups performance (validation dataset)"
   ]
  },
  {
   "cell_type": "markdown",
   "metadata": {},
   "source": [
    "#### Load test data"
   ]
  },
  {
   "cell_type": "code",
   "execution_count": 26,
   "metadata": {
    "scrolled": true
   },
   "outputs": [
    {
     "data": {
      "text/html": [
       "<table>\n",
       "<thead><tr><th scope=col>Season</th><th scope=col>TeamID.x</th><th scope=col>TeamID.y</th></tr></thead>\n",
       "<tbody>\n",
       "\t<tr><td>2011</td><td>1155</td><td>1421</td></tr>\n",
       "\t<tr><td>2011</td><td>1155</td><td>1427</td></tr>\n",
       "\t<tr><td>2011</td><td>1155</td><td>1433</td></tr>\n",
       "\t<tr><td>2011</td><td>1155</td><td>1163</td></tr>\n",
       "\t<tr><td>2011</td><td>1155</td><td>1196</td></tr>\n",
       "\t<tr><td>2011</td><td>1155</td><td>1211</td></tr>\n",
       "</tbody>\n",
       "</table>\n"
      ],
      "text/latex": [
       "\\begin{tabular}{r|lll}\n",
       " Season & TeamID.x & TeamID.y\\\\\n",
       "\\hline\n",
       "\t 2011 & 1155 & 1421\\\\\n",
       "\t 2011 & 1155 & 1427\\\\\n",
       "\t 2011 & 1155 & 1433\\\\\n",
       "\t 2011 & 1155 & 1163\\\\\n",
       "\t 2011 & 1155 & 1196\\\\\n",
       "\t 2011 & 1155 & 1211\\\\\n",
       "\\end{tabular}\n"
      ],
      "text/markdown": [
       "\n",
       "| Season | TeamID.x | TeamID.y |\n",
       "|---|---|---|\n",
       "| 2011 | 1155 | 1421 |\n",
       "| 2011 | 1155 | 1427 |\n",
       "| 2011 | 1155 | 1433 |\n",
       "| 2011 | 1155 | 1163 |\n",
       "| 2011 | 1155 | 1196 |\n",
       "| 2011 | 1155 | 1211 |\n",
       "\n"
      ],
      "text/plain": [
       "  Season TeamID.x TeamID.y\n",
       "1 2011   1155     1421    \n",
       "2 2011   1155     1427    \n",
       "3 2011   1155     1433    \n",
       "4 2011   1155     1163    \n",
       "5 2011   1155     1196    \n",
       "6 2011   1155     1211    "
      ]
     },
     "metadata": {},
     "output_type": "display_data"
    },
    {
     "data": {
      "text/html": [
       "<table>\n",
       "<thead><tr><th scope=col>ID</th><th scope=col>Target</th></tr></thead>\n",
       "<tbody>\n",
       "\t<tr><td>2011_1137_1163</td><td>0             </td></tr>\n",
       "\t<tr><td>2011_1345_1433</td><td>0             </td></tr>\n",
       "\t<tr><td>2003_1196_1358</td><td>1             </td></tr>\n",
       "\t<tr><td>2017_1246_1417</td><td>1             </td></tr>\n",
       "\t<tr><td>2014_1272_1438</td><td>0             </td></tr>\n",
       "</tbody>\n",
       "</table>\n"
      ],
      "text/latex": [
       "\\begin{tabular}{r|ll}\n",
       " ID & Target\\\\\n",
       "\\hline\n",
       "\t 2011\\_1137\\_1163 & 0                 \\\\\n",
       "\t 2011\\_1345\\_1433 & 0                 \\\\\n",
       "\t 2003\\_1196\\_1358 & 1                 \\\\\n",
       "\t 2017\\_1246\\_1417 & 1                 \\\\\n",
       "\t 2014\\_1272\\_1438 & 0                 \\\\\n",
       "\\end{tabular}\n"
      ],
      "text/markdown": [
       "\n",
       "| ID | Target |\n",
       "|---|---|\n",
       "| 2011_1137_1163 | 0              |\n",
       "| 2011_1345_1433 | 0              |\n",
       "| 2003_1196_1358 | 1              |\n",
       "| 2017_1246_1417 | 1              |\n",
       "| 2014_1272_1438 | 0              |\n",
       "\n"
      ],
      "text/plain": [
       "  ID             Target\n",
       "1 2011_1137_1163 0     \n",
       "2 2011_1345_1433 0     \n",
       "3 2003_1196_1358 1     \n",
       "4 2017_1246_1417 1     \n",
       "5 2014_1272_1438 0     "
      ]
     },
     "metadata": {},
     "output_type": "display_data"
    }
   ],
   "source": [
    "data.valid.matchups <- readRDS('../datafiles_rds/TourneyMatchups.rds')\n",
    "data.valid.matchups %>% filter(Season>2010) -> data.valid.matchups\n",
    "data.valid.matchups %>% head\n",
    "\n",
    "data.valid.truth <- readRDS('../datafiles_rds/TourneyTrueResults.rds')\n",
    "data.valid.truth %>% sample_n(5)"
   ]
  },
  {
   "cell_type": "markdown",
   "metadata": {},
   "source": [
    "#### prepare"
   ]
  },
  {
   "cell_type": "code",
   "execution_count": 27,
   "metadata": {},
   "outputs": [],
   "source": [
    "# matchups dataframe : all the possible matches between the 68 teams per Season \n",
    "data.valid.matchups %>%\n",
    "    inner_join(df.ratings,by=c('Season','TeamID.x'='TeamID')) %>%\n",
    "    select(-Offense,-Defense,-Team) %>%\n",
    "    inner_join(df.ratings,by=c('Season','TeamID.y'='TeamID')) %>% \n",
    "    select(-Offense,-Defense,-Team) -> data.valid.matchups"
   ]
  },
  {
   "cell_type": "code",
   "execution_count": 28,
   "metadata": {},
   "outputs": [
    {
     "data": {
      "text/html": [
       "<table>\n",
       "<thead><tr><th scope=col>Season</th><th scope=col>TeamID.x</th><th scope=col>TeamID.y</th><th scope=col>Rating.x</th><th scope=col>Rating.y</th></tr></thead>\n",
       "<tbody>\n",
       "\t<tr><td>2011    </td><td>1155    </td><td>1421    </td><td>1816.663</td><td>1461.296</td></tr>\n",
       "\t<tr><td>2011    </td><td>1155    </td><td>1427    </td><td>1816.663</td><td>1372.421</td></tr>\n",
       "\t<tr><td>2011    </td><td>1155    </td><td>1433    </td><td>1816.663</td><td>1621.168</td></tr>\n",
       "\t<tr><td>2011    </td><td>1155    </td><td>1163    </td><td>1816.663</td><td>1902.492</td></tr>\n",
       "\t<tr><td>2011    </td><td>1155    </td><td>1196    </td><td>1816.663</td><td>1868.436</td></tr>\n",
       "\t<tr><td>2011    </td><td>1155    </td><td>1211    </td><td>1816.663</td><td>1833.901</td></tr>\n",
       "</tbody>\n",
       "</table>\n"
      ],
      "text/latex": [
       "\\begin{tabular}{r|lllll}\n",
       " Season & TeamID.x & TeamID.y & Rating.x & Rating.y\\\\\n",
       "\\hline\n",
       "\t 2011     & 1155     & 1421     & 1816.663 & 1461.296\\\\\n",
       "\t 2011     & 1155     & 1427     & 1816.663 & 1372.421\\\\\n",
       "\t 2011     & 1155     & 1433     & 1816.663 & 1621.168\\\\\n",
       "\t 2011     & 1155     & 1163     & 1816.663 & 1902.492\\\\\n",
       "\t 2011     & 1155     & 1196     & 1816.663 & 1868.436\\\\\n",
       "\t 2011     & 1155     & 1211     & 1816.663 & 1833.901\\\\\n",
       "\\end{tabular}\n"
      ],
      "text/markdown": [
       "\n",
       "| Season | TeamID.x | TeamID.y | Rating.x | Rating.y |\n",
       "|---|---|---|---|---|\n",
       "| 2011     | 1155     | 1421     | 1816.663 | 1461.296 |\n",
       "| 2011     | 1155     | 1427     | 1816.663 | 1372.421 |\n",
       "| 2011     | 1155     | 1433     | 1816.663 | 1621.168 |\n",
       "| 2011     | 1155     | 1163     | 1816.663 | 1902.492 |\n",
       "| 2011     | 1155     | 1196     | 1816.663 | 1868.436 |\n",
       "| 2011     | 1155     | 1211     | 1816.663 | 1833.901 |\n",
       "\n"
      ],
      "text/plain": [
       "  Season TeamID.x TeamID.y Rating.x Rating.y\n",
       "1 2011   1155     1421     1816.663 1461.296\n",
       "2 2011   1155     1427     1816.663 1372.421\n",
       "3 2011   1155     1433     1816.663 1621.168\n",
       "4 2011   1155     1163     1816.663 1902.492\n",
       "5 2011   1155     1196     1816.663 1868.436\n",
       "6 2011   1155     1211     1816.663 1833.901"
      ]
     },
     "metadata": {},
     "output_type": "display_data"
    }
   ],
   "source": [
    "data.valid.matchups %>% head"
   ]
  },
  {
   "cell_type": "code",
   "execution_count": 29,
   "metadata": {},
   "outputs": [
    {
     "data": {
      "text/html": [
       "<table>\n",
       "<thead><tr><th scope=col>Season</th><th scope=col>TeamID.x</th><th scope=col>TeamID.y</th><th scope=col>Rating.x</th><th scope=col>Rating.y</th><th scope=col>qtl</th><th scope=col>Slope</th></tr></thead>\n",
       "<tbody>\n",
       "\t<tr><td>2015       </td><td>1211       </td><td>1434       </td><td>2004.532   </td><td>1583.091   </td><td>0.34       </td><td>0.003223689</td></tr>\n",
       "\t<tr><td>2017       </td><td>1112       </td><td>1343       </td><td>2023.674   </td><td>1717.798   </td><td>0.21       </td><td>0.003492264</td></tr>\n",
       "\t<tr><td>2012       </td><td>1172       </td><td>1257       </td><td>1637.068   </td><td>1877.549   </td><td>0.79       </td><td>0.005984738</td></tr>\n",
       "\t<tr><td>2014       </td><td>1113       </td><td>1372       </td><td>1899.753   </td><td>1636.588   </td><td>0.71       </td><td>0.005272054</td></tr>\n",
       "\t<tr><td>2015       </td><td>1181       </td><td>1414       </td><td>2033.016   </td><td>1502.415   </td><td>0.36       </td><td>0.003246118</td></tr>\n",
       "</tbody>\n",
       "</table>\n"
      ],
      "text/latex": [
       "\\begin{tabular}{r|lllllll}\n",
       " Season & TeamID.x & TeamID.y & Rating.x & Rating.y & qtl & Slope\\\\\n",
       "\\hline\n",
       "\t 2015        & 1211        & 1434        & 2004.532    & 1583.091    & 0.34        & 0.003223689\\\\\n",
       "\t 2017        & 1112        & 1343        & 2023.674    & 1717.798    & 0.21        & 0.003492264\\\\\n",
       "\t 2012        & 1172        & 1257        & 1637.068    & 1877.549    & 0.79        & 0.005984738\\\\\n",
       "\t 2014        & 1113        & 1372        & 1899.753    & 1636.588    & 0.71        & 0.005272054\\\\\n",
       "\t 2015        & 1181        & 1414        & 2033.016    & 1502.415    & 0.36        & 0.003246118\\\\\n",
       "\\end{tabular}\n"
      ],
      "text/markdown": [
       "\n",
       "| Season | TeamID.x | TeamID.y | Rating.x | Rating.y | qtl | Slope |\n",
       "|---|---|---|---|---|---|---|\n",
       "| 2015        | 1211        | 1434        | 2004.532    | 1583.091    | 0.34        | 0.003223689 |\n",
       "| 2017        | 1112        | 1343        | 2023.674    | 1717.798    | 0.21        | 0.003492264 |\n",
       "| 2012        | 1172        | 1257        | 1637.068    | 1877.549    | 0.79        | 0.005984738 |\n",
       "| 2014        | 1113        | 1372        | 1899.753    | 1636.588    | 0.71        | 0.005272054 |\n",
       "| 2015        | 1181        | 1414        | 2033.016    | 1502.415    | 0.36        | 0.003246118 |\n",
       "\n"
      ],
      "text/plain": [
       "  Season TeamID.x TeamID.y Rating.x Rating.y qtl  Slope      \n",
       "1 2015   1211     1434     2004.532 1583.091 0.34 0.003223689\n",
       "2 2017   1112     1343     2023.674 1717.798 0.21 0.003492264\n",
       "3 2012   1172     1257     1637.068 1877.549 0.79 0.005984738\n",
       "4 2014   1113     1372     1899.753 1636.588 0.71 0.005272054\n",
       "5 2015   1181     1414     2033.016 1502.415 0.36 0.003246118"
      ]
     },
     "metadata": {},
     "output_type": "display_data"
    }
   ],
   "source": [
    "# all matchs with all 80 hyper parameter setting (qtl=[0.01,0.80]) \n",
    "data.valid.matchups %>% \n",
    "    inner_join(df.slopes,by=c('Season')) -> df.valid.matchups\n",
    "df.valid.matchups %>% sample_n(5)"
   ]
  },
  {
   "cell_type": "code",
   "execution_count": 30,
   "metadata": {},
   "outputs": [
    {
     "data": {
      "text/html": [
       "<table>\n",
       "<thead><tr><th scope=col>Season</th><th scope=col>qtl</th><th scope=col>ID</th><th scope=col>Pred</th><th scope=col>Prob</th></tr></thead>\n",
       "<tbody>\n",
       "\t<tr><td>2013          </td><td>0.27          </td><td>2013_1276_1458</td><td>1             </td><td>0.545         </td></tr>\n",
       "\t<tr><td>2016          </td><td>0.56          </td><td>2016_1139_1153</td><td>0             </td><td>0.492         </td></tr>\n",
       "\t<tr><td>2011          </td><td>0.34          </td><td>2011_1114_1421</td><td>0             </td><td>0.455         </td></tr>\n",
       "\t<tr><td>2011          </td><td>0.70          </td><td>2011_1196_1385</td><td>1             </td><td>0.544         </td></tr>\n",
       "\t<tr><td>2014          </td><td>0.17          </td><td>2014_1329_1417</td><td>1             </td><td>0.592         </td></tr>\n",
       "</tbody>\n",
       "</table>\n"
      ],
      "text/latex": [
       "\\begin{tabular}{r|lllll}\n",
       " Season & qtl & ID & Pred & Prob\\\\\n",
       "\\hline\n",
       "\t 2013               & 0.27               & 2013\\_1276\\_1458 & 1                  & 0.545             \\\\\n",
       "\t 2016               & 0.56               & 2016\\_1139\\_1153 & 0                  & 0.492             \\\\\n",
       "\t 2011               & 0.34               & 2011\\_1114\\_1421 & 0                  & 0.455             \\\\\n",
       "\t 2011               & 0.70               & 2011\\_1196\\_1385 & 1                  & 0.544             \\\\\n",
       "\t 2014               & 0.17               & 2014\\_1329\\_1417 & 1                  & 0.592             \\\\\n",
       "\\end{tabular}\n"
      ],
      "text/markdown": [
       "\n",
       "| Season | qtl | ID | Pred | Prob |\n",
       "|---|---|---|---|---|\n",
       "| 2013           | 0.27           | 2013_1276_1458 | 1              | 0.545          |\n",
       "| 2016           | 0.56           | 2016_1139_1153 | 0              | 0.492          |\n",
       "| 2011           | 0.34           | 2011_1114_1421 | 0              | 0.455          |\n",
       "| 2011           | 0.70           | 2011_1196_1385 | 1              | 0.544          |\n",
       "| 2014           | 0.17           | 2014_1329_1417 | 1              | 0.592          |\n",
       "\n"
      ],
      "text/plain": [
       "  Season qtl  ID             Pred Prob \n",
       "1 2013   0.27 2013_1276_1458 1    0.545\n",
       "2 2016   0.56 2016_1139_1153 0    0.492\n",
       "3 2011   0.34 2011_1114_1421 0    0.455\n",
       "4 2011   0.70 2011_1196_1385 1    0.544\n",
       "5 2014   0.17 2014_1329_1417 1    0.592"
      ]
     },
     "metadata": {},
     "output_type": "display_data"
    }
   ],
   "source": [
    "# machups predictions : compute the winning probability of TeamID.x and cap it into [0.05,0.95] to avoid too much logloss is case of FP or FN \n",
    "df.valid.matchups %>% \n",
    "    mutate(ID=str_c(Season,'_',TeamID.x,'_',TeamID.y)) %>% \n",
    "    mutate(Prob=logistic(Rating.x-Rating.y,a=Slope)) %>% \n",
    "    mutate(Pred=ifelse(Prob>0.5,1,0)) %>% \n",
    "    mutate(Prob=round(Prob,3)) %>%\n",
    "    mutate_which(Prob>0.95,Prob=0.95) %>%\n",
    "    mutate_which(Prob<0.05,Prob=0.05) %>%\n",
    "    select(Season,qtl,ID,Pred,Prob) -> df.valid.submit\n",
    "df.valid.submit %>% sample_n(5)"
   ]
  },
  {
   "cell_type": "code",
   "execution_count": 32,
   "metadata": {},
   "outputs": [],
   "source": [
    "# merge prediction and truth\n",
    "data.valid.truth %>% inner_join(df.valid.submit,by='ID') -> df.valid.results"
   ]
  },
  {
   "cell_type": "code",
   "execution_count": 33,
   "metadata": {
    "scrolled": true
   },
   "outputs": [
    {
     "data": {
      "text/html": [
       "<table>\n",
       "<thead><tr><th scope=col>Season</th><th scope=col>qtl</th><th scope=col>TC</th><th scope=col>FC</th><th scope=col>N</th><th scope=col>Acc</th><th scope=col>LogLoss</th></tr></thead>\n",
       "<tbody>\n",
       "\t<tr><td>2011     </td><td>0.03     </td><td>44       </td><td>23       </td><td>67       </td><td>0.6567164</td><td>0.6237015</td></tr>\n",
       "\t<tr><td>2012     </td><td>0.58     </td><td>46       </td><td>21       </td><td>67       </td><td>0.6865672</td><td>0.5607843</td></tr>\n",
       "\t<tr><td>2013     </td><td>0.55     </td><td>47       </td><td>20       </td><td>67       </td><td>0.7014925</td><td>0.5632454</td></tr>\n",
       "\t<tr><td>2014     </td><td>0.46     </td><td>45       </td><td>22       </td><td>67       </td><td>0.6716418</td><td>0.5763720</td></tr>\n",
       "\t<tr><td>2015     </td><td>0.80     </td><td>49       </td><td>18       </td><td>67       </td><td>0.7313433</td><td>0.5082502</td></tr>\n",
       "\t<tr><td>2016     </td><td>0.38     </td><td>47       </td><td>20       </td><td>67       </td><td>0.7014925</td><td>0.5764951</td></tr>\n",
       "\t<tr><td>2017     </td><td>0.75     </td><td>46       </td><td>21       </td><td>67       </td><td>0.6865672</td><td>0.4969401</td></tr>\n",
       "\t<tr><td>2018     </td><td>0.61     </td><td>43       </td><td>24       </td><td>67       </td><td>0.6417910</td><td>0.5880233</td></tr>\n",
       "</tbody>\n",
       "</table>\n"
      ],
      "text/latex": [
       "\\begin{tabular}{r|lllllll}\n",
       " Season & qtl & TC & FC & N & Acc & LogLoss\\\\\n",
       "\\hline\n",
       "\t 2011      & 0.03      & 44        & 23        & 67        & 0.6567164 & 0.6237015\\\\\n",
       "\t 2012      & 0.58      & 46        & 21        & 67        & 0.6865672 & 0.5607843\\\\\n",
       "\t 2013      & 0.55      & 47        & 20        & 67        & 0.7014925 & 0.5632454\\\\\n",
       "\t 2014      & 0.46      & 45        & 22        & 67        & 0.6716418 & 0.5763720\\\\\n",
       "\t 2015      & 0.80      & 49        & 18        & 67        & 0.7313433 & 0.5082502\\\\\n",
       "\t 2016      & 0.38      & 47        & 20        & 67        & 0.7014925 & 0.5764951\\\\\n",
       "\t 2017      & 0.75      & 46        & 21        & 67        & 0.6865672 & 0.4969401\\\\\n",
       "\t 2018      & 0.61      & 43        & 24        & 67        & 0.6417910 & 0.5880233\\\\\n",
       "\\end{tabular}\n"
      ],
      "text/markdown": [
       "\n",
       "| Season | qtl | TC | FC | N | Acc | LogLoss |\n",
       "|---|---|---|---|---|---|---|\n",
       "| 2011      | 0.03      | 44        | 23        | 67        | 0.6567164 | 0.6237015 |\n",
       "| 2012      | 0.58      | 46        | 21        | 67        | 0.6865672 | 0.5607843 |\n",
       "| 2013      | 0.55      | 47        | 20        | 67        | 0.7014925 | 0.5632454 |\n",
       "| 2014      | 0.46      | 45        | 22        | 67        | 0.6716418 | 0.5763720 |\n",
       "| 2015      | 0.80      | 49        | 18        | 67        | 0.7313433 | 0.5082502 |\n",
       "| 2016      | 0.38      | 47        | 20        | 67        | 0.7014925 | 0.5764951 |\n",
       "| 2017      | 0.75      | 46        | 21        | 67        | 0.6865672 | 0.4969401 |\n",
       "| 2018      | 0.61      | 43        | 24        | 67        | 0.6417910 | 0.5880233 |\n",
       "\n"
      ],
      "text/plain": [
       "  Season qtl  TC FC N  Acc       LogLoss  \n",
       "1 2011   0.03 44 23 67 0.6567164 0.6237015\n",
       "2 2012   0.58 46 21 67 0.6865672 0.5607843\n",
       "3 2013   0.55 47 20 67 0.7014925 0.5632454\n",
       "4 2014   0.46 45 22 67 0.6716418 0.5763720\n",
       "5 2015   0.80 49 18 67 0.7313433 0.5082502\n",
       "6 2016   0.38 47 20 67 0.7014925 0.5764951\n",
       "7 2017   0.75 46 21 67 0.6865672 0.4969401\n",
       "8 2018   0.61 43 24 67 0.6417910 0.5880233"
      ]
     },
     "metadata": {},
     "output_type": "display_data"
    }
   ],
   "source": [
    "# compute accuracy & Logloss per qtl to find the best one per Season\n",
    "df.valid.results %>% \n",
    "    mutate(OK=ifelse(Pred==Target,1,0)) %>%\n",
    "    mutate(LogLoss=Target*log(Prob) + (1-Target)*log(1-Prob)) %>%\n",
    "    group_by(Season,qtl) %>%\n",
    "    summarise(TC=sum(OK),N=n(),FC=N-TC,Acc=TC/N,LogLoss=-mean(LogLoss)) %>%\n",
    "    select(Season,qtl,TC,FC,N,Acc,LogLoss) -> df.valid.perf\n",
    "df.valid.perf %>% arrange(LogLoss) %>% group_by(Season) %>% slice(1:1) %>% ungroup() "
   ]
  },
  {
   "cell_type": "code",
   "execution_count": 34,
   "metadata": {},
   "outputs": [
    {
     "data": {
      "text/html": [
       "<table>\n",
       "<thead><tr><th scope=col>Stat</th><th scope=col>Season_2011</th><th scope=col>Season_2012</th><th scope=col>Season_2013</th><th scope=col>Season_2014</th><th scope=col>Season_2015</th><th scope=col>Season_2016</th><th scope=col>Season_2017</th><th scope=col>Season_2018</th></tr></thead>\n",
       "<tbody>\n",
       "\t<tr><td>Accuracy     </td><td>0.6567164    </td><td>0.6865672    </td><td>0.7014925    </td><td>0.6716418    </td><td>0.7313433    </td><td>0.7014925    </td><td>0.6865672    </td><td>0.6417910    </td></tr>\n",
       "\t<tr><td>Best LogLoss </td><td>0.6237015    </td><td>0.5607843    </td><td>0.5632454    </td><td>0.5763720    </td><td>0.5082502    </td><td>0.5764951    </td><td>0.4969401    </td><td>0.5880233    </td></tr>\n",
       "\t<tr><td>Best Quantile</td><td>0.0300000    </td><td>0.5800000    </td><td>0.5500000    </td><td>0.4600000    </td><td>0.8000000    </td><td>0.3800000    </td><td>0.7500000    </td><td>0.6100000    </td></tr>\n",
       "</tbody>\n",
       "</table>\n"
      ],
      "text/latex": [
       "\\begin{tabular}{r|lllllllll}\n",
       " Stat & Season\\_2011 & Season\\_2012 & Season\\_2013 & Season\\_2014 & Season\\_2015 & Season\\_2016 & Season\\_2017 & Season\\_2018\\\\\n",
       "\\hline\n",
       "\t Accuracy      & 0.6567164     & 0.6865672     & 0.7014925     & 0.6716418     & 0.7313433     & 0.7014925     & 0.6865672     & 0.6417910    \\\\\n",
       "\t Best LogLoss  & 0.6237015     & 0.5607843     & 0.5632454     & 0.5763720     & 0.5082502     & 0.5764951     & 0.4969401     & 0.5880233    \\\\\n",
       "\t Best Quantile & 0.0300000     & 0.5800000     & 0.5500000     & 0.4600000     & 0.8000000     & 0.3800000     & 0.7500000     & 0.6100000    \\\\\n",
       "\\end{tabular}\n"
      ],
      "text/markdown": [
       "\n",
       "| Stat | Season_2011 | Season_2012 | Season_2013 | Season_2014 | Season_2015 | Season_2016 | Season_2017 | Season_2018 |\n",
       "|---|---|---|---|---|---|---|---|---|\n",
       "| Accuracy      | 0.6567164     | 0.6865672     | 0.7014925     | 0.6716418     | 0.7313433     | 0.7014925     | 0.6865672     | 0.6417910     |\n",
       "| Best LogLoss  | 0.6237015     | 0.5607843     | 0.5632454     | 0.5763720     | 0.5082502     | 0.5764951     | 0.4969401     | 0.5880233     |\n",
       "| Best Quantile | 0.0300000     | 0.5800000     | 0.5500000     | 0.4600000     | 0.8000000     | 0.3800000     | 0.7500000     | 0.6100000     |\n",
       "\n"
      ],
      "text/plain": [
       "  Stat          Season_2011 Season_2012 Season_2013 Season_2014 Season_2015\n",
       "1 Accuracy      0.6567164   0.6865672   0.7014925   0.6716418   0.7313433  \n",
       "2 Best LogLoss  0.6237015   0.5607843   0.5632454   0.5763720   0.5082502  \n",
       "3 Best Quantile 0.0300000   0.5800000   0.5500000   0.4600000   0.8000000  \n",
       "  Season_2016 Season_2017 Season_2018\n",
       "1 0.7014925   0.6865672   0.6417910  \n",
       "2 0.5764951   0.4969401   0.5880233  \n",
       "3 0.3800000   0.7500000   0.6100000  "
      ]
     },
     "metadata": {},
     "output_type": "display_data"
    }
   ],
   "source": [
    "df.valid.perf %>% distinct(Season,Acc) %>% spread(Season,Acc,sep='_') %>%\n",
    "    mutate(Stat='Accuracy') %>% select(Stat,everything()) -> tmp01\n",
    "df.valid.perf %>% arrange(LogLoss) %>% group_by(Season) %>% slice(1:1) %>% ungroup() %>% \n",
    "    select(Season,LogLoss) %>% spread(Season,LogLoss,sep='_') %>% mutate(Stat='Best LogLoss') %>% select(Stat,everything()) -> tmp02\n",
    "df.valid.perf %>% arrange(LogLoss) %>% group_by(Season) %>% slice(1:1) %>% ungroup() %>% \n",
    "    select(Season,qtl) %>% spread(Season,qtl,sep='_') %>% mutate(Stat='Best Quantile') %>% select(Stat,everything()) -> tmp03\n",
    "tmp01 %>% bind_rows(tmp02) %>% bind_rows(tmp03)"
   ]
  },
  {
   "cell_type": "code",
   "execution_count": 35,
   "metadata": {},
   "outputs": [
    {
     "data": {
      "image/png": "[encoded data removed]",
      "text/plain": [
       "plot without title"
      ]
     },
     "metadata": {},
     "output_type": "display_data"
    }
   ],
   "source": [
    "# LogLoss \n",
    "options(repr.plot.width=12, repr.plot.height=4)\n",
    "ggplot(data=df.valid.perf,aes(x=qtl,y=LogLoss)) + \n",
    "    geom_point(size=0.5) + \n",
    "    geom_hline(yintercept=0.69,color='red',linetype=\"dotted\") +\n",
    "    facet_grid(. ~ Season)"
   ]
  },
  {
   "cell_type": "markdown",
   "metadata": {},
   "source": [
    "### Analysis"
   ]
  },
  {
   "cell_type": "code",
   "execution_count": 49,
   "metadata": {},
   "outputs": [],
   "source": [
    "# compute accuracy & Logloss per qtl to find the best one per Season\n",
    "df.valid.results %>% \n",
    "    mutate(OK=ifelse(Pred==Target,1,0)) %>%\n",
    "    mutate(LogLoss=Target*log(Prob) + (1-Target)*log(1-Prob)) %>%\n",
    "    filter(Season==2014,qtl==0.5) %>% \n",
    "    select(-qtl,-Season) -> df.valid.details"
   ]
  },
  {
   "cell_type": "code",
   "execution_count": 62,
   "metadata": {},
   "outputs": [
    {
     "data": {
      "text/html": [
       "<table>\n",
       "<thead><tr><th scope=col>Target</th><th scope=col>m</th></tr></thead>\n",
       "<tbody>\n",
       "\t<tr><td>0        </td><td>-1.163517</td></tr>\n",
       "\t<tr><td>1        </td><td>-1.025300</td></tr>\n",
       "</tbody>\n",
       "</table>\n"
      ],
      "text/latex": [
       "\\begin{tabular}{r|ll}\n",
       " Target & m\\\\\n",
       "\\hline\n",
       "\t 0         & -1.163517\\\\\n",
       "\t 1         & -1.025300\\\\\n",
       "\\end{tabular}\n"
      ],
      "text/markdown": [
       "\n",
       "| Target | m |\n",
       "|---|---|\n",
       "| 0         | -1.163517 |\n",
       "| 1         | -1.025300 |\n",
       "\n"
      ],
      "text/plain": [
       "  Target m        \n",
       "1 0      -1.163517\n",
       "2 1      -1.025300"
      ]
     },
     "metadata": {},
     "output_type": "display_data"
    },
    {
     "data": {
      "text/html": [
       "<table>\n",
       "<thead><tr><th scope=col>Target</th><th scope=col>m</th></tr></thead>\n",
       "<tbody>\n",
       "\t<tr><td>0         </td><td>-0.3310006</td></tr>\n",
       "\t<tr><td>1         </td><td>-0.3470470</td></tr>\n",
       "</tbody>\n",
       "</table>\n"
      ],
      "text/latex": [
       "\\begin{tabular}{r|ll}\n",
       " Target & m\\\\\n",
       "\\hline\n",
       "\t 0          & -0.3310006\\\\\n",
       "\t 1          & -0.3470470\\\\\n",
       "\\end{tabular}\n"
      ],
      "text/markdown": [
       "\n",
       "| Target | m |\n",
       "|---|---|\n",
       "| 0          | -0.3310006 |\n",
       "| 1          | -0.3470470 |\n",
       "\n"
      ],
      "text/plain": [
       "  Target m         \n",
       "1 0      -0.3310006\n",
       "2 1      -0.3470470"
      ]
     },
     "metadata": {},
     "output_type": "display_data"
    }
   ],
   "source": [
    "df.valid.details %>% filter(OK==0) %>% group_by(Target) %>% summarise(m=mean(LogLoss))\n",
    "df.valid.details %>% filter(OK==1) %>% group_by(Target) %>% summarise(m=mean(LogLoss))"
   ]
  },
  {
   "cell_type": "code",
   "execution_count": 74,
   "metadata": {},
   "outputs": [
    {
     "data": {
      "text/html": [
       "<table>\n",
       "<thead><tr><th scope=col>ID</th><th scope=col>TeamID.x</th><th scope=col>TeamID.y</th><th scope=col>Rating.x</th><th scope=col>Rating.y</th><th scope=col>Target</th><th scope=col>Prob</th><th scope=col>Pred</th><th scope=col>delta</th></tr></thead>\n",
       "<tbody>\n",
       "\t<tr><td>2014_1301_1462</td><td>1301          </td><td>1462          </td><td>1722.681      </td><td>1858.845      </td><td>1             </td><td>0.360         </td><td>0             </td><td>-136.16414    </td></tr>\n",
       "\t<tr><td>2014_1163_1196</td><td>1163          </td><td>1196          </td><td>1920.875      </td><td>2063.231      </td><td>1             </td><td>0.354         </td><td>0             </td><td>-142.35580    </td></tr>\n",
       "\t<tr><td>2014_1163_1277</td><td>1163          </td><td>1277          </td><td>1920.875      </td><td>2038.244      </td><td>1             </td><td>0.378         </td><td>0             </td><td>-117.36926    </td></tr>\n",
       "\t<tr><td>2014_1163_1437</td><td>1163          </td><td>1437          </td><td>1920.875      </td><td>2037.704      </td><td>1             </td><td>0.379         </td><td>0             </td><td>-116.82875    </td></tr>\n",
       "\t<tr><td>2014_1163_1235</td><td>1163          </td><td>1235          </td><td>1920.875      </td><td>2034.178      </td><td>1             </td><td>0.382         </td><td>0             </td><td>-113.30257    </td></tr>\n",
       "\t<tr><td>2014_1163_1246</td><td>1163          </td><td>1246          </td><td>1920.875      </td><td>1990.789      </td><td>1             </td><td>0.427         </td><td>0             </td><td> -69.91391    </td></tr>\n",
       "\t<tr><td>2014_1173_1393</td><td>1173          </td><td>1393          </td><td>1807.130      </td><td>1976.028      </td><td>1             </td><td>0.329         </td><td>0             </td><td>-168.89840    </td></tr>\n",
       "\t<tr><td>2014_1173_1390</td><td>1173          </td><td>1390          </td><td>1807.130      </td><td>1857.425      </td><td>1             </td><td>0.447         </td><td>0             </td><td> -50.29560    </td></tr>\n",
       "\t<tr><td>2014_1173_1326</td><td>1173          </td><td>1326          </td><td>1807.130      </td><td>2074.093      </td><td>1             </td><td>0.244         </td><td>0             </td><td>-266.96300    </td></tr>\n",
       "\t<tr><td>2014_1295_1328</td><td>1295          </td><td>1328          </td><td>1662.324      </td><td>1873.147      </td><td>1             </td><td>0.291         </td><td>0             </td><td>-210.82322    </td></tr>\n",
       "\t<tr><td>2014_1112_1458</td><td>1112          </td><td>1458          </td><td>2222.133      </td><td>2006.661      </td><td>0             </td><td>0.713         </td><td>1             </td><td> 215.47173    </td></tr>\n",
       "\t<tr><td>2014_1124_1166</td><td>1124          </td><td>1166          </td><td>1913.656      </td><td>2036.090      </td><td>1             </td><td>0.373         </td><td>0             </td><td>-122.43409    </td></tr>\n",
       "\t<tr><td>2014_1211_1329</td><td>1211          </td><td>1329          </td><td>1918.063      </td><td>2059.078      </td><td>1             </td><td>0.355         </td><td>0             </td><td>-141.01583    </td></tr>\n",
       "\t<tr><td>2014_1242_1390</td><td>1242          </td><td>1390          </td><td>2047.365      </td><td>1857.425      </td><td>0             </td><td>0.691         </td><td>1             </td><td> 189.93995    </td></tr>\n",
       "\t<tr><td>2014_1246_1257</td><td>1246          </td><td>1257          </td><td>1990.789      </td><td>2151.754      </td><td>1             </td><td>0.336         </td><td>0             </td><td>-160.96533    </td></tr>\n",
       "\t<tr><td>2014_1246_1276</td><td>1246          </td><td>1276          </td><td>1990.789      </td><td>2035.172      </td><td>1             </td><td>0.453         </td><td>0             </td><td> -44.38290    </td></tr>\n",
       "\t<tr><td>2014_1246_1458</td><td>1246          </td><td>1458          </td><td>1990.789      </td><td>2006.661      </td><td>1             </td><td>0.483         </td><td>0             </td><td> -15.87228    </td></tr>\n",
       "\t<tr><td>2014_1372_1433</td><td>1372          </td><td>1433          </td><td>1636.588      </td><td>1898.351      </td><td>1             </td><td>0.248         </td><td>0             </td><td>-261.76344    </td></tr>\n",
       "\t<tr><td>2014_1234_1397</td><td>1234          </td><td>1397          </td><td>2031.505      </td><td>1947.505      </td><td>0             </td><td>0.588         </td><td>1             </td><td>  83.99947    </td></tr>\n",
       "\t<tr><td>2014_1153_1217</td><td>1153          </td><td>1217          </td><td>1929.741      </td><td>1805.866      </td><td>0             </td><td>0.628         </td><td>1             </td><td> 123.87445    </td></tr>\n",
       "</tbody>\n",
       "</table>\n"
      ],
      "text/latex": [
       "\\begin{tabular}{r|lllllllll}\n",
       " ID & TeamID.x & TeamID.y & Rating.x & Rating.y & Target & Prob & Pred & delta\\\\\n",
       "\\hline\n",
       "\t 2014\\_1301\\_1462 & 1301               & 1462               & 1722.681           & 1858.845           & 1                  & 0.360              & 0                  & -136.16414        \\\\\n",
       "\t 2014\\_1163\\_1196 & 1163               & 1196               & 1920.875           & 2063.231           & 1                  & 0.354              & 0                  & -142.35580        \\\\\n",
       "\t 2014\\_1163\\_1277 & 1163               & 1277               & 1920.875           & 2038.244           & 1                  & 0.378              & 0                  & -117.36926        \\\\\n",
       "\t 2014\\_1163\\_1437 & 1163               & 1437               & 1920.875           & 2037.704           & 1                  & 0.379              & 0                  & -116.82875        \\\\\n",
       "\t 2014\\_1163\\_1235 & 1163               & 1235               & 1920.875           & 2034.178           & 1                  & 0.382              & 0                  & -113.30257        \\\\\n",
       "\t 2014\\_1163\\_1246 & 1163               & 1246               & 1920.875           & 1990.789           & 1                  & 0.427              & 0                  &  -69.91391        \\\\\n",
       "\t 2014\\_1173\\_1393 & 1173               & 1393               & 1807.130           & 1976.028           & 1                  & 0.329              & 0                  & -168.89840        \\\\\n",
       "\t 2014\\_1173\\_1390 & 1173               & 1390               & 1807.130           & 1857.425           & 1                  & 0.447              & 0                  &  -50.29560        \\\\\n",
       "\t 2014\\_1173\\_1326 & 1173               & 1326               & 1807.130           & 2074.093           & 1                  & 0.244              & 0                  & -266.96300        \\\\\n",
       "\t 2014\\_1295\\_1328 & 1295               & 1328               & 1662.324           & 1873.147           & 1                  & 0.291              & 0                  & -210.82322        \\\\\n",
       "\t 2014\\_1112\\_1458 & 1112               & 1458               & 2222.133           & 2006.661           & 0                  & 0.713              & 1                  &  215.47173        \\\\\n",
       "\t 2014\\_1124\\_1166 & 1124               & 1166               & 1913.656           & 2036.090           & 1                  & 0.373              & 0                  & -122.43409        \\\\\n",
       "\t 2014\\_1211\\_1329 & 1211               & 1329               & 1918.063           & 2059.078           & 1                  & 0.355              & 0                  & -141.01583        \\\\\n",
       "\t 2014\\_1242\\_1390 & 1242               & 1390               & 2047.365           & 1857.425           & 0                  & 0.691              & 1                  &  189.93995        \\\\\n",
       "\t 2014\\_1246\\_1257 & 1246               & 1257               & 1990.789           & 2151.754           & 1                  & 0.336              & 0                  & -160.96533        \\\\\n",
       "\t 2014\\_1246\\_1276 & 1246               & 1276               & 1990.789           & 2035.172           & 1                  & 0.453              & 0                  &  -44.38290        \\\\\n",
       "\t 2014\\_1246\\_1458 & 1246               & 1458               & 1990.789           & 2006.661           & 1                  & 0.483              & 0                  &  -15.87228        \\\\\n",
       "\t 2014\\_1372\\_1433 & 1372               & 1433               & 1636.588           & 1898.351           & 1                  & 0.248              & 0                  & -261.76344        \\\\\n",
       "\t 2014\\_1234\\_1397 & 1234               & 1397               & 2031.505           & 1947.505           & 0                  & 0.588              & 1                  &   83.99947        \\\\\n",
       "\t 2014\\_1153\\_1217 & 1153               & 1217               & 1929.741           & 1805.866           & 0                  & 0.628              & 1                  &  123.87445        \\\\\n",
       "\\end{tabular}\n"
      ],
      "text/markdown": [
       "\n",
       "| ID | TeamID.x | TeamID.y | Rating.x | Rating.y | Target | Prob | Pred | delta |\n",
       "|---|---|---|---|---|---|---|---|---|\n",
       "| 2014_1301_1462 | 1301           | 1462           | 1722.681       | 1858.845       | 1              | 0.360          | 0              | -136.16414     |\n",
       "| 2014_1163_1196 | 1163           | 1196           | 1920.875       | 2063.231       | 1              | 0.354          | 0              | -142.35580     |\n",
       "| 2014_1163_1277 | 1163           | 1277           | 1920.875       | 2038.244       | 1              | 0.378          | 0              | -117.36926     |\n",
       "| 2014_1163_1437 | 1163           | 1437           | 1920.875       | 2037.704       | 1              | 0.379          | 0              | -116.82875     |\n",
       "| 2014_1163_1235 | 1163           | 1235           | 1920.875       | 2034.178       | 1              | 0.382          | 0              | -113.30257     |\n",
       "| 2014_1163_1246 | 1163           | 1246           | 1920.875       | 1990.789       | 1              | 0.427          | 0              |  -69.91391     |\n",
       "| 2014_1173_1393 | 1173           | 1393           | 1807.130       | 1976.028       | 1              | 0.329          | 0              | -168.89840     |\n",
       "| 2014_1173_1390 | 1173           | 1390           | 1807.130       | 1857.425       | 1              | 0.447          | 0              |  -50.29560     |\n",
       "| 2014_1173_1326 | 1173           | 1326           | 1807.130       | 2074.093       | 1              | 0.244          | 0              | -266.96300     |\n",
       "| 2014_1295_1328 | 1295           | 1328           | 1662.324       | 1873.147       | 1              | 0.291          | 0              | -210.82322     |\n",
       "| 2014_1112_1458 | 1112           | 1458           | 2222.133       | 2006.661       | 0              | 0.713          | 1              |  215.47173     |\n",
       "| 2014_1124_1166 | 1124           | 1166           | 1913.656       | 2036.090       | 1              | 0.373          | 0              | -122.43409     |\n",
       "| 2014_1211_1329 | 1211           | 1329           | 1918.063       | 2059.078       | 1              | 0.355          | 0              | -141.01583     |\n",
       "| 2014_1242_1390 | 1242           | 1390           | 2047.365       | 1857.425       | 0              | 0.691          | 1              |  189.93995     |\n",
       "| 2014_1246_1257 | 1246           | 1257           | 1990.789       | 2151.754       | 1              | 0.336          | 0              | -160.96533     |\n",
       "| 2014_1246_1276 | 1246           | 1276           | 1990.789       | 2035.172       | 1              | 0.453          | 0              |  -44.38290     |\n",
       "| 2014_1246_1458 | 1246           | 1458           | 1990.789       | 2006.661       | 1              | 0.483          | 0              |  -15.87228     |\n",
       "| 2014_1372_1433 | 1372           | 1433           | 1636.588       | 1898.351       | 1              | 0.248          | 0              | -261.76344     |\n",
       "| 2014_1234_1397 | 1234           | 1397           | 2031.505       | 1947.505       | 0              | 0.588          | 1              |   83.99947     |\n",
       "| 2014_1153_1217 | 1153           | 1217           | 1929.741       | 1805.866       | 0              | 0.628          | 1              |  123.87445     |\n",
       "\n"
      ],
      "text/plain": [
       "   ID             TeamID.x TeamID.y Rating.x Rating.y Target Prob  Pred\n",
       "1  2014_1301_1462 1301     1462     1722.681 1858.845 1      0.360 0   \n",
       "2  2014_1163_1196 1163     1196     1920.875 2063.231 1      0.354 0   \n",
       "3  2014_1163_1277 1163     1277     1920.875 2038.244 1      0.378 0   \n",
       "4  2014_1163_1437 1163     1437     1920.875 2037.704 1      0.379 0   \n",
       "5  2014_1163_1235 1163     1235     1920.875 2034.178 1      0.382 0   \n",
       "6  2014_1163_1246 1163     1246     1920.875 1990.789 1      0.427 0   \n",
       "7  2014_1173_1393 1173     1393     1807.130 1976.028 1      0.329 0   \n",
       "8  2014_1173_1390 1173     1390     1807.130 1857.425 1      0.447 0   \n",
       "9  2014_1173_1326 1173     1326     1807.130 2074.093 1      0.244 0   \n",
       "10 2014_1295_1328 1295     1328     1662.324 1873.147 1      0.291 0   \n",
       "11 2014_1112_1458 1112     1458     2222.133 2006.661 0      0.713 1   \n",
       "12 2014_1124_1166 1124     1166     1913.656 2036.090 1      0.373 0   \n",
       "13 2014_1211_1329 1211     1329     1918.063 2059.078 1      0.355 0   \n",
       "14 2014_1242_1390 1242     1390     2047.365 1857.425 0      0.691 1   \n",
       "15 2014_1246_1257 1246     1257     1990.789 2151.754 1      0.336 0   \n",
       "16 2014_1246_1276 1246     1276     1990.789 2035.172 1      0.453 0   \n",
       "17 2014_1246_1458 1246     1458     1990.789 2006.661 1      0.483 0   \n",
       "18 2014_1372_1433 1372     1433     1636.588 1898.351 1      0.248 0   \n",
       "19 2014_1234_1397 1234     1397     2031.505 1947.505 0      0.588 1   \n",
       "20 2014_1153_1217 1153     1217     1929.741 1805.866 0      0.628 1   \n",
       "   delta     \n",
       "1  -136.16414\n",
       "2  -142.35580\n",
       "3  -117.36926\n",
       "4  -116.82875\n",
       "5  -113.30257\n",
       "6   -69.91391\n",
       "7  -168.89840\n",
       "8   -50.29560\n",
       "9  -266.96300\n",
       "10 -210.82322\n",
       "11  215.47173\n",
       "12 -122.43409\n",
       "13 -141.01583\n",
       "14  189.93995\n",
       "15 -160.96533\n",
       "16  -44.38290\n",
       "17  -15.87228\n",
       "18 -261.76344\n",
       "19   83.99947\n",
       "20  123.87445"
      ]
     },
     "metadata": {},
     "output_type": "display_data"
    }
   ],
   "source": [
    "df.valid.matchups %>% \n",
    "    filter(qtl==0.5,Season==2014) %>%\n",
    "    select(-qtl) %>%\n",
    "    mutate(ID=str_c(Season,'_',TeamID.x,'_',TeamID.y)) %>% \n",
    "    inner_join(data.valid.truth,by='ID') %>% \n",
    "    mutate(Prob=logistic(Rating.x-Rating.y,a=Slope)) %>% \n",
    "    mutate(Pred=ifelse(Prob>0.5,1,0)) %>% \n",
    "    mutate(Prob=round(Prob,3)) %>%\n",
    "    mutate_which(Prob>0.95,Prob=0.95) %>%\n",
    "    mutate_which(Prob<0.05,Prob=0.05) %>% \n",
    "    select(-Slope,-Season) %>% \n",
    "    select(ID,everything()) %>% \n",
    "    filter(Target!=Pred) %>% \n",
    "    mutate(delta=Rating.x-Rating.y) %>% head(20)\n"
   ]
  },
  {
   "cell_type": "code",
   "execution_count": null,
   "metadata": {},
   "outputs": [],
   "source": []
  },
  {
   "cell_type": "code",
   "execution_count": null,
   "metadata": {},
   "outputs": [],
   "source": []
  },
  {
   "cell_type": "code",
   "execution_count": null,
   "metadata": {},
   "outputs": [],
   "source": []
  },
  {
   "cell_type": "code",
   "execution_count": null,
   "metadata": {},
   "outputs": [],
   "source": []
  }
 ],
 "metadata": {
  "kernelspec": {
   "display_name": "R 3.5.0",
   "language": "R",
   "name": "ir35"
  },
  "language_info": {
   "codemirror_mode": "r",
   "file_extension": ".r",
   "mimetype": "text/x-r-source",
   "name": "R",
   "pygments_lexer": "r",
   "version": "3.5.1"
  }
 },
 "nbformat": 4,
 "nbformat_minor": 2
}
