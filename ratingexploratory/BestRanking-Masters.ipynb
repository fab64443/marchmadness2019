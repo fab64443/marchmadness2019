{
 "cells": [
  {
   "cell_type": "code",
   "execution_count": 1,
   "metadata": {},
   "outputs": [],
   "source": [
    "# Load required packages\n",
    "library(dplyr,warn.conflicts=F)\n",
    "library(stringr,warn.conflicts=F)\n",
    "library(psych,warn.conflicts=F)\n",
    "library(lplyr,warn.conflicts=F)\n",
    "library(tidyr,warn.conflicts=F)"
   ]
  },
  {
   "cell_type": "code",
   "execution_count": 7,
   "metadata": {},
   "outputs": [],
   "source": [
    "# Final ranking of madness\n",
    "data.teamtourneyranks <- readRDS('TeamTourneyRanking.rds')\n",
    "# ranking mapping\n",
    "data.tourneyranks <- read.csv('TourneyRanks.csv')"
   ]
  },
  {
   "cell_type": "code",
   "execution_count": 8,
   "metadata": {},
   "outputs": [],
   "source": [
    "# load ranking db\n",
    "data.ranking <- readRDS('../datafiles_rds/MasseyOrdinals.rds')\n",
    "# keep 2010+, last day\n",
    "data.ranking %>% \n",
    "    filter(Season>2010) %>%\n",
    "    group_by(Season) %>%\n",
    "    filter(RankingDayNum==max(RankingDayNum)) %>%\n",
    "    select(-RankingDayNum) %>%\n",
    "    ungroup() -> data.lastranking"
   ]
  },
  {
   "cell_type": "code",
   "execution_count": 9,
   "metadata": {},
   "outputs": [],
   "source": [
    "# Keep only 68 tourney teams\n",
    "data.lastranking %>%\n",
    "    inner_join(data.teamtourneyranks,by=c('Season','TeamID')) %>% \n",
    "    group_by(Season,SystemName) %>% \n",
    "    summarise(n=n()) %>% \n",
    "    ungroup() %>% \n",
    "    filter(n==68) -> df.systems\n",
    "data.lastranking %>%\n",
    "    semi_join(df.systems,by=c('Season','SystemName')) -> df.ranking"
   ]
  },
  {
   "cell_type": "code",
   "execution_count": 11,
   "metadata": {},
   "outputs": [
    {
     "data": {
      "text/html": [
       "<table>\n",
       "<thead><tr><th scope=col>Season</th><th scope=col>SystemName</th><th scope=col>TeamID</th><th scope=col>OrdinalRank</th></tr></thead>\n",
       "<tbody>\n",
       "\t<tr><td>2011</td><td>AUS </td><td>1102</td><td>108 </td></tr>\n",
       "\t<tr><td>2011</td><td>AUS </td><td>1103</td><td>127 </td></tr>\n",
       "\t<tr><td>2011</td><td>AUS </td><td>1104</td><td> 55 </td></tr>\n",
       "\t<tr><td>2011</td><td>AUS </td><td>1105</td><td>323 </td></tr>\n",
       "\t<tr><td>2011</td><td>AUS </td><td>1106</td><td>312 </td></tr>\n",
       "\t<tr><td>2011</td><td>AUS </td><td>1107</td><td>254 </td></tr>\n",
       "</tbody>\n",
       "</table>\n"
      ],
      "text/latex": [
       "\\begin{tabular}{r|llll}\n",
       " Season & SystemName & TeamID & OrdinalRank\\\\\n",
       "\\hline\n",
       "\t 2011 & AUS  & 1102 & 108 \\\\\n",
       "\t 2011 & AUS  & 1103 & 127 \\\\\n",
       "\t 2011 & AUS  & 1104 &  55 \\\\\n",
       "\t 2011 & AUS  & 1105 & 323 \\\\\n",
       "\t 2011 & AUS  & 1106 & 312 \\\\\n",
       "\t 2011 & AUS  & 1107 & 254 \\\\\n",
       "\\end{tabular}\n"
      ],
      "text/markdown": [
       "\n",
       "| Season | SystemName | TeamID | OrdinalRank |\n",
       "|---|---|---|---|\n",
       "| 2011 | AUS  | 1102 | 108  |\n",
       "| 2011 | AUS  | 1103 | 127  |\n",
       "| 2011 | AUS  | 1104 |  55  |\n",
       "| 2011 | AUS  | 1105 | 323  |\n",
       "| 2011 | AUS  | 1106 | 312  |\n",
       "| 2011 | AUS  | 1107 | 254  |\n",
       "\n"
      ],
      "text/plain": [
       "  Season SystemName TeamID OrdinalRank\n",
       "1 2011   AUS        1102   108        \n",
       "2 2011   AUS        1103   127        \n",
       "3 2011   AUS        1104    55        \n",
       "4 2011   AUS        1105   323        \n",
       "5 2011   AUS        1106   312        \n",
       "6 2011   AUS        1107   254        "
      ]
     },
     "metadata": {},
     "output_type": "display_data"
    },
    {
     "data": {
      "text/html": [
       "<table>\n",
       "<thead><tr><th scope=col>Season</th><th scope=col>SystemName</th><th scope=col>n</th></tr></thead>\n",
       "<tbody>\n",
       "\t<tr><td>2011</td><td>AUS </td><td>68  </td></tr>\n",
       "\t<tr><td>2011</td><td>BIH </td><td>68  </td></tr>\n",
       "\t<tr><td>2011</td><td>BOB </td><td>68  </td></tr>\n",
       "\t<tr><td>2011</td><td>BPI </td><td>68  </td></tr>\n",
       "\t<tr><td>2011</td><td>CNG </td><td>68  </td></tr>\n",
       "\t<tr><td>2011</td><td>COL </td><td>68  </td></tr>\n",
       "</tbody>\n",
       "</table>\n"
      ],
      "text/latex": [
       "\\begin{tabular}{r|lll}\n",
       " Season & SystemName & n\\\\\n",
       "\\hline\n",
       "\t 2011 & AUS  & 68  \\\\\n",
       "\t 2011 & BIH  & 68  \\\\\n",
       "\t 2011 & BOB  & 68  \\\\\n",
       "\t 2011 & BPI  & 68  \\\\\n",
       "\t 2011 & CNG  & 68  \\\\\n",
       "\t 2011 & COL  & 68  \\\\\n",
       "\\end{tabular}\n"
      ],
      "text/markdown": [
       "\n",
       "| Season | SystemName | n |\n",
       "|---|---|---|\n",
       "| 2011 | AUS  | 68   |\n",
       "| 2011 | BIH  | 68   |\n",
       "| 2011 | BOB  | 68   |\n",
       "| 2011 | BPI  | 68   |\n",
       "| 2011 | CNG  | 68   |\n",
       "| 2011 | COL  | 68   |\n",
       "\n"
      ],
      "text/plain": [
       "  Season SystemName n \n",
       "1 2011   AUS        68\n",
       "2 2011   BIH        68\n",
       "3 2011   BOB        68\n",
       "4 2011   BPI        68\n",
       "5 2011   CNG        68\n",
       "6 2011   COL        68"
      ]
     },
     "metadata": {},
     "output_type": "display_data"
    }
   ],
   "source": [
    "df.ranking %>% head\n",
    "df.systems %>% head"
   ]
  },
  {
   "cell_type": "code",
   "execution_count": 14,
   "metadata": {},
   "outputs": [],
   "source": [
    "data.matchups <- readRDS('../datafiles_rds/TourneyMatchups.rds')\n",
    "data.truth <- readRDS('../datafiles_rds/TourneyTrueResults.rds')"
   ]
  },
  {
   "cell_type": "code",
   "execution_count": 16,
   "metadata": {},
   "outputs": [],
   "source": [
    "data.matchups %>%\n",
    "    inner_join(df.systems %>% select(-n),by='Season') -> df.matchups"
   ]
  },
  {
   "cell_type": "code",
   "execution_count": 26,
   "metadata": {},
   "outputs": [],
   "source": [
    "df.matchups %>%\n",
    "    inner_join(df.ranking,by=c('Season','TeamID.x'='TeamID','SystemName')) %>%\n",
    "    rename(Rank.x=OrdinalRank) %>%\n",
    "    inner_join(df.ranking,by=c('Season','TeamID.y'='TeamID','SystemName')) %>%\n",
    "    rename(Rank.y=OrdinalRank) %>%\n",
    "    mutate(Pred=ifelse(Rank.x<Rank.y,1,0)) %>%\n",
    "    mutate(ID=str_c(Season,'_',TeamID.x,'_',TeamID.y)) %>%\n",
    "    select(ID,Season,SystemName,Pred) -> df.predict"
   ]
  },
  {
   "cell_type": "code",
   "execution_count": 27,
   "metadata": {},
   "outputs": [],
   "source": [
    "df.predict %>%\n",
    "    inner_join(data.truth,by='ID') %>%\n",
    "    mutate(OK=ifelse(Pred==Target,1,0)) -> df.results"
   ]
  },
  {
   "cell_type": "code",
   "execution_count": 34,
   "metadata": {},
   "outputs": [
    {
     "data": {
      "text/html": [
       "<table>\n",
       "<thead><tr><th scope=col>Season</th><th scope=col>SystemName</th><th scope=col>Tot</th></tr></thead>\n",
       "<tbody>\n",
       "\t<tr><td>2011</td><td>POM </td><td>46  </td></tr>\n",
       "\t<tr><td>2012</td><td>CPR </td><td>57  </td></tr>\n",
       "\t<tr><td>2013</td><td>CPR </td><td>52  </td></tr>\n",
       "\t<tr><td>2014</td><td>UPS </td><td>48  </td></tr>\n",
       "\t<tr><td>2015</td><td>DC  </td><td>53  </td></tr>\n",
       "\t<tr><td>2016</td><td>LMC </td><td>51  </td></tr>\n",
       "\t<tr><td>2017</td><td>DOK </td><td>53  </td></tr>\n",
       "\t<tr><td>2018</td><td>MAS </td><td>51  </td></tr>\n",
       "</tbody>\n",
       "</table>\n"
      ],
      "text/latex": [
       "\\begin{tabular}{r|lll}\n",
       " Season & SystemName & Tot\\\\\n",
       "\\hline\n",
       "\t 2011 & POM  & 46  \\\\\n",
       "\t 2012 & CPR  & 57  \\\\\n",
       "\t 2013 & CPR  & 52  \\\\\n",
       "\t 2014 & UPS  & 48  \\\\\n",
       "\t 2015 & DC   & 53  \\\\\n",
       "\t 2016 & LMC  & 51  \\\\\n",
       "\t 2017 & DOK  & 53  \\\\\n",
       "\t 2018 & MAS  & 51  \\\\\n",
       "\\end{tabular}\n"
      ],
      "text/markdown": [
       "\n",
       "| Season | SystemName | Tot |\n",
       "|---|---|---|\n",
       "| 2011 | POM  | 46   |\n",
       "| 2012 | CPR  | 57   |\n",
       "| 2013 | CPR  | 52   |\n",
       "| 2014 | UPS  | 48   |\n",
       "| 2015 | DC   | 53   |\n",
       "| 2016 | LMC  | 51   |\n",
       "| 2017 | DOK  | 53   |\n",
       "| 2018 | MAS  | 51   |\n",
       "\n"
      ],
      "text/plain": [
       "  Season SystemName Tot\n",
       "1 2011   POM        46 \n",
       "2 2012   CPR        57 \n",
       "3 2013   CPR        52 \n",
       "4 2014   UPS        48 \n",
       "5 2015   DC         53 \n",
       "6 2016   LMC        51 \n",
       "7 2017   DOK        53 \n",
       "8 2018   MAS        51 "
      ]
     },
     "metadata": {},
     "output_type": "display_data"
    }
   ],
   "source": [
    "df.results %>%\n",
    "    group_by(Season,SystemName) %>%\n",
    "    summarise(Tot=sum(OK)) %>%\n",
    "    arrange(Season,desc(Tot)) %>%\n",
    "    slice(1:1) %>%\n",
    "    ungroup()"
   ]
  },
  {
   "cell_type": "code",
   "execution_count": 39,
   "metadata": {},
   "outputs": [],
   "source": [
    "df.results %>%\n",
    "    group_by(Season,SystemName) %>%\n",
    "    summarise(Tot=sum(OK)) %>%\n",
    "    arrange(Season,desc(Tot)) %>%\n",
    "    slice(1:3) %>%\n",
    "    mutate(rn=row_number()) %>%\n",
    "    mutate(W=case_when(rn==1 ~ 2, TRUE ~ 1)) %>%\n",
    "    ungroup() %>%\n",
    "    select(-Tot,-rn) -> df.masters"
   ]
  },
  {
   "cell_type": "code",
   "execution_count": 40,
   "metadata": {},
   "outputs": [
    {
     "data": {
      "text/html": [
       "<table>\n",
       "<thead><tr><th scope=col>ID</th><th scope=col>Season</th><th scope=col>SystemName</th><th scope=col>Pred</th><th scope=col>Target</th><th scope=col>OK</th><th scope=col>W</th></tr></thead>\n",
       "<tbody>\n",
       "\t<tr><td>2011_1155_1452</td><td>2011          </td><td>DC            </td><td>0             </td><td>0             </td><td>1             </td><td>1             </td></tr>\n",
       "\t<tr><td>2011_1155_1452</td><td>2011          </td><td>DCI           </td><td>1             </td><td>0             </td><td>0             </td><td>1             </td></tr>\n",
       "\t<tr><td>2011_1155_1452</td><td>2011          </td><td>POM           </td><td>0             </td><td>0             </td><td>1             </td><td>2             </td></tr>\n",
       "\t<tr><td>2011_1155_1412</td><td>2011          </td><td>DC            </td><td>0             </td><td>1             </td><td>0             </td><td>1             </td></tr>\n",
       "\t<tr><td>2011_1155_1412</td><td>2011          </td><td>DCI           </td><td>1             </td><td>1             </td><td>1             </td><td>1             </td></tr>\n",
       "\t<tr><td>2011_1155_1412</td><td>2011          </td><td>POM           </td><td>1             </td><td>1             </td><td>1             </td><td>2             </td></tr>\n",
       "</tbody>\n",
       "</table>\n"
      ],
      "text/latex": [
       "\\begin{tabular}{r|lllllll}\n",
       " ID & Season & SystemName & Pred & Target & OK & W\\\\\n",
       "\\hline\n",
       "\t 2011\\_1155\\_1452 & 2011               & DC                 & 0                  & 0                  & 1                  & 1                 \\\\\n",
       "\t 2011\\_1155\\_1452 & 2011               & DCI                & 1                  & 0                  & 0                  & 1                 \\\\\n",
       "\t 2011\\_1155\\_1452 & 2011               & POM                & 0                  & 0                  & 1                  & 2                 \\\\\n",
       "\t 2011\\_1155\\_1412 & 2011               & DC                 & 0                  & 1                  & 0                  & 1                 \\\\\n",
       "\t 2011\\_1155\\_1412 & 2011               & DCI                & 1                  & 1                  & 1                  & 1                 \\\\\n",
       "\t 2011\\_1155\\_1412 & 2011               & POM                & 1                  & 1                  & 1                  & 2                 \\\\\n",
       "\\end{tabular}\n"
      ],
      "text/markdown": [
       "\n",
       "| ID | Season | SystemName | Pred | Target | OK | W |\n",
       "|---|---|---|---|---|---|---|\n",
       "| 2011_1155_1452 | 2011           | DC             | 0              | 0              | 1              | 1              |\n",
       "| 2011_1155_1452 | 2011           | DCI            | 1              | 0              | 0              | 1              |\n",
       "| 2011_1155_1452 | 2011           | POM            | 0              | 0              | 1              | 2              |\n",
       "| 2011_1155_1412 | 2011           | DC             | 0              | 1              | 0              | 1              |\n",
       "| 2011_1155_1412 | 2011           | DCI            | 1              | 1              | 1              | 1              |\n",
       "| 2011_1155_1412 | 2011           | POM            | 1              | 1              | 1              | 2              |\n",
       "\n"
      ],
      "text/plain": [
       "  ID             Season SystemName Pred Target OK W\n",
       "1 2011_1155_1452 2011   DC         0    0      1  1\n",
       "2 2011_1155_1452 2011   DCI        1    0      0  1\n",
       "3 2011_1155_1452 2011   POM        0    0      1  2\n",
       "4 2011_1155_1412 2011   DC         0    1      0  1\n",
       "5 2011_1155_1412 2011   DCI        1    1      1  1\n",
       "6 2011_1155_1412 2011   POM        1    1      1  2"
      ]
     },
     "metadata": {},
     "output_type": "display_data"
    }
   ],
   "source": [
    "df.results %>%\n",
    "    inner_join(df.masters,by=c('Season','SystemName')) %>% head"
   ]
  },
  {
   "cell_type": "code",
   "execution_count": 46,
   "metadata": {},
   "outputs": [
    {
     "data": {
      "text/html": [
       "<table>\n",
       "<thead><tr><th scope=col>Season</th><th scope=col>SystemName</th><th scope=col>Tot</th></tr></thead>\n",
       "<tbody>\n",
       "\t<tr><td>2011</td><td>POM </td><td>46  </td></tr>\n",
       "\t<tr><td>2012</td><td>CPR </td><td>51  </td></tr>\n",
       "\t<tr><td>2013</td><td>CPR </td><td>49  </td></tr>\n",
       "\t<tr><td>2014</td><td>UPS </td><td>49  </td></tr>\n",
       "\t<tr><td>2015</td><td>DC  </td><td>53  </td></tr>\n",
       "\t<tr><td>2016</td><td>LMC </td><td>52  </td></tr>\n",
       "\t<tr><td>2017</td><td>DOK </td><td>53  </td></tr>\n",
       "\t<tr><td>2018</td><td>MAS </td><td>52  </td></tr>\n",
       "</tbody>\n",
       "</table>\n"
      ],
      "text/latex": [
       "\\begin{tabular}{r|lll}\n",
       " Season & SystemName & Tot\\\\\n",
       "\\hline\n",
       "\t 2011 & POM  & 46  \\\\\n",
       "\t 2012 & CPR  & 51  \\\\\n",
       "\t 2013 & CPR  & 49  \\\\\n",
       "\t 2014 & UPS  & 49  \\\\\n",
       "\t 2015 & DC   & 53  \\\\\n",
       "\t 2016 & LMC  & 52  \\\\\n",
       "\t 2017 & DOK  & 53  \\\\\n",
       "\t 2018 & MAS  & 52  \\\\\n",
       "\\end{tabular}\n"
      ],
      "text/markdown": [
       "\n",
       "| Season | SystemName | Tot |\n",
       "|---|---|---|\n",
       "| 2011 | POM  | 46   |\n",
       "| 2012 | CPR  | 51   |\n",
       "| 2013 | CPR  | 49   |\n",
       "| 2014 | UPS  | 49   |\n",
       "| 2015 | DC   | 53   |\n",
       "| 2016 | LMC  | 52   |\n",
       "| 2017 | DOK  | 53   |\n",
       "| 2018 | MAS  | 52   |\n",
       "\n"
      ],
      "text/plain": [
       "  Season SystemName Tot\n",
       "1 2011   POM        46 \n",
       "2 2012   CPR        51 \n",
       "3 2013   CPR        49 \n",
       "4 2014   UPS        49 \n",
       "5 2015   DC         53 \n",
       "6 2016   LMC        52 \n",
       "7 2017   DOK        53 \n",
       "8 2018   MAS        52 "
      ]
     },
     "metadata": {},
     "output_type": "display_data"
    }
   ],
   "source": [
    "df.results %>%\n",
    "    inner_join(df.masters,by=c('Season','SystemName')) %>%\n",
    "    group_by(ID) %>%\n",
    "    mutate(Tot=sum(OK*W)) %>%\n",
    "    mutate_which(Tot==2,Pred=1-Pred) %>%\n",
    "    ungroup() %>%\n",
    "    filter(W==2) %>%\n",
    "    mutate(OK=ifelse(Pred==Target,1,0)) %>%\n",
    "    select(-W,-Tot) %>%\n",
    "    group_by(Season,SystemName) %>%\n",
    "    summarise(Tot=sum(OK)) %>%\n",
    "    arrange(Season,desc(Tot)) %>%\n",
    "    slice(1:1) %>%\n",
    "    ungroup()    "
   ]
  },
  {
   "cell_type": "code",
   "execution_count": 48,
   "metadata": {},
   "outputs": [
    {
     "data": {
      "text/html": [
       "0.791044776119403"
      ],
      "text/latex": [
       "0.791044776119403"
      ],
      "text/markdown": [
       "0.791044776119403"
      ],
      "text/plain": [
       "[1] 0.7910448"
      ]
     },
     "metadata": {},
     "output_type": "display_data"
    }
   ],
   "source": [
    "53/67"
   ]
  },
  {
   "cell_type": "code",
   "execution_count": null,
   "metadata": {},
   "outputs": [],
   "source": []
  },
  {
   "cell_type": "code",
   "execution_count": null,
   "metadata": {},
   "outputs": [],
   "source": []
  },
  {
   "cell_type": "code",
   "execution_count": null,
   "metadata": {},
   "outputs": [],
   "source": []
  }
 ],
 "metadata": {
  "kernelspec": {
   "display_name": "R 3.5.0",
   "language": "R",
   "name": "ir35"
  },
  "language_info": {
   "codemirror_mode": "r",
   "file_extension": ".r",
   "mimetype": "text/x-r-source",
   "name": "R",
   "pygments_lexer": "r",
   "version": "3.5.1"
  }
 },
 "nbformat": 4,
 "nbformat_minor": 2
}
