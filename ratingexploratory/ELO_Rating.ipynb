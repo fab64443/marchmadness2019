{
 "cells": [
  {
   "cell_type": "markdown",
   "metadata": {},
   "source": [
    "### ELO Custom Rating"
   ]
  },
  {
   "cell_type": "markdown",
   "metadata": {},
   "source": [
    "#### Libraries"
   ]
  },
  {
   "cell_type": "code",
   "execution_count": 176,
   "metadata": {},
   "outputs": [],
   "source": [
    "# Load required packages\n",
    "library(dplyr,warn.conflicts=F)\n",
    "library(stringr,warn.conflicts=F)\n",
    "library(lplyr,warn.conflicts=F)\n",
    "library(tidyr,warn.conflicts=F)\n",
    "library(tidyimpute,warn.conflicts=F)\n",
    "\n",
    "library(psych,warn.conflicts=F)\n",
    "library(ggplot2,warn.conflicts=F)"
   ]
  },
  {
   "cell_type": "markdown",
   "metadata": {},
   "source": [
    "#### Load 2011+"
   ]
  },
  {
   "cell_type": "code",
   "execution_count": 177,
   "metadata": {},
   "outputs": [],
   "source": [
    "# load the stats\n",
    "data.regulars <- readRDS('../datafiles_rds/RegularSeasonDetailedResults.rds')\n",
    "# keep 2011+\n",
    "data.regulars %>% filter(Season>2010) -> data.regulars"
   ]
  },
  {
   "cell_type": "code",
   "execution_count": 178,
   "metadata": {},
   "outputs": [],
   "source": [
    "# load the stats\n",
    "data.teams <- readRDS('../datafiles_rds/Teams.rds')\n",
    "\n",
    "data.teams %>%\n",
    "    select(TeamID,TeamName) %>%\n",
    "    mutate(TeamName=str_to_lower(TeamName), \n",
    "           TeamName=str_replace_all(TeamName,' ','_'), \n",
    "           TeamName=str_remove_all(TeamName,'&')) -> df.teams"
   ]
  },
  {
   "cell_type": "markdown",
   "metadata": {},
   "source": [
    "#### Prepare data Win-Loss"
   ]
  },
  {
   "cell_type": "raw",
   "metadata": {},
   "source": [
    "data.regulars %>% \n",
    "    select(Season,DayNum,WTeamID,LTeamID,WLoc) %>% \n",
    "    mutate(Win=1) -> df.regulars"
   ]
  },
  {
   "cell_type": "code",
   "execution_count": 192,
   "metadata": {},
   "outputs": [],
   "source": [
    "data.regulars %>% \n",
    "    select(Season,DayNum,WTeamID,LTeamID,WLoc,WScore,LScore) %>% \n",
    "    mutate(WScorePct=(WScore+1)/(WScore+LScore+2)) -> df.regulars"
   ]
  },
  {
   "cell_type": "code",
   "execution_count": 193,
   "metadata": {},
   "outputs": [],
   "source": [
    "# teams list\n",
    "df.regulars %>% \n",
    "    select(Season,TeamID=WTeamID) %>% \n",
    "    bind_rows(dataset %>% select(Season,TeamID=LTeamID)) %>% \n",
    "    distinct() %>% \n",
    "    arrange(Season,TeamID) %>% \n",
    "    mutate(DayRating=0, Rating=0) -> df.ratings"
   ]
  },
  {
   "cell_type": "markdown",
   "metadata": {},
   "source": [
    "#### Elo Rating"
   ]
  },
  {
   "cell_type": "code",
   "execution_count": 194,
   "metadata": {},
   "outputs": [],
   "source": [
    "ComputeELO <- function(dataset,stat,K=32,Ksi=400) {\n",
    "    stat_var <- enquo(stat)\n",
    "    dataset %>% rename(Statistic := !!stat_var) -> dataset\n",
    "    for(i in 1:140) {\n",
    "       dataset %>% \n",
    "            filter(DayNum==i) %>% \n",
    "            inner_join(df.ratings,by=c('Season','WTeamID'='TeamID')) %>% \n",
    "            rename(DayRating.x=DayRating,Rating.x=Rating) %>%\n",
    "            arrange(desc(DayRating.x)) %>% \n",
    "            group_by(Season,WTeamID) %>% \n",
    "            slice(1:1) %>% \n",
    "            ungroup() %>%\n",
    "            inner_join(df.ratings,by=c('Season','LTeamID'='TeamID')) %>% \n",
    "            rename(DayRating.y=DayRating,Rating.y=Rating) %>%\n",
    "            arrange(desc(DayRating.y)) %>% \n",
    "            group_by(Season,LTeamID) %>% \n",
    "            slice(1:1) %>% \n",
    "            ungroup() %>%\n",
    "            mutate(Mu=1/(1+10^((Rating.y-Rating.x)/Ksi))) %>%\n",
    "            mutate(Delta.x=(Statistic-Mu)*K, Delta.y=-Delta.x) %>%\n",
    "            mutate(NRating.x=Rating.x+Delta.x, NRating.y=Rating.y+Delta.y) -> tmp01\n",
    "        tmp01 %>% select(Season,DayNum,TeamID=WTeamID,DayRating=DayNum,Rating=NRating.x) %>%\n",
    "            bind_rows(tmp01 %>% select(Season,DayNum,TeamID=LTeamID,DayRating=DayNum,Rating=NRating.y)) -> tmp02\n",
    "        df.ratings %>% bind_rows(tmp02) ->> df.ratings\n",
    "    }    \n",
    "}"
   ]
  },
  {
   "cell_type": "code",
   "execution_count": 198,
   "metadata": {},
   "outputs": [],
   "source": [
    "ComputeELO(df.regulars,WScorePct)"
   ]
  },
  {
   "cell_type": "code",
   "execution_count": 199,
   "metadata": {},
   "outputs": [
    {
     "data": {
      "text/html": [
       "<table>\n",
       "<thead><tr><th scope=col>Season</th><th scope=col>TeamID</th><th scope=col>DayRating</th><th scope=col>Rating</th><th scope=col>TeamName</th></tr></thead>\n",
       "<tbody>\n",
       "\t<tr><td>2017      </td><td>1211      </td><td>127       </td><td>48.45174  </td><td>gonzaga   </td></tr>\n",
       "\t<tr><td>2015      </td><td>1246      </td><td>132       </td><td>47.73722  </td><td>kentucky  </td></tr>\n",
       "\t<tr><td>2014      </td><td>1257      </td><td>131       </td><td>47.27878  </td><td>louisville</td></tr>\n",
       "\t<tr><td>2015      </td><td>1112      </td><td>131       </td><td>43.99447  </td><td>arizona   </td></tr>\n",
       "\t<tr><td>2013      </td><td>1196      </td><td>132       </td><td>41.39137  </td><td>florida   </td></tr>\n",
       "\t<tr><td>2013      </td><td>1257      </td><td>131       </td><td>41.11271  </td><td>louisville</td></tr>\n",
       "</tbody>\n",
       "</table>\n"
      ],
      "text/latex": [
       "\\begin{tabular}{r|lllll}\n",
       " Season & TeamID & DayRating & Rating & TeamName\\\\\n",
       "\\hline\n",
       "\t 2017       & 1211       & 127        & 48.45174   & gonzaga   \\\\\n",
       "\t 2015       & 1246       & 132        & 47.73722   & kentucky  \\\\\n",
       "\t 2014       & 1257       & 131        & 47.27878   & louisville\\\\\n",
       "\t 2015       & 1112       & 131        & 43.99447   & arizona   \\\\\n",
       "\t 2013       & 1196       & 132        & 41.39137   & florida   \\\\\n",
       "\t 2013       & 1257       & 131        & 41.11271   & louisville\\\\\n",
       "\\end{tabular}\n"
      ],
      "text/markdown": [
       "\n",
       "| Season | TeamID | DayRating | Rating | TeamName |\n",
       "|---|---|---|---|---|\n",
       "| 2017       | 1211       | 127        | 48.45174   | gonzaga    |\n",
       "| 2015       | 1246       | 132        | 47.73722   | kentucky   |\n",
       "| 2014       | 1257       | 131        | 47.27878   | louisville |\n",
       "| 2015       | 1112       | 131        | 43.99447   | arizona    |\n",
       "| 2013       | 1196       | 132        | 41.39137   | florida    |\n",
       "| 2013       | 1257       | 131        | 41.11271   | louisville |\n",
       "\n"
      ],
      "text/plain": [
       "  Season TeamID DayRating Rating   TeamName  \n",
       "1 2017   1211   127       48.45174 gonzaga   \n",
       "2 2015   1246   132       47.73722 kentucky  \n",
       "3 2014   1257   131       47.27878 louisville\n",
       "4 2015   1112   131       43.99447 arizona   \n",
       "5 2013   1196   132       41.39137 florida   \n",
       "6 2013   1257   131       41.11271 louisville"
      ]
     },
     "metadata": {},
     "output_type": "display_data"
    }
   ],
   "source": [
    "df.ratings %>% \n",
    "    arrange(desc(DayRating)) %>% \n",
    "    group_by(Season,TeamID) %>% \n",
    "    slice(1:1) %>% \n",
    "    ungroup() -> df.ratings.last\n",
    "df.ratings.last %>% arrange(desc(Rating)) %>% inner_join(df.teams,by='TeamID') %>% head"
   ]
  },
  {
   "cell_type": "markdown",
   "metadata": {},
   "source": [
    "### Tourney matchups performance (validation dataset)"
   ]
  },
  {
   "cell_type": "markdown",
   "metadata": {},
   "source": [
    "#### Load test data"
   ]
  },
  {
   "cell_type": "code",
   "execution_count": 200,
   "metadata": {
    "scrolled": true
   },
   "outputs": [],
   "source": [
    "data.valid.matchups <- readRDS('../datafiles_rds/TourneyMatchups.rds')\n",
    "data.valid.matchups %>% filter(Season>2010) -> data.valid.matchups\n",
    "data.valid.truth <- readRDS('../datafiles_rds/TourneyTrueResults.rds')"
   ]
  },
  {
   "cell_type": "markdown",
   "metadata": {},
   "source": [
    "#### prepare"
   ]
  },
  {
   "cell_type": "code",
   "execution_count": 201,
   "metadata": {},
   "outputs": [],
   "source": [
    "# matchups dataframe : all the possible matches between the 68 teams per Season \n",
    "data.valid.matchups %>%\n",
    "    inner_join(df.ratings.last,by=c('Season','TeamID.x'='TeamID')) %>%\n",
    "    select(-DayRating) %>%\n",
    "    inner_join(df.ratings.last,by=c('Season','TeamID.y'='TeamID')) %>% \n",
    "    select(-DayRating) -> df.valid.matchups"
   ]
  },
  {
   "cell_type": "code",
   "execution_count": 202,
   "metadata": {},
   "outputs": [
    {
     "data": {
      "text/html": [
       "<table>\n",
       "<thead><tr><th scope=col>Season</th><th scope=col>TeamID.x</th><th scope=col>TeamID.y</th><th scope=col>Rating.x</th><th scope=col>Rating.y</th></tr></thead>\n",
       "<tbody>\n",
       "\t<tr><td>2017     </td><td>1166     </td><td>1235     </td><td>19.02739 </td><td>23.204568</td></tr>\n",
       "\t<tr><td>2018     </td><td>1242     </td><td>1393     </td><td>24.48035 </td><td>10.579117</td></tr>\n",
       "\t<tr><td>2017     </td><td>1374     </td><td>1436     </td><td>36.17314 </td><td>25.510492</td></tr>\n",
       "\t<tr><td>2016     </td><td>1139     </td><td>1344     </td><td>17.76325 </td><td>12.567446</td></tr>\n",
       "\t<tr><td>2012     </td><td>1143     </td><td>1443     </td><td>21.02749 </td><td>-1.676241</td></tr>\n",
       "</tbody>\n",
       "</table>\n"
      ],
      "text/latex": [
       "\\begin{tabular}{r|lllll}\n",
       " Season & TeamID.x & TeamID.y & Rating.x & Rating.y\\\\\n",
       "\\hline\n",
       "\t 2017      & 1166      & 1235      & 19.02739  & 23.204568\\\\\n",
       "\t 2018      & 1242      & 1393      & 24.48035  & 10.579117\\\\\n",
       "\t 2017      & 1374      & 1436      & 36.17314  & 25.510492\\\\\n",
       "\t 2016      & 1139      & 1344      & 17.76325  & 12.567446\\\\\n",
       "\t 2012      & 1143      & 1443      & 21.02749  & -1.676241\\\\\n",
       "\\end{tabular}\n"
      ],
      "text/markdown": [
       "\n",
       "| Season | TeamID.x | TeamID.y | Rating.x | Rating.y |\n",
       "|---|---|---|---|---|\n",
       "| 2017      | 1166      | 1235      | 19.02739  | 23.204568 |\n",
       "| 2018      | 1242      | 1393      | 24.48035  | 10.579117 |\n",
       "| 2017      | 1374      | 1436      | 36.17314  | 25.510492 |\n",
       "| 2016      | 1139      | 1344      | 17.76325  | 12.567446 |\n",
       "| 2012      | 1143      | 1443      | 21.02749  | -1.676241 |\n",
       "\n"
      ],
      "text/plain": [
       "  Season TeamID.x TeamID.y Rating.x Rating.y \n",
       "1 2017   1166     1235     19.02739 23.204568\n",
       "2 2018   1242     1393     24.48035 10.579117\n",
       "3 2017   1374     1436     36.17314 25.510492\n",
       "4 2016   1139     1344     17.76325 12.567446\n",
       "5 2012   1143     1443     21.02749 -1.676241"
      ]
     },
     "metadata": {},
     "output_type": "display_data"
    }
   ],
   "source": [
    "df.valid.matchups %>% sample_n(5)"
   ]
  },
  {
   "cell_type": "code",
   "execution_count": 203,
   "metadata": {},
   "outputs": [
    {
     "data": {
      "text/html": [
       "<table>\n",
       "<thead><tr><th scope=col>Season</th><th scope=col>ID</th><th scope=col>Pred</th><th scope=col>Prob</th></tr></thead>\n",
       "<tbody>\n",
       "\t<tr><td>2018          </td><td>2018_1438_1439</td><td>1             </td><td>0.530         </td></tr>\n",
       "\t<tr><td>2013          </td><td>2013_1166_1207</td><td>0             </td><td>0.495         </td></tr>\n",
       "\t<tr><td>2012          </td><td>2012_1104_1436</td><td>1             </td><td>0.507         </td></tr>\n",
       "\t<tr><td>2012          </td><td>2012_1124_1254</td><td>1             </td><td>0.526         </td></tr>\n",
       "\t<tr><td>2012          </td><td>2012_1355_1443</td><td>1             </td><td>0.534         </td></tr>\n",
       "</tbody>\n",
       "</table>\n"
      ],
      "text/latex": [
       "\\begin{tabular}{r|llll}\n",
       " Season & ID & Pred & Prob\\\\\n",
       "\\hline\n",
       "\t 2018               & 2018\\_1438\\_1439 & 1                  & 0.530             \\\\\n",
       "\t 2013               & 2013\\_1166\\_1207 & 0                  & 0.495             \\\\\n",
       "\t 2012               & 2012\\_1104\\_1436 & 1                  & 0.507             \\\\\n",
       "\t 2012               & 2012\\_1124\\_1254 & 1                  & 0.526             \\\\\n",
       "\t 2012               & 2012\\_1355\\_1443 & 1                  & 0.534             \\\\\n",
       "\\end{tabular}\n"
      ],
      "text/markdown": [
       "\n",
       "| Season | ID | Pred | Prob |\n",
       "|---|---|---|---|\n",
       "| 2018           | 2018_1438_1439 | 1              | 0.530          |\n",
       "| 2013           | 2013_1166_1207 | 0              | 0.495          |\n",
       "| 2012           | 2012_1104_1436 | 1              | 0.507          |\n",
       "| 2012           | 2012_1124_1254 | 1              | 0.526          |\n",
       "| 2012           | 2012_1355_1443 | 1              | 0.534          |\n",
       "\n"
      ],
      "text/plain": [
       "  Season ID             Pred Prob \n",
       "1 2018   2018_1438_1439 1    0.530\n",
       "2 2013   2013_1166_1207 0    0.495\n",
       "3 2012   2012_1104_1436 1    0.507\n",
       "4 2012   2012_1124_1254 1    0.526\n",
       "5 2012   2012_1355_1443 1    0.534"
      ]
     },
     "metadata": {},
     "output_type": "display_data"
    }
   ],
   "source": [
    "# machups predictions\n",
    "K=32\n",
    "Ksi=400\n",
    "df.valid.matchups %>% \n",
    "    mutate(ID=str_c(Season,'_',TeamID.x,'_',TeamID.y)) %>% \n",
    "    mutate(Prob= 1/(1+10^((Rating.y-Rating.x)/Ksi)) ) %>% \n",
    "    mutate(Pred=ifelse(Prob>0.5,1,0)) %>% \n",
    "    mutate(Prob=round(Prob,3)) %>%\n",
    "    mutate_which(Prob>0.95,Prob=0.95) %>%\n",
    "    mutate_which(Prob<0.05,Prob=0.05) %>%\n",
    "    select(Season,ID,Pred,Prob) -> df.valid.submit\n",
    "df.valid.submit %>% sample_n(5)"
   ]
  },
  {
   "cell_type": "code",
   "execution_count": 205,
   "metadata": {},
   "outputs": [],
   "source": [
    "# merge prediction and truth\n",
    "data.valid.truth %>% inner_join(df.valid.submit,by='ID') -> df.valid.results"
   ]
  },
  {
   "cell_type": "code",
   "execution_count": 206,
   "metadata": {},
   "outputs": [
    {
     "data": {
      "text/html": [
       "<table>\n",
       "<thead><tr><th scope=col>Season</th><th scope=col>TC</th><th scope=col>FC</th><th scope=col>N</th><th scope=col>Acc</th><th scope=col>LogLoss</th></tr></thead>\n",
       "<tbody>\n",
       "\t<tr><td>2011     </td><td>42       </td><td>25       </td><td>67       </td><td>0.6268657</td><td>0.6810992</td></tr>\n",
       "\t<tr><td>2012     </td><td>48       </td><td>19       </td><td>67       </td><td>0.7164179</td><td>0.6775226</td></tr>\n",
       "\t<tr><td>2013     </td><td>40       </td><td>27       </td><td>67       </td><td>0.5970149</td><td>0.6769426</td></tr>\n",
       "\t<tr><td>2014     </td><td>44       </td><td>23       </td><td>67       </td><td>0.6567164</td><td>0.6759818</td></tr>\n",
       "\t<tr><td>2015     </td><td>49       </td><td>18       </td><td>67       </td><td>0.7313433</td><td>0.6684752</td></tr>\n",
       "\t<tr><td>2016     </td><td>46       </td><td>21       </td><td>67       </td><td>0.6865672</td><td>0.6772046</td></tr>\n",
       "\t<tr><td>2017     </td><td>45       </td><td>22       </td><td>67       </td><td>0.6716418</td><td>0.6741502</td></tr>\n",
       "\t<tr><td>2018     </td><td>48       </td><td>19       </td><td>67       </td><td>0.7164179</td><td>0.6787731</td></tr>\n",
       "</tbody>\n",
       "</table>\n"
      ],
      "text/latex": [
       "\\begin{tabular}{r|llllll}\n",
       " Season & TC & FC & N & Acc & LogLoss\\\\\n",
       "\\hline\n",
       "\t 2011      & 42        & 25        & 67        & 0.6268657 & 0.6810992\\\\\n",
       "\t 2012      & 48        & 19        & 67        & 0.7164179 & 0.6775226\\\\\n",
       "\t 2013      & 40        & 27        & 67        & 0.5970149 & 0.6769426\\\\\n",
       "\t 2014      & 44        & 23        & 67        & 0.6567164 & 0.6759818\\\\\n",
       "\t 2015      & 49        & 18        & 67        & 0.7313433 & 0.6684752\\\\\n",
       "\t 2016      & 46        & 21        & 67        & 0.6865672 & 0.6772046\\\\\n",
       "\t 2017      & 45        & 22        & 67        & 0.6716418 & 0.6741502\\\\\n",
       "\t 2018      & 48        & 19        & 67        & 0.7164179 & 0.6787731\\\\\n",
       "\\end{tabular}\n"
      ],
      "text/markdown": [
       "\n",
       "| Season | TC | FC | N | Acc | LogLoss |\n",
       "|---|---|---|---|---|---|\n",
       "| 2011      | 42        | 25        | 67        | 0.6268657 | 0.6810992 |\n",
       "| 2012      | 48        | 19        | 67        | 0.7164179 | 0.6775226 |\n",
       "| 2013      | 40        | 27        | 67        | 0.5970149 | 0.6769426 |\n",
       "| 2014      | 44        | 23        | 67        | 0.6567164 | 0.6759818 |\n",
       "| 2015      | 49        | 18        | 67        | 0.7313433 | 0.6684752 |\n",
       "| 2016      | 46        | 21        | 67        | 0.6865672 | 0.6772046 |\n",
       "| 2017      | 45        | 22        | 67        | 0.6716418 | 0.6741502 |\n",
       "| 2018      | 48        | 19        | 67        | 0.7164179 | 0.6787731 |\n",
       "\n"
      ],
      "text/plain": [
       "  Season TC FC N  Acc       LogLoss  \n",
       "1 2011   42 25 67 0.6268657 0.6810992\n",
       "2 2012   48 19 67 0.7164179 0.6775226\n",
       "3 2013   40 27 67 0.5970149 0.6769426\n",
       "4 2014   44 23 67 0.6567164 0.6759818\n",
       "5 2015   49 18 67 0.7313433 0.6684752\n",
       "6 2016   46 21 67 0.6865672 0.6772046\n",
       "7 2017   45 22 67 0.6716418 0.6741502\n",
       "8 2018   48 19 67 0.7164179 0.6787731"
      ]
     },
     "metadata": {},
     "output_type": "display_data"
    }
   ],
   "source": [
    "# compute accuracy & Logloss per Season\n",
    "df.valid.results %>% \n",
    "    mutate(OK=ifelse(Pred==Target,1,0)) %>%\n",
    "    mutate(LogLoss=Target*log(Prob) + (1-Target)*log(1-Prob)) %>%\n",
    "    group_by(Season) %>%\n",
    "    summarise(TC=sum(OK),N=n(),FC=N-TC,Acc=TC/N,LogLoss=-mean(LogLoss)) %>%\n",
    "    select(Season,TC,FC,N,Acc,LogLoss) -> df.valid.perf\n",
    "df.valid.perf %>% arrange(LogLoss) %>% group_by(Season) %>% slice(1:1) %>% ungroup() "
   ]
  },
  {
   "cell_type": "code",
   "execution_count": null,
   "metadata": {},
   "outputs": [],
   "source": []
  },
  {
   "cell_type": "code",
   "execution_count": 208,
   "metadata": {},
   "outputs": [],
   "source": [
    "df.valid.results %>% saveRDS('ELO_results.rds')"
   ]
  },
  {
   "cell_type": "code",
   "execution_count": null,
   "metadata": {},
   "outputs": [],
   "source": []
  }
 ],
 "metadata": {
  "kernelspec": {
   "display_name": "R 3.5.0",
   "language": "R",
   "name": "ir35"
  },
  "language_info": {
   "codemirror_mode": "r",
   "file_extension": ".r",
   "mimetype": "text/x-r-source",
   "name": "R",
   "pygments_lexer": "r",
   "version": "3.5.1"
  }
 },
 "nbformat": 4,
 "nbformat_minor": 2
}
