{
 "cells": [
  {
   "cell_type": "code",
   "execution_count": 1,
   "metadata": {},
   "outputs": [],
   "source": [
    "# Load required packages\n",
    "library(dplyr,warn.conflicts=F)\n",
    "library(stringr,warn.conflicts=F)\n",
    "library(psych,warn.conflicts=F)\n",
    "library(lplyr,warn.conflicts=F)\n",
    "library(tidyr,warn.conflicts=F)\n",
    "\n",
    "library(ggplot2,warn.conflicts=F)"
   ]
  },
  {
   "cell_type": "code",
   "execution_count": 2,
   "metadata": {},
   "outputs": [],
   "source": [
    "# Final ranking of madness\n",
    "data.teamtourneyranks <- readRDS('TeamTourneyRanking.rds')\n",
    "# ranking mapping\n",
    "data.tourneyranks <- read.csv('TourneyRanks.csv')# load ranking db\n",
    "data.ranking <- readRDS('../datafiles_rds/MasseyOrdinals.rds')\n",
    "# keep 2017, last day\n",
    "data.ranking %>% \n",
    "    filter(Season==2017) %>%\n",
    "    filter(RankingDayNum==max(RankingDayNum)) %>%\n",
    "    select(-RankingDayNum) -> data.lastranking"
   ]
  },
  {
   "cell_type": "code",
   "execution_count": 3,
   "metadata": {},
   "outputs": [],
   "source": [
    "# Keep only 68 tourney teams\n",
    "data.lastranking %>%\n",
    "    inner_join(data.teamtourneyranks,by=c('Season','TeamID')) %>% \n",
    "    group_by(Season,SystemName) %>% \n",
    "    summarise(n=n()) %>% \n",
    "    ungroup() %>% \n",
    "    filter(n==68) -> df.systems\n",
    "data.lastranking %>%\n",
    "    semi_join(df.systems,by=c('Season','SystemName')) -> df.ranking"
   ]
  },
  {
   "cell_type": "markdown",
   "metadata": {},
   "source": [
    "#### Prepare "
   ]
  },
  {
   "cell_type": "code",
   "execution_count": 4,
   "metadata": {},
   "outputs": [],
   "source": [
    "data.matchups <- readRDS('../datafiles_rds/TourneyMatchups.rds')\n",
    "data.matchups %>% \n",
    "    filter(Season==2017) -> data.matchups"
   ]
  },
  {
   "cell_type": "code",
   "execution_count": 5,
   "metadata": {},
   "outputs": [],
   "source": [
    "df.ranking %>% \n",
    "    distinct(SystemName) %>%\n",
    "    mutate(Season=2017) -> data.SystemName"
   ]
  },
  {
   "cell_type": "code",
   "execution_count": 6,
   "metadata": {},
   "outputs": [],
   "source": [
    "data.matchups %>%\n",
    "    inner_join(data.SystemName,by='Season') -> df.matchups"
   ]
  },
  {
   "cell_type": "code",
   "execution_count": 7,
   "metadata": {},
   "outputs": [],
   "source": [
    "df.matchups %>%\n",
    "    inner_join(df.ranking,by=c('Season','SystemName','TeamID.x'='TeamID')) %>%\n",
    "    rename(Rank.x=OrdinalRank) %>%\n",
    "    inner_join(df.ranking,by=c('Season','SystemName','TeamID.y'='TeamID')) %>%\n",
    "    rename(Rank.y=OrdinalRank) -> df.matchups"
   ]
  },
  {
   "cell_type": "code",
   "execution_count": 8,
   "metadata": {},
   "outputs": [],
   "source": [
    "Slope <- 3/(350/3)"
   ]
  },
  {
   "cell_type": "code",
   "execution_count": 9,
   "metadata": {},
   "outputs": [],
   "source": [
    "df.matchups %>%\n",
    "    mutate(ID=str_c(Season,'_',TeamID.x,'_',TeamID.y)) %>% \n",
    "    mutate(Prob=logistic(Rank.y-Rank.x,a=Slope)) %>% \n",
    "    mutate(Pred=ifelse(Prob>0.5,1,0)) %>% \n",
    "    mutate(Prob=round(Prob,3)) %>%\n",
    "    mutate_which(Prob>0.95,Prob=0.95) %>%\n",
    "    mutate_which(Prob<0.05,Prob=0.05) %>%\n",
    "    select(ID,SystemName,Pred,Prob) -> df.submit"
   ]
  },
  {
   "cell_type": "markdown",
   "metadata": {},
   "source": [
    "#### Performance"
   ]
  },
  {
   "cell_type": "code",
   "execution_count": 10,
   "metadata": {},
   "outputs": [],
   "source": [
    "data.truth <- readRDS('../datafiles_rds/TourneyTrueResults.rds')"
   ]
  },
  {
   "cell_type": "code",
   "execution_count": 11,
   "metadata": {},
   "outputs": [],
   "source": [
    "df.submit %>%\n",
    "    inner_join(data.truth,by='ID') -> df.results"
   ]
  },
  {
   "cell_type": "code",
   "execution_count": 12,
   "metadata": {},
   "outputs": [
    {
     "data": {
      "text/html": [
       "<table>\n",
       "<thead><tr><th scope=col>SystemName</th><th scope=col>TC</th><th scope=col>FC</th><th scope=col>N</th><th scope=col>Accuracy</th><th scope=col>LogLoss</th></tr></thead>\n",
       "<tbody>\n",
       "\t<tr><td>DOK      </td><td>53       </td><td>14       </td><td>67       </td><td>0.7910448</td><td>0.4934149</td></tr>\n",
       "\t<tr><td>SP       </td><td>49       </td><td>18       </td><td>67       </td><td>0.7313433</td><td>0.4979757</td></tr>\n",
       "\t<tr><td>SAG      </td><td>50       </td><td>17       </td><td>67       </td><td>0.7462687</td><td>0.4985588</td></tr>\n",
       "\t<tr><td>YAG      </td><td>48       </td><td>19       </td><td>67       </td><td>0.7164179</td><td>0.5043567</td></tr>\n",
       "\t<tr><td>RSL      </td><td>49       </td><td>18       </td><td>67       </td><td>0.7313433</td><td>0.5065233</td></tr>\n",
       "\t<tr><td>CNG      </td><td>49       </td><td>18       </td><td>67       </td><td>0.7313433</td><td>0.5070323</td></tr>\n",
       "</tbody>\n",
       "</table>\n"
      ],
      "text/latex": [
       "\\begin{tabular}{r|llllll}\n",
       " SystemName & TC & FC & N & Accuracy & LogLoss\\\\\n",
       "\\hline\n",
       "\t DOK       & 53        & 14        & 67        & 0.7910448 & 0.4934149\\\\\n",
       "\t SP        & 49        & 18        & 67        & 0.7313433 & 0.4979757\\\\\n",
       "\t SAG       & 50        & 17        & 67        & 0.7462687 & 0.4985588\\\\\n",
       "\t YAG       & 48        & 19        & 67        & 0.7164179 & 0.5043567\\\\\n",
       "\t RSL       & 49        & 18        & 67        & 0.7313433 & 0.5065233\\\\\n",
       "\t CNG       & 49        & 18        & 67        & 0.7313433 & 0.5070323\\\\\n",
       "\\end{tabular}\n"
      ],
      "text/markdown": [
       "\n",
       "| SystemName | TC | FC | N | Accuracy | LogLoss |\n",
       "|---|---|---|---|---|---|\n",
       "| DOK       | 53        | 14        | 67        | 0.7910448 | 0.4934149 |\n",
       "| SP        | 49        | 18        | 67        | 0.7313433 | 0.4979757 |\n",
       "| SAG       | 50        | 17        | 67        | 0.7462687 | 0.4985588 |\n",
       "| YAG       | 48        | 19        | 67        | 0.7164179 | 0.5043567 |\n",
       "| RSL       | 49        | 18        | 67        | 0.7313433 | 0.5065233 |\n",
       "| CNG       | 49        | 18        | 67        | 0.7313433 | 0.5070323 |\n",
       "\n"
      ],
      "text/plain": [
       "  SystemName TC FC N  Accuracy  LogLoss  \n",
       "1 DOK        53 14 67 0.7910448 0.4934149\n",
       "2 SP         49 18 67 0.7313433 0.4979757\n",
       "3 SAG        50 17 67 0.7462687 0.4985588\n",
       "4 YAG        48 19 67 0.7164179 0.5043567\n",
       "5 RSL        49 18 67 0.7313433 0.5065233\n",
       "6 CNG        49 18 67 0.7313433 0.5070323"
      ]
     },
     "metadata": {},
     "output_type": "display_data"
    }
   ],
   "source": [
    "df.results %>%\n",
    "    mutate(OK=ifelse(Pred==Target,1,0)) %>%\n",
    "    mutate(LogLoss=Target*log(Prob) + (1-Target)*log(1-Prob)) -> df.results\n",
    "df.results %>%\n",
    "    group_by(SystemName) %>%\n",
    "    summarise(TC=sum(OK),N=n(),FC=N-TC,Accuracy=TC/N,LogLoss=-mean(LogLoss)) %>%\n",
    "    ungroup() %>%\n",
    "    select(SystemName,TC,FC,N,Accuracy,LogLoss) -> df.test.perf\n",
    "df.test.perf %>% arrange(LogLoss) %>% head"
   ]
  },
  {
   "cell_type": "markdown",
   "metadata": {},
   "source": [
    "#### Masters Predictors"
   ]
  },
  {
   "cell_type": "code",
   "execution_count": 13,
   "metadata": {},
   "outputs": [],
   "source": [
    "df.results %>%\n",
    "    group_by(ID) %>%\n",
    "    summarise(CSS=sum(OK)) %>%\n",
    "    arrange(CSS) -> toto"
   ]
  },
  {
   "cell_type": "code",
   "execution_count": 14,
   "metadata": {},
   "outputs": [
    {
     "name": "stderr",
     "output_type": "stream",
     "text": [
      "`stat_bin()` using `bins = 30`. Pick better value with `binwidth`.\n"
     ]
    },
    {
     "data": {
      "image/png": "[encoded data removed]",
      "text/plain": [
       "plot without title"
      ]
     },
     "metadata": {},
     "output_type": "display_data"
    }
   ],
   "source": [
    "options(repr.plot.width=6, repr.plot.height=3)\n",
    "ggplot(data=toto,aes(x=CSS)) + geom_histogram()"
   ]
  },
  {
   "cell_type": "code",
   "execution_count": 24,
   "metadata": {},
   "outputs": [
    {
     "data": {
      "text/html": [
       "<table>\n",
       "<thead><tr><th scope=col>SystemName</th><th scope=col>TC</th><th scope=col>FC</th><th scope=col>N</th><th scope=col>Accuracy</th><th scope=col>LogLoss</th></tr></thead>\n",
       "<tbody>\n",
       "\t<tr><td>DOK      </td><td>53       </td><td>14       </td><td>67       </td><td>0.7910448</td><td>0.4934149</td></tr>\n",
       "\t<tr><td>JRT      </td><td>51       </td><td>16       </td><td>67       </td><td>0.7611940</td><td>0.5149759</td></tr>\n",
       "\t<tr><td>MCL      </td><td>51       </td><td>16       </td><td>67       </td><td>0.7611940</td><td>0.5774857</td></tr>\n",
       "\t<tr><td>SAG      </td><td>50       </td><td>17       </td><td>67       </td><td>0.7462687</td><td>0.4985588</td></tr>\n",
       "\t<tr><td>FMG      </td><td>50       </td><td>17       </td><td>67       </td><td>0.7462687</td><td>0.5157104</td></tr>\n",
       "\t<tr><td>LMC      </td><td>50       </td><td>17       </td><td>67       </td><td>0.7462687</td><td>0.5183003</td></tr>\n",
       "</tbody>\n",
       "</table>\n"
      ],
      "text/latex": [
       "\\begin{tabular}{r|llllll}\n",
       " SystemName & TC & FC & N & Accuracy & LogLoss\\\\\n",
       "\\hline\n",
       "\t DOK       & 53        & 14        & 67        & 0.7910448 & 0.4934149\\\\\n",
       "\t JRT       & 51        & 16        & 67        & 0.7611940 & 0.5149759\\\\\n",
       "\t MCL       & 51        & 16        & 67        & 0.7611940 & 0.5774857\\\\\n",
       "\t SAG       & 50        & 17        & 67        & 0.7462687 & 0.4985588\\\\\n",
       "\t FMG       & 50        & 17        & 67        & 0.7462687 & 0.5157104\\\\\n",
       "\t LMC       & 50        & 17        & 67        & 0.7462687 & 0.5183003\\\\\n",
       "\\end{tabular}\n"
      ],
      "text/markdown": [
       "\n",
       "| SystemName | TC | FC | N | Accuracy | LogLoss |\n",
       "|---|---|---|---|---|---|\n",
       "| DOK       | 53        | 14        | 67        | 0.7910448 | 0.4934149 |\n",
       "| JRT       | 51        | 16        | 67        | 0.7611940 | 0.5149759 |\n",
       "| MCL       | 51        | 16        | 67        | 0.7611940 | 0.5774857 |\n",
       "| SAG       | 50        | 17        | 67        | 0.7462687 | 0.4985588 |\n",
       "| FMG       | 50        | 17        | 67        | 0.7462687 | 0.5157104 |\n",
       "| LMC       | 50        | 17        | 67        | 0.7462687 | 0.5183003 |\n",
       "\n"
      ],
      "text/plain": [
       "  SystemName TC FC N  Accuracy  LogLoss  \n",
       "1 DOK        53 14 67 0.7910448 0.4934149\n",
       "2 JRT        51 16 67 0.7611940 0.5149759\n",
       "3 MCL        51 16 67 0.7611940 0.5774857\n",
       "4 SAG        50 17 67 0.7462687 0.4985588\n",
       "5 FMG        50 17 67 0.7462687 0.5157104\n",
       "6 LMC        50 17 67 0.7462687 0.5183003"
      ]
     },
     "metadata": {},
     "output_type": "display_data"
    }
   ],
   "source": [
    "df.test.perf %>% arrange(desc(Accuracy),LogLoss) %>% head"
   ]
  },
  {
   "cell_type": "code",
   "execution_count": 41,
   "metadata": {},
   "outputs": [
    {
     "data": {
      "text/html": [
       "<table>\n",
       "<thead><tr><th scope=col>Tot</th><th scope=col>n</th></tr></thead>\n",
       "<tbody>\n",
       "\t<tr><td>0  </td><td> 27</td></tr>\n",
       "\t<tr><td>1  </td><td> 12</td></tr>\n",
       "\t<tr><td>2  </td><td>  6</td></tr>\n",
       "\t<tr><td>3  </td><td> 24</td></tr>\n",
       "\t<tr><td>4  </td><td>132</td></tr>\n",
       "</tbody>\n",
       "</table>\n"
      ],
      "text/latex": [
       "\\begin{tabular}{r|ll}\n",
       " Tot & n\\\\\n",
       "\\hline\n",
       "\t 0   &  27\\\\\n",
       "\t 1   &  12\\\\\n",
       "\t 2   &   6\\\\\n",
       "\t 3   &  24\\\\\n",
       "\t 4   & 132\\\\\n",
       "\\end{tabular}\n"
      ],
      "text/markdown": [
       "\n",
       "| Tot | n |\n",
       "|---|---|\n",
       "| 0   |  27 |\n",
       "| 1   |  12 |\n",
       "| 2   |   6 |\n",
       "| 3   |  24 |\n",
       "| 4   | 132 |\n",
       "\n"
      ],
      "text/plain": [
       "  Tot n  \n",
       "1 0    27\n",
       "2 1    12\n",
       "3 2     6\n",
       "4 3    24\n",
       "5 4   132"
      ]
     },
     "metadata": {},
     "output_type": "display_data"
    }
   ],
   "source": [
    "df.results %>%\n",
    "#    filter(SystemName %in% c('MAS','WOL')) %>%\n",
    "    filter(SystemName %in% c('DOK','JRT','MCL')) %>%\n",
    "    mutate(Delta=abs(Prob-0.5)) %>%\n",
    "    mutate(W=ifelse(SystemName=='DOK',2,1)) %>%\n",
    "    group_by(ID) %>%\n",
    "    mutate(Tot=sum(W*OK)) %>% \n",
    "    ungroup() %>%\n",
    "    group_by(Tot) %>%\n",
    "    summarise(n=n())"
   ]
  },
  {
   "cell_type": "code",
   "execution_count": 42,
   "metadata": {},
   "outputs": [],
   "source": [
    "df.results %>%\n",
    "#    filter(SystemName %in% c('MAS','WOL')) %>%\n",
    "    filter(SystemName %in% c('DOK','JRT','MCL')) %>%\n",
    "    mutate(Delta=abs(Prob-0.5)) %>%\n",
    "    mutate(W=ifelse(SystemName=='DOK',2,1)) %>%\n",
    "    group_by(ID) %>%\n",
    "    mutate(Tot=sum(W*OK), mDelta=mean(Delta)) %>% \n",
    "    mutate_which(Tot>0 & Tot<4,Prob=0.5) %>%\n",
    "    ungroup() %>%\n",
    "    arrange(desc(Delta)) %>%\n",
    "    group_by(ID) %>%\n",
    "    slice(1:1) %>%\n",
    "    ungroup() %>%\n",
    "    mutate(LogLoss=Target*log(Prob) + (1-Target)*log(1-Prob)) -> df.masters"
   ]
  },
  {
   "cell_type": "code",
   "execution_count": 43,
   "metadata": {},
   "outputs": [
    {
     "data": {
      "text/html": [
       "<table>\n",
       "<thead><tr><th scope=col>TC</th><th scope=col>N</th><th scope=col>FC</th><th scope=col>Accuracy</th><th scope=col>LogLoss</th></tr></thead>\n",
       "<tbody>\n",
       "\t<tr><td>52       </td><td>67       </td><td>15       </td><td>0.7761194</td><td>0.4875654</td></tr>\n",
       "</tbody>\n",
       "</table>\n"
      ],
      "text/latex": [
       "\\begin{tabular}{r|lllll}\n",
       " TC & N & FC & Accuracy & LogLoss\\\\\n",
       "\\hline\n",
       "\t 52        & 67        & 15        & 0.7761194 & 0.4875654\\\\\n",
       "\\end{tabular}\n"
      ],
      "text/markdown": [
       "\n",
       "| TC | N | FC | Accuracy | LogLoss |\n",
       "|---|---|---|---|---|\n",
       "| 52        | 67        | 15        | 0.7761194 | 0.4875654 |\n",
       "\n"
      ],
      "text/plain": [
       "  TC N  FC Accuracy  LogLoss  \n",
       "1 52 67 15 0.7761194 0.4875654"
      ]
     },
     "metadata": {},
     "output_type": "display_data"
    }
   ],
   "source": [
    "df.masters %>%\n",
    "    summarise(TC=sum(OK),N=n(),FC=N-TC,Accuracy=TC/N,LogLoss=-mean(LogLoss)) "
   ]
  },
  {
   "cell_type": "markdown",
   "metadata": {},
   "source": [
    "#### Challengers Predictors"
   ]
  },
  {
   "cell_type": "raw",
   "metadata": {},
   "source": [
    "df.masters %>%\n",
    "    filter(OK==0) %>%\n",
    "    select(ID) -> df.wrong "
   ]
  },
  {
   "cell_type": "raw",
   "metadata": {},
   "source": [
    "df.results %>%\n",
    "    inner_join(df.wrong,by='ID') %>%\n",
    "    filter(! SystemName %in% c('MAS','WOL')) %>%\n",
    "    group_by(SystemName) %>%\n",
    "    summarise(Tot=sum(OK)) %>% \n",
    "    arrange(desc(Tot)) %>% head()"
   ]
  },
  {
   "cell_type": "raw",
   "metadata": {},
   "source": [
    "df.results %>%\n",
    "    inner_join(df.wrong,by='ID') %>%\n",
    "    filter(SystemName %in% c('7OT','DDB')) %>%\n",
    "    filter(OK==1)"
   ]
  },
  {
   "cell_type": "raw",
   "metadata": {},
   "source": [
    "data.odc <- readRDS('../predictions/OffDeff_2018.rds')"
   ]
  },
  {
   "cell_type": "raw",
   "metadata": {},
   "source": [
    "data.odc %>%\n",
    "    inner_join(df.results %>% select(ID,Target) %>% distinct() ,by='ID') %>%\n",
    "    inner_join(df.wrong,by='ID') "
   ]
  },
  {
   "cell_type": "markdown",
   "metadata": {},
   "source": [
    "### 2019"
   ]
  },
  {
   "cell_type": "code",
   "execution_count": 45,
   "metadata": {},
   "outputs": [],
   "source": [
    "# load ranking db\n",
    "data.ranking <- read.csv('../2019/Prelim2019_MasseyOrdinals.csv',stringsAsFactors=F)\n",
    "# keep 2019, last day\n",
    "data.ranking %>% \n",
    "    filter(Season==2019) %>%\n",
    "#    filter(SystemName %in% c('MAS','WOL')) %>%\n",
    "    filter(SystemName %in% c('DOK','JRT','MCL')) %>%\n",
    "    filter(RankingDayNum==max(RankingDayNum)) %>%\n",
    "    select(-RankingDayNum) -> data.lastranking"
   ]
  },
  {
   "cell_type": "code",
   "execution_count": 46,
   "metadata": {},
   "outputs": [],
   "source": [
    "data.madnessteams <- read.csv('../2019//NCAATourneySeeds.csv',stringsAsFactors=F)\n",
    "data.madnessteams %>% \n",
    "    filter(Season==2019) %>%\n",
    "    select(Season,TeamID) -> data.madnessteams"
   ]
  },
  {
   "cell_type": "code",
   "execution_count": 47,
   "metadata": {},
   "outputs": [],
   "source": [
    "data.madnessteams %>%\n",
    "    full_join(data.madnessteams,by='Season') %>%\n",
    "    filter(TeamID.x < TeamID.y) -> data.matchups "
   ]
  },
  {
   "cell_type": "code",
   "execution_count": 48,
   "metadata": {},
   "outputs": [],
   "source": [
    "data.lastranking %>% \n",
    "    #filter(SystemName %in% c('MAS','WOL')) -> df.ranking\n",
    "    filter(SystemName %in% c('DOK','JRT','MCL')) -> df.ranking"
   ]
  },
  {
   "cell_type": "code",
   "execution_count": 49,
   "metadata": {},
   "outputs": [],
   "source": [
    "df.ranking %>% \n",
    "    distinct(SystemName) %>%\n",
    "    mutate(Season=2019) -> data.SystemName"
   ]
  },
  {
   "cell_type": "code",
   "execution_count": 50,
   "metadata": {},
   "outputs": [],
   "source": [
    "data.matchups %>%\n",
    "    inner_join(data.SystemName,by='Season') -> df.matchups"
   ]
  },
  {
   "cell_type": "code",
   "execution_count": 51,
   "metadata": {},
   "outputs": [],
   "source": [
    "df.matchups %>%\n",
    "    inner_join(df.ranking,by=c('Season','SystemName','TeamID.x'='TeamID')) %>%\n",
    "    rename(Rank.x=OrdinalRank) %>%\n",
    "    inner_join(df.ranking,by=c('Season','SystemName','TeamID.y'='TeamID')) %>%\n",
    "    rename(Rank.y=OrdinalRank) -> df.matchups"
   ]
  },
  {
   "cell_type": "code",
   "execution_count": 52,
   "metadata": {},
   "outputs": [],
   "source": [
    "Slope <- 3/(350/3)"
   ]
  },
  {
   "cell_type": "code",
   "execution_count": 53,
   "metadata": {},
   "outputs": [],
   "source": [
    "df.matchups %>%\n",
    "    mutate(ID=str_c(Season,'_',TeamID.x,'_',TeamID.y)) %>% \n",
    "    mutate(Prob=logistic(Rank.y-Rank.x,a=Slope)) %>% \n",
    "    mutate(Pred=ifelse(Prob>0.5,1,0)) %>% \n",
    "    mutate(Prob=round(Prob,3)) %>%\n",
    "    mutate_which(Prob>0.95,Prob=0.95) %>%\n",
    "    mutate_which(Prob<0.05,Prob=0.05) %>%\n",
    "    select(ID,SystemName,Pred,Prob) -> df.submit"
   ]
  },
  {
   "cell_type": "code",
   "execution_count": 54,
   "metadata": {},
   "outputs": [
    {
     "data": {
      "text/html": [
       "<table>\n",
       "<thead><tr><th scope=col>ID</th><th scope=col>SystemName</th><th scope=col>Pred</th><th scope=col>Prob</th></tr></thead>\n",
       "<tbody>\n",
       "\t<tr><td>2019_1181_1277</td><td>DOK           </td><td>1             </td><td>0.526         </td></tr>\n",
       "\t<tr><td>2019_1181_1261</td><td>DOK           </td><td>1             </td><td>0.589         </td></tr>\n",
       "\t<tr><td>2019_1181_1439</td><td>DOK           </td><td>1             </td><td>0.570         </td></tr>\n",
       "\t<tr><td>2019_1181_1280</td><td>DOK           </td><td>1             </td><td>0.626         </td></tr>\n",
       "\t<tr><td>2019_1181_1268</td><td>DOK           </td><td>1             </td><td>0.650         </td></tr>\n",
       "\t<tr><td>2019_1181_1257</td><td>DOK           </td><td>1             </td><td>0.632         </td></tr>\n",
       "</tbody>\n",
       "</table>\n"
      ],
      "text/latex": [
       "\\begin{tabular}{r|llll}\n",
       " ID & SystemName & Pred & Prob\\\\\n",
       "\\hline\n",
       "\t 2019\\_1181\\_1277 & DOK                & 1                  & 0.526             \\\\\n",
       "\t 2019\\_1181\\_1261 & DOK                & 1                  & 0.589             \\\\\n",
       "\t 2019\\_1181\\_1439 & DOK                & 1                  & 0.570             \\\\\n",
       "\t 2019\\_1181\\_1280 & DOK                & 1                  & 0.626             \\\\\n",
       "\t 2019\\_1181\\_1268 & DOK                & 1                  & 0.650             \\\\\n",
       "\t 2019\\_1181\\_1257 & DOK                & 1                  & 0.632             \\\\\n",
       "\\end{tabular}\n"
      ],
      "text/markdown": [
       "\n",
       "| ID | SystemName | Pred | Prob |\n",
       "|---|---|---|---|\n",
       "| 2019_1181_1277 | DOK            | 1              | 0.526          |\n",
       "| 2019_1181_1261 | DOK            | 1              | 0.589          |\n",
       "| 2019_1181_1439 | DOK            | 1              | 0.570          |\n",
       "| 2019_1181_1280 | DOK            | 1              | 0.626          |\n",
       "| 2019_1181_1268 | DOK            | 1              | 0.650          |\n",
       "| 2019_1181_1257 | DOK            | 1              | 0.632          |\n",
       "\n"
      ],
      "text/plain": [
       "  ID             SystemName Pred Prob \n",
       "1 2019_1181_1277 DOK        1    0.526\n",
       "2 2019_1181_1261 DOK        1    0.589\n",
       "3 2019_1181_1439 DOK        1    0.570\n",
       "4 2019_1181_1280 DOK        1    0.626\n",
       "5 2019_1181_1268 DOK        1    0.650\n",
       "6 2019_1181_1257 DOK        1    0.632"
      ]
     },
     "metadata": {},
     "output_type": "display_data"
    }
   ],
   "source": [
    "df.submit %>% head"
   ]
  },
  {
   "cell_type": "code",
   "execution_count": 56,
   "metadata": {},
   "outputs": [],
   "source": [
    "df.submit %>%\n",
    "    mutate(Delta=abs(Prob-0.5)) %>%\n",
    "    mutate(W=ifelse(SystemName=='DOK',2,1)) %>%\n",
    "    group_by(ID) %>%\n",
    "    mutate(Tot=sum(W*Pred), mDelta=mean(Delta)) %>% \n",
    "    mutate_which(Tot>0 & Tot<4,Prob=0.5) %>%\n",
    "    ungroup() %>%\n",
    "    arrange(desc(Delta)) %>%\n",
    "    group_by(ID) %>%\n",
    "    slice(1:1) %>%\n",
    "    ungroup() -> df.masters.2019"
   ]
  },
  {
   "cell_type": "code",
   "execution_count": 57,
   "metadata": {},
   "outputs": [
    {
     "data": {
      "text/html": [
       "<table>\n",
       "<thead><tr><th scope=col>n</th></tr></thead>\n",
       "<tbody>\n",
       "\t<tr><td>2278</td></tr>\n",
       "</tbody>\n",
       "</table>\n"
      ],
      "text/latex": [
       "\\begin{tabular}{r|l}\n",
       " n\\\\\n",
       "\\hline\n",
       "\t 2278\\\\\n",
       "\\end{tabular}\n"
      ],
      "text/markdown": [
       "\n",
       "| n |\n",
       "|---|\n",
       "| 2278 |\n",
       "\n"
      ],
      "text/plain": [
       "  n   \n",
       "1 2278"
      ]
     },
     "metadata": {},
     "output_type": "display_data"
    },
    {
     "data": {
      "text/html": [
       "<table>\n",
       "<thead><tr><th scope=col>ID</th><th scope=col>SystemName</th><th scope=col>Pred</th><th scope=col>Prob</th></tr></thead>\n",
       "<tbody>\n",
       "\t<tr><td>2019_1211_1233</td><td>DOK           </td><td>1             </td><td>0.950         </td></tr>\n",
       "\t<tr><td>2019_1278_1433</td><td>DOK           </td><td>0             </td><td>0.462         </td></tr>\n",
       "\t<tr><td>2019_1243_1246</td><td>DOK           </td><td>0             </td><td>0.405         </td></tr>\n",
       "\t<tr><td>2019_1234_1397</td><td>DOK           </td><td>0             </td><td>0.279         </td></tr>\n",
       "\t<tr><td>2019_1120_1295</td><td>DOK           </td><td>1             </td><td>0.950         </td></tr>\n",
       "</tbody>\n",
       "</table>\n"
      ],
      "text/latex": [
       "\\begin{tabular}{r|llll}\n",
       " ID & SystemName & Pred & Prob\\\\\n",
       "\\hline\n",
       "\t 2019\\_1211\\_1233 & DOK                & 1                  & 0.950             \\\\\n",
       "\t 2019\\_1278\\_1433 & DOK                & 0                  & 0.462             \\\\\n",
       "\t 2019\\_1243\\_1246 & DOK                & 0                  & 0.405             \\\\\n",
       "\t 2019\\_1234\\_1397 & DOK                & 0                  & 0.279             \\\\\n",
       "\t 2019\\_1120\\_1295 & DOK                & 1                  & 0.950             \\\\\n",
       "\\end{tabular}\n"
      ],
      "text/markdown": [
       "\n",
       "| ID | SystemName | Pred | Prob |\n",
       "|---|---|---|---|\n",
       "| 2019_1211_1233 | DOK            | 1              | 0.950          |\n",
       "| 2019_1278_1433 | DOK            | 0              | 0.462          |\n",
       "| 2019_1243_1246 | DOK            | 0              | 0.405          |\n",
       "| 2019_1234_1397 | DOK            | 0              | 0.279          |\n",
       "| 2019_1120_1295 | DOK            | 1              | 0.950          |\n",
       "\n"
      ],
      "text/plain": [
       "  ID             SystemName Pred Prob \n",
       "1 2019_1211_1233 DOK        1    0.950\n",
       "2 2019_1278_1433 DOK        0    0.462\n",
       "3 2019_1243_1246 DOK        0    0.405\n",
       "4 2019_1234_1397 DOK        0    0.279\n",
       "5 2019_1120_1295 DOK        1    0.950"
      ]
     },
     "metadata": {},
     "output_type": "display_data"
    }
   ],
   "source": [
    "df.submit %>% count\n",
    "df.submit %>% sample_n(5)"
   ]
  },
  {
   "cell_type": "code",
   "execution_count": 58,
   "metadata": {},
   "outputs": [],
   "source": [
    "# save the best results for kaggle submission\n",
    "df.masters.2019 %>% \n",
    "    select(ID,Pred=Prob) %>% \n",
    "    write.csv('../predictions_2019/RankingTriMasters.csv',quote=F,row.names=F)"
   ]
  },
  {
   "cell_type": "code",
   "execution_count": 59,
   "metadata": {},
   "outputs": [],
   "source": [
    "# save best model for mix\n",
    "df.masters.2019 %>%\n",
    "    saveRDS('../predictions_2019/RankingTriMasters.rds') "
   ]
  },
  {
   "cell_type": "code",
   "execution_count": null,
   "metadata": {},
   "outputs": [],
   "source": []
  },
  {
   "cell_type": "code",
   "execution_count": null,
   "metadata": {},
   "outputs": [],
   "source": []
  },
  {
   "cell_type": "code",
   "execution_count": null,
   "metadata": {},
   "outputs": [],
   "source": []
  },
  {
   "cell_type": "code",
   "execution_count": null,
   "metadata": {},
   "outputs": [],
   "source": []
  },
  {
   "cell_type": "code",
   "execution_count": null,
   "metadata": {},
   "outputs": [],
   "source": []
  }
 ],
 "metadata": {
  "kernelspec": {
   "display_name": "R 3.5.0",
   "language": "R",
   "name": "ir35"
  },
  "language_info": {
   "codemirror_mode": "r",
   "file_extension": ".r",
   "mimetype": "text/x-r-source",
   "name": "R",
   "pygments_lexer": "r",
   "version": "3.5.1"
  }
 },
 "nbformat": 4,
 "nbformat_minor": 2
}
