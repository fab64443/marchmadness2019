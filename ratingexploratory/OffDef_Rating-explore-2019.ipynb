{
 "cells": [
  {
   "cell_type": "markdown",
   "metadata": {},
   "source": [
    "### Offense-Defense Custom Rating 2019"
   ]
  },
  {
   "cell_type": "markdown",
   "metadata": {},
   "source": [
    "#### Libraries"
   ]
  },
  {
   "cell_type": "code",
   "execution_count": 1,
   "metadata": {},
   "outputs": [],
   "source": [
    "# Load required packages\n",
    "library(dplyr,warn.conflicts=F)\n",
    "library(stringr,warn.conflicts=F)\n",
    "library(lplyr,warn.conflicts=F)\n",
    "library(tidyr,warn.conflicts=F)\n",
    "library(tidyimpute,warn.conflicts=F)\n",
    "\n",
    "library(psych,warn.conflicts=F)\n",
    "library(ggplot2,warn.conflicts=F)"
   ]
  },
  {
   "cell_type": "markdown",
   "metadata": {},
   "source": [
    "#### Load 2019"
   ]
  },
  {
   "cell_type": "code",
   "execution_count": 2,
   "metadata": {},
   "outputs": [],
   "source": [
    "# load the stats\n",
    "data.regulars <- read.csv('../2019//RegularSeasonDetailedResults.csv',stringsAsFactors=F)\n",
    "# keep 2011+\n",
    "data.regulars %>% filter(Season==2019) -> data.regulars"
   ]
  },
  {
   "cell_type": "code",
   "execution_count": 3,
   "metadata": {},
   "outputs": [],
   "source": [
    "# load the stats\n",
    "data.teams <- readRDS('../datafiles_rds/Teams.rds')\n",
    "\n",
    "data.teams %>%\n",
    "    select(TeamID,TeamName) %>%\n",
    "    mutate(TeamName=str_to_lower(TeamName), \n",
    "           TeamName=str_replace_all(TeamName,' ','_'), \n",
    "           TeamName=str_remove_all(TeamName,'&')) -> df.teams"
   ]
  },
  {
   "cell_type": "markdown",
   "metadata": {},
   "source": [
    "#### Prepare data"
   ]
  },
  {
   "cell_type": "code",
   "execution_count": 4,
   "metadata": {},
   "outputs": [
    {
     "name": "stdout",
     "output_type": "stream",
     "text": [
      "5463 34"
     ]
    },
    {
     "data": {
      "text/html": [
       "<table>\n",
       "<thead><tr><th scope=col>Season</th><th scope=col>DayNum</th><th scope=col>WTeamID</th><th scope=col>WScore</th><th scope=col>LTeamID</th><th scope=col>LScore</th><th scope=col>WLoc</th><th scope=col>NumOT</th><th scope=col>WFGM</th><th scope=col>WFGA</th><th scope=col>⋯</th><th scope=col>LFGA3</th><th scope=col>LFTM</th><th scope=col>LFTA</th><th scope=col>LOR</th><th scope=col>LDR</th><th scope=col>LAst</th><th scope=col>LTO</th><th scope=col>LStl</th><th scope=col>LBlk</th><th scope=col>LPF</th></tr></thead>\n",
       "<tbody>\n",
       "\t<tr><td>2019</td><td>1   </td><td>1104</td><td> 82 </td><td>1380</td><td>62  </td><td>H   </td><td>0   </td><td>27  </td><td>55  </td><td>⋯   </td><td>17  </td><td>17  </td><td>30  </td><td>11  </td><td>20  </td><td> 8  </td><td>15  </td><td>7   </td><td>2   </td><td>28  </td></tr>\n",
       "\t<tr><td>2019</td><td>1   </td><td>1113</td><td>102 </td><td>1168</td><td>94  </td><td>H   </td><td>0   </td><td>33  </td><td>78  </td><td>⋯   </td><td>24  </td><td>19  </td><td>26  </td><td> 7  </td><td>35  </td><td> 7  </td><td>17  </td><td>7   </td><td>3   </td><td>36  </td></tr>\n",
       "\t<tr><td>2019</td><td>1   </td><td>1119</td><td> 73 </td><td>1265</td><td>69  </td><td>H   </td><td>0   </td><td>22  </td><td>51  </td><td>⋯   </td><td>15  </td><td>12  </td><td>24  </td><td> 9  </td><td>27  </td><td> 8  </td><td>12  </td><td>4   </td><td>0   </td><td>23  </td></tr>\n",
       "\t<tr><td>2019</td><td>1   </td><td>1120</td><td>101 </td><td>1375</td><td>58  </td><td>H   </td><td>0   </td><td>38  </td><td>74  </td><td>⋯   </td><td>22  </td><td>17  </td><td>22  </td><td> 8  </td><td>19  </td><td> 9  </td><td>22  </td><td>4   </td><td>5   </td><td>17  </td></tr>\n",
       "\t<tr><td>2019</td><td>1   </td><td>1123</td><td> 86 </td><td>1232</td><td>69  </td><td>H   </td><td>0   </td><td>32  </td><td>65  </td><td>⋯   </td><td>12  </td><td>11  </td><td>18  </td><td>18  </td><td>20  </td><td>11  </td><td>11  </td><td>6   </td><td>5   </td><td>20  </td></tr>\n",
       "\t<tr><td>2019</td><td>1   </td><td>1130</td><td> 73 </td><td>1454</td><td>53  </td><td>H   </td><td>0   </td><td>22  </td><td>56  </td><td>⋯   </td><td>27  </td><td> 9  </td><td>13  </td><td>13  </td><td>25  </td><td>13  </td><td> 8  </td><td>1   </td><td>5   </td><td>25  </td></tr>\n",
       "</tbody>\n",
       "</table>\n"
      ],
      "text/latex": [
       "\\begin{tabular}{r|llllllllllllllllllllllllllllllllll}\n",
       " Season & DayNum & WTeamID & WScore & LTeamID & LScore & WLoc & NumOT & WFGM & WFGA & ⋯ & LFGA3 & LFTM & LFTA & LOR & LDR & LAst & LTO & LStl & LBlk & LPF\\\\\n",
       "\\hline\n",
       "\t 2019 & 1    & 1104 &  82  & 1380 & 62   & H    & 0    & 27   & 55   & ⋯    & 17   & 17   & 30   & 11   & 20   &  8   & 15   & 7    & 2    & 28  \\\\\n",
       "\t 2019 & 1    & 1113 & 102  & 1168 & 94   & H    & 0    & 33   & 78   & ⋯    & 24   & 19   & 26   &  7   & 35   &  7   & 17   & 7    & 3    & 36  \\\\\n",
       "\t 2019 & 1    & 1119 &  73  & 1265 & 69   & H    & 0    & 22   & 51   & ⋯    & 15   & 12   & 24   &  9   & 27   &  8   & 12   & 4    & 0    & 23  \\\\\n",
       "\t 2019 & 1    & 1120 & 101  & 1375 & 58   & H    & 0    & 38   & 74   & ⋯    & 22   & 17   & 22   &  8   & 19   &  9   & 22   & 4    & 5    & 17  \\\\\n",
       "\t 2019 & 1    & 1123 &  86  & 1232 & 69   & H    & 0    & 32   & 65   & ⋯    & 12   & 11   & 18   & 18   & 20   & 11   & 11   & 6    & 5    & 20  \\\\\n",
       "\t 2019 & 1    & 1130 &  73  & 1454 & 53   & H    & 0    & 22   & 56   & ⋯    & 27   &  9   & 13   & 13   & 25   & 13   &  8   & 1    & 5    & 25  \\\\\n",
       "\\end{tabular}\n"
      ],
      "text/markdown": [
       "\n",
       "| Season | DayNum | WTeamID | WScore | LTeamID | LScore | WLoc | NumOT | WFGM | WFGA | ⋯ | LFGA3 | LFTM | LFTA | LOR | LDR | LAst | LTO | LStl | LBlk | LPF |\n",
       "|---|---|---|---|---|---|---|---|---|---|---|---|---|---|---|---|---|---|---|---|---|\n",
       "| 2019 | 1    | 1104 |  82  | 1380 | 62   | H    | 0    | 27   | 55   | ⋯    | 17   | 17   | 30   | 11   | 20   |  8   | 15   | 7    | 2    | 28   |\n",
       "| 2019 | 1    | 1113 | 102  | 1168 | 94   | H    | 0    | 33   | 78   | ⋯    | 24   | 19   | 26   |  7   | 35   |  7   | 17   | 7    | 3    | 36   |\n",
       "| 2019 | 1    | 1119 |  73  | 1265 | 69   | H    | 0    | 22   | 51   | ⋯    | 15   | 12   | 24   |  9   | 27   |  8   | 12   | 4    | 0    | 23   |\n",
       "| 2019 | 1    | 1120 | 101  | 1375 | 58   | H    | 0    | 38   | 74   | ⋯    | 22   | 17   | 22   |  8   | 19   |  9   | 22   | 4    | 5    | 17   |\n",
       "| 2019 | 1    | 1123 |  86  | 1232 | 69   | H    | 0    | 32   | 65   | ⋯    | 12   | 11   | 18   | 18   | 20   | 11   | 11   | 6    | 5    | 20   |\n",
       "| 2019 | 1    | 1130 |  73  | 1454 | 53   | H    | 0    | 22   | 56   | ⋯    | 27   |  9   | 13   | 13   | 25   | 13   |  8   | 1    | 5    | 25   |\n",
       "\n"
      ],
      "text/plain": [
       "  Season DayNum WTeamID WScore LTeamID LScore WLoc NumOT WFGM WFGA ⋯ LFGA3 LFTM\n",
       "1 2019   1      1104     82    1380    62     H    0     27   55   ⋯ 17    17  \n",
       "2 2019   1      1113    102    1168    94     H    0     33   78   ⋯ 24    19  \n",
       "3 2019   1      1119     73    1265    69     H    0     22   51   ⋯ 15    12  \n",
       "4 2019   1      1120    101    1375    58     H    0     38   74   ⋯ 22    17  \n",
       "5 2019   1      1123     86    1232    69     H    0     32   65   ⋯ 12    11  \n",
       "6 2019   1      1130     73    1454    53     H    0     22   56   ⋯ 27     9  \n",
       "  LFTA LOR LDR LAst LTO LStl LBlk LPF\n",
       "1 30   11  20   8   15  7    2    28 \n",
       "2 26    7  35   7   17  7    3    36 \n",
       "3 24    9  27   8   12  4    0    23 \n",
       "4 22    8  19   9   22  4    5    17 \n",
       "5 18   18  20  11   11  6    5    20 \n",
       "6 13   13  25  13    8  1    5    25 "
      ]
     },
     "metadata": {},
     "output_type": "display_data"
    }
   ],
   "source": [
    "data.regulars %>% dim %>% cat\n",
    "data.regulars %>% head"
   ]
  },
  {
   "cell_type": "code",
   "execution_count": 5,
   "metadata": {},
   "outputs": [],
   "source": [
    "data.regulars %>% \n",
    "    rename_at(vars(starts_with('L')),list(~str_replace(.,'L','O'))) %>%\n",
    "    rename_at(vars(starts_with('W')),list(~str_remove(.,'W'))) %>%\n",
    "    mutate(OLoc=case_when(Loc=='H' ~ 'A', Loc=='A' ~ 'H', TRUE ~ 'N')) -> group1\n",
    "data.regulars %>% \n",
    "    rename_at(vars(starts_with('L')),list(~str_remove(.,'L'))) %>%\n",
    "    rename_at(vars(starts_with('W')),list(~str_replace(.,'W','O'))) %>%\n",
    "    mutate(Loc=case_when(OLoc=='H' ~ 'A', OLoc=='A' ~ 'H', TRUE ~ 'N')) -> group2\n",
    "group1 %>% bind_rows(group2) -> df.regulars"
   ]
  },
  {
   "cell_type": "code",
   "execution_count": 6,
   "metadata": {},
   "outputs": [
    {
     "name": "stdout",
     "output_type": "stream",
     "text": [
      "10926 35 \n"
     ]
    },
    {
     "data": {
      "text/html": [
       "<table>\n",
       "<thead><tr><th scope=col>Season</th><th scope=col>DayNum</th><th scope=col>TeamID</th><th scope=col>Score</th><th scope=col>OTeamID</th><th scope=col>OScore</th><th scope=col>Loc</th><th scope=col>NumOT</th><th scope=col>FGM</th><th scope=col>FGA</th><th scope=col>⋯</th><th scope=col>OFTM</th><th scope=col>OFTA</th><th scope=col>OOR</th><th scope=col>ODR</th><th scope=col>OAst</th><th scope=col>OTO</th><th scope=col>OStl</th><th scope=col>OBlk</th><th scope=col>OPF</th><th scope=col>OLoc</th></tr></thead>\n",
       "<tbody>\n",
       "\t<tr><td>2019</td><td>1   </td><td>1104</td><td> 82 </td><td>1380</td><td>62  </td><td>H   </td><td>0   </td><td>27  </td><td>55  </td><td>⋯   </td><td>17  </td><td>30  </td><td>11  </td><td>20  </td><td> 8  </td><td>15  </td><td>7   </td><td>2   </td><td>28  </td><td>A   </td></tr>\n",
       "\t<tr><td>2019</td><td>1   </td><td>1113</td><td>102 </td><td>1168</td><td>94  </td><td>H   </td><td>0   </td><td>33  </td><td>78  </td><td>⋯   </td><td>19  </td><td>26  </td><td> 7  </td><td>35  </td><td> 7  </td><td>17  </td><td>7   </td><td>3   </td><td>36  </td><td>A   </td></tr>\n",
       "\t<tr><td>2019</td><td>1   </td><td>1119</td><td> 73 </td><td>1265</td><td>69  </td><td>H   </td><td>0   </td><td>22  </td><td>51  </td><td>⋯   </td><td>12  </td><td>24  </td><td> 9  </td><td>27  </td><td> 8  </td><td>12  </td><td>4   </td><td>0   </td><td>23  </td><td>A   </td></tr>\n",
       "\t<tr><td>2019</td><td>1   </td><td>1120</td><td>101 </td><td>1375</td><td>58  </td><td>H   </td><td>0   </td><td>38  </td><td>74  </td><td>⋯   </td><td>17  </td><td>22  </td><td> 8  </td><td>19  </td><td> 9  </td><td>22  </td><td>4   </td><td>5   </td><td>17  </td><td>A   </td></tr>\n",
       "\t<tr><td>2019</td><td>1   </td><td>1123</td><td> 86 </td><td>1232</td><td>69  </td><td>H   </td><td>0   </td><td>32  </td><td>65  </td><td>⋯   </td><td>11  </td><td>18  </td><td>18  </td><td>20  </td><td>11  </td><td>11  </td><td>6   </td><td>5   </td><td>20  </td><td>A   </td></tr>\n",
       "\t<tr><td>2019</td><td>1   </td><td>1130</td><td> 73 </td><td>1454</td><td>53  </td><td>H   </td><td>0   </td><td>22  </td><td>56  </td><td>⋯   </td><td> 9  </td><td>13  </td><td>13  </td><td>25  </td><td>13  </td><td> 8  </td><td>1   </td><td>5   </td><td>25  </td><td>A   </td></tr>\n",
       "</tbody>\n",
       "</table>\n"
      ],
      "text/latex": [
       "\\begin{tabular}{r|lllllllllllllllllllllllllllllllllll}\n",
       " Season & DayNum & TeamID & Score & OTeamID & OScore & Loc & NumOT & FGM & FGA & ⋯ & OFTM & OFTA & OOR & ODR & OAst & OTO & OStl & OBlk & OPF & OLoc\\\\\n",
       "\\hline\n",
       "\t 2019 & 1    & 1104 &  82  & 1380 & 62   & H    & 0    & 27   & 55   & ⋯    & 17   & 30   & 11   & 20   &  8   & 15   & 7    & 2    & 28   & A   \\\\\n",
       "\t 2019 & 1    & 1113 & 102  & 1168 & 94   & H    & 0    & 33   & 78   & ⋯    & 19   & 26   &  7   & 35   &  7   & 17   & 7    & 3    & 36   & A   \\\\\n",
       "\t 2019 & 1    & 1119 &  73  & 1265 & 69   & H    & 0    & 22   & 51   & ⋯    & 12   & 24   &  9   & 27   &  8   & 12   & 4    & 0    & 23   & A   \\\\\n",
       "\t 2019 & 1    & 1120 & 101  & 1375 & 58   & H    & 0    & 38   & 74   & ⋯    & 17   & 22   &  8   & 19   &  9   & 22   & 4    & 5    & 17   & A   \\\\\n",
       "\t 2019 & 1    & 1123 &  86  & 1232 & 69   & H    & 0    & 32   & 65   & ⋯    & 11   & 18   & 18   & 20   & 11   & 11   & 6    & 5    & 20   & A   \\\\\n",
       "\t 2019 & 1    & 1130 &  73  & 1454 & 53   & H    & 0    & 22   & 56   & ⋯    &  9   & 13   & 13   & 25   & 13   &  8   & 1    & 5    & 25   & A   \\\\\n",
       "\\end{tabular}\n"
      ],
      "text/markdown": [
       "\n",
       "| Season | DayNum | TeamID | Score | OTeamID | OScore | Loc | NumOT | FGM | FGA | ⋯ | OFTM | OFTA | OOR | ODR | OAst | OTO | OStl | OBlk | OPF | OLoc |\n",
       "|---|---|---|---|---|---|---|---|---|---|---|---|---|---|---|---|---|---|---|---|---|\n",
       "| 2019 | 1    | 1104 |  82  | 1380 | 62   | H    | 0    | 27   | 55   | ⋯    | 17   | 30   | 11   | 20   |  8   | 15   | 7    | 2    | 28   | A    |\n",
       "| 2019 | 1    | 1113 | 102  | 1168 | 94   | H    | 0    | 33   | 78   | ⋯    | 19   | 26   |  7   | 35   |  7   | 17   | 7    | 3    | 36   | A    |\n",
       "| 2019 | 1    | 1119 |  73  | 1265 | 69   | H    | 0    | 22   | 51   | ⋯    | 12   | 24   |  9   | 27   |  8   | 12   | 4    | 0    | 23   | A    |\n",
       "| 2019 | 1    | 1120 | 101  | 1375 | 58   | H    | 0    | 38   | 74   | ⋯    | 17   | 22   |  8   | 19   |  9   | 22   | 4    | 5    | 17   | A    |\n",
       "| 2019 | 1    | 1123 |  86  | 1232 | 69   | H    | 0    | 32   | 65   | ⋯    | 11   | 18   | 18   | 20   | 11   | 11   | 6    | 5    | 20   | A    |\n",
       "| 2019 | 1    | 1130 |  73  | 1454 | 53   | H    | 0    | 22   | 56   | ⋯    |  9   | 13   | 13   | 25   | 13   |  8   | 1    | 5    | 25   | A    |\n",
       "\n"
      ],
      "text/plain": [
       "  Season DayNum TeamID Score OTeamID OScore Loc NumOT FGM FGA ⋯ OFTM OFTA OOR\n",
       "1 2019   1      1104    82   1380    62     H   0     27  55  ⋯ 17   30   11 \n",
       "2 2019   1      1113   102   1168    94     H   0     33  78  ⋯ 19   26    7 \n",
       "3 2019   1      1119    73   1265    69     H   0     22  51  ⋯ 12   24    9 \n",
       "4 2019   1      1120   101   1375    58     H   0     38  74  ⋯ 17   22    8 \n",
       "5 2019   1      1123    86   1232    69     H   0     32  65  ⋯ 11   18   18 \n",
       "6 2019   1      1130    73   1454    53     H   0     22  56  ⋯  9   13   13 \n",
       "  ODR OAst OTO OStl OBlk OPF OLoc\n",
       "1 20   8   15  7    2    28  A   \n",
       "2 35   7   17  7    3    36  A   \n",
       "3 27   8   12  4    0    23  A   \n",
       "4 19   9   22  4    5    17  A   \n",
       "5 20  11   11  6    5    20  A   \n",
       "6 25  13    8  1    5    25  A   "
      ]
     },
     "metadata": {},
     "output_type": "display_data"
    }
   ],
   "source": [
    "df.regulars %>% dim %>% cat('\\n')\n",
    "df.regulars %>% arrange(Season,DayNum) %>% head"
   ]
  },
  {
   "cell_type": "code",
   "execution_count": 7,
   "metadata": {},
   "outputs": [],
   "source": [
    "df.regulars %>%\n",
    "    left_join(df.teams %>% rename(OTeamName=TeamName),by=c('OTeamID'='TeamID')) %>%\n",
    "    left_join(df.teams,by='TeamID') -> df.regulars"
   ]
  },
  {
   "cell_type": "markdown",
   "metadata": {},
   "source": [
    "#### Stat matrix"
   ]
  },
  {
   "cell_type": "code",
   "execution_count": 8,
   "metadata": {},
   "outputs": [],
   "source": [
    "CreateMatrix <- function(dataset,stat) {\n",
    "    stat_var <- enquo(stat)\n",
    "    dataset %>% rename(Statistic := !!stat_var) -> dataset\n",
    "    for(i in 2019:2019) {\n",
    "        dataset %>%\n",
    "            filter(Season==i) %>%\n",
    "            select(TeamName,OTeamName,Statistic) %>% \n",
    "            group_by(TeamName,OTeamName) %>% \n",
    "            summarise(Statistic=mean(Statistic)) %>% \n",
    "            ungroup() %>%\n",
    "            spread(TeamName,Statistic) %>% \n",
    "            impute(0.01) %>% \n",
    "            select(-OTeamName) %>% \n",
    "            as.matrix() -> tmp\n",
    "        dataset %>% \n",
    "            filter(Season==i) %>% \n",
    "            distinct(OTeamName) %>% \n",
    "            arrange(OTeamName) %>% \n",
    "            pull(OTeamName) -> vnames\n",
    "        attr(tmp,'dimnames') <- list(vnames,vnames)\n",
    "        assign(paste0('m.stat.',i), tmp, envir=.GlobalEnv)\n",
    "    }\n",
    "}"
   ]
  },
  {
   "cell_type": "code",
   "execution_count": 9,
   "metadata": {},
   "outputs": [],
   "source": [
    "dataset <- df.regulars %>% \n",
    "    mutate(Poss=FGA+0.475*FTA-OR+TO,ScorePoss=Score/Poss) %>%\n",
    "    mutate(OPoss=OFGA+0.475*OFTA-OOR+OTO,OScorePoss=OScore/OPoss) %>%\n",
    "    mutate(GmS=(ScorePoss+1)/(ScorePoss+OScorePoss+2))"
   ]
  },
  {
   "cell_type": "code",
   "execution_count": 10,
   "metadata": {
    "scrolled": false
   },
   "outputs": [
    {
     "data": {
      "text/html": [
       "<table>\n",
       "<thead><tr><th scope=col>Season</th><th scope=col>DayNum</th><th scope=col>TeamID</th><th scope=col>Score</th><th scope=col>OTeamID</th><th scope=col>OScore</th><th scope=col>Loc</th><th scope=col>NumOT</th><th scope=col>FGM</th><th scope=col>FGA</th><th scope=col>⋯</th><th scope=col>OBlk</th><th scope=col>OPF</th><th scope=col>OLoc</th><th scope=col>OTeamName</th><th scope=col>TeamName</th><th scope=col>Poss</th><th scope=col>ScorePoss</th><th scope=col>OPoss</th><th scope=col>OScorePoss</th><th scope=col>GmS</th></tr></thead>\n",
       "<tbody>\n",
       "\t<tr><td>2019          </td><td>1             </td><td>1104          </td><td> 82           </td><td>1380          </td><td>62            </td><td>H             </td><td>0             </td><td>27            </td><td>55            </td><td>⋯             </td><td>2             </td><td>28            </td><td>A             </td><td>southern_univ </td><td>alabama       </td><td>72.300        </td><td>1.134163      </td><td>73.250        </td><td>0.8464164     </td><td>0.5361438     </td></tr>\n",
       "\t<tr><td>2019          </td><td>1             </td><td>1113          </td><td>102           </td><td>1168          </td><td>94            </td><td>H             </td><td>0             </td><td>33            </td><td>78            </td><td>⋯             </td><td>3             </td><td>36            </td><td>A             </td><td>cs_fullerton  </td><td>arizona_st    </td><td>95.900        </td><td>1.063608      </td><td>96.350        </td><td>0.9756098     </td><td>0.5108930     </td></tr>\n",
       "\t<tr><td>2019          </td><td>1             </td><td>1119          </td><td> 73           </td><td>1265          </td><td>69            </td><td>H             </td><td>0             </td><td>22            </td><td>51            </td><td>⋯             </td><td>0             </td><td>23            </td><td>A             </td><td>marist        </td><td>army          </td><td>64.775        </td><td>1.126978      </td><td>66.400        </td><td>1.0391566     </td><td>0.5105399     </td></tr>\n",
       "\t<tr><td>2019          </td><td>1             </td><td>1120          </td><td>101           </td><td>1375          </td><td>58            </td><td>H             </td><td>0             </td><td>38            </td><td>74            </td><td>⋯             </td><td>5             </td><td>17            </td><td>A             </td><td>south_alabama </td><td>auburn        </td><td>74.650        </td><td>1.352981      </td><td>70.450        </td><td>0.8232789     </td><td>0.5634182     </td></tr>\n",
       "\t<tr><td>2019          </td><td>1             </td><td>1123          </td><td> 86           </td><td>1232          </td><td>69            </td><td>H             </td><td>0             </td><td>32            </td><td>65            </td><td>⋯             </td><td>5             </td><td>20            </td><td>A             </td><td>indiana_st    </td><td>ball_st       </td><td>67.500        </td><td>1.274074      </td><td>68.550        </td><td>1.0065646     </td><td>0.5312465     </td></tr>\n",
       "\t<tr><td>2019          </td><td>1             </td><td>1130          </td><td> 73           </td><td>1454          </td><td>53            </td><td>H             </td><td>0             </td><td>22            </td><td>56            </td><td>⋯             </td><td>5             </td><td>25            </td><td>A             </td><td>wi_milwaukee  </td><td>boston_college</td><td>65.200        </td><td>1.119632      </td><td>66.175        </td><td>0.8009067     </td><td>0.5406481     </td></tr>\n",
       "</tbody>\n",
       "</table>\n"
      ],
      "text/latex": [
       "\\begin{tabular}{r|llllllllllllllllllllllllllllllllllllllllll}\n",
       " Season & DayNum & TeamID & Score & OTeamID & OScore & Loc & NumOT & FGM & FGA & ⋯ & OBlk & OPF & OLoc & OTeamName & TeamName & Poss & ScorePoss & OPoss & OScorePoss & GmS\\\\\n",
       "\\hline\n",
       "\t 2019            & 1               & 1104            &  82             & 1380            & 62              & H               & 0               & 27              & 55              & ⋯               & 2               & 28              & A               & southern\\_univ & alabama         & 72.300          & 1.134163        & 73.250          & 0.8464164       & 0.5361438      \\\\\n",
       "\t 2019             & 1                & 1113             & 102              & 1168             & 94               & H                & 0                & 33               & 78               & ⋯                & 3                & 36               & A                & cs\\_fullerton   & arizona\\_st     & 95.900           & 1.063608         & 96.350           & 0.9756098        & 0.5108930       \\\\\n",
       "\t 2019           & 1              & 1119           &  73            & 1265           & 69             & H              & 0              & 22             & 51             & ⋯              & 0              & 23             & A              & marist         & army           & 64.775         & 1.126978       & 66.400         & 1.0391566      & 0.5105399     \\\\\n",
       "\t 2019            & 1               & 1120            & 101             & 1375            & 58              & H               & 0               & 38              & 74              & ⋯               & 5               & 17              & A               & south\\_alabama & auburn          & 74.650          & 1.352981        & 70.450          & 0.8232789       & 0.5634182      \\\\\n",
       "\t 2019             & 1                & 1123             &  86              & 1232             & 69               & H                & 0                & 32               & 65               & ⋯                & 5                & 20               & A                & indiana\\_st     & ball\\_st        & 67.500           & 1.274074         & 68.550           & 1.0065646        & 0.5312465       \\\\\n",
       "\t 2019             & 1                & 1130             &  73              & 1454             & 53               & H                & 0                & 22               & 56               & ⋯                & 5                & 25               & A                & wi\\_milwaukee   & boston\\_college & 65.200           & 1.119632         & 66.175           & 0.8009067        & 0.5406481       \\\\\n",
       "\\end{tabular}\n"
      ],
      "text/markdown": [
       "\n",
       "| Season | DayNum | TeamID | Score | OTeamID | OScore | Loc | NumOT | FGM | FGA | ⋯ | OBlk | OPF | OLoc | OTeamName | TeamName | Poss | ScorePoss | OPoss | OScorePoss | GmS |\n",
       "|---|---|---|---|---|---|---|---|---|---|---|---|---|---|---|---|---|---|---|---|---|\n",
       "| 2019           | 1              | 1104           |  82            | 1380           | 62             | H              | 0              | 27             | 55             | ⋯              | 2              | 28             | A              | southern_univ  | alabama        | 72.300         | 1.134163       | 73.250         | 0.8464164      | 0.5361438      |\n",
       "| 2019           | 1              | 1113           | 102            | 1168           | 94             | H              | 0              | 33             | 78             | ⋯              | 3              | 36             | A              | cs_fullerton   | arizona_st     | 95.900         | 1.063608       | 96.350         | 0.9756098      | 0.5108930      |\n",
       "| 2019           | 1              | 1119           |  73            | 1265           | 69             | H              | 0              | 22             | 51             | ⋯              | 0              | 23             | A              | marist         | army           | 64.775         | 1.126978       | 66.400         | 1.0391566      | 0.5105399      |\n",
       "| 2019           | 1              | 1120           | 101            | 1375           | 58             | H              | 0              | 38             | 74             | ⋯              | 5              | 17             | A              | south_alabama  | auburn         | 74.650         | 1.352981       | 70.450         | 0.8232789      | 0.5634182      |\n",
       "| 2019           | 1              | 1123           |  86            | 1232           | 69             | H              | 0              | 32             | 65             | ⋯              | 5              | 20             | A              | indiana_st     | ball_st        | 67.500         | 1.274074       | 68.550         | 1.0065646      | 0.5312465      |\n",
       "| 2019           | 1              | 1130           |  73            | 1454           | 53             | H              | 0              | 22             | 56             | ⋯              | 5              | 25             | A              | wi_milwaukee   | boston_college | 65.200         | 1.119632       | 66.175         | 0.8009067      | 0.5406481      |\n",
       "\n"
      ],
      "text/plain": [
       "  Season DayNum TeamID Score OTeamID OScore Loc NumOT FGM FGA ⋯ OBlk OPF OLoc\n",
       "1 2019   1      1104    82   1380    62     H   0     27  55  ⋯ 2    28  A   \n",
       "2 2019   1      1113   102   1168    94     H   0     33  78  ⋯ 3    36  A   \n",
       "3 2019   1      1119    73   1265    69     H   0     22  51  ⋯ 0    23  A   \n",
       "4 2019   1      1120   101   1375    58     H   0     38  74  ⋯ 5    17  A   \n",
       "5 2019   1      1123    86   1232    69     H   0     32  65  ⋯ 5    20  A   \n",
       "6 2019   1      1130    73   1454    53     H   0     22  56  ⋯ 5    25  A   \n",
       "  OTeamName     TeamName       Poss   ScorePoss OPoss  OScorePoss GmS      \n",
       "1 southern_univ alabama        72.300 1.134163  73.250 0.8464164  0.5361438\n",
       "2 cs_fullerton  arizona_st     95.900 1.063608  96.350 0.9756098  0.5108930\n",
       "3 marist        army           64.775 1.126978  66.400 1.0391566  0.5105399\n",
       "4 south_alabama auburn         74.650 1.352981  70.450 0.8232789  0.5634182\n",
       "5 indiana_st    ball_st        67.500 1.274074  68.550 1.0065646  0.5312465\n",
       "6 wi_milwaukee  boston_college 65.200 1.119632  66.175 0.8009067  0.5406481"
      ]
     },
     "metadata": {},
     "output_type": "display_data"
    }
   ],
   "source": [
    "dataset %>% head"
   ]
  },
  {
   "cell_type": "code",
   "execution_count": 11,
   "metadata": {},
   "outputs": [],
   "source": [
    "CreateMatrix(dataset,GmS)"
   ]
  },
  {
   "cell_type": "markdown",
   "metadata": {},
   "source": [
    "####  Offense-Defense Rating"
   ]
  },
  {
   "cell_type": "code",
   "execution_count": 12,
   "metadata": {},
   "outputs": [],
   "source": [
    "ComputeRating <- function(A) {\n",
    "    dnow <- rep(1,nrow(A))\n",
    "    for(i in 1:100) {\n",
    "        dprev <- dnow\n",
    "        dnow <- A %*% (1/(t(A) %*% (1/dprev)))\n",
    "    }\n",
    "    rdef <- as.vector(dnow)\n",
    "    roff <- as.vector(t(A) %*% (1/rdef))\n",
    "    rating <- as.vector(roff / rdef)\n",
    "    data.frame(Team=attr(A,'dimnames')[[2]],Rating=rating,Offense=roff,Defense=rdef)\n",
    "}"
   ]
  },
  {
   "cell_type": "code",
   "execution_count": 13,
   "metadata": {},
   "outputs": [],
   "source": [
    "ComputeRating(m.stat.2019) %>% \n",
    "    mutate(Season=2019) %>% \n",
    "    mutate_if(is.factor,as.character) -> df.ratings"
   ]
  },
  {
   "cell_type": "code",
   "execution_count": 14,
   "metadata": {},
   "outputs": [
    {
     "data": {
      "text/html": [
       "<table>\n",
       "<thead><tr><th scope=col>Season</th><th scope=col>Team</th><th scope=col>Rating</th><th scope=col>Offense</th><th scope=col>Defense</th></tr></thead>\n",
       "<tbody>\n",
       "\t<tr><td>2019     </td><td>virginia </td><td>16.36379 </td><td>16.31891 </td><td>0.9972575</td></tr>\n",
       "</tbody>\n",
       "</table>\n"
      ],
      "text/latex": [
       "\\begin{tabular}{r|lllll}\n",
       " Season & Team & Rating & Offense & Defense\\\\\n",
       "\\hline\n",
       "\t 2019      & virginia  & 16.36379  & 16.31891  & 0.9972575\\\\\n",
       "\\end{tabular}\n"
      ],
      "text/markdown": [
       "\n",
       "| Season | Team | Rating | Offense | Defense |\n",
       "|---|---|---|---|---|\n",
       "| 2019      | virginia  | 16.36379  | 16.31891  | 0.9972575 |\n",
       "\n"
      ],
      "text/plain": [
       "  Season Team     Rating   Offense  Defense  \n",
       "1 2019   virginia 16.36379 16.31891 0.9972575"
      ]
     },
     "metadata": {},
     "output_type": "display_data"
    }
   ],
   "source": [
    "df.ratings %>% arrange(desc(Rating)) %>% group_by(Season) %>% slice(1:1) %>% ungroup() %>% select(Season,everything())"
   ]
  },
  {
   "cell_type": "markdown",
   "metadata": {},
   "source": [
    "###  Regular seasons performance (train dataset)"
   ]
  },
  {
   "cell_type": "code",
   "execution_count": 15,
   "metadata": {},
   "outputs": [],
   "source": [
    "data.regulars %>% \n",
    "    select(Season,WTeamID,LTeamID) %>%\n",
    "    mutate(TeamID.x = ifelse(WTeamID<LTeamID,WTeamID,LTeamID), \n",
    "           TeamID.y = ifelse(WTeamID<LTeamID,LTeamID,WTeamID),\n",
    "           Target = ifelse(TeamID.x==WTeamID,1,0),\n",
    "           ID=str_c(Season,'_',TeamID.x,'_',TeamID.y)) %>%\n",
    "    select(-WTeamID,-LTeamID) -> df.train"
   ]
  },
  {
   "cell_type": "code",
   "execution_count": 16,
   "metadata": {},
   "outputs": [],
   "source": [
    "df.ratings %>%\n",
    "    left_join(df.teams,by=c('Team'='TeamName')) -> df.ratings"
   ]
  },
  {
   "cell_type": "code",
   "execution_count": 17,
   "metadata": {},
   "outputs": [],
   "source": [
    "df.train %>%\n",
    "    select(-Target,-ID) %>%\n",
    "    inner_join(df.ratings,by=c('Season','TeamID.x'='TeamID')) %>%\n",
    "    select(-Offense,-Defense,-Team) %>%\n",
    "    inner_join(df.ratings,by=c('Season','TeamID.y'='TeamID')) %>% \n",
    "    select(-Offense,-Defense,-Team) -> data.train.matchups"
   ]
  },
  {
   "cell_type": "code",
   "execution_count": 18,
   "metadata": {},
   "outputs": [
    {
     "data": {
      "text/html": [
       "<table>\n",
       "<thead><tr><th scope=col>Season</th><th scope=col>TeamID.x</th><th scope=col>TeamID.y</th><th scope=col>Rating.x</th><th scope=col>Rating.y</th></tr></thead>\n",
       "<tbody>\n",
       "\t<tr><td>2019    </td><td>1299    </td><td>1422    </td><td>13.62947</td><td>14.60860</td></tr>\n",
       "\t<tr><td>2019    </td><td>1310    </td><td>1461    </td><td>13.63420</td><td>13.48455</td></tr>\n",
       "\t<tr><td>2019    </td><td>1178    </td><td>1259    </td><td>13.81192</td><td>13.67376</td></tr>\n",
       "\t<tr><td>2019    </td><td>1116    </td><td>1161    </td><td>14.76521</td><td>14.12765</td></tr>\n",
       "\t<tr><td>2019    </td><td>1156    </td><td>1354    </td><td>13.79886</td><td>13.16798</td></tr>\n",
       "</tbody>\n",
       "</table>\n"
      ],
      "text/latex": [
       "\\begin{tabular}{r|lllll}\n",
       " Season & TeamID.x & TeamID.y & Rating.x & Rating.y\\\\\n",
       "\\hline\n",
       "\t 2019     & 1299     & 1422     & 13.62947 & 14.60860\\\\\n",
       "\t 2019     & 1310     & 1461     & 13.63420 & 13.48455\\\\\n",
       "\t 2019     & 1178     & 1259     & 13.81192 & 13.67376\\\\\n",
       "\t 2019     & 1116     & 1161     & 14.76521 & 14.12765\\\\\n",
       "\t 2019     & 1156     & 1354     & 13.79886 & 13.16798\\\\\n",
       "\\end{tabular}\n"
      ],
      "text/markdown": [
       "\n",
       "| Season | TeamID.x | TeamID.y | Rating.x | Rating.y |\n",
       "|---|---|---|---|---|\n",
       "| 2019     | 1299     | 1422     | 13.62947 | 14.60860 |\n",
       "| 2019     | 1310     | 1461     | 13.63420 | 13.48455 |\n",
       "| 2019     | 1178     | 1259     | 13.81192 | 13.67376 |\n",
       "| 2019     | 1116     | 1161     | 14.76521 | 14.12765 |\n",
       "| 2019     | 1156     | 1354     | 13.79886 | 13.16798 |\n",
       "\n"
      ],
      "text/plain": [
       "  Season TeamID.x TeamID.y Rating.x Rating.y\n",
       "1 2019   1299     1422     13.62947 14.60860\n",
       "2 2019   1310     1461     13.63420 13.48455\n",
       "3 2019   1178     1259     13.81192 13.67376\n",
       "4 2019   1116     1161     14.76521 14.12765\n",
       "5 2019   1156     1354     13.79886 13.16798"
      ]
     },
     "metadata": {},
     "output_type": "display_data"
    }
   ],
   "source": [
    "data.train.matchups %>% sample_n(5)"
   ]
  },
  {
   "cell_type": "code",
   "execution_count": 19,
   "metadata": {},
   "outputs": [
    {
     "data": {
      "text/html": [
       "<table>\n",
       "<thead><tr><th scope=col>Season</th><th scope=col>qtl</th><th scope=col>Slope</th></tr></thead>\n",
       "<tbody>\n",
       "\t<tr><td>2019    </td><td>0.10    </td><td>1.023710</td></tr>\n",
       "\t<tr><td>2019    </td><td>0.53    </td><td>1.376451</td></tr>\n",
       "\t<tr><td>2019    </td><td>0.54    </td><td>1.393926</td></tr>\n",
       "\t<tr><td>2019    </td><td>0.41    </td><td>1.256013</td></tr>\n",
       "\t<tr><td>2019    </td><td>0.45    </td><td>1.284031</td></tr>\n",
       "</tbody>\n",
       "</table>\n"
      ],
      "text/latex": [
       "\\begin{tabular}{r|lll}\n",
       " Season & qtl & Slope\\\\\n",
       "\\hline\n",
       "\t 2019     & 0.10     & 1.023710\\\\\n",
       "\t 2019     & 0.53     & 1.376451\\\\\n",
       "\t 2019     & 0.54     & 1.393926\\\\\n",
       "\t 2019     & 0.41     & 1.256013\\\\\n",
       "\t 2019     & 0.45     & 1.284031\\\\\n",
       "\\end{tabular}\n"
      ],
      "text/markdown": [
       "\n",
       "| Season | qtl | Slope |\n",
       "|---|---|---|\n",
       "| 2019     | 0.10     | 1.023710 |\n",
       "| 2019     | 0.53     | 1.376451 |\n",
       "| 2019     | 0.54     | 1.393926 |\n",
       "| 2019     | 0.41     | 1.256013 |\n",
       "| 2019     | 0.45     | 1.284031 |\n",
       "\n"
      ],
      "text/plain": [
       "  Season qtl  Slope   \n",
       "1 2019   0.10 1.023710\n",
       "2 2019   0.53 1.376451\n",
       "3 2019   0.54 1.393926\n",
       "4 2019   0.41 1.256013\n",
       "5 2019   0.45 1.284031"
      ]
     },
     "metadata": {},
     "output_type": "display_data"
    }
   ],
   "source": [
    "# slope hyper parameter grid : we will compute 80 models and chose the best one (min logloss)\n",
    "df.ratings %>% \n",
    "    mutate(dummy=1) %>% \n",
    "    inner_join(data.frame(qtl=seq(0.01,0.95,0.01),dummy=1),by='dummy') %>% \n",
    "    select(-dummy) %>% \n",
    "    group_by(Season,qtl) %>% \n",
    "    mutate(thres=max(Rating)-quantile(Rating,max(qtl)),Slope=3/thres) %>%\n",
    "    ungroup %>% \n",
    "    select(Season,qtl,Slope) %>% \n",
    "    distinct() -> df.slopes\n",
    "df.slopes %>% sample_n(5)"
   ]
  },
  {
   "cell_type": "code",
   "execution_count": 20,
   "metadata": {},
   "outputs": [
    {
     "name": "stdout",
     "output_type": "stream",
     "text": [
      "518985 7 \n"
     ]
    },
    {
     "data": {
      "text/html": [
       "<table>\n",
       "<thead><tr><th scope=col>Season</th><th scope=col>TeamID.x</th><th scope=col>TeamID.y</th><th scope=col>Rating.x</th><th scope=col>Rating.y</th><th scope=col>qtl</th><th scope=col>Slope</th></tr></thead>\n",
       "<tbody>\n",
       "\t<tr><td>2019    </td><td>1157    </td><td>1421    </td><td>14.16795</td><td>12.72832</td><td>0.07    </td><td>0.987734</td></tr>\n",
       "\t<tr><td>2019    </td><td>1223    </td><td>1394    </td><td>13.70035</td><td>13.74260</td><td>0.93    </td><td>2.808415</td></tr>\n",
       "\t<tr><td>2019    </td><td>1297    </td><td>1460    </td><td>14.58069</td><td>14.38101</td><td>0.26    </td><td>1.148392</td></tr>\n",
       "\t<tr><td>2019    </td><td>1299    </td><td>1422    </td><td>13.62947</td><td>14.60860</td><td>0.69    </td><td>1.653834</td></tr>\n",
       "\t<tr><td>2019    </td><td>1346    </td><td>1392    </td><td>13.98962</td><td>14.25911</td><td>0.62    </td><td>1.536897</td></tr>\n",
       "</tbody>\n",
       "</table>\n"
      ],
      "text/latex": [
       "\\begin{tabular}{r|lllllll}\n",
       " Season & TeamID.x & TeamID.y & Rating.x & Rating.y & qtl & Slope\\\\\n",
       "\\hline\n",
       "\t 2019     & 1157     & 1421     & 14.16795 & 12.72832 & 0.07     & 0.987734\\\\\n",
       "\t 2019     & 1223     & 1394     & 13.70035 & 13.74260 & 0.93     & 2.808415\\\\\n",
       "\t 2019     & 1297     & 1460     & 14.58069 & 14.38101 & 0.26     & 1.148392\\\\\n",
       "\t 2019     & 1299     & 1422     & 13.62947 & 14.60860 & 0.69     & 1.653834\\\\\n",
       "\t 2019     & 1346     & 1392     & 13.98962 & 14.25911 & 0.62     & 1.536897\\\\\n",
       "\\end{tabular}\n"
      ],
      "text/markdown": [
       "\n",
       "| Season | TeamID.x | TeamID.y | Rating.x | Rating.y | qtl | Slope |\n",
       "|---|---|---|---|---|---|---|\n",
       "| 2019     | 1157     | 1421     | 14.16795 | 12.72832 | 0.07     | 0.987734 |\n",
       "| 2019     | 1223     | 1394     | 13.70035 | 13.74260 | 0.93     | 2.808415 |\n",
       "| 2019     | 1297     | 1460     | 14.58069 | 14.38101 | 0.26     | 1.148392 |\n",
       "| 2019     | 1299     | 1422     | 13.62947 | 14.60860 | 0.69     | 1.653834 |\n",
       "| 2019     | 1346     | 1392     | 13.98962 | 14.25911 | 0.62     | 1.536897 |\n",
       "\n"
      ],
      "text/plain": [
       "  Season TeamID.x TeamID.y Rating.x Rating.y qtl  Slope   \n",
       "1 2019   1157     1421     14.16795 12.72832 0.07 0.987734\n",
       "2 2019   1223     1394     13.70035 13.74260 0.93 2.808415\n",
       "3 2019   1297     1460     14.58069 14.38101 0.26 1.148392\n",
       "4 2019   1299     1422     13.62947 14.60860 0.69 1.653834\n",
       "5 2019   1346     1392     13.98962 14.25911 0.62 1.536897"
      ]
     },
     "metadata": {},
     "output_type": "display_data"
    }
   ],
   "source": [
    "data.train.matchups %>% \n",
    "    inner_join(df.slopes,by=c('Season')) -> data.train.matchups\n",
    "data.train.matchups %>% dim %>% cat('\\n')\n",
    "data.train.matchups %>% sample_n(5)"
   ]
  },
  {
   "cell_type": "code",
   "execution_count": 21,
   "metadata": {},
   "outputs": [
    {
     "data": {
      "text/html": [
       "<table>\n",
       "<thead><tr><th scope=col>Season</th><th scope=col>qtl</th><th scope=col>ID</th><th scope=col>Pred</th><th scope=col>Prob</th></tr></thead>\n",
       "<tbody>\n",
       "\t<tr><td>2019          </td><td>0.84          </td><td>2019_1260_1386</td><td>1             </td><td>0.714         </td></tr>\n",
       "\t<tr><td>2019          </td><td>0.08          </td><td>2019_1206_1241</td><td>1             </td><td>0.669         </td></tr>\n",
       "\t<tr><td>2019          </td><td>0.68          </td><td>2019_1263_1436</td><td>0             </td><td>0.067         </td></tr>\n",
       "\t<tr><td>2019          </td><td>0.14          </td><td>2019_1313_1366</td><td>1             </td><td>0.684         </td></tr>\n",
       "\t<tr><td>2019          </td><td>0.68          </td><td>2019_1184_1398</td><td>1             </td><td>0.626         </td></tr>\n",
       "</tbody>\n",
       "</table>\n"
      ],
      "text/latex": [
       "\\begin{tabular}{r|lllll}\n",
       " Season & qtl & ID & Pred & Prob\\\\\n",
       "\\hline\n",
       "\t 2019               & 0.84               & 2019\\_1260\\_1386 & 1                  & 0.714             \\\\\n",
       "\t 2019               & 0.08               & 2019\\_1206\\_1241 & 1                  & 0.669             \\\\\n",
       "\t 2019               & 0.68               & 2019\\_1263\\_1436 & 0                  & 0.067             \\\\\n",
       "\t 2019               & 0.14               & 2019\\_1313\\_1366 & 1                  & 0.684             \\\\\n",
       "\t 2019               & 0.68               & 2019\\_1184\\_1398 & 1                  & 0.626             \\\\\n",
       "\\end{tabular}\n"
      ],
      "text/markdown": [
       "\n",
       "| Season | qtl | ID | Pred | Prob |\n",
       "|---|---|---|---|---|\n",
       "| 2019           | 0.84           | 2019_1260_1386 | 1              | 0.714          |\n",
       "| 2019           | 0.08           | 2019_1206_1241 | 1              | 0.669          |\n",
       "| 2019           | 0.68           | 2019_1263_1436 | 0              | 0.067          |\n",
       "| 2019           | 0.14           | 2019_1313_1366 | 1              | 0.684          |\n",
       "| 2019           | 0.68           | 2019_1184_1398 | 1              | 0.626          |\n",
       "\n"
      ],
      "text/plain": [
       "  Season qtl  ID             Pred Prob \n",
       "1 2019   0.84 2019_1260_1386 1    0.714\n",
       "2 2019   0.08 2019_1206_1241 1    0.669\n",
       "3 2019   0.68 2019_1263_1436 0    0.067\n",
       "4 2019   0.14 2019_1313_1366 1    0.684\n",
       "5 2019   0.68 2019_1184_1398 1    0.626"
      ]
     },
     "metadata": {},
     "output_type": "display_data"
    }
   ],
   "source": [
    "# machups predictions : compute the winning probability of TeamID.x and cap it into [0.05,0.95] to avoid too much logloss is case of FP or FN \n",
    "data.train.matchups %>% \n",
    "    mutate(ID=str_c(Season,'_',TeamID.x,'_',TeamID.y)) %>% \n",
    "    mutate(Prob=logistic(Rating.x-Rating.y,a=Slope)) %>% \n",
    "    mutate(Pred=ifelse(Prob>0.5,1,0)) %>% \n",
    "    mutate(Prob=round(Prob,3)) %>%\n",
    "    mutate_which(Prob>0.95,Prob=0.95) %>%\n",
    "    mutate_which(Prob<0.05,Prob=0.05) %>%\n",
    "    select(Season,qtl,ID,Pred,Prob) -> df.train.submit\n",
    "df.train.submit %>% sample_n(5)"
   ]
  },
  {
   "cell_type": "code",
   "execution_count": 22,
   "metadata": {},
   "outputs": [],
   "source": [
    "# merge prediction and truth\n",
    "df.train %>% select(ID,Target) -> data.train.truth\n",
    "data.train.truth %>% inner_join(df.train.submit,by='ID') -> df.train.results"
   ]
  },
  {
   "cell_type": "code",
   "execution_count": 23,
   "metadata": {
    "scrolled": false
   },
   "outputs": [
    {
     "data": {
      "text/html": [
       "<table>\n",
       "<thead><tr><th scope=col>Season</th><th scope=col>qtl</th><th scope=col>TC</th><th scope=col>FC</th><th scope=col>N</th><th scope=col>Acc</th><th scope=col>LogLoss</th></tr></thead>\n",
       "<tbody>\n",
       "\t<tr><td>2019     </td><td>0.84     </td><td>6607     </td><td>2508     </td><td>9115     </td><td>0.7248491</td><td>0.5318158</td></tr>\n",
       "</tbody>\n",
       "</table>\n"
      ],
      "text/latex": [
       "\\begin{tabular}{r|lllllll}\n",
       " Season & qtl & TC & FC & N & Acc & LogLoss\\\\\n",
       "\\hline\n",
       "\t 2019      & 0.84      & 6607      & 2508      & 9115      & 0.7248491 & 0.5318158\\\\\n",
       "\\end{tabular}\n"
      ],
      "text/markdown": [
       "\n",
       "| Season | qtl | TC | FC | N | Acc | LogLoss |\n",
       "|---|---|---|---|---|---|---|\n",
       "| 2019      | 0.84      | 6607      | 2508      | 9115      | 0.7248491 | 0.5318158 |\n",
       "\n"
      ],
      "text/plain": [
       "  Season qtl  TC   FC   N    Acc       LogLoss  \n",
       "1 2019   0.84 6607 2508 9115 0.7248491 0.5318158"
      ]
     },
     "metadata": {},
     "output_type": "display_data"
    }
   ],
   "source": [
    "# compute accuracy & Logloss per qtl to find the best one per Season\n",
    "df.train.results %>% \n",
    "    mutate(OK=ifelse(Pred==Target,1,0)) %>%\n",
    "    mutate(LogLoss=Target*log(Prob) + (1-Target)*log(1-Prob)) %>%\n",
    "    group_by(Season,qtl) %>%\n",
    "    summarise(TC=sum(OK),N=n(),FC=N-TC,Acc=TC/N,LogLoss=-mean(LogLoss)) %>%\n",
    "    select(Season,qtl,TC,FC,N,Acc,LogLoss) -> df.train.perf\n",
    "df.train.perf %>% arrange(LogLoss) %>% group_by(Season) %>% slice(1:1) %>% ungroup() "
   ]
  },
  {
   "cell_type": "code",
   "execution_count": 24,
   "metadata": {},
   "outputs": [
    {
     "data": {
      "text/html": [
       "<table>\n",
       "<thead><tr><th scope=col>Stat</th><th scope=col>Season_2019</th></tr></thead>\n",
       "<tbody>\n",
       "\t<tr><td>Accuracy     </td><td>0.7248491    </td></tr>\n",
       "\t<tr><td>Best LogLoss </td><td>0.5318158    </td></tr>\n",
       "\t<tr><td>Best Quantile</td><td>0.8400000    </td></tr>\n",
       "</tbody>\n",
       "</table>\n"
      ],
      "text/latex": [
       "\\begin{tabular}{r|ll}\n",
       " Stat & Season\\_2019\\\\\n",
       "\\hline\n",
       "\t Accuracy      & 0.7248491    \\\\\n",
       "\t Best LogLoss  & 0.5318158    \\\\\n",
       "\t Best Quantile & 0.8400000    \\\\\n",
       "\\end{tabular}\n"
      ],
      "text/markdown": [
       "\n",
       "| Stat | Season_2019 |\n",
       "|---|---|\n",
       "| Accuracy      | 0.7248491     |\n",
       "| Best LogLoss  | 0.5318158     |\n",
       "| Best Quantile | 0.8400000     |\n",
       "\n"
      ],
      "text/plain": [
       "  Stat          Season_2019\n",
       "1 Accuracy      0.7248491  \n",
       "2 Best LogLoss  0.5318158  \n",
       "3 Best Quantile 0.8400000  "
      ]
     },
     "metadata": {},
     "output_type": "display_data"
    }
   ],
   "source": [
    "df.train.perf %>% distinct(Season,Acc) %>% spread(Season,Acc,sep='_') %>%\n",
    "    mutate(Stat='Accuracy') %>% select(Stat,everything()) -> tmp01\n",
    "df.train.perf %>% arrange(LogLoss) %>% group_by(Season) %>% slice(1:1) %>% ungroup() %>% \n",
    "    select(Season,LogLoss) %>% spread(Season,LogLoss,sep='_') %>% mutate(Stat='Best LogLoss') %>% select(Stat,everything()) -> tmp02\n",
    "df.train.perf %>% arrange(LogLoss) %>% group_by(Season) %>% slice(1:1) %>% ungroup() %>% \n",
    "    select(Season,qtl) %>% spread(Season,qtl,sep='_') %>% mutate(Stat='Best Quantile') %>% select(Stat,everything()) -> tmp03\n",
    "tmp01 %>% bind_rows(tmp02) %>% bind_rows(tmp03)"
   ]
  },
  {
   "cell_type": "code",
   "execution_count": 25,
   "metadata": {},
   "outputs": [
    {
     "data": {
      "image/png": "[encoded data removed]",
      "text/plain": [
       "plot without title"
      ]
     },
     "metadata": {},
     "output_type": "display_data"
    }
   ],
   "source": [
    "options(repr.plot.width=2, repr.plot.height=4)\n",
    "ggplot(data=df.train.perf,aes(x=qtl,y=LogLoss)) + \n",
    "    geom_point(size=0.5) + \n",
    "    geom_hline(yintercept=0.69,color='red',linetype=\"dotted\") +\n",
    "    facet_grid(. ~ Season)"
   ]
  },
  {
   "cell_type": "markdown",
   "metadata": {},
   "source": [
    "### Tourney matchups performance (validation dataset)"
   ]
  },
  {
   "cell_type": "markdown",
   "metadata": {},
   "source": [
    "#### Load test data"
   ]
  },
  {
   "cell_type": "code",
   "execution_count": 40,
   "metadata": {},
   "outputs": [],
   "source": [
    "data.madnessteams <- read.csv('../2019//NCAATourneySeeds.csv',stringsAsFactors=F)\n",
    "data.madnessteams %>% \n",
    "    filter(Season==2019) %>%\n",
    "    select(TeamID) %>% \n",
    "    mutate(dummy=1) -> data.madnessteams"
   ]
  },
  {
   "cell_type": "code",
   "execution_count": 54,
   "metadata": {},
   "outputs": [],
   "source": [
    "data.madnessteams %>%\n",
    "    full_join(data.madnessteams,by='dummy') %>%\n",
    "    filter(TeamID.x < TeamID.y) %>%\n",
    "    select(-dummy) -> data.matchups "
   ]
  },
  {
   "cell_type": "markdown",
   "metadata": {},
   "source": [
    "#### prepare"
   ]
  },
  {
   "cell_type": "code",
   "execution_count": 56,
   "metadata": {},
   "outputs": [],
   "source": [
    "data.matchups %>%\n",
    "    inner_join(df.ratings,by=c('TeamID.x'='TeamID')) %>%\n",
    "    select(-Offense,-Defense,-Team,-Season) %>%\n",
    "    inner_join(df.ratings,by=c('TeamID.y'='TeamID')) %>% \n",
    "    select(-Offense,-Defense,-Team) -> df.matchups  "
   ]
  },
  {
   "cell_type": "code",
   "execution_count": 57,
   "metadata": {},
   "outputs": [
    {
     "data": {
      "text/html": [
       "<table>\n",
       "<thead><tr><th scope=col>TeamID.x</th><th scope=col>TeamID.y</th><th scope=col>Rating.x</th><th scope=col>Rating.y</th><th scope=col>Season</th></tr></thead>\n",
       "<tbody>\n",
       "\t<tr><td>1181    </td><td>1277    </td><td>16.35624</td><td>15.94483</td><td>2019    </td></tr>\n",
       "\t<tr><td>1181    </td><td>1261    </td><td>16.35624</td><td>15.36977</td><td>2019    </td></tr>\n",
       "\t<tr><td>1181    </td><td>1439    </td><td>16.35624</td><td>15.84544</td><td>2019    </td></tr>\n",
       "\t<tr><td>1181    </td><td>1280    </td><td>16.35624</td><td>15.32671</td><td>2019    </td></tr>\n",
       "\t<tr><td>1181    </td><td>1268    </td><td>16.35624</td><td>15.19677</td><td>2019    </td></tr>\n",
       "\t<tr><td>1181    </td><td>1257    </td><td>16.35624</td><td>15.37857</td><td>2019    </td></tr>\n",
       "</tbody>\n",
       "</table>\n"
      ],
      "text/latex": [
       "\\begin{tabular}{r|lllll}\n",
       " TeamID.x & TeamID.y & Rating.x & Rating.y & Season\\\\\n",
       "\\hline\n",
       "\t 1181     & 1277     & 16.35624 & 15.94483 & 2019    \\\\\n",
       "\t 1181     & 1261     & 16.35624 & 15.36977 & 2019    \\\\\n",
       "\t 1181     & 1439     & 16.35624 & 15.84544 & 2019    \\\\\n",
       "\t 1181     & 1280     & 16.35624 & 15.32671 & 2019    \\\\\n",
       "\t 1181     & 1268     & 16.35624 & 15.19677 & 2019    \\\\\n",
       "\t 1181     & 1257     & 16.35624 & 15.37857 & 2019    \\\\\n",
       "\\end{tabular}\n"
      ],
      "text/markdown": [
       "\n",
       "| TeamID.x | TeamID.y | Rating.x | Rating.y | Season |\n",
       "|---|---|---|---|---|\n",
       "| 1181     | 1277     | 16.35624 | 15.94483 | 2019     |\n",
       "| 1181     | 1261     | 16.35624 | 15.36977 | 2019     |\n",
       "| 1181     | 1439     | 16.35624 | 15.84544 | 2019     |\n",
       "| 1181     | 1280     | 16.35624 | 15.32671 | 2019     |\n",
       "| 1181     | 1268     | 16.35624 | 15.19677 | 2019     |\n",
       "| 1181     | 1257     | 16.35624 | 15.37857 | 2019     |\n",
       "\n"
      ],
      "text/plain": [
       "  TeamID.x TeamID.y Rating.x Rating.y Season\n",
       "1 1181     1277     16.35624 15.94483 2019  \n",
       "2 1181     1261     16.35624 15.36977 2019  \n",
       "3 1181     1439     16.35624 15.84544 2019  \n",
       "4 1181     1280     16.35624 15.32671 2019  \n",
       "5 1181     1268     16.35624 15.19677 2019  \n",
       "6 1181     1257     16.35624 15.37857 2019  "
      ]
     },
     "metadata": {},
     "output_type": "display_data"
    }
   ],
   "source": [
    "df.matchups %>% head"
   ]
  },
  {
   "cell_type": "code",
   "execution_count": 58,
   "metadata": {},
   "outputs": [],
   "source": [
    "# compare 2019 Train LogLoss curve to 2011-2018 Train LogCurve => best match = 2014 | 2018  => Validation QTL ~ 0.61 to 0.65 \n",
    "df.slopes %>% filter(qtl==0.6) %>% pull(Slope) -> Slope"
   ]
  },
  {
   "cell_type": "code",
   "execution_count": 60,
   "metadata": {},
   "outputs": [
    {
     "data": {
      "text/html": [
       "<table>\n",
       "<thead><tr><th scope=col>ID</th><th scope=col>Pred</th><th scope=col>Prob</th></tr></thead>\n",
       "<tbody>\n",
       "\t<tr><td>2019_1101_1113</td><td>0             </td><td>0.336         </td></tr>\n",
       "\t<tr><td>2019_1101_1120</td><td>0             </td><td>0.149         </td></tr>\n",
       "\t<tr><td>2019_1101_1124</td><td>0             </td><td>0.289         </td></tr>\n",
       "\t<tr><td>2019_1101_1125</td><td>0             </td><td>0.319         </td></tr>\n",
       "\t<tr><td>2019_1101_1133</td><td>1             </td><td>0.557         </td></tr>\n",
       "\t<tr><td>2019_1101_1138</td><td>0             </td><td>0.203         </td></tr>\n",
       "</tbody>\n",
       "</table>\n"
      ],
      "text/latex": [
       "\\begin{tabular}{r|lll}\n",
       " ID & Pred & Prob\\\\\n",
       "\\hline\n",
       "\t 2019\\_1101\\_1113 & 0                  & 0.336             \\\\\n",
       "\t 2019\\_1101\\_1120 & 0                  & 0.149             \\\\\n",
       "\t 2019\\_1101\\_1124 & 0                  & 0.289             \\\\\n",
       "\t 2019\\_1101\\_1125 & 0                  & 0.319             \\\\\n",
       "\t 2019\\_1101\\_1133 & 1                  & 0.557             \\\\\n",
       "\t 2019\\_1101\\_1138 & 0                  & 0.203             \\\\\n",
       "\\end{tabular}\n"
      ],
      "text/markdown": [
       "\n",
       "| ID | Pred | Prob |\n",
       "|---|---|---|\n",
       "| 2019_1101_1113 | 0              | 0.336          |\n",
       "| 2019_1101_1120 | 0              | 0.149          |\n",
       "| 2019_1101_1124 | 0              | 0.289          |\n",
       "| 2019_1101_1125 | 0              | 0.319          |\n",
       "| 2019_1101_1133 | 1              | 0.557          |\n",
       "| 2019_1101_1138 | 0              | 0.203          |\n",
       "\n"
      ],
      "text/plain": [
       "  ID             Pred Prob \n",
       "1 2019_1101_1113 0    0.336\n",
       "2 2019_1101_1120 0    0.149\n",
       "3 2019_1101_1124 0    0.289\n",
       "4 2019_1101_1125 0    0.319\n",
       "5 2019_1101_1133 1    0.557\n",
       "6 2019_1101_1138 0    0.203"
      ]
     },
     "metadata": {},
     "output_type": "display_data"
    }
   ],
   "source": [
    "df.matchups %>%\n",
    "    mutate(ID=str_c(Season,'_',TeamID.x,'_',TeamID.y)) %>% \n",
    "    mutate(Prob=logistic(Rating.x-Rating.y,a=Slope)) %>% \n",
    "    mutate(Pred=ifelse(Prob>0.5,1,0)) %>% \n",
    "    mutate(Prob=round(Prob,3)) %>%\n",
    "    mutate_which(Prob>0.95,Prob=0.95) %>%\n",
    "    mutate_which(Prob<0.05,Prob=0.05) %>%\n",
    "    select(ID,Pred,Prob) -> df.submit\n",
    "df.submit %>% arrange(ID) %>% head"
   ]
  },
  {
   "cell_type": "code",
   "execution_count": 62,
   "metadata": {},
   "outputs": [],
   "source": [
    "# save the best results for kaggle submission\n",
    "df.submit %>% \n",
    "    select(ID,Pred=Prob) %>% \n",
    "    write.csv('../predictions_2019/OffDef_ScorePoss_Laplace.csv',quote=F,row.names=F)"
   ]
  },
  {
   "cell_type": "code",
   "execution_count": 63,
   "metadata": {},
   "outputs": [],
   "source": [
    "# save best model for mix\n",
    "df.submit %>%\n",
    "    saveRDS('../predictions_2019/OffDef_ScorePoss_Laplace.rds') "
   ]
  },
  {
   "cell_type": "code",
   "execution_count": null,
   "metadata": {},
   "outputs": [],
   "source": []
  },
  {
   "cell_type": "code",
   "execution_count": null,
   "metadata": {},
   "outputs": [],
   "source": []
  },
  {
   "cell_type": "code",
   "execution_count": null,
   "metadata": {},
   "outputs": [],
   "source": []
  }
 ],
 "metadata": {
  "kernelspec": {
   "display_name": "R 3.5.0",
   "language": "R",
   "name": "ir35"
  },
  "language_info": {
   "codemirror_mode": "r",
   "file_extension": ".r",
   "mimetype": "text/x-r-source",
   "name": "R",
   "pygments_lexer": "r",
   "version": "3.5.1"
  }
 },
 "nbformat": 4,
 "nbformat_minor": 2
}
