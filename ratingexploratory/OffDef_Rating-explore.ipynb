{
 "cells": [
  {
   "cell_type": "markdown",
   "metadata": {},
   "source": [
    "### Offense-Defense Custom Rating"
   ]
  },
  {
   "cell_type": "markdown",
   "metadata": {},
   "source": [
    "#### Libraries"
   ]
  },
  {
   "cell_type": "code",
   "execution_count": 1,
   "metadata": {},
   "outputs": [],
   "source": [
    "# Load required packages\n",
    "library(dplyr,warn.conflicts=F)\n",
    "library(stringr,warn.conflicts=F)\n",
    "library(lplyr,warn.conflicts=F)\n",
    "library(tidyr,warn.conflicts=F)\n",
    "library(tidyimpute,warn.conflicts=F)\n",
    "\n",
    "library(psych,warn.conflicts=F)\n",
    "library(ggplot2,warn.conflicts=F)"
   ]
  },
  {
   "cell_type": "markdown",
   "metadata": {},
   "source": [
    "#### Load 2011+"
   ]
  },
  {
   "cell_type": "code",
   "execution_count": 2,
   "metadata": {},
   "outputs": [],
   "source": [
    "# load the stats\n",
    "data.regulars <- readRDS('../datafiles_rds/RegularSeasonDetailedResults.rds')\n",
    "# keep 2011+\n",
    "data.regulars %>% filter(Season>2010) -> data.regulars"
   ]
  },
  {
   "cell_type": "code",
   "execution_count": 3,
   "metadata": {},
   "outputs": [],
   "source": [
    "# load the stats\n",
    "data.teams <- readRDS('../datafiles_rds/Teams.rds')\n",
    "\n",
    "data.teams %>%\n",
    "    select(TeamID,TeamName) %>%\n",
    "    mutate(TeamName=str_to_lower(TeamName), \n",
    "           TeamName=str_replace_all(TeamName,' ','_'), \n",
    "           TeamName=str_remove_all(TeamName,'&')) -> df.teams"
   ]
  },
  {
   "cell_type": "markdown",
   "metadata": {},
   "source": [
    "#### Prepare data"
   ]
  },
  {
   "cell_type": "code",
   "execution_count": 4,
   "metadata": {},
   "outputs": [
    {
     "name": "stdout",
     "output_type": "stream",
     "text": [
      "42704 34"
     ]
    },
    {
     "data": {
      "text/html": [
       "<table>\n",
       "<thead><tr><th scope=col>Season</th><th scope=col>DayNum</th><th scope=col>WTeamID</th><th scope=col>WScore</th><th scope=col>LTeamID</th><th scope=col>LScore</th><th scope=col>WLoc</th><th scope=col>NumOT</th><th scope=col>WFGM</th><th scope=col>WFGA</th><th scope=col>⋯</th><th scope=col>LFGA3</th><th scope=col>LFTM</th><th scope=col>LFTA</th><th scope=col>LOR</th><th scope=col>LDR</th><th scope=col>LAst</th><th scope=col>LTO</th><th scope=col>LStl</th><th scope=col>LBlk</th><th scope=col>LPF</th></tr></thead>\n",
       "<tbody>\n",
       "\t<tr><td>2011</td><td>7   </td><td>1228</td><td> 79 </td><td>1414</td><td>65  </td><td>H   </td><td>0   </td><td>29  </td><td>58  </td><td>⋯   </td><td>20  </td><td>14  </td><td>22  </td><td>11  </td><td>26  </td><td>12  </td><td>14  </td><td> 7  </td><td>1   </td><td>21  </td></tr>\n",
       "\t<tr><td>2011</td><td>7   </td><td>1268</td><td>105 </td><td>1370</td><td>76  </td><td>H   </td><td>0   </td><td>35  </td><td>62  </td><td>⋯   </td><td>16  </td><td>17  </td><td>22  </td><td>18  </td><td>16  </td><td>11  </td><td>27  </td><td>18  </td><td>1   </td><td>31  </td></tr>\n",
       "\t<tr><td>2011</td><td>7   </td><td>1338</td><td> 83 </td><td>1348</td><td>75  </td><td>H   </td><td>0   </td><td>29  </td><td>64  </td><td>⋯   </td><td>32  </td><td>13  </td><td>16  </td><td>10  </td><td>21  </td><td>16  </td><td>17  </td><td> 7  </td><td>6   </td><td>25  </td></tr>\n",
       "\t<tr><td>2011</td><td>7   </td><td>1400</td><td> 83 </td><td>1298</td><td>52  </td><td>H   </td><td>0   </td><td>30  </td><td>59  </td><td>⋯   </td><td>23  </td><td>10  </td><td>18  </td><td> 8  </td><td>22  </td><td> 8  </td><td>16  </td><td> 5  </td><td>5   </td><td>24  </td></tr>\n",
       "\t<tr><td>2011</td><td>9   </td><td>1228</td><td> 84 </td><td>1405</td><td>45  </td><td>H   </td><td>0   </td><td>37  </td><td>64  </td><td>⋯   </td><td>12  </td><td>10  </td><td>19  </td><td> 6  </td><td>17  </td><td> 9  </td><td>23  </td><td> 6  </td><td>0   </td><td>14  </td></tr>\n",
       "\t<tr><td>2011</td><td>9   </td><td>1268</td><td> 75 </td><td>1158</td><td>74  </td><td>H   </td><td>0   </td><td>34  </td><td>66  </td><td>⋯   </td><td>20  </td><td>16  </td><td>19  </td><td>11  </td><td>25  </td><td>12  </td><td>22  </td><td> 8  </td><td>8   </td><td>19  </td></tr>\n",
       "</tbody>\n",
       "</table>\n"
      ],
      "text/latex": [
       "\\begin{tabular}{r|llllllllllllllllllllllllllllllllll}\n",
       " Season & DayNum & WTeamID & WScore & LTeamID & LScore & WLoc & NumOT & WFGM & WFGA & ⋯ & LFGA3 & LFTM & LFTA & LOR & LDR & LAst & LTO & LStl & LBlk & LPF\\\\\n",
       "\\hline\n",
       "\t 2011 & 7    & 1228 &  79  & 1414 & 65   & H    & 0    & 29   & 58   & ⋯    & 20   & 14   & 22   & 11   & 26   & 12   & 14   &  7   & 1    & 21  \\\\\n",
       "\t 2011 & 7    & 1268 & 105  & 1370 & 76   & H    & 0    & 35   & 62   & ⋯    & 16   & 17   & 22   & 18   & 16   & 11   & 27   & 18   & 1    & 31  \\\\\n",
       "\t 2011 & 7    & 1338 &  83  & 1348 & 75   & H    & 0    & 29   & 64   & ⋯    & 32   & 13   & 16   & 10   & 21   & 16   & 17   &  7   & 6    & 25  \\\\\n",
       "\t 2011 & 7    & 1400 &  83  & 1298 & 52   & H    & 0    & 30   & 59   & ⋯    & 23   & 10   & 18   &  8   & 22   &  8   & 16   &  5   & 5    & 24  \\\\\n",
       "\t 2011 & 9    & 1228 &  84  & 1405 & 45   & H    & 0    & 37   & 64   & ⋯    & 12   & 10   & 19   &  6   & 17   &  9   & 23   &  6   & 0    & 14  \\\\\n",
       "\t 2011 & 9    & 1268 &  75  & 1158 & 74   & H    & 0    & 34   & 66   & ⋯    & 20   & 16   & 19   & 11   & 25   & 12   & 22   &  8   & 8    & 19  \\\\\n",
       "\\end{tabular}\n"
      ],
      "text/markdown": [
       "\n",
       "| Season | DayNum | WTeamID | WScore | LTeamID | LScore | WLoc | NumOT | WFGM | WFGA | ⋯ | LFGA3 | LFTM | LFTA | LOR | LDR | LAst | LTO | LStl | LBlk | LPF |\n",
       "|---|---|---|---|---|---|---|---|---|---|---|---|---|---|---|---|---|---|---|---|---|\n",
       "| 2011 | 7    | 1228 |  79  | 1414 | 65   | H    | 0    | 29   | 58   | ⋯    | 20   | 14   | 22   | 11   | 26   | 12   | 14   |  7   | 1    | 21   |\n",
       "| 2011 | 7    | 1268 | 105  | 1370 | 76   | H    | 0    | 35   | 62   | ⋯    | 16   | 17   | 22   | 18   | 16   | 11   | 27   | 18   | 1    | 31   |\n",
       "| 2011 | 7    | 1338 |  83  | 1348 | 75   | H    | 0    | 29   | 64   | ⋯    | 32   | 13   | 16   | 10   | 21   | 16   | 17   |  7   | 6    | 25   |\n",
       "| 2011 | 7    | 1400 |  83  | 1298 | 52   | H    | 0    | 30   | 59   | ⋯    | 23   | 10   | 18   |  8   | 22   |  8   | 16   |  5   | 5    | 24   |\n",
       "| 2011 | 9    | 1228 |  84  | 1405 | 45   | H    | 0    | 37   | 64   | ⋯    | 12   | 10   | 19   |  6   | 17   |  9   | 23   |  6   | 0    | 14   |\n",
       "| 2011 | 9    | 1268 |  75  | 1158 | 74   | H    | 0    | 34   | 66   | ⋯    | 20   | 16   | 19   | 11   | 25   | 12   | 22   |  8   | 8    | 19   |\n",
       "\n"
      ],
      "text/plain": [
       "  Season DayNum WTeamID WScore LTeamID LScore WLoc NumOT WFGM WFGA ⋯ LFGA3 LFTM\n",
       "1 2011   7      1228     79    1414    65     H    0     29   58   ⋯ 20    14  \n",
       "2 2011   7      1268    105    1370    76     H    0     35   62   ⋯ 16    17  \n",
       "3 2011   7      1338     83    1348    75     H    0     29   64   ⋯ 32    13  \n",
       "4 2011   7      1400     83    1298    52     H    0     30   59   ⋯ 23    10  \n",
       "5 2011   9      1228     84    1405    45     H    0     37   64   ⋯ 12    10  \n",
       "6 2011   9      1268     75    1158    74     H    0     34   66   ⋯ 20    16  \n",
       "  LFTA LOR LDR LAst LTO LStl LBlk LPF\n",
       "1 22   11  26  12   14   7   1    21 \n",
       "2 22   18  16  11   27  18   1    31 \n",
       "3 16   10  21  16   17   7   6    25 \n",
       "4 18    8  22   8   16   5   5    24 \n",
       "5 19    6  17   9   23   6   0    14 \n",
       "6 19   11  25  12   22   8   8    19 "
      ]
     },
     "metadata": {},
     "output_type": "display_data"
    }
   ],
   "source": [
    "data.regulars %>% dim %>% cat\n",
    "data.regulars %>% head"
   ]
  },
  {
   "cell_type": "raw",
   "metadata": {},
   "source": [
    "data.regulars %>%\n",
    "    select_at(vars(Season,DayNum,starts_with('W'),OTeamID=LTeamID)) %>% \n",
    "    rename_at(vars(starts_with('W')),list(~str_remove(.,'W'))) -> group1\n",
    "data.regulars %>%\n",
    "    select_at(vars(Season,DayNum,starts_with('L'),LLoc=WLoc,OTeamID=WTeamID)) %>% \n",
    "    rename_at(vars(starts_with('L')),list(~str_remove(.,'L'))) %>%\n",
    "    mutate(Loc=case_when(Loc=='H' ~ 'A', Loc=='A' ~ 'H', TRUE ~ 'N')) -> group2\n",
    "group1 %>% bind_rows(group2) -> df.regulars\n",
    "remove(list=c('group1','group2'))"
   ]
  },
  {
   "cell_type": "code",
   "execution_count": 5,
   "metadata": {},
   "outputs": [],
   "source": [
    "data.regulars %>% \n",
    "    rename_at(vars(starts_with('L')),list(~str_replace(.,'L','O'))) %>%\n",
    "    rename_at(vars(starts_with('W')),list(~str_remove(.,'W'))) %>%\n",
    "    mutate(OLoc=case_when(Loc=='H' ~ 'A', Loc=='A' ~ 'H', TRUE ~ 'N')) -> group1\n",
    "data.regulars %>% \n",
    "    rename_at(vars(starts_with('L')),list(~str_remove(.,'L'))) %>%\n",
    "    rename_at(vars(starts_with('W')),list(~str_replace(.,'W','O'))) %>%\n",
    "    mutate(Loc=case_when(OLoc=='H' ~ 'A', OLoc=='A' ~ 'H', TRUE ~ 'N')) -> group2\n",
    "group1 %>% bind_rows(group2) -> df.regulars"
   ]
  },
  {
   "cell_type": "code",
   "execution_count": 6,
   "metadata": {},
   "outputs": [
    {
     "name": "stdout",
     "output_type": "stream",
     "text": [
      "85408 35 \n"
     ]
    },
    {
     "data": {
      "text/html": [
       "<table>\n",
       "<thead><tr><th scope=col>Season</th><th scope=col>DayNum</th><th scope=col>TeamID</th><th scope=col>Score</th><th scope=col>OTeamID</th><th scope=col>OScore</th><th scope=col>Loc</th><th scope=col>NumOT</th><th scope=col>FGM</th><th scope=col>FGA</th><th scope=col>⋯</th><th scope=col>OFTM</th><th scope=col>OFTA</th><th scope=col>OOR</th><th scope=col>ODR</th><th scope=col>OAst</th><th scope=col>OTO</th><th scope=col>OStl</th><th scope=col>OBlk</th><th scope=col>OPF</th><th scope=col>OLoc</th></tr></thead>\n",
       "<tbody>\n",
       "\t<tr><td>2011</td><td>7   </td><td>1228</td><td> 79 </td><td>1414</td><td> 65 </td><td>H   </td><td>0   </td><td>29  </td><td>58  </td><td>⋯   </td><td>14  </td><td>22  </td><td>11  </td><td>26  </td><td>12  </td><td>14  </td><td> 7  </td><td>1   </td><td>21  </td><td>A   </td></tr>\n",
       "\t<tr><td>2011</td><td>7   </td><td>1268</td><td>105 </td><td>1370</td><td> 76 </td><td>H   </td><td>0   </td><td>35  </td><td>62  </td><td>⋯   </td><td>17  </td><td>22  </td><td>18  </td><td>16  </td><td>11  </td><td>27  </td><td>18  </td><td>1   </td><td>31  </td><td>A   </td></tr>\n",
       "\t<tr><td>2011</td><td>7   </td><td>1338</td><td> 83 </td><td>1348</td><td> 75 </td><td>H   </td><td>0   </td><td>29  </td><td>64  </td><td>⋯   </td><td>13  </td><td>16  </td><td>10  </td><td>21  </td><td>16  </td><td>17  </td><td> 7  </td><td>6   </td><td>25  </td><td>A   </td></tr>\n",
       "\t<tr><td>2011</td><td>7   </td><td>1400</td><td> 83 </td><td>1298</td><td> 52 </td><td>H   </td><td>0   </td><td>30  </td><td>59  </td><td>⋯   </td><td>10  </td><td>18  </td><td> 8  </td><td>22  </td><td> 8  </td><td>16  </td><td> 5  </td><td>5   </td><td>24  </td><td>A   </td></tr>\n",
       "\t<tr><td>2011</td><td>7   </td><td>1414</td><td> 65 </td><td>1228</td><td> 79 </td><td>A   </td><td>0   </td><td>22  </td><td>63  </td><td>⋯   </td><td>13  </td><td>23  </td><td> 9  </td><td>30  </td><td>17  </td><td>14  </td><td> 9  </td><td>8   </td><td>22  </td><td>H   </td></tr>\n",
       "\t<tr><td>2011</td><td>7   </td><td>1370</td><td> 76 </td><td>1268</td><td>105 </td><td>A   </td><td>0   </td><td>28  </td><td>77  </td><td>⋯   </td><td>33  </td><td>41  </td><td>17  </td><td>33  </td><td>23  </td><td>29  </td><td> 9  </td><td>9   </td><td>20  </td><td>H   </td></tr>\n",
       "</tbody>\n",
       "</table>\n"
      ],
      "text/latex": [
       "\\begin{tabular}{r|lllllllllllllllllllllllllllllllllll}\n",
       " Season & DayNum & TeamID & Score & OTeamID & OScore & Loc & NumOT & FGM & FGA & ⋯ & OFTM & OFTA & OOR & ODR & OAst & OTO & OStl & OBlk & OPF & OLoc\\\\\n",
       "\\hline\n",
       "\t 2011 & 7    & 1228 &  79  & 1414 &  65  & H    & 0    & 29   & 58   & ⋯    & 14   & 22   & 11   & 26   & 12   & 14   &  7   & 1    & 21   & A   \\\\\n",
       "\t 2011 & 7    & 1268 & 105  & 1370 &  76  & H    & 0    & 35   & 62   & ⋯    & 17   & 22   & 18   & 16   & 11   & 27   & 18   & 1    & 31   & A   \\\\\n",
       "\t 2011 & 7    & 1338 &  83  & 1348 &  75  & H    & 0    & 29   & 64   & ⋯    & 13   & 16   & 10   & 21   & 16   & 17   &  7   & 6    & 25   & A   \\\\\n",
       "\t 2011 & 7    & 1400 &  83  & 1298 &  52  & H    & 0    & 30   & 59   & ⋯    & 10   & 18   &  8   & 22   &  8   & 16   &  5   & 5    & 24   & A   \\\\\n",
       "\t 2011 & 7    & 1414 &  65  & 1228 &  79  & A    & 0    & 22   & 63   & ⋯    & 13   & 23   &  9   & 30   & 17   & 14   &  9   & 8    & 22   & H   \\\\\n",
       "\t 2011 & 7    & 1370 &  76  & 1268 & 105  & A    & 0    & 28   & 77   & ⋯    & 33   & 41   & 17   & 33   & 23   & 29   &  9   & 9    & 20   & H   \\\\\n",
       "\\end{tabular}\n"
      ],
      "text/markdown": [
       "\n",
       "| Season | DayNum | TeamID | Score | OTeamID | OScore | Loc | NumOT | FGM | FGA | ⋯ | OFTM | OFTA | OOR | ODR | OAst | OTO | OStl | OBlk | OPF | OLoc |\n",
       "|---|---|---|---|---|---|---|---|---|---|---|---|---|---|---|---|---|---|---|---|---|\n",
       "| 2011 | 7    | 1228 |  79  | 1414 |  65  | H    | 0    | 29   | 58   | ⋯    | 14   | 22   | 11   | 26   | 12   | 14   |  7   | 1    | 21   | A    |\n",
       "| 2011 | 7    | 1268 | 105  | 1370 |  76  | H    | 0    | 35   | 62   | ⋯    | 17   | 22   | 18   | 16   | 11   | 27   | 18   | 1    | 31   | A    |\n",
       "| 2011 | 7    | 1338 |  83  | 1348 |  75  | H    | 0    | 29   | 64   | ⋯    | 13   | 16   | 10   | 21   | 16   | 17   |  7   | 6    | 25   | A    |\n",
       "| 2011 | 7    | 1400 |  83  | 1298 |  52  | H    | 0    | 30   | 59   | ⋯    | 10   | 18   |  8   | 22   |  8   | 16   |  5   | 5    | 24   | A    |\n",
       "| 2011 | 7    | 1414 |  65  | 1228 |  79  | A    | 0    | 22   | 63   | ⋯    | 13   | 23   |  9   | 30   | 17   | 14   |  9   | 8    | 22   | H    |\n",
       "| 2011 | 7    | 1370 |  76  | 1268 | 105  | A    | 0    | 28   | 77   | ⋯    | 33   | 41   | 17   | 33   | 23   | 29   |  9   | 9    | 20   | H    |\n",
       "\n"
      ],
      "text/plain": [
       "  Season DayNum TeamID Score OTeamID OScore Loc NumOT FGM FGA ⋯ OFTM OFTA OOR\n",
       "1 2011   7      1228    79   1414     65    H   0     29  58  ⋯ 14   22   11 \n",
       "2 2011   7      1268   105   1370     76    H   0     35  62  ⋯ 17   22   18 \n",
       "3 2011   7      1338    83   1348     75    H   0     29  64  ⋯ 13   16   10 \n",
       "4 2011   7      1400    83   1298     52    H   0     30  59  ⋯ 10   18    8 \n",
       "5 2011   7      1414    65   1228     79    A   0     22  63  ⋯ 13   23    9 \n",
       "6 2011   7      1370    76   1268    105    A   0     28  77  ⋯ 33   41   17 \n",
       "  ODR OAst OTO OStl OBlk OPF OLoc\n",
       "1 26  12   14   7   1    21  A   \n",
       "2 16  11   27  18   1    31  A   \n",
       "3 21  16   17   7   6    25  A   \n",
       "4 22   8   16   5   5    24  A   \n",
       "5 30  17   14   9   8    22  H   \n",
       "6 33  23   29   9   9    20  H   "
      ]
     },
     "metadata": {},
     "output_type": "display_data"
    }
   ],
   "source": [
    "df.regulars %>% dim %>% cat('\\n')\n",
    "df.regulars %>% arrange(Season,DayNum) %>% head"
   ]
  },
  {
   "cell_type": "code",
   "execution_count": 7,
   "metadata": {},
   "outputs": [],
   "source": [
    "df.regulars %>%\n",
    "    left_join(df.teams %>% rename(OTeamName=TeamName),by=c('OTeamID'='TeamID')) %>%\n",
    "    left_join(df.teams,by='TeamID') -> df.regulars"
   ]
  },
  {
   "cell_type": "code",
   "execution_count": 8,
   "metadata": {},
   "outputs": [
    {
     "data": {
      "text/html": [
       "<table>\n",
       "<thead><tr><th scope=col>Season</th><th scope=col>DayNum</th><th scope=col>WTeamID</th><th scope=col>WScore</th><th scope=col>LTeamID</th><th scope=col>LScore</th><th scope=col>WLoc</th><th scope=col>NumOT</th></tr></thead>\n",
       "<tbody>\n",
       "\t<tr><td>2014</td><td>4   </td><td>1103</td><td>72  </td><td>1157</td><td>63  </td><td>H   </td><td>0   </td></tr>\n",
       "</tbody>\n",
       "</table>\n"
      ],
      "text/latex": [
       "\\begin{tabular}{r|llllllll}\n",
       " Season & DayNum & WTeamID & WScore & LTeamID & LScore & WLoc & NumOT\\\\\n",
       "\\hline\n",
       "\t 2014 & 4    & 1103 & 72   & 1157 & 63   & H    & 0   \\\\\n",
       "\\end{tabular}\n"
      ],
      "text/markdown": [
       "\n",
       "| Season | DayNum | WTeamID | WScore | LTeamID | LScore | WLoc | NumOT |\n",
       "|---|---|---|---|---|---|---|---|\n",
       "| 2014 | 4    | 1103 | 72   | 1157 | 63   | H    | 0    |\n",
       "\n"
      ],
      "text/plain": [
       "  Season DayNum WTeamID WScore LTeamID LScore WLoc NumOT\n",
       "1 2014   4      1103    72     1157    63     H    0    "
      ]
     },
     "metadata": {},
     "output_type": "display_data"
    },
    {
     "data": {
      "text/html": [
       "<table>\n",
       "<thead><tr><th scope=col>Season</th><th scope=col>DayNum</th><th scope=col>TeamID</th><th scope=col>Score</th><th scope=col>OTeamID</th><th scope=col>OScore</th><th scope=col>Loc</th><th scope=col>NumOT</th><th scope=col>FGM</th><th scope=col>FGA</th><th scope=col>⋯</th><th scope=col>OOR</th><th scope=col>ODR</th><th scope=col>OAst</th><th scope=col>OTO</th><th scope=col>OStl</th><th scope=col>OBlk</th><th scope=col>OPF</th><th scope=col>OLoc</th><th scope=col>OTeamName</th><th scope=col>TeamName</th></tr></thead>\n",
       "<tbody>\n",
       "\t<tr><td>2014       </td><td>4          </td><td>1103       </td><td>72         </td><td>1157       </td><td>63         </td><td>H          </td><td>0          </td><td>25         </td><td>59         </td><td>⋯          </td><td>15         </td><td>22         </td><td> 6         </td><td>20         </td><td> 8         </td><td>4          </td><td>22         </td><td>A          </td><td>coastal_car</td><td>akron      </td></tr>\n",
       "\t<tr><td>2014       </td><td>4          </td><td>1157       </td><td>63         </td><td>1103       </td><td>72         </td><td>A          </td><td>0          </td><td>23         </td><td>59         </td><td>⋯          </td><td>14         </td><td>24         </td><td>10         </td><td>17         </td><td>13         </td><td>5          </td><td>18         </td><td>H          </td><td>akron      </td><td>coastal_car</td></tr>\n",
       "</tbody>\n",
       "</table>\n"
      ],
      "text/latex": [
       "\\begin{tabular}{r|lllllllllllllllllllllllllllllllllllll}\n",
       " Season & DayNum & TeamID & Score & OTeamID & OScore & Loc & NumOT & FGM & FGA & ⋯ & OOR & ODR & OAst & OTO & OStl & OBlk & OPF & OLoc & OTeamName & TeamName\\\\\n",
       "\\hline\n",
       "\t 2014          & 4             & 1103          & 72            & 1157          & 63            & H             & 0             & 25            & 59            & ⋯             & 15            & 22            &  6            & 20            &  8            & 4             & 22            & A             & coastal\\_car & akron        \\\\\n",
       "\t 2014          & 4             & 1157          & 63            & 1103          & 72            & A             & 0             & 23            & 59            & ⋯             & 14            & 24            & 10            & 17            & 13            & 5             & 18            & H             & akron         & coastal\\_car\\\\\n",
       "\\end{tabular}\n"
      ],
      "text/markdown": [
       "\n",
       "| Season | DayNum | TeamID | Score | OTeamID | OScore | Loc | NumOT | FGM | FGA | ⋯ | OOR | ODR | OAst | OTO | OStl | OBlk | OPF | OLoc | OTeamName | TeamName |\n",
       "|---|---|---|---|---|---|---|---|---|---|---|---|---|---|---|---|---|---|---|---|---|\n",
       "| 2014        | 4           | 1103        | 72          | 1157        | 63          | H           | 0           | 25          | 59          | ⋯           | 15          | 22          |  6          | 20          |  8          | 4           | 22          | A           | coastal_car | akron       |\n",
       "| 2014        | 4           | 1157        | 63          | 1103        | 72          | A           | 0           | 23          | 59          | ⋯           | 14          | 24          | 10          | 17          | 13          | 5           | 18          | H           | akron       | coastal_car |\n",
       "\n"
      ],
      "text/plain": [
       "  Season DayNum TeamID Score OTeamID OScore Loc NumOT FGM FGA ⋯ OOR ODR OAst\n",
       "1 2014   4      1103   72    1157    63     H   0     25  59  ⋯ 15  22   6  \n",
       "2 2014   4      1157   63    1103    72     A   0     23  59  ⋯ 14  24  10  \n",
       "  OTO OStl OBlk OPF OLoc OTeamName   TeamName   \n",
       "1 20   8   4    22  A    coastal_car akron      \n",
       "2 17  13   5    18  H    akron       coastal_car"
      ]
     },
     "metadata": {},
     "output_type": "display_data"
    }
   ],
   "source": [
    "# Check\n",
    "data.regulars %>% filter(Season==2014,WTeamID==1103,DayNum==4) %>% select(Season:NumOT)\n",
    "df.regulars %>% filter(TeamID==1103 | OTeamID==1103,DayNum==4,Season==2014)"
   ]
  },
  {
   "cell_type": "markdown",
   "metadata": {},
   "source": [
    "#### Stat matrix"
   ]
  },
  {
   "cell_type": "code",
   "execution_count": 9,
   "metadata": {},
   "outputs": [],
   "source": [
    "CreateMatrix <- function(dataset,stat) {\n",
    "    stat_var <- enquo(stat)\n",
    "    dataset %>% rename(Statistic := !!stat_var) -> dataset\n",
    "    for(i in 2011:2018) {\n",
    "        dataset %>%\n",
    "            filter(Season==i) %>%\n",
    "            select(TeamName,OTeamName,Statistic) %>% \n",
    "            group_by(TeamName,OTeamName) %>% \n",
    "            summarise(Statistic=mean(Statistic)) %>% \n",
    "            ungroup() %>%\n",
    "            spread(TeamName,Statistic) %>% \n",
    "            impute(0.01) %>% \n",
    "            select(-OTeamName) %>% \n",
    "            as.matrix() -> tmp\n",
    "        dataset %>% \n",
    "            filter(Season==i) %>% \n",
    "            distinct(OTeamName) %>% \n",
    "            arrange(OTeamName) %>% \n",
    "            pull(OTeamName) -> vnames\n",
    "        attr(tmp,'dimnames') <- list(vnames,vnames)\n",
    "        assign(paste0('m.stat.',i), tmp, envir=.GlobalEnv)\n",
    "    }\n",
    "}"
   ]
  },
  {
   "cell_type": "raw",
   "metadata": {},
   "source": [
    "dataset <- df.regulars %>% \n",
    "    mutate(Poss=FGA+0.475*FTA-OR+TO,ScorePoss=Score/Poss) %>%\n",
    "    mutate(OPoss=OFGA+0.475*OFTA-OOR+OTO,OScorePoss=OScore/OPoss) %>%\n",
    "    mutate(GmS=(Poss+1)/(Poss+OPoss+2))"
   ]
  },
  {
   "cell_type": "code",
   "execution_count": 10,
   "metadata": {},
   "outputs": [],
   "source": [
    "dataset <- df.regulars %>% \n",
    "    mutate(Poss=FGA+0.475*FTA-OR+TO,ScorePoss=Score/Poss) %>%\n",
    "    mutate(OPoss=OFGA+0.475*OFTA-OOR+OTO,OScorePoss=OScore/OPoss) %>%\n",
    "    mutate(GmS=(ScorePoss+1)/(ScorePoss+OScorePoss+2))"
   ]
  },
  {
   "cell_type": "raw",
   "metadata": {},
   "source": [
    "dataset <- df.regulars %>% \n",
    "    mutate(Part1=FGA+0.4*FTA-1.07*(OR/(OR+ODR))*(FGA-FGM)+TO) %>%\n",
    "    mutate(Part2=OFGA+0.4*OFTA-1.07*(OOR/(OOR+DR))*(OFGA-OFGM)+OTO) %>%\n",
    "    mutate(Poss=(Part1+Part2)/2) %>%\n",
    "    mutate(ScorePoss=Score/Poss)"
   ]
  },
  {
   "cell_type": "raw",
   "metadata": {},
   "source": [
    "dataset <- df.regulars %>% \n",
    "    mutate(FF1=(FGM+0.5*FGM3)/FGA) %>%\n",
    "    mutate(FF2=TO/(FGA+0.475*FTA+TO)) %>%\n",
    "    mutate(FF3=OR/(OR+ODR)) %>%\n",
    "    mutate(FF4=FTM/FGA) %>%\n",
    "    mutate(FFT=0.4*FF1+0.25*FF2+0.2*FF3+0.15*FF4)"
   ]
  },
  {
   "cell_type": "code",
   "execution_count": 11,
   "metadata": {
    "scrolled": false
   },
   "outputs": [
    {
     "data": {
      "text/html": [
       "<table>\n",
       "<thead><tr><th scope=col>Season</th><th scope=col>DayNum</th><th scope=col>TeamID</th><th scope=col>Score</th><th scope=col>OTeamID</th><th scope=col>OScore</th><th scope=col>Loc</th><th scope=col>NumOT</th><th scope=col>FGM</th><th scope=col>FGA</th><th scope=col>⋯</th><th scope=col>OBlk</th><th scope=col>OPF</th><th scope=col>OLoc</th><th scope=col>OTeamName</th><th scope=col>TeamName</th><th scope=col>Poss</th><th scope=col>ScorePoss</th><th scope=col>OPoss</th><th scope=col>OScorePoss</th><th scope=col>GmS</th></tr></thead>\n",
       "<tbody>\n",
       "\t<tr><td>2011          </td><td>7             </td><td>1228          </td><td> 79           </td><td>1414          </td><td>65            </td><td>H             </td><td>0             </td><td>29            </td><td>58            </td><td>⋯             </td><td>1             </td><td>21            </td><td>A             </td><td>uc_irvine     </td><td>illinois      </td><td>73.925        </td><td>1.068651      </td><td>76.450        </td><td>0.8502289     </td><td>0.5278679     </td></tr>\n",
       "\t<tr><td>2011          </td><td>7             </td><td>1268          </td><td>105           </td><td>1370          </td><td>76            </td><td>H             </td><td>0             </td><td>35            </td><td>62            </td><td>⋯             </td><td>1             </td><td>31            </td><td>A             </td><td>seattle       </td><td>maryland      </td><td>93.475        </td><td>1.123295      </td><td>96.450        </td><td>0.7879730     </td><td>0.5428661     </td></tr>\n",
       "\t<tr><td>2011          </td><td>7             </td><td>1338          </td><td> 83           </td><td>1348          </td><td>75            </td><td>H             </td><td>0             </td><td>29            </td><td>64            </td><td>⋯             </td><td>6             </td><td>25            </td><td>A             </td><td>rhode_island  </td><td>pittsburgh    </td><td>74.250        </td><td>1.117845      </td><td>74.600        </td><td>1.0053619     </td><td>0.5136403     </td></tr>\n",
       "\t<tr><td>2011          </td><td>7             </td><td>1400          </td><td> 83           </td><td>1298          </td><td>52            </td><td>H             </td><td>0             </td><td>30            </td><td>59            </td><td>⋯             </td><td>5             </td><td>24            </td><td>A             </td><td>navy          </td><td>texas         </td><td>79.150        </td><td>1.048642      </td><td>79.550        </td><td>0.6536769     </td><td>0.5533402     </td></tr>\n",
       "\t<tr><td>2011          </td><td>9             </td><td>1228          </td><td> 84           </td><td>1405          </td><td>45            </td><td>H             </td><td>0             </td><td>37            </td><td>64            </td><td>⋯             </td><td>0             </td><td>14            </td><td>A             </td><td>toledo        </td><td>illinois      </td><td>70.850        </td><td>1.185603      </td><td>71.025        </td><td>0.6335797     </td><td>0.5722699     </td></tr>\n",
       "\t<tr><td>2011          </td><td>9             </td><td>1268          </td><td> 75           </td><td>1158          </td><td>74            </td><td>H             </td><td>0             </td><td>34            </td><td>66            </td><td>⋯             </td><td>8             </td><td>19            </td><td>A             </td><td>col_charleston</td><td>maryland      </td><td>77.550        </td><td>0.967118      </td><td>76.025        </td><td>0.9733640     </td><td>0.4992075     </td></tr>\n",
       "</tbody>\n",
       "</table>\n"
      ],
      "text/latex": [
       "\\begin{tabular}{r|llllllllllllllllllllllllllllllllllllllllll}\n",
       " Season & DayNum & TeamID & Score & OTeamID & OScore & Loc & NumOT & FGM & FGA & ⋯ & OBlk & OPF & OLoc & OTeamName & TeamName & Poss & ScorePoss & OPoss & OScorePoss & GmS\\\\\n",
       "\\hline\n",
       "\t 2011             & 7                & 1228             &  79              & 1414             & 65               & H                & 0                & 29               & 58               & ⋯                & 1                & 21               & A                & uc\\_irvine      & illinois         & 73.925           & 1.068651         & 76.450           & 0.8502289        & 0.5278679       \\\\\n",
       "\t 2011           & 7              & 1268           & 105            & 1370           & 76             & H              & 0              & 35             & 62             & ⋯              & 1              & 31             & A              & seattle        & maryland       & 93.475         & 1.123295       & 96.450         & 0.7879730      & 0.5428661     \\\\\n",
       "\t 2011             & 7                & 1338             &  83              & 1348             & 75               & H                & 0                & 29               & 64               & ⋯                & 6                & 25               & A                & rhode\\_island   & pittsburgh       & 74.250           & 1.117845         & 74.600           & 1.0053619        & 0.5136403       \\\\\n",
       "\t 2011           & 7              & 1400           &  83            & 1298           & 52             & H              & 0              & 30             & 59             & ⋯              & 5              & 24             & A              & navy           & texas          & 79.150         & 1.048642       & 79.550         & 0.6536769      & 0.5533402     \\\\\n",
       "\t 2011           & 9              & 1228           &  84            & 1405           & 45             & H              & 0              & 37             & 64             & ⋯              & 0              & 14             & A              & toledo         & illinois       & 70.850         & 1.185603       & 71.025         & 0.6335797      & 0.5722699     \\\\\n",
       "\t 2011             & 9                & 1268             &  75              & 1158             & 74               & H                & 0                & 34               & 66               & ⋯                & 8                & 19               & A                & col\\_charleston & maryland         & 77.550           & 0.967118         & 76.025           & 0.9733640        & 0.4992075       \\\\\n",
       "\\end{tabular}\n"
      ],
      "text/markdown": [
       "\n",
       "| Season | DayNum | TeamID | Score | OTeamID | OScore | Loc | NumOT | FGM | FGA | ⋯ | OBlk | OPF | OLoc | OTeamName | TeamName | Poss | ScorePoss | OPoss | OScorePoss | GmS |\n",
       "|---|---|---|---|---|---|---|---|---|---|---|---|---|---|---|---|---|---|---|---|---|\n",
       "| 2011           | 7              | 1228           |  79            | 1414           | 65             | H              | 0              | 29             | 58             | ⋯              | 1              | 21             | A              | uc_irvine      | illinois       | 73.925         | 1.068651       | 76.450         | 0.8502289      | 0.5278679      |\n",
       "| 2011           | 7              | 1268           | 105            | 1370           | 76             | H              | 0              | 35             | 62             | ⋯              | 1              | 31             | A              | seattle        | maryland       | 93.475         | 1.123295       | 96.450         | 0.7879730      | 0.5428661      |\n",
       "| 2011           | 7              | 1338           |  83            | 1348           | 75             | H              | 0              | 29             | 64             | ⋯              | 6              | 25             | A              | rhode_island   | pittsburgh     | 74.250         | 1.117845       | 74.600         | 1.0053619      | 0.5136403      |\n",
       "| 2011           | 7              | 1400           |  83            | 1298           | 52             | H              | 0              | 30             | 59             | ⋯              | 5              | 24             | A              | navy           | texas          | 79.150         | 1.048642       | 79.550         | 0.6536769      | 0.5533402      |\n",
       "| 2011           | 9              | 1228           |  84            | 1405           | 45             | H              | 0              | 37             | 64             | ⋯              | 0              | 14             | A              | toledo         | illinois       | 70.850         | 1.185603       | 71.025         | 0.6335797      | 0.5722699      |\n",
       "| 2011           | 9              | 1268           |  75            | 1158           | 74             | H              | 0              | 34             | 66             | ⋯              | 8              | 19             | A              | col_charleston | maryland       | 77.550         | 0.967118       | 76.025         | 0.9733640      | 0.4992075      |\n",
       "\n"
      ],
      "text/plain": [
       "  Season DayNum TeamID Score OTeamID OScore Loc NumOT FGM FGA ⋯ OBlk OPF OLoc\n",
       "1 2011   7      1228    79   1414    65     H   0     29  58  ⋯ 1    21  A   \n",
       "2 2011   7      1268   105   1370    76     H   0     35  62  ⋯ 1    31  A   \n",
       "3 2011   7      1338    83   1348    75     H   0     29  64  ⋯ 6    25  A   \n",
       "4 2011   7      1400    83   1298    52     H   0     30  59  ⋯ 5    24  A   \n",
       "5 2011   9      1228    84   1405    45     H   0     37  64  ⋯ 0    14  A   \n",
       "6 2011   9      1268    75   1158    74     H   0     34  66  ⋯ 8    19  A   \n",
       "  OTeamName      TeamName   Poss   ScorePoss OPoss  OScorePoss GmS      \n",
       "1 uc_irvine      illinois   73.925 1.068651  76.450 0.8502289  0.5278679\n",
       "2 seattle        maryland   93.475 1.123295  96.450 0.7879730  0.5428661\n",
       "3 rhode_island   pittsburgh 74.250 1.117845  74.600 1.0053619  0.5136403\n",
       "4 navy           texas      79.150 1.048642  79.550 0.6536769  0.5533402\n",
       "5 toledo         illinois   70.850 1.185603  71.025 0.6335797  0.5722699\n",
       "6 col_charleston maryland   77.550 0.967118  76.025 0.9733640  0.4992075"
      ]
     },
     "metadata": {},
     "output_type": "display_data"
    }
   ],
   "source": [
    "dataset %>% head"
   ]
  },
  {
   "cell_type": "code",
   "execution_count": 12,
   "metadata": {},
   "outputs": [],
   "source": [
    "CreateMatrix(dataset,GmS)\n",
    "#CreateMatrix(df.regulars,Score)"
   ]
  },
  {
   "cell_type": "markdown",
   "metadata": {},
   "source": [
    "####  Offense-Defense Rating"
   ]
  },
  {
   "cell_type": "code",
   "execution_count": 13,
   "metadata": {},
   "outputs": [],
   "source": [
    "ComputeRating <- function(A) {\n",
    "    dnow <- rep(1,nrow(A))\n",
    "    for(i in 1:100) {\n",
    "        dprev <- dnow\n",
    "        dnow <- A %*% (1/(t(A) %*% (1/dprev)))\n",
    "    }\n",
    "    rdef <- as.vector(dnow)\n",
    "    roff <- as.vector(t(A) %*% (1/rdef))\n",
    "    rating <- as.vector(roff / rdef)\n",
    "    data.frame(Team=attr(A,'dimnames')[[2]],Rating=rating,Offense=roff,Defense=rdef)\n",
    "}"
   ]
  },
  {
   "cell_type": "code",
   "execution_count": 14,
   "metadata": {},
   "outputs": [],
   "source": [
    "ComputeRating(m.stat.2011) %>% mutate(Season=2011) %>% mutate_if(is.factor,as.character) -> tmp2011\n",
    "ComputeRating(m.stat.2012) %>% mutate(Season=2012) %>% mutate_if(is.factor,as.character) -> tmp2012\n",
    "ComputeRating(m.stat.2013) %>% mutate(Season=2013) %>% mutate_if(is.factor,as.character) -> tmp2013\n",
    "ComputeRating(m.stat.2014) %>% mutate(Season=2014) %>% mutate_if(is.factor,as.character) -> tmp2014\n",
    "ComputeRating(m.stat.2015) %>% mutate(Season=2015) %>% mutate_if(is.factor,as.character) -> tmp2015\n",
    "ComputeRating(m.stat.2016) %>% mutate(Season=2016) %>% mutate_if(is.factor,as.character) -> tmp2016\n",
    "ComputeRating(m.stat.2017) %>% mutate(Season=2017) %>% mutate_if(is.factor,as.character) -> tmp2017\n",
    "ComputeRating(m.stat.2018) %>% mutate(Season=2018) %>% mutate_if(is.factor,as.character) -> tmp2018\n",
    "\n",
    "tmp2011 %>% \n",
    "    bind_rows(tmp2012) %>% \n",
    "    bind_rows(tmp2013) %>% \n",
    "    bind_rows(tmp2014) %>% \n",
    "    bind_rows(tmp2015) %>% \n",
    "    bind_rows(tmp2016) %>% \n",
    "    bind_rows(tmp2017) %>% \n",
    "    bind_rows(tmp2018) -> df.ratings\n",
    "\n",
    "remove(list=c('tmp2011','tmp2012','tmp2013','tmp2014','tmp2015','tmp2016','tmp2017','tmp2018'))"
   ]
  },
  {
   "cell_type": "code",
   "execution_count": 15,
   "metadata": {},
   "outputs": [
    {
     "data": {
      "text/html": [
       "<table>\n",
       "<thead><tr><th scope=col>Season</th><th scope=col>Team</th><th scope=col>Rating</th><th scope=col>Offense</th><th scope=col>Defense</th></tr></thead>\n",
       "<tbody>\n",
       "\t<tr><td>2011       </td><td>ohio_st    </td><td>16.14552   </td><td>15.72383   </td><td>0.9738821  </td></tr>\n",
       "\t<tr><td>2012       </td><td>ohio_st    </td><td>16.16805   </td><td>16.08383   </td><td>0.9947912  </td></tr>\n",
       "\t<tr><td>2013       </td><td>florida    </td><td>16.34808   </td><td>16.28156   </td><td>0.9959312  </td></tr>\n",
       "\t<tr><td>2014       </td><td>arizona    </td><td>16.12687   </td><td>16.19201   </td><td>1.0040391  </td></tr>\n",
       "\t<tr><td>2015       </td><td>kentucky   </td><td>16.43005   </td><td>16.86496   </td><td>1.0264704  </td></tr>\n",
       "\t<tr><td>2016       </td><td>michigan_st</td><td>15.86044   </td><td>16.41442   </td><td>1.0349286  </td></tr>\n",
       "\t<tr><td>2017       </td><td>gonzaga    </td><td>15.98919   </td><td>14.76997   </td><td>0.9237477  </td></tr>\n",
       "\t<tr><td>2018       </td><td>virginia   </td><td>16.03642   </td><td>16.38571   </td><td>1.0217813  </td></tr>\n",
       "</tbody>\n",
       "</table>\n"
      ],
      "text/latex": [
       "\\begin{tabular}{r|lllll}\n",
       " Season & Team & Rating & Offense & Defense\\\\\n",
       "\\hline\n",
       "\t 2011          & ohio\\_st     & 16.14552      & 15.72383      & 0.9738821    \\\\\n",
       "\t 2012          & ohio\\_st     & 16.16805      & 16.08383      & 0.9947912    \\\\\n",
       "\t 2013        & florida     & 16.34808    & 16.28156    & 0.9959312  \\\\\n",
       "\t 2014        & arizona     & 16.12687    & 16.19201    & 1.0040391  \\\\\n",
       "\t 2015        & kentucky    & 16.43005    & 16.86496    & 1.0264704  \\\\\n",
       "\t 2016          & michigan\\_st & 15.86044      & 16.41442      & 1.0349286    \\\\\n",
       "\t 2017        & gonzaga     & 15.98919    & 14.76997    & 0.9237477  \\\\\n",
       "\t 2018        & virginia    & 16.03642    & 16.38571    & 1.0217813  \\\\\n",
       "\\end{tabular}\n"
      ],
      "text/markdown": [
       "\n",
       "| Season | Team | Rating | Offense | Defense |\n",
       "|---|---|---|---|---|\n",
       "| 2011        | ohio_st     | 16.14552    | 15.72383    | 0.9738821   |\n",
       "| 2012        | ohio_st     | 16.16805    | 16.08383    | 0.9947912   |\n",
       "| 2013        | florida     | 16.34808    | 16.28156    | 0.9959312   |\n",
       "| 2014        | arizona     | 16.12687    | 16.19201    | 1.0040391   |\n",
       "| 2015        | kentucky    | 16.43005    | 16.86496    | 1.0264704   |\n",
       "| 2016        | michigan_st | 15.86044    | 16.41442    | 1.0349286   |\n",
       "| 2017        | gonzaga     | 15.98919    | 14.76997    | 0.9237477   |\n",
       "| 2018        | virginia    | 16.03642    | 16.38571    | 1.0217813   |\n",
       "\n"
      ],
      "text/plain": [
       "  Season Team        Rating   Offense  Defense  \n",
       "1 2011   ohio_st     16.14552 15.72383 0.9738821\n",
       "2 2012   ohio_st     16.16805 16.08383 0.9947912\n",
       "3 2013   florida     16.34808 16.28156 0.9959312\n",
       "4 2014   arizona     16.12687 16.19201 1.0040391\n",
       "5 2015   kentucky    16.43005 16.86496 1.0264704\n",
       "6 2016   michigan_st 15.86044 16.41442 1.0349286\n",
       "7 2017   gonzaga     15.98919 14.76997 0.9237477\n",
       "8 2018   virginia    16.03642 16.38571 1.0217813"
      ]
     },
     "metadata": {},
     "output_type": "display_data"
    }
   ],
   "source": [
    "df.ratings %>% arrange(desc(Rating)) %>% group_by(Season) %>% slice(1:1) %>% ungroup() %>% select(Season,everything())"
   ]
  },
  {
   "cell_type": "markdown",
   "metadata": {},
   "source": [
    "###  Regular seasons performance (train dataset)"
   ]
  },
  {
   "cell_type": "code",
   "execution_count": 16,
   "metadata": {},
   "outputs": [],
   "source": [
    "data.regulars %>% \n",
    "    select(Season,WTeamID,LTeamID) %>%\n",
    "    mutate(TeamID.x = ifelse(WTeamID<LTeamID,WTeamID,LTeamID), \n",
    "           TeamID.y = ifelse(WTeamID<LTeamID,LTeamID,WTeamID),\n",
    "           Target = ifelse(TeamID.x==WTeamID,1,0),\n",
    "           ID=str_c(Season,'_',TeamID.x,'_',TeamID.y)) %>%\n",
    "    select(-WTeamID,-LTeamID) -> df.train"
   ]
  },
  {
   "cell_type": "code",
   "execution_count": 17,
   "metadata": {},
   "outputs": [],
   "source": [
    "df.ratings %>%\n",
    "    left_join(df.teams,by=c('Team'='TeamName')) -> df.ratings"
   ]
  },
  {
   "cell_type": "code",
   "execution_count": 18,
   "metadata": {},
   "outputs": [],
   "source": [
    "df.train %>%\n",
    "    select(-Target,-ID) %>%\n",
    "    inner_join(df.ratings,by=c('Season','TeamID.x'='TeamID')) %>%\n",
    "    select(-Offense,-Defense,-Team) %>%\n",
    "    inner_join(df.ratings,by=c('Season','TeamID.y'='TeamID')) %>% \n",
    "    select(-Offense,-Defense,-Team) -> data.train.matchups"
   ]
  },
  {
   "cell_type": "code",
   "execution_count": 19,
   "metadata": {},
   "outputs": [
    {
     "data": {
      "text/html": [
       "<table>\n",
       "<thead><tr><th scope=col>Season</th><th scope=col>TeamID.x</th><th scope=col>TeamID.y</th><th scope=col>Rating.x</th><th scope=col>Rating.y</th></tr></thead>\n",
       "<tbody>\n",
       "\t<tr><td>2017    </td><td>1238    </td><td>1411    </td><td>13.32279</td><td>13.85035</td></tr>\n",
       "\t<tr><td>2014    </td><td>1124    </td><td>1418    </td><td>15.13266</td><td>14.37742</td></tr>\n",
       "\t<tr><td>2015    </td><td>1140    </td><td>1211    </td><td>14.95414</td><td>15.79509</td></tr>\n",
       "\t<tr><td>2016    </td><td>1241    </td><td>1456    </td><td>14.48161</td><td>14.49505</td></tr>\n",
       "\t<tr><td>2013    </td><td>1142    </td><td>1201    </td><td>14.18198</td><td>14.25359</td></tr>\n",
       "</tbody>\n",
       "</table>\n"
      ],
      "text/latex": [
       "\\begin{tabular}{r|lllll}\n",
       " Season & TeamID.x & TeamID.y & Rating.x & Rating.y\\\\\n",
       "\\hline\n",
       "\t 2017     & 1238     & 1411     & 13.32279 & 13.85035\\\\\n",
       "\t 2014     & 1124     & 1418     & 15.13266 & 14.37742\\\\\n",
       "\t 2015     & 1140     & 1211     & 14.95414 & 15.79509\\\\\n",
       "\t 2016     & 1241     & 1456     & 14.48161 & 14.49505\\\\\n",
       "\t 2013     & 1142     & 1201     & 14.18198 & 14.25359\\\\\n",
       "\\end{tabular}\n"
      ],
      "text/markdown": [
       "\n",
       "| Season | TeamID.x | TeamID.y | Rating.x | Rating.y |\n",
       "|---|---|---|---|---|\n",
       "| 2017     | 1238     | 1411     | 13.32279 | 13.85035 |\n",
       "| 2014     | 1124     | 1418     | 15.13266 | 14.37742 |\n",
       "| 2015     | 1140     | 1211     | 14.95414 | 15.79509 |\n",
       "| 2016     | 1241     | 1456     | 14.48161 | 14.49505 |\n",
       "| 2013     | 1142     | 1201     | 14.18198 | 14.25359 |\n",
       "\n"
      ],
      "text/plain": [
       "  Season TeamID.x TeamID.y Rating.x Rating.y\n",
       "1 2017   1238     1411     13.32279 13.85035\n",
       "2 2014   1124     1418     15.13266 14.37742\n",
       "3 2015   1140     1211     14.95414 15.79509\n",
       "4 2016   1241     1456     14.48161 14.49505\n",
       "5 2013   1142     1201     14.18198 14.25359"
      ]
     },
     "metadata": {},
     "output_type": "display_data"
    }
   ],
   "source": [
    "data.train.matchups %>% sample_n(5)"
   ]
  },
  {
   "cell_type": "code",
   "execution_count": 20,
   "metadata": {},
   "outputs": [
    {
     "data": {
      "text/html": [
       "<table>\n",
       "<thead><tr><th scope=col>Season</th><th scope=col>qtl</th><th scope=col>Slope</th></tr></thead>\n",
       "<tbody>\n",
       "\t<tr><td>2015    </td><td>0.81    </td><td>1.666557</td></tr>\n",
       "\t<tr><td>2013    </td><td>0.86    </td><td>2.237126</td></tr>\n",
       "\t<tr><td>2013    </td><td>0.89    </td><td>2.475017</td></tr>\n",
       "\t<tr><td>2013    </td><td>0.40    </td><td>1.269553</td></tr>\n",
       "\t<tr><td>2011    </td><td>0.88    </td><td>2.628856</td></tr>\n",
       "</tbody>\n",
       "</table>\n"
      ],
      "text/latex": [
       "\\begin{tabular}{r|lll}\n",
       " Season & qtl & Slope\\\\\n",
       "\\hline\n",
       "\t 2015     & 0.81     & 1.666557\\\\\n",
       "\t 2013     & 0.86     & 2.237126\\\\\n",
       "\t 2013     & 0.89     & 2.475017\\\\\n",
       "\t 2013     & 0.40     & 1.269553\\\\\n",
       "\t 2011     & 0.88     & 2.628856\\\\\n",
       "\\end{tabular}\n"
      ],
      "text/markdown": [
       "\n",
       "| Season | qtl | Slope |\n",
       "|---|---|---|\n",
       "| 2015     | 0.81     | 1.666557 |\n",
       "| 2013     | 0.86     | 2.237126 |\n",
       "| 2013     | 0.89     | 2.475017 |\n",
       "| 2013     | 0.40     | 1.269553 |\n",
       "| 2011     | 0.88     | 2.628856 |\n",
       "\n"
      ],
      "text/plain": [
       "  Season qtl  Slope   \n",
       "1 2015   0.81 1.666557\n",
       "2 2013   0.86 2.237126\n",
       "3 2013   0.89 2.475017\n",
       "4 2013   0.40 1.269553\n",
       "5 2011   0.88 2.628856"
      ]
     },
     "metadata": {},
     "output_type": "display_data"
    }
   ],
   "source": [
    "# slope hyper parameter grid : we will compute 80 models and chose the best one (min logloss)\n",
    "df.ratings %>% \n",
    "    mutate(dummy=1) %>% \n",
    "    inner_join(data.frame(qtl=seq(0.01,0.95,0.01),dummy=1),by='dummy') %>% \n",
    "    select(-dummy) %>% \n",
    "    group_by(Season,qtl) %>% \n",
    "    mutate(thres=max(Rating)-quantile(Rating,max(qtl)),Slope=3/thres) %>%\n",
    "    ungroup %>% \n",
    "    select(Season,qtl,Slope) %>% \n",
    "    distinct() -> df.slopes\n",
    "df.slopes %>% sample_n(5)"
   ]
  },
  {
   "cell_type": "code",
   "execution_count": 21,
   "metadata": {},
   "outputs": [
    {
     "name": "stdout",
     "output_type": "stream",
     "text": [
      "4056880 7 \n"
     ]
    },
    {
     "data": {
      "text/html": [
       "<table>\n",
       "<thead><tr><th scope=col>Season</th><th scope=col>TeamID.x</th><th scope=col>TeamID.y</th><th scope=col>Rating.x</th><th scope=col>Rating.y</th><th scope=col>qtl</th><th scope=col>Slope</th></tr></thead>\n",
       "<tbody>\n",
       "\t<tr><td>2012     </td><td>1107     </td><td>1392     </td><td>14.10468 </td><td>14.34717 </td><td>0.04     </td><td>0.9431239</td></tr>\n",
       "\t<tr><td>2016     </td><td>1293     </td><td>1398     </td><td>13.94911 </td><td>14.02681 </td><td>0.28     </td><td>1.3242101</td></tr>\n",
       "\t<tr><td>2014     </td><td>1251     </td><td>1347     </td><td>13.61138 </td><td>13.83547 </td><td>0.84     </td><td>2.4606879</td></tr>\n",
       "\t<tr><td>2018     </td><td>1197     </td><td>1271     </td><td>12.90619 </td><td>12.44416 </td><td>0.45     </td><td>1.4848074</td></tr>\n",
       "\t<tr><td>2012     </td><td>1177     </td><td>1278     </td><td>14.22544 </td><td>14.93399 </td><td>0.13     </td><td>1.0644012</td></tr>\n",
       "</tbody>\n",
       "</table>\n"
      ],
      "text/latex": [
       "\\begin{tabular}{r|lllllll}\n",
       " Season & TeamID.x & TeamID.y & Rating.x & Rating.y & qtl & Slope\\\\\n",
       "\\hline\n",
       "\t 2012      & 1107      & 1392      & 14.10468  & 14.34717  & 0.04      & 0.9431239\\\\\n",
       "\t 2016      & 1293      & 1398      & 13.94911  & 14.02681  & 0.28      & 1.3242101\\\\\n",
       "\t 2014      & 1251      & 1347      & 13.61138  & 13.83547  & 0.84      & 2.4606879\\\\\n",
       "\t 2018      & 1197      & 1271      & 12.90619  & 12.44416  & 0.45      & 1.4848074\\\\\n",
       "\t 2012      & 1177      & 1278      & 14.22544  & 14.93399  & 0.13      & 1.0644012\\\\\n",
       "\\end{tabular}\n"
      ],
      "text/markdown": [
       "\n",
       "| Season | TeamID.x | TeamID.y | Rating.x | Rating.y | qtl | Slope |\n",
       "|---|---|---|---|---|---|---|\n",
       "| 2012      | 1107      | 1392      | 14.10468  | 14.34717  | 0.04      | 0.9431239 |\n",
       "| 2016      | 1293      | 1398      | 13.94911  | 14.02681  | 0.28      | 1.3242101 |\n",
       "| 2014      | 1251      | 1347      | 13.61138  | 13.83547  | 0.84      | 2.4606879 |\n",
       "| 2018      | 1197      | 1271      | 12.90619  | 12.44416  | 0.45      | 1.4848074 |\n",
       "| 2012      | 1177      | 1278      | 14.22544  | 14.93399  | 0.13      | 1.0644012 |\n",
       "\n"
      ],
      "text/plain": [
       "  Season TeamID.x TeamID.y Rating.x Rating.y qtl  Slope    \n",
       "1 2012   1107     1392     14.10468 14.34717 0.04 0.9431239\n",
       "2 2016   1293     1398     13.94911 14.02681 0.28 1.3242101\n",
       "3 2014   1251     1347     13.61138 13.83547 0.84 2.4606879\n",
       "4 2018   1197     1271     12.90619 12.44416 0.45 1.4848074\n",
       "5 2012   1177     1278     14.22544 14.93399 0.13 1.0644012"
      ]
     },
     "metadata": {},
     "output_type": "display_data"
    }
   ],
   "source": [
    "data.train.matchups %>% \n",
    "    inner_join(df.slopes,by=c('Season')) -> data.train.matchups\n",
    "data.train.matchups %>% dim %>% cat('\\n')\n",
    "data.train.matchups %>% sample_n(5)"
   ]
  },
  {
   "cell_type": "code",
   "execution_count": 22,
   "metadata": {},
   "outputs": [
    {
     "data": {
      "text/html": [
       "<table>\n",
       "<thead><tr><th scope=col>Season</th><th scope=col>qtl</th><th scope=col>ID</th><th scope=col>Pred</th><th scope=col>Prob</th></tr></thead>\n",
       "<tbody>\n",
       "\t<tr><td>2018          </td><td>0.71          </td><td>2018_1115_1374</td><td>0             </td><td>0.050         </td></tr>\n",
       "\t<tr><td>2018          </td><td>0.36          </td><td>2018_1423_1456</td><td>0             </td><td>0.346         </td></tr>\n",
       "\t<tr><td>2013          </td><td>0.54          </td><td>2013_1192_1384</td><td>0             </td><td>0.496         </td></tr>\n",
       "\t<tr><td>2014          </td><td>0.09          </td><td>2014_1315_1340</td><td>0             </td><td>0.479         </td></tr>\n",
       "\t<tr><td>2014          </td><td>0.56          </td><td>2014_1162_1189</td><td>1             </td><td>0.690         </td></tr>\n",
       "</tbody>\n",
       "</table>\n"
      ],
      "text/latex": [
       "\\begin{tabular}{r|lllll}\n",
       " Season & qtl & ID & Pred & Prob\\\\\n",
       "\\hline\n",
       "\t 2018               & 0.71               & 2018\\_1115\\_1374 & 0                  & 0.050             \\\\\n",
       "\t 2018               & 0.36               & 2018\\_1423\\_1456 & 0                  & 0.346             \\\\\n",
       "\t 2013               & 0.54               & 2013\\_1192\\_1384 & 0                  & 0.496             \\\\\n",
       "\t 2014               & 0.09               & 2014\\_1315\\_1340 & 0                  & 0.479             \\\\\n",
       "\t 2014               & 0.56               & 2014\\_1162\\_1189 & 1                  & 0.690             \\\\\n",
       "\\end{tabular}\n"
      ],
      "text/markdown": [
       "\n",
       "| Season | qtl | ID | Pred | Prob |\n",
       "|---|---|---|---|---|\n",
       "| 2018           | 0.71           | 2018_1115_1374 | 0              | 0.050          |\n",
       "| 2018           | 0.36           | 2018_1423_1456 | 0              | 0.346          |\n",
       "| 2013           | 0.54           | 2013_1192_1384 | 0              | 0.496          |\n",
       "| 2014           | 0.09           | 2014_1315_1340 | 0              | 0.479          |\n",
       "| 2014           | 0.56           | 2014_1162_1189 | 1              | 0.690          |\n",
       "\n"
      ],
      "text/plain": [
       "  Season qtl  ID             Pred Prob \n",
       "1 2018   0.71 2018_1115_1374 0    0.050\n",
       "2 2018   0.36 2018_1423_1456 0    0.346\n",
       "3 2013   0.54 2013_1192_1384 0    0.496\n",
       "4 2014   0.09 2014_1315_1340 0    0.479\n",
       "5 2014   0.56 2014_1162_1189 1    0.690"
      ]
     },
     "metadata": {},
     "output_type": "display_data"
    }
   ],
   "source": [
    "# machups predictions : compute the winning probability of TeamID.x and cap it into [0.05,0.95] to avoid too much logloss is case of FP or FN \n",
    "data.train.matchups %>% \n",
    "    mutate(ID=str_c(Season,'_',TeamID.x,'_',TeamID.y)) %>% \n",
    "    mutate(Prob=logistic(Rating.x-Rating.y,a=Slope)) %>% \n",
    "    mutate(Pred=ifelse(Prob>0.5,1,0)) %>% \n",
    "    mutate(Prob=round(Prob,3)) %>%\n",
    "    mutate_which(Prob>0.95,Prob=0.95) %>%\n",
    "    mutate_which(Prob<0.05,Prob=0.05) %>%\n",
    "    select(Season,qtl,ID,Pred,Prob) -> df.train.submit\n",
    "df.train.submit %>% sample_n(5)"
   ]
  },
  {
   "cell_type": "code",
   "execution_count": 23,
   "metadata": {},
   "outputs": [],
   "source": [
    "# merge prediction and truth\n",
    "df.train %>% select(ID,Target) -> data.train.truth\n",
    "data.train.truth %>% inner_join(df.train.submit,by='ID') -> df.train.results"
   ]
  },
  {
   "cell_type": "code",
   "execution_count": 24,
   "metadata": {
    "scrolled": false
   },
   "outputs": [
    {
     "data": {
      "text/html": [
       "<table>\n",
       "<thead><tr><th scope=col>Season</th><th scope=col>qtl</th><th scope=col>TC</th><th scope=col>FC</th><th scope=col>N</th><th scope=col>Acc</th><th scope=col>LogLoss</th></tr></thead>\n",
       "<tbody>\n",
       "\t<tr><td>2011     </td><td>0.78     </td><td>6331     </td><td>2291     </td><td>8622     </td><td>0.7342844</td><td>0.5261031</td></tr>\n",
       "\t<tr><td>2012     </td><td>0.77     </td><td>6392     </td><td>2161     </td><td>8553     </td><td>0.7473401</td><td>0.5033792</td></tr>\n",
       "\t<tr><td>2013     </td><td>0.79     </td><td>6388     </td><td>2344     </td><td>8732     </td><td>0.7315621</td><td>0.5281700</td></tr>\n",
       "\t<tr><td>2014     </td><td>0.80     </td><td>6454     </td><td>2394     </td><td>8848     </td><td>0.7294304</td><td>0.5248214</td></tr>\n",
       "\t<tr><td>2015     </td><td>0.90     </td><td>6505     </td><td>2453     </td><td>8958     </td><td>0.7261666</td><td>0.5252180</td></tr>\n",
       "\t<tr><td>2016     </td><td>0.72     </td><td>6590     </td><td>2385     </td><td>8975     </td><td>0.7342618</td><td>0.5260371</td></tr>\n",
       "\t<tr><td>2017     </td><td>0.79     </td><td>6634     </td><td>2379     </td><td>9013     </td><td>0.7360479</td><td>0.5219286</td></tr>\n",
       "\t<tr><td>2018     </td><td>0.72     </td><td>6505     </td><td>2508     </td><td>9013     </td><td>0.7217353</td><td>0.5317344</td></tr>\n",
       "</tbody>\n",
       "</table>\n"
      ],
      "text/latex": [
       "\\begin{tabular}{r|lllllll}\n",
       " Season & qtl & TC & FC & N & Acc & LogLoss\\\\\n",
       "\\hline\n",
       "\t 2011      & 0.78      & 6331      & 2291      & 8622      & 0.7342844 & 0.5261031\\\\\n",
       "\t 2012      & 0.77      & 6392      & 2161      & 8553      & 0.7473401 & 0.5033792\\\\\n",
       "\t 2013      & 0.79      & 6388      & 2344      & 8732      & 0.7315621 & 0.5281700\\\\\n",
       "\t 2014      & 0.80      & 6454      & 2394      & 8848      & 0.7294304 & 0.5248214\\\\\n",
       "\t 2015      & 0.90      & 6505      & 2453      & 8958      & 0.7261666 & 0.5252180\\\\\n",
       "\t 2016      & 0.72      & 6590      & 2385      & 8975      & 0.7342618 & 0.5260371\\\\\n",
       "\t 2017      & 0.79      & 6634      & 2379      & 9013      & 0.7360479 & 0.5219286\\\\\n",
       "\t 2018      & 0.72      & 6505      & 2508      & 9013      & 0.7217353 & 0.5317344\\\\\n",
       "\\end{tabular}\n"
      ],
      "text/markdown": [
       "\n",
       "| Season | qtl | TC | FC | N | Acc | LogLoss |\n",
       "|---|---|---|---|---|---|---|\n",
       "| 2011      | 0.78      | 6331      | 2291      | 8622      | 0.7342844 | 0.5261031 |\n",
       "| 2012      | 0.77      | 6392      | 2161      | 8553      | 0.7473401 | 0.5033792 |\n",
       "| 2013      | 0.79      | 6388      | 2344      | 8732      | 0.7315621 | 0.5281700 |\n",
       "| 2014      | 0.80      | 6454      | 2394      | 8848      | 0.7294304 | 0.5248214 |\n",
       "| 2015      | 0.90      | 6505      | 2453      | 8958      | 0.7261666 | 0.5252180 |\n",
       "| 2016      | 0.72      | 6590      | 2385      | 8975      | 0.7342618 | 0.5260371 |\n",
       "| 2017      | 0.79      | 6634      | 2379      | 9013      | 0.7360479 | 0.5219286 |\n",
       "| 2018      | 0.72      | 6505      | 2508      | 9013      | 0.7217353 | 0.5317344 |\n",
       "\n"
      ],
      "text/plain": [
       "  Season qtl  TC   FC   N    Acc       LogLoss  \n",
       "1 2011   0.78 6331 2291 8622 0.7342844 0.5261031\n",
       "2 2012   0.77 6392 2161 8553 0.7473401 0.5033792\n",
       "3 2013   0.79 6388 2344 8732 0.7315621 0.5281700\n",
       "4 2014   0.80 6454 2394 8848 0.7294304 0.5248214\n",
       "5 2015   0.90 6505 2453 8958 0.7261666 0.5252180\n",
       "6 2016   0.72 6590 2385 8975 0.7342618 0.5260371\n",
       "7 2017   0.79 6634 2379 9013 0.7360479 0.5219286\n",
       "8 2018   0.72 6505 2508 9013 0.7217353 0.5317344"
      ]
     },
     "metadata": {},
     "output_type": "display_data"
    }
   ],
   "source": [
    "# compute accuracy & Logloss per qtl to find the best one per Season\n",
    "df.train.results %>% \n",
    "    mutate(OK=ifelse(Pred==Target,1,0)) %>%\n",
    "    mutate(LogLoss=Target*log(Prob) + (1-Target)*log(1-Prob)) %>%\n",
    "    group_by(Season,qtl) %>%\n",
    "    summarise(TC=sum(OK),N=n(),FC=N-TC,Acc=TC/N,LogLoss=-mean(LogLoss)) %>%\n",
    "    select(Season,qtl,TC,FC,N,Acc,LogLoss) -> df.train.perf\n",
    "df.train.perf %>% arrange(LogLoss) %>% group_by(Season) %>% slice(1:1) %>% ungroup() "
   ]
  },
  {
   "cell_type": "code",
   "execution_count": 25,
   "metadata": {},
   "outputs": [
    {
     "data": {
      "text/html": [
       "<table>\n",
       "<thead><tr><th scope=col>Stat</th><th scope=col>Season_2011</th><th scope=col>Season_2012</th><th scope=col>Season_2013</th><th scope=col>Season_2014</th><th scope=col>Season_2015</th><th scope=col>Season_2016</th><th scope=col>Season_2017</th><th scope=col>Season_2018</th></tr></thead>\n",
       "<tbody>\n",
       "\t<tr><td>Accuracy     </td><td>0.7342844    </td><td>0.7473401    </td><td>0.7315621    </td><td>0.7294304    </td><td>0.7261666    </td><td>0.7342618    </td><td>0.7360479    </td><td>0.7217353    </td></tr>\n",
       "\t<tr><td>Best LogLoss </td><td>0.5261031    </td><td>0.5033792    </td><td>0.5281700    </td><td>0.5248214    </td><td>0.5252180    </td><td>0.5260371    </td><td>0.5219286    </td><td>0.5317344    </td></tr>\n",
       "\t<tr><td>Best Quantile</td><td>0.7800000    </td><td>0.7700000    </td><td>0.7900000    </td><td>0.8000000    </td><td>0.9000000    </td><td>0.7200000    </td><td>0.7900000    </td><td>0.7200000    </td></tr>\n",
       "</tbody>\n",
       "</table>\n"
      ],
      "text/latex": [
       "\\begin{tabular}{r|lllllllll}\n",
       " Stat & Season\\_2011 & Season\\_2012 & Season\\_2013 & Season\\_2014 & Season\\_2015 & Season\\_2016 & Season\\_2017 & Season\\_2018\\\\\n",
       "\\hline\n",
       "\t Accuracy      & 0.7342844     & 0.7473401     & 0.7315621     & 0.7294304     & 0.7261666     & 0.7342618     & 0.7360479     & 0.7217353    \\\\\n",
       "\t Best LogLoss  & 0.5261031     & 0.5033792     & 0.5281700     & 0.5248214     & 0.5252180     & 0.5260371     & 0.5219286     & 0.5317344    \\\\\n",
       "\t Best Quantile & 0.7800000     & 0.7700000     & 0.7900000     & 0.8000000     & 0.9000000     & 0.7200000     & 0.7900000     & 0.7200000    \\\\\n",
       "\\end{tabular}\n"
      ],
      "text/markdown": [
       "\n",
       "| Stat | Season_2011 | Season_2012 | Season_2013 | Season_2014 | Season_2015 | Season_2016 | Season_2017 | Season_2018 |\n",
       "|---|---|---|---|---|---|---|---|---|\n",
       "| Accuracy      | 0.7342844     | 0.7473401     | 0.7315621     | 0.7294304     | 0.7261666     | 0.7342618     | 0.7360479     | 0.7217353     |\n",
       "| Best LogLoss  | 0.5261031     | 0.5033792     | 0.5281700     | 0.5248214     | 0.5252180     | 0.5260371     | 0.5219286     | 0.5317344     |\n",
       "| Best Quantile | 0.7800000     | 0.7700000     | 0.7900000     | 0.8000000     | 0.9000000     | 0.7200000     | 0.7900000     | 0.7200000     |\n",
       "\n"
      ],
      "text/plain": [
       "  Stat          Season_2011 Season_2012 Season_2013 Season_2014 Season_2015\n",
       "1 Accuracy      0.7342844   0.7473401   0.7315621   0.7294304   0.7261666  \n",
       "2 Best LogLoss  0.5261031   0.5033792   0.5281700   0.5248214   0.5252180  \n",
       "3 Best Quantile 0.7800000   0.7700000   0.7900000   0.8000000   0.9000000  \n",
       "  Season_2016 Season_2017 Season_2018\n",
       "1 0.7342618   0.7360479   0.7217353  \n",
       "2 0.5260371   0.5219286   0.5317344  \n",
       "3 0.7200000   0.7900000   0.7200000  "
      ]
     },
     "metadata": {},
     "output_type": "display_data"
    }
   ],
   "source": [
    "df.train.perf %>% distinct(Season,Acc) %>% spread(Season,Acc,sep='_') %>%\n",
    "    mutate(Stat='Accuracy') %>% select(Stat,everything()) -> tmp01\n",
    "df.train.perf %>% arrange(LogLoss) %>% group_by(Season) %>% slice(1:1) %>% ungroup() %>% \n",
    "    select(Season,LogLoss) %>% spread(Season,LogLoss,sep='_') %>% mutate(Stat='Best LogLoss') %>% select(Stat,everything()) -> tmp02\n",
    "df.train.perf %>% arrange(LogLoss) %>% group_by(Season) %>% slice(1:1) %>% ungroup() %>% \n",
    "    select(Season,qtl) %>% spread(Season,qtl,sep='_') %>% mutate(Stat='Best Quantile') %>% select(Stat,everything()) -> tmp03\n",
    "tmp01 %>% bind_rows(tmp02) %>% bind_rows(tmp03)"
   ]
  },
  {
   "cell_type": "code",
   "execution_count": 26,
   "metadata": {},
   "outputs": [
    {
     "data": {
      "image/png": "[encoded data removed]",
      "text/plain": [
       "plot without title"
      ]
     },
     "metadata": {},
     "output_type": "display_data"
    }
   ],
   "source": [
    "options(repr.plot.width=12, repr.plot.height=4)\n",
    "ggplot(data=df.train.perf,aes(x=qtl,y=LogLoss)) + \n",
    "    geom_point(size=0.5) + \n",
    "    geom_hline(yintercept=0.69,color='red',linetype=\"dotted\") +\n",
    "    facet_grid(. ~ Season)"
   ]
  },
  {
   "cell_type": "markdown",
   "metadata": {},
   "source": [
    "### Tourney matchups performance (validation dataset)"
   ]
  },
  {
   "cell_type": "markdown",
   "metadata": {},
   "source": [
    "#### Load test data"
   ]
  },
  {
   "cell_type": "code",
   "execution_count": 27,
   "metadata": {
    "scrolled": true
   },
   "outputs": [
    {
     "data": {
      "text/html": [
       "<table>\n",
       "<thead><tr><th scope=col>Season</th><th scope=col>TeamID.x</th><th scope=col>TeamID.y</th></tr></thead>\n",
       "<tbody>\n",
       "\t<tr><td>2011</td><td>1155</td><td>1421</td></tr>\n",
       "\t<tr><td>2011</td><td>1155</td><td>1427</td></tr>\n",
       "\t<tr><td>2011</td><td>1155</td><td>1433</td></tr>\n",
       "\t<tr><td>2011</td><td>1155</td><td>1163</td></tr>\n",
       "\t<tr><td>2011</td><td>1155</td><td>1196</td></tr>\n",
       "\t<tr><td>2011</td><td>1155</td><td>1211</td></tr>\n",
       "</tbody>\n",
       "</table>\n"
      ],
      "text/latex": [
       "\\begin{tabular}{r|lll}\n",
       " Season & TeamID.x & TeamID.y\\\\\n",
       "\\hline\n",
       "\t 2011 & 1155 & 1421\\\\\n",
       "\t 2011 & 1155 & 1427\\\\\n",
       "\t 2011 & 1155 & 1433\\\\\n",
       "\t 2011 & 1155 & 1163\\\\\n",
       "\t 2011 & 1155 & 1196\\\\\n",
       "\t 2011 & 1155 & 1211\\\\\n",
       "\\end{tabular}\n"
      ],
      "text/markdown": [
       "\n",
       "| Season | TeamID.x | TeamID.y |\n",
       "|---|---|---|\n",
       "| 2011 | 1155 | 1421 |\n",
       "| 2011 | 1155 | 1427 |\n",
       "| 2011 | 1155 | 1433 |\n",
       "| 2011 | 1155 | 1163 |\n",
       "| 2011 | 1155 | 1196 |\n",
       "| 2011 | 1155 | 1211 |\n",
       "\n"
      ],
      "text/plain": [
       "  Season TeamID.x TeamID.y\n",
       "1 2011   1155     1421    \n",
       "2 2011   1155     1427    \n",
       "3 2011   1155     1433    \n",
       "4 2011   1155     1163    \n",
       "5 2011   1155     1196    \n",
       "6 2011   1155     1211    "
      ]
     },
     "metadata": {},
     "output_type": "display_data"
    },
    {
     "data": {
      "text/html": [
       "<table>\n",
       "<thead><tr><th scope=col>ID</th><th scope=col>Target</th></tr></thead>\n",
       "<tbody>\n",
       "\t<tr><td>2004_1242_1334</td><td>1             </td></tr>\n",
       "\t<tr><td>2009_1106_1287</td><td>0             </td></tr>\n",
       "\t<tr><td>2011_1155_1412</td><td>1             </td></tr>\n",
       "\t<tr><td>2011_1206_1437</td><td>1             </td></tr>\n",
       "\t<tr><td>2013_1107_1181</td><td>0             </td></tr>\n",
       "</tbody>\n",
       "</table>\n"
      ],
      "text/latex": [
       "\\begin{tabular}{r|ll}\n",
       " ID & Target\\\\\n",
       "\\hline\n",
       "\t 2004\\_1242\\_1334 & 1                 \\\\\n",
       "\t 2009\\_1106\\_1287 & 0                 \\\\\n",
       "\t 2011\\_1155\\_1412 & 1                 \\\\\n",
       "\t 2011\\_1206\\_1437 & 1                 \\\\\n",
       "\t 2013\\_1107\\_1181 & 0                 \\\\\n",
       "\\end{tabular}\n"
      ],
      "text/markdown": [
       "\n",
       "| ID | Target |\n",
       "|---|---|\n",
       "| 2004_1242_1334 | 1              |\n",
       "| 2009_1106_1287 | 0              |\n",
       "| 2011_1155_1412 | 1              |\n",
       "| 2011_1206_1437 | 1              |\n",
       "| 2013_1107_1181 | 0              |\n",
       "\n"
      ],
      "text/plain": [
       "  ID             Target\n",
       "1 2004_1242_1334 1     \n",
       "2 2009_1106_1287 0     \n",
       "3 2011_1155_1412 1     \n",
       "4 2011_1206_1437 1     \n",
       "5 2013_1107_1181 0     "
      ]
     },
     "metadata": {},
     "output_type": "display_data"
    }
   ],
   "source": [
    "data.valid.matchups <- readRDS('../datafiles_rds/TourneyMatchups.rds')\n",
    "data.valid.matchups %>% filter(Season>2010) -> data.valid.matchups\n",
    "data.valid.matchups %>% head\n",
    "\n",
    "data.valid.truth <- readRDS('../datafiles_rds/TourneyTrueResults.rds')\n",
    "data.valid.truth %>% sample_n(5)"
   ]
  },
  {
   "cell_type": "markdown",
   "metadata": {},
   "source": [
    "#### prepare"
   ]
  },
  {
   "cell_type": "code",
   "execution_count": 28,
   "metadata": {},
   "outputs": [],
   "source": [
    "# matchups dataframe : all the possible matches between the 68 teams per Season \n",
    "data.valid.matchups %>%\n",
    "    inner_join(df.ratings,by=c('Season','TeamID.x'='TeamID')) %>%\n",
    "    select(-Offense,-Defense,-Team) %>%\n",
    "    inner_join(df.ratings,by=c('Season','TeamID.y'='TeamID')) %>% \n",
    "    select(-Offense,-Defense,-Team) -> data.valid.matchups"
   ]
  },
  {
   "cell_type": "code",
   "execution_count": 29,
   "metadata": {},
   "outputs": [
    {
     "data": {
      "text/html": [
       "<table>\n",
       "<thead><tr><th scope=col>Season</th><th scope=col>TeamID.x</th><th scope=col>TeamID.y</th><th scope=col>Rating.x</th><th scope=col>Rating.y</th></tr></thead>\n",
       "<tbody>\n",
       "\t<tr><td>2011    </td><td>1155    </td><td>1421    </td><td>15.0589 </td><td>14.03182</td></tr>\n",
       "\t<tr><td>2011    </td><td>1155    </td><td>1427    </td><td>15.0589 </td><td>13.80250</td></tr>\n",
       "\t<tr><td>2011    </td><td>1155    </td><td>1433    </td><td>15.0589 </td><td>14.54157</td></tr>\n",
       "\t<tr><td>2011    </td><td>1155    </td><td>1163    </td><td>15.0589 </td><td>15.29155</td></tr>\n",
       "\t<tr><td>2011    </td><td>1155    </td><td>1196    </td><td>15.0589 </td><td>15.23792</td></tr>\n",
       "\t<tr><td>2011    </td><td>1155    </td><td>1211    </td><td>15.0589 </td><td>15.14184</td></tr>\n",
       "</tbody>\n",
       "</table>\n"
      ],
      "text/latex": [
       "\\begin{tabular}{r|lllll}\n",
       " Season & TeamID.x & TeamID.y & Rating.x & Rating.y\\\\\n",
       "\\hline\n",
       "\t 2011     & 1155     & 1421     & 15.0589  & 14.03182\\\\\n",
       "\t 2011     & 1155     & 1427     & 15.0589  & 13.80250\\\\\n",
       "\t 2011     & 1155     & 1433     & 15.0589  & 14.54157\\\\\n",
       "\t 2011     & 1155     & 1163     & 15.0589  & 15.29155\\\\\n",
       "\t 2011     & 1155     & 1196     & 15.0589  & 15.23792\\\\\n",
       "\t 2011     & 1155     & 1211     & 15.0589  & 15.14184\\\\\n",
       "\\end{tabular}\n"
      ],
      "text/markdown": [
       "\n",
       "| Season | TeamID.x | TeamID.y | Rating.x | Rating.y |\n",
       "|---|---|---|---|---|\n",
       "| 2011     | 1155     | 1421     | 15.0589  | 14.03182 |\n",
       "| 2011     | 1155     | 1427     | 15.0589  | 13.80250 |\n",
       "| 2011     | 1155     | 1433     | 15.0589  | 14.54157 |\n",
       "| 2011     | 1155     | 1163     | 15.0589  | 15.29155 |\n",
       "| 2011     | 1155     | 1196     | 15.0589  | 15.23792 |\n",
       "| 2011     | 1155     | 1211     | 15.0589  | 15.14184 |\n",
       "\n"
      ],
      "text/plain": [
       "  Season TeamID.x TeamID.y Rating.x Rating.y\n",
       "1 2011   1155     1421     15.0589  14.03182\n",
       "2 2011   1155     1427     15.0589  13.80250\n",
       "3 2011   1155     1433     15.0589  14.54157\n",
       "4 2011   1155     1163     15.0589  15.29155\n",
       "5 2011   1155     1196     15.0589  15.23792\n",
       "6 2011   1155     1211     15.0589  15.14184"
      ]
     },
     "metadata": {},
     "output_type": "display_data"
    }
   ],
   "source": [
    "data.valid.matchups %>% head"
   ]
  },
  {
   "cell_type": "code",
   "execution_count": 35,
   "metadata": {
    "scrolled": true
   },
   "outputs": [
    {
     "data": {
      "text/html": [
       "<table>\n",
       "<thead><tr><th scope=col>Season</th><th scope=col>TeamID.x</th><th scope=col>TeamID.y</th><th scope=col>Rating.x</th><th scope=col>Rating.y</th><th scope=col>qtl</th><th scope=col>Slope</th></tr></thead>\n",
       "<tbody>\n",
       "\t<tr><td>2016    </td><td>1167    </td><td>1338    </td><td>14.29223</td><td>15.02270</td><td>0.64    </td><td>1.847265</td></tr>\n",
       "\t<tr><td>2011    </td><td>1106    </td><td>1437    </td><td>13.16479</td><td>15.20301</td><td>0.45    </td><td>1.346099</td></tr>\n",
       "\t<tr><td>2017    </td><td>1388    </td><td>1433    </td><td>15.63731</td><td>14.94550</td><td>0.58    </td><td>1.657189</td></tr>\n",
       "\t<tr><td>2016    </td><td>1211    </td><td>1437    </td><td>15.16754</td><td>15.56301</td><td>0.04    </td><td>1.025738</td></tr>\n",
       "\t<tr><td>2013    </td><td>1235    </td><td>1243    </td><td>15.24523</td><td>15.08110</td><td>0.41    </td><td>1.277825</td></tr>\n",
       "</tbody>\n",
       "</table>\n"
      ],
      "text/latex": [
       "\\begin{tabular}{r|lllllll}\n",
       " Season & TeamID.x & TeamID.y & Rating.x & Rating.y & qtl & Slope\\\\\n",
       "\\hline\n",
       "\t 2016     & 1167     & 1338     & 14.29223 & 15.02270 & 0.64     & 1.847265\\\\\n",
       "\t 2011     & 1106     & 1437     & 13.16479 & 15.20301 & 0.45     & 1.346099\\\\\n",
       "\t 2017     & 1388     & 1433     & 15.63731 & 14.94550 & 0.58     & 1.657189\\\\\n",
       "\t 2016     & 1211     & 1437     & 15.16754 & 15.56301 & 0.04     & 1.025738\\\\\n",
       "\t 2013     & 1235     & 1243     & 15.24523 & 15.08110 & 0.41     & 1.277825\\\\\n",
       "\\end{tabular}\n"
      ],
      "text/markdown": [
       "\n",
       "| Season | TeamID.x | TeamID.y | Rating.x | Rating.y | qtl | Slope |\n",
       "|---|---|---|---|---|---|---|\n",
       "| 2016     | 1167     | 1338     | 14.29223 | 15.02270 | 0.64     | 1.847265 |\n",
       "| 2011     | 1106     | 1437     | 13.16479 | 15.20301 | 0.45     | 1.346099 |\n",
       "| 2017     | 1388     | 1433     | 15.63731 | 14.94550 | 0.58     | 1.657189 |\n",
       "| 2016     | 1211     | 1437     | 15.16754 | 15.56301 | 0.04     | 1.025738 |\n",
       "| 2013     | 1235     | 1243     | 15.24523 | 15.08110 | 0.41     | 1.277825 |\n",
       "\n"
      ],
      "text/plain": [
       "  Season TeamID.x TeamID.y Rating.x Rating.y qtl  Slope   \n",
       "1 2016   1167     1338     14.29223 15.02270 0.64 1.847265\n",
       "2 2011   1106     1437     13.16479 15.20301 0.45 1.346099\n",
       "3 2017   1388     1433     15.63731 14.94550 0.58 1.657189\n",
       "4 2016   1211     1437     15.16754 15.56301 0.04 1.025738\n",
       "5 2013   1235     1243     15.24523 15.08110 0.41 1.277825"
      ]
     },
     "metadata": {},
     "output_type": "display_data"
    }
   ],
   "source": [
    "# all matchs with all 80 hyper parameter setting (qtl=[0.01,0.95]) \n",
    "data.valid.matchups %>% \n",
    "    inner_join(df.slopes,by=c('Season')) -> df.valid.matchups\n",
    "df.valid.matchups %>% sample_n(5)"
   ]
  },
  {
   "cell_type": "code",
   "execution_count": 36,
   "metadata": {},
   "outputs": [
    {
     "data": {
      "text/html": [
       "<table>\n",
       "<thead><tr><th scope=col>Season</th><th scope=col>qtl</th><th scope=col>ID</th><th scope=col>Pred</th><th scope=col>Prob</th></tr></thead>\n",
       "<tbody>\n",
       "\t<tr><td>2012          </td><td>0.44          </td><td>2012_1104_1246</td><td>0             </td><td>0.251         </td></tr>\n",
       "\t<tr><td>2018          </td><td>0.11          </td><td>2018_1172_1417</td><td>1             </td><td>0.528         </td></tr>\n",
       "\t<tr><td>2017          </td><td>0.54          </td><td>2017_1195_1376</td><td>0             </td><td>0.253         </td></tr>\n",
       "\t<tr><td>2012          </td><td>0.83          </td><td>2012_1249_1455</td><td>0             </td><td>0.086         </td></tr>\n",
       "\t<tr><td>2017          </td><td>0.87          </td><td>2017_1411_1458</td><td>0             </td><td>0.050         </td></tr>\n",
       "</tbody>\n",
       "</table>\n"
      ],
      "text/latex": [
       "\\begin{tabular}{r|lllll}\n",
       " Season & qtl & ID & Pred & Prob\\\\\n",
       "\\hline\n",
       "\t 2012               & 0.44               & 2012\\_1104\\_1246 & 0                  & 0.251             \\\\\n",
       "\t 2018               & 0.11               & 2018\\_1172\\_1417 & 1                  & 0.528             \\\\\n",
       "\t 2017               & 0.54               & 2017\\_1195\\_1376 & 0                  & 0.253             \\\\\n",
       "\t 2012               & 0.83               & 2012\\_1249\\_1455 & 0                  & 0.086             \\\\\n",
       "\t 2017               & 0.87               & 2017\\_1411\\_1458 & 0                  & 0.050             \\\\\n",
       "\\end{tabular}\n"
      ],
      "text/markdown": [
       "\n",
       "| Season | qtl | ID | Pred | Prob |\n",
       "|---|---|---|---|---|\n",
       "| 2012           | 0.44           | 2012_1104_1246 | 0              | 0.251          |\n",
       "| 2018           | 0.11           | 2018_1172_1417 | 1              | 0.528          |\n",
       "| 2017           | 0.54           | 2017_1195_1376 | 0              | 0.253          |\n",
       "| 2012           | 0.83           | 2012_1249_1455 | 0              | 0.086          |\n",
       "| 2017           | 0.87           | 2017_1411_1458 | 0              | 0.050          |\n",
       "\n"
      ],
      "text/plain": [
       "  Season qtl  ID             Pred Prob \n",
       "1 2012   0.44 2012_1104_1246 0    0.251\n",
       "2 2018   0.11 2018_1172_1417 1    0.528\n",
       "3 2017   0.54 2017_1195_1376 0    0.253\n",
       "4 2012   0.83 2012_1249_1455 0    0.086\n",
       "5 2017   0.87 2017_1411_1458 0    0.050"
      ]
     },
     "metadata": {},
     "output_type": "display_data"
    }
   ],
   "source": [
    "# machups predictions : compute the winning probability of TeamID.x and cap it into [0.05,0.95] to avoid too much logloss is case of FP or FN \n",
    "df.valid.matchups %>% \n",
    "    mutate(ID=str_c(Season,'_',TeamID.x,'_',TeamID.y)) %>% \n",
    "    mutate(Prob=logistic(Rating.x-Rating.y,a=Slope)) %>% \n",
    "    mutate(Pred=ifelse(Prob>0.5,1,0)) %>% \n",
    "    mutate(Prob=round(Prob,3)) %>%\n",
    "    mutate_which(Prob>0.95,Prob=0.95) %>%\n",
    "    mutate_which(Prob<0.05,Prob=0.05) %>%\n",
    "    select(Season,qtl,ID,Pred,Prob) -> df.valid.submit\n",
    "df.valid.submit %>% sample_n(5)"
   ]
  },
  {
   "cell_type": "code",
   "execution_count": 37,
   "metadata": {},
   "outputs": [],
   "source": [
    "# merge prediction and truth\n",
    "data.valid.truth %>% inner_join(df.valid.submit,by='ID') -> df.valid.results"
   ]
  },
  {
   "cell_type": "code",
   "execution_count": 38,
   "metadata": {
    "scrolled": true
   },
   "outputs": [
    {
     "data": {
      "text/html": [
       "<table>\n",
       "<thead><tr><th scope=col>Season</th><th scope=col>qtl</th><th scope=col>TC</th><th scope=col>FC</th><th scope=col>N</th><th scope=col>Acc</th><th scope=col>LogLoss</th></tr></thead>\n",
       "<tbody>\n",
       "\t<tr><td>2011     </td><td>0.09     </td><td>40       </td><td>27       </td><td>67       </td><td>0.5970149</td><td>0.6242495</td></tr>\n",
       "\t<tr><td>2012     </td><td>0.56     </td><td>48       </td><td>19       </td><td>67       </td><td>0.7164179</td><td>0.5726420</td></tr>\n",
       "\t<tr><td>2013     </td><td>0.66     </td><td>48       </td><td>19       </td><td>67       </td><td>0.7164179</td><td>0.5582839</td></tr>\n",
       "\t<tr><td>2014     </td><td>0.61     </td><td>43       </td><td>24       </td><td>67       </td><td>0.6417910</td><td>0.5648949</td></tr>\n",
       "\t<tr><td>2015     </td><td>0.86     </td><td>51       </td><td>16       </td><td>67       </td><td>0.7611940</td><td>0.5018095</td></tr>\n",
       "\t<tr><td>2016     </td><td>0.60     </td><td>49       </td><td>18       </td><td>67       </td><td>0.7313433</td><td>0.5654998</td></tr>\n",
       "\t<tr><td>2017     </td><td>0.74     </td><td>46       </td><td>21       </td><td>67       </td><td>0.6865672</td><td>0.5084691</td></tr>\n",
       "\t<tr><td>2018     </td><td>0.65     </td><td>47       </td><td>20       </td><td>67       </td><td>0.7014925</td><td>0.5829836</td></tr>\n",
       "</tbody>\n",
       "</table>\n"
      ],
      "text/latex": [
       "\\begin{tabular}{r|lllllll}\n",
       " Season & qtl & TC & FC & N & Acc & LogLoss\\\\\n",
       "\\hline\n",
       "\t 2011      & 0.09      & 40        & 27        & 67        & 0.5970149 & 0.6242495\\\\\n",
       "\t 2012      & 0.56      & 48        & 19        & 67        & 0.7164179 & 0.5726420\\\\\n",
       "\t 2013      & 0.66      & 48        & 19        & 67        & 0.7164179 & 0.5582839\\\\\n",
       "\t 2014      & 0.61      & 43        & 24        & 67        & 0.6417910 & 0.5648949\\\\\n",
       "\t 2015      & 0.86      & 51        & 16        & 67        & 0.7611940 & 0.5018095\\\\\n",
       "\t 2016      & 0.60      & 49        & 18        & 67        & 0.7313433 & 0.5654998\\\\\n",
       "\t 2017      & 0.74      & 46        & 21        & 67        & 0.6865672 & 0.5084691\\\\\n",
       "\t 2018      & 0.65      & 47        & 20        & 67        & 0.7014925 & 0.5829836\\\\\n",
       "\\end{tabular}\n"
      ],
      "text/markdown": [
       "\n",
       "| Season | qtl | TC | FC | N | Acc | LogLoss |\n",
       "|---|---|---|---|---|---|---|\n",
       "| 2011      | 0.09      | 40        | 27        | 67        | 0.5970149 | 0.6242495 |\n",
       "| 2012      | 0.56      | 48        | 19        | 67        | 0.7164179 | 0.5726420 |\n",
       "| 2013      | 0.66      | 48        | 19        | 67        | 0.7164179 | 0.5582839 |\n",
       "| 2014      | 0.61      | 43        | 24        | 67        | 0.6417910 | 0.5648949 |\n",
       "| 2015      | 0.86      | 51        | 16        | 67        | 0.7611940 | 0.5018095 |\n",
       "| 2016      | 0.60      | 49        | 18        | 67        | 0.7313433 | 0.5654998 |\n",
       "| 2017      | 0.74      | 46        | 21        | 67        | 0.6865672 | 0.5084691 |\n",
       "| 2018      | 0.65      | 47        | 20        | 67        | 0.7014925 | 0.5829836 |\n",
       "\n"
      ],
      "text/plain": [
       "  Season qtl  TC FC N  Acc       LogLoss  \n",
       "1 2011   0.09 40 27 67 0.5970149 0.6242495\n",
       "2 2012   0.56 48 19 67 0.7164179 0.5726420\n",
       "3 2013   0.66 48 19 67 0.7164179 0.5582839\n",
       "4 2014   0.61 43 24 67 0.6417910 0.5648949\n",
       "5 2015   0.86 51 16 67 0.7611940 0.5018095\n",
       "6 2016   0.60 49 18 67 0.7313433 0.5654998\n",
       "7 2017   0.74 46 21 67 0.6865672 0.5084691\n",
       "8 2018   0.65 47 20 67 0.7014925 0.5829836"
      ]
     },
     "metadata": {},
     "output_type": "display_data"
    }
   ],
   "source": [
    "# compute accuracy & Logloss per qtl to find the best one per Season\n",
    "df.valid.results %>% \n",
    "    mutate(OK=ifelse(Pred==Target,1,0)) %>%\n",
    "    mutate(LogLoss=Target*log(Prob) + (1-Target)*log(1-Prob)) %>%\n",
    "    group_by(Season,qtl) %>%\n",
    "    summarise(TC=sum(OK),N=n(),FC=N-TC,Acc=TC/N,LogLoss=-mean(LogLoss)) %>%\n",
    "    select(Season,qtl,TC,FC,N,Acc,LogLoss) -> df.valid.perf\n",
    "df.valid.perf %>% arrange(LogLoss) %>% group_by(Season) %>% slice(1:1) %>% ungroup() "
   ]
  },
  {
   "cell_type": "code",
   "execution_count": 39,
   "metadata": {},
   "outputs": [
    {
     "data": {
      "text/html": [
       "<table>\n",
       "<thead><tr><th scope=col>Stat</th><th scope=col>Season_2011</th><th scope=col>Season_2012</th><th scope=col>Season_2013</th><th scope=col>Season_2014</th><th scope=col>Season_2015</th><th scope=col>Season_2016</th><th scope=col>Season_2017</th><th scope=col>Season_2018</th></tr></thead>\n",
       "<tbody>\n",
       "\t<tr><td>Accuracy     </td><td>0.5970149    </td><td>0.7164179    </td><td>0.7164179    </td><td>0.6417910    </td><td>0.7611940    </td><td>0.7313433    </td><td>0.6865672    </td><td>0.7014925    </td></tr>\n",
       "\t<tr><td>Best LogLoss </td><td>0.6242495    </td><td>0.5726420    </td><td>0.5582839    </td><td>0.5648949    </td><td>0.5018095    </td><td>0.5654998    </td><td>0.5084691    </td><td>0.5829836    </td></tr>\n",
       "\t<tr><td>Best Quantile</td><td>0.0900000    </td><td>0.5600000    </td><td>0.6600000    </td><td>0.6100000    </td><td>0.8600000    </td><td>0.6000000    </td><td>0.7400000    </td><td>0.6500000    </td></tr>\n",
       "</tbody>\n",
       "</table>\n"
      ],
      "text/latex": [
       "\\begin{tabular}{r|lllllllll}\n",
       " Stat & Season\\_2011 & Season\\_2012 & Season\\_2013 & Season\\_2014 & Season\\_2015 & Season\\_2016 & Season\\_2017 & Season\\_2018\\\\\n",
       "\\hline\n",
       "\t Accuracy      & 0.5970149     & 0.7164179     & 0.7164179     & 0.6417910     & 0.7611940     & 0.7313433     & 0.6865672     & 0.7014925    \\\\\n",
       "\t Best LogLoss  & 0.6242495     & 0.5726420     & 0.5582839     & 0.5648949     & 0.5018095     & 0.5654998     & 0.5084691     & 0.5829836    \\\\\n",
       "\t Best Quantile & 0.0900000     & 0.5600000     & 0.6600000     & 0.6100000     & 0.8600000     & 0.6000000     & 0.7400000     & 0.6500000    \\\\\n",
       "\\end{tabular}\n"
      ],
      "text/markdown": [
       "\n",
       "| Stat | Season_2011 | Season_2012 | Season_2013 | Season_2014 | Season_2015 | Season_2016 | Season_2017 | Season_2018 |\n",
       "|---|---|---|---|---|---|---|---|---|\n",
       "| Accuracy      | 0.5970149     | 0.7164179     | 0.7164179     | 0.6417910     | 0.7611940     | 0.7313433     | 0.6865672     | 0.7014925     |\n",
       "| Best LogLoss  | 0.6242495     | 0.5726420     | 0.5582839     | 0.5648949     | 0.5018095     | 0.5654998     | 0.5084691     | 0.5829836     |\n",
       "| Best Quantile | 0.0900000     | 0.5600000     | 0.6600000     | 0.6100000     | 0.8600000     | 0.6000000     | 0.7400000     | 0.6500000     |\n",
       "\n"
      ],
      "text/plain": [
       "  Stat          Season_2011 Season_2012 Season_2013 Season_2014 Season_2015\n",
       "1 Accuracy      0.5970149   0.7164179   0.7164179   0.6417910   0.7611940  \n",
       "2 Best LogLoss  0.6242495   0.5726420   0.5582839   0.5648949   0.5018095  \n",
       "3 Best Quantile 0.0900000   0.5600000   0.6600000   0.6100000   0.8600000  \n",
       "  Season_2016 Season_2017 Season_2018\n",
       "1 0.7313433   0.6865672   0.7014925  \n",
       "2 0.5654998   0.5084691   0.5829836  \n",
       "3 0.6000000   0.7400000   0.6500000  "
      ]
     },
     "metadata": {},
     "output_type": "display_data"
    }
   ],
   "source": [
    "df.valid.perf %>% distinct(Season,Acc) %>% spread(Season,Acc,sep='_') %>%\n",
    "    mutate(Stat='Accuracy') %>% select(Stat,everything()) -> tmp01\n",
    "df.valid.perf %>% arrange(LogLoss) %>% group_by(Season) %>% slice(1:1) %>% ungroup() %>% \n",
    "    select(Season,LogLoss) %>% spread(Season,LogLoss,sep='_') %>% mutate(Stat='Best LogLoss') %>% select(Stat,everything()) -> tmp02\n",
    "df.valid.perf %>% arrange(LogLoss) %>% group_by(Season) %>% slice(1:1) %>% ungroup() %>% \n",
    "    select(Season,qtl) %>% spread(Season,qtl,sep='_') %>% mutate(Stat='Best Quantile') %>% select(Stat,everything()) -> tmp03\n",
    "tmp01 %>% bind_rows(tmp02) %>% bind_rows(tmp03)"
   ]
  },
  {
   "cell_type": "code",
   "execution_count": 40,
   "metadata": {},
   "outputs": [
    {
     "data": {
      "image/png": "[encoded data removed]",
      "text/plain": [
       "plot without title"
      ]
     },
     "metadata": {},
     "output_type": "display_data"
    }
   ],
   "source": [
    "# LogLoss \n",
    "options(repr.plot.width=12, repr.plot.height=4)\n",
    "ggplot(data=df.valid.perf,aes(x=qtl,y=LogLoss)) + \n",
    "    geom_point(size=0.5) + \n",
    "    geom_hline(yintercept=0.69,color='red',linetype=\"dotted\") +\n",
    "    facet_grid(. ~ Season)"
   ]
  },
  {
   "cell_type": "markdown",
   "metadata": {},
   "source": [
    "### Analysis Rating"
   ]
  },
  {
   "cell_type": "code",
   "execution_count": 350,
   "metadata": {},
   "outputs": [],
   "source": [
    "data.teamtourneyranks <- readRDS('TeamTourneyRanking.rds')\n",
    "data.tourneyranks <- read.csv('TourneyRanks.csv')"
   ]
  },
  {
   "cell_type": "code",
   "execution_count": 351,
   "metadata": {},
   "outputs": [
    {
     "data": {
      "text/html": [
       "<table>\n",
       "<thead><tr><th scope=col>Season</th><th scope=col>TeamID</th><th scope=col>Rating</th><th scope=col>Round</th></tr></thead>\n",
       "<tbody>\n",
       "\t<tr><td>2012    </td><td>1326    </td><td>2171.778</td><td>5       </td></tr>\n",
       "\t<tr><td>2012    </td><td>1246    </td><td>2131.496</td><td>7       </td></tr>\n",
       "\t<tr><td>2012    </td><td>1458    </td><td>2111.199</td><td>3       </td></tr>\n",
       "\t<tr><td>2012    </td><td>1242    </td><td>2061.846</td><td>6       </td></tr>\n",
       "\t<tr><td>2012    </td><td>1393    </td><td>2042.822</td><td>4       </td></tr>\n",
       "\t<tr><td>2012    </td><td>1277    </td><td>2023.571</td><td>3       </td></tr>\n",
       "</tbody>\n",
       "</table>\n"
      ],
      "text/latex": [
       "\\begin{tabular}{r|llll}\n",
       " Season & TeamID & Rating & Round\\\\\n",
       "\\hline\n",
       "\t 2012     & 1326     & 2171.778 & 5       \\\\\n",
       "\t 2012     & 1246     & 2131.496 & 7       \\\\\n",
       "\t 2012     & 1458     & 2111.199 & 3       \\\\\n",
       "\t 2012     & 1242     & 2061.846 & 6       \\\\\n",
       "\t 2012     & 1393     & 2042.822 & 4       \\\\\n",
       "\t 2012     & 1277     & 2023.571 & 3       \\\\\n",
       "\\end{tabular}\n"
      ],
      "text/markdown": [
       "\n",
       "| Season | TeamID | Rating | Round |\n",
       "|---|---|---|---|\n",
       "| 2012     | 1326     | 2171.778 | 5        |\n",
       "| 2012     | 1246     | 2131.496 | 7        |\n",
       "| 2012     | 1458     | 2111.199 | 3        |\n",
       "| 2012     | 1242     | 2061.846 | 6        |\n",
       "| 2012     | 1393     | 2042.822 | 4        |\n",
       "| 2012     | 1277     | 2023.571 | 3        |\n",
       "\n"
      ],
      "text/plain": [
       "  Season TeamID Rating   Round\n",
       "1 2012   1326   2171.778 5    \n",
       "2 2012   1246   2131.496 7    \n",
       "3 2012   1458   2111.199 3    \n",
       "4 2012   1242   2061.846 6    \n",
       "5 2012   1393   2042.822 4    \n",
       "6 2012   1277   2023.571 3    "
      ]
     },
     "metadata": {},
     "output_type": "display_data"
    }
   ],
   "source": [
    "df.ratings %>% \n",
    "    filter(Season>2011) %>% \n",
    "    inner_join(data.teamtourneyranks,by=c('Season','TeamID')) %>% \n",
    "    select(Season,TeamID,Rating,Round) -> df.teamtourneyranks\n",
    "df.teamtourneyranks %>% arrange(Season,desc(Rating)) %>% head"
   ]
  },
  {
   "cell_type": "code",
   "execution_count": 352,
   "metadata": {},
   "outputs": [],
   "source": [
    "df.teamtourneyranks %>%\n",
    "    arrange(desc(Rating)) %>%\n",
    "    group_by(Season) %>%\n",
    "    mutate(Rank=row_number()) %>%\n",
    "    ungroup() %>% \n",
    "    inner_join(data.tourneyranks,by='Rank') -> df.teamtourneyranks"
   ]
  },
  {
   "cell_type": "code",
   "execution_count": 353,
   "metadata": {},
   "outputs": [
    {
     "data": {
      "text/html": [
       "<table>\n",
       "<thead><tr><th scope=col>Season</th><th scope=col>TeamID</th><th scope=col>Rating</th><th scope=col>Round</th><th scope=col>Rank</th><th scope=col>RoundTarget</th></tr></thead>\n",
       "<tbody>\n",
       "\t<tr><td>2012    </td><td>1326    </td><td>2171.778</td><td>5       </td><td>1       </td><td>7       </td></tr>\n",
       "\t<tr><td>2012    </td><td>1246    </td><td>2131.496</td><td>7       </td><td>2       </td><td>6       </td></tr>\n",
       "\t<tr><td>2012    </td><td>1458    </td><td>2111.199</td><td>3       </td><td>3       </td><td>5       </td></tr>\n",
       "\t<tr><td>2012    </td><td>1242    </td><td>2061.846</td><td>6       </td><td>4       </td><td>5       </td></tr>\n",
       "\t<tr><td>2012    </td><td>1393    </td><td>2042.822</td><td>4       </td><td>5       </td><td>4       </td></tr>\n",
       "\t<tr><td>2012    </td><td>1277    </td><td>2023.571</td><td>3       </td><td>6       </td><td>4       </td></tr>\n",
       "</tbody>\n",
       "</table>\n"
      ],
      "text/latex": [
       "\\begin{tabular}{r|llllll}\n",
       " Season & TeamID & Rating & Round & Rank & RoundTarget\\\\\n",
       "\\hline\n",
       "\t 2012     & 1326     & 2171.778 & 5        & 1        & 7       \\\\\n",
       "\t 2012     & 1246     & 2131.496 & 7        & 2        & 6       \\\\\n",
       "\t 2012     & 1458     & 2111.199 & 3        & 3        & 5       \\\\\n",
       "\t 2012     & 1242     & 2061.846 & 6        & 4        & 5       \\\\\n",
       "\t 2012     & 1393     & 2042.822 & 4        & 5        & 4       \\\\\n",
       "\t 2012     & 1277     & 2023.571 & 3        & 6        & 4       \\\\\n",
       "\\end{tabular}\n"
      ],
      "text/markdown": [
       "\n",
       "| Season | TeamID | Rating | Round | Rank | RoundTarget |\n",
       "|---|---|---|---|---|---|\n",
       "| 2012     | 1326     | 2171.778 | 5        | 1        | 7        |\n",
       "| 2012     | 1246     | 2131.496 | 7        | 2        | 6        |\n",
       "| 2012     | 1458     | 2111.199 | 3        | 3        | 5        |\n",
       "| 2012     | 1242     | 2061.846 | 6        | 4        | 5        |\n",
       "| 2012     | 1393     | 2042.822 | 4        | 5        | 4        |\n",
       "| 2012     | 1277     | 2023.571 | 3        | 6        | 4        |\n",
       "\n"
      ],
      "text/plain": [
       "  Season TeamID Rating   Round Rank RoundTarget\n",
       "1 2012   1326   2171.778 5     1    7          \n",
       "2 2012   1246   2131.496 7     2    6          \n",
       "3 2012   1458   2111.199 3     3    5          \n",
       "4 2012   1242   2061.846 6     4    5          \n",
       "5 2012   1393   2042.822 4     5    4          \n",
       "6 2012   1277   2023.571 3     6    4          "
      ]
     },
     "metadata": {},
     "output_type": "display_data"
    }
   ],
   "source": [
    "df.teamtourneyranks %>% arrange(Season,Rank) %>% head"
   ]
  },
  {
   "cell_type": "code",
   "execution_count": 354,
   "metadata": {},
   "outputs": [
    {
     "data": {
      "text/html": [
       "<table>\n",
       "<thead><tr><th scope=col>Info</th><th scope=col>Season_2012</th><th scope=col>Season_2013</th><th scope=col>Season_2014</th><th scope=col>Season_2015</th><th scope=col>Season_2016</th><th scope=col>Season_2017</th><th scope=col>Season_2018</th></tr></thead>\n",
       "<tbody>\n",
       "\t<tr><td>RMSE    </td><td>1.084652</td><td>1.236694</td><td>1.414214</td><td>1.071008</td><td>1.475287</td><td>1.294786</td><td>1.382666</td></tr>\n",
       "</tbody>\n",
       "</table>\n"
      ],
      "text/latex": [
       "\\begin{tabular}{r|llllllll}\n",
       " Info & Season\\_2012 & Season\\_2013 & Season\\_2014 & Season\\_2015 & Season\\_2016 & Season\\_2017 & Season\\_2018\\\\\n",
       "\\hline\n",
       "\t RMSE     & 1.084652 & 1.236694 & 1.414214 & 1.071008 & 1.475287 & 1.294786 & 1.382666\\\\\n",
       "\\end{tabular}\n"
      ],
      "text/markdown": [
       "\n",
       "| Info | Season_2012 | Season_2013 | Season_2014 | Season_2015 | Season_2016 | Season_2017 | Season_2018 |\n",
       "|---|---|---|---|---|---|---|---|\n",
       "| RMSE     | 1.084652 | 1.236694 | 1.414214 | 1.071008 | 1.475287 | 1.294786 | 1.382666 |\n",
       "\n"
      ],
      "text/plain": [
       "  Info Season_2012 Season_2013 Season_2014 Season_2015 Season_2016 Season_2017\n",
       "1 RMSE 1.084652    1.236694    1.414214    1.071008    1.475287    1.294786   \n",
       "  Season_2018\n",
       "1 1.382666   "
      ]
     },
     "metadata": {},
     "output_type": "display_data"
    }
   ],
   "source": [
    "df.teamtourneyranks %>% \n",
    "    mutate(Error=(RoundTarget-Round)^2) %>%\n",
    "    group_by(Season) %>%\n",
    "    summarise(RMSE=sqrt(mean(Error))) %>% spread(Season,RMSE,sep='_') %>% mutate(Info='RMSE') %>% select(Info,everything())"
   ]
  },
  {
   "cell_type": "code",
   "execution_count": null,
   "metadata": {},
   "outputs": [],
   "source": []
  },
  {
   "cell_type": "code",
   "execution_count": null,
   "metadata": {},
   "outputs": [],
   "source": []
  }
 ],
 "metadata": {
  "kernelspec": {
   "display_name": "R 3.5.0",
   "language": "R",
   "name": "ir35"
  },
  "language_info": {
   "codemirror_mode": "r",
   "file_extension": ".r",
   "mimetype": "text/x-r-source",
   "name": "R",
   "pygments_lexer": "r",
   "version": "3.5.1"
  }
 },
 "nbformat": 4,
 "nbformat_minor": 2
}
