{
 "cells": [
  {
   "cell_type": "markdown",
   "metadata": {},
   "source": [
    "### Offense-Defense Custom Rating 2018"
   ]
  },
  {
   "cell_type": "markdown",
   "metadata": {},
   "source": [
    "#### Libraries"
   ]
  },
  {
   "cell_type": "code",
   "execution_count": 2,
   "metadata": {},
   "outputs": [],
   "source": [
    "# Load required packages\n",
    "library(dplyr,warn.conflicts=F)\n",
    "library(stringr,warn.conflicts=F)\n",
    "library(lplyr,warn.conflicts=F)\n",
    "library(tidyr,warn.conflicts=F)\n",
    "library(tidyimpute,warn.conflicts=F)\n",
    "\n",
    "library(psych,warn.conflicts=F)\n",
    "library(ggplot2,warn.conflicts=F)"
   ]
  },
  {
   "cell_type": "markdown",
   "metadata": {},
   "source": [
    "#### Load 2018"
   ]
  },
  {
   "cell_type": "code",
   "execution_count": 3,
   "metadata": {},
   "outputs": [],
   "source": [
    "# load the stats\n",
    "data.regulars <- readRDS('../datafiles_rds/RegularSeasonDetailedResults.rds')\n",
    "# keep 2018\n",
    "data.regulars %>% filter(Season==2018) -> data.regulars"
   ]
  },
  {
   "cell_type": "code",
   "execution_count": 4,
   "metadata": {},
   "outputs": [],
   "source": [
    "# load the stats\n",
    "data.teams <- readRDS('../datafiles_rds/Teams.rds')\n",
    "\n",
    "data.teams %>%\n",
    "    select(TeamID,TeamName) %>%\n",
    "    mutate(TeamName=str_to_lower(TeamName), \n",
    "           TeamName=str_replace_all(TeamName,' ','_'), \n",
    "           TeamName=str_remove_all(TeamName,'&')) -> df.teams"
   ]
  },
  {
   "cell_type": "markdown",
   "metadata": {},
   "source": [
    "#### Prepare data"
   ]
  },
  {
   "cell_type": "code",
   "execution_count": 5,
   "metadata": {},
   "outputs": [
    {
     "name": "stdout",
     "output_type": "stream",
     "text": [
      "5405 34"
     ]
    },
    {
     "data": {
      "text/html": [
       "<table>\n",
       "<thead><tr><th scope=col>Season</th><th scope=col>DayNum</th><th scope=col>WTeamID</th><th scope=col>WScore</th><th scope=col>LTeamID</th><th scope=col>LScore</th><th scope=col>WLoc</th><th scope=col>NumOT</th><th scope=col>WFGM</th><th scope=col>WFGA</th><th scope=col>⋯</th><th scope=col>LFGA3</th><th scope=col>LFTM</th><th scope=col>LFTA</th><th scope=col>LOR</th><th scope=col>LDR</th><th scope=col>LAst</th><th scope=col>LTO</th><th scope=col>LStl</th><th scope=col>LBlk</th><th scope=col>LPF</th></tr></thead>\n",
       "<tbody>\n",
       "\t<tr><td>2018</td><td>11  </td><td>1104</td><td> 82 </td><td>1272</td><td>70  </td><td>N   </td><td>0   </td><td>26  </td><td>57  </td><td>⋯   </td><td>17  </td><td>22  </td><td>36  </td><td>19  </td><td>24  </td><td> 7  </td><td>17  </td><td> 7  </td><td>3   </td><td>22  </td></tr>\n",
       "\t<tr><td>2018</td><td>11  </td><td>1107</td><td> 69 </td><td>1233</td><td>67  </td><td>H   </td><td>0   </td><td>24  </td><td>62  </td><td>⋯   </td><td>22  </td><td>11  </td><td>14  </td><td> 7  </td><td>20  </td><td>14  </td><td> 7  </td><td> 6  </td><td>3   </td><td>21  </td></tr>\n",
       "\t<tr><td>2018</td><td>11  </td><td>1112</td><td>101 </td><td>1319</td><td>67  </td><td>H   </td><td>0   </td><td>34  </td><td>57  </td><td>⋯   </td><td>13  </td><td>17  </td><td>30  </td><td>12  </td><td>11  </td><td>11  </td><td>13  </td><td> 3  </td><td>1   </td><td>24  </td></tr>\n",
       "\t<tr><td>2018</td><td>11  </td><td>1113</td><td> 94 </td><td>1226</td><td>74  </td><td>H   </td><td>0   </td><td>34  </td><td>65  </td><td>⋯   </td><td>24  </td><td>13  </td><td>22  </td><td> 8  </td><td>21  </td><td>17  </td><td>14  </td><td> 6  </td><td>2   </td><td>20  </td></tr>\n",
       "\t<tr><td>2018</td><td>11  </td><td>1116</td><td> 95 </td><td>1359</td><td>56  </td><td>H   </td><td>0   </td><td>36  </td><td>63  </td><td>⋯   </td><td>29  </td><td> 8  </td><td>15  </td><td>15  </td><td>17  </td><td>12  </td><td>19  </td><td> 6  </td><td>1   </td><td>20  </td></tr>\n",
       "\t<tr><td>2018</td><td>11  </td><td>1120</td><td>102 </td><td>1313</td><td>74  </td><td>H   </td><td>0   </td><td>35  </td><td>63  </td><td>⋯   </td><td>34  </td><td>20  </td><td>27  </td><td> 9  </td><td>20  </td><td>15  </td><td>16  </td><td>11  </td><td>3   </td><td>26  </td></tr>\n",
       "</tbody>\n",
       "</table>\n"
      ],
      "text/latex": [
       "\\begin{tabular}{r|llllllllllllllllllllllllllllllllll}\n",
       " Season & DayNum & WTeamID & WScore & LTeamID & LScore & WLoc & NumOT & WFGM & WFGA & ⋯ & LFGA3 & LFTM & LFTA & LOR & LDR & LAst & LTO & LStl & LBlk & LPF\\\\\n",
       "\\hline\n",
       "\t 2018 & 11   & 1104 &  82  & 1272 & 70   & N    & 0    & 26   & 57   & ⋯    & 17   & 22   & 36   & 19   & 24   &  7   & 17   &  7   & 3    & 22  \\\\\n",
       "\t 2018 & 11   & 1107 &  69  & 1233 & 67   & H    & 0    & 24   & 62   & ⋯    & 22   & 11   & 14   &  7   & 20   & 14   &  7   &  6   & 3    & 21  \\\\\n",
       "\t 2018 & 11   & 1112 & 101  & 1319 & 67   & H    & 0    & 34   & 57   & ⋯    & 13   & 17   & 30   & 12   & 11   & 11   & 13   &  3   & 1    & 24  \\\\\n",
       "\t 2018 & 11   & 1113 &  94  & 1226 & 74   & H    & 0    & 34   & 65   & ⋯    & 24   & 13   & 22   &  8   & 21   & 17   & 14   &  6   & 2    & 20  \\\\\n",
       "\t 2018 & 11   & 1116 &  95  & 1359 & 56   & H    & 0    & 36   & 63   & ⋯    & 29   &  8   & 15   & 15   & 17   & 12   & 19   &  6   & 1    & 20  \\\\\n",
       "\t 2018 & 11   & 1120 & 102  & 1313 & 74   & H    & 0    & 35   & 63   & ⋯    & 34   & 20   & 27   &  9   & 20   & 15   & 16   & 11   & 3    & 26  \\\\\n",
       "\\end{tabular}\n"
      ],
      "text/markdown": [
       "\n",
       "| Season | DayNum | WTeamID | WScore | LTeamID | LScore | WLoc | NumOT | WFGM | WFGA | ⋯ | LFGA3 | LFTM | LFTA | LOR | LDR | LAst | LTO | LStl | LBlk | LPF |\n",
       "|---|---|---|---|---|---|---|---|---|---|---|---|---|---|---|---|---|---|---|---|---|\n",
       "| 2018 | 11   | 1104 |  82  | 1272 | 70   | N    | 0    | 26   | 57   | ⋯    | 17   | 22   | 36   | 19   | 24   |  7   | 17   |  7   | 3    | 22   |\n",
       "| 2018 | 11   | 1107 |  69  | 1233 | 67   | H    | 0    | 24   | 62   | ⋯    | 22   | 11   | 14   |  7   | 20   | 14   |  7   |  6   | 3    | 21   |\n",
       "| 2018 | 11   | 1112 | 101  | 1319 | 67   | H    | 0    | 34   | 57   | ⋯    | 13   | 17   | 30   | 12   | 11   | 11   | 13   |  3   | 1    | 24   |\n",
       "| 2018 | 11   | 1113 |  94  | 1226 | 74   | H    | 0    | 34   | 65   | ⋯    | 24   | 13   | 22   |  8   | 21   | 17   | 14   |  6   | 2    | 20   |\n",
       "| 2018 | 11   | 1116 |  95  | 1359 | 56   | H    | 0    | 36   | 63   | ⋯    | 29   |  8   | 15   | 15   | 17   | 12   | 19   |  6   | 1    | 20   |\n",
       "| 2018 | 11   | 1120 | 102  | 1313 | 74   | H    | 0    | 35   | 63   | ⋯    | 34   | 20   | 27   |  9   | 20   | 15   | 16   | 11   | 3    | 26   |\n",
       "\n"
      ],
      "text/plain": [
       "  Season DayNum WTeamID WScore LTeamID LScore WLoc NumOT WFGM WFGA ⋯ LFGA3 LFTM\n",
       "1 2018   11     1104     82    1272    70     N    0     26   57   ⋯ 17    22  \n",
       "2 2018   11     1107     69    1233    67     H    0     24   62   ⋯ 22    11  \n",
       "3 2018   11     1112    101    1319    67     H    0     34   57   ⋯ 13    17  \n",
       "4 2018   11     1113     94    1226    74     H    0     34   65   ⋯ 24    13  \n",
       "5 2018   11     1116     95    1359    56     H    0     36   63   ⋯ 29     8  \n",
       "6 2018   11     1120    102    1313    74     H    0     35   63   ⋯ 34    20  \n",
       "  LFTA LOR LDR LAst LTO LStl LBlk LPF\n",
       "1 36   19  24   7   17   7   3    22 \n",
       "2 14    7  20  14    7   6   3    21 \n",
       "3 30   12  11  11   13   3   1    24 \n",
       "4 22    8  21  17   14   6   2    20 \n",
       "5 15   15  17  12   19   6   1    20 \n",
       "6 27    9  20  15   16  11   3    26 "
      ]
     },
     "metadata": {},
     "output_type": "display_data"
    }
   ],
   "source": [
    "data.regulars %>% dim %>% cat\n",
    "data.regulars %>% head"
   ]
  },
  {
   "cell_type": "code",
   "execution_count": 6,
   "metadata": {},
   "outputs": [],
   "source": [
    "data.regulars %>% \n",
    "    rename_at(vars(starts_with('L')),list(~str_replace(.,'L','O'))) %>%\n",
    "    rename_at(vars(starts_with('W')),list(~str_remove(.,'W'))) %>%\n",
    "    mutate(OLoc=case_when(Loc=='H' ~ 'A', Loc=='A' ~ 'H', TRUE ~ 'N')) -> group1\n",
    "data.regulars %>% \n",
    "    rename_at(vars(starts_with('L')),list(~str_remove(.,'L'))) %>%\n",
    "    rename_at(vars(starts_with('W')),list(~str_replace(.,'W','O'))) %>%\n",
    "    mutate(Loc=case_when(OLoc=='H' ~ 'A', OLoc=='A' ~ 'H', TRUE ~ 'N')) -> group2\n",
    "group1 %>% bind_rows(group2) -> df.regulars"
   ]
  },
  {
   "cell_type": "code",
   "execution_count": 7,
   "metadata": {},
   "outputs": [
    {
     "name": "stdout",
     "output_type": "stream",
     "text": [
      "10810 35 \n"
     ]
    },
    {
     "data": {
      "text/html": [
       "<table>\n",
       "<thead><tr><th scope=col>Season</th><th scope=col>DayNum</th><th scope=col>TeamID</th><th scope=col>Score</th><th scope=col>OTeamID</th><th scope=col>OScore</th><th scope=col>Loc</th><th scope=col>NumOT</th><th scope=col>FGM</th><th scope=col>FGA</th><th scope=col>⋯</th><th scope=col>OFTM</th><th scope=col>OFTA</th><th scope=col>OOR</th><th scope=col>ODR</th><th scope=col>OAst</th><th scope=col>OTO</th><th scope=col>OStl</th><th scope=col>OBlk</th><th scope=col>OPF</th><th scope=col>OLoc</th></tr></thead>\n",
       "<tbody>\n",
       "\t<tr><td>2018</td><td>11  </td><td>1104</td><td> 82 </td><td>1272</td><td>70  </td><td>N   </td><td>0   </td><td>26  </td><td>57  </td><td>⋯   </td><td>22  </td><td>36  </td><td>19  </td><td>24  </td><td> 7  </td><td>17  </td><td> 7  </td><td>3   </td><td>22  </td><td>N   </td></tr>\n",
       "\t<tr><td>2018</td><td>11  </td><td>1107</td><td> 69 </td><td>1233</td><td>67  </td><td>H   </td><td>0   </td><td>24  </td><td>62  </td><td>⋯   </td><td>11  </td><td>14  </td><td> 7  </td><td>20  </td><td>14  </td><td> 7  </td><td> 6  </td><td>3   </td><td>21  </td><td>A   </td></tr>\n",
       "\t<tr><td>2018</td><td>11  </td><td>1112</td><td>101 </td><td>1319</td><td>67  </td><td>H   </td><td>0   </td><td>34  </td><td>57  </td><td>⋯   </td><td>17  </td><td>30  </td><td>12  </td><td>11  </td><td>11  </td><td>13  </td><td> 3  </td><td>1   </td><td>24  </td><td>A   </td></tr>\n",
       "\t<tr><td>2018</td><td>11  </td><td>1113</td><td> 94 </td><td>1226</td><td>74  </td><td>H   </td><td>0   </td><td>34  </td><td>65  </td><td>⋯   </td><td>13  </td><td>22  </td><td> 8  </td><td>21  </td><td>17  </td><td>14  </td><td> 6  </td><td>2   </td><td>20  </td><td>A   </td></tr>\n",
       "\t<tr><td>2018</td><td>11  </td><td>1116</td><td> 95 </td><td>1359</td><td>56  </td><td>H   </td><td>0   </td><td>36  </td><td>63  </td><td>⋯   </td><td> 8  </td><td>15  </td><td>15  </td><td>17  </td><td>12  </td><td>19  </td><td> 6  </td><td>1   </td><td>20  </td><td>A   </td></tr>\n",
       "\t<tr><td>2018</td><td>11  </td><td>1120</td><td>102 </td><td>1313</td><td>74  </td><td>H   </td><td>0   </td><td>35  </td><td>63  </td><td>⋯   </td><td>20  </td><td>27  </td><td> 9  </td><td>20  </td><td>15  </td><td>16  </td><td>11  </td><td>3   </td><td>26  </td><td>A   </td></tr>\n",
       "</tbody>\n",
       "</table>\n"
      ],
      "text/latex": [
       "\\begin{tabular}{r|lllllllllllllllllllllllllllllllllll}\n",
       " Season & DayNum & TeamID & Score & OTeamID & OScore & Loc & NumOT & FGM & FGA & ⋯ & OFTM & OFTA & OOR & ODR & OAst & OTO & OStl & OBlk & OPF & OLoc\\\\\n",
       "\\hline\n",
       "\t 2018 & 11   & 1104 &  82  & 1272 & 70   & N    & 0    & 26   & 57   & ⋯    & 22   & 36   & 19   & 24   &  7   & 17   &  7   & 3    & 22   & N   \\\\\n",
       "\t 2018 & 11   & 1107 &  69  & 1233 & 67   & H    & 0    & 24   & 62   & ⋯    & 11   & 14   &  7   & 20   & 14   &  7   &  6   & 3    & 21   & A   \\\\\n",
       "\t 2018 & 11   & 1112 & 101  & 1319 & 67   & H    & 0    & 34   & 57   & ⋯    & 17   & 30   & 12   & 11   & 11   & 13   &  3   & 1    & 24   & A   \\\\\n",
       "\t 2018 & 11   & 1113 &  94  & 1226 & 74   & H    & 0    & 34   & 65   & ⋯    & 13   & 22   &  8   & 21   & 17   & 14   &  6   & 2    & 20   & A   \\\\\n",
       "\t 2018 & 11   & 1116 &  95  & 1359 & 56   & H    & 0    & 36   & 63   & ⋯    &  8   & 15   & 15   & 17   & 12   & 19   &  6   & 1    & 20   & A   \\\\\n",
       "\t 2018 & 11   & 1120 & 102  & 1313 & 74   & H    & 0    & 35   & 63   & ⋯    & 20   & 27   &  9   & 20   & 15   & 16   & 11   & 3    & 26   & A   \\\\\n",
       "\\end{tabular}\n"
      ],
      "text/markdown": [
       "\n",
       "| Season | DayNum | TeamID | Score | OTeamID | OScore | Loc | NumOT | FGM | FGA | ⋯ | OFTM | OFTA | OOR | ODR | OAst | OTO | OStl | OBlk | OPF | OLoc |\n",
       "|---|---|---|---|---|---|---|---|---|---|---|---|---|---|---|---|---|---|---|---|---|\n",
       "| 2018 | 11   | 1104 |  82  | 1272 | 70   | N    | 0    | 26   | 57   | ⋯    | 22   | 36   | 19   | 24   |  7   | 17   |  7   | 3    | 22   | N    |\n",
       "| 2018 | 11   | 1107 |  69  | 1233 | 67   | H    | 0    | 24   | 62   | ⋯    | 11   | 14   |  7   | 20   | 14   |  7   |  6   | 3    | 21   | A    |\n",
       "| 2018 | 11   | 1112 | 101  | 1319 | 67   | H    | 0    | 34   | 57   | ⋯    | 17   | 30   | 12   | 11   | 11   | 13   |  3   | 1    | 24   | A    |\n",
       "| 2018 | 11   | 1113 |  94  | 1226 | 74   | H    | 0    | 34   | 65   | ⋯    | 13   | 22   |  8   | 21   | 17   | 14   |  6   | 2    | 20   | A    |\n",
       "| 2018 | 11   | 1116 |  95  | 1359 | 56   | H    | 0    | 36   | 63   | ⋯    |  8   | 15   | 15   | 17   | 12   | 19   |  6   | 1    | 20   | A    |\n",
       "| 2018 | 11   | 1120 | 102  | 1313 | 74   | H    | 0    | 35   | 63   | ⋯    | 20   | 27   |  9   | 20   | 15   | 16   | 11   | 3    | 26   | A    |\n",
       "\n"
      ],
      "text/plain": [
       "  Season DayNum TeamID Score OTeamID OScore Loc NumOT FGM FGA ⋯ OFTM OFTA OOR\n",
       "1 2018   11     1104    82   1272    70     N   0     26  57  ⋯ 22   36   19 \n",
       "2 2018   11     1107    69   1233    67     H   0     24  62  ⋯ 11   14    7 \n",
       "3 2018   11     1112   101   1319    67     H   0     34  57  ⋯ 17   30   12 \n",
       "4 2018   11     1113    94   1226    74     H   0     34  65  ⋯ 13   22    8 \n",
       "5 2018   11     1116    95   1359    56     H   0     36  63  ⋯  8   15   15 \n",
       "6 2018   11     1120   102   1313    74     H   0     35  63  ⋯ 20   27    9 \n",
       "  ODR OAst OTO OStl OBlk OPF OLoc\n",
       "1 24   7   17   7   3    22  N   \n",
       "2 20  14    7   6   3    21  A   \n",
       "3 11  11   13   3   1    24  A   \n",
       "4 21  17   14   6   2    20  A   \n",
       "5 17  12   19   6   1    20  A   \n",
       "6 20  15   16  11   3    26  A   "
      ]
     },
     "metadata": {},
     "output_type": "display_data"
    }
   ],
   "source": [
    "df.regulars %>% dim %>% cat('\\n')\n",
    "df.regulars %>% arrange(Season,DayNum) %>% head"
   ]
  },
  {
   "cell_type": "code",
   "execution_count": 8,
   "metadata": {},
   "outputs": [],
   "source": [
    "df.regulars %>%\n",
    "    left_join(df.teams %>% rename(OTeamName=TeamName),by=c('OTeamID'='TeamID')) %>%\n",
    "    left_join(df.teams,by='TeamID') -> df.regulars"
   ]
  },
  {
   "cell_type": "markdown",
   "metadata": {},
   "source": [
    "#### Stat matrix"
   ]
  },
  {
   "cell_type": "code",
   "execution_count": 9,
   "metadata": {},
   "outputs": [],
   "source": [
    "CreateMatrix <- function(dataset,stat) {\n",
    "    stat_var <- enquo(stat)\n",
    "    dataset %>% rename(Statistic := !!stat_var) -> dataset\n",
    "    for(i in 2018:2018) {\n",
    "        dataset %>%\n",
    "            filter(Season==i) %>%\n",
    "            select(TeamName,OTeamName,Statistic) %>% \n",
    "            group_by(TeamName,OTeamName) %>% \n",
    "            summarise(Statistic=mean(Statistic)) %>% \n",
    "            ungroup() %>%\n",
    "            spread(TeamName,Statistic) %>% \n",
    "            impute(0.01) %>% \n",
    "            select(-OTeamName) %>% \n",
    "            as.matrix() -> tmp\n",
    "        dataset %>% \n",
    "            filter(Season==i) %>% \n",
    "            distinct(OTeamName) %>% \n",
    "            arrange(OTeamName) %>% \n",
    "            pull(OTeamName) -> vnames\n",
    "        attr(tmp,'dimnames') <- list(vnames,vnames)\n",
    "        assign(paste0('m.stat.',i), tmp, envir=.GlobalEnv)\n",
    "    }\n",
    "}"
   ]
  },
  {
   "cell_type": "code",
   "execution_count": 10,
   "metadata": {},
   "outputs": [],
   "source": [
    "dataset <- df.regulars %>% \n",
    "    mutate(Poss=FGA+0.475*FTA-OR+TO,ScorePoss=Score/Poss) %>%\n",
    "    mutate(OPoss=OFGA+0.475*OFTA-OOR+OTO,OScorePoss=OScore/OPoss) %>%\n",
    "    mutate(GmS=(ScorePoss+1)/(ScorePoss+OScorePoss+2))"
   ]
  },
  {
   "cell_type": "code",
   "execution_count": 11,
   "metadata": {
    "scrolled": false
   },
   "outputs": [
    {
     "data": {
      "text/html": [
       "<table>\n",
       "<thead><tr><th scope=col>Season</th><th scope=col>DayNum</th><th scope=col>TeamID</th><th scope=col>Score</th><th scope=col>OTeamID</th><th scope=col>OScore</th><th scope=col>Loc</th><th scope=col>NumOT</th><th scope=col>FGM</th><th scope=col>FGA</th><th scope=col>⋯</th><th scope=col>OBlk</th><th scope=col>OPF</th><th scope=col>OLoc</th><th scope=col>OTeamName</th><th scope=col>TeamName</th><th scope=col>Poss</th><th scope=col>ScorePoss</th><th scope=col>OPoss</th><th scope=col>OScorePoss</th><th scope=col>GmS</th></tr></thead>\n",
       "<tbody>\n",
       "\t<tr><td>2018            </td><td>11              </td><td>1104            </td><td> 82             </td><td>1272            </td><td>70              </td><td>N               </td><td>0               </td><td>26              </td><td>57              </td><td>⋯               </td><td>3               </td><td>22              </td><td>N               </td><td>memphis         </td><td>alabama         </td><td>73.300          </td><td>1.118690        </td><td>75.100          </td><td>0.9320905       </td><td>0.5230326       </td></tr>\n",
       "\t<tr><td>2018            </td><td>11              </td><td>1107            </td><td> 69             </td><td>1233            </td><td>67              </td><td>H               </td><td>0               </td><td>24              </td><td>62              </td><td>⋯               </td><td>3               </td><td>21              </td><td>A               </td><td>iona            </td><td>albany_ny       </td><td>65.025          </td><td>1.061130        </td><td>65.650          </td><td>1.0205636       </td><td>0.5049694       </td></tr>\n",
       "\t<tr><td>2018            </td><td>11              </td><td>1112            </td><td>101             </td><td>1319            </td><td>67              </td><td>H               </td><td>0               </td><td>34              </td><td>57              </td><td>⋯               </td><td>1               </td><td>24              </td><td>A               </td><td>northern_arizona</td><td>arizona         </td><td>71.200          </td><td>1.418539        </td><td>73.250          </td><td>0.9146758       </td><td>0.5581397       </td></tr>\n",
       "\t<tr><td>2018            </td><td>11              </td><td>1113            </td><td> 94             </td><td>1226            </td><td>74              </td><td>H               </td><td>0               </td><td>34              </td><td>65              </td><td>⋯               </td><td>2               </td><td>20              </td><td>A               </td><td>idaho_st        </td><td>arizona_st      </td><td>76.350          </td><td>1.231172        </td><td>75.450          </td><td>0.9807820       </td><td>0.5297238       </td></tr>\n",
       "\t<tr><td>2018            </td><td>11              </td><td>1116            </td><td> 95             </td><td>1359            </td><td>56              </td><td>H               </td><td>0               </td><td>36              </td><td>63              </td><td>⋯               </td><td>1               </td><td>20              </td><td>A               </td><td>samford         </td><td>arkansas        </td><td>77.450          </td><td>1.226598        </td><td>72.125          </td><td>0.7764298       </td><td>0.5562284       </td></tr>\n",
       "\t<tr><td>2018            </td><td>11              </td><td>1120            </td><td>102             </td><td>1313            </td><td>74              </td><td>H               </td><td>0               </td><td>35              </td><td>63              </td><td>⋯               </td><td>3               </td><td>26              </td><td>A               </td><td>norfolk_st      </td><td>auburn          </td><td>84.250          </td><td>1.210682        </td><td>80.825          </td><td>0.9155583       </td><td>0.5357619       </td></tr>\n",
       "</tbody>\n",
       "</table>\n"
      ],
      "text/latex": [
       "\\begin{tabular}{r|llllllllllllllllllllllllllllllllllllllllll}\n",
       " Season & DayNum & TeamID & Score & OTeamID & OScore & Loc & NumOT & FGM & FGA & ⋯ & OBlk & OPF & OLoc & OTeamName & TeamName & Poss & ScorePoss & OPoss & OScorePoss & GmS\\\\\n",
       "\\hline\n",
       "\t 2018             & 11               & 1104             &  82              & 1272             & 70               & N                & 0                & 26               & 57               & ⋯                & 3                & 22               & N                & memphis          & alabama          & 73.300           & 1.118690         & 75.100           & 0.9320905        & 0.5230326       \\\\\n",
       "\t 2018             & 11               & 1107             &  69              & 1233             & 67               & H                & 0                & 24               & 62               & ⋯                & 3                & 21               & A                & iona             & albany\\_ny      & 65.025           & 1.061130         & 65.650           & 1.0205636        & 0.5049694       \\\\\n",
       "\t 2018               & 11                 & 1112               & 101                & 1319               & 67                 & H                  & 0                  & 34                 & 57                 & ⋯                  & 1                  & 24                 & A                  & northern\\_arizona & arizona            & 71.200             & 1.418539           & 73.250             & 0.9146758          & 0.5581397         \\\\\n",
       "\t 2018               & 11                 & 1113               &  94                & 1226               & 74                 & H                  & 0                  & 34                 & 65                 & ⋯                  & 2                  & 20                 & A                  & idaho\\_st         & arizona\\_st       & 76.350             & 1.231172           & 75.450             & 0.9807820          & 0.5297238         \\\\\n",
       "\t 2018             & 11               & 1116             &  95              & 1359             & 56               & H                & 0                & 36               & 63               & ⋯                & 1                & 20               & A                & samford          & arkansas         & 77.450           & 1.226598         & 72.125           & 0.7764298        & 0.5562284       \\\\\n",
       "\t 2018               & 11                 & 1120               & 102                & 1313               & 74                 & H                  & 0                  & 35                 & 63                 & ⋯                  & 3                  & 26                 & A                  & norfolk\\_st       & auburn             & 84.250             & 1.210682           & 80.825             & 0.9155583          & 0.5357619         \\\\\n",
       "\\end{tabular}\n"
      ],
      "text/markdown": [
       "\n",
       "| Season | DayNum | TeamID | Score | OTeamID | OScore | Loc | NumOT | FGM | FGA | ⋯ | OBlk | OPF | OLoc | OTeamName | TeamName | Poss | ScorePoss | OPoss | OScorePoss | GmS |\n",
       "|---|---|---|---|---|---|---|---|---|---|---|---|---|---|---|---|---|---|---|---|---|\n",
       "| 2018             | 11               | 1104             |  82              | 1272             | 70               | N                | 0                | 26               | 57               | ⋯                | 3                | 22               | N                | memphis          | alabama          | 73.300           | 1.118690         | 75.100           | 0.9320905        | 0.5230326        |\n",
       "| 2018             | 11               | 1107             |  69              | 1233             | 67               | H                | 0                | 24               | 62               | ⋯                | 3                | 21               | A                | iona             | albany_ny        | 65.025           | 1.061130         | 65.650           | 1.0205636        | 0.5049694        |\n",
       "| 2018             | 11               | 1112             | 101              | 1319             | 67               | H                | 0                | 34               | 57               | ⋯                | 1                | 24               | A                | northern_arizona | arizona          | 71.200           | 1.418539         | 73.250           | 0.9146758        | 0.5581397        |\n",
       "| 2018             | 11               | 1113             |  94              | 1226             | 74               | H                | 0                | 34               | 65               | ⋯                | 2                | 20               | A                | idaho_st         | arizona_st       | 76.350           | 1.231172         | 75.450           | 0.9807820        | 0.5297238        |\n",
       "| 2018             | 11               | 1116             |  95              | 1359             | 56               | H                | 0                | 36               | 63               | ⋯                | 1                | 20               | A                | samford          | arkansas         | 77.450           | 1.226598         | 72.125           | 0.7764298        | 0.5562284        |\n",
       "| 2018             | 11               | 1120             | 102              | 1313             | 74               | H                | 0                | 35               | 63               | ⋯                | 3                | 26               | A                | norfolk_st       | auburn           | 84.250           | 1.210682         | 80.825           | 0.9155583        | 0.5357619        |\n",
       "\n"
      ],
      "text/plain": [
       "  Season DayNum TeamID Score OTeamID OScore Loc NumOT FGM FGA ⋯ OBlk OPF OLoc\n",
       "1 2018   11     1104    82   1272    70     N   0     26  57  ⋯ 3    22  N   \n",
       "2 2018   11     1107    69   1233    67     H   0     24  62  ⋯ 3    21  A   \n",
       "3 2018   11     1112   101   1319    67     H   0     34  57  ⋯ 1    24  A   \n",
       "4 2018   11     1113    94   1226    74     H   0     34  65  ⋯ 2    20  A   \n",
       "5 2018   11     1116    95   1359    56     H   0     36  63  ⋯ 1    20  A   \n",
       "6 2018   11     1120   102   1313    74     H   0     35  63  ⋯ 3    26  A   \n",
       "  OTeamName        TeamName   Poss   ScorePoss OPoss  OScorePoss GmS      \n",
       "1 memphis          alabama    73.300 1.118690  75.100 0.9320905  0.5230326\n",
       "2 iona             albany_ny  65.025 1.061130  65.650 1.0205636  0.5049694\n",
       "3 northern_arizona arizona    71.200 1.418539  73.250 0.9146758  0.5581397\n",
       "4 idaho_st         arizona_st 76.350 1.231172  75.450 0.9807820  0.5297238\n",
       "5 samford          arkansas   77.450 1.226598  72.125 0.7764298  0.5562284\n",
       "6 norfolk_st       auburn     84.250 1.210682  80.825 0.9155583  0.5357619"
      ]
     },
     "metadata": {},
     "output_type": "display_data"
    }
   ],
   "source": [
    "dataset %>% head"
   ]
  },
  {
   "cell_type": "code",
   "execution_count": 12,
   "metadata": {},
   "outputs": [],
   "source": [
    "CreateMatrix(dataset,GmS)"
   ]
  },
  {
   "cell_type": "markdown",
   "metadata": {},
   "source": [
    "####  Offense-Defense Rating"
   ]
  },
  {
   "cell_type": "code",
   "execution_count": 13,
   "metadata": {},
   "outputs": [],
   "source": [
    "ComputeRating <- function(A) {\n",
    "    dnow <- rep(1,nrow(A))\n",
    "    for(i in 1:100) {\n",
    "        dprev <- dnow\n",
    "        dnow <- A %*% (1/(t(A) %*% (1/dprev)))\n",
    "    }\n",
    "    rdef <- as.vector(dnow)\n",
    "    roff <- as.vector(t(A) %*% (1/rdef))\n",
    "    rating <- as.vector(roff / rdef)\n",
    "    data.frame(Team=attr(A,'dimnames')[[2]],Rating=rating,Offense=roff,Defense=rdef)\n",
    "}"
   ]
  },
  {
   "cell_type": "code",
   "execution_count": 14,
   "metadata": {},
   "outputs": [],
   "source": [
    "ComputeRating(m.stat.2018) %>% \n",
    "    mutate(Season=2018) %>% \n",
    "    mutate_if(is.factor,as.character) -> df.ratings"
   ]
  },
  {
   "cell_type": "code",
   "execution_count": 15,
   "metadata": {},
   "outputs": [
    {
     "data": {
      "text/html": [
       "<table>\n",
       "<thead><tr><th scope=col>Season</th><th scope=col>Team</th><th scope=col>Rating</th><th scope=col>Offense</th><th scope=col>Defense</th></tr></thead>\n",
       "<tbody>\n",
       "\t<tr><td>2018    </td><td>virginia</td><td>16.03642</td><td>16.38571</td><td>1.021781</td></tr>\n",
       "</tbody>\n",
       "</table>\n"
      ],
      "text/latex": [
       "\\begin{tabular}{r|lllll}\n",
       " Season & Team & Rating & Offense & Defense\\\\\n",
       "\\hline\n",
       "\t 2018     & virginia & 16.03642 & 16.38571 & 1.021781\\\\\n",
       "\\end{tabular}\n"
      ],
      "text/markdown": [
       "\n",
       "| Season | Team | Rating | Offense | Defense |\n",
       "|---|---|---|---|---|\n",
       "| 2018     | virginia | 16.03642 | 16.38571 | 1.021781 |\n",
       "\n"
      ],
      "text/plain": [
       "  Season Team     Rating   Offense  Defense \n",
       "1 2018   virginia 16.03642 16.38571 1.021781"
      ]
     },
     "metadata": {},
     "output_type": "display_data"
    }
   ],
   "source": [
    "df.ratings %>% arrange(desc(Rating)) %>% group_by(Season) %>% slice(1:1) %>% ungroup() %>% select(Season,everything())"
   ]
  },
  {
   "cell_type": "markdown",
   "metadata": {},
   "source": [
    "###  Regular seasons performance (train dataset)"
   ]
  },
  {
   "cell_type": "code",
   "execution_count": 16,
   "metadata": {},
   "outputs": [],
   "source": [
    "data.regulars %>% \n",
    "    select(Season,WTeamID,LTeamID) %>%\n",
    "    mutate(TeamID.x = ifelse(WTeamID<LTeamID,WTeamID,LTeamID), \n",
    "           TeamID.y = ifelse(WTeamID<LTeamID,LTeamID,WTeamID),\n",
    "           Target = ifelse(TeamID.x==WTeamID,1,0),\n",
    "           ID=str_c(Season,'_',TeamID.x,'_',TeamID.y)) %>%\n",
    "    select(-WTeamID,-LTeamID) -> df.train"
   ]
  },
  {
   "cell_type": "code",
   "execution_count": 17,
   "metadata": {},
   "outputs": [],
   "source": [
    "df.ratings %>%\n",
    "    left_join(df.teams,by=c('Team'='TeamName')) -> df.ratings"
   ]
  },
  {
   "cell_type": "code",
   "execution_count": 18,
   "metadata": {},
   "outputs": [],
   "source": [
    "df.train %>%\n",
    "    select(-Target,-ID) %>%\n",
    "    inner_join(df.ratings,by=c('Season','TeamID.x'='TeamID')) %>%\n",
    "    select(-Offense,-Defense,-Team) %>%\n",
    "    inner_join(df.ratings,by=c('Season','TeamID.y'='TeamID')) %>% \n",
    "    select(-Offense,-Defense,-Team) -> data.train.matchups"
   ]
  },
  {
   "cell_type": "code",
   "execution_count": 19,
   "metadata": {},
   "outputs": [
    {
     "data": {
      "text/html": [
       "<table>\n",
       "<thead><tr><th scope=col>Season</th><th scope=col>TeamID.x</th><th scope=col>TeamID.y</th><th scope=col>Rating.x</th><th scope=col>Rating.y</th></tr></thead>\n",
       "<tbody>\n",
       "\t<tr><td>2018    </td><td>1192    </td><td>1291    </td><td>13.53093</td><td>13.67047</td></tr>\n",
       "\t<tr><td>2018    </td><td>1245    </td><td>1290    </td><td>13.89913</td><td>12.66353</td></tr>\n",
       "\t<tr><td>2018    </td><td>1178    </td><td>1464    </td><td>13.40177</td><td>13.24373</td></tr>\n",
       "\t<tr><td>2018    </td><td>1202    </td><td>1422    </td><td>14.55420</td><td>14.63041</td></tr>\n",
       "\t<tr><td>2018    </td><td>1194    </td><td>1296    </td><td>13.64979</td><td>13.71278</td></tr>\n",
       "</tbody>\n",
       "</table>\n"
      ],
      "text/latex": [
       "\\begin{tabular}{r|lllll}\n",
       " Season & TeamID.x & TeamID.y & Rating.x & Rating.y\\\\\n",
       "\\hline\n",
       "\t 2018     & 1192     & 1291     & 13.53093 & 13.67047\\\\\n",
       "\t 2018     & 1245     & 1290     & 13.89913 & 12.66353\\\\\n",
       "\t 2018     & 1178     & 1464     & 13.40177 & 13.24373\\\\\n",
       "\t 2018     & 1202     & 1422     & 14.55420 & 14.63041\\\\\n",
       "\t 2018     & 1194     & 1296     & 13.64979 & 13.71278\\\\\n",
       "\\end{tabular}\n"
      ],
      "text/markdown": [
       "\n",
       "| Season | TeamID.x | TeamID.y | Rating.x | Rating.y |\n",
       "|---|---|---|---|---|\n",
       "| 2018     | 1192     | 1291     | 13.53093 | 13.67047 |\n",
       "| 2018     | 1245     | 1290     | 13.89913 | 12.66353 |\n",
       "| 2018     | 1178     | 1464     | 13.40177 | 13.24373 |\n",
       "| 2018     | 1202     | 1422     | 14.55420 | 14.63041 |\n",
       "| 2018     | 1194     | 1296     | 13.64979 | 13.71278 |\n",
       "\n"
      ],
      "text/plain": [
       "  Season TeamID.x TeamID.y Rating.x Rating.y\n",
       "1 2018   1192     1291     13.53093 13.67047\n",
       "2 2018   1245     1290     13.89913 12.66353\n",
       "3 2018   1178     1464     13.40177 13.24373\n",
       "4 2018   1202     1422     14.55420 14.63041\n",
       "5 2018   1194     1296     13.64979 13.71278"
      ]
     },
     "metadata": {},
     "output_type": "display_data"
    }
   ],
   "source": [
    "data.train.matchups %>% sample_n(5)"
   ]
  },
  {
   "cell_type": "code",
   "execution_count": 20,
   "metadata": {},
   "outputs": [
    {
     "data": {
      "text/html": [
       "<table>\n",
       "<thead><tr><th scope=col>Season</th><th scope=col>qtl</th><th scope=col>Slope</th></tr></thead>\n",
       "<tbody>\n",
       "\t<tr><td>2018    </td><td>0.15    </td><td>1.172652</td></tr>\n",
       "\t<tr><td>2018    </td><td>0.18    </td><td>1.197999</td></tr>\n",
       "\t<tr><td>2018    </td><td>0.14    </td><td>1.159917</td></tr>\n",
       "\t<tr><td>2018    </td><td>0.79    </td><td>2.300200</td></tr>\n",
       "\t<tr><td>2018    </td><td>0.31    </td><td>1.324320</td></tr>\n",
       "</tbody>\n",
       "</table>\n"
      ],
      "text/latex": [
       "\\begin{tabular}{r|lll}\n",
       " Season & qtl & Slope\\\\\n",
       "\\hline\n",
       "\t 2018     & 0.15     & 1.172652\\\\\n",
       "\t 2018     & 0.18     & 1.197999\\\\\n",
       "\t 2018     & 0.14     & 1.159917\\\\\n",
       "\t 2018     & 0.79     & 2.300200\\\\\n",
       "\t 2018     & 0.31     & 1.324320\\\\\n",
       "\\end{tabular}\n"
      ],
      "text/markdown": [
       "\n",
       "| Season | qtl | Slope |\n",
       "|---|---|---|\n",
       "| 2018     | 0.15     | 1.172652 |\n",
       "| 2018     | 0.18     | 1.197999 |\n",
       "| 2018     | 0.14     | 1.159917 |\n",
       "| 2018     | 0.79     | 2.300200 |\n",
       "| 2018     | 0.31     | 1.324320 |\n",
       "\n"
      ],
      "text/plain": [
       "  Season qtl  Slope   \n",
       "1 2018   0.15 1.172652\n",
       "2 2018   0.18 1.197999\n",
       "3 2018   0.14 1.159917\n",
       "4 2018   0.79 2.300200\n",
       "5 2018   0.31 1.324320"
      ]
     },
     "metadata": {},
     "output_type": "display_data"
    }
   ],
   "source": [
    "# slope hyper parameter grid : we will compute 80 models and chose the best one (min logloss)\n",
    "df.ratings %>% \n",
    "    mutate(dummy=1) %>% \n",
    "    inner_join(data.frame(qtl=seq(0.01,0.80,0.01),dummy=1),by='dummy') %>% \n",
    "    select(-dummy) %>% \n",
    "    group_by(Season,qtl) %>% \n",
    "    mutate(thres=max(Rating)-quantile(Rating,max(qtl)),Slope=3/thres) %>%\n",
    "    ungroup %>% \n",
    "    select(Season,qtl,Slope) %>% \n",
    "    distinct() -> df.slopes\n",
    "df.slopes %>% sample_n(5)"
   ]
  },
  {
   "cell_type": "code",
   "execution_count": 21,
   "metadata": {},
   "outputs": [
    {
     "name": "stdout",
     "output_type": "stream",
     "text": [
      "432400 7 \n"
     ]
    },
    {
     "data": {
      "text/html": [
       "<table>\n",
       "<thead><tr><th scope=col>Season</th><th scope=col>TeamID.x</th><th scope=col>TeamID.y</th><th scope=col>Rating.x</th><th scope=col>Rating.y</th><th scope=col>qtl</th><th scope=col>Slope</th></tr></thead>\n",
       "<tbody>\n",
       "\t<tr><td>2018    </td><td>1110    </td><td>1131    </td><td>13.28020</td><td>13.71960</td><td>0.26    </td><td>1.264607</td></tr>\n",
       "\t<tr><td>2018    </td><td>1202    </td><td>1354    </td><td>14.55420</td><td>13.00245</td><td>0.76    </td><td>2.206172</td></tr>\n",
       "\t<tr><td>2018    </td><td>1252    </td><td>1312    </td><td>14.06396</td><td>13.82812</td><td>0.59    </td><td>1.695790</td></tr>\n",
       "\t<tr><td>2018    </td><td>1422    </td><td>1459    </td><td>14.63041</td><td>14.12085</td><td>0.47    </td><td>1.512124</td></tr>\n",
       "\t<tr><td>2018    </td><td>1102    </td><td>1429    </td><td>13.67905</td><td>14.25000</td><td>0.19    </td><td>1.204735</td></tr>\n",
       "</tbody>\n",
       "</table>\n"
      ],
      "text/latex": [
       "\\begin{tabular}{r|lllllll}\n",
       " Season & TeamID.x & TeamID.y & Rating.x & Rating.y & qtl & Slope\\\\\n",
       "\\hline\n",
       "\t 2018     & 1110     & 1131     & 13.28020 & 13.71960 & 0.26     & 1.264607\\\\\n",
       "\t 2018     & 1202     & 1354     & 14.55420 & 13.00245 & 0.76     & 2.206172\\\\\n",
       "\t 2018     & 1252     & 1312     & 14.06396 & 13.82812 & 0.59     & 1.695790\\\\\n",
       "\t 2018     & 1422     & 1459     & 14.63041 & 14.12085 & 0.47     & 1.512124\\\\\n",
       "\t 2018     & 1102     & 1429     & 13.67905 & 14.25000 & 0.19     & 1.204735\\\\\n",
       "\\end{tabular}\n"
      ],
      "text/markdown": [
       "\n",
       "| Season | TeamID.x | TeamID.y | Rating.x | Rating.y | qtl | Slope |\n",
       "|---|---|---|---|---|---|---|\n",
       "| 2018     | 1110     | 1131     | 13.28020 | 13.71960 | 0.26     | 1.264607 |\n",
       "| 2018     | 1202     | 1354     | 14.55420 | 13.00245 | 0.76     | 2.206172 |\n",
       "| 2018     | 1252     | 1312     | 14.06396 | 13.82812 | 0.59     | 1.695790 |\n",
       "| 2018     | 1422     | 1459     | 14.63041 | 14.12085 | 0.47     | 1.512124 |\n",
       "| 2018     | 1102     | 1429     | 13.67905 | 14.25000 | 0.19     | 1.204735 |\n",
       "\n"
      ],
      "text/plain": [
       "  Season TeamID.x TeamID.y Rating.x Rating.y qtl  Slope   \n",
       "1 2018   1110     1131     13.28020 13.71960 0.26 1.264607\n",
       "2 2018   1202     1354     14.55420 13.00245 0.76 2.206172\n",
       "3 2018   1252     1312     14.06396 13.82812 0.59 1.695790\n",
       "4 2018   1422     1459     14.63041 14.12085 0.47 1.512124\n",
       "5 2018   1102     1429     13.67905 14.25000 0.19 1.204735"
      ]
     },
     "metadata": {},
     "output_type": "display_data"
    }
   ],
   "source": [
    "data.train.matchups %>% \n",
    "    inner_join(df.slopes,by=c('Season')) -> data.train.matchups\n",
    "data.train.matchups %>% dim %>% cat('\\n')\n",
    "data.train.matchups %>% sample_n(5)"
   ]
  },
  {
   "cell_type": "code",
   "execution_count": 22,
   "metadata": {},
   "outputs": [
    {
     "data": {
      "text/html": [
       "<table>\n",
       "<thead><tr><th scope=col>Season</th><th scope=col>qtl</th><th scope=col>ID</th><th scope=col>Pred</th><th scope=col>Prob</th></tr></thead>\n",
       "<tbody>\n",
       "\t<tr><td>2018          </td><td>0.05          </td><td>2018_1124_1403</td><td>0             </td><td>0.351         </td></tr>\n",
       "\t<tr><td>2018          </td><td>0.12          </td><td>2018_1279_1397</td><td>0             </td><td>0.280         </td></tr>\n",
       "\t<tr><td>2018          </td><td>0.23          </td><td>2018_1209_1279</td><td>1             </td><td>0.511         </td></tr>\n",
       "\t<tr><td>2018          </td><td>0.28          </td><td>2018_1185_1316</td><td>1             </td><td>0.718         </td></tr>\n",
       "\t<tr><td>2018          </td><td>0.56          </td><td>2018_1148_1187</td><td>1             </td><td>0.550         </td></tr>\n",
       "</tbody>\n",
       "</table>\n"
      ],
      "text/latex": [
       "\\begin{tabular}{r|lllll}\n",
       " Season & qtl & ID & Pred & Prob\\\\\n",
       "\\hline\n",
       "\t 2018               & 0.05               & 2018\\_1124\\_1403 & 0                  & 0.351             \\\\\n",
       "\t 2018               & 0.12               & 2018\\_1279\\_1397 & 0                  & 0.280             \\\\\n",
       "\t 2018               & 0.23               & 2018\\_1209\\_1279 & 1                  & 0.511             \\\\\n",
       "\t 2018               & 0.28               & 2018\\_1185\\_1316 & 1                  & 0.718             \\\\\n",
       "\t 2018               & 0.56               & 2018\\_1148\\_1187 & 1                  & 0.550             \\\\\n",
       "\\end{tabular}\n"
      ],
      "text/markdown": [
       "\n",
       "| Season | qtl | ID | Pred | Prob |\n",
       "|---|---|---|---|---|\n",
       "| 2018           | 0.05           | 2018_1124_1403 | 0              | 0.351          |\n",
       "| 2018           | 0.12           | 2018_1279_1397 | 0              | 0.280          |\n",
       "| 2018           | 0.23           | 2018_1209_1279 | 1              | 0.511          |\n",
       "| 2018           | 0.28           | 2018_1185_1316 | 1              | 0.718          |\n",
       "| 2018           | 0.56           | 2018_1148_1187 | 1              | 0.550          |\n",
       "\n"
      ],
      "text/plain": [
       "  Season qtl  ID             Pred Prob \n",
       "1 2018   0.05 2018_1124_1403 0    0.351\n",
       "2 2018   0.12 2018_1279_1397 0    0.280\n",
       "3 2018   0.23 2018_1209_1279 1    0.511\n",
       "4 2018   0.28 2018_1185_1316 1    0.718\n",
       "5 2018   0.56 2018_1148_1187 1    0.550"
      ]
     },
     "metadata": {},
     "output_type": "display_data"
    }
   ],
   "source": [
    "# machups predictions : compute the winning probability of TeamID.x and cap it into [0.05,0.95] to avoid too much logloss is case of FP or FN \n",
    "data.train.matchups %>% \n",
    "    mutate(ID=str_c(Season,'_',TeamID.x,'_',TeamID.y)) %>% \n",
    "    mutate(Prob=logistic(Rating.x-Rating.y,a=Slope)) %>% \n",
    "    mutate(Pred=ifelse(Prob>0.5,1,0)) %>% \n",
    "    mutate(Prob=round(Prob,3)) %>%\n",
    "    mutate_which(Prob>0.95,Prob=0.95) %>%\n",
    "    mutate_which(Prob<0.05,Prob=0.05) %>%\n",
    "    select(Season,qtl,ID,Pred,Prob) -> df.train.submit\n",
    "df.train.submit %>% sample_n(5)"
   ]
  },
  {
   "cell_type": "code",
   "execution_count": 23,
   "metadata": {},
   "outputs": [],
   "source": [
    "# merge prediction and truth\n",
    "df.train %>% select(ID,Target) -> data.train.truth\n",
    "data.train.truth %>% inner_join(df.train.submit,by='ID') -> df.train.results"
   ]
  },
  {
   "cell_type": "code",
   "execution_count": 24,
   "metadata": {
    "scrolled": false
   },
   "outputs": [
    {
     "data": {
      "text/html": [
       "<table>\n",
       "<thead><tr><th scope=col>Season</th><th scope=col>qtl</th><th scope=col>TC</th><th scope=col>FC</th><th scope=col>N</th><th scope=col>Acc</th><th scope=col>LogLoss</th></tr></thead>\n",
       "<tbody>\n",
       "\t<tr><td>2018     </td><td>0.72     </td><td>6505     </td><td>2508     </td><td>9013     </td><td>0.7217353</td><td>0.5317344</td></tr>\n",
       "</tbody>\n",
       "</table>\n"
      ],
      "text/latex": [
       "\\begin{tabular}{r|lllllll}\n",
       " Season & qtl & TC & FC & N & Acc & LogLoss\\\\\n",
       "\\hline\n",
       "\t 2018      & 0.72      & 6505      & 2508      & 9013      & 0.7217353 & 0.5317344\\\\\n",
       "\\end{tabular}\n"
      ],
      "text/markdown": [
       "\n",
       "| Season | qtl | TC | FC | N | Acc | LogLoss |\n",
       "|---|---|---|---|---|---|---|\n",
       "| 2018      | 0.72      | 6505      | 2508      | 9013      | 0.7217353 | 0.5317344 |\n",
       "\n"
      ],
      "text/plain": [
       "  Season qtl  TC   FC   N    Acc       LogLoss  \n",
       "1 2018   0.72 6505 2508 9013 0.7217353 0.5317344"
      ]
     },
     "metadata": {},
     "output_type": "display_data"
    }
   ],
   "source": [
    "# compute accuracy & Logloss per qtl to find the best one per Season\n",
    "df.train.results %>% \n",
    "    mutate(OK=ifelse(Pred==Target,1,0)) %>%\n",
    "    mutate(LogLoss=Target*log(Prob) + (1-Target)*log(1-Prob)) %>%\n",
    "    group_by(Season,qtl) %>%\n",
    "    summarise(TC=sum(OK),N=n(),FC=N-TC,Acc=TC/N,LogLoss=-mean(LogLoss)) %>%\n",
    "    select(Season,qtl,TC,FC,N,Acc,LogLoss) -> df.train.perf\n",
    "df.train.perf %>% arrange(LogLoss) %>% group_by(Season) %>% slice(1:1) %>% ungroup() "
   ]
  },
  {
   "cell_type": "code",
   "execution_count": 25,
   "metadata": {},
   "outputs": [
    {
     "data": {
      "text/html": [
       "<table>\n",
       "<thead><tr><th scope=col>Stat</th><th scope=col>Season_2018</th></tr></thead>\n",
       "<tbody>\n",
       "\t<tr><td>Accuracy     </td><td>0.7217353    </td></tr>\n",
       "\t<tr><td>Best LogLoss </td><td>0.5317344    </td></tr>\n",
       "\t<tr><td>Best Quantile</td><td>0.7200000    </td></tr>\n",
       "</tbody>\n",
       "</table>\n"
      ],
      "text/latex": [
       "\\begin{tabular}{r|ll}\n",
       " Stat & Season\\_2018\\\\\n",
       "\\hline\n",
       "\t Accuracy      & 0.7217353    \\\\\n",
       "\t Best LogLoss  & 0.5317344    \\\\\n",
       "\t Best Quantile & 0.7200000    \\\\\n",
       "\\end{tabular}\n"
      ],
      "text/markdown": [
       "\n",
       "| Stat | Season_2018 |\n",
       "|---|---|\n",
       "| Accuracy      | 0.7217353     |\n",
       "| Best LogLoss  | 0.5317344     |\n",
       "| Best Quantile | 0.7200000     |\n",
       "\n"
      ],
      "text/plain": [
       "  Stat          Season_2018\n",
       "1 Accuracy      0.7217353  \n",
       "2 Best LogLoss  0.5317344  \n",
       "3 Best Quantile 0.7200000  "
      ]
     },
     "metadata": {},
     "output_type": "display_data"
    }
   ],
   "source": [
    "df.train.perf %>% distinct(Season,Acc) %>% spread(Season,Acc,sep='_') %>%\n",
    "    mutate(Stat='Accuracy') %>% select(Stat,everything()) -> tmp01\n",
    "df.train.perf %>% arrange(LogLoss) %>% group_by(Season) %>% slice(1:1) %>% ungroup() %>% \n",
    "    select(Season,LogLoss) %>% spread(Season,LogLoss,sep='_') %>% mutate(Stat='Best LogLoss') %>% select(Stat,everything()) -> tmp02\n",
    "df.train.perf %>% arrange(LogLoss) %>% group_by(Season) %>% slice(1:1) %>% ungroup() %>% \n",
    "    select(Season,qtl) %>% spread(Season,qtl,sep='_') %>% mutate(Stat='Best Quantile') %>% select(Stat,everything()) -> tmp03\n",
    "tmp01 %>% bind_rows(tmp02) %>% bind_rows(tmp03)"
   ]
  },
  {
   "cell_type": "code",
   "execution_count": 26,
   "metadata": {},
   "outputs": [
    {
     "data": {
      "image/png": "[encoded data removed]",
      "text/plain": [
       "plot without title"
      ]
     },
     "metadata": {},
     "output_type": "display_data"
    }
   ],
   "source": [
    "options(repr.plot.width=2, repr.plot.height=4)\n",
    "ggplot(data=df.train.perf,aes(x=qtl,y=LogLoss)) + \n",
    "    geom_point(size=0.5) + \n",
    "    geom_hline(yintercept=0.69,color='red',linetype=\"dotted\") +\n",
    "    facet_grid(. ~ Season)"
   ]
  },
  {
   "cell_type": "markdown",
   "metadata": {},
   "source": [
    "### Tourney matchups performance (validation dataset)"
   ]
  },
  {
   "cell_type": "markdown",
   "metadata": {},
   "source": [
    "#### Load test data"
   ]
  },
  {
   "cell_type": "code",
   "execution_count": 27,
   "metadata": {},
   "outputs": [],
   "source": [
    "data.matchups <- readRDS('../datafiles_rds/TourneyMatchups.rds')\n",
    "data.matchups %>%\n",
    "    filter(Season==2018) -> data.matchups"
   ]
  },
  {
   "cell_type": "markdown",
   "metadata": {},
   "source": [
    "#### prepare"
   ]
  },
  {
   "cell_type": "code",
   "execution_count": 28,
   "metadata": {},
   "outputs": [],
   "source": [
    "data.matchups %>%\n",
    "    select(-Season) %>%\n",
    "    inner_join(df.ratings,by=c('TeamID.x'='TeamID')) %>%\n",
    "    select(-Offense,-Defense,-Team,-Season) %>%\n",
    "    inner_join(df.ratings,by=c('TeamID.y'='TeamID')) %>% \n",
    "    select(-Offense,-Defense,-Team) -> df.matchups  "
   ]
  },
  {
   "cell_type": "code",
   "execution_count": 29,
   "metadata": {},
   "outputs": [
    {
     "data": {
      "text/html": [
       "<table>\n",
       "<thead><tr><th scope=col>TeamID.x</th><th scope=col>TeamID.y</th><th scope=col>Rating.x</th><th scope=col>Rating.y</th><th scope=col>Season</th></tr></thead>\n",
       "<tbody>\n",
       "\t<tr><td>1347    </td><td>1382    </td><td>14.11569</td><td>14.94652</td><td>2018    </td></tr>\n",
       "\t<tr><td>1347    </td><td>1393    </td><td>14.11569</td><td>15.03618</td><td>2018    </td></tr>\n",
       "\t<tr><td>1347    </td><td>1411    </td><td>14.11569</td><td>13.67137</td><td>2018    </td></tr>\n",
       "\t<tr><td>1347    </td><td>1348    </td><td>14.11569</td><td>15.06638</td><td>2018    </td></tr>\n",
       "\t<tr><td>1347    </td><td>1371    </td><td>14.11569</td><td>15.13866</td><td>2018    </td></tr>\n",
       "\t<tr><td>1347    </td><td>1397    </td><td>14.11569</td><td>15.31907</td><td>2018    </td></tr>\n",
       "</tbody>\n",
       "</table>\n"
      ],
      "text/latex": [
       "\\begin{tabular}{r|lllll}\n",
       " TeamID.x & TeamID.y & Rating.x & Rating.y & Season\\\\\n",
       "\\hline\n",
       "\t 1347     & 1382     & 14.11569 & 14.94652 & 2018    \\\\\n",
       "\t 1347     & 1393     & 14.11569 & 15.03618 & 2018    \\\\\n",
       "\t 1347     & 1411     & 14.11569 & 13.67137 & 2018    \\\\\n",
       "\t 1347     & 1348     & 14.11569 & 15.06638 & 2018    \\\\\n",
       "\t 1347     & 1371     & 14.11569 & 15.13866 & 2018    \\\\\n",
       "\t 1347     & 1397     & 14.11569 & 15.31907 & 2018    \\\\\n",
       "\\end{tabular}\n"
      ],
      "text/markdown": [
       "\n",
       "| TeamID.x | TeamID.y | Rating.x | Rating.y | Season |\n",
       "|---|---|---|---|---|\n",
       "| 1347     | 1382     | 14.11569 | 14.94652 | 2018     |\n",
       "| 1347     | 1393     | 14.11569 | 15.03618 | 2018     |\n",
       "| 1347     | 1411     | 14.11569 | 13.67137 | 2018     |\n",
       "| 1347     | 1348     | 14.11569 | 15.06638 | 2018     |\n",
       "| 1347     | 1371     | 14.11569 | 15.13866 | 2018     |\n",
       "| 1347     | 1397     | 14.11569 | 15.31907 | 2018     |\n",
       "\n"
      ],
      "text/plain": [
       "  TeamID.x TeamID.y Rating.x Rating.y Season\n",
       "1 1347     1382     14.11569 14.94652 2018  \n",
       "2 1347     1393     14.11569 15.03618 2018  \n",
       "3 1347     1411     14.11569 13.67137 2018  \n",
       "4 1347     1348     14.11569 15.06638 2018  \n",
       "5 1347     1371     14.11569 15.13866 2018  \n",
       "6 1347     1397     14.11569 15.31907 2018  "
      ]
     },
     "metadata": {},
     "output_type": "display_data"
    }
   ],
   "source": [
    "df.matchups %>% head"
   ]
  },
  {
   "cell_type": "code",
   "execution_count": 30,
   "metadata": {},
   "outputs": [],
   "source": [
    "df.slopes %>% filter(qtl==0.72) %>% pull(Slope) -> Slope"
   ]
  },
  {
   "cell_type": "code",
   "execution_count": 31,
   "metadata": {},
   "outputs": [
    {
     "data": {
      "text/html": [
       "<table>\n",
       "<thead><tr><th scope=col>ID</th><th scope=col>Pred</th><th scope=col>Prob</th></tr></thead>\n",
       "<tbody>\n",
       "\t<tr><td>2018_1104_1112</td><td>0             </td><td>0.243         </td></tr>\n",
       "\t<tr><td>2018_1104_1113</td><td>0             </td><td>0.278         </td></tr>\n",
       "\t<tr><td>2018_1104_1116</td><td>0             </td><td>0.359         </td></tr>\n",
       "\t<tr><td>2018_1104_1120</td><td>0             </td><td>0.273         </td></tr>\n",
       "\t<tr><td>2018_1104_1137</td><td>1             </td><td>0.648         </td></tr>\n",
       "\t<tr><td>2018_1104_1138</td><td>1             </td><td>0.537         </td></tr>\n",
       "</tbody>\n",
       "</table>\n"
      ],
      "text/latex": [
       "\\begin{tabular}{r|lll}\n",
       " ID & Pred & Prob\\\\\n",
       "\\hline\n",
       "\t 2018\\_1104\\_1112 & 0                  & 0.243             \\\\\n",
       "\t 2018\\_1104\\_1113 & 0                  & 0.278             \\\\\n",
       "\t 2018\\_1104\\_1116 & 0                  & 0.359             \\\\\n",
       "\t 2018\\_1104\\_1120 & 0                  & 0.273             \\\\\n",
       "\t 2018\\_1104\\_1137 & 1                  & 0.648             \\\\\n",
       "\t 2018\\_1104\\_1138 & 1                  & 0.537             \\\\\n",
       "\\end{tabular}\n"
      ],
      "text/markdown": [
       "\n",
       "| ID | Pred | Prob |\n",
       "|---|---|---|\n",
       "| 2018_1104_1112 | 0              | 0.243          |\n",
       "| 2018_1104_1113 | 0              | 0.278          |\n",
       "| 2018_1104_1116 | 0              | 0.359          |\n",
       "| 2018_1104_1120 | 0              | 0.273          |\n",
       "| 2018_1104_1137 | 1              | 0.648          |\n",
       "| 2018_1104_1138 | 1              | 0.537          |\n",
       "\n"
      ],
      "text/plain": [
       "  ID             Pred Prob \n",
       "1 2018_1104_1112 0    0.243\n",
       "2 2018_1104_1113 0    0.278\n",
       "3 2018_1104_1116 0    0.359\n",
       "4 2018_1104_1120 0    0.273\n",
       "5 2018_1104_1137 1    0.648\n",
       "6 2018_1104_1138 1    0.537"
      ]
     },
     "metadata": {},
     "output_type": "display_data"
    }
   ],
   "source": [
    "df.matchups %>%\n",
    "    mutate(ID=str_c(Season,'_',TeamID.x,'_',TeamID.y)) %>% \n",
    "    mutate(Prob=logistic(Rating.x-Rating.y,a=Slope)) %>% \n",
    "    mutate(Pred=ifelse(Prob>0.5,1,0)) %>% \n",
    "    mutate(Prob=round(Prob,3)) %>%\n",
    "    mutate_which(Prob>0.95,Prob=0.95) %>%\n",
    "    mutate_which(Prob<0.05,Prob=0.05) %>%\n",
    "    select(ID,Pred,Prob) -> df.submit\n",
    "df.submit %>% arrange(ID) %>% head"
   ]
  },
  {
   "cell_type": "markdown",
   "metadata": {},
   "source": [
    "#### Performance"
   ]
  },
  {
   "cell_type": "code",
   "execution_count": 32,
   "metadata": {},
   "outputs": [],
   "source": [
    "data.truth <- readRDS('../datafiles_rds/TourneyTrueResults.rds')"
   ]
  },
  {
   "cell_type": "code",
   "execution_count": 33,
   "metadata": {},
   "outputs": [
    {
     "data": {
      "text/html": [
       "<table>\n",
       "<thead><tr><th scope=col>TC</th><th scope=col>FC</th><th scope=col>N</th><th scope=col>Acc</th><th scope=col>LogLoss</th></tr></thead>\n",
       "<tbody>\n",
       "\t<tr><td>47       </td><td>20       </td><td>67       </td><td>0.7014925</td><td>0.5843792</td></tr>\n",
       "</tbody>\n",
       "</table>\n"
      ],
      "text/latex": [
       "\\begin{tabular}{r|lllll}\n",
       " TC & FC & N & Acc & LogLoss\\\\\n",
       "\\hline\n",
       "\t 47        & 20        & 67        & 0.7014925 & 0.5843792\\\\\n",
       "\\end{tabular}\n"
      ],
      "text/markdown": [
       "\n",
       "| TC | FC | N | Acc | LogLoss |\n",
       "|---|---|---|---|---|\n",
       "| 47        | 20        | 67        | 0.7014925 | 0.5843792 |\n",
       "\n"
      ],
      "text/plain": [
       "  TC FC N  Acc       LogLoss  \n",
       "1 47 20 67 0.7014925 0.5843792"
      ]
     },
     "metadata": {},
     "output_type": "display_data"
    }
   ],
   "source": [
    "df.submit %>%\n",
    "    inner_join(data.truth,by='ID') %>%\n",
    "    mutate(OK=ifelse(Pred==Target,1,0)) %>%\n",
    "    mutate(LogLoss=Target*log(Prob) + (1-Target)*log(1-Prob)) %>%\n",
    "    summarise(TC=sum(OK),N=n(),FC=N-TC,Acc=TC/N,LogLoss=-mean(LogLoss)) %>%\n",
    "    select(TC,FC,N,Acc,LogLoss) -> df.test.perf\n",
    "df.test.perf %>% arrange(LogLoss) %>% slice(1:1)"
   ]
  },
  {
   "cell_type": "code",
   "execution_count": 34,
   "metadata": {},
   "outputs": [
    {
     "data": {
      "text/html": [
       "<table>\n",
       "<thead><tr><th scope=col>ID</th><th scope=col>Pred</th><th scope=col>Prob</th></tr></thead>\n",
       "<tbody>\n",
       "\t<tr><td>2018_1347_1382</td><td>0             </td><td>0.157         </td></tr>\n",
       "\t<tr><td>2018_1347_1393</td><td>0             </td><td>0.134         </td></tr>\n",
       "\t<tr><td>2018_1347_1411</td><td>1             </td><td>0.711         </td></tr>\n",
       "\t<tr><td>2018_1347_1348</td><td>0             </td><td>0.127         </td></tr>\n",
       "\t<tr><td>2018_1347_1371</td><td>0             </td><td>0.112         </td></tr>\n",
       "\t<tr><td>2018_1347_1397</td><td>0             </td><td>0.081         </td></tr>\n",
       "</tbody>\n",
       "</table>\n"
      ],
      "text/latex": [
       "\\begin{tabular}{r|lll}\n",
       " ID & Pred & Prob\\\\\n",
       "\\hline\n",
       "\t 2018\\_1347\\_1382 & 0                  & 0.157             \\\\\n",
       "\t 2018\\_1347\\_1393 & 0                  & 0.134             \\\\\n",
       "\t 2018\\_1347\\_1411 & 1                  & 0.711             \\\\\n",
       "\t 2018\\_1347\\_1348 & 0                  & 0.127             \\\\\n",
       "\t 2018\\_1347\\_1371 & 0                  & 0.112             \\\\\n",
       "\t 2018\\_1347\\_1397 & 0                  & 0.081             \\\\\n",
       "\\end{tabular}\n"
      ],
      "text/markdown": [
       "\n",
       "| ID | Pred | Prob |\n",
       "|---|---|---|\n",
       "| 2018_1347_1382 | 0              | 0.157          |\n",
       "| 2018_1347_1393 | 0              | 0.134          |\n",
       "| 2018_1347_1411 | 1              | 0.711          |\n",
       "| 2018_1347_1348 | 0              | 0.127          |\n",
       "| 2018_1347_1371 | 0              | 0.112          |\n",
       "| 2018_1347_1397 | 0              | 0.081          |\n",
       "\n"
      ],
      "text/plain": [
       "  ID             Pred Prob \n",
       "1 2018_1347_1382 0    0.157\n",
       "2 2018_1347_1393 0    0.134\n",
       "3 2018_1347_1411 1    0.711\n",
       "4 2018_1347_1348 0    0.127\n",
       "5 2018_1347_1371 0    0.112\n",
       "6 2018_1347_1397 0    0.081"
      ]
     },
     "metadata": {},
     "output_type": "display_data"
    }
   ],
   "source": [
    "df.submit %>% head"
   ]
  },
  {
   "cell_type": "code",
   "execution_count": 35,
   "metadata": {},
   "outputs": [],
   "source": [
    "saveRDS(df.submit,'../predictions/OffDeff_2018.rds')"
   ]
  },
  {
   "cell_type": "code",
   "execution_count": null,
   "metadata": {},
   "outputs": [],
   "source": []
  }
 ],
 "metadata": {
  "kernelspec": {
   "display_name": "R 3.5.0",
   "language": "R",
   "name": "ir35"
  },
  "language_info": {
   "codemirror_mode": "r",
   "file_extension": ".r",
   "mimetype": "text/x-r-source",
   "name": "R",
   "pygments_lexer": "r",
   "version": "3.5.1"
  }
 },
 "nbformat": 4,
 "nbformat_minor": 2
}
