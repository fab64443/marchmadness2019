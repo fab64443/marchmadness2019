{
 "cells": [
  {
   "cell_type": "code",
   "execution_count": 1,
   "metadata": {},
   "outputs": [],
   "source": [
    "# Load required packages\n",
    "library(dplyr,warn.conflicts=F)\n",
    "library(stringr,warn.conflicts=F)\n",
    "library(psych,warn.conflicts=F)\n",
    "library(lplyr,warn.conflicts=F)\n",
    "library(tidyr,warn.conflicts=F)\n",
    "\n",
    "library(ggplot2,warn.conflicts=F)"
   ]
  },
  {
   "cell_type": "code",
   "execution_count": 2,
   "metadata": {},
   "outputs": [],
   "source": [
    "# Final ranking of madness\n",
    "data.teamtourneyranks <- readRDS('TeamTourneyRanking.rds')\n",
    "# ranking mapping\n",
    "data.tourneyranks <- read.csv('TourneyRanks.csv')# load ranking db\n",
    "data.ranking <- readRDS('../datafiles_rds/MasseyOrdinals.rds')\n",
    "# keep 2018, last day\n",
    "data.ranking %>% \n",
    "    filter(Season==2018) %>%\n",
    "    filter(RankingDayNum==max(RankingDayNum)) %>%\n",
    "    select(-RankingDayNum) -> data.lastranking"
   ]
  },
  {
   "cell_type": "code",
   "execution_count": 3,
   "metadata": {},
   "outputs": [],
   "source": [
    "# Keep only 68 tourney teams\n",
    "data.lastranking %>%\n",
    "    inner_join(data.teamtourneyranks,by=c('Season','TeamID')) %>% \n",
    "    group_by(Season,SystemName) %>% \n",
    "    summarise(n=n()) %>% \n",
    "    ungroup() %>% \n",
    "    filter(n==68) -> df.systems\n",
    "data.lastranking %>%\n",
    "    semi_join(df.systems,by=c('Season','SystemName')) -> df.ranking"
   ]
  },
  {
   "cell_type": "markdown",
   "metadata": {},
   "source": [
    "#### Prepare "
   ]
  },
  {
   "cell_type": "code",
   "execution_count": 4,
   "metadata": {},
   "outputs": [],
   "source": [
    "data.matchups <- readRDS('../datafiles_rds/TourneyMatchups.rds')\n",
    "data.matchups %>% \n",
    "    filter(Season==2018) -> data.matchups"
   ]
  },
  {
   "cell_type": "code",
   "execution_count": 5,
   "metadata": {},
   "outputs": [],
   "source": [
    "df.ranking %>% \n",
    "    distinct(SystemName) %>%\n",
    "    mutate(Season=2018) -> data.SystemName"
   ]
  },
  {
   "cell_type": "code",
   "execution_count": 6,
   "metadata": {},
   "outputs": [],
   "source": [
    "data.matchups %>%\n",
    "    inner_join(data.SystemName,by='Season') -> df.matchups"
   ]
  },
  {
   "cell_type": "code",
   "execution_count": 7,
   "metadata": {},
   "outputs": [],
   "source": [
    "df.matchups %>%\n",
    "    inner_join(df.ranking,by=c('Season','SystemName','TeamID.x'='TeamID')) %>%\n",
    "    rename(Rank.x=OrdinalRank) %>%\n",
    "    inner_join(df.ranking,by=c('Season','SystemName','TeamID.y'='TeamID')) %>%\n",
    "    rename(Rank.y=OrdinalRank) -> df.matchups"
   ]
  },
  {
   "cell_type": "code",
   "execution_count": 8,
   "metadata": {},
   "outputs": [],
   "source": [
    "Slope <- 3/(350/3)"
   ]
  },
  {
   "cell_type": "code",
   "execution_count": 9,
   "metadata": {},
   "outputs": [],
   "source": [
    "df.matchups %>%\n",
    "    mutate(ID=str_c(Season,'_',TeamID.x,'_',TeamID.y)) %>% \n",
    "    mutate(Prob=logistic(Rank.y-Rank.x,a=Slope)) %>% \n",
    "    mutate(Pred=ifelse(Prob>0.5,1,0)) %>% \n",
    "    mutate(Prob=round(Prob,3)) %>%\n",
    "    mutate_which(Prob>0.95,Prob=0.95) %>%\n",
    "    mutate_which(Prob<0.05,Prob=0.05) %>%\n",
    "    select(ID,SystemName,Pred,Prob) -> df.submit"
   ]
  },
  {
   "cell_type": "markdown",
   "metadata": {},
   "source": [
    "#### Performance"
   ]
  },
  {
   "cell_type": "code",
   "execution_count": 10,
   "metadata": {},
   "outputs": [],
   "source": [
    "data.truth <- readRDS('../datafiles_rds/TourneyTrueResults.rds')"
   ]
  },
  {
   "cell_type": "code",
   "execution_count": 11,
   "metadata": {},
   "outputs": [],
   "source": [
    "df.submit %>%\n",
    "    inner_join(data.truth,by='ID') -> df.results"
   ]
  },
  {
   "cell_type": "code",
   "execution_count": 32,
   "metadata": {},
   "outputs": [
    {
     "data": {
      "text/html": [
       "<table>\n",
       "<thead><tr><th scope=col>SystemName</th><th scope=col>TC</th><th scope=col>FC</th><th scope=col>N</th><th scope=col>Accuracy</th><th scope=col>LogLoss</th></tr></thead>\n",
       "<tbody>\n",
       "\t<tr><td>MAS      </td><td>51       </td><td>16       </td><td>67       </td><td>0.7611940</td><td>0.5670578</td></tr>\n",
       "\t<tr><td>WOL      </td><td>51       </td><td>16       </td><td>67       </td><td>0.7611940</td><td>0.5741345</td></tr>\n",
       "\t<tr><td>SGR      </td><td>50       </td><td>17       </td><td>67       </td><td>0.7462687</td><td>0.5649686</td></tr>\n",
       "\t<tr><td>COL      </td><td>49       </td><td>18       </td><td>67       </td><td>0.7313433</td><td>0.5698548</td></tr>\n",
       "\t<tr><td>DOL      </td><td>49       </td><td>18       </td><td>67       </td><td>0.7313433</td><td>0.5793139</td></tr>\n",
       "\t<tr><td>RPI      </td><td>49       </td><td>18       </td><td>67       </td><td>0.7313433</td><td>0.5676642</td></tr>\n",
       "</tbody>\n",
       "</table>\n"
      ],
      "text/latex": [
       "\\begin{tabular}{r|llllll}\n",
       " SystemName & TC & FC & N & Accuracy & LogLoss\\\\\n",
       "\\hline\n",
       "\t MAS       & 51        & 16        & 67        & 0.7611940 & 0.5670578\\\\\n",
       "\t WOL       & 51        & 16        & 67        & 0.7611940 & 0.5741345\\\\\n",
       "\t SGR       & 50        & 17        & 67        & 0.7462687 & 0.5649686\\\\\n",
       "\t COL       & 49        & 18        & 67        & 0.7313433 & 0.5698548\\\\\n",
       "\t DOL       & 49        & 18        & 67        & 0.7313433 & 0.5793139\\\\\n",
       "\t RPI       & 49        & 18        & 67        & 0.7313433 & 0.5676642\\\\\n",
       "\\end{tabular}\n"
      ],
      "text/markdown": [
       "\n",
       "| SystemName | TC | FC | N | Accuracy | LogLoss |\n",
       "|---|---|---|---|---|---|\n",
       "| MAS       | 51        | 16        | 67        | 0.7611940 | 0.5670578 |\n",
       "| WOL       | 51        | 16        | 67        | 0.7611940 | 0.5741345 |\n",
       "| SGR       | 50        | 17        | 67        | 0.7462687 | 0.5649686 |\n",
       "| COL       | 49        | 18        | 67        | 0.7313433 | 0.5698548 |\n",
       "| DOL       | 49        | 18        | 67        | 0.7313433 | 0.5793139 |\n",
       "| RPI       | 49        | 18        | 67        | 0.7313433 | 0.5676642 |\n",
       "\n"
      ],
      "text/plain": [
       "  SystemName TC FC N  Accuracy  LogLoss  \n",
       "1 MAS        51 16 67 0.7611940 0.5670578\n",
       "2 WOL        51 16 67 0.7611940 0.5741345\n",
       "3 SGR        50 17 67 0.7462687 0.5649686\n",
       "4 COL        49 18 67 0.7313433 0.5698548\n",
       "5 DOL        49 18 67 0.7313433 0.5793139\n",
       "6 RPI        49 18 67 0.7313433 0.5676642"
      ]
     },
     "metadata": {},
     "output_type": "display_data"
    }
   ],
   "source": [
    "df.results %>%\n",
    "    mutate(OK=ifelse(Pred==Target,1,0)) %>%\n",
    "    mutate(LogLoss=Target*log(Prob) + (1-Target)*log(1-Prob)) -> df.results\n",
    "df.results %>%\n",
    "    group_by(SystemName) %>%\n",
    "    summarise(TC=sum(OK),N=n(),FC=N-TC,Accuracy=TC/N,LogLoss=-mean(LogLoss)) %>%\n",
    "    ungroup() %>%\n",
    "    select(SystemName,TC,FC,N,Accuracy,LogLoss) -> df.test.perf\n",
    "df.test.perf %>% arrange(desc(Accuracy)) %>% head"
   ]
  },
  {
   "cell_type": "markdown",
   "metadata": {},
   "source": [
    "#### Masters Predictors"
   ]
  },
  {
   "cell_type": "code",
   "execution_count": 13,
   "metadata": {},
   "outputs": [],
   "source": [
    "df.results %>%\n",
    "    group_by(ID) %>%\n",
    "    summarise(CSS=sum(OK)) %>%\n",
    "    arrange(CSS) -> toto"
   ]
  },
  {
   "cell_type": "code",
   "execution_count": 14,
   "metadata": {},
   "outputs": [
    {
     "name": "stderr",
     "output_type": "stream",
     "text": [
      "`stat_bin()` using `bins = 30`. Pick better value with `binwidth`.\n"
     ]
    },
    {
     "data": {
      "image/png": "[encoded data removed]",
      "text/plain": [
       "plot without title"
      ]
     },
     "metadata": {},
     "output_type": "display_data"
    }
   ],
   "source": [
    "options(repr.plot.width=6, repr.plot.height=3)\n",
    "ggplot(data=toto,aes(x=CSS)) + geom_histogram()"
   ]
  },
  {
   "cell_type": "code",
   "execution_count": 15,
   "metadata": {},
   "outputs": [
    {
     "data": {
      "text/html": [
       "<table>\n",
       "<thead><tr><th scope=col>SystemName</th><th scope=col>TC</th><th scope=col>FC</th><th scope=col>N</th><th scope=col>Accuracy</th><th scope=col>LogLoss</th></tr></thead>\n",
       "<tbody>\n",
       "\t<tr><td>MAS      </td><td>51       </td><td>16       </td><td>67       </td><td>0.7611940</td><td>0.5670578</td></tr>\n",
       "\t<tr><td>WOL      </td><td>51       </td><td>16       </td><td>67       </td><td>0.7611940</td><td>0.5741345</td></tr>\n",
       "\t<tr><td>SGR      </td><td>50       </td><td>17       </td><td>67       </td><td>0.7462687</td><td>0.5649686</td></tr>\n",
       "\t<tr><td>COL      </td><td>49       </td><td>18       </td><td>67       </td><td>0.7313433</td><td>0.5698548</td></tr>\n",
       "\t<tr><td>DOL      </td><td>49       </td><td>18       </td><td>67       </td><td>0.7313433</td><td>0.5793139</td></tr>\n",
       "\t<tr><td>RPI      </td><td>49       </td><td>18       </td><td>67       </td><td>0.7313433</td><td>0.5676642</td></tr>\n",
       "</tbody>\n",
       "</table>\n"
      ],
      "text/latex": [
       "\\begin{tabular}{r|llllll}\n",
       " SystemName & TC & FC & N & Accuracy & LogLoss\\\\\n",
       "\\hline\n",
       "\t MAS       & 51        & 16        & 67        & 0.7611940 & 0.5670578\\\\\n",
       "\t WOL       & 51        & 16        & 67        & 0.7611940 & 0.5741345\\\\\n",
       "\t SGR       & 50        & 17        & 67        & 0.7462687 & 0.5649686\\\\\n",
       "\t COL       & 49        & 18        & 67        & 0.7313433 & 0.5698548\\\\\n",
       "\t DOL       & 49        & 18        & 67        & 0.7313433 & 0.5793139\\\\\n",
       "\t RPI       & 49        & 18        & 67        & 0.7313433 & 0.5676642\\\\\n",
       "\\end{tabular}\n"
      ],
      "text/markdown": [
       "\n",
       "| SystemName | TC | FC | N | Accuracy | LogLoss |\n",
       "|---|---|---|---|---|---|\n",
       "| MAS       | 51        | 16        | 67        | 0.7611940 | 0.5670578 |\n",
       "| WOL       | 51        | 16        | 67        | 0.7611940 | 0.5741345 |\n",
       "| SGR       | 50        | 17        | 67        | 0.7462687 | 0.5649686 |\n",
       "| COL       | 49        | 18        | 67        | 0.7313433 | 0.5698548 |\n",
       "| DOL       | 49        | 18        | 67        | 0.7313433 | 0.5793139 |\n",
       "| RPI       | 49        | 18        | 67        | 0.7313433 | 0.5676642 |\n",
       "\n"
      ],
      "text/plain": [
       "  SystemName TC FC N  Accuracy  LogLoss  \n",
       "1 MAS        51 16 67 0.7611940 0.5670578\n",
       "2 WOL        51 16 67 0.7611940 0.5741345\n",
       "3 SGR        50 17 67 0.7462687 0.5649686\n",
       "4 COL        49 18 67 0.7313433 0.5698548\n",
       "5 DOL        49 18 67 0.7313433 0.5793139\n",
       "6 RPI        49 18 67 0.7313433 0.5676642"
      ]
     },
     "metadata": {},
     "output_type": "display_data"
    }
   ],
   "source": [
    "df.test.perf %>% arrange(desc(Accuracy)) %>% head"
   ]
  },
  {
   "cell_type": "code",
   "execution_count": 28,
   "metadata": {},
   "outputs": [
    {
     "data": {
      "text/html": [
       "<table>\n",
       "<thead><tr><th scope=col>ID</th><th scope=col>SystemName</th><th scope=col>Pred</th><th scope=col>Prob</th><th scope=col>Target</th><th scope=col>OK</th><th scope=col>LogLoss</th><th scope=col>Delta</th><th scope=col>Tot</th></tr></thead>\n",
       "<tbody>\n",
       "\t<tr><td>2018_1382_1417</td><td>MAS           </td><td>0             </td><td>0.449         </td><td>1             </td><td>0             </td><td>-0.8007324    </td><td>0.051         </td><td>1             </td></tr>\n",
       "\t<tr><td>2018_1382_1417</td><td>WOL           </td><td>1             </td><td>0.601         </td><td>1             </td><td>1             </td><td>-0.5091603    </td><td>0.101         </td><td>1             </td></tr>\n",
       "\t<tr><td>2018_1260_1274</td><td>MAS           </td><td>1             </td><td>0.506         </td><td>1             </td><td>1             </td><td>-0.6812186    </td><td>0.006         </td><td>1             </td></tr>\n",
       "\t<tr><td>2018_1260_1274</td><td>WOL           </td><td>0             </td><td>0.494         </td><td>1             </td><td>0             </td><td>-0.7052198    </td><td>0.006         </td><td>1             </td></tr>\n",
       "\t<tr><td>2018_1120_1155</td><td>MAS           </td><td>0             </td><td>0.474         </td><td>0             </td><td>1             </td><td>-0.6424541    </td><td>0.026         </td><td>1             </td></tr>\n",
       "\t<tr><td>2018_1120_1155</td><td>WOL           </td><td>1             </td><td>0.526         </td><td>0             </td><td>0             </td><td>-0.7465480    </td><td>0.026         </td><td>1             </td></tr>\n",
       "\t<tr><td>2018_1344_1401</td><td>MAS           </td><td>1             </td><td>0.538         </td><td>0             </td><td>0             </td><td>-0.7721904    </td><td>0.038         </td><td>1             </td></tr>\n",
       "\t<tr><td>2018_1344_1401</td><td>WOL           </td><td>0             </td><td>0.386         </td><td>0             </td><td>1             </td><td>-0.4877604    </td><td>0.114         </td><td>1             </td></tr>\n",
       "</tbody>\n",
       "</table>\n"
      ],
      "text/latex": [
       "\\begin{tabular}{r|lllllllll}\n",
       " ID & SystemName & Pred & Prob & Target & OK & LogLoss & Delta & Tot\\\\\n",
       "\\hline\n",
       "\t 2018\\_1382\\_1417 & MAS                & 0                  & 0.449              & 1                  & 0                  & -0.8007324         & 0.051              & 1                 \\\\\n",
       "\t 2018\\_1382\\_1417 & WOL                & 1                  & 0.601              & 1                  & 1                  & -0.5091603         & 0.101              & 1                 \\\\\n",
       "\t 2018\\_1260\\_1274 & MAS                & 1                  & 0.506              & 1                  & 1                  & -0.6812186         & 0.006              & 1                 \\\\\n",
       "\t 2018\\_1260\\_1274 & WOL                & 0                  & 0.494              & 1                  & 0                  & -0.7052198         & 0.006              & 1                 \\\\\n",
       "\t 2018\\_1120\\_1155 & MAS                & 0                  & 0.474              & 0                  & 1                  & -0.6424541         & 0.026              & 1                 \\\\\n",
       "\t 2018\\_1120\\_1155 & WOL                & 1                  & 0.526              & 0                  & 0                  & -0.7465480         & 0.026              & 1                 \\\\\n",
       "\t 2018\\_1344\\_1401 & MAS                & 1                  & 0.538              & 0                  & 0                  & -0.7721904         & 0.038              & 1                 \\\\\n",
       "\t 2018\\_1344\\_1401 & WOL                & 0                  & 0.386              & 0                  & 1                  & -0.4877604         & 0.114              & 1                 \\\\\n",
       "\\end{tabular}\n"
      ],
      "text/markdown": [
       "\n",
       "| ID | SystemName | Pred | Prob | Target | OK | LogLoss | Delta | Tot |\n",
       "|---|---|---|---|---|---|---|---|---|\n",
       "| 2018_1382_1417 | MAS            | 0              | 0.449          | 1              | 0              | -0.8007324     | 0.051          | 1              |\n",
       "| 2018_1382_1417 | WOL            | 1              | 0.601          | 1              | 1              | -0.5091603     | 0.101          | 1              |\n",
       "| 2018_1260_1274 | MAS            | 1              | 0.506          | 1              | 1              | -0.6812186     | 0.006          | 1              |\n",
       "| 2018_1260_1274 | WOL            | 0              | 0.494          | 1              | 0              | -0.7052198     | 0.006          | 1              |\n",
       "| 2018_1120_1155 | MAS            | 0              | 0.474          | 0              | 1              | -0.6424541     | 0.026          | 1              |\n",
       "| 2018_1120_1155 | WOL            | 1              | 0.526          | 0              | 0              | -0.7465480     | 0.026          | 1              |\n",
       "| 2018_1344_1401 | MAS            | 1              | 0.538          | 0              | 0              | -0.7721904     | 0.038          | 1              |\n",
       "| 2018_1344_1401 | WOL            | 0              | 0.386          | 0              | 1              | -0.4877604     | 0.114          | 1              |\n",
       "\n"
      ],
      "text/plain": [
       "  ID             SystemName Pred Prob  Target OK LogLoss    Delta Tot\n",
       "1 2018_1382_1417 MAS        0    0.449 1      0  -0.8007324 0.051 1  \n",
       "2 2018_1382_1417 WOL        1    0.601 1      1  -0.5091603 0.101 1  \n",
       "3 2018_1260_1274 MAS        1    0.506 1      1  -0.6812186 0.006 1  \n",
       "4 2018_1260_1274 WOL        0    0.494 1      0  -0.7052198 0.006 1  \n",
       "5 2018_1120_1155 MAS        0    0.474 0      1  -0.6424541 0.026 1  \n",
       "6 2018_1120_1155 WOL        1    0.526 0      0  -0.7465480 0.026 1  \n",
       "7 2018_1344_1401 MAS        1    0.538 0      0  -0.7721904 0.038 1  \n",
       "8 2018_1344_1401 WOL        0    0.386 0      1  -0.4877604 0.114 1  "
      ]
     },
     "metadata": {},
     "output_type": "display_data"
    }
   ],
   "source": [
    "df.results %>%\n",
    "    filter(SystemName %in% c('MAS','WOL')) %>%\n",
    "    mutate(Delta=abs(Prob-0.5)) %>%\n",
    "    group_by(ID) %>%\n",
    "    mutate(Tot=sum(OK)) %>% \n",
    "    ungroup() %>% \n",
    "    filter(Tot==1)"
   ]
  },
  {
   "cell_type": "code",
   "execution_count": 29,
   "metadata": {},
   "outputs": [],
   "source": [
    "df.results %>%\n",
    "    filter(SystemName %in% c('MAS','WOL')) %>%\n",
    "    mutate(Delta=abs(Prob-0.5)) %>%\n",
    "    group_by(ID) %>%\n",
    "    mutate(Tot=sum(OK), mDelta=mean(Delta)) %>% \n",
    "    mutate_which(Tot==1 & Delta==mDelta,Prob=0.5) %>%\n",
    "    ungroup() %>%\n",
    "    arrange(desc(Delta)) %>%\n",
    "    group_by(ID) %>%\n",
    "    slice(1:1) %>%\n",
    "    ungroup() %>%\n",
    "    mutate(LogLoss=Target*log(Prob) + (1-Target)*log(1-Prob)) -> df.masters"
   ]
  },
  {
   "cell_type": "code",
   "execution_count": 30,
   "metadata": {},
   "outputs": [
    {
     "data": {
      "text/html": [
       "<table>\n",
       "<thead><tr><th scope=col>TC</th><th scope=col>N</th><th scope=col>FC</th><th scope=col>Accuracy</th><th scope=col>LogLoss</th></tr></thead>\n",
       "<tbody>\n",
       "\t<tr><td>53       </td><td>67       </td><td>14       </td><td>0.7910448</td><td>0.5592676</td></tr>\n",
       "</tbody>\n",
       "</table>\n"
      ],
      "text/latex": [
       "\\begin{tabular}{r|lllll}\n",
       " TC & N & FC & Accuracy & LogLoss\\\\\n",
       "\\hline\n",
       "\t 53        & 67        & 14        & 0.7910448 & 0.5592676\\\\\n",
       "\\end{tabular}\n"
      ],
      "text/markdown": [
       "\n",
       "| TC | N | FC | Accuracy | LogLoss |\n",
       "|---|---|---|---|---|\n",
       "| 53        | 67        | 14        | 0.7910448 | 0.5592676 |\n",
       "\n"
      ],
      "text/plain": [
       "  TC N  FC Accuracy  LogLoss  \n",
       "1 53 67 14 0.7910448 0.5592676"
      ]
     },
     "metadata": {},
     "output_type": "display_data"
    }
   ],
   "source": [
    "df.masters %>%\n",
    "    summarise(TC=sum(OK),N=n(),FC=N-TC,Accuracy=TC/N,LogLoss=-mean(LogLoss)) "
   ]
  },
  {
   "cell_type": "code",
   "execution_count": 31,
   "metadata": {},
   "outputs": [
    {
     "data": {
      "text/html": [
       "<table>\n",
       "<thead><tr><th scope=col>TC</th><th scope=col>N</th><th scope=col>FC</th><th scope=col>Accuracy</th><th scope=col>LogLoss</th></tr></thead>\n",
       "<tbody>\n",
       "\t<tr><td>53       </td><td>67       </td><td>14       </td><td>0.7910448</td><td>0.5262269</td></tr>\n",
       "</tbody>\n",
       "</table>\n"
      ],
      "text/latex": [
       "\\begin{tabular}{r|lllll}\n",
       " TC & N & FC & Accuracy & LogLoss\\\\\n",
       "\\hline\n",
       "\t 53        & 67        & 14        & 0.7910448 & 0.5262269\\\\\n",
       "\\end{tabular}\n"
      ],
      "text/markdown": [
       "\n",
       "| TC | N | FC | Accuracy | LogLoss |\n",
       "|---|---|---|---|---|\n",
       "| 53        | 67        | 14        | 0.7910448 | 0.5262269 |\n",
       "\n"
      ],
      "text/plain": [
       "  TC N  FC Accuracy  LogLoss  \n",
       "1 53 67 14 0.7910448 0.5262269"
      ]
     },
     "metadata": {},
     "output_type": "display_data"
    }
   ],
   "source": [
    "df.masters %>%\n",
    "    mutate(Prob=case_when(Prob<0.5 ~ 0.21, Prob>0.5 ~ 0.79, TRUE ~ 0.5)) %>%\n",
    "#    mutate(Prob=case_when(Prob>0.2 & Prob<0.5 ~ 0.2, Prob>0.5 & Prob<0.8 ~ 0.8, TRUE ~ 0.5)) %>%\n",
    "    mutate(LogLoss=Target*log(Prob) + (1-Target)*log(1-Prob)) %>%\n",
    "    summarise(TC=sum(OK),N=n(),FC=N-TC,Accuracy=TC/N,LogLoss=-mean(LogLoss)) "
   ]
  },
  {
   "cell_type": "markdown",
   "metadata": {},
   "source": [
    "#### Tri Master Predictors"
   ]
  },
  {
   "cell_type": "code",
   "execution_count": 33,
   "metadata": {},
   "outputs": [
    {
     "data": {
      "text/html": [
       "<table>\n",
       "<thead><tr><th scope=col>SystemName</th><th scope=col>TC</th><th scope=col>FC</th><th scope=col>N</th><th scope=col>Accuracy</th><th scope=col>LogLoss</th></tr></thead>\n",
       "<tbody>\n",
       "\t<tr><td>MAS      </td><td>51       </td><td>16       </td><td>67       </td><td>0.7611940</td><td>0.5670578</td></tr>\n",
       "\t<tr><td>WOL      </td><td>51       </td><td>16       </td><td>67       </td><td>0.7611940</td><td>0.5741345</td></tr>\n",
       "\t<tr><td>SGR      </td><td>50       </td><td>17       </td><td>67       </td><td>0.7462687</td><td>0.5649686</td></tr>\n",
       "\t<tr><td>RPI      </td><td>49       </td><td>18       </td><td>67       </td><td>0.7313433</td><td>0.5676642</td></tr>\n",
       "\t<tr><td>COL      </td><td>49       </td><td>18       </td><td>67       </td><td>0.7313433</td><td>0.5698548</td></tr>\n",
       "\t<tr><td>DOL      </td><td>49       </td><td>18       </td><td>67       </td><td>0.7313433</td><td>0.5793139</td></tr>\n",
       "</tbody>\n",
       "</table>\n"
      ],
      "text/latex": [
       "\\begin{tabular}{r|llllll}\n",
       " SystemName & TC & FC & N & Accuracy & LogLoss\\\\\n",
       "\\hline\n",
       "\t MAS       & 51        & 16        & 67        & 0.7611940 & 0.5670578\\\\\n",
       "\t WOL       & 51        & 16        & 67        & 0.7611940 & 0.5741345\\\\\n",
       "\t SGR       & 50        & 17        & 67        & 0.7462687 & 0.5649686\\\\\n",
       "\t RPI       & 49        & 18        & 67        & 0.7313433 & 0.5676642\\\\\n",
       "\t COL       & 49        & 18        & 67        & 0.7313433 & 0.5698548\\\\\n",
       "\t DOL       & 49        & 18        & 67        & 0.7313433 & 0.5793139\\\\\n",
       "\\end{tabular}\n"
      ],
      "text/markdown": [
       "\n",
       "| SystemName | TC | FC | N | Accuracy | LogLoss |\n",
       "|---|---|---|---|---|---|\n",
       "| MAS       | 51        | 16        | 67        | 0.7611940 | 0.5670578 |\n",
       "| WOL       | 51        | 16        | 67        | 0.7611940 | 0.5741345 |\n",
       "| SGR       | 50        | 17        | 67        | 0.7462687 | 0.5649686 |\n",
       "| RPI       | 49        | 18        | 67        | 0.7313433 | 0.5676642 |\n",
       "| COL       | 49        | 18        | 67        | 0.7313433 | 0.5698548 |\n",
       "| DOL       | 49        | 18        | 67        | 0.7313433 | 0.5793139 |\n",
       "\n"
      ],
      "text/plain": [
       "  SystemName TC FC N  Accuracy  LogLoss  \n",
       "1 MAS        51 16 67 0.7611940 0.5670578\n",
       "2 WOL        51 16 67 0.7611940 0.5741345\n",
       "3 SGR        50 17 67 0.7462687 0.5649686\n",
       "4 RPI        49 18 67 0.7313433 0.5676642\n",
       "5 COL        49 18 67 0.7313433 0.5698548\n",
       "6 DOL        49 18 67 0.7313433 0.5793139"
      ]
     },
     "metadata": {},
     "output_type": "display_data"
    }
   ],
   "source": [
    "df.test.perf %>% arrange(desc(Accuracy),LogLoss) %>% head"
   ]
  },
  {
   "cell_type": "code",
   "execution_count": 37,
   "metadata": {},
   "outputs": [
    {
     "data": {
      "text/html": [
       "<table>\n",
       "<thead><tr><th scope=col>Tot</th><th scope=col>n</th></tr></thead>\n",
       "<tbody>\n",
       "\t<tr><td>0  </td><td> 39</td></tr>\n",
       "\t<tr><td>1  </td><td>  3</td></tr>\n",
       "\t<tr><td>2  </td><td>  9</td></tr>\n",
       "\t<tr><td>3  </td><td> 12</td></tr>\n",
       "\t<tr><td>4  </td><td>138</td></tr>\n",
       "</tbody>\n",
       "</table>\n"
      ],
      "text/latex": [
       "\\begin{tabular}{r|ll}\n",
       " Tot & n\\\\\n",
       "\\hline\n",
       "\t 0   &  39\\\\\n",
       "\t 1   &   3\\\\\n",
       "\t 2   &   9\\\\\n",
       "\t 3   &  12\\\\\n",
       "\t 4   & 138\\\\\n",
       "\\end{tabular}\n"
      ],
      "text/markdown": [
       "\n",
       "| Tot | n |\n",
       "|---|---|\n",
       "| 0   |  39 |\n",
       "| 1   |   3 |\n",
       "| 2   |   9 |\n",
       "| 3   |  12 |\n",
       "| 4   | 138 |\n",
       "\n"
      ],
      "text/plain": [
       "  Tot n  \n",
       "1 0    39\n",
       "2 1     3\n",
       "3 2     9\n",
       "4 3    12\n",
       "5 4   138"
      ]
     },
     "metadata": {},
     "output_type": "display_data"
    }
   ],
   "source": [
    "df.results %>%\n",
    "    filter(SystemName %in% c('MAS','WOL','SGR')) %>%\n",
    "    mutate(Delta=abs(Prob-0.5)) %>%\n",
    "    mutate(W=ifelse(SystemName=='MAS',2,1)) %>%\n",
    "    group_by(ID) %>%\n",
    "    mutate(Tot=sum(W*OK)) %>% \n",
    "    ungroup() %>%\n",
    "    group_by(Tot) %>%\n",
    "    summarise(n=n())"
   ]
  },
  {
   "cell_type": "code",
   "execution_count": 38,
   "metadata": {},
   "outputs": [],
   "source": [
    "df.results %>%\n",
    "    filter(SystemName %in% c('MAS','WOL','SGR')) %>%\n",
    "    mutate(Delta=abs(Prob-0.5)) %>%\n",
    "    mutate(W=ifelse(SystemName=='MAS',2,1)) %>%\n",
    "    group_by(ID) %>%\n",
    "    mutate(Tot=sum(W*OK), mDelta=mean(Delta)) %>% \n",
    "    mutate_which(Tot>0 & Tot<4,Prob=0.5) %>%\n",
    "    ungroup() %>%\n",
    "    arrange(desc(Delta)) %>%\n",
    "    group_by(ID) %>%\n",
    "    slice(1:1) %>%\n",
    "    ungroup() %>%\n",
    "    mutate(LogLoss=Target*log(Prob) + (1-Target)*log(1-Prob)) -> df.masters"
   ]
  },
  {
   "cell_type": "code",
   "execution_count": 39,
   "metadata": {},
   "outputs": [
    {
     "data": {
      "text/html": [
       "<table>\n",
       "<thead><tr><th scope=col>TC</th><th scope=col>N</th><th scope=col>FC</th><th scope=col>Accuracy</th><th scope=col>LogLoss</th></tr></thead>\n",
       "<tbody>\n",
       "\t<tr><td>51       </td><td>67       </td><td>16       </td><td>0.761194 </td><td>0.5592519</td></tr>\n",
       "</tbody>\n",
       "</table>\n"
      ],
      "text/latex": [
       "\\begin{tabular}{r|lllll}\n",
       " TC & N & FC & Accuracy & LogLoss\\\\\n",
       "\\hline\n",
       "\t 51        & 67        & 16        & 0.761194  & 0.5592519\\\\\n",
       "\\end{tabular}\n"
      ],
      "text/markdown": [
       "\n",
       "| TC | N | FC | Accuracy | LogLoss |\n",
       "|---|---|---|---|---|\n",
       "| 51        | 67        | 16        | 0.761194  | 0.5592519 |\n",
       "\n"
      ],
      "text/plain": [
       "  TC N  FC Accuracy LogLoss  \n",
       "1 51 67 16 0.761194 0.5592519"
      ]
     },
     "metadata": {},
     "output_type": "display_data"
    }
   ],
   "source": [
    "df.masters %>%\n",
    "    summarise(TC=sum(OK),N=n(),FC=N-TC,Accuracy=TC/N,LogLoss=-mean(LogLoss)) "
   ]
  },
  {
   "cell_type": "markdown",
   "metadata": {},
   "source": [
    "### 2019"
   ]
  },
  {
   "cell_type": "code",
   "execution_count": null,
   "metadata": {},
   "outputs": [],
   "source": [
    "# load ranking db\n",
    "data.ranking <- read.csv('../2019/Prelim2019_MasseyOrdinals.csv',stringsAsFactors=F)\n",
    "# keep 2019, last day\n",
    "data.ranking %>% \n",
    "    filter(Season==2019) %>%\n",
    "    filter(SystemName %in% c('MAS','WOL')) %>%\n",
    "    filter(RankingDayNum==max(RankingDayNum)) %>%\n",
    "    select(-RankingDayNum) -> data.lastranking"
   ]
  },
  {
   "cell_type": "code",
   "execution_count": null,
   "metadata": {},
   "outputs": [],
   "source": [
    "data.madnessteams <- read.csv('../2019//NCAATourneySeeds.csv',stringsAsFactors=F)\n",
    "data.madnessteams %>% \n",
    "    filter(Season==2019) %>%\n",
    "    select(Season,TeamID) -> data.madnessteams"
   ]
  },
  {
   "cell_type": "code",
   "execution_count": null,
   "metadata": {},
   "outputs": [],
   "source": [
    "data.madnessteams %>%\n",
    "    full_join(data.madnessteams,by='Season') %>%\n",
    "    filter(TeamID.x < TeamID.y) -> data.matchups "
   ]
  },
  {
   "cell_type": "code",
   "execution_count": null,
   "metadata": {},
   "outputs": [],
   "source": [
    "data.lastranking %>% \n",
    "    filter(SystemName %in% c('MAS','WOL')) -> df.ranking"
   ]
  },
  {
   "cell_type": "code",
   "execution_count": null,
   "metadata": {},
   "outputs": [],
   "source": [
    "df.ranking %>% \n",
    "    distinct(SystemName) %>%\n",
    "    mutate(Season=2019) -> data.SystemName"
   ]
  },
  {
   "cell_type": "code",
   "execution_count": null,
   "metadata": {},
   "outputs": [],
   "source": [
    "data.matchups %>%\n",
    "    inner_join(data.SystemName,by='Season') -> df.matchups"
   ]
  },
  {
   "cell_type": "code",
   "execution_count": null,
   "metadata": {},
   "outputs": [],
   "source": [
    "df.matchups %>%\n",
    "    inner_join(df.ranking,by=c('Season','SystemName','TeamID.x'='TeamID')) %>%\n",
    "    rename(Rank.x=OrdinalRank) %>%\n",
    "    inner_join(df.ranking,by=c('Season','SystemName','TeamID.y'='TeamID')) %>%\n",
    "    rename(Rank.y=OrdinalRank) -> df.matchups"
   ]
  },
  {
   "cell_type": "code",
   "execution_count": null,
   "metadata": {},
   "outputs": [],
   "source": [
    "Slope <- 3/(350/3)"
   ]
  },
  {
   "cell_type": "code",
   "execution_count": null,
   "metadata": {},
   "outputs": [],
   "source": [
    "df.matchups %>%\n",
    "    mutate(ID=str_c(Season,'_',TeamID.x,'_',TeamID.y)) %>% \n",
    "    mutate(Prob=logistic(Rank.y-Rank.x,a=Slope)) %>% \n",
    "    mutate(Pred=ifelse(Prob>0.5,1,0)) %>% \n",
    "    mutate(Prob=round(Prob,3)) %>%\n",
    "    mutate_which(Prob>0.95,Prob=0.95) %>%\n",
    "    mutate_which(Prob<0.05,Prob=0.05) %>%\n",
    "    select(ID,SystemName,Pred,Prob) -> df.submit"
   ]
  },
  {
   "cell_type": "code",
   "execution_count": null,
   "metadata": {},
   "outputs": [],
   "source": [
    "df.submit %>% head"
   ]
  },
  {
   "cell_type": "code",
   "execution_count": null,
   "metadata": {},
   "outputs": [],
   "source": [
    "df.submit %>%\n",
    "    mutate(Delta=abs(Prob-0.5)) %>%\n",
    "    group_by(ID) %>%\n",
    "    mutate(Tot=sum(Pred), mDelta=mean(Delta)) %>% \n",
    "    mutate_which(Tot==1 & Delta==mDelta,Prob=0.5) %>%\n",
    "    ungroup() %>%\n",
    "    arrange(desc(Delta)) %>%\n",
    "    group_by(ID) %>%\n",
    "    slice(1:1) %>%\n",
    "    ungroup() -> df.masters.2019"
   ]
  },
  {
   "cell_type": "code",
   "execution_count": null,
   "metadata": {},
   "outputs": [],
   "source": [
    "df.masters.2019 %>%\n",
    "    mutate(Prob=case_when(Prob<0.5 ~ 0.21, Prob>0.5 ~ 0.79, TRUE ~ 0.5)) -> df.masters.2019"
   ]
  },
  {
   "cell_type": "code",
   "execution_count": null,
   "metadata": {},
   "outputs": [],
   "source": []
  },
  {
   "cell_type": "code",
   "execution_count": null,
   "metadata": {},
   "outputs": [],
   "source": [
    "# save the best results for kaggle submission\n",
    "df.masters.2019 %>% \n",
    "    select(ID,Pred=Prob) %>% \n",
    "    write.csv('../predictions_2019/RankingMasters.csv',quote=F,row.names=F)"
   ]
  },
  {
   "cell_type": "code",
   "execution_count": null,
   "metadata": {},
   "outputs": [],
   "source": [
    "# save best model for mix\n",
    "df.masters.2019 %>%\n",
    "    saveRDS('../predictions_2019/RankingMasters.rds') "
   ]
  },
  {
   "cell_type": "code",
   "execution_count": null,
   "metadata": {},
   "outputs": [],
   "source": []
  },
  {
   "cell_type": "code",
   "execution_count": null,
   "metadata": {},
   "outputs": [],
   "source": []
  },
  {
   "cell_type": "code",
   "execution_count": null,
   "metadata": {},
   "outputs": [],
   "source": []
  },
  {
   "cell_type": "code",
   "execution_count": null,
   "metadata": {},
   "outputs": [],
   "source": []
  },
  {
   "cell_type": "code",
   "execution_count": 36,
   "metadata": {},
   "outputs": [
    {
     "data": {
      "text/html": [
       "<table>\n",
       "<thead><tr><th scope=col>n</th></tr></thead>\n",
       "<tbody>\n",
       "\t<tr><td>62</td></tr>\n",
       "</tbody>\n",
       "</table>\n"
      ],
      "text/latex": [
       "\\begin{tabular}{r|l}\n",
       " n\\\\\n",
       "\\hline\n",
       "\t 62\\\\\n",
       "\\end{tabular}\n"
      ],
      "text/markdown": [
       "\n",
       "| n |\n",
       "|---|\n",
       "| 62 |\n",
       "\n"
      ],
      "text/plain": [
       "  n \n",
       "1 62"
      ]
     },
     "metadata": {},
     "output_type": "display_data"
    }
   ],
   "source": [
    "df.results %>% count / 67"
   ]
  },
  {
   "cell_type": "code",
   "execution_count": null,
   "metadata": {},
   "outputs": [],
   "source": []
  }
 ],
 "metadata": {
  "kernelspec": {
   "display_name": "R 3.5.0",
   "language": "R",
   "name": "ir35"
  },
  "language_info": {
   "codemirror_mode": "r",
   "file_extension": ".r",
   "mimetype": "text/x-r-source",
   "name": "R",
   "pygments_lexer": "r",
   "version": "3.5.1"
  }
 },
 "nbformat": 4,
 "nbformat_minor": 2
}
