{
 "cells": [
  {
   "cell_type": "code",
   "execution_count": 1,
   "metadata": {},
   "outputs": [],
   "source": [
    "library(dplyr,warn.conflicts=F)\n",
    "library(psych,warn.conflicts=F)\n",
    "library(ggplot2,warn.conflicts=F)\n",
    "library(stringr,warn.conflicts=F)"
   ]
  },
  {
   "cell_type": "code",
   "execution_count": 2,
   "metadata": {},
   "outputs": [],
   "source": [
    "# load the stats\n",
    "data.regular <- readRDS('datafiles_rds/RegularSeasonDetailedResults.rds')\n",
    "data.tourney <- readRDS('datafiles_rds/NCAATourneyDetailedResults.rds')"
   ]
  },
  {
   "cell_type": "code",
   "execution_count": 3,
   "metadata": {},
   "outputs": [],
   "source": [
    "# keep 2014\n",
    "data.regular %>% filter(Season==2014) -> data.reg2014\n",
    "data.tourney %>% filter(Season==2014) -> data.tou2014"
   ]
  },
  {
   "cell_type": "code",
   "execution_count": 4,
   "metadata": {},
   "outputs": [],
   "source": [
    "# store 68 tourney teams \n",
    "data.tou2014 %>% \n",
    "    select(TeamID=WTeamID) %>% \n",
    "    bind_rows(data.tou2014 %>% \n",
    "              select(TeamID=LTeamID)) %>% \n",
    "    distinct(TeamID) -> df.teams2014"
   ]
  },
  {
   "cell_type": "code",
   "execution_count": 5,
   "metadata": {},
   "outputs": [],
   "source": [
    "# compute average delta scores (win>0, loss<0) to rate teams\n",
    "data.reg2014 %>% \n",
    "    select(WTeamID,LTeamID,WScore,LScore) %>% \n",
    "    mutate(WDelta=WScore-LScore,LDelta=LScore-WScore) -> tmp01\n",
    "tmp01 %>% \n",
    "    select(TeamID=WTeamID,Delta=WDelta) %>% \n",
    "    bind_rows(tmp01 %>% \n",
    "              select(TeamID=LTeamID,Delta=LDelta)) %>% \n",
    "    group_by(TeamID) %>% \n",
    "    summarise(DeltaScore=mean(Delta)) -> df.delta "
   ]
  },
  {
   "cell_type": "code",
   "execution_count": 6,
   "metadata": {},
   "outputs": [
    {
     "data": {
      "text/html": [
       "<table>\n",
       "<thead><tr><th></th><th scope=col>vars</th><th scope=col>n</th><th scope=col>mean</th><th scope=col>sd</th><th scope=col>median</th><th scope=col>trimmed</th><th scope=col>mad</th><th scope=col>min</th><th scope=col>max</th><th scope=col>range</th><th scope=col>skew</th><th scope=col>kurtosis</th><th scope=col>se</th></tr></thead>\n",
       "<tbody>\n",
       "\t<tr><th scope=row>TeamID</th><td>1           </td><td>351         </td><td>1283.8091168</td><td>104.038979  </td><td>1283.0000000</td><td>1283.9893238</td><td>133.434000  </td><td>1101.00000  </td><td>1464.00000  </td><td>363.00000   </td><td>-0.008433991</td><td>-1.1955760  </td><td>5.5531899   </td></tr>\n",
       "\t<tr><th scope=row>DeltaScore</th><td>2           </td><td>351         </td><td>  -0.2276406</td><td>  6.325656  </td><td>  -0.3225806</td><td>  -0.2803153</td><td>  6.489962  </td><td> -16.71429  </td><td>  21.14706  </td><td> 37.86134   </td><td> 0.074497540</td><td>-0.1070243  </td><td>0.3376386   </td></tr>\n",
       "</tbody>\n",
       "</table>\n"
      ],
      "text/latex": [
       "\\begin{tabular}{r|lllllllllllll}\n",
       "  & vars & n & mean & sd & median & trimmed & mad & min & max & range & skew & kurtosis & se\\\\\n",
       "\\hline\n",
       "\tTeamID & 1            & 351          & 1283.8091168 & 104.038979   & 1283.0000000 & 1283.9893238 & 133.434000   & 1101.00000   & 1464.00000   & 363.00000    & -0.008433991 & -1.1955760   & 5.5531899   \\\\\n",
       "\tDeltaScore & 2            & 351          &   -0.2276406 &   6.325656   &   -0.3225806 &   -0.2803153 &   6.489962   &  -16.71429   &   21.14706   &  37.86134    &  0.074497540 & -0.1070243   & 0.3376386   \\\\\n",
       "\\end{tabular}\n"
      ],
      "text/markdown": [
       "\n",
       "| <!--/--> | vars | n | mean | sd | median | trimmed | mad | min | max | range | skew | kurtosis | se |\n",
       "|---|---|---|---|---|---|---|---|---|---|---|---|---|---|\n",
       "| TeamID | 1            | 351          | 1283.8091168 | 104.038979   | 1283.0000000 | 1283.9893238 | 133.434000   | 1101.00000   | 1464.00000   | 363.00000    | -0.008433991 | -1.1955760   | 5.5531899    |\n",
       "| DeltaScore | 2            | 351          |   -0.2276406 |   6.325656   |   -0.3225806 |   -0.2803153 |   6.489962   |  -16.71429   |   21.14706   |  37.86134    |  0.074497540 | -0.1070243   | 0.3376386    |\n",
       "\n"
      ],
      "text/plain": [
       "           vars n   mean         sd         median       trimmed     \n",
       "TeamID     1    351 1283.8091168 104.038979 1283.0000000 1283.9893238\n",
       "DeltaScore 2    351   -0.2276406   6.325656   -0.3225806   -0.2803153\n",
       "           mad        min        max        range     skew         kurtosis  \n",
       "TeamID     133.434000 1101.00000 1464.00000 363.00000 -0.008433991 -1.1955760\n",
       "DeltaScore   6.489962  -16.71429   21.14706  37.86134  0.074497540 -0.1070243\n",
       "           se       \n",
       "TeamID     5.5531899\n",
       "DeltaScore 0.3376386"
      ]
     },
     "metadata": {},
     "output_type": "display_data"
    }
   ],
   "source": [
    "describe(df.delta)"
   ]
  },
  {
   "cell_type": "code",
   "execution_count": 7,
   "metadata": {},
   "outputs": [],
   "source": [
    "# compute average delta score for the winners only\n",
    "tmp01 %>% \n",
    "    select(TeamID=WTeamID,Delta=WDelta) %>% \n",
    "    bind_rows(tmp01 %>% \n",
    "              select(TeamID=LTeamID,Delta=LDelta)) %>% \n",
    "    filter(Delta>0) %>% \n",
    "    group_by(TeamID) %>% \n",
    "    summarise(DeltaScore=mean(Delta)) -> df.Wdelta "
   ]
  },
  {
   "cell_type": "code",
   "execution_count": 8,
   "metadata": {
    "scrolled": true
   },
   "outputs": [
    {
     "data": {
      "text/html": [
       "<table>\n",
       "<thead><tr><th></th><th scope=col>vars</th><th scope=col>n</th><th scope=col>mean</th><th scope=col>sd</th><th scope=col>median</th><th scope=col>trimmed</th><th scope=col>mad</th><th scope=col>min</th><th scope=col>max</th><th scope=col>range</th><th scope=col>skew</th><th scope=col>kurtosis</th><th scope=col>se</th></tr></thead>\n",
       "<tbody>\n",
       "\t<tr><th scope=row>TeamID</th><td>1           </td><td>351         </td><td>1283.8091   </td><td>104.038979  </td><td>1283.00000  </td><td>1283.98932  </td><td>133.43400   </td><td>1101.0      </td><td>1464.00000  </td><td>363.00000   </td><td>-0.008433991</td><td>-1.195576   </td><td>5.5531899   </td></tr>\n",
       "\t<tr><th scope=row>DeltaScore</th><td>2           </td><td>351         </td><td>  10.8169   </td><td>  3.285626  </td><td>  10.58333  </td><td>  10.70077  </td><td>  2.89107   </td><td>   2.6      </td><td>  25.86207  </td><td> 23.26207   </td><td> 0.559832334</td><td> 1.344661   </td><td>0.1753737   </td></tr>\n",
       "</tbody>\n",
       "</table>\n"
      ],
      "text/latex": [
       "\\begin{tabular}{r|lllllllllllll}\n",
       "  & vars & n & mean & sd & median & trimmed & mad & min & max & range & skew & kurtosis & se\\\\\n",
       "\\hline\n",
       "\tTeamID & 1            & 351          & 1283.8091    & 104.038979   & 1283.00000   & 1283.98932   & 133.43400    & 1101.0       & 1464.00000   & 363.00000    & -0.008433991 & -1.195576    & 5.5531899   \\\\\n",
       "\tDeltaScore & 2            & 351          &   10.8169    &   3.285626   &   10.58333   &   10.70077   &   2.89107    &    2.6       &   25.86207   &  23.26207    &  0.559832334 &  1.344661    & 0.1753737   \\\\\n",
       "\\end{tabular}\n"
      ],
      "text/markdown": [
       "\n",
       "| <!--/--> | vars | n | mean | sd | median | trimmed | mad | min | max | range | skew | kurtosis | se |\n",
       "|---|---|---|---|---|---|---|---|---|---|---|---|---|---|\n",
       "| TeamID | 1            | 351          | 1283.8091    | 104.038979   | 1283.00000   | 1283.98932   | 133.43400    | 1101.0       | 1464.00000   | 363.00000    | -0.008433991 | -1.195576    | 5.5531899    |\n",
       "| DeltaScore | 2            | 351          |   10.8169    |   3.285626   |   10.58333   |   10.70077   |   2.89107    |    2.6       |   25.86207   |  23.26207    |  0.559832334 |  1.344661    | 0.1753737    |\n",
       "\n"
      ],
      "text/plain": [
       "           vars n   mean      sd         median     trimmed    mad       min   \n",
       "TeamID     1    351 1283.8091 104.038979 1283.00000 1283.98932 133.43400 1101.0\n",
       "DeltaScore 2    351   10.8169   3.285626   10.58333   10.70077   2.89107    2.6\n",
       "           max        range     skew         kurtosis  se       \n",
       "TeamID     1464.00000 363.00000 -0.008433991 -1.195576 5.5531899\n",
       "DeltaScore   25.86207  23.26207  0.559832334  1.344661 0.1753737"
      ]
     },
     "metadata": {},
     "output_type": "display_data"
    }
   ],
   "source": [
    "describe(df.Wdelta)"
   ]
  },
  {
   "cell_type": "code",
   "execution_count": 9,
   "metadata": {},
   "outputs": [
    {
     "data": {
      "text/html": [
       "7.531274"
      ],
      "text/latex": [
       "7.531274"
      ],
      "text/markdown": [
       "7.531274"
      ],
      "text/plain": [
       "[1] 7.531274"
      ]
     },
     "metadata": {},
     "output_type": "display_data"
    }
   ],
   "source": [
    "# mean - sigma = threshold\n",
    "threshold = 10.8169 - 3.285626\n",
    "threshold"
   ]
  },
  {
   "cell_type": "code",
   "execution_count": 10,
   "metadata": {},
   "outputs": [
    {
     "data": {
      "text/html": [
       "0.398338979567069"
      ],
      "text/latex": [
       "0.398338979567069"
      ],
      "text/markdown": [
       "0.398338979567069"
      ],
      "text/plain": [
       "[1] 0.398339"
      ]
     },
     "metadata": {},
     "output_type": "display_data"
    }
   ],
   "source": [
    "# compute slope of sigmoid\n",
    "slope = 3 / threshold\n",
    "slope"
   ]
  },
  {
   "cell_type": "code",
   "execution_count": 11,
   "metadata": {},
   "outputs": [
    {
     "data": {
      "text/html": [
       "0.952574126822433"
      ],
      "text/latex": [
       "0.952574126822433"
      ],
      "text/markdown": [
       "0.952574126822433"
      ],
      "text/plain": [
       "[1] 0.9525741"
      ]
     },
     "metadata": {},
     "output_type": "display_data"
    },
    {
     "data": {
      "text/html": [
       "0.952574126822433"
      ],
      "text/latex": [
       "0.952574126822433"
      ],
      "text/markdown": [
       "0.952574126822433"
      ],
      "text/plain": [
       "[1] 0.9525741"
      ]
     },
     "metadata": {},
     "output_type": "display_data"
    }
   ],
   "source": [
    "# 95% proba is now for delta = threshold instead of 3\n",
    "logistic(3)\n",
    "logistic(threshold,a=slope)"
   ]
  },
  {
   "cell_type": "code",
   "execution_count": 12,
   "metadata": {},
   "outputs": [
    {
     "data": {
      "text/html": [
       "<table>\n",
       "<thead><tr><th scope=col>TeamID.x</th><th scope=col>DeltaScore.x</th><th scope=col>Season</th><th scope=col>TeamID.y</th><th scope=col>DeltaScore.y</th></tr></thead>\n",
       "<tbody>\n",
       "\t<tr><td>1264     </td><td> 7.375000</td><td>2014     </td><td>1361     </td><td>10.516129</td></tr>\n",
       "\t<tr><td>1174     </td><td> 4.382353</td><td>2014     </td><td>1444     </td><td> 4.064516</td></tr>\n",
       "\t<tr><td>1276     </td><td> 9.030303</td><td>2014     </td><td>1295     </td><td> 7.285714</td></tr>\n",
       "\t<tr><td>1243     </td><td> 4.000000</td><td>2014     </td><td>1386     </td><td> 4.333333</td></tr>\n",
       "\t<tr><td>1438     </td><td>10.647059</td><td>2014     </td><td>1444     </td><td> 4.064516</td></tr>\n",
       "</tbody>\n",
       "</table>\n"
      ],
      "text/latex": [
       "\\begin{tabular}{r|lllll}\n",
       " TeamID.x & DeltaScore.x & Season & TeamID.y & DeltaScore.y\\\\\n",
       "\\hline\n",
       "\t 1264      &  7.375000 & 2014      & 1361      & 10.516129\\\\\n",
       "\t 1174      &  4.382353 & 2014      & 1444      &  4.064516\\\\\n",
       "\t 1276      &  9.030303 & 2014      & 1295      &  7.285714\\\\\n",
       "\t 1243      &  4.000000 & 2014      & 1386      &  4.333333\\\\\n",
       "\t 1438      & 10.647059 & 2014      & 1444      &  4.064516\\\\\n",
       "\\end{tabular}\n"
      ],
      "text/markdown": [
       "\n",
       "| TeamID.x | DeltaScore.x | Season | TeamID.y | DeltaScore.y |\n",
       "|---|---|---|---|---|\n",
       "| 1264      |  7.375000 | 2014      | 1361      | 10.516129 |\n",
       "| 1174      |  4.382353 | 2014      | 1444      |  4.064516 |\n",
       "| 1276      |  9.030303 | 2014      | 1295      |  7.285714 |\n",
       "| 1243      |  4.000000 | 2014      | 1386      |  4.333333 |\n",
       "| 1438      | 10.647059 | 2014      | 1444      |  4.064516 |\n",
       "\n"
      ],
      "text/plain": [
       "  TeamID.x DeltaScore.x Season TeamID.y DeltaScore.y\n",
       "1 1264      7.375000    2014   1361     10.516129   \n",
       "2 1174      4.382353    2014   1444      4.064516   \n",
       "3 1276      9.030303    2014   1295      7.285714   \n",
       "4 1243      4.000000    2014   1386      4.333333   \n",
       "5 1438     10.647059    2014   1444      4.064516   "
      ]
     },
     "metadata": {},
     "output_type": "display_data"
    }
   ],
   "source": [
    "# matchups dataframe\n",
    "df.delta %>% \n",
    "    semi_join(df.teams2014,by='TeamID') %>% \n",
    "    mutate(Season=2014) -> tmp01\n",
    "tmp01 %>% \n",
    "    inner_join(tmp01,by='Season') %>% \n",
    "    filter(TeamID.x < TeamID.y) -> df.matchup\n",
    "df.matchup %>% sample_n(5)"
   ]
  },
  {
   "cell_type": "code",
   "execution_count": 13,
   "metadata": {},
   "outputs": [
    {
     "data": {
      "text/html": [
       "<table>\n",
       "<thead><tr><th scope=col>ID</th><th scope=col>Pred</th><th scope=col>Prob</th></tr></thead>\n",
       "<tbody>\n",
       "\t<tr><td>2014_1397_1458</td><td>1             </td><td>0.51546088    </td></tr>\n",
       "\t<tr><td>2014_1217_1433</td><td>1             </td><td>0.69099131    </td></tr>\n",
       "\t<tr><td>2014_1217_1372</td><td>0             </td><td>0.43381620    </td></tr>\n",
       "\t<tr><td>2014_1140_1243</td><td>1             </td><td>0.74311786    </td></tr>\n",
       "\t<tr><td>2014_1174_1326</td><td>0             </td><td>0.09539747    </td></tr>\n",
       "</tbody>\n",
       "</table>\n"
      ],
      "text/latex": [
       "\\begin{tabular}{r|lll}\n",
       " ID & Pred & Prob\\\\\n",
       "\\hline\n",
       "\t 2014\\_1397\\_1458 & 1                  & 0.51546088        \\\\\n",
       "\t 2014\\_1217\\_1433 & 1                  & 0.69099131        \\\\\n",
       "\t 2014\\_1217\\_1372 & 0                  & 0.43381620        \\\\\n",
       "\t 2014\\_1140\\_1243 & 1                  & 0.74311786        \\\\\n",
       "\t 2014\\_1174\\_1326 & 0                  & 0.09539747        \\\\\n",
       "\\end{tabular}\n"
      ],
      "text/markdown": [
       "\n",
       "| ID | Pred | Prob |\n",
       "|---|---|---|\n",
       "| 2014_1397_1458 | 1              | 0.51546088     |\n",
       "| 2014_1217_1433 | 1              | 0.69099131     |\n",
       "| 2014_1217_1372 | 0              | 0.43381620     |\n",
       "| 2014_1140_1243 | 1              | 0.74311786     |\n",
       "| 2014_1174_1326 | 0              | 0.09539747     |\n",
       "\n"
      ],
      "text/plain": [
       "  ID             Pred Prob      \n",
       "1 2014_1397_1458 1    0.51546088\n",
       "2 2014_1217_1433 1    0.69099131\n",
       "3 2014_1217_1372 0    0.43381620\n",
       "4 2014_1140_1243 1    0.74311786\n",
       "5 2014_1174_1326 0    0.09539747"
      ]
     },
     "metadata": {},
     "output_type": "display_data"
    }
   ],
   "source": [
    "# machups predictions\n",
    "df.matchup %>% \n",
    "    mutate(ID=str_c(Season,'_',TeamID.x,'_',TeamID.y)) %>% \n",
    "    mutate(Prob=logistic(DeltaScore.x-DeltaScore.y,a=slope)) %>% \n",
    "    mutate(Pred=ifelse(Prob>0.5,1,0)) %>% \n",
    "    select(ID,Pred,Prob) -> df.submit\n",
    "df.submit %>% sample_n(5)"
   ]
  },
  {
   "cell_type": "code",
   "execution_count": 14,
   "metadata": {},
   "outputs": [
    {
     "data": {
      "text/html": [
       "<table>\n",
       "<thead><tr><th scope=col>ID</th><th scope=col>Target</th></tr></thead>\n",
       "<tbody>\n",
       "\t<tr><td>2014_1235_1314</td><td>1             </td></tr>\n",
       "\t<tr><td>2014_1142_1411</td><td>1             </td></tr>\n",
       "\t<tr><td>2014_1301_1387</td><td>0             </td></tr>\n",
       "\t<tr><td>2014_1174_1277</td><td>0             </td></tr>\n",
       "\t<tr><td>2014_1217_1277</td><td>0             </td></tr>\n",
       "</tbody>\n",
       "</table>\n"
      ],
      "text/latex": [
       "\\begin{tabular}{r|ll}\n",
       " ID & Target\\\\\n",
       "\\hline\n",
       "\t 2014\\_1235\\_1314 & 1                 \\\\\n",
       "\t 2014\\_1142\\_1411 & 1                 \\\\\n",
       "\t 2014\\_1301\\_1387 & 0                 \\\\\n",
       "\t 2014\\_1174\\_1277 & 0                 \\\\\n",
       "\t 2014\\_1217\\_1277 & 0                 \\\\\n",
       "\\end{tabular}\n"
      ],
      "text/markdown": [
       "\n",
       "| ID | Target |\n",
       "|---|---|\n",
       "| 2014_1235_1314 | 1              |\n",
       "| 2014_1142_1411 | 1              |\n",
       "| 2014_1301_1387 | 0              |\n",
       "| 2014_1174_1277 | 0              |\n",
       "| 2014_1217_1277 | 0              |\n",
       "\n"
      ],
      "text/plain": [
       "  ID             Target\n",
       "1 2014_1235_1314 1     \n",
       "2 2014_1142_1411 1     \n",
       "3 2014_1301_1387 0     \n",
       "4 2014_1174_1277 0     \n",
       "5 2014_1217_1277 0     "
      ]
     },
     "metadata": {},
     "output_type": "display_data"
    }
   ],
   "source": [
    "# compute the Truth \n",
    "data.tou2014 %>% \n",
    "    select(Season,WTeamID,LTeamID) %>% \n",
    "    mutate(TeamID.1=ifelse(WTeamID<LTeamID,WTeamID,LTeamID),\n",
    "           TeamID.2=ifelse(WTeamID>LTeamID,WTeamID,LTeamID)) %>%\n",
    "    mutate(ID=str_c(Season,'_',TeamID.1,'_',TeamID.2)) %>% \n",
    "    mutate(Target=ifelse(WTeamID==TeamID.1,1,0)) %>% \n",
    "    select(ID,Target) -> df.truth\n",
    "df.truth %>% sample_n(5)"
   ]
  },
  {
   "cell_type": "code",
   "execution_count": 15,
   "metadata": {},
   "outputs": [],
   "source": [
    "# merge prediction and truth\n",
    "df.truth %>% inner_join(df.submit,by='ID') -> results"
   ]
  },
  {
   "cell_type": "code",
   "execution_count": 16,
   "metadata": {},
   "outputs": [
    {
     "data": {
      "text/plain": [
       "   \n",
       "     0  1\n",
       "  0 20  9\n",
       "  1 15 23"
      ]
     },
     "metadata": {},
     "output_type": "display_data"
    },
    {
     "data": {
      "text/html": [
       "0.641791044776119"
      ],
      "text/latex": [
       "0.641791044776119"
      ],
      "text/markdown": [
       "0.641791044776119"
      ],
      "text/plain": [
       "[1] 0.641791"
      ]
     },
     "metadata": {},
     "output_type": "display_data"
    }
   ],
   "source": [
    "# confusion matrix\n",
    "cm <- table(results$Target,results$Pred)\n",
    "cm\n",
    "perf <- (cm[1,1]+cm[2,2]) / nrow(results)\n",
    "perf"
   ]
  },
  {
   "cell_type": "code",
   "execution_count": 17,
   "metadata": {},
   "outputs": [
    {
     "data": {
      "text/html": [
       "<table>\n",
       "<thead><tr><th scope=col>ModelLogLoss</th></tr></thead>\n",
       "<tbody>\n",
       "\t<tr><td>0.7277268</td></tr>\n",
       "</tbody>\n",
       "</table>\n"
      ],
      "text/latex": [
       "\\begin{tabular}{r|l}\n",
       " ModelLogLoss\\\\\n",
       "\\hline\n",
       "\t 0.7277268\\\\\n",
       "\\end{tabular}\n"
      ],
      "text/markdown": [
       "\n",
       "| ModelLogLoss |\n",
       "|---|\n",
       "| 0.7277268 |\n",
       "\n"
      ],
      "text/plain": [
       "  ModelLogLoss\n",
       "1 0.7277268   "
      ]
     },
     "metadata": {},
     "output_type": "display_data"
    },
    {
     "data": {
      "text/html": [
       "<table>\n",
       "<thead><tr><th scope=col>BaseLogLoss</th></tr></thead>\n",
       "<tbody>\n",
       "\t<tr><td>0.6931472</td></tr>\n",
       "</tbody>\n",
       "</table>\n"
      ],
      "text/latex": [
       "\\begin{tabular}{r|l}\n",
       " BaseLogLoss\\\\\n",
       "\\hline\n",
       "\t 0.6931472\\\\\n",
       "\\end{tabular}\n"
      ],
      "text/markdown": [
       "\n",
       "| BaseLogLoss |\n",
       "|---|\n",
       "| 0.6931472 |\n",
       "\n"
      ],
      "text/plain": [
       "  BaseLogLoss\n",
       "1 0.6931472  "
      ]
     },
     "metadata": {},
     "output_type": "display_data"
    }
   ],
   "source": [
    "# logloss (kaggle metric)\n",
    "results %>% \n",
    "    mutate(LogLoss=Target*log(Prob) + (1-Target)*log(1-Prob)) %>% \n",
    "    summarise(ModelLogLoss = -mean(LogLoss))\n",
    "\n",
    "# Baseline \n",
    "results %>% \n",
    "    mutate(LogLoss=Target*log(0.5) + (1-Target)*log(0.5)) %>% \n",
    "    summarise(BaseLogLoss = -mean(LogLoss))"
   ]
  },
  {
   "cell_type": "code",
   "execution_count": null,
   "metadata": {},
   "outputs": [],
   "source": []
  },
  {
   "cell_type": "markdown",
   "metadata": {},
   "source": [
    "$$f(x) = \\frac{L}{1+e^{-k(x-x_0)}} + C$$"
   ]
  },
  {
   "cell_type": "code",
   "execution_count": 18,
   "metadata": {},
   "outputs": [
    {
     "data": {
      "image/png": "[encoded data removed]",
      "text/plain": [
       "plot without title"
      ]
     },
     "metadata": {},
     "output_type": "display_data"
    }
   ],
   "source": [
    "options(repr.plot.width=5, repr.plot.height=3)\n",
    "ggplot(data.frame(x=c(-5, 6)), aes(x)) + \n",
    "    stat_function(fun=function(x) logistic(x)) + \n",
    "    stat_function(fun=function(x) logistic(x,d=1), color='blue') +\n",
    "    stat_function(fun=function(x) logistic(x,a=2), color='green') +\n",
    "    stat_function(fun=function(x) logistic(x,a=0.5), color='brown') +\n",
    "    stat_function(fun=function(x) logistic(x,c=0.25,z=0.75), color='red')"
   ]
  },
  {
   "cell_type": "code",
   "execution_count": 19,
   "metadata": {},
   "outputs": [
    {
     "data": {
      "image/png": "[encoded data removed]",
      "text/plain": [
       "plot without title"
      ]
     },
     "metadata": {},
     "output_type": "display_data"
    }
   ],
   "source": [
    "ggplot(data.frame(x=c(-10, 10)), aes(x)) + \n",
    "    stat_function(fun=function(x) logistic(x)) + \n",
    "    stat_function(fun=function(x) logistic(x,a=0.5), color='brown')"
   ]
  },
  {
   "cell_type": "code",
   "execution_count": null,
   "metadata": {},
   "outputs": [],
   "source": []
  },
  {
   "cell_type": "code",
   "execution_count": null,
   "metadata": {},
   "outputs": [],
   "source": []
  }
 ],
 "metadata": {
  "kernelspec": {
   "display_name": "R 3.5.0",
   "language": "R",
   "name": "ir35"
  },
  "language_info": {
   "codemirror_mode": "r",
   "file_extension": ".r",
   "mimetype": "text/x-r-source",
   "name": "R",
   "pygments_lexer": "r",
   "version": "3.5.1"
  }
 },
 "nbformat": 4,
 "nbformat_minor": 2
}
